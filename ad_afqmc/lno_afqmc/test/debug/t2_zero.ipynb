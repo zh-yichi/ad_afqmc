{
 "cells": [
  {
   "cell_type": "code",
   "execution_count": 113,
   "id": "47a47fec",
   "metadata": {},
   "outputs": [
    {
     "name": "stdout",
     "output_type": "stream",
     "text": [
      "System: uname_result(system='Linux', node='yichi-thinkpad', release='4.4.0-26100-Microsoft', version='#5074-Microsoft Fri Jan 01 08:00:00 PST 2016', machine='x86_64')  Threads 12\n",
      "Python 3.10.16 | packaged by conda-forge | (main, Dec  5 2024, 14:16:10) [GCC 13.3.0]\n",
      "numpy 1.24.3  scipy 1.14.1  h5py 3.12.1\n",
      "Date: Thu Oct  2 19:21:41 2025\n",
      "PySCF version 2.8.0\n",
      "PySCF path  /home/yichi/research/software/lno_pyscf\n",
      "GIT HEAD (branch master) ef75f4190e4de208685670651dc6c467f72b6794\n",
      "\n",
      "[ENV] PYSCF_EXT_PATH /home/yichi/research/software/pyscf\n",
      "[CONFIG] conf_file None\n",
      "[INPUT] verbose = 4\n",
      "[INPUT] num. atoms = 10\n",
      "[INPUT] num. electrons = 10\n",
      "[INPUT] charge = 0\n",
      "[INPUT] spin (= nelec alpha-beta = 2S) = 0\n",
      "[INPUT] symmetry False subgroup None\n",
      "[INPUT] Mole.unit = angstrom\n",
      "[INPUT] Symbol           X                Y                Z      unit          X                Y                Z       unit  Magmom\n",
      "[INPUT]  1 H      0.000000000000   0.000000000000   0.000000000000 AA    0.000000000000   0.000000000000   0.000000000000 Bohr   0.0\n",
      "[INPUT]  2 H      1.500000000000   0.000000000000   0.000000000000 AA    2.834589186848   0.000000000000   0.000000000000 Bohr   0.0\n",
      "[INPUT]  3 H      3.000000000000   0.000000000000   0.000000000000 AA    5.669178373695   0.000000000000   0.000000000000 Bohr   0.0\n",
      "[INPUT]  4 H      4.500000000000   0.000000000000   0.000000000000 AA    8.503767560543   0.000000000000   0.000000000000 Bohr   0.0\n",
      "[INPUT]  5 H      6.000000000000   0.000000000000   0.000000000000 AA   11.338356747390   0.000000000000   0.000000000000 Bohr   0.0\n",
      "[INPUT]  6 H      7.500000000000   0.000000000000   0.000000000000 AA   14.172945934238   0.000000000000   0.000000000000 Bohr   0.0\n",
      "[INPUT]  7 H      9.000000000000   0.000000000000   0.000000000000 AA   17.007535121086   0.000000000000   0.000000000000 Bohr   0.0\n",
      "[INPUT]  8 H     10.500000000000   0.000000000000   0.000000000000 AA   19.842124307933   0.000000000000   0.000000000000 Bohr   0.0\n",
      "[INPUT]  9 H     12.000000000000   0.000000000000   0.000000000000 AA   22.676713494781   0.000000000000   0.000000000000 Bohr   0.0\n",
      "[INPUT] 10 H     13.500000000000   0.000000000000   0.000000000000 AA   25.511302681628   0.000000000000   0.000000000000 Bohr   0.0\n",
      "\n",
      "nuclear repulsion = 6.80510693725429\n",
      "number of shells = 10\n",
      "number of NR pGTOs = 30\n",
      "number of NR cGTOs = 10\n",
      "basis = sto3g\n",
      "ecp = {}\n",
      "CPU time:        82.75\n",
      "\n",
      "\n",
      "******** <class 'pyscf.df.df_jk.DFRHF'> ********\n",
      "method = DFRHF\n",
      "initial guess = minao\n",
      "damping factor = 0\n",
      "level_shift factor = 0\n",
      "DIIS = <class 'pyscf.scf.diis.CDIIS'>\n",
      "diis_start_cycle = 1\n",
      "diis_space = 8\n",
      "diis_damp = 0\n",
      "SCF conv_tol = 1e-09\n",
      "SCF conv_tol_grad = None\n",
      "SCF max_cycles = 50\n",
      "direct_scf = False\n",
      "chkfile to save SCF result = /tmp/tmp1272l604\n",
      "max_memory 4000 MB (current use 61 MB)\n",
      "Set gradient conv threshold to 3.16228e-05\n",
      "Initial guess from minao.\n",
      "******** <class 'pyscf.df.df.DF'> ********\n",
      "auxbasis = None\n",
      "max_memory = 4000\n",
      "Default auxbasis def2-svp-jkfit is used for H sto3g\n",
      "init E= -3.16584981953378\n",
      "  HOMO = -0.142804060217165  LUMO = -0.0403431982960247\n",
      "cycle= 1 E= -4.57663181289014  delta_E= -1.41  |g|= 0.0828  |ddm|=  2.3\n",
      "  HOMO = -0.213537413100669  LUMO = 0.0244972721524169\n",
      "cycle= 2 E= -4.58905105799568  delta_E= -0.0124  |g|= 0.0473  |ddm|= 0.296\n",
      "  HOMO = -0.236035805014751  LUMO = 0.0485549017663118\n",
      "cycle= 3 E= -4.59429439115235  delta_E= -0.00524  |g|= 0.00553  |ddm|= 0.325\n",
      "  HOMO = -0.235466863156525  LUMO = 0.0469491975081402\n",
      "cycle= 4 E= -4.59432590989167  delta_E= -3.15e-05  |g|= 0.00204  |ddm|= 0.0145\n",
      "  HOMO = -0.235406675377647  LUMO = 0.0471143779491317\n",
      "cycle= 5 E= -4.59432990446595  delta_E= -3.99e-06  |g|= 0.000531  |ddm|= 0.00592\n",
      "  HOMO = -0.235780665329266  LUMO = 0.0475705314318824\n",
      "cycle= 6 E= -4.59433050929346  delta_E= -6.05e-07  |g|= 8.33e-05  |ddm|= 0.00377\n",
      "  HOMO = -0.235762502756496  LUMO = 0.0475159423310846\n",
      "cycle= 7 E= -4.59433051862076  delta_E= -9.33e-09  |g|= 1.75e-05  |ddm|= 0.000297\n",
      "  HOMO = -0.235744461935373  LUMO = 0.0475011631125545\n",
      "cycle= 8 E= -4.59433051923511  delta_E= -6.14e-10  |g|= 2.64e-06  |ddm|= 0.00013\n",
      "  HOMO = -0.235746147074912  LUMO = 0.0475026033900662\n",
      "Extra cycle  E= -4.59433051924648  delta_E= -1.14e-11  |g|= 1.37e-06  |ddm|= 8.81e-06\n",
      "converged SCF energy = -4.59433051924648\n",
      "\n",
      "******** <class 'pyscf.cc.dfccsd.RCCSD'> ********\n",
      "CC2 = 0\n",
      "CCSD nocc = 5, nmo = 10\n",
      "max_cycle = 50\n",
      "direct = 0\n",
      "conv_tol = 1e-07\n",
      "conv_tol_normt = 1e-05\n",
      "diis_space = 6\n",
      "diis_start_cycle = 0\n",
      "diis_start_energy_diff = 1e+09\n",
      "max_memory 4000 MB (current use 77 MB)\n",
      "Init t2, MP2 energy = -4.80163537655358  E_corr(MP2) -0.207304857307104\n",
      "Init E_corr(RCCSD) = -0.207304857309154\n",
      "cycle = 1  E_corr(RCCSD) = -0.295323435158216  dE = -0.0880185778  norm(t1,t2) = 0.17418\n",
      "cycle = 2  E_corr(RCCSD) = -0.342839168495474  dE = -0.0475157333  norm(t1,t2) = 0.108201\n",
      "cycle = 3  E_corr(RCCSD) = -0.384787565929319  dE = -0.0419483974  norm(t1,t2) = 0.0582421\n",
      "cycle = 4  E_corr(RCCSD) = -0.396854071943874  dE = -0.012066506  norm(t1,t2) = 0.0343057\n",
      "cycle = 5  E_corr(RCCSD) = -0.40104239372913  dE = -0.00418832179  norm(t1,t2) = 0.0225774\n",
      "cycle = 6  E_corr(RCCSD) = -0.406241538143267  dE = -0.00519914441  norm(t1,t2) = 0.0185765\n",
      "cycle = 7  E_corr(RCCSD) = -0.41527879528949  dE = -0.00903725715  norm(t1,t2) = 0.0139448\n",
      "cycle = 8  E_corr(RCCSD) = -0.415495095867647  dE = -0.000216300578  norm(t1,t2) = 0.00832939\n",
      "cycle = 9  E_corr(RCCSD) = -0.417351611017357  dE = -0.00185651515  norm(t1,t2) = 0.00637595\n",
      "cycle = 10  E_corr(RCCSD) = -0.419284397654411  dE = -0.00193278664  norm(t1,t2) = 0.00411076\n",
      "cycle = 11  E_corr(RCCSD) = -0.420556191205672  dE = -0.00127179355  norm(t1,t2) = 0.0023429\n",
      "cycle = 12  E_corr(RCCSD) = -0.42203248926415  dE = -0.00147629806  norm(t1,t2) = 0.00148053\n",
      "cycle = 13  E_corr(RCCSD) = -0.422611230724932  dE = -0.000578741461  norm(t1,t2) = 0.000627356\n",
      "cycle = 14  E_corr(RCCSD) = -0.422658430756313  dE = -4.72000314e-05  norm(t1,t2) = 0.000299991\n",
      "cycle = 15  E_corr(RCCSD) = -0.422632619869156  dE = 2.58108872e-05  norm(t1,t2) = 0.000174046\n",
      "cycle = 16  E_corr(RCCSD) = -0.422610021898302  dE = 2.25979709e-05  norm(t1,t2) = 0.000107288\n",
      "cycle = 17  E_corr(RCCSD) = -0.422603106023544  dE = 6.91587476e-06  norm(t1,t2) = 5.37356e-05\n",
      "cycle = 18  E_corr(RCCSD) = -0.422593926508194  dE = 9.17951535e-06  norm(t1,t2) = 3.02186e-05\n",
      "cycle = 19  E_corr(RCCSD) = -0.422596250140897  dE = -2.3236327e-06  norm(t1,t2) = 1.87978e-05\n",
      "cycle = 20  E_corr(RCCSD) = -0.422598294013878  dE = -2.04387298e-06  norm(t1,t2) = 9.24411e-06\n",
      "cycle = 21  E_corr(RCCSD) = -0.42260121869122  dE = -2.92467734e-06  norm(t1,t2) = 7.20644e-06\n",
      "cycle = 22  E_corr(RCCSD) = -0.422605411423219  dE = -4.192732e-06  norm(t1,t2) = 5.7207e-06\n",
      "cycle = 23  E_corr(RCCSD) = -0.422607548193603  dE = -2.13677038e-06  norm(t1,t2) = 3.64639e-06\n",
      "cycle = 24  E_corr(RCCSD) = -0.422610030447858  dE = -2.48225425e-06  norm(t1,t2) = 2.64739e-06\n",
      "cycle = 25  E_corr(RCCSD) = -0.422611116096958  dE = -1.0856491e-06  norm(t1,t2) = 1.32721e-06\n",
      "cycle = 26  E_corr(RCCSD) = -0.422610886734809  dE = 2.29362149e-07  norm(t1,t2) = 6.52011e-07\n",
      "cycle = 27  E_corr(RCCSD) = -0.422610712883926  dE = 1.73850883e-07  norm(t1,t2) = 3.68068e-07\n",
      "cycle = 28  E_corr(RCCSD) = -0.422610735836431  dE = -2.29525057e-08  norm(t1,t2) = 2.25238e-07\n",
      "RCCSD converged\n",
      "E(RCCSD) = -5.016941255082907  E_corr = -0.4226107358364315\n"
     ]
    }
   ],
   "source": [
    "from functools import partial\n",
    "from pyscf import gto, scf, cc\n",
    "import numpy as np\n",
    "from jax import numpy as jnp\n",
    "from jax import vmap\n",
    "\n",
    "from jax import config\n",
    "config.update(\"jax_enable_x64\", True)\n",
    "\n",
    "print = partial(print, flush=True)\n",
    "\n",
    "a = 1.5 # 2aB\n",
    "nH = 10\n",
    "atoms = \"\"\n",
    "for i in range(nH):\n",
    "    atoms += f\"H {i*a:.5f} 0.00000 0.00000 \\n\"\n",
    "\n",
    "mol = gto.M(atom=atoms, basis=\"sto3g\", verbose=4)\n",
    "mol.build()\n",
    "\n",
    "mf = scf.RHF(mol).density_fit()\n",
    "e = mf.kernel()\n",
    "\n",
    "mycc = cc.CCSD(mf)\n",
    "e = mycc.kernel()"
   ]
  },
  {
   "cell_type": "code",
   "execution_count": null,
   "id": "9214a254",
   "metadata": {},
   "outputs": [],
   "source": [
    "# def thouless_trans(t1):\n",
    "#     # U, s, V = np.linalg.svd(t1.T)\n",
    "#     # S = np.zeros_like(t1.T, dtype=float)\n",
    "#     # np.fill_diagonal(S, s)\n",
    "#     # u_ai = U@S\n",
    "#     # u_ji = V.T\n",
    "#     Q, R = np.linalg.qr(t1)\n",
    "#     u_ai = R.T\n",
    "#     u_ji = Q\n",
    "#     u = np.vstack((u_ji,u_ai))\n",
    "#     return u"
   ]
  },
  {
   "cell_type": "code",
   "execution_count": 114,
   "id": "7fb0f90d",
   "metadata": {},
   "outputs": [],
   "source": [
    "options = {'n_eql': 4,\n",
    "           'n_prop_steps': 10,\n",
    "            'n_ene_blocks': 1,\n",
    "            'n_sr_blocks': 10,\n",
    "            'n_blocks': 10,\n",
    "            'n_walkers': 1,\n",
    "            'seed': 2,\n",
    "            'walker_type': 'rhf',\n",
    "            'trial': 'rhf',\n",
    "            'dt':0.005,\n",
    "            'free_projection':False,\n",
    "            'ad_mode':None,\n",
    "            'use_gpu': False,\n",
    "            }"
   ]
  },
  {
   "cell_type": "code",
   "execution_count": 148,
   "id": "925d0a41",
   "metadata": {},
   "outputs": [],
   "source": [
    "def thouless_trans(t1):\n",
    "    q, r = np.linalg.qr(t1)\n",
    "    u_ai = r.T\n",
    "    u_ji = q\n",
    "    u_occ = np.vstack((u_ji,u_ai))\n",
    "    u, _, _ = np.linalg.svd(u_occ)\n",
    "    return u\n",
    "u = thouless_trans(10*mycc.t1)\n",
    "mo_t = mf.mo_coeff @ u\n",
    "mf.mo_coeff = mo_t"
   ]
  },
  {
   "cell_type": "code",
   "execution_count": 149,
   "id": "f600c650",
   "metadata": {},
   "outputs": [
    {
     "name": "stdout",
     "output_type": "stream",
     "text": [
      "-4.594488769302737 -0.0004128755147767654\n"
     ]
    }
   ],
   "source": [
    "t2_0 = np.zeros(mycc.t2.shape)\n",
    "eris = mycc.ao2mo(mycc.mo_coeff)\n",
    "eccsd = mycc.energy(10*mycc.t1, t2_0, eris)\n",
    "ecc_t2_0 = eccsd+mf.e_tot\n",
    "print(ecc_t2_0,eccsd)"
   ]
  },
  {
   "cell_type": "code",
   "execution_count": 115,
   "id": "c30feebb",
   "metadata": {},
   "outputs": [],
   "source": [
    "from jax import numpy as jnp\n",
    "from jax import vmap\n",
    "def walker_rhf_energy1(walker, ham_data, trial_mo):\n",
    "    h0, rot_h1, rot_chol = ham_data[\"h0\"], ham_data[\"rot_h1\"], ham_data[\"rot_chol\"]\n",
    "    ene0 = h0\n",
    "    green_walker = (walker.dot(jnp.linalg.inv(trial_mo.T.conj() @ walker))).T\n",
    "    ene1 = 2.0 * jnp.sum(green_walker * rot_h1)\n",
    "    f = jnp.einsum(\"gij,jk->gik\", rot_chol, green_walker.T, optimize=\"optimal\")\n",
    "    c = vmap(jnp.trace)(f)\n",
    "    exc = jnp.sum(vmap(lambda x: x * x.T)(f))\n",
    "    ene2 = 2.0 * jnp.sum(c * c) - exc\n",
    "    return ene0+ene1+ene2\n",
    "\n",
    "# def walker_rhf_energy2(walker, ham_data, trial_mo):\n",
    "#     h0, h1, chol = ham_data[\"h0\"], ham_data[\"h1\"][0], ham_data[\"chol\"]\n",
    "#     chol = chol.reshape((-1, h1.shape[-1], h1.shape[-1]))\n",
    "#     nocc = trial_mo.shape[1]\n",
    "#     ene0 = h0\n",
    "#     gf = (walker @ (jnp.linalg.inv(trial_mo.T.conj() @ walker)) @ trial_mo.T.conj())\n",
    "#     ene1 = 2.0 * jnp.einsum('ia,ia->',gf[:nocc,nocc:],h1[:nocc,nocc:])\n",
    "#     f = jnp.einsum(\"gij,jk->gik\", chol[:,:nocc,:nocc], gf[:nocc,:nocc], optimize=\"optimal\")\n",
    "#     c = vmap(jnp.trace)(f)\n",
    "#     exc = jnp.sum(vmap(lambda x: x * x.T)(f))\n",
    "#     ene2 = 2.0 * jnp.sum(c * c) - exc\n",
    "#     return ene0+ene1+ene2\n",
    "\n",
    "def rhf_olp(rhf1,rhf2):\n",
    "    '''<rhf1|rhf2>'''\n",
    "    olp = jnp.linalg.det(rhf1.T.conj() @ rhf2) ** 2\n",
    "    return olp"
   ]
  },
  {
   "cell_type": "code",
   "execution_count": null,
   "id": "25f3a4f2",
   "metadata": {},
   "outputs": [
    {
     "name": "stdout",
     "output_type": "stream",
     "text": [
      "[[-1.39494247e+00 -1.52655666e-16  1.18481321e-01  4.44089210e-16]\n",
      " [-7.45931095e-17 -1.23539794e+00  0.00000000e+00 -9.29652546e-02]\n",
      " [ 1.18481321e-01  5.55111512e-17 -1.09350707e+00  1.52655666e-16]\n",
      " [ 1.66533454e-16 -9.29652546e-02  3.81639165e-16 -1.00930479e+00]]\n"
     ]
    }
   ],
   "source": [
    "# hcore = mf.get_hcore()\n",
    "# mo = mf.mo_coeff\n",
    "# # h1e_mo = np.dot(mo.T,np.dot( hcore, mo))\n",
    "# h1e_mo = mo.T @ hcore @ mo\n",
    "# print(h1e_mo)"
   ]
  },
  {
   "cell_type": "code",
   "execution_count": null,
   "id": "4a26f4e2",
   "metadata": {},
   "outputs": [
    {
     "data": {
      "text/plain": [
       "Array([[[ 0.00000000e+00,  3.90312782e-17,  2.77555756e-17,\n",
       "         -1.38777878e-16],\n",
       "        [-3.90312782e-17,  0.00000000e+00,  2.77555756e-17,\n",
       "          4.16333634e-17],\n",
       "        [-2.77555756e-17, -2.77555756e-17,  0.00000000e+00,\n",
       "          1.14491749e-16],\n",
       "        [ 1.38777878e-16, -4.16333634e-17, -1.14491749e-16,\n",
       "          0.00000000e+00]],\n",
       "\n",
       "       [[ 0.00000000e+00,  3.90312782e-17,  2.77555756e-17,\n",
       "         -1.38777878e-16],\n",
       "        [-3.90312782e-17,  0.00000000e+00,  2.77555756e-17,\n",
       "          4.16333634e-17],\n",
       "        [-2.77555756e-17, -2.77555756e-17,  0.00000000e+00,\n",
       "          1.14491749e-16],\n",
       "        [ 1.38777878e-16, -4.16333634e-17, -1.14491749e-16,\n",
       "          0.00000000e+00]]], dtype=float64)"
      ]
     },
     "execution_count": 11,
     "metadata": {},
     "output_type": "execute_result"
    }
   ],
   "source": [
    "# ham_data['h1']-h1e_mo"
   ]
  },
  {
   "cell_type": "code",
   "execution_count": 166,
   "id": "dd2dd44d",
   "metadata": {},
   "outputs": [
    {
     "data": {
      "text/plain": [
       "Array([-4.59448877+0.j], dtype=complex128)"
      ]
     },
     "execution_count": 166,
     "metadata": {},
     "output_type": "execute_result"
    }
   ],
   "source": [
    "trial.calc_energy(prop_data['walkers'], ham_data, wave_data)"
   ]
  },
  {
   "cell_type": "code",
   "execution_count": 168,
   "id": "d56ff205",
   "metadata": {},
   "outputs": [
    {
     "data": {
      "text/plain": [
       "Array(-4.59448877+0.j, dtype=complex128)"
      ]
     },
     "execution_count": 168,
     "metadata": {},
     "output_type": "execute_result"
    }
   ],
   "source": [
    "walker_rhf_energy1(u @ prop_data['walkers'][0],ham_data,wave_data['mo_coeff'])\\\n",
    "    + walker_rhf_coexc(prop_data['walkers'][0],ham_data,wave_data['mo_coeff'])[0] \\\n",
    "    + walker_rhf_fock_energy(prop_data['walkers'][0],ham_data,wave_data['mo_coeff'])[0]"
   ]
  },
  {
   "cell_type": "code",
   "execution_count": null,
   "id": "bead6033",
   "metadata": {},
   "outputs": [
    {
     "name": "stdout",
     "output_type": "stream",
     "text": [
      "(10, 4, 4)\n",
      "(4, 4, 4, 4)\n"
     ]
    }
   ],
   "source": [
    "# chol = ham_data['chol']\n",
    "# nao = ham_data['h1'].shape[-1]\n",
    "# chol = chol.reshape((-1, nao, nao))\n",
    "# print(chol.shape)\n",
    "# eris_chol = jnp.einsum('gpr,gqs->prqs',chol,chol,optimize='optimal')\n",
    "# print(eris_chol.shape)"
   ]
  },
  {
   "cell_type": "code",
   "execution_count": null,
   "id": "f8165ac0",
   "metadata": {},
   "outputs": [],
   "source": [
    "# from pyscf import ao2mo\n",
    "# from ad_afqmc import pyscf_interface\n",
    "# eri_mo = ao2mo.kernel(mf.mol,mf.mo_coeff,compact=False)\n",
    "# chol = pyscf_interface.modified_cholesky(eri_mo,max_error=chol_cut)"
   ]
  },
  {
   "cell_type": "code",
   "execution_count": null,
   "id": "bab13f76",
   "metadata": {},
   "outputs": [
    {
     "name": "stdout",
     "output_type": "stream",
     "text": [
      "(4, 4, 4, 4)\n"
     ]
    }
   ],
   "source": [
    "# eri_mo = ao2mo.incore.full(mol.intor('int2e'), mf.mo_coeff)\n",
    "# eri_mo = ao2mo.restore(1, eri_mo, mol.nao_nr())\n",
    "# # eri_mo = eri_mo.reshape((nao, nao, nao, nao))\n",
    "# print(eri_mo.shape)"
   ]
  },
  {
   "cell_type": "code",
   "execution_count": null,
   "id": "5d1e883a",
   "metadata": {},
   "outputs": [
    {
     "name": "stdout",
     "output_type": "stream",
     "text": [
      "1.5922312936410939e-16\n"
     ]
    }
   ],
   "source": [
    "# print(np.max(eri_mo-eris_chol))"
   ]
  },
  {
   "cell_type": "code",
   "execution_count": 116,
   "id": "d97032e5",
   "metadata": {},
   "outputs": [],
   "source": [
    "options = {'n_eql': 4,\n",
    "           'n_prop_steps': 10,\n",
    "            'n_ene_blocks': 1,\n",
    "            'n_sr_blocks': 10,\n",
    "            'n_blocks': 10,\n",
    "            'n_walkers': 1,\n",
    "            'seed': 2,\n",
    "            'walker_type': 'rhf',\n",
    "            'trial': 'cisd',\n",
    "            'dt':0.005,\n",
    "            'free_projection':False,\n",
    "            'ad_mode':None,\n",
    "            'use_gpu': False,\n",
    "            }"
   ]
  },
  {
   "cell_type": "code",
   "execution_count": 117,
   "id": "41f3b4d9",
   "metadata": {},
   "outputs": [
    {
     "name": "stdout",
     "output_type": "stream",
     "text": [
      "lo_type = boys\n",
      "\n",
      "\n",
      "******** <class 'pyscf.lo.boys.Boys'> ********\n",
      "conv_tol = 1e-06\n",
      "conv_tol_grad = None\n",
      "max_cycle = 100\n",
      "max_stepsize = 0.01\n",
      "max_iters = 20\n",
      "kf_interval = 5\n",
      "kf_trust_region = 5\n",
      "ah_start_tol = 1000000000.0\n",
      "ah_start_cycle = 1\n",
      "ah_level_shift = 0\n",
      "ah_conv_tol = 1e-12\n",
      "ah_lindep = 1e-14\n",
      "ah_max_cycle = 40\n",
      "ah_trust_region = 3\n",
      "init_guess = atomic\n",
      "Set conv_tol_grad to 0.000316228\n",
      "macro= 1  f(x)= 101.97870152776  delta_f= 101.979  |g|= 58.3944  2 KF 10 Hx\n",
      "macro= 2  f(x)= 97.22236209194  delta_f= -4.75634  |g|= 39.0553  2 KF 10 Hx\n",
      "macro= 3  f(x)= 95.74602696065  delta_f= -1.47634  |g|= 30.6397  2 KF 10 Hx\n",
      "macro= 4  f(x)= 95.24408659054  delta_f= -0.50194  |g|= 28.9266  2 KF 10 Hx\n",
      "macro= 5  f(x)= 93.930655121682  delta_f= -1.31343  |g|= 25.158  2 KF 10 Hx\n",
      "macro= 6  f(x)= 92.098062176503  delta_f= -1.83259  |g|= 25.5206  2 KF 10 Hx\n",
      "macro= 7  f(x)= 88.614258845264  delta_f= -3.4838  |g|= 27.5866  2 KF 10 Hx\n",
      "macro= 8  f(x)= 83.238466711814  delta_f= -5.37579  |g|= 31.2358  2 KF 10 Hx\n",
      "macro= 9  f(x)= 76.125681206924  delta_f= -7.11279  |g|= 34.7645  2 KF 10 Hx\n",
      "macro= 10  f(x)= 68.05194915611  delta_f= -8.07373  |g|= 36.0058  2 KF 10 Hx\n",
      "macro= 11  f(x)= 60.071684109459  delta_f= -7.98027  |g|= 33.935  2 KF 10 Hx\n",
      "macro= 12  f(x)= 53.187230660632  delta_f= -6.88445  |g|= 27.6938  2 KF 10 Hx\n",
      "macro= 13  f(x)= 48.389230203469  delta_f= -4.798  |g|= 17.1913  2 KF 10 Hx\n",
      "macro= 14  f(x)= 46.682074026598  delta_f= -1.70716  |g|= 2.74676  2 KF 9 Hx\n",
      "macro= 15  f(x)= 46.674614085528  delta_f= -0.00745994  |g|= 0.00917567  2 KF 6 Hx\n",
      "macro= 16  f(x)= 46.674614085528  delta_f= 0  |g|= 4.76192e-05  1 KF 1 Hx\n",
      "macro X = 16  f(x)= 46.674614085528  |g|= 4.76192e-05  32 intor 31 KF 146 Hx\n",
      "Lov is saved to /tmp/60x2pnw9\n",
      "# lno thresh [1e-09, 1e-10]\n",
      "\n",
      "########### running fragment 1 ##########\n",
      "Using DF integrals\n",
      "Lov is saved to /tmp/u4qs6qgc\n",
      "Using DF integrals\n",
      "# active orbitals: [0 1 2 3 4 5 6 7 8 9]\n",
      "# active occupied orbitals: [0 1 2 3 4]\n",
      "# active virtual orbitals: [5 6 7 8 9]\n",
      "# frozen orbitals: []\n",
      "\n",
      "WARN: CCSD detected DF being used in the HF object. MO integrals are computed based on the DF 3-index tensors.\n",
      "It's recommended to use dfccsd.CCSD for the DF-CCSD calculations\n",
      "\n",
      "Init t2, MP2 energy = -4.78609521109039  E_corr(MP2) -0.191764691843916\n",
      "\n",
      "******** <class 'pyscf.cc.dfccsd.RCCSD'> ********\n",
      "CC2 = 0\n",
      "CCSD nocc = 5, nmo = 10\n",
      "frozen orbitals 0\n",
      "max_cycle = 50\n",
      "direct = 0\n",
      "conv_tol = 1e-07\n",
      "conv_tol_normt = 1e-05\n",
      "diis_space = 6\n",
      "diis_start_cycle = 0\n",
      "diis_start_energy_diff = 1e+09\n",
      "max_memory 4000 MB (current use 91 MB)\n",
      "Init E_corr(RCCSD) = -0.191764691845617\n",
      "cycle = 1  E_corr(RCCSD) = -0.275119577251527  dE = -0.0833548854  norm(t1,t2) = 0.167612\n",
      "cycle = 2  E_corr(RCCSD) = -0.322511582481178  dE = -0.0473920052  norm(t1,t2) = 0.103737\n",
      "cycle = 3  E_corr(RCCSD) = -0.377520383942593  dE = -0.0550088015  norm(t1,t2) = 0.0647524\n",
      "cycle = 4  E_corr(RCCSD) = -0.389011067249086  dE = -0.0114906833  norm(t1,t2) = 0.0350391\n",
      "cycle = 5  E_corr(RCCSD) = -0.391287851319618  dE = -0.00227678407  norm(t1,t2) = 0.0232989\n",
      "cycle = 6  E_corr(RCCSD) = -0.398469156772553  dE = -0.00718130545  norm(t1,t2) = 0.0186459\n",
      "cycle = 7  E_corr(RCCSD) = -0.407296125807995  dE = -0.00882696904  norm(t1,t2) = 0.013159\n",
      "cycle = 8  E_corr(RCCSD) = -0.409514764034113  dE = -0.00221863823  norm(t1,t2) = 0.00967813\n",
      "cycle = 9  E_corr(RCCSD) = -0.413782110147681  dE = -0.00426734611  norm(t1,t2) = 0.00792466\n",
      "cycle = 10  E_corr(RCCSD) = -0.416175215483384  dE = -0.00239310534  norm(t1,t2) = 0.0056497\n",
      "cycle = 11  E_corr(RCCSD) = -0.418869675542102  dE = -0.00269446006  norm(t1,t2) = 0.0036603\n",
      "cycle = 12  E_corr(RCCSD) = -0.420474550591839  dE = -0.00160487505  norm(t1,t2) = 0.0025937\n",
      "cycle = 13  E_corr(RCCSD) = -0.422536765378102  dE = -0.00206221479  norm(t1,t2) = 0.00179471\n",
      "cycle = 14  E_corr(RCCSD) = -0.422800146758353  dE = -0.00026338138  norm(t1,t2) = 0.000754558\n",
      "cycle = 15  E_corr(RCCSD) = -0.422722049608067  dE = 7.80971503e-05  norm(t1,t2) = 0.000487272\n",
      "cycle = 16  E_corr(RCCSD) = -0.422630943382434  dE = 9.11062256e-05  norm(t1,t2) = 0.000303546\n",
      "cycle = 17  E_corr(RCCSD) = -0.422555261295183  dE = 7.56820873e-05  norm(t1,t2) = 0.00020118\n",
      "cycle = 18  E_corr(RCCSD) = -0.422502065834682  dE = 5.31954605e-05  norm(t1,t2) = 9.97366e-05\n",
      "cycle = 19  E_corr(RCCSD) = -0.42248812972434  dE = 1.39361103e-05  norm(t1,t2) = 6.91304e-05\n",
      "cycle = 20  E_corr(RCCSD) = -0.422491693882914  dE = -3.56415857e-06  norm(t1,t2) = 5.75826e-05\n",
      "cycle = 21  E_corr(RCCSD) = -0.422507327193625  dE = -1.56333107e-05  norm(t1,t2) = 5.09064e-05\n",
      "cycle = 22  E_corr(RCCSD) = -0.42254630126813  dE = -3.89740745e-05  norm(t1,t2) = 4.51765e-05\n",
      "cycle = 23  E_corr(RCCSD) = -0.42256929623602  dE = -2.29949679e-05  norm(t1,t2) = 3.21417e-05\n",
      "cycle = 24  E_corr(RCCSD) = -0.422596019911361  dE = -2.67236753e-05  norm(t1,t2) = 2.38861e-05\n",
      "cycle = 25  E_corr(RCCSD) = -0.422611517931151  dE = -1.54980198e-05  norm(t1,t2) = 1.49715e-05\n",
      "cycle = 26  E_corr(RCCSD) = -0.422613226842265  dE = -1.70891111e-06  norm(t1,t2) = 6.8945e-06\n",
      "cycle = 27  E_corr(RCCSD) = -0.422611693972095  dE = 1.53287017e-06  norm(t1,t2) = 4.68875e-06\n",
      "cycle = 28  E_corr(RCCSD) = -0.422610597531744  dE = 1.09644035e-06  norm(t1,t2) = 3.26664e-06\n",
      "cycle = 29  E_corr(RCCSD) = -0.42260920473961  dE = 1.39279213e-06  norm(t1,t2) = 2.13069e-06\n",
      "cycle = 30  E_corr(RCCSD) = -0.422609283746754  dE = -7.90071436e-08  norm(t1,t2) = 1.39857e-06\n",
      "RCCSD converged\n",
      "E(RCCSD) = -5.016939802993231  E_corr = -0.4226092837467539\n",
      "# Generating Cholesky Integrals\n",
      "# frozen orbitals: []\n",
      "# local active orbitals: [0 1 2 3 4 5 6 7 8 9]\n",
      "# local active space size: 10\n",
      "# composing ERIs from DF vectors\n",
      "# decomposing ERIs to Cholesky vectors\n",
      "# Cholesky cutoff is: 1e-10\n",
      "# Finished calculating Cholesky integrals\n",
      "\n",
      "# Size of the correlation space\n",
      "# Number of electrons: (5, 5)\n",
      "# Number of basis functions: 10\n",
      "# Number of Cholesky vectors: 38\n",
      "\n"
     ]
    }
   ],
   "source": [
    "from pyscf.ci.cisd import CISD\n",
    "from pyscf.cc.ccsd import CCSD\n",
    "from pyscf.cc.uccsd import UCCSD\n",
    "from ad_afqmc.lno.cc import LNOCCSD\n",
    "from ad_afqmc.lno_afqmc import lno_maker, afqmc_maker, data_maker, lnoafqmc_runner\n",
    "from pyscf import ao2mo, mcscf, scf, lib\n",
    "\n",
    "frozen = None\n",
    "thresh = 1e-10\n",
    "lo_type = 'boys'\n",
    "run_frg_list = [0]\n",
    "eris = None\n",
    "\n",
    "mfcc = mf\n",
    "if isinstance(mfcc, (CCSD, CISD)):\n",
    "    full_cisd = True\n",
    "    mf = mfcc._scf\n",
    "else:\n",
    "    full_cisd = False\n",
    "    mf = mfcc\n",
    "\n",
    "no_type = 'ie' # cim\n",
    "\n",
    "if isinstance(thresh, list):\n",
    "    thresh_occ, thresh_vir = thresh\n",
    "else:\n",
    "    thresh_occ = thresh*10\n",
    "    thresh_vir = thresh\n",
    "\n",
    "lno_cc = LNOCCSD(mf, thresh=thresh, frozen=frozen)\n",
    "lno_cc.thresh_occ = thresh_occ\n",
    "lno_cc.thresh_vir = thresh_vir\n",
    "lno_cc.lo_type = lo_type\n",
    "lno_cc.no_type = no_type\n",
    "lno_cc.force_outcore_ao2mo = True\n",
    "\n",
    "s1e = mf.get_ovlp()\n",
    "lococc = lno_cc.get_lo(lo_type=lo_type) # localized active occ orbitals\n",
    "# lococc,locvir = lno_maker.get_lo(lno_cc,lo_type) ### fix this for DF\n",
    "if eris is None: eris = lno_cc.ao2mo()\n",
    "\n",
    "frag_lolist = [[i] for i in range(lococc.shape[1])]\n",
    "nfrag = len(frag_lolist)\n",
    "\n",
    "frozen_mask = lno_cc.get_frozen_mask()\n",
    "thresh_pno = [thresh_occ,thresh_vir]\n",
    "print(f'# lno thresh {thresh_pno}')\n",
    "\n",
    "if run_frg_list is None:\n",
    "    run_frg_list = range(nfrag)\n",
    "    \n",
    "from jax import random\n",
    "seeds = random.randint(random.PRNGKey(options[\"seed\"]),\n",
    "                    shape=(len(run_frg_list),), minval=0, maxval=100*nfrag)\n",
    "\n",
    "for ifrag in run_frg_list:\n",
    "    print(f'\\n########### running fragment {ifrag+1} ##########')\n",
    "\n",
    "    fraglo = frag_lolist[ifrag]\n",
    "    orbfragloc = lococc[:,fraglo]\n",
    "    THRESH_INTERNAL = 1e-10\n",
    "    frzfrag, orbfrag, can_orbfrag \\\n",
    "        = lno_maker.make_lno(\n",
    "            lno_cc,orbfragloc,THRESH_INTERNAL,thresh_pno\n",
    "            )\n",
    "    \n",
    "    mol = mf.mol\n",
    "    nocc = mol.nelectron // 2 \n",
    "    nao = mol.nao\n",
    "    actfrag = np.array([i for i in range(nao) if i not in frzfrag])\n",
    "    # frzocc = np.array([i for i in range(nocc) if i in frzfrag])\n",
    "    actocc = np.array([i for i in range(nocc) if i in actfrag])\n",
    "    actvir = np.array([i for i in range(nocc,nao) if i in actfrag])\n",
    "    nactocc = len(actocc)\n",
    "    nactocc = len(actocc)\n",
    "    nactvir = len(actvir)\n",
    "    prjlo = orbfragloc.T @ s1e @ orbfrag[:,actocc]\n",
    "\n",
    "    print(f'# active orbitals: {actfrag}')\n",
    "    print(f'# active occupied orbitals: {actocc}')\n",
    "    print(f'# active virtual orbitals: {actvir}')\n",
    "    print(f'# frozen orbitals: {frzfrag}')\n",
    "\n",
    "    ecorr_cc,t1,t2 = lno_maker.lno_cc_solver(\n",
    "                        mf,orbfrag,orbfragloc,frozen=frzfrag,eris=eris\n",
    "                        )\n",
    "    ci1 = np.array(t1)\n",
    "    ci2 = t2 + lib.einsum(\"ia,jb->ijab\",ci1,ci1)\n",
    "    ci2 = ci2.transpose(0, 2, 1, 3)\n",
    "    options[\"seed\"] = seeds[ifrag]\n",
    "    nelec_act = nactocc*2\n",
    "    norb_act = nactocc+nactvir\n",
    "    lnoafqmc_runner.prep_lnoafqmc_file(\n",
    "            mf,orbfrag,options,\n",
    "            norb_act=norb_act,nelec_act=nelec_act,\n",
    "            prjlo=prjlo,norb_frozen=frzfrag,\n",
    "            ci1=ci1,ci2=ci2,chol_cut=1e-10,\n",
    "            )"
   ]
  },
  {
   "cell_type": "code",
   "execution_count": 118,
   "id": "d03c9c23",
   "metadata": {},
   "outputs": [
    {
     "name": "stdout",
     "output_type": "stream",
     "text": [
      "# Hostname: yichi-thinkpad\n",
      "# System Type: Linux\n",
      "# Machine Type: x86_64\n",
      "# Processor: x86_64\n",
      "# Number of MPI ranks: 1\n",
      "#\n",
      "# norb: 10\n",
      "# nelec: (5, 5)\n",
      "# nchol: 38\n",
      "#\n",
      "# n_eql: 4\n",
      "# n_prop_steps: 10\n",
      "# n_ene_blocks: 1\n",
      "# n_sr_blocks: 10\n",
      "# n_blocks: 10\n",
      "# n_walkers: 1\n",
      "# seed: 450\n",
      "# walker_type: rhf\n",
      "# trial: cisd\n",
      "# dt: 0.005\n",
      "# free_projection: False\n",
      "# use_gpu: False\n",
      "# n_exp_terms: 6\n",
      "# orbital_rotation: True\n",
      "# do_sr: True\n",
      "# symmetry: False\n",
      "# save_walkers: False\n",
      "# n_batch: 1\n",
      "# ene0: 0\n",
      "#\n",
      "# Hostname: yichi-thinkpad\n",
      "# System Type: Linux\n",
      "# Machine Type: x86_64\n",
      "# Processor: x86_64\n",
      "-5.016939861084169\n"
     ]
    }
   ],
   "source": [
    "from ad_afqmc import config, wavefunctions, stat_utils\n",
    "ham_data, ham, prop, trial, wave_data, sampler, observable, options, _ = (\n",
    "    lnoafqmc_runner.prep_lnoafqmc_run())\n",
    "\n",
    "config.setup_jax()\n",
    "MPI = config.setup_comm()\n",
    "\n",
    "# init_time = time.time()\n",
    "comm = MPI.COMM_WORLD\n",
    "rank = comm.Get_rank()  # Process rank\n",
    "size = comm.Get_size()  # Total number of processes\n",
    "\n",
    "\n",
    "### initialize propagation\n",
    "seed = options[\"seed\"]\n",
    "propagator = prop\n",
    "init_walkers = None\n",
    "ham_data = wavefunctions.rhf(trial.norb, trial.nelec,n_batch=trial.n_batch\n",
    "                                )._build_measurement_intermediates(ham_data, wave_data)\n",
    "ham_data = ham.build_measurement_intermediates(ham_data, trial, wave_data)\n",
    "ham_data = ham.build_propagation_intermediates(ham_data, propagator, trial, wave_data)\n",
    "prop_data = propagator.init_prop_data(trial, wave_data, ham_data, init_walkers)\n",
    "\n",
    "prop_data[\"key\"] = random.PRNGKey(seed + rank)\n",
    "\n",
    "prop_data[\"overlaps\"] = trial.calc_overlap(prop_data[\"walkers\"], wave_data)\n",
    "prop_data[\"n_killed_walkers\"] = 0\n",
    "prop_data[\"pop_control_ene_shift\"] = prop_data[\"e_estimate\"]\n",
    "print(prop_data['e_estimate'])"
   ]
  },
  {
   "cell_type": "code",
   "execution_count": 119,
   "id": "415f48d0",
   "metadata": {},
   "outputs": [],
   "source": [
    "calc_e_rhf = wavefunctions.rhf(trial.norb, trial.nelec,n_batch=trial.n_batch\n",
    "                                )._calc_energy_restricted\n",
    "cal_eorb_rhf = wavefunctions.rhf(trial.norb, trial.nelec,n_batch=trial.n_batch\n",
    "                                )._calc_orbenergy"
   ]
  },
  {
   "cell_type": "code",
   "execution_count": 120,
   "id": "26ba4fe8",
   "metadata": {},
   "outputs": [],
   "source": [
    "def walker_rhf_fock_energy(walker,ham_data,trial_mo):\n",
    "    '''one-body part of rhf walker's energy with \n",
    "    non-orthonal trial C_ia <psi|H|psi_ia>\n",
    "    should be (close to) zero for orthogonal trial!!!'''\n",
    "\n",
    "    rot_h1,rot_chol = ham_data['rot_h1'],ham_data['rot_chol']\n",
    "    nocc = rot_h1.shape[0]\n",
    "    gw = (walker.dot(jnp.linalg.inv(trial_mo.T.conj() @ walker))).T\n",
    "    f = jnp.einsum('gja,ai->gji',rot_chol[:,:nocc,nocc:],\n",
    "                    gw.T[nocc:,:nocc],optimize='optimal')\n",
    "    tr_f = vmap(jnp.trace)(f)\n",
    "    tr_chol = vmap(jnp.trace)(rot_chol[:,:nocc,:nocc])\n",
    "    e_fock1 = 2*jnp.einsum('ia,ia->',gw[:nocc,nocc:],rot_h1[:nocc,nocc:])\n",
    "    e_fock2 = 4*jnp.einsum('g,g->',tr_f,tr_chol)\\\n",
    "              - 2*jnp.einsum('gji,gij->',f,rot_chol[:,:nocc,:nocc])\n",
    "    # ene12 = 2*jnp.sum(tf*tc) \\\n",
    "    #         - jnp.einsum('gik,gki->',f,rot_chol[:,:nocc,:nocc])\n",
    "    return e_fock1+e_fock2,e_fock1,e_fock2\n",
    "\n",
    "def walker_rhf_coexc(walker,ham_data,trial_mo):\n",
    "    '''two-body part of rhf walker's energy with \n",
    "    non-orthonal trial C_ijab <psi|H|psi_{ia}^{jb}>'''\n",
    "\n",
    "    rot_h1,rot_chol = ham_data['rot_h1'],ham_data['rot_chol']\n",
    "    nocc = rot_h1.shape[0]\n",
    "    gw = (walker.dot(jnp.linalg.inv(trial_mo.T.conj() @ walker))).T\n",
    "    f = jnp.einsum('gja,ai->gji',rot_chol[:,:nocc,nocc:],\n",
    "                    gw.T[nocc:,:nocc],optimize='optimal')\n",
    "    tr_f = vmap(jnp.trace)(f)\n",
    "    e_col = 2*jnp.einsum('g,g->',tr_f,tr_f)\n",
    "    e_exc = -jnp.einsum('gij,gji->',f,f)\n",
    "    # e_col = 2*jnp.einsum('ia,jb,gia,gjb->',\n",
    "    #                      gf[:nocc,nocc:],gf[:nocc,nocc:],\n",
    "    #                      rot_chol[:,:nocc,nocc:],rot_chol[:,:nocc,nocc:])\n",
    "    # e_exc = - jnp.einsum('ia,jb,gib,gja->',\n",
    "    #                      gf[:nocc,nocc:],gf[:nocc,nocc:],\n",
    "    #                      rot_chol[:,:nocc,nocc:],rot_chol[:,:nocc,nocc:])\n",
    "    return e_col+e_exc,e_col,e_exc\n",
    "\n",
    "def walker_norhf_energy(walker, ham_data, trial_mo):\n",
    "    rot_h1,rot_chol = ham_data['rot_h1'],ham_data['rot_chol']\n",
    "    nocc = rot_h1.shape[0]\n",
    "    gw = (walker.dot(jnp.linalg.inv(trial_mo.T.conj() @ walker))).T\n",
    "    f = jnp.einsum('gja,ai->gji',rot_chol[:,:nocc,nocc:],\n",
    "                    gw.T[nocc:,:nocc],optimize='optimal')\n",
    "    tr_f = vmap(jnp.trace)(f)\n",
    "    # one-bady part\n",
    "    tr_chol = vmap(jnp.trace)(rot_chol[:,:nocc,:nocc])\n",
    "    e_fock1 = 2*jnp.einsum('ia,ia->',gw[:nocc,nocc:],rot_h1[:nocc,nocc:])\n",
    "    e_fock2 = 4*jnp.einsum('g,g->',tr_f,tr_chol)\\\n",
    "              - 2*jnp.einsum('gji,gij->',f,rot_chol[:,:nocc,:nocc])\n",
    "    ene1 = e_fock1+e_fock2\n",
    "    # two-body part\n",
    "    e_col = 2*jnp.einsum('g,g->',tr_f,tr_f)\n",
    "    e_exc = -jnp.einsum('gij,gji->',f,f)\n",
    "    ene2 = e_col+e_exc\n",
    "    return ene1+ene2"
   ]
  },
  {
   "cell_type": "code",
   "execution_count": null,
   "id": "abeebd01",
   "metadata": {},
   "outputs": [],
   "source": [
    "# # m = jnp.dot(wave_data[\"prjlo\"].T,wave_data[\"prjlo\"])\n",
    "# walker = prop_data['walkers'][0]\n",
    "# trial_mo = wave_data['mo_coeff']\n",
    "# rot_h1,rot_chol = ham_data['rot_h1'],ham_data['rot_chol']\n",
    "# nocc = rot_h1.shape[0]\n",
    "# gw = (walker.dot(jnp.linalg.inv(trial_mo.T.conj() @ walker))).T\n",
    "# f = jnp.einsum('gja,ai->gji',rot_chol[:,:nocc,nocc:],\n",
    "#                 gw.T[nocc:,:nocc],optimize='optimal')\n",
    "# # tr_f = vmap(jnp.trace)(f)\n",
    "# tr_chol = vmap(jnp.trace)(rot_chol[:,:nocc,:nocc])\n",
    "# e_fock1 = 2*jnp.einsum('ia,ia->i',gw[:nocc,nocc:],rot_h1[:nocc,nocc:])\n",
    "# e_fock2 = 4*jnp.einsum('gii,g->i',f,tr_chol)\\\n",
    "#             - 2*jnp.einsum('gij,gji->i',f,rot_chol[:,:nocc,:nocc])"
   ]
  },
  {
   "cell_type": "code",
   "execution_count": 105,
   "id": "af32a2a2",
   "metadata": {},
   "outputs": [
    {
     "name": "stdout",
     "output_type": "stream",
     "text": [
      "(0.0008342048701999041-0.05914059703327663j)\n",
      "(-0.0008342135997256271+0.05914058530018232j)\n",
      "[-0.00098792-0.01761472j -0.00096544-0.01274369j -0.00066245-0.01029588j\n",
      "  0.00159431+0.01077798j  0.0010215 +0.0298763j ]\n",
      "(-8.729525723810694e-09-1.1733094298221891e-08j)\n"
     ]
    }
   ],
   "source": [
    "# print(e_fock1.sum())\n",
    "# print(e_fock2.sum())\n",
    "# print(e_fock1+e_fock2)\n",
    "# print(sum(e_fock1+e_fock2))"
   ]
  },
  {
   "cell_type": "code",
   "execution_count": 121,
   "id": "cbae0007",
   "metadata": {},
   "outputs": [],
   "source": [
    "def walker_rhf_fock_eorb(walker,ham_data,wave_data):\n",
    "    '''one-body part of rhf walker's energy with \n",
    "    non-orthonal trial C_ia <psi|H|psi_ia>\n",
    "    should be (close to) zero for orthogonal trial!!!'''\n",
    "    m = jnp.dot(wave_data[\"prjlo\"].T,wave_data[\"prjlo\"])\n",
    "    trial_mo = wave_data['mo_coeff']\n",
    "    rot_h1,rot_chol = ham_data['rot_h1'],ham_data['rot_chol']\n",
    "    nocc = rot_h1.shape[0]\n",
    "    gw = (walker.dot(jnp.linalg.inv(trial_mo.T.conj() @ walker))).T\n",
    "    f = jnp.einsum('gja,ai->gji',rot_chol[:,:nocc,nocc:],\n",
    "                    gw.T[nocc:,:nocc],optimize='optimal')\n",
    "    # tr_f = vmap(jnp.trace)(f)\n",
    "    tr_chol = vmap(jnp.trace)(rot_chol[:,:nocc,:nocc])\n",
    "    e_fock1 = 2*jnp.einsum('ia,ka,ik->',gw[:nocc,nocc:],rot_h1[:nocc,nocc:],m)\n",
    "    e_fock2 = 4*jnp.einsum('gik,ik,g->',f,m,tr_chol)\\\n",
    "              - 2*jnp.einsum('gij,gjk,ik->',f,rot_chol[:,:nocc,:nocc],m)\n",
    "    return e_fock1+e_fock2\n",
    "\n",
    "def walker_rhf_ceorb(walker,ham_data,wave_data):\n",
    "    '''two-body part of rhf walker's energy with \n",
    "    non-orthonal trial C_ijab <psi|H|psi_{ia}^{jb}>'''\n",
    "    m = jnp.dot(wave_data[\"prjlo\"].T,wave_data[\"prjlo\"])\n",
    "    trial_mo = wave_data['mo_coeff']\n",
    "    rot_h1,rot_chol = ham_data['rot_h1'],ham_data['rot_chol']\n",
    "    nocc = rot_h1.shape[0]\n",
    "    gw = (walker.dot(jnp.linalg.inv(trial_mo.T.conj() @ walker))).T\n",
    "    f = jnp.einsum('gja,ai->gji',rot_chol[:,:nocc,nocc:],\n",
    "                    gw.T[nocc:,:nocc],optimize='optimal')\n",
    "    tr_f = vmap(jnp.trace)(f)\n",
    "    e_col = 2*jnp.einsum('gik,ik,g->',f,m,tr_f)\n",
    "    e_exc = -jnp.einsum('gij,gjk,ik->',f,f,m)\n",
    "    return e_col+e_exc\n",
    "\n",
    "def walker_norhf_orbe(walker,ham_data,wave_data):\n",
    "    m = jnp.dot(wave_data[\"prjlo\"].T,wave_data[\"prjlo\"])\n",
    "    trial_mo = wave_data['mo_coeff']\n",
    "    rot_h1,rot_chol = ham_data['rot_h1'],ham_data['rot_chol']\n",
    "    nocc = rot_h1.shape[0]\n",
    "    gw = (walker.dot(jnp.linalg.inv(trial_mo.T.conj() @ walker))).T\n",
    "    f = jnp.einsum('gja,ai->gji',rot_chol[:,:nocc,nocc:],\n",
    "                    gw.T[nocc:,:nocc],optimize='optimal')\n",
    "    # tr_f = vmap(jnp.trace)(f)\n",
    "    tr_chol = vmap(jnp.trace)(rot_chol[:,:nocc,:nocc])\n",
    "    e_fock1 = 2*jnp.einsum('ia,ka,ik->',gw[:nocc,nocc:],rot_h1[:nocc,nocc:],m)\n",
    "    e_fock2 = 4*jnp.einsum('gik,ik,g->',f,m,tr_chol)\\\n",
    "              - 2*jnp.einsum('gij,gjk,ik->',f,rot_chol[:,:nocc,:nocc],m)\n",
    "    ene1 = e_fock1+e_fock2\n",
    "    tr_f = vmap(jnp.trace)(f)\n",
    "    e_col = 2*jnp.einsum('gik,ik,g->',f,m,tr_f)\n",
    "    e_exc = -jnp.einsum('gij,gjk,ik->',f,f,m)\n",
    "    ene2 = e_col+e_exc\n",
    "    return ene1+ene2"
   ]
  },
  {
   "cell_type": "code",
   "execution_count": 122,
   "id": "864eda00",
   "metadata": {},
   "outputs": [
    {
     "name": "stdout",
     "output_type": "stream",
     "text": [
      "(5, 5)\n"
     ]
    }
   ],
   "source": [
    "m = jnp.dot(wave_data[\"prjlo\"].T,wave_data[\"prjlo\"])\n",
    "print(m.shape)"
   ]
  },
  {
   "cell_type": "code",
   "execution_count": 123,
   "id": "a6fba267",
   "metadata": {},
   "outputs": [
    {
     "data": {
      "text/plain": [
       "True"
      ]
     },
     "execution_count": 123,
     "metadata": {},
     "output_type": "execute_result"
    }
   ],
   "source": [
    "isinstance(trial, (wavefunctions.cisd))"
   ]
  },
  {
   "cell_type": "code",
   "execution_count": 124,
   "id": "60483ea6",
   "metadata": {},
   "outputs": [
    {
     "data": {
      "text/plain": [
       "(Array(0.+0.j, dtype=complex128),\n",
       " Array(0.+0.j, dtype=complex128),\n",
       " Array(0.+0.j, dtype=complex128))"
      ]
     },
     "execution_count": 124,
     "metadata": {},
     "output_type": "execute_result"
    }
   ],
   "source": [
    "walker_rhf_fock_energy(prop_data['walkers'][0],ham_data,wave_data['mo_coeff'])"
   ]
  },
  {
   "cell_type": "code",
   "execution_count": 132,
   "id": "d146d337",
   "metadata": {},
   "outputs": [
    {
     "name": "stdout",
     "output_type": "stream",
     "text": [
      "-5.004259371495762\n",
      "(-4.615357522746978+0.001021202614383293j)\n",
      "-4.594330519246475\n"
     ]
    }
   ],
   "source": [
    "prop_data, (blk_en,blk_wt,blk_hf_orb_en,blk_cc_orb_en) \\\n",
    "    = afqmc_maker.block_orb(prop_data,ham_data,prop,trial,wave_data,sampler)\n",
    "print(blk_en)\n",
    "print(walker_rhf_energy1(prop_data['walkers'][0],ham_data,wave_data['mo_coeff']))\n",
    "print(mf.e_tot)"
   ]
  },
  {
   "cell_type": "code",
   "execution_count": 133,
   "id": "5f8e8170",
   "metadata": {},
   "outputs": [
    {
     "data": {
      "text/plain": [
       "Array(-4.61535752+0.0010212j, dtype=complex128)"
      ]
     },
     "execution_count": 133,
     "metadata": {},
     "output_type": "execute_result"
    }
   ],
   "source": [
    "calc_e_rhf(prop_data['walkers'][0],ham_data,wave_data)"
   ]
  },
  {
   "cell_type": "code",
   "execution_count": 134,
   "id": "f1743561",
   "metadata": {},
   "outputs": [
    {
     "data": {
      "text/plain": [
       "Array(-0.00252481+0.00022238j, dtype=complex128)"
      ]
     },
     "execution_count": 134,
     "metadata": {},
     "output_type": "execute_result"
    }
   ],
   "source": [
    "walker_rhf_ceorb(prop_data['walkers'][0],ham_data,wave_data)"
   ]
  },
  {
   "cell_type": "code",
   "execution_count": 135,
   "id": "7f550de0",
   "metadata": {},
   "outputs": [
    {
     "data": {
      "text/plain": [
       "Array(0.00053339+0.00800868j, dtype=complex128)"
      ]
     },
     "execution_count": 135,
     "metadata": {},
     "output_type": "execute_result"
    }
   ],
   "source": [
    "walker_rhf_fock_eorb(prop_data['walkers'][0],ham_data,wave_data)"
   ]
  },
  {
   "cell_type": "code",
   "execution_count": 136,
   "id": "55955715",
   "metadata": {},
   "outputs": [
    {
     "data": {
      "text/plain": [
       "Array(-0.00199141+0.00823106j, dtype=complex128)"
      ]
     },
     "execution_count": 136,
     "metadata": {},
     "output_type": "execute_result"
    }
   ],
   "source": [
    "walker_norhf_orbe(prop_data['walkers'][0],ham_data,wave_data)"
   ]
  },
  {
   "cell_type": "code",
   "execution_count": 137,
   "id": "e75d5150",
   "metadata": {},
   "outputs": [
    {
     "data": {
      "text/plain": [
       "(Array(-8.07810398e-10+5.28190486e-09j, dtype=complex128),\n",
       " Array(-0.00264969-0.13251648j, dtype=complex128),\n",
       " Array(0.00264969+0.13251649j, dtype=complex128))"
      ]
     },
     "execution_count": 137,
     "metadata": {},
     "output_type": "execute_result"
    }
   ],
   "source": [
    "walker_rhf_fock_energy(prop_data['walkers'][0],ham_data,wave_data['mo_coeff'])"
   ]
  },
  {
   "cell_type": "code",
   "execution_count": 138,
   "id": "d96d07fa",
   "metadata": {},
   "outputs": [
    {
     "name": "stdout",
     "output_type": "stream",
     "text": [
      "(-0.0025248059317015295+0.00022238077777191035j)\n"
     ]
    }
   ],
   "source": [
    "rot_h1,rot_chol = ham_data['rot_h1'],ham_data['rot_chol']\n",
    "walker = prop_data['walkers'][0]\n",
    "print(cal_eorb_rhf(0,rot_h1,rot_chol,walker,wave_data,orbE=0))"
   ]
  },
  {
   "cell_type": "code",
   "execution_count": 131,
   "id": "894a9614",
   "metadata": {},
   "outputs": [
    {
     "data": {
      "text/plain": [
       "Array(-4.59433052+0.j, dtype=complex128)"
      ]
     },
     "execution_count": 131,
     "metadata": {},
     "output_type": "execute_result"
    }
   ],
   "source": [
    "mf.e_tot \\\n",
    "    + walker_norhf_energy(prop_data['walkers'][0],ham_data,wave_data['mo_coeff'])"
   ]
  },
  {
   "cell_type": "code",
   "execution_count": 62,
   "id": "15210f2c",
   "metadata": {},
   "outputs": [
    {
     "name": "stdout",
     "output_type": "stream",
     "text": [
      "(Array(-2.94908134e-08-2.88966882e-08j, dtype=complex128), Array(-0.00366678-0.07368464j, dtype=complex128), Array(0.00366675+0.07368461j, dtype=complex128))\n",
      "(-0.05410457269969854+0.005013833702532937j)\n"
     ]
    }
   ],
   "source": [
    "print(walker_rhf_fock_energy(prop_data['walkers'][0],ham_data,wave_data['mo_coeff']))\n",
    "print(walker_rhf_coexc(prop_data['walkers'][0],ham_data,wave_data['mo_coeff'])[0])"
   ]
  },
  {
   "cell_type": "code",
   "execution_count": 66,
   "id": "2239f471",
   "metadata": {},
   "outputs": [
    {
     "data": {
      "text/plain": [
       "Array(-4.64843512+0.0050138j, dtype=complex128)"
      ]
     },
     "execution_count": 66,
     "metadata": {},
     "output_type": "execute_result"
    }
   ],
   "source": [
    "mf.e_tot \\\n",
    "    + walker_rhf_coexc(prop_data['walkers'][0],ham_data,wave_data['mo_coeff'])[0] \\\n",
    "    + walker_rhf_fock_energy(prop_data['walkers'][0],ham_data,wave_data['mo_coeff'])[0]"
   ]
  }
 ],
 "metadata": {
  "kernelspec": {
   "display_name": "lno_pyscf_afqmc",
   "language": "python",
   "name": "python3"
  },
  "language_info": {
   "codemirror_mode": {
    "name": "ipython",
    "version": 3
   },
   "file_extension": ".py",
   "mimetype": "text/x-python",
   "name": "python",
   "nbconvert_exporter": "python",
   "pygments_lexer": "ipython3",
   "version": "3.10.16"
  }
 },
 "nbformat": 4,
 "nbformat_minor": 5
}
