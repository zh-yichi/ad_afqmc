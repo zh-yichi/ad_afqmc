{
 "cells": [
  {
   "cell_type": "code",
   "execution_count": 12,
   "id": "47a47fec",
   "metadata": {},
   "outputs": [
    {
     "name": "stdout",
     "output_type": "stream",
     "text": [
      "System: uname_result(system='Linux', node='yichi-thinkpad', release='4.4.0-26100-Microsoft', version='#5074-Microsoft Fri Jan 01 08:00:00 PST 2016', machine='x86_64')  Threads 12\n",
      "Python 3.10.16 | packaged by conda-forge | (main, Dec  5 2024, 14:16:10) [GCC 13.3.0]\n",
      "numpy 1.24.3  scipy 1.14.1  h5py 3.12.1\n",
      "Date: Thu Oct  2 10:22:05 2025\n",
      "PySCF version 2.8.0\n",
      "PySCF path  /home/yichi/research/software/lno_pyscf\n",
      "GIT HEAD (branch master) ef75f4190e4de208685670651dc6c467f72b6794\n",
      "\n",
      "[ENV] PYSCF_EXT_PATH /home/yichi/research/software/pyscf\n",
      "[CONFIG] conf_file None\n",
      "[INPUT] verbose = 4\n",
      "[INPUT] num. atoms = 10\n",
      "[INPUT] num. electrons = 10\n",
      "[INPUT] charge = 0\n",
      "[INPUT] spin (= nelec alpha-beta = 2S) = 0\n",
      "[INPUT] symmetry False subgroup None\n",
      "[INPUT] Mole.unit = angstrom\n",
      "[INPUT] Symbol           X                Y                Z      unit          X                Y                Z       unit  Magmom\n",
      "[INPUT]  1 H      0.000000000000   0.000000000000   0.000000000000 AA    0.000000000000   0.000000000000   0.000000000000 Bohr   0.0\n",
      "[INPUT]  2 H      1.500000000000   0.000000000000   0.000000000000 AA    2.834589186848   0.000000000000   0.000000000000 Bohr   0.0\n",
      "[INPUT]  3 H      3.000000000000   0.000000000000   0.000000000000 AA    5.669178373695   0.000000000000   0.000000000000 Bohr   0.0\n",
      "[INPUT]  4 H      4.500000000000   0.000000000000   0.000000000000 AA    8.503767560543   0.000000000000   0.000000000000 Bohr   0.0\n",
      "[INPUT]  5 H      6.000000000000   0.000000000000   0.000000000000 AA   11.338356747390   0.000000000000   0.000000000000 Bohr   0.0\n",
      "[INPUT]  6 H      7.500000000000   0.000000000000   0.000000000000 AA   14.172945934238   0.000000000000   0.000000000000 Bohr   0.0\n",
      "[INPUT]  7 H      9.000000000000   0.000000000000   0.000000000000 AA   17.007535121086   0.000000000000   0.000000000000 Bohr   0.0\n",
      "[INPUT]  8 H     10.500000000000   0.000000000000   0.000000000000 AA   19.842124307933   0.000000000000   0.000000000000 Bohr   0.0\n",
      "[INPUT]  9 H     12.000000000000   0.000000000000   0.000000000000 AA   22.676713494781   0.000000000000   0.000000000000 Bohr   0.0\n",
      "[INPUT] 10 H     13.500000000000   0.000000000000   0.000000000000 AA   25.511302681628   0.000000000000   0.000000000000 Bohr   0.0\n",
      "\n",
      "nuclear repulsion = 6.80510693725429\n",
      "number of shells = 10\n",
      "number of NR pGTOs = 30\n",
      "number of NR cGTOs = 10\n",
      "basis = sto3g\n",
      "ecp = {}\n",
      "CPU time:        29.62\n",
      "\n",
      "\n",
      "******** <class 'pyscf.df.df_jk.DFRHF'> ********\n",
      "method = DFRHF\n",
      "initial guess = minao\n",
      "damping factor = 0\n",
      "level_shift factor = 0\n",
      "DIIS = <class 'pyscf.scf.diis.CDIIS'>\n",
      "diis_start_cycle = 1\n",
      "diis_space = 8\n",
      "diis_damp = 0\n",
      "SCF conv_tol = 1e-09\n",
      "SCF conv_tol_grad = None\n",
      "SCF max_cycles = 50\n",
      "direct_scf = False\n",
      "chkfile to save SCF result = /tmp/tmp2dlz7alj\n",
      "max_memory 4000 MB (current use 269 MB)\n",
      "Set gradient conv threshold to 3.16228e-05\n",
      "Initial guess from minao.\n",
      "******** <class 'pyscf.df.df.DF'> ********\n",
      "auxbasis = None\n",
      "max_memory = 4000\n",
      "Default auxbasis def2-svp-jkfit is used for H sto3g\n",
      "init E= -3.16584981953378\n",
      "  HOMO = -0.142804060217165  LUMO = -0.0403431982960248\n",
      "cycle= 1 E= -4.57663181289014  delta_E= -1.41  |g|= 0.0828  |ddm|=  2.3\n",
      "  HOMO = -0.21353741310067  LUMO = 0.0244972721524164\n",
      "cycle= 2 E= -4.58905105799568  delta_E= -0.0124  |g|= 0.0473  |ddm|= 0.296\n",
      "  HOMO = -0.236035805014749  LUMO = 0.048554901766314\n",
      "cycle= 3 E= -4.59429439115236  delta_E= -0.00524  |g|= 0.00553  |ddm|= 0.325\n",
      "  HOMO = -0.235466863156524  LUMO = 0.046949197508141\n",
      "cycle= 4 E= -4.59432590989167  delta_E= -3.15e-05  |g|= 0.00204  |ddm|= 0.0145\n",
      "  HOMO = -0.235406675377647  LUMO = 0.0471143779491319\n",
      "cycle= 5 E= -4.59432990446595  delta_E= -3.99e-06  |g|= 0.000531  |ddm|= 0.00592\n",
      "  HOMO = -0.235780665329265  LUMO = 0.0475705314318831\n",
      "cycle= 6 E= -4.59433050929346  delta_E= -6.05e-07  |g|= 8.33e-05  |ddm|= 0.00377\n",
      "  HOMO = -0.235762502756495  LUMO = 0.0475159423310844\n",
      "cycle= 7 E= -4.59433051862076  delta_E= -9.33e-09  |g|= 1.75e-05  |ddm|= 0.000297\n",
      "  HOMO = -0.235744461935372  LUMO = 0.0475011631125521\n",
      "cycle= 8 E= -4.59433051923512  delta_E= -6.14e-10  |g|= 2.64e-06  |ddm|= 0.00013\n",
      "  HOMO = -0.235746147074911  LUMO = 0.0475026033900663\n",
      "Extra cycle  E= -4.59433051924648  delta_E= -1.14e-11  |g|= 1.37e-06  |ddm|= 8.81e-06\n",
      "converged SCF energy = -4.59433051924648\n",
      "\n",
      "******** <class 'pyscf.cc.dfccsd.RCCSD'> ********\n",
      "CC2 = 0\n",
      "CCSD nocc = 5, nmo = 10\n",
      "max_cycle = 50\n",
      "direct = 0\n",
      "conv_tol = 1e-07\n",
      "conv_tol_normt = 1e-05\n",
      "diis_space = 6\n",
      "diis_start_cycle = 0\n",
      "diis_start_energy_diff = 1e+09\n",
      "max_memory 4000 MB (current use 270 MB)\n",
      "Init t2, MP2 energy = -4.80163537655358  E_corr(MP2) -0.207304857307104\n",
      "Init E_corr(RCCSD) = -0.207304857309154\n",
      "cycle = 1  E_corr(RCCSD) = -0.295323435158215  dE = -0.0880185778  norm(t1,t2) = 0.17418\n",
      "cycle = 2  E_corr(RCCSD) = -0.342839168495474  dE = -0.0475157333  norm(t1,t2) = 0.108201\n",
      "cycle = 3  E_corr(RCCSD) = -0.384787565929318  dE = -0.0419483974  norm(t1,t2) = 0.0582421\n",
      "cycle = 4  E_corr(RCCSD) = -0.396854071943874  dE = -0.012066506  norm(t1,t2) = 0.0343057\n",
      "cycle = 5  E_corr(RCCSD) = -0.40104239372913  dE = -0.00418832179  norm(t1,t2) = 0.0225774\n",
      "cycle = 6  E_corr(RCCSD) = -0.406241538143267  dE = -0.00519914441  norm(t1,t2) = 0.0185765\n",
      "cycle = 7  E_corr(RCCSD) = -0.41527879528949  dE = -0.00903725715  norm(t1,t2) = 0.0139448\n",
      "cycle = 8  E_corr(RCCSD) = -0.415495095867647  dE = -0.000216300578  norm(t1,t2) = 0.00832939\n",
      "cycle = 9  E_corr(RCCSD) = -0.417351611017357  dE = -0.00185651515  norm(t1,t2) = 0.00637595\n",
      "cycle = 10  E_corr(RCCSD) = -0.419284397654411  dE = -0.00193278664  norm(t1,t2) = 0.00411076\n",
      "cycle = 11  E_corr(RCCSD) = -0.420556191205671  dE = -0.00127179355  norm(t1,t2) = 0.0023429\n",
      "cycle = 12  E_corr(RCCSD) = -0.422032489264149  dE = -0.00147629806  norm(t1,t2) = 0.00148053\n",
      "cycle = 13  E_corr(RCCSD) = -0.422611230724931  dE = -0.000578741461  norm(t1,t2) = 0.000627356\n",
      "cycle = 14  E_corr(RCCSD) = -0.422658430756312  dE = -4.72000314e-05  norm(t1,t2) = 0.000299991\n",
      "cycle = 15  E_corr(RCCSD) = -0.422632619869156  dE = 2.58108872e-05  norm(t1,t2) = 0.000174046\n",
      "cycle = 16  E_corr(RCCSD) = -0.422610021898301  dE = 2.25979709e-05  norm(t1,t2) = 0.000107288\n",
      "cycle = 17  E_corr(RCCSD) = -0.422603106023543  dE = 6.91587476e-06  norm(t1,t2) = 5.37356e-05\n",
      "cycle = 18  E_corr(RCCSD) = -0.422593926508193  dE = 9.17951535e-06  norm(t1,t2) = 3.02186e-05\n",
      "cycle = 19  E_corr(RCCSD) = -0.422596250140897  dE = -2.3236327e-06  norm(t1,t2) = 1.87978e-05\n",
      "cycle = 20  E_corr(RCCSD) = -0.422598294013877  dE = -2.04387298e-06  norm(t1,t2) = 9.24411e-06\n",
      "cycle = 21  E_corr(RCCSD) = -0.422601218691219  dE = -2.92467734e-06  norm(t1,t2) = 7.20644e-06\n",
      "cycle = 22  E_corr(RCCSD) = -0.422605411423218  dE = -4.192732e-06  norm(t1,t2) = 5.7207e-06\n",
      "cycle = 23  E_corr(RCCSD) = -0.422607548193603  dE = -2.13677038e-06  norm(t1,t2) = 3.64639e-06\n",
      "cycle = 24  E_corr(RCCSD) = -0.422610030447857  dE = -2.48225425e-06  norm(t1,t2) = 2.64739e-06\n",
      "cycle = 25  E_corr(RCCSD) = -0.422611116096957  dE = -1.0856491e-06  norm(t1,t2) = 1.32721e-06\n",
      "cycle = 26  E_corr(RCCSD) = -0.422610886734808  dE = 2.29362149e-07  norm(t1,t2) = 6.52011e-07\n",
      "cycle = 27  E_corr(RCCSD) = -0.422610712883925  dE = 1.73850883e-07  norm(t1,t2) = 3.68068e-07\n",
      "cycle = 28  E_corr(RCCSD) = -0.422610735836431  dE = -2.2952506e-08  norm(t1,t2) = 2.25238e-07\n",
      "RCCSD converged\n",
      "E(RCCSD) = -5.016941255082908  E_corr = -0.4226107358364309\n"
     ]
    }
   ],
   "source": [
    "from functools import partial\n",
    "from pyscf import gto, scf, cc\n",
    "import numpy as np\n",
    "from jax import numpy as jnp\n",
    "from jax import vmap\n",
    "\n",
    "from jax import config\n",
    "config.update(\"jax_enable_x64\", True)\n",
    "\n",
    "print = partial(print, flush=True)\n",
    "\n",
    "a = 1.5 # 2aB\n",
    "nH = 10\n",
    "atoms = \"\"\n",
    "for i in range(nH):\n",
    "    atoms += f\"H {i*a:.5f} 0.00000 0.00000 \\n\"\n",
    "\n",
    "mol = gto.M(atom=atoms, basis=\"sto3g\", verbose=4)\n",
    "mol.build()\n",
    "\n",
    "mf = scf.RHF(mol).density_fit()\n",
    "e = mf.kernel()\n",
    "\n",
    "mycc = cc.CCSD(mf)\n",
    "e = mycc.kernel()"
   ]
  },
  {
   "cell_type": "code",
   "execution_count": null,
   "id": "9214a254",
   "metadata": {},
   "outputs": [],
   "source": [
    "# def thouless_trans(t1):\n",
    "#     # U, s, V = np.linalg.svd(t1.T)\n",
    "#     # S = np.zeros_like(t1.T, dtype=float)\n",
    "#     # np.fill_diagonal(S, s)\n",
    "#     # u_ai = U@S\n",
    "#     # u_ji = V.T\n",
    "#     Q, R = np.linalg.qr(t1)\n",
    "#     u_ai = R.T\n",
    "#     u_ji = Q\n",
    "#     u = np.vstack((u_ji,u_ai))\n",
    "#     return u"
   ]
  },
  {
   "cell_type": "code",
   "execution_count": 6,
   "id": "7fb0f90d",
   "metadata": {},
   "outputs": [],
   "source": [
    "options = {'n_eql': 4,\n",
    "           'n_prop_steps': 10,\n",
    "            'n_ene_blocks': 1,\n",
    "            'n_sr_blocks': 10,\n",
    "            'n_blocks': 10,\n",
    "            'n_walkers': 1,\n",
    "            'seed': 2,\n",
    "            'walker_type': 'rhf',\n",
    "            'trial': 'rhf',\n",
    "            'dt':0.005,\n",
    "            'free_projection':False,\n",
    "            'ad_mode':None,\n",
    "            'use_gpu': False,\n",
    "            }"
   ]
  },
  {
   "cell_type": "code",
   "execution_count": 148,
   "id": "925d0a41",
   "metadata": {},
   "outputs": [],
   "source": [
    "def thouless_trans(t1):\n",
    "    q, r = np.linalg.qr(t1)\n",
    "    u_ai = r.T\n",
    "    u_ji = q\n",
    "    u_occ = np.vstack((u_ji,u_ai))\n",
    "    u, _, _ = np.linalg.svd(u_occ)\n",
    "    return u\n",
    "u = thouless_trans(10*mycc.t1)\n",
    "mo_t = mf.mo_coeff @ u\n",
    "mf.mo_coeff = mo_t"
   ]
  },
  {
   "cell_type": "code",
   "execution_count": 149,
   "id": "f600c650",
   "metadata": {},
   "outputs": [
    {
     "name": "stdout",
     "output_type": "stream",
     "text": [
      "-4.594488769302737 -0.0004128755147767654\n"
     ]
    }
   ],
   "source": [
    "t2_0 = np.zeros(mycc.t2.shape)\n",
    "eris = mycc.ao2mo(mycc.mo_coeff)\n",
    "eccsd = mycc.energy(10*mycc.t1, t2_0, eris)\n",
    "ecc_t2_0 = eccsd+mf.e_tot\n",
    "print(ecc_t2_0,eccsd)"
   ]
  },
  {
   "cell_type": "code",
   "execution_count": null,
   "id": "27471317",
   "metadata": {},
   "outputs": [
    {
     "name": "stdout",
     "output_type": "stream",
     "text": [
      "\n",
      "******** <class 'ad_afqmc.lno.afqmc.afqmc.LNOAFQMC'> ********\n",
      "nocc = 2, nmo = 4\n",
      "max_memory 4000 MB (current use 170 MB)\n",
      "thresh_occ = 1.000000e-10\n",
      "thresh_vir = 1.000000e-10\n",
      "force_outcore_ao2mo = True\n",
      "no_type = ie\n",
      "Constructing LOs\n",
      "lo_type = pm\n",
      "LOs span exactly the occupied space.\n",
      "Using single-LO fragment\n",
      "nfrag = 2  nlo = 2\n",
      "frag_atmlist = None\n",
      "frag_lolist = [[0], [1]]\n",
      "frag_wghtlist = [1. 1.]\n",
      "frag_nonvlist = None\n",
      "    CPU time for LO and fragment        0.28 sec, wall time      0.31 sec\n",
      "ao2mo est mem= 0.00 MB  avail mem= 3819.19 MB\n",
      "Lov is saved to /tmp/r20rltcu\n",
      "    CPU time for transforming DF-MP2 integrals      0.02 sec, wall time      0.00 sec\n",
      "    CPU time for Integral xform         0.02 sec, wall time      0.01 sec\n",
      "    CPU time for make pno               0.00 sec, wall time      0.00 sec\n",
      "Solving impurity problem\n",
      "#\n",
      "# Preparing LNO-AFQMC calculation\n",
      "# Calculating Cholesky integrals\n",
      "# Generating Cholesky Integrals\n",
      "# frozen orbitals are 0\n",
      "# local active orbitals are [0 1 2 3]\n",
      "# local active space size 4\n",
      "# loc_eris shape: (16, 16)\n",
      "# chol shape: (9, 16)\n",
      "# Finished calculating Cholesky integrals\n",
      "\n",
      "# Size of the correlation space:\n",
      "# Number of electrons: (2, 2)\n",
      "# Number of basis functions: 4\n",
      "# Number of Cholesky vectors: 9\n",
      "\n"
     ]
    },
    {
     "ename": "UnboundLocalError",
     "evalue": "local variable 'value1' referenced before assignment",
     "output_type": "error",
     "traceback": [
      "\u001b[0;31m---------------------------------------------------------------------------\u001b[0m",
      "\u001b[0;31mUnboundLocalError\u001b[0m                         Traceback (most recent call last)",
      "Cell \u001b[0;32mIn[5], line 12\u001b[0m\n\u001b[1;32m     10\u001b[0m mfcc\u001b[38;5;241m.\u001b[39mfrag_lolist \u001b[38;5;241m=\u001b[39m \u001b[38;5;124m'\u001b[39m\u001b[38;5;124m1o\u001b[39m\u001b[38;5;124m'\u001b[39m\n\u001b[1;32m     11\u001b[0m mfcc\u001b[38;5;241m.\u001b[39mforce_outcore_ao2mo \u001b[38;5;241m=\u001b[39m \u001b[38;5;28;01mTrue\u001b[39;00m\n\u001b[0;32m---> 12\u001b[0m \u001b[43mmfcc\u001b[49m\u001b[38;5;241;43m.\u001b[39;49m\u001b[43mkernel\u001b[49m\u001b[43m(\u001b[49m\u001b[43m)\u001b[49m\n",
      "File \u001b[0;32m~/research/software/cs_afqmc/ad_afqmc/lno/base/lno.py:823\u001b[0m, in \u001b[0;36mLNO.kernel\u001b[0;34m(self, eris, orbloc, lo_type, no_type, frag_lolist, frag_atmlist, frag_wghtlist, frag_nonvlist, canonicalize)\u001b[0m\n\u001b[1;32m    814\u001b[0m log\u001b[38;5;241m.\u001b[39mtimer(\u001b[38;5;124m'\u001b[39m\u001b[38;5;124mLO and fragment  \u001b[39m\u001b[38;5;124m'\u001b[39m, \u001b[38;5;241m*\u001b[39mcput0)\n\u001b[1;32m    815\u001b[0m \u001b[38;5;66;03m#if(self.multislater):\u001b[39;00m\n\u001b[1;32m    816\u001b[0m \u001b[38;5;66;03m#  #import pdb;pdb.set_trace()\u001b[39;00m\n\u001b[1;32m    817\u001b[0m \u001b[38;5;66;03m#  mo = self._scf.mo_coeff\u001b[39;00m\n\u001b[0;32m   (...)\u001b[0m\n\u001b[1;32m    820\u001b[0m \u001b[38;5;66;03m#  mo_1 = mo[:,active_space[0]]\u001b[39;00m\n\u001b[1;32m    821\u001b[0m \u001b[38;5;66;03m#  overlap = mo_1 @ ovlp_matrix @ mo\u001b[39;00m\n\u001b[0;32m--> 823\u001b[0m frag_res \u001b[38;5;241m=\u001b[39m \u001b[43mkernel\u001b[49m\u001b[43m(\u001b[49m\u001b[38;5;28;43mself\u001b[39;49m\u001b[43m,\u001b[49m\u001b[43m \u001b[49m\u001b[43morbloc\u001b[49m\u001b[43m,\u001b[49m\u001b[43m \u001b[49m\u001b[43mfrag_lolist\u001b[49m\u001b[43m,\u001b[49m\u001b[43m \u001b[49m\u001b[43mno_type\u001b[49m\u001b[43m,\u001b[49m\n\u001b[1;32m    824\u001b[0m \u001b[43m                  \u001b[49m\u001b[43meris\u001b[49m\u001b[38;5;241;43m=\u001b[39;49m\u001b[43meris\u001b[49m\u001b[43m,\u001b[49m\u001b[43m \u001b[49m\u001b[43mfrag_nonvlist\u001b[49m\u001b[38;5;241;43m=\u001b[39;49m\u001b[43mfrag_nonvlist\u001b[49m\u001b[43m)\u001b[49m\n\u001b[1;32m    826\u001b[0m \u001b[38;5;28mself\u001b[39m\u001b[38;5;241m.\u001b[39m_post_proc(frag_res, frag_wghtlist)\n\u001b[1;32m    828\u001b[0m \u001b[38;5;28mself\u001b[39m\u001b[38;5;241m.\u001b[39m_finalize()\n",
      "File \u001b[0;32m~/research/software/cs_afqmc/ad_afqmc/lno/base/lno.py:88\u001b[0m, in \u001b[0;36mkernel\u001b[0;34m(mfcc, orbloc, frag_lolist, no_type, eris, frag_nonvlist)\u001b[0m\n\u001b[1;32m     86\u001b[0m orbfragloc \u001b[38;5;241m=\u001b[39m orbloc[:,fraglo]\n\u001b[1;32m     87\u001b[0m frag_target_nocc, frag_target_nvir \u001b[38;5;241m=\u001b[39m frag_nonvlist[ifrag]\n\u001b[0;32m---> 88\u001b[0m frag_msg, frag_res[ifrag] \u001b[38;5;241m=\u001b[39m \u001b[43mkernel_1frag\u001b[49m\u001b[43m(\u001b[49m\u001b[43mmfcc\u001b[49m\u001b[43m,\u001b[49m\u001b[43m \u001b[49m\u001b[43meris\u001b[49m\u001b[43m,\u001b[49m\u001b[43m \u001b[49m\u001b[43morbfragloc\u001b[49m\u001b[43m,\u001b[49m\u001b[43m \u001b[49m\u001b[43mno_type\u001b[49m\u001b[43m,\u001b[49m\n\u001b[1;32m     89\u001b[0m \u001b[43m                                         \u001b[49m\u001b[43mfrag_target_nocc\u001b[49m\u001b[38;5;241;43m=\u001b[39;49m\u001b[43mfrag_target_nocc\u001b[49m\u001b[43m,\u001b[49m\n\u001b[1;32m     90\u001b[0m \u001b[43m                                         \u001b[49m\u001b[43mfrag_target_nvir\u001b[49m\u001b[38;5;241;43m=\u001b[39;49m\u001b[43mfrag_target_nvir\u001b[49m\u001b[43m,\u001b[49m\u001b[43mcanonicalize\u001b[49m\u001b[38;5;241;43m=\u001b[39;49m\u001b[43mcanonicalize\u001b[49m\u001b[43m,\u001b[49m\u001b[43mifrag\u001b[49m\u001b[38;5;241;43m=\u001b[39;49m\u001b[43mifrag\u001b[49m\u001b[43m)\u001b[49m\n\u001b[1;32m     91\u001b[0m cput1 \u001b[38;5;241m=\u001b[39m log\u001b[38;5;241m.\u001b[39mtimer(\u001b[38;5;124m'\u001b[39m\u001b[38;5;124mFragment \u001b[39m\u001b[38;5;132;01m%d\u001b[39;00m\u001b[38;5;124m'\u001b[39m\u001b[38;5;241m%\u001b[39m(ifrag\u001b[38;5;241m+\u001b[39m\u001b[38;5;241m1\u001b[39m)\u001b[38;5;241m+\u001b[39m\u001b[38;5;124m'\u001b[39m\u001b[38;5;124m \u001b[39m\u001b[38;5;124m'\u001b[39m\u001b[38;5;241m*\u001b[39m(\u001b[38;5;241m8\u001b[39m\u001b[38;5;241m-\u001b[39m\u001b[38;5;28mlen\u001b[39m(\u001b[38;5;28mstr\u001b[39m(ifrag\u001b[38;5;241m+\u001b[39m\u001b[38;5;241m1\u001b[39m))), \u001b[38;5;241m*\u001b[39mcput1)\n\u001b[1;32m     92\u001b[0m log\u001b[38;5;241m.\u001b[39minfo(\u001b[38;5;124m'\u001b[39m\u001b[38;5;124mFragment \u001b[39m\u001b[38;5;132;01m%d\u001b[39;00m\u001b[38;5;124m  \u001b[39m\u001b[38;5;132;01m%s\u001b[39;00m\u001b[38;5;124m'\u001b[39m, ifrag\u001b[38;5;241m+\u001b[39m\u001b[38;5;241m1\u001b[39m, frag_msg)\n",
      "File \u001b[0;32m~/research/software/cs_afqmc/ad_afqmc/lno/base/lno.py:133\u001b[0m, in \u001b[0;36mkernel_1frag\u001b[0;34m(mfcc, eris, orbfragloc, no_type, **kwargs)\u001b[0m\n\u001b[1;32m    130\u001b[0m \u001b[38;5;28;01mif\u001b[39;00m(canonicalize \u001b[38;5;241m==\u001b[39m \u001b[38;5;28;01mTrue\u001b[39;00m): frag_msg, frag_res \u001b[38;5;241m=\u001b[39m mfcc\u001b[38;5;241m.\u001b[39mimpurity_solve(mf,orbfrag,orbfragloc,frozen\u001b[38;5;241m=\u001b[39mfrzfrag,\n\u001b[1;32m    131\u001b[0m                                                                    eris\u001b[38;5;241m=\u001b[39meris,log\u001b[38;5;241m=\u001b[39mlog)\n\u001b[1;32m    132\u001b[0m \u001b[38;5;66;03m#else: frag_msg, frag_res = mfcc.impurity_solve(mf, orbfrag, orbfragloc,frozen=frzfrag, eris=eris, log=log,can_orbfrag=can_orbfrag,nblocks = mfcc.nblocks,seed = mfcc.seed,chol_cut = mfcc.chol_cut, cholesky_threshold = mfcc.cholesky_threshold)\u001b[39;00m\n\u001b[0;32m--> 133\u001b[0m \u001b[38;5;28;01melse\u001b[39;00m : frag_msg, frag_res \u001b[38;5;241m=\u001b[39m \u001b[43mmfcc\u001b[49m\u001b[38;5;241;43m.\u001b[39;49m\u001b[43mimpurity_solve\u001b[49m\u001b[43m(\u001b[49m\u001b[43mmf\u001b[49m\u001b[43m,\u001b[49m\u001b[43morbfrag\u001b[49m\u001b[43m,\u001b[49m\u001b[43morbfragloc\u001b[49m\u001b[43m,\u001b[49m\u001b[43mfrozen\u001b[49m\u001b[38;5;241;43m=\u001b[39;49m\u001b[43mfrzfrag\u001b[49m\u001b[43m,\u001b[49m\n\u001b[1;32m    134\u001b[0m \u001b[43m                                                \u001b[49m\u001b[43meris\u001b[49m\u001b[38;5;241;43m=\u001b[39;49m\u001b[43meris\u001b[49m\u001b[43m,\u001b[49m\u001b[43mlog\u001b[49m\u001b[38;5;241;43m=\u001b[39;49m\u001b[43mlog\u001b[49m\u001b[43m,\u001b[49m\u001b[43mcan_orbfrag\u001b[49m\u001b[38;5;241;43m=\u001b[39;49m\u001b[43mcan_orbfrag\u001b[49m\u001b[43m)\u001b[49m\n\u001b[1;32m    135\u001b[0m cput1 \u001b[38;5;241m=\u001b[39m log\u001b[38;5;241m.\u001b[39mtimer(\u001b[38;5;124m'\u001b[39m\u001b[38;5;124mimp sol          \u001b[39m\u001b[38;5;124m'\u001b[39m, \u001b[38;5;241m*\u001b[39mcput1)\n\u001b[1;32m    136\u001b[0m \u001b[38;5;28;01mreturn\u001b[39;00m frag_msg, frag_res\n",
      "File \u001b[0;32m~/research/software/cs_afqmc/ad_afqmc/lno/afqmc/afqmc.py:178\u001b[0m, in \u001b[0;36mLNOAFQMC.impurity_solve\u001b[0;34m(self, mf, mo_coeff, lo_coeff, eris, frozen, log, can_orbfrag)\u001b[0m\n\u001b[1;32m    177\u001b[0m \u001b[38;5;28;01mdef\u001b[39;00m\u001b[38;5;250m \u001b[39m\u001b[38;5;21mimpurity_solve\u001b[39m(\u001b[38;5;28mself\u001b[39m, mf, mo_coeff, lo_coeff, eris\u001b[38;5;241m=\u001b[39m\u001b[38;5;28;01mNone\u001b[39;00m, frozen\u001b[38;5;241m=\u001b[39m\u001b[38;5;28;01mNone\u001b[39;00m, log\u001b[38;5;241m=\u001b[39m\u001b[38;5;28;01mNone\u001b[39;00m,can_orbfrag\u001b[38;5;241m=\u001b[39m\u001b[38;5;28;01mNone\u001b[39;00m):\n\u001b[0;32m--> 178\u001b[0m     \u001b[38;5;28;01mreturn\u001b[39;00m \u001b[43mimpurity_solve\u001b[49m\u001b[43m(\u001b[49m\u001b[43mmf\u001b[49m\u001b[43m,\u001b[49m\n\u001b[1;32m    179\u001b[0m \u001b[43m                          \u001b[49m\u001b[43mmo_coeff\u001b[49m\u001b[43m,\u001b[49m\n\u001b[1;32m    180\u001b[0m \u001b[43m                          \u001b[49m\u001b[43mlo_coeff\u001b[49m\u001b[43m,\u001b[49m\n\u001b[1;32m    181\u001b[0m \u001b[43m                          \u001b[49m\u001b[43mactive_space\u001b[49m\u001b[43m \u001b[49m\u001b[38;5;241;43m=\u001b[39;49m\u001b[43m \u001b[49m\u001b[38;5;28;43mself\u001b[39;49m\u001b[38;5;241;43m.\u001b[39;49m\u001b[43mactive_space\u001b[49m\u001b[43m,\u001b[49m\n\u001b[1;32m    182\u001b[0m \u001b[43m                          \u001b[49m\u001b[43mfrozen\u001b[49m\u001b[43m \u001b[49m\u001b[38;5;241;43m=\u001b[39;49m\u001b[43m \u001b[49m\u001b[43mfrozen\u001b[49m\u001b[43m,\u001b[49m\n\u001b[1;32m    183\u001b[0m \u001b[43m                          \u001b[49m\u001b[43meris\u001b[49m\u001b[43m \u001b[49m\u001b[38;5;241;43m=\u001b[39;49m\u001b[43m \u001b[49m\u001b[43meris\u001b[49m\u001b[43m,\u001b[49m\n\u001b[1;32m    184\u001b[0m \u001b[43m                          \u001b[49m\u001b[43mfilename\u001b[49m\u001b[43m \u001b[49m\u001b[38;5;241;43m=\u001b[39;49m\u001b[43m \u001b[49m\u001b[38;5;124;43m'\u001b[39;49m\u001b[38;5;124;43mfragmentenergies.txt\u001b[39;49m\u001b[38;5;124;43m'\u001b[39;49m\u001b[43m,\u001b[49m\n\u001b[1;32m    185\u001b[0m \u001b[43m                          \u001b[49m\u001b[43mcan_orbfrag\u001b[49m\u001b[43m \u001b[49m\u001b[38;5;241;43m=\u001b[39;49m\u001b[43m \u001b[49m\u001b[43mcan_orbfrag\u001b[49m\u001b[43m,\u001b[49m\n\u001b[1;32m    186\u001b[0m \u001b[43m                          \u001b[49m\u001b[43mchol_cut\u001b[49m\u001b[43m \u001b[49m\u001b[38;5;241;43m=\u001b[39;49m\u001b[43m \u001b[49m\u001b[38;5;28;43mself\u001b[39;49m\u001b[38;5;241;43m.\u001b[39;49m\u001b[43mchol_cut\u001b[49m\u001b[43m,\u001b[49m\n\u001b[1;32m    187\u001b[0m \u001b[43m                          \u001b[49m\u001b[43mmaxError\u001b[49m\u001b[43m \u001b[49m\u001b[38;5;241;43m=\u001b[39;49m\u001b[43m \u001b[49m\u001b[38;5;28;43mself\u001b[39;49m\u001b[38;5;241;43m.\u001b[39;49m\u001b[43mmaxError\u001b[49m\u001b[43m,\u001b[49m\n\u001b[1;32m    188\u001b[0m \u001b[43m                          \u001b[49m\u001b[43mdt\u001b[49m\u001b[43m \u001b[49m\u001b[38;5;241;43m=\u001b[39;49m\u001b[43m \u001b[49m\u001b[38;5;28;43mself\u001b[39;49m\u001b[38;5;241;43m.\u001b[39;49m\u001b[43mdt\u001b[49m\u001b[43m,\u001b[49m\n\u001b[1;32m    189\u001b[0m \u001b[43m                          \u001b[49m\u001b[43mnwalk_per_proc\u001b[49m\u001b[43m \u001b[49m\u001b[38;5;241;43m=\u001b[39;49m\u001b[43m \u001b[49m\u001b[38;5;28;43mself\u001b[39;49m\u001b[38;5;241;43m.\u001b[39;49m\u001b[43mnwalk_per_proc\u001b[49m\u001b[43m,\u001b[49m\n\u001b[1;32m    190\u001b[0m \u001b[43m                          \u001b[49m\u001b[43mnproc\u001b[49m\u001b[43m \u001b[49m\u001b[38;5;241;43m=\u001b[39;49m\u001b[43m \u001b[49m\u001b[38;5;28;43mself\u001b[39;49m\u001b[38;5;241;43m.\u001b[39;49m\u001b[43mnproc\u001b[49m\u001b[43m,\u001b[49m\n\u001b[1;32m    191\u001b[0m \u001b[43m                          \u001b[49m\u001b[43mnblocks\u001b[49m\u001b[43m \u001b[49m\u001b[38;5;241;43m=\u001b[39;49m\u001b[43m \u001b[49m\u001b[38;5;28;43mself\u001b[39;49m\u001b[38;5;241;43m.\u001b[39;49m\u001b[43mnblocks\u001b[49m\u001b[43m,\u001b[49m\n\u001b[1;32m    192\u001b[0m \u001b[43m                          \u001b[49m\u001b[43mlog\u001b[49m\u001b[43m \u001b[49m\u001b[38;5;241;43m=\u001b[39;49m\u001b[43m \u001b[49m\u001b[43mlog\u001b[49m\u001b[43m,\u001b[49m\n\u001b[1;32m    193\u001b[0m \u001b[43m                          \u001b[49m\u001b[43mverbose_imp\u001b[49m\u001b[43m \u001b[49m\u001b[38;5;241;43m=\u001b[39;49m\u001b[43m \u001b[49m\u001b[38;5;28;43mself\u001b[39;49m\u001b[38;5;241;43m.\u001b[39;49m\u001b[43mverbose_imp\u001b[49m\u001b[43m)\u001b[49m\n",
      "File \u001b[0;32m~/research/software/cs_afqmc/ad_afqmc/lno/afqmc/afqmc.py:89\u001b[0m, in \u001b[0;36mimpurity_solve\u001b[0;34m(mf, mo_coeff, lo_coeff, active_space, frozen, eris, filename, can_orbfrag, chol_cut, maxError, dt, nwalk_per_proc, nproc, nblocks, log, verbose_imp)\u001b[0m\n\u001b[1;32m     86\u001b[0m   act_index\u001b[38;5;241m.\u001b[39mappend(np\u001b[38;5;241m.\u001b[39margmax(np\u001b[38;5;241m.\u001b[39mabs(mf\u001b[38;5;241m.\u001b[39mmo_coeff[:,active_space[i]]\u001b[38;5;129m@mf\u001b[39m\u001b[38;5;241m.\u001b[39mget_ovlp(mf\u001b[38;5;241m.\u001b[39mmol)\u001b[38;5;129m@mo_coeff\u001b[39m)))\n\u001b[1;32m     88\u001b[0m \u001b[38;5;28;01mfrom\u001b[39;00m\u001b[38;5;250m \u001b[39m\u001b[38;5;21;01mad_afqmc\u001b[39;00m\u001b[38;5;250m \u001b[39m\u001b[38;5;28;01mimport\u001b[39;00m run_afqmc\n\u001b[0;32m---> 89\u001b[0m e_afqmc,err_afqmc \u001b[38;5;241m=\u001b[39m \u001b[43mrun_afqmc\u001b[49m\u001b[38;5;241;43m.\u001b[39;49m\u001b[43mrun_afqmc_lno_mf\u001b[49m\u001b[43m(\u001b[49m\u001b[43mmf\u001b[49m\u001b[43m,\u001b[49m\n\u001b[1;32m     90\u001b[0m \u001b[43m                                               \u001b[49m\u001b[43mmo_coeff\u001b[49m\u001b[43m \u001b[49m\u001b[38;5;241;43m=\u001b[39;49m\u001b[43m \u001b[49m\u001b[43mmo_coeff\u001b[49m\u001b[43m,\u001b[49m\n\u001b[1;32m     91\u001b[0m \u001b[43m                                               \u001b[49m\u001b[43mnorb_act\u001b[49m\u001b[43m \u001b[49m\u001b[38;5;241;43m=\u001b[39;49m\u001b[43m \u001b[49m\u001b[43m(\u001b[49m\u001b[43mnactocc\u001b[49m\u001b[38;5;241;43m+\u001b[39;49m\u001b[43mnactvir\u001b[49m\u001b[43m)\u001b[49m\u001b[43m,\u001b[49m\n\u001b[1;32m     92\u001b[0m \u001b[43m                                               \u001b[49m\u001b[43mnelec_act\u001b[49m\u001b[43m \u001b[49m\u001b[38;5;241;43m=\u001b[39;49m\u001b[43m \u001b[49m\u001b[43mnactocc\u001b[49m\u001b[38;5;241;43m*\u001b[39;49m\u001b[38;5;241;43m2\u001b[39;49m\u001b[43m,\u001b[49m\n\u001b[1;32m     93\u001b[0m \u001b[43m                                               \u001b[49m\u001b[43mnorb_frozen\u001b[49m\u001b[43m \u001b[49m\u001b[38;5;241;43m=\u001b[39;49m\u001b[43m \u001b[49m\u001b[43mfrozen\u001b[49m\u001b[43m,\u001b[49m\n\u001b[1;32m     94\u001b[0m \u001b[43m                                               \u001b[49m\u001b[43morbitalE\u001b[49m\u001b[43m \u001b[49m\u001b[38;5;241;43m=\u001b[39;49m\u001b[43m \u001b[49m\u001b[43mnactocc\u001b[49m\u001b[38;5;241;43m-\u001b[39;49m\u001b[38;5;241;43m1\u001b[39;49m\u001b[43m,\u001b[49m\n\u001b[1;32m     95\u001b[0m \u001b[43m                                               \u001b[49m\u001b[43mdt\u001b[49m\u001b[43m \u001b[49m\u001b[38;5;241;43m=\u001b[39;49m\u001b[43m \u001b[49m\u001b[43mdt\u001b[49m\u001b[43m,\u001b[49m\n\u001b[1;32m     96\u001b[0m \u001b[43m                                               \u001b[49m\u001b[43mnwalk_per_proc\u001b[49m\u001b[43m \u001b[49m\u001b[38;5;241;43m=\u001b[39;49m\u001b[43m \u001b[49m\u001b[43mnwalk_per_proc\u001b[49m\u001b[43m,\u001b[49m\n\u001b[1;32m     97\u001b[0m \u001b[43m                                               \u001b[49m\u001b[43mnproc\u001b[49m\u001b[43m \u001b[49m\u001b[38;5;241;43m=\u001b[39;49m\u001b[43m \u001b[49m\u001b[43mnproc\u001b[49m\u001b[43m,\u001b[49m\n\u001b[1;32m     98\u001b[0m \u001b[43m                                               \u001b[49m\u001b[43mnblocks\u001b[49m\u001b[43m \u001b[49m\u001b[38;5;241;43m=\u001b[39;49m\u001b[43m \u001b[49m\u001b[43mnblocks\u001b[49m\u001b[43m,\u001b[49m\n\u001b[1;32m     99\u001b[0m \u001b[43m                                               \u001b[49m\u001b[43mchol_cut\u001b[49m\u001b[43m \u001b[49m\u001b[38;5;241;43m=\u001b[39;49m\u001b[43m \u001b[49m\u001b[43mchol_cut\u001b[49m\u001b[43m,\u001b[49m\n\u001b[1;32m    100\u001b[0m \u001b[43m                                               \u001b[49m\u001b[43mmaxError\u001b[49m\u001b[43m \u001b[49m\u001b[38;5;241;43m=\u001b[39;49m\u001b[43m \u001b[49m\u001b[43mmaxError\u001b[49m\u001b[43m,\u001b[49m\n\u001b[1;32m    101\u001b[0m \u001b[43m                                               \u001b[49m\u001b[43mprjlo\u001b[49m\u001b[43m \u001b[49m\u001b[38;5;241;43m=\u001b[39;49m\u001b[43m \u001b[49m\u001b[43mprjlo\u001b[49m\u001b[43m)\u001b[49m\n\u001b[1;32m    104\u001b[0m \u001b[38;5;28;01mif\u001b[39;00m(e_afqmc\u001b[38;5;241m==\u001b[39m\u001b[38;5;241m0\u001b[39m \u001b[38;5;129;01mand\u001b[39;00m err_afqmc\u001b[38;5;241m==\u001b[39m\u001b[38;5;241m0\u001b[39m):\n\u001b[1;32m    105\u001b[0m     frag_msg \u001b[38;5;241m=\u001b[39m \u001b[38;5;124m'\u001b[39m\u001b[38;5;124m  \u001b[39m\u001b[38;5;124m'\u001b[39m\u001b[38;5;241m.\u001b[39mjoin([\u001b[38;5;124mf\u001b[39m\u001b[38;5;124m'\u001b[39m\u001b[38;5;124mE_corr(MP2) = 0\u001b[39m\u001b[38;5;124m'\u001b[39m, \u001b[38;5;124mf\u001b[39m\u001b[38;5;124m'\u001b[39m\u001b[38;5;124mE_corr(AFQMC) = 0\u001b[39m\u001b[38;5;124m'\u001b[39m, \u001b[38;5;124mf\u001b[39m\u001b[38;5;124m'\u001b[39m\u001b[38;5;124mE_corr(CCSD(T)) = 0\u001b[39m\u001b[38;5;124m'\u001b[39m])\n",
      "File \u001b[0;32m~/research/software/cs_afqmc/ad_afqmc/run_afqmc.py:252\u001b[0m, in \u001b[0;36mrun_afqmc_lno_mf\u001b[0;34m(mf, mo_coeff, norb_act, nelec_act, norb_frozen, orbitalE, script, integrals, dt, nwalk_per_proc, nblocks, mpi_prefix, nproc, chol_cut, maxError, prjlo)\u001b[0m\n\u001b[1;32m    249\u001b[0m         \u001b[38;5;28;01melif\u001b[39;00m line\u001b[38;5;241m.\u001b[39mstrip()\u001b[38;5;241m.\u001b[39mstartswith(\u001b[38;5;124m\"\u001b[39m\u001b[38;5;124m# Number of large deviations:\u001b[39m\u001b[38;5;124m\"\u001b[39m):\n\u001b[1;32m    250\u001b[0m             found_header \u001b[38;5;241m=\u001b[39m \u001b[38;5;28;01mTrue\u001b[39;00m\n\u001b[0;32m--> 252\u001b[0m \u001b[38;5;28;01mreturn\u001b[39;00m \u001b[43mvalue1\u001b[49m,value2\n",
      "\u001b[0;31mUnboundLocalError\u001b[0m: local variable 'value1' referenced before assignment"
     ]
    }
   ],
   "source": [
    "# from ad_afqmc.lno.afqmc import LNOAFQMC\n",
    "# thresh = 1e-10\n",
    "# mfcc = LNOAFQMC(mf, thresh=thresh, frozen=None).set(verbose=5)\n",
    "# mfcc.thresh_occ = thresh\n",
    "# mfcc.thresh_vir = thresh\n",
    "# mfcc.nblocks = 5\n",
    "# mfcc.nwalk_per_proc = 5\n",
    "# mfcc.lo_type = 'pm'\n",
    "# mfcc.no_type = 'cim'\n",
    "# mfcc.frag_lolist = '1o'\n",
    "# mfcc.force_outcore_ao2mo = True\n",
    "# mfcc.kernel()"
   ]
  },
  {
   "cell_type": "code",
   "execution_count": null,
   "id": "cc2a77e0",
   "metadata": {},
   "outputs": [
    {
     "name": "stdout",
     "output_type": "stream",
     "text": [
      "# Hostname: yichi-thinkpad\n",
      "# System Type: Linux\n",
      "# Machine Type: x86_64\n",
      "# Processor: x86_64\n",
      "#\n",
      "# Preparing AFQMC calculation\n",
      "# Calculating Cholesky integrals\n",
      "# Finished calculating Cholesky integrals\n",
      "#\n",
      "# Size of the correlation space:\n",
      "# Number of electrons: (5, 5)\n",
      "# Number of basis functions: 10\n",
      "# Number of Cholesky vectors: 32\n",
      "#\n",
      "# Number of MPI ranks: 1\n",
      "#\n",
      "# norb: 10\n",
      "# nelec: (5, 5)\n",
      "#\n",
      "# n_eql: 4\n",
      "# n_prop_steps: 10\n",
      "# n_ene_blocks: 1\n",
      "# n_sr_blocks: 10\n",
      "# n_blocks: 10\n",
      "# n_walkers: 1\n",
      "# seed: 2\n",
      "# walker_type: rhf\n",
      "# trial: rhf\n",
      "# dt: 0.005\n",
      "# free_projection: False\n",
      "# use_gpu: False\n",
      "# n_exp_terms: 6\n",
      "# orbital_rotation: True\n",
      "# do_sr: True\n",
      "# symmetry: False\n",
      "# save_walkers: False\n",
      "# ene0: 0.0\n",
      "# n_batch: 1\n",
      "# LNO: False\n",
      "# orbE: 0\n",
      "# maxError: 0.001\n",
      "#\n"
     ]
    }
   ],
   "source": [
    "# u = lno_maker.thouless_trans(mycc.t1)\n",
    "# mo_t = mf.mo_coeff @ u\n",
    "# mf.mo_coeff = mo_t\n",
    "from ad_afqmc import pyscf_interface, config, mpi_jax, driver\n",
    "from ad_afqmc.lno_afqmc import lnoafqmc_runner\n",
    "import numpy as np\n",
    "\n",
    "config.setup_jax()\n",
    "MPI = config.setup_comm()\n",
    "\n",
    "pyscf_interface.prep_afqmc(mf,chol_cut=1e-10)\n",
    "ham_data, ham, prop, trial, wave_data, sampler, observable, options, _ \\\n",
    "    = (mpi_jax._prep_afqmc(options))\n",
    "# init_walkers = trial.get_init_walkers(wave_data, prop.n_walkers, restricted=True)\n",
    "# init_walkers = u.T @ init_walkers\n",
    "# driver.afqmc(ham_data,ham,prop,trial,wave_data,sampler,observable,options,MPI,init_walkers)"
   ]
  },
  {
   "cell_type": "code",
   "execution_count": 153,
   "id": "589f7795",
   "metadata": {},
   "outputs": [
    {
     "name": "stdout",
     "output_type": "stream",
     "text": [
      "-4.5944887692788585\n",
      "-4.59407589378796\n",
      "-4.594488769302737\n"
     ]
    }
   ],
   "source": [
    "trial_rdm1 = trial.get_rdm1(wave_data)\n",
    "if \"rdm1\" not in wave_data:\n",
    "    wave_data[\"rdm1\"] = trial_rdm1\n",
    "ham_data = ham.build_measurement_intermediates(ham_data, trial, wave_data)\n",
    "ham_data = ham.build_propagation_intermediates(ham_data, prop, trial, wave_data)\n",
    "prop_data = prop.init_prop_data(trial, wave_data, ham_data, None)\n",
    "prop_data['walkers'] = u.T @ prop_data['walkers']\n",
    "prop_data = prop.init_prop_data(trial, wave_data, ham_data, prop_data['walkers'])\n",
    "print(prop_data['e_estimate'])\n",
    "print(mf.e_tot)\n",
    "print(ecc_t2_0)"
   ]
  },
  {
   "cell_type": "code",
   "execution_count": 130,
   "id": "bb33bff6",
   "metadata": {},
   "outputs": [
    {
     "name": "stdout",
     "output_type": "stream",
     "text": [
      "# Hostname: yichi-thinkpad\n",
      "# System Type: Linux\n",
      "# Machine Type: x86_64\n",
      "# Processor: x86_64\n"
     ]
    }
   ],
   "source": [
    "from jax import random\n",
    "config.setup_jax()\n",
    "MPI = config.setup_comm()\n",
    "\n",
    "comm = MPI.COMM_WORLD\n",
    "rank = comm.Get_rank()\n",
    "size = comm.Get_size()\n",
    "seed = options[\"seed\"]\n",
    "prop_data[\"key\"] = random.PRNGKey(seed + rank)\n",
    "\n",
    "prop_data[\"overlaps\"] = trial.calc_overlap(prop_data[\"walkers\"], wave_data)\n",
    "prop_data[\"n_killed_walkers\"] = 0\n",
    "prop_data[\"pop_control_ene_shift\"] = prop_data[\"e_estimate\"]"
   ]
  },
  {
   "cell_type": "code",
   "execution_count": 142,
   "id": "9321b52d",
   "metadata": {},
   "outputs": [
    {
     "name": "stdout",
     "output_type": "stream",
     "text": [
      "-4.641291410806528\n"
     ]
    }
   ],
   "source": [
    "prop_data, (block_energy, block_weight) \\\n",
    "    = sampler._block_scan(prop_data,None,ham_data,prop,trial,wave_data)\n",
    "print(block_energy)"
   ]
  },
  {
   "cell_type": "code",
   "execution_count": 154,
   "id": "65a48ca5",
   "metadata": {},
   "outputs": [
    {
     "data": {
      "text/plain": [
       "Array([-4.59448877+0.j], dtype=complex128)"
      ]
     },
     "execution_count": 154,
     "metadata": {},
     "output_type": "execute_result"
    }
   ],
   "source": [
    "trial.calc_energy(prop_data['walkers'], ham_data, wave_data)"
   ]
  },
  {
   "cell_type": "code",
   "execution_count": 32,
   "id": "c30feebb",
   "metadata": {},
   "outputs": [],
   "source": [
    "from jax import numpy as jnp\n",
    "from jax import vmap\n",
    "def walker_rhf_energy1(walker, ham_data, trial_mo):\n",
    "    h0, rot_h1, rot_chol = ham_data[\"h0\"], ham_data[\"rot_h1\"], ham_data[\"rot_chol\"]\n",
    "    ene0 = h0\n",
    "    green_walker = (walker.dot(jnp.linalg.inv(trial_mo.T.conj() @ walker))).T\n",
    "    ene1 = 2.0 * jnp.sum(green_walker * rot_h1)\n",
    "    f = jnp.einsum(\"gij,jk->gik\", rot_chol, green_walker.T, optimize=\"optimal\")\n",
    "    c = vmap(jnp.trace)(f)\n",
    "    exc = jnp.sum(vmap(lambda x: x * x.T)(f))\n",
    "    ene2 = 2.0 * jnp.sum(c * c) - exc\n",
    "    return ene0+ene1+ene2\n",
    "\n",
    "# def walker_rhf_energy2(walker, ham_data, trial_mo):\n",
    "#     h0, h1, chol = ham_data[\"h0\"], ham_data[\"h1\"][0], ham_data[\"chol\"]\n",
    "#     chol = chol.reshape((-1, h1.shape[-1], h1.shape[-1]))\n",
    "#     nocc = trial_mo.shape[1]\n",
    "#     ene0 = h0\n",
    "#     gf = (walker @ (jnp.linalg.inv(trial_mo.T.conj() @ walker)) @ trial_mo.T.conj())\n",
    "#     ene1 = 2.0 * jnp.einsum('ia,ia->',gf[:nocc,nocc:],h1[:nocc,nocc:])\n",
    "#     f = jnp.einsum(\"gij,jk->gik\", chol[:,:nocc,:nocc], gf[:nocc,:nocc], optimize=\"optimal\")\n",
    "#     c = vmap(jnp.trace)(f)\n",
    "#     exc = jnp.sum(vmap(lambda x: x * x.T)(f))\n",
    "#     ene2 = 2.0 * jnp.sum(c * c) - exc\n",
    "#     return ene0+ene1+ene2\n",
    "\n",
    "def rhf_olp(rhf1,rhf2):\n",
    "    '''<rhf1|rhf2>'''\n",
    "    olp = jnp.linalg.det(rhf1.T.conj() @ rhf2) ** 2\n",
    "    return olp"
   ]
  },
  {
   "cell_type": "code",
   "execution_count": 155,
   "id": "68e817c8",
   "metadata": {},
   "outputs": [
    {
     "data": {
      "text/plain": [
       "Array(-4.59448877+0.j, dtype=complex128)"
      ]
     },
     "execution_count": 155,
     "metadata": {},
     "output_type": "execute_result"
    }
   ],
   "source": [
    "walker_rhf_energy1(prop_data['walkers'][0],ham_data,wave_data['mo_coeff'])"
   ]
  },
  {
   "cell_type": "code",
   "execution_count": null,
   "id": "25f3a4f2",
   "metadata": {},
   "outputs": [
    {
     "name": "stdout",
     "output_type": "stream",
     "text": [
      "[[-1.39494247e+00 -1.52655666e-16  1.18481321e-01  4.44089210e-16]\n",
      " [-7.45931095e-17 -1.23539794e+00  0.00000000e+00 -9.29652546e-02]\n",
      " [ 1.18481321e-01  5.55111512e-17 -1.09350707e+00  1.52655666e-16]\n",
      " [ 1.66533454e-16 -9.29652546e-02  3.81639165e-16 -1.00930479e+00]]\n"
     ]
    }
   ],
   "source": [
    "# hcore = mf.get_hcore()\n",
    "# mo = mf.mo_coeff\n",
    "# # h1e_mo = np.dot(mo.T,np.dot( hcore, mo))\n",
    "# h1e_mo = mo.T @ hcore @ mo\n",
    "# print(h1e_mo)"
   ]
  },
  {
   "cell_type": "code",
   "execution_count": null,
   "id": "4a26f4e2",
   "metadata": {},
   "outputs": [
    {
     "data": {
      "text/plain": [
       "Array([[[ 0.00000000e+00,  3.90312782e-17,  2.77555756e-17,\n",
       "         -1.38777878e-16],\n",
       "        [-3.90312782e-17,  0.00000000e+00,  2.77555756e-17,\n",
       "          4.16333634e-17],\n",
       "        [-2.77555756e-17, -2.77555756e-17,  0.00000000e+00,\n",
       "          1.14491749e-16],\n",
       "        [ 1.38777878e-16, -4.16333634e-17, -1.14491749e-16,\n",
       "          0.00000000e+00]],\n",
       "\n",
       "       [[ 0.00000000e+00,  3.90312782e-17,  2.77555756e-17,\n",
       "         -1.38777878e-16],\n",
       "        [-3.90312782e-17,  0.00000000e+00,  2.77555756e-17,\n",
       "          4.16333634e-17],\n",
       "        [-2.77555756e-17, -2.77555756e-17,  0.00000000e+00,\n",
       "          1.14491749e-16],\n",
       "        [ 1.38777878e-16, -4.16333634e-17, -1.14491749e-16,\n",
       "          0.00000000e+00]]], dtype=float64)"
      ]
     },
     "execution_count": 11,
     "metadata": {},
     "output_type": "execute_result"
    }
   ],
   "source": [
    "# ham_data['h1']-h1e_mo"
   ]
  },
  {
   "cell_type": "code",
   "execution_count": 166,
   "id": "dd2dd44d",
   "metadata": {},
   "outputs": [
    {
     "data": {
      "text/plain": [
       "Array([-4.59448877+0.j], dtype=complex128)"
      ]
     },
     "execution_count": 166,
     "metadata": {},
     "output_type": "execute_result"
    }
   ],
   "source": [
    "trial.calc_energy(prop_data['walkers'], ham_data, wave_data)"
   ]
  },
  {
   "cell_type": "code",
   "execution_count": 168,
   "id": "d56ff205",
   "metadata": {},
   "outputs": [
    {
     "data": {
      "text/plain": [
       "Array(-4.59448877+0.j, dtype=complex128)"
      ]
     },
     "execution_count": 168,
     "metadata": {},
     "output_type": "execute_result"
    }
   ],
   "source": [
    "walker_rhf_energy1(u @ prop_data['walkers'][0],ham_data,wave_data['mo_coeff'])\\\n",
    "    + walker_rhf_coexc(prop_data['walkers'][0],ham_data,wave_data['mo_coeff'])[0] \\\n",
    "    + walker_rhf_fock_energy(prop_data['walkers'][0],ham_data,wave_data['mo_coeff'])[0]"
   ]
  },
  {
   "cell_type": "code",
   "execution_count": null,
   "id": "bead6033",
   "metadata": {},
   "outputs": [
    {
     "name": "stdout",
     "output_type": "stream",
     "text": [
      "(10, 4, 4)\n",
      "(4, 4, 4, 4)\n"
     ]
    }
   ],
   "source": [
    "# chol = ham_data['chol']\n",
    "# nao = ham_data['h1'].shape[-1]\n",
    "# chol = chol.reshape((-1, nao, nao))\n",
    "# print(chol.shape)\n",
    "# eris_chol = jnp.einsum('gpr,gqs->prqs',chol,chol,optimize='optimal')\n",
    "# print(eris_chol.shape)"
   ]
  },
  {
   "cell_type": "code",
   "execution_count": null,
   "id": "f8165ac0",
   "metadata": {},
   "outputs": [],
   "source": [
    "# from pyscf import ao2mo\n",
    "# from ad_afqmc import pyscf_interface\n",
    "# eri_mo = ao2mo.kernel(mf.mol,mf.mo_coeff,compact=False)\n",
    "# chol = pyscf_interface.modified_cholesky(eri_mo,max_error=chol_cut)"
   ]
  },
  {
   "cell_type": "code",
   "execution_count": null,
   "id": "bab13f76",
   "metadata": {},
   "outputs": [
    {
     "name": "stdout",
     "output_type": "stream",
     "text": [
      "(4, 4, 4, 4)\n"
     ]
    }
   ],
   "source": [
    "# eri_mo = ao2mo.incore.full(mol.intor('int2e'), mf.mo_coeff)\n",
    "# eri_mo = ao2mo.restore(1, eri_mo, mol.nao_nr())\n",
    "# # eri_mo = eri_mo.reshape((nao, nao, nao, nao))\n",
    "# print(eri_mo.shape)"
   ]
  },
  {
   "cell_type": "code",
   "execution_count": null,
   "id": "5d1e883a",
   "metadata": {},
   "outputs": [
    {
     "name": "stdout",
     "output_type": "stream",
     "text": [
      "1.5922312936410939e-16\n"
     ]
    }
   ],
   "source": [
    "# print(np.max(eri_mo-eris_chol))"
   ]
  },
  {
   "cell_type": "code",
   "execution_count": 25,
   "id": "d97032e5",
   "metadata": {},
   "outputs": [],
   "source": [
    "options = {'n_eql': 4,\n",
    "           'n_prop_steps': 10,\n",
    "            'n_ene_blocks': 1,\n",
    "            'n_sr_blocks': 10,\n",
    "            'n_blocks': 10,\n",
    "            'n_walkers': 1,\n",
    "            'seed': 2,\n",
    "            'walker_type': 'rhf',\n",
    "            'trial': 'cisd',\n",
    "            'dt':0.005,\n",
    "            'free_projection':False,\n",
    "            'ad_mode':None,\n",
    "            'use_gpu': False,\n",
    "            }"
   ]
  },
  {
   "cell_type": "code",
   "execution_count": 26,
   "id": "41f3b4d9",
   "metadata": {},
   "outputs": [
    {
     "name": "stdout",
     "output_type": "stream",
     "text": [
      "lo_type = boys\n",
      "\n",
      "\n",
      "******** <class 'pyscf.lo.boys.Boys'> ********\n",
      "conv_tol = 1e-06\n",
      "conv_tol_grad = None\n",
      "max_cycle = 100\n",
      "max_stepsize = 0.01\n",
      "max_iters = 20\n",
      "kf_interval = 5\n",
      "kf_trust_region = 5\n",
      "ah_start_tol = 1000000000.0\n",
      "ah_start_cycle = 1\n",
      "ah_level_shift = 0\n",
      "ah_conv_tol = 1e-12\n",
      "ah_lindep = 1e-14\n",
      "ah_max_cycle = 40\n",
      "ah_trust_region = 3\n",
      "init_guess = atomic\n",
      "Set conv_tol_grad to 0.000316228\n"
     ]
    },
    {
     "name": "stdout",
     "output_type": "stream",
     "text": [
      "macro= 1  f(x)= 101.97870152776  delta_f= 101.979  |g|= 58.3944  2 KF 10 Hx\n",
      "macro= 2  f(x)= 97.22236209194  delta_f= -4.75634  |g|= 39.0553  2 KF 10 Hx\n",
      "macro= 3  f(x)= 95.74602696065  delta_f= -1.47634  |g|= 30.6397  2 KF 10 Hx\n",
      "macro= 4  f(x)= 95.24408659054  delta_f= -0.50194  |g|= 28.9266  2 KF 10 Hx\n",
      "macro= 5  f(x)= 93.93065512168  delta_f= -1.31343  |g|= 25.158  2 KF 10 Hx\n",
      "macro= 6  f(x)= 92.098062176497  delta_f= -1.83259  |g|= 25.5206  2 KF 10 Hx\n",
      "macro= 7  f(x)= 88.614258845254  delta_f= -3.4838  |g|= 27.5866  2 KF 10 Hx\n",
      "macro= 8  f(x)= 83.238466711799  delta_f= -5.37579  |g|= 31.2358  2 KF 10 Hx\n",
      "macro= 9  f(x)= 76.125681206905  delta_f= -7.11279  |g|= 34.7645  2 KF 10 Hx\n",
      "macro= 10  f(x)= 68.051949154684  delta_f= -8.07373  |g|= 36.0058  2 KF 10 Hx\n",
      "macro= 11  f(x)= 60.071684107329  delta_f= -7.98027  |g|= 33.935  2 KF 10 Hx\n",
      "macro= 12  f(x)= 53.187230658207  delta_f= -6.88445  |g|= 27.6938  2 KF 10 Hx\n",
      "macro= 13  f(x)= 48.389230201603  delta_f= -4.798  |g|= 17.1913  2 KF 10 Hx\n",
      "macro= 14  f(x)= 46.682074026442  delta_f= -1.70716  |g|= 2.74676  2 KF 9 Hx\n",
      "macro= 15  f(x)= 46.674614085528  delta_f= -0.00745994  |g|= 0.00917567  2 KF 6 Hx\n",
      "macro= 16  f(x)= 46.674614085528  delta_f= -5.68434e-14  |g|= 4.76192e-05  1 KF 1 Hx\n",
      "macro X = 16  f(x)= 46.674614085528  |g|= 4.76192e-05  32 intor 31 KF 146 Hx\n",
      "Lov is saved to /tmp/e75qcsle\n",
      "# lno thresh [1e-09, 1e-10]\n",
      "\n",
      "########### running fragment 1 ##########\n",
      "Using DF integrals\n",
      "Lov is saved to /tmp/z7rl5giq\n",
      "Using DF integrals\n",
      "# active orbitals: [0 1 2 3 4 5 6 7 8 9]\n",
      "# active occupied orbitals: [0 1 2 3 4]\n",
      "# active virtual orbitals: [5 6 7 8 9]\n",
      "# frozen orbitals: []\n",
      "\n",
      "WARN: CCSD detected DF being used in the HF object. MO integrals are computed based on the DF 3-index tensors.\n",
      "It's recommended to use dfccsd.CCSD for the DF-CCSD calculations\n",
      "\n",
      "Init t2, MP2 energy = -4.78609521109039  E_corr(MP2) -0.191764691843916\n",
      "\n",
      "******** <class 'pyscf.cc.dfccsd.RCCSD'> ********\n",
      "CC2 = 0\n",
      "CCSD nocc = 5, nmo = 10\n",
      "frozen orbitals 0\n",
      "max_cycle = 50\n",
      "direct = 0\n",
      "conv_tol = 1e-07\n",
      "conv_tol_normt = 1e-05\n",
      "diis_space = 6\n",
      "diis_start_cycle = 0\n",
      "diis_start_energy_diff = 1e+09\n",
      "max_memory 4000 MB (current use 367 MB)\n",
      "Init E_corr(RCCSD) = -0.191764691845617\n",
      "cycle = 1  E_corr(RCCSD) = -0.275119577251526  dE = -0.0833548854  norm(t1,t2) = 0.167612\n",
      "cycle = 2  E_corr(RCCSD) = -0.322511582481178  dE = -0.0473920052  norm(t1,t2) = 0.103737\n",
      "cycle = 3  E_corr(RCCSD) = -0.377520383942593  dE = -0.0550088015  norm(t1,t2) = 0.0647524\n",
      "cycle = 4  E_corr(RCCSD) = -0.389011067249086  dE = -0.0114906833  norm(t1,t2) = 0.0350391\n",
      "cycle = 5  E_corr(RCCSD) = -0.391287851319617  dE = -0.00227678407  norm(t1,t2) = 0.0232989\n",
      "cycle = 6  E_corr(RCCSD) = -0.398469156772552  dE = -0.00718130545  norm(t1,t2) = 0.0186459\n",
      "cycle = 7  E_corr(RCCSD) = -0.407296125807995  dE = -0.00882696904  norm(t1,t2) = 0.013159\n",
      "cycle = 8  E_corr(RCCSD) = -0.409514764034113  dE = -0.00221863823  norm(t1,t2) = 0.00967813\n",
      "cycle = 9  E_corr(RCCSD) = -0.41378211014768  dE = -0.00426734611  norm(t1,t2) = 0.00792466\n",
      "cycle = 10  E_corr(RCCSD) = -0.416175215483383  dE = -0.00239310534  norm(t1,t2) = 0.0056497\n",
      "cycle = 11  E_corr(RCCSD) = -0.418869675542101  dE = -0.00269446006  norm(t1,t2) = 0.0036603\n",
      "cycle = 12  E_corr(RCCSD) = -0.420474550591838  dE = -0.00160487505  norm(t1,t2) = 0.0025937\n",
      "cycle = 13  E_corr(RCCSD) = -0.422536765378101  dE = -0.00206221479  norm(t1,t2) = 0.00179471\n",
      "cycle = 14  E_corr(RCCSD) = -0.422800146758351  dE = -0.00026338138  norm(t1,t2) = 0.000754558\n",
      "cycle = 15  E_corr(RCCSD) = -0.422722049608066  dE = 7.80971503e-05  norm(t1,t2) = 0.000487272\n",
      "cycle = 16  E_corr(RCCSD) = -0.422630943382433  dE = 9.11062256e-05  norm(t1,t2) = 0.000303546\n",
      "cycle = 17  E_corr(RCCSD) = -0.422555261295182  dE = 7.56820873e-05  norm(t1,t2) = 0.00020118\n",
      "cycle = 18  E_corr(RCCSD) = -0.42250206583468  dE = 5.31954605e-05  norm(t1,t2) = 9.97366e-05\n",
      "cycle = 19  E_corr(RCCSD) = -0.422488129724339  dE = 1.39361103e-05  norm(t1,t2) = 6.91304e-05\n",
      "cycle = 20  E_corr(RCCSD) = -0.422491693882913  dE = -3.56415857e-06  norm(t1,t2) = 5.75826e-05\n",
      "cycle = 21  E_corr(RCCSD) = -0.422507327193624  dE = -1.56333107e-05  norm(t1,t2) = 5.09064e-05\n",
      "cycle = 22  E_corr(RCCSD) = -0.422546301268128  dE = -3.89740745e-05  norm(t1,t2) = 4.51765e-05\n",
      "cycle = 23  E_corr(RCCSD) = -0.422569296236018  dE = -2.29949679e-05  norm(t1,t2) = 3.21417e-05\n",
      "cycle = 24  E_corr(RCCSD) = -0.422596019911359  dE = -2.67236753e-05  norm(t1,t2) = 2.38861e-05\n",
      "cycle = 25  E_corr(RCCSD) = -0.422611517931151  dE = -1.54980198e-05  norm(t1,t2) = 1.49715e-05\n",
      "cycle = 26  E_corr(RCCSD) = -0.422613226842264  dE = -1.70891111e-06  norm(t1,t2) = 6.8945e-06\n",
      "cycle = 27  E_corr(RCCSD) = -0.422611693972094  dE = 1.53287017e-06  norm(t1,t2) = 4.68875e-06\n",
      "cycle = 28  E_corr(RCCSD) = -0.422610597531743  dE = 1.09644035e-06  norm(t1,t2) = 3.26664e-06\n",
      "cycle = 29  E_corr(RCCSD) = -0.422609204739609  dE = 1.39279213e-06  norm(t1,t2) = 2.13069e-06\n",
      "cycle = 30  E_corr(RCCSD) = -0.422609283746753  dE = -7.90071447e-08  norm(t1,t2) = 1.39857e-06\n",
      "RCCSD converged\n",
      "E(RCCSD) = -5.01693980299323  E_corr = -0.4226092837467532\n",
      "# Generating Cholesky Integrals\n",
      "# frozen orbitals: []\n",
      "# local active orbitals: [0 1 2 3 4 5 6 7 8 9]\n",
      "# local active space size: 10\n",
      "# composing ERIs from DF vectors\n",
      "# decomposing ERIs to Cholesky vectors\n",
      "# Cholesky cutoff is: 1e-10\n",
      "# Finished calculating Cholesky integrals\n",
      "\n",
      "# Size of the correlation space\n",
      "# Number of electrons: (5, 5)\n",
      "# Number of basis functions: 10\n",
      "# Number of Cholesky vectors: 38\n",
      "\n"
     ]
    }
   ],
   "source": [
    "from pyscf.ci.cisd import CISD\n",
    "from pyscf.cc.ccsd import CCSD\n",
    "from pyscf.cc.uccsd import UCCSD\n",
    "from ad_afqmc.lno.cc import LNOCCSD\n",
    "from ad_afqmc.lno_afqmc import lno_maker, afqmc_maker, data_maker, lnoafqmc_runner\n",
    "from pyscf import ao2mo, mcscf, scf, lib\n",
    "\n",
    "frozen = None\n",
    "thresh = 1e-10\n",
    "lo_type = 'boys'\n",
    "run_frg_list = [0]\n",
    "eris = None\n",
    "\n",
    "mfcc = mf\n",
    "if isinstance(mfcc, (CCSD, CISD)):\n",
    "    full_cisd = True\n",
    "    mf = mfcc._scf\n",
    "else:\n",
    "    full_cisd = False\n",
    "    mf = mfcc\n",
    "\n",
    "no_type = 'ie' # cim\n",
    "\n",
    "if isinstance(thresh, list):\n",
    "    thresh_occ, thresh_vir = thresh\n",
    "else:\n",
    "    thresh_occ = thresh*10\n",
    "    thresh_vir = thresh\n",
    "\n",
    "lno_cc = LNOCCSD(mf, thresh=thresh, frozen=frozen)\n",
    "lno_cc.thresh_occ = thresh_occ\n",
    "lno_cc.thresh_vir = thresh_vir\n",
    "lno_cc.lo_type = lo_type\n",
    "lno_cc.no_type = no_type\n",
    "lno_cc.force_outcore_ao2mo = True\n",
    "\n",
    "s1e = mf.get_ovlp()\n",
    "lococc = lno_cc.get_lo(lo_type=lo_type) # localized active occ orbitals\n",
    "# lococc,locvir = lno_maker.get_lo(lno_cc,lo_type) ### fix this for DF\n",
    "if eris is None: eris = lno_cc.ao2mo()\n",
    "\n",
    "frag_lolist = [[i] for i in range(lococc.shape[1])]\n",
    "nfrag = len(frag_lolist)\n",
    "\n",
    "frozen_mask = lno_cc.get_frozen_mask()\n",
    "thresh_pno = [thresh_occ,thresh_vir]\n",
    "print(f'# lno thresh {thresh_pno}')\n",
    "\n",
    "if run_frg_list is None:\n",
    "    run_frg_list = range(nfrag)\n",
    "    \n",
    "from jax import random\n",
    "seeds = random.randint(random.PRNGKey(options[\"seed\"]),\n",
    "                    shape=(len(run_frg_list),), minval=0, maxval=100*nfrag)\n",
    "\n",
    "for ifrag in run_frg_list:\n",
    "    print(f'\\n########### running fragment {ifrag+1} ##########')\n",
    "\n",
    "    fraglo = frag_lolist[ifrag]\n",
    "    orbfragloc = lococc[:,fraglo]\n",
    "    THRESH_INTERNAL = 1e-10\n",
    "    frzfrag, orbfrag, can_orbfrag \\\n",
    "        = lno_maker.make_lno(\n",
    "            lno_cc,orbfragloc,THRESH_INTERNAL,thresh_pno\n",
    "            )\n",
    "    \n",
    "    mol = mf.mol\n",
    "    nocc = mol.nelectron // 2 \n",
    "    nao = mol.nao\n",
    "    actfrag = np.array([i for i in range(nao) if i not in frzfrag])\n",
    "    # frzocc = np.array([i for i in range(nocc) if i in frzfrag])\n",
    "    actocc = np.array([i for i in range(nocc) if i in actfrag])\n",
    "    actvir = np.array([i for i in range(nocc,nao) if i in actfrag])\n",
    "    nactocc = len(actocc)\n",
    "    nactocc = len(actocc)\n",
    "    nactvir = len(actvir)\n",
    "    prjlo = orbfragloc.T @ s1e @ orbfrag[:,actocc]\n",
    "\n",
    "    print(f'# active orbitals: {actfrag}')\n",
    "    print(f'# active occupied orbitals: {actocc}')\n",
    "    print(f'# active virtual orbitals: {actvir}')\n",
    "    print(f'# frozen orbitals: {frzfrag}')\n",
    "\n",
    "    ecorr_cc,t1,t2 = lno_maker.lno_cc_solver(\n",
    "                        mf,orbfrag,orbfragloc,frozen=frzfrag,eris=eris\n",
    "                        )\n",
    "    ci1 = np.array(t1)\n",
    "    ci2 = t2 + lib.einsum(\"ia,jb->ijab\",ci1,ci1)\n",
    "    ci2 = ci2.transpose(0, 2, 1, 3)\n",
    "    options[\"seed\"] = seeds[ifrag]\n",
    "    nelec_act = nactocc*2\n",
    "    norb_act = nactocc+nactvir\n",
    "    lnoafqmc_runner.prep_lnoafqmc_file(\n",
    "            mf,orbfrag,options,\n",
    "            norb_act=norb_act,nelec_act=nelec_act,\n",
    "            prjlo=prjlo,norb_frozen=frzfrag,\n",
    "            ci1=ci1,ci2=ci2,chol_cut=1e-10,\n",
    "            )"
   ]
  },
  {
   "cell_type": "code",
   "execution_count": 27,
   "id": "d03c9c23",
   "metadata": {},
   "outputs": [
    {
     "name": "stdout",
     "output_type": "stream",
     "text": [
      "# Hostname: yichi-thinkpad\n",
      "# System Type: Linux\n",
      "# Machine Type: x86_64\n",
      "# Processor: x86_64\n",
      "# Number of MPI ranks: 1\n",
      "#\n",
      "# norb: 10\n",
      "# nelec: (5, 5)\n",
      "# nchol: 38\n",
      "#\n",
      "# n_eql: 4\n",
      "# n_prop_steps: 10\n",
      "# n_ene_blocks: 1\n",
      "# n_sr_blocks: 10\n",
      "# n_blocks: 10\n",
      "# n_walkers: 1\n",
      "# seed: 450\n",
      "# walker_type: rhf\n",
      "# trial: cisd\n",
      "# dt: 0.005\n",
      "# free_projection: False\n",
      "# use_gpu: False\n",
      "# n_exp_terms: 6\n",
      "# orbital_rotation: True\n",
      "# do_sr: True\n",
      "# symmetry: False\n",
      "# save_walkers: False\n",
      "# n_batch: 1\n",
      "# ene0: 0\n",
      "#\n",
      "# Hostname: yichi-thinkpad\n",
      "# System Type: Linux\n",
      "# Machine Type: x86_64\n",
      "# Processor: x86_64\n",
      "-5.016939861084169\n"
     ]
    }
   ],
   "source": [
    "from ad_afqmc import config, wavefunctions, stat_utils\n",
    "ham_data, ham, prop, trial, wave_data, sampler, observable, options, _ = (\n",
    "    lnoafqmc_runner.prep_lnoafqmc_run())\n",
    "\n",
    "config.setup_jax()\n",
    "MPI = config.setup_comm()\n",
    "\n",
    "# init_time = time.time()\n",
    "comm = MPI.COMM_WORLD\n",
    "rank = comm.Get_rank()  # Process rank\n",
    "size = comm.Get_size()  # Total number of processes\n",
    "\n",
    "\n",
    "### initialize propagation\n",
    "seed = options[\"seed\"]\n",
    "propagator = prop\n",
    "init_walkers = None\n",
    "ham_data = wavefunctions.rhf(trial.norb, trial.nelec,n_batch=trial.n_batch\n",
    "                                )._build_measurement_intermediates(ham_data, wave_data)\n",
    "ham_data = ham.build_measurement_intermediates(ham_data, trial, wave_data)\n",
    "ham_data = ham.build_propagation_intermediates(ham_data, propagator, trial, wave_data)\n",
    "prop_data = propagator.init_prop_data(trial, wave_data, ham_data, init_walkers)\n",
    "\n",
    "prop_data[\"key\"] = random.PRNGKey(seed + rank)\n",
    "\n",
    "prop_data[\"overlaps\"] = trial.calc_overlap(prop_data[\"walkers\"], wave_data)\n",
    "prop_data[\"n_killed_walkers\"] = 0\n",
    "prop_data[\"pop_control_ene_shift\"] = prop_data[\"e_estimate\"]\n",
    "print(prop_data['e_estimate'])"
   ]
  },
  {
   "cell_type": "code",
   "execution_count": 77,
   "id": "415f48d0",
   "metadata": {},
   "outputs": [],
   "source": [
    "calc_e_rhf = wavefunctions.rhf(trial.norb, trial.nelec,n_batch=trial.n_batch\n",
    "                                )._calc_energy_restricted\n",
    "cal_eorb_rhf = wavefunctions.rhf(trial.norb, trial.nelec,n_batch=trial.n_batch\n",
    "                                )._calc_orbenergy"
   ]
  },
  {
   "cell_type": "code",
   "execution_count": 91,
   "id": "26ba4fe8",
   "metadata": {},
   "outputs": [],
   "source": [
    "def walker_rhf_fock_energy(walker,ham_data,trial_mo):\n",
    "    '''one-body part of rhf walker's energy with \n",
    "    non-orthonal trial C_ia <psi|H|psi_ia>\n",
    "    should be (close to) zero for orthogonal trial!!!'''\n",
    "\n",
    "    rot_h1,rot_chol = ham_data['rot_h1'],ham_data['rot_chol']\n",
    "    nocc = rot_h1.shape[0]\n",
    "    gw = (walker.dot(jnp.linalg.inv(trial_mo.T.conj() @ walker))).T\n",
    "    f = jnp.einsum('gja,ai->gji',rot_chol[:,:nocc,nocc:],\n",
    "                    gw.T[nocc:,:nocc],optimize='optimal')\n",
    "    tr_f = vmap(jnp.trace)(f)\n",
    "    tr_chol = vmap(jnp.trace)(rot_chol[:,:nocc,:nocc])\n",
    "    e_fock1 = 2*jnp.einsum('ia,ia->',gw[:nocc,nocc:],rot_h1[:nocc,nocc:])\n",
    "    e_fock2 = 4*jnp.einsum('g,g->',tr_f,tr_chol)\\\n",
    "              - 2*jnp.einsum('gji,gij->',f,rot_chol[:,:nocc,:nocc])\n",
    "    # ene12 = 2*jnp.sum(tf*tc) \\\n",
    "    #         - jnp.einsum('gik,gki->',f,rot_chol[:,:nocc,:nocc])\n",
    "    return e_fock1+e_fock2,e_fock1,e_fock2\n",
    "\n",
    "def walker_rhf_coexc(walker,ham_data,trial_mo):\n",
    "    '''two-body part of rhf walker's energy with \n",
    "    non-orthonal trial C_ijab <psi|H|psi_{ia}^{jb}>'''\n",
    "\n",
    "    rot_h1,rot_chol = ham_data['rot_h1'],ham_data['rot_chol']\n",
    "    nocc = rot_h1.shape[0]\n",
    "    gw = (walker.dot(jnp.linalg.inv(trial_mo.T.conj() @ walker))).T\n",
    "    f = jnp.einsum('gja,ai->gji',rot_chol[:,:nocc,nocc:],\n",
    "                    gw.T[nocc:,:nocc],optimize='optimal')\n",
    "    tr_f = vmap(jnp.trace)(f)\n",
    "    e_col = 2*jnp.einsum('g,g->',tr_f,tr_f)\n",
    "    e_exc = -jnp.einsum('gij,gji->',f,f)\n",
    "    # e_col = 2*jnp.einsum('ia,jb,gia,gjb->',\n",
    "    #                      gf[:nocc,nocc:],gf[:nocc,nocc:],\n",
    "    #                      rot_chol[:,:nocc,nocc:],rot_chol[:,:nocc,nocc:])\n",
    "    # e_exc = - jnp.einsum('ia,jb,gib,gja->',\n",
    "    #                      gf[:nocc,nocc:],gf[:nocc,nocc:],\n",
    "    #                      rot_chol[:,:nocc,nocc:],rot_chol[:,:nocc,nocc:])\n",
    "    return e_col+e_exc,e_col,e_exc\n",
    "\n",
    "def walker_norhf_energy(walker, ham_data, trial_mo):\n",
    "    rot_h1,rot_chol = ham_data['rot_h1'],ham_data['rot_chol']\n",
    "    nocc = rot_h1.shape[0]\n",
    "    gw = (walker.dot(jnp.linalg.inv(trial_mo.T.conj() @ walker))).T\n",
    "    f = jnp.einsum('gja,ai->gji',rot_chol[:,:nocc,nocc:],\n",
    "                    gw.T[nocc:,:nocc],optimize='optimal')\n",
    "    tr_f = vmap(jnp.trace)(f)\n",
    "    # one-bady part\n",
    "    tr_chol = vmap(jnp.trace)(rot_chol[:,:nocc,:nocc])\n",
    "    e_fock1 = 2*jnp.einsum('ia,ia->',gw[:nocc,nocc:],rot_h1[:nocc,nocc:])\n",
    "    e_fock2 = 4*jnp.einsum('g,g->',tr_f,tr_chol)\\\n",
    "              - 2*jnp.einsum('gji,gij->',f,rot_chol[:,:nocc,:nocc])\n",
    "    ene1 = e_fock1+e_fock2\n",
    "    # two-body part\n",
    "    e_col = 2*jnp.einsum('g,g->',tr_f,tr_f)\n",
    "    e_exc = -jnp.einsum('gij,gji->',f,f)\n",
    "    ene2 = e_col+e_exc\n",
    "    return ene1+ene2"
   ]
  },
  {
   "cell_type": "code",
   "execution_count": null,
   "id": "abeebd01",
   "metadata": {},
   "outputs": [],
   "source": [
    "# # m = jnp.dot(wave_data[\"prjlo\"].T,wave_data[\"prjlo\"])\n",
    "# walker = prop_data['walkers'][0]\n",
    "# trial_mo = wave_data['mo_coeff']\n",
    "# rot_h1,rot_chol = ham_data['rot_h1'],ham_data['rot_chol']\n",
    "# nocc = rot_h1.shape[0]\n",
    "# gw = (walker.dot(jnp.linalg.inv(trial_mo.T.conj() @ walker))).T\n",
    "# f = jnp.einsum('gja,ai->gji',rot_chol[:,:nocc,nocc:],\n",
    "#                 gw.T[nocc:,:nocc],optimize='optimal')\n",
    "# # tr_f = vmap(jnp.trace)(f)\n",
    "# tr_chol = vmap(jnp.trace)(rot_chol[:,:nocc,:nocc])\n",
    "# e_fock1 = 2*jnp.einsum('ia,ia->i',gw[:nocc,nocc:],rot_h1[:nocc,nocc:])\n",
    "# e_fock2 = 4*jnp.einsum('gii,g->i',f,tr_chol)\\\n",
    "#             - 2*jnp.einsum('gij,gji->i',f,rot_chol[:,:nocc,:nocc])"
   ]
  },
  {
   "cell_type": "code",
   "execution_count": null,
   "id": "af32a2a2",
   "metadata": {},
   "outputs": [
    {
     "name": "stdout",
     "output_type": "stream",
     "text": [
      "(0.0008342048701999041-0.05914059703327663j)\n",
      "(-0.0008342135997256271+0.05914058530018232j)\n",
      "[-0.00098792-0.01761472j -0.00096544-0.01274369j -0.00066245-0.01029588j\n",
      "  0.00159431+0.01077798j  0.0010215 +0.0298763j ]\n",
      "(-8.729525723810694e-09-1.1733094298221891e-08j)\n"
     ]
    }
   ],
   "source": [
    "# print(e_fock1.sum())\n",
    "# print(e_fock2.sum())\n",
    "# print(e_fock1+e_fock2)\n",
    "# print(sum(e_fock1+e_fock2))"
   ]
  },
  {
   "cell_type": "code",
   "execution_count": 106,
   "id": "cbae0007",
   "metadata": {},
   "outputs": [],
   "source": [
    "def walker_rhf_fock_eorb(walker,ham_data,wave_data):\n",
    "    '''one-body part of rhf walker's energy with \n",
    "    non-orthonal trial C_ia <psi|H|psi_ia>\n",
    "    should be (close to) zero for orthogonal trial!!!'''\n",
    "    m = jnp.dot(wave_data[\"prjlo\"].T,wave_data[\"prjlo\"])\n",
    "    trial_mo = wave_data['mo_coeff']\n",
    "    rot_h1,rot_chol = ham_data['rot_h1'],ham_data['rot_chol']\n",
    "    nocc = rot_h1.shape[0]\n",
    "    gw = (walker.dot(jnp.linalg.inv(trial_mo.T.conj() @ walker))).T\n",
    "    f = jnp.einsum('gja,ai->gji',rot_chol[:,:nocc,nocc:],\n",
    "                    gw.T[nocc:,:nocc],optimize='optimal')\n",
    "    # tr_f = vmap(jnp.trace)(f)\n",
    "    tr_chol = vmap(jnp.trace)(rot_chol[:,:nocc,:nocc])\n",
    "    e_fock1 = 2*jnp.einsum('ia,ka,ik->',gw[:nocc,nocc:],rot_h1[:nocc,nocc:],m)\n",
    "    e_fock2 = 4*jnp.einsum('gik,ik,g->',f,m,tr_chol)\\\n",
    "              - 2*jnp.einsum('gij,gjk,ik->',f,rot_chol[:,:nocc,:nocc],m)\n",
    "    return e_fock1+e_fock2\n",
    "\n",
    "def walker_rhf_ceorb(walker,ham_data,wave_data):\n",
    "    '''two-body part of rhf walker's energy with \n",
    "    non-orthonal trial C_ijab <psi|H|psi_{ia}^{jb}>'''\n",
    "    m = jnp.dot(wave_data[\"prjlo\"].T,wave_data[\"prjlo\"])\n",
    "    trial_mo = wave_data['mo_coeff']\n",
    "    rot_h1,rot_chol = ham_data['rot_h1'],ham_data['rot_chol']\n",
    "    nocc = rot_h1.shape[0]\n",
    "    gw = (walker.dot(jnp.linalg.inv(trial_mo.T.conj() @ walker))).T\n",
    "    f = jnp.einsum('gja,ai->gji',rot_chol[:,:nocc,nocc:],\n",
    "                    gw.T[nocc:,:nocc],optimize='optimal')\n",
    "    tr_f = vmap(jnp.trace)(f)\n",
    "    e_col = 2*jnp.einsum('gik,ik,g->',f,m,tr_f)\n",
    "    e_exc = -jnp.einsum('gij,gjk,ik->',f,f,m)\n",
    "    return e_col+e_exc\n",
    "\n",
    "def walker_norhf_orbe(walker,ham_data,wave_data):\n",
    "    m = jnp.dot(wave_data[\"prjlo\"].T,wave_data[\"prjlo\"])\n",
    "    trial_mo = wave_data['mo_coeff']\n",
    "    rot_h1,rot_chol = ham_data['rot_h1'],ham_data['rot_chol']\n",
    "    nocc = rot_h1.shape[0]\n",
    "    gw = (walker.dot(jnp.linalg.inv(trial_mo.T.conj() @ walker))).T\n",
    "    f = jnp.einsum('gja,ai->gji',rot_chol[:,:nocc,nocc:],\n",
    "                    gw.T[nocc:,:nocc],optimize='optimal')\n",
    "    # tr_f = vmap(jnp.trace)(f)\n",
    "    tr_chol = vmap(jnp.trace)(rot_chol[:,:nocc,:nocc])\n",
    "    e_fock1 = 2*jnp.einsum('ia,ka,ik->',gw[:nocc,nocc:],rot_h1[:nocc,nocc:],m)\n",
    "    e_fock2 = 4*jnp.einsum('gik,ik,g->',f,m,tr_chol)\\\n",
    "              - 2*jnp.einsum('gij,gjk,ik->',f,rot_chol[:,:nocc,:nocc],m)\n",
    "    ene1 = e_fock1+e_fock2\n",
    "    tr_f = vmap(jnp.trace)(f)\n",
    "    e_col = 2*jnp.einsum('gik,ik,g->',f,m,tr_f)\n",
    "    e_exc = -jnp.einsum('gij,gjk,ik->',f,f,m)\n",
    "    ene2 = e_col+e_exc\n",
    "    return ene1+ene2"
   ]
  },
  {
   "cell_type": "code",
   "execution_count": 96,
   "id": "864eda00",
   "metadata": {},
   "outputs": [
    {
     "name": "stdout",
     "output_type": "stream",
     "text": [
      "(5, 5)\n"
     ]
    }
   ],
   "source": [
    "m = jnp.dot(wave_data[\"prjlo\"].T,wave_data[\"prjlo\"])\n",
    "print(m.shape)"
   ]
  },
  {
   "cell_type": "code",
   "execution_count": 112,
   "id": "a6fba267",
   "metadata": {},
   "outputs": [
    {
     "data": {
      "text/plain": [
       "True"
      ]
     },
     "execution_count": 112,
     "metadata": {},
     "output_type": "execute_result"
    }
   ],
   "source": [
    "isinstance(trial, (wavefunctions.cisd))"
   ]
  },
  {
   "cell_type": "code",
   "execution_count": 108,
   "id": "fc8d53bc",
   "metadata": {},
   "outputs": [
    {
     "data": {
      "text/plain": [
       "cisd(norb=10, nelec=(5, 5), n_batch=1)"
      ]
     },
     "execution_count": 108,
     "metadata": {},
     "output_type": "execute_result"
    }
   ],
   "source": [
    "trial"
   ]
  },
  {
   "cell_type": "code",
   "execution_count": 92,
   "id": "60483ea6",
   "metadata": {},
   "outputs": [
    {
     "data": {
      "text/plain": [
       "(Array(-8.72952573e-09-1.17330942e-08j, dtype=complex128),\n",
       " Array(0.0008342-0.0591406j, dtype=complex128),\n",
       " Array(-0.00083421+0.05914059j, dtype=complex128))"
      ]
     },
     "execution_count": 92,
     "metadata": {},
     "output_type": "execute_result"
    }
   ],
   "source": [
    "walker_rhf_fock_energy(prop_data['walkers'][0],ham_data,wave_data['mo_coeff'])"
   ]
  },
  {
   "cell_type": "code",
   "execution_count": 73,
   "id": "d146d337",
   "metadata": {},
   "outputs": [
    {
     "name": "stdout",
     "output_type": "stream",
     "text": [
      "-5.000420318017777\n",
      "(-4.621558180328421+0.003094638741867148j)\n",
      "-4.594330519246477\n"
     ]
    }
   ],
   "source": [
    "prop_data, (blk_en,blk_wt,blk_hf_orb_en,blk_cc_orb_en) \\\n",
    "    = afqmc_maker.block_orb(prop_data,ham_data,prop,trial,wave_data,sampler)\n",
    "print(blk_en)\n",
    "print(walker_rhf_energy1(prop_data['walkers'][0],ham_data,wave_data['mo_coeff']))\n",
    "print(mf.e_tot)"
   ]
  },
  {
   "cell_type": "code",
   "execution_count": 74,
   "id": "5f8e8170",
   "metadata": {},
   "outputs": [
    {
     "data": {
      "text/plain": [
       "Array(-4.62155818+0.00309464j, dtype=complex128)"
      ]
     },
     "execution_count": 74,
     "metadata": {},
     "output_type": "execute_result"
    }
   ],
   "source": [
    "calc_e_rhf(prop_data['walkers'][0],ham_data,wave_data)"
   ]
  },
  {
   "cell_type": "code",
   "execution_count": 89,
   "id": "f1743561",
   "metadata": {},
   "outputs": [
    {
     "data": {
      "text/plain": [
       "Array(-0.01514809+0.00265803j, dtype=complex128)"
      ]
     },
     "execution_count": 89,
     "metadata": {},
     "output_type": "execute_result"
    }
   ],
   "source": [
    "walker_rhf_ceorb(prop_data['walkers'][0],ham_data,wave_data)"
   ]
  },
  {
   "cell_type": "code",
   "execution_count": 94,
   "id": "7f550de0",
   "metadata": {},
   "outputs": [
    {
     "data": {
      "text/plain": [
       "Array(0.0010215+0.0298763j, dtype=complex128)"
      ]
     },
     "execution_count": 94,
     "metadata": {},
     "output_type": "execute_result"
    }
   ],
   "source": [
    "walker_rhf_fock_eorb(prop_data['walkers'][0],ham_data,wave_data)"
   ]
  },
  {
   "cell_type": "code",
   "execution_count": 107,
   "id": "55955715",
   "metadata": {},
   "outputs": [
    {
     "data": {
      "text/plain": [
       "Array(-0.01412659+0.03253433j, dtype=complex128)"
      ]
     },
     "execution_count": 107,
     "metadata": {},
     "output_type": "execute_result"
    }
   ],
   "source": [
    "walker_norhf_orbe(prop_data['walkers'][0],ham_data,wave_data)"
   ]
  },
  {
   "cell_type": "code",
   "execution_count": 93,
   "id": "e75d5150",
   "metadata": {},
   "outputs": [
    {
     "data": {
      "text/plain": [
       "(Array(-8.72952573e-09-1.17330942e-08j, dtype=complex128),\n",
       " Array(0.0008342-0.0591406j, dtype=complex128),\n",
       " Array(-0.00083421+0.05914059j, dtype=complex128))"
      ]
     },
     "execution_count": 93,
     "metadata": {},
     "output_type": "execute_result"
    }
   ],
   "source": [
    "walker_rhf_fock_energy(prop_data['walkers'][0],ham_data,wave_data['mo_coeff'])"
   ]
  },
  {
   "cell_type": "code",
   "execution_count": 86,
   "id": "d96d07fa",
   "metadata": {},
   "outputs": [
    {
     "name": "stdout",
     "output_type": "stream",
     "text": [
      "(-0.015148090536907648+0.002658033773818848j)\n"
     ]
    }
   ],
   "source": [
    "rot_h1,rot_chol = ham_data['rot_h1'],ham_data['rot_chol']\n",
    "walker = prop_data['walkers'][0]\n",
    "print(cal_eorb_rhf(0,rot_h1,rot_chol,walker,wave_data,orbE=0))"
   ]
  },
  {
   "cell_type": "code",
   "execution_count": 76,
   "id": "894a9614",
   "metadata": {},
   "outputs": [
    {
     "data": {
      "text/plain": [
       "Array(-4.62155818+0.00309464j, dtype=complex128)"
      ]
     },
     "execution_count": 76,
     "metadata": {},
     "output_type": "execute_result"
    }
   ],
   "source": [
    "mf.e_tot \\\n",
    "    + walker_norhf_energy(prop_data['walkers'][0],ham_data,wave_data['mo_coeff'])[0]"
   ]
  },
  {
   "cell_type": "code",
   "execution_count": 62,
   "id": "15210f2c",
   "metadata": {},
   "outputs": [
    {
     "name": "stdout",
     "output_type": "stream",
     "text": [
      "(Array(-2.94908134e-08-2.88966882e-08j, dtype=complex128), Array(-0.00366678-0.07368464j, dtype=complex128), Array(0.00366675+0.07368461j, dtype=complex128))\n",
      "(-0.05410457269969854+0.005013833702532937j)\n"
     ]
    }
   ],
   "source": [
    "print(walker_rhf_fock_energy(prop_data['walkers'][0],ham_data,wave_data['mo_coeff']))\n",
    "print(walker_rhf_coexc(prop_data['walkers'][0],ham_data,wave_data['mo_coeff'])[0])"
   ]
  },
  {
   "cell_type": "code",
   "execution_count": 66,
   "id": "2239f471",
   "metadata": {},
   "outputs": [
    {
     "data": {
      "text/plain": [
       "Array(-4.64843512+0.0050138j, dtype=complex128)"
      ]
     },
     "execution_count": 66,
     "metadata": {},
     "output_type": "execute_result"
    }
   ],
   "source": [
    "mf.e_tot \\\n",
    "    + walker_rhf_coexc(prop_data['walkers'][0],ham_data,wave_data['mo_coeff'])[0] \\\n",
    "    + walker_rhf_fock_energy(prop_data['walkers'][0],ham_data,wave_data['mo_coeff'])[0]"
   ]
  },
  {
   "cell_type": "code",
   "execution_count": null,
   "id": "55248535",
   "metadata": {},
   "outputs": [],
   "source": []
  }
 ],
 "metadata": {
  "kernelspec": {
   "display_name": "lno_pyscf_afqmc",
   "language": "python",
   "name": "python3"
  },
  "language_info": {
   "codemirror_mode": {
    "name": "ipython",
    "version": 3
   },
   "file_extension": ".py",
   "mimetype": "text/x-python",
   "name": "python",
   "nbconvert_exporter": "python",
   "pygments_lexer": "ipython3",
   "version": "3.10.16"
  }
 },
 "nbformat": 4,
 "nbformat_minor": 5
}
