{
 "cells": [
  {
   "cell_type": "code",
   "execution_count": 1,
   "id": "47a47fec",
   "metadata": {},
   "outputs": [
    {
     "name": "stdout",
     "output_type": "stream",
     "text": [
      "System: uname_result(system='Linux', node='yichi-thinkpad', release='4.4.0-26100-Microsoft', version='#5074-Microsoft Fri Jan 01 08:00:00 PST 2016', machine='x86_64')  Threads 12\n",
      "Python 3.10.16 | packaged by conda-forge | (main, Dec  5 2024, 14:16:10) [GCC 13.3.0]\n",
      "numpy 1.24.3  scipy 1.14.1  h5py 3.12.1\n",
      "Date: Sun Oct  5 19:27:02 2025\n",
      "PySCF version 2.8.0\n",
      "PySCF path  /home/yichi/research/software/lno_pyscf\n",
      "GIT HEAD (branch master) ef75f4190e4de208685670651dc6c467f72b6794\n",
      "\n",
      "[ENV] PYSCF_EXT_PATH /home/yichi/research/software/pyscf\n",
      "[CONFIG] conf_file None\n",
      "[INPUT] verbose = 4\n",
      "[INPUT] num. atoms = 6\n",
      "[INPUT] num. electrons = 6\n",
      "[INPUT] charge = 0\n",
      "[INPUT] spin (= nelec alpha-beta = 2S) = 0\n",
      "[INPUT] symmetry False subgroup None\n",
      "[INPUT] Mole.unit = angstrom\n",
      "[INPUT] Symbol           X                Y                Z      unit          X                Y                Z       unit  Magmom\n",
      "[INPUT]  1 H      0.000000000000   0.000000000000   0.000000000000 AA    0.000000000000   0.000000000000   0.000000000000 Bohr   0.0\n",
      "[INPUT]  2 H      1.500000000000   0.000000000000   0.000000000000 AA    2.834589186848   0.000000000000   0.000000000000 Bohr   0.0\n",
      "[INPUT]  3 H      3.000000000000   0.000000000000   0.000000000000 AA    5.669178373695   0.000000000000   0.000000000000 Bohr   0.0\n",
      "[INPUT]  4 H      4.500000000000   0.000000000000   0.000000000000 AA    8.503767560543   0.000000000000   0.000000000000 Bohr   0.0\n",
      "[INPUT]  5 H      6.000000000000   0.000000000000   0.000000000000 AA   11.338356747390   0.000000000000   0.000000000000 Bohr   0.0\n",
      "[INPUT]  6 H      7.500000000000   0.000000000000   0.000000000000 AA   14.172945934238   0.000000000000   0.000000000000 Bohr   0.0\n",
      "\n",
      "nuclear repulsion = 3.069227823336\n",
      "number of shells = 6\n",
      "number of NR pGTOs = 36\n",
      "number of NR cGTOs = 6\n",
      "basis = sto6g\n",
      "ecp = {}\n",
      "CPU time:         5.48\n",
      "\n",
      "\n",
      "******** <class 'pyscf.df.df_jk.DFRHF'> ********\n",
      "method = DFRHF\n",
      "initial guess = minao\n",
      "damping factor = 0\n",
      "level_shift factor = 0\n",
      "DIIS = <class 'pyscf.scf.diis.CDIIS'>\n",
      "diis_start_cycle = 1\n",
      "diis_space = 8\n",
      "diis_damp = 0\n",
      "SCF conv_tol = 1e-09\n",
      "SCF conv_tol_grad = None\n",
      "SCF max_cycles = 50\n",
      "direct_scf = False\n",
      "chkfile to save SCF result = /tmp/tmpiau8mle7\n",
      "max_memory 4000 MB (current use 163 MB)\n",
      "Set gradient conv threshold to 3.16228e-05\n",
      "Initial guess from minao.\n",
      "******** <class 'pyscf.df.df.DF'> ********\n",
      "auxbasis = None\n",
      "max_memory = 4000\n",
      "ETB for H: l = 0, exps = 0.200224856 * 2^n , n = 0..8\n",
      "\n",
      "WARN: Even tempered Gaussians are generated as DF auxbasis for  H\n",
      "\n",
      "init E= -1.90232712819572\n",
      "  HOMO = -0.168003980151361  LUMO = -0.00716999162383663\n",
      "cycle= 1 E= -2.76420760013623  delta_E= -0.862  |g|= 0.0791  |ddm|= 1.79\n",
      "  HOMO = -0.259160892919913  LUMO = 0.0750866096233292\n",
      "cycle= 2 E= -2.77293060696991  delta_E= -0.00872  |g|= 0.038  |ddm|= 0.233\n",
      "  HOMO = -0.273678355898143  LUMO = 0.0938083879600429\n",
      "cycle= 3 E= -2.7753962441073  delta_E= -0.00247  |g|= 0.00495  |ddm|= 0.185\n",
      "  HOMO = -0.274999413720846  LUMO = 0.0930506154933071\n",
      "cycle= 4 E= -2.77541584386343  delta_E= -1.96e-05  |g|= 0.000495  |ddm|= 0.0154\n",
      "  HOMO = -0.274478539192834  LUMO = 0.0927203414314544\n",
      "cycle= 5 E= -2.77541616971423  delta_E= -3.26e-07  |g|= 6.67e-05  |ddm|= 0.00248\n",
      "  HOMO = -0.274554856149919  LUMO = 0.0927841313478364\n",
      "cycle= 6 E= -2.77541617693961  delta_E= -7.23e-09  |g|= 2.28e-06  |ddm|= 0.00034\n",
      "  HOMO = -0.274552346757816  LUMO = 0.0927819756769174\n",
      "cycle= 7 E= -2.77541617694808  delta_E= -8.48e-12  |g|= 8e-09  |ddm|= 1.14e-05\n",
      "  HOMO = -0.274552341390595  LUMO = 0.0927819752103009\n",
      "Extra cycle  E= -2.77541617694808  delta_E= 8.88e-16  |g|= 2.34e-09  |ddm|= 2.05e-08\n",
      "converged SCF energy = -2.77541617694808\n",
      "\n",
      "******** <class 'pyscf.cc.dfccsd.RCCSD'> ********\n",
      "CC2 = 0\n",
      "CCSD nocc = 3, nmo = 6\n",
      "max_cycle = 50\n",
      "direct = 0\n",
      "conv_tol = 1e-07\n",
      "conv_tol_normt = 1e-05\n",
      "diis_space = 6\n",
      "diis_start_cycle = 0\n",
      "diis_start_energy_diff = 1e+09\n",
      "max_memory 4000 MB (current use 168 MB)\n",
      "Init t2, MP2 energy = -2.90220954364375  E_corr(MP2) -0.126793366695672\n",
      "Init E_corr(RCCSD) = -0.126793366695672\n",
      "cycle = 1  E_corr(RCCSD) = -0.185502301507466  dE = -0.0587089348  norm(t1,t2) = 0.144606\n",
      "cycle = 2  E_corr(RCCSD) = -0.215475924322417  dE = -0.0299736228  norm(t1,t2) = 0.0822471\n",
      "cycle = 3  E_corr(RCCSD) = -0.242803366796873  dE = -0.0273274425  norm(t1,t2) = 0.0436303\n",
      "cycle = 4  E_corr(RCCSD) = -0.246925241038392  dE = -0.00412187424  norm(t1,t2) = 0.018099\n",
      "cycle = 5  E_corr(RCCSD) = -0.248726455846379  dE = -0.00180121481  norm(t1,t2) = 0.014296\n",
      "cycle = 6  E_corr(RCCSD) = -0.251416498965181  dE = -0.00269004312  norm(t1,t2) = 0.00808835\n",
      "cycle = 7  E_corr(RCCSD) = -0.252350520725347  dE = -0.00093402176  norm(t1,t2) = 0.00357027\n",
      "cycle = 8  E_corr(RCCSD) = -0.251603648433011  dE = 0.000746872292  norm(t1,t2) = 0.00186194\n",
      "cycle = 9  E_corr(RCCSD) = -0.251634814769932  dE = -3.11663369e-05  norm(t1,t2) = 0.00101157\n",
      "cycle = 10  E_corr(RCCSD) = -0.251777451742795  dE = -0.000142636973  norm(t1,t2) = 0.000464992\n",
      "cycle = 11  E_corr(RCCSD) = -0.251843841963774  dE = -6.6390221e-05  norm(t1,t2) = 0.0001546\n",
      "cycle = 12  E_corr(RCCSD) = -0.251851319469454  dE = -7.47750568e-06  norm(t1,t2) = 3.2397e-05\n",
      "cycle = 13  E_corr(RCCSD) = -0.251853751659024  dE = -2.43218957e-06  norm(t1,t2) = 1.39125e-05\n",
      "cycle = 14  E_corr(RCCSD) = -0.251853780777883  dE = -2.91188594e-08  norm(t1,t2) = 3.20995e-06\n",
      "RCCSD converged\n",
      "E(RCCSD) = -3.027269957725965  E_corr = -0.251853780777883\n"
     ]
    }
   ],
   "source": [
    "from functools import partial\n",
    "from pyscf import gto, scf, cc\n",
    "import numpy as np\n",
    "from jax import numpy as jnp\n",
    "from jax import vmap\n",
    "\n",
    "def get_oo_vv_ov_vo(nocc,m):\n",
    "    oo = m[:nocc,:nocc]\n",
    "    vv = m[nocc:,nocc:]\n",
    "    ov = m[:nocc,nocc:]\n",
    "    vo = m[nocc:,:nocc]\n",
    "    return oo,vv,ov,vo\n",
    "\n",
    "from jax import config\n",
    "config.update(\"jax_enable_x64\", True)\n",
    "\n",
    "print = partial(print, flush=True)\n",
    "\n",
    "a = 1.5 # 2aB\n",
    "nH = 6\n",
    "atoms = \"\"\n",
    "for i in range(nH):\n",
    "    atoms += f\"H {i*a:.5f} 0.00000 0.00000 \\n\"\n",
    "\n",
    "mol = gto.M(atom=atoms, basis=\"sto6g\", verbose=4)\n",
    "mol.build()\n",
    "\n",
    "mf = scf.RHF(mol).density_fit()\n",
    "# mf.conv_tol_grad = 1e-12\n",
    "# mf = mf.newton()\n",
    "e = mf.kernel()\n",
    "\n",
    "mycc = cc.CCSD(mf)\n",
    "e = mycc.kernel()"
   ]
  },
  {
   "cell_type": "code",
   "execution_count": null,
   "id": "64c125e1",
   "metadata": {},
   "outputs": [
    {
     "name": "stdout",
     "output_type": "stream",
     "text": [
      "[-0.45254911 -0.38075758 -0.26784219  0.08948061  0.26115288  0.40958296]\n",
      "[-0.45254911 -0.38075758 -0.26784219  0.08948061  0.26115288  0.40958296]\n"
     ]
    }
   ],
   "source": [
    "# s1e = mf.get_ovlp()\n",
    "# fock = mf.get_fock()\n",
    "# mo_e, mo_c = mf.eig(fock, s1e)\n",
    "# print(mo_e)\n",
    "# print(mf.mo_energy)"
   ]
  },
  {
   "cell_type": "code",
   "execution_count": null,
   "id": "0613e168",
   "metadata": {},
   "outputs": [
    {
     "name": "stdout",
     "output_type": "stream",
     "text": [
      "\n",
      "\n",
      "******** <class 'pyscf.df.df_jk.DFRHF'> ********\n",
      "method = DFRHF\n",
      "initial guess = minao\n",
      "damping factor = 0\n",
      "level_shift factor = 0\n",
      "DIIS = <class 'pyscf.scf.diis.CDIIS'>\n",
      "diis_start_cycle = 1\n",
      "diis_space = 8\n",
      "diis_damp = 0\n",
      "SCF conv_tol = 1e-09\n",
      "SCF conv_tol_grad = None\n",
      "SCF max_cycles = 50\n",
      "direct_scf = False\n",
      "chkfile to save SCF result = /tmp/tmpwcdwc92c\n",
      "max_memory 4000 MB (current use 190 MB)\n",
      "Set gradient conv threshold to 3.16228e-05\n",
      "init E= -2.75031958695716\n",
      "  HOMO = -0.267842186506315  LUMO = 0.0894806054712494\n",
      "cycle= 1 E= -2.75031958695716  delta_E= 2.66e-15  |g|= 5.23e-10  |ddm|= 3.19e-09\n",
      "  HOMO = -0.267842186373656  LUMO = 0.0894806053834849\n",
      "Extra cycle  E= -2.75031958695716  delta_E= -8.88e-16  |g|= 2.26e-10  |ddm|= 1.46e-09\n",
      "converged SCF energy = -2.75031958695716\n"
     ]
    },
    {
     "data": {
      "text/plain": [
       "-2.7503195869571577"
      ]
     },
     "execution_count": 17,
     "metadata": {},
     "output_type": "execute_result"
    }
   ],
   "source": [
    "# dm = mf.make_rdm1(mo_c)\n",
    "# mf.kernel(dm0=dm)"
   ]
  },
  {
   "cell_type": "code",
   "execution_count": null,
   "id": "dbcd7bc3",
   "metadata": {},
   "outputs": [
    {
     "name": "stdout",
     "output_type": "stream",
     "text": [
      "[[-3.36109139e-17  4.72659067e-17  1.79653083e-18]\n",
      " [-6.93273911e-17 -6.39598839e-17  7.05642848e-17]\n",
      " [ 9.17950898e-17  9.94243535e-17 -1.53835444e-16]]\n"
     ]
    }
   ],
   "source": [
    "# fock_moc = mo_c.T @ fock @ mo_c\n",
    "# nocc = np.count_nonzero(mf.mo_occ)\n",
    "# oo,vv,ov,vo = get_oo_vv_ov_vo(nocc,fock_moc)\n",
    "# print(vo)"
   ]
  },
  {
   "cell_type": "code",
   "execution_count": null,
   "id": "974f2676",
   "metadata": {},
   "outputs": [
    {
     "name": "stdout",
     "output_type": "stream",
     "text": [
      "[[ 1.95191227e-16  3.01723230e-10  4.19603476e-16]\n",
      " [-5.51205956e-10  5.08448061e-17 -3.21211092e-10]\n",
      " [-4.26119368e-16 -4.49730656e-10 -7.09316863e-16]]\n"
     ]
    }
   ],
   "source": [
    "# mo = mf.mo_coeff\n",
    "# fock_mo = mo.T @ fock @ mo\n",
    "# oo,vv,ov,vo = get_oo_vv_ov_vo(nocc,fock_mo)\n",
    "# # print(oo)\n",
    "# # print(vv)\n",
    "# print(ov)\n",
    "# # print(vo)"
   ]
  },
  {
   "cell_type": "code",
   "execution_count": null,
   "id": "bf60c6fb",
   "metadata": {},
   "outputs": [
    {
     "name": "stdout",
     "output_type": "stream",
     "text": [
      "[[ 8.70608783e-17 -1.20482453e-13  3.00577881e-16]\n",
      " [ 7.80616843e-14 -3.31049489e-16 -1.26851478e-13]\n",
      " [-1.23250736e-16 -8.28966738e-14 -2.29422766e-16]]\n"
     ]
    }
   ],
   "source": [
    "# oo,vv,ov,vo = get_oo_vv_ov_vo(nocc,fock_mo)\n",
    "# # print(oo)\n",
    "# # print(vv)\n",
    "# # print(ov)\n",
    "# print(vo)"
   ]
  },
  {
   "cell_type": "code",
   "execution_count": null,
   "id": "5b8fb32a",
   "metadata": {},
   "outputs": [
    {
     "name": "stdout",
     "output_type": "stream",
     "text": [
      "[-0.45251286 -0.38070639 -0.26774293  0.08946737  0.26118309  0.40967693]\n",
      "[-0.45251286 -0.38070639 -0.26774293  0.08946737  0.26118309  0.40967693]\n"
     ]
    }
   ],
   "source": [
    "# print(mo_e)\n",
    "# print(mf.mo_energy)"
   ]
  },
  {
   "cell_type": "code",
   "execution_count": null,
   "id": "2aca7650",
   "metadata": {},
   "outputs": [],
   "source": [
    "# mo = mf.mo_coeff\n",
    "# fock = mf.get_fock()\n",
    "# fock_mo = mo.T @ fock @ mo"
   ]
  },
  {
   "cell_type": "code",
   "execution_count": null,
   "id": "601242ee",
   "metadata": {},
   "outputs": [
    {
     "name": "stdout",
     "output_type": "stream",
     "text": [
      "\n",
      "\n",
      "******** <class 'pyscf.lo.boys.Boys'> ********\n",
      "conv_tol = 1e-06\n",
      "conv_tol_grad = None\n",
      "max_cycle = 100\n",
      "max_stepsize = 0.05\n",
      "max_iters = 20\n",
      "kf_interval = 5\n",
      "kf_trust_region = 5\n",
      "ah_start_tol = 1000000000.0\n",
      "ah_start_cycle = 1\n",
      "ah_level_shift = 0\n",
      "ah_conv_tol = 1e-12\n",
      "ah_lindep = 1e-14\n",
      "ah_max_cycle = 40\n",
      "ah_trust_region = 3\n",
      "init_guess = atomic\n",
      "Set conv_tol_grad to 0.000316228\n",
      "macro= 1  f(x)= 30.859906021019  delta_f= 30.8599  |g|= 28.5396  1 KF 3 Hx\n",
      "macro= 2  f(x)= 30.853859503674  delta_f= -0.00604652  |g|= 2.17103  1 KF 3 Hx\n",
      "macro= 3  f(x)= 30.853852659843  delta_f= -6.84383e-06  |g|= 0.0295381  1 KF 3 Hx\n",
      "macro= 4  f(x)= 30.853852659843  delta_f= 4.68958e-13  |g|= 5.70791e-06  1 KF 1 Hx\n",
      "macro X = 4  f(x)= 30.853852659843  |g|= 5.70791e-06  8 intor 4 KF 10 Hx\n",
      "\n",
      "\n",
      "******** <class 'pyscf.lo.boys.Boys'> ********\n",
      "conv_tol = 1e-06\n",
      "conv_tol_grad = None\n",
      "max_cycle = 100\n",
      "max_stepsize = 0.05\n",
      "max_iters = 20\n",
      "kf_interval = 5\n",
      "kf_trust_region = 5\n",
      "ah_start_tol = 1000000000.0\n",
      "ah_start_cycle = 1\n",
      "ah_level_shift = 0\n",
      "ah_conv_tol = 1e-12\n",
      "ah_lindep = 1e-14\n",
      "ah_max_cycle = 40\n",
      "ah_trust_region = 3\n",
      "init_guess = atomic\n",
      "Set conv_tol_grad to 0.000316228\n",
      "macro= 1  f(x)= 32.289786736577  delta_f= 32.2898  |g|= 8.80898  1 KF 3 Hx\n",
      "macro= 2  f(x)= 32.289958371717  delta_f= 0.000171635  |g|= 0.452512  1 KF 3 Hx\n",
      "macro= 3  f(x)= 32.289958347067  delta_f= -2.46501e-08  |g|= 0.00218421  1 KF 3 Hx\n",
      "macro= 4  f(x)= 32.289958347067  delta_f= 1.42109e-14  |g|= 2.01594e-08  1 KF 1 Hx\n",
      "macro X = 4  f(x)= 32.289958347067  |g|= 2.01594e-08  8 intor 4 KF 10 Hx\n",
      "\n",
      "\n",
      "******** <class 'pyscf.df.df_jk.DFRHF'> ********\n",
      "method = DFRHF\n",
      "initial guess = minao\n",
      "damping factor = 0\n",
      "level_shift factor = 0\n",
      "DIIS = <class 'pyscf.scf.diis.CDIIS'>\n",
      "diis_start_cycle = 1\n",
      "diis_space = 8\n",
      "diis_damp = 0\n",
      "SCF conv_tol = 1e-09\n",
      "SCF conv_tol_grad = None\n",
      "SCF max_cycles = 50\n",
      "direct_scf = False\n",
      "chkfile to save SCF result = /tmp/tmpwcdwc92c\n",
      "max_memory 4000 MB (current use 190 MB)\n",
      "Set gradient conv threshold to 3.16228e-05\n",
      "init E= -2.75031958695716\n",
      "  HOMO = -0.267842186506315  LUMO = 0.0894806054712492\n",
      "cycle= 1 E= -2.75031958695716  delta_E= 1.78e-15  |g|= 5.23e-10  |ddm|= 3.19e-09\n",
      "  HOMO = -0.267842186373656  LUMO = 0.0894806053834847\n",
      "Extra cycle  E= -2.75031958695716  delta_E= 1.78e-15  |g|= 2.26e-10  |ddm|= 1.46e-09\n",
      "converged SCF energy = -2.75031958695716\n"
     ]
    },
    {
     "data": {
      "text/plain": [
       "-2.7503195869571577"
      ]
     },
     "execution_count": 22,
     "metadata": {},
     "output_type": "execute_result"
    }
   ],
   "source": [
    "# from pyscf import lo\n",
    "# nocc = np.count_nonzero(mf.mo_occ)\n",
    "# lo_occ = lo.Boys(mol,mo_c[:,:nocc]).kernel()\n",
    "# lo_vir = lo.Boys(mol,mo_c[:,nocc:]).kernel()\n",
    "# lo_mo = np.hstack((lo_occ,lo_vir))\n",
    "# dm = mf.make_rdm1(lo_mo)\n",
    "# mf.kernel(dm0=dm)"
   ]
  },
  {
   "cell_type": "code",
   "execution_count": null,
   "id": "9bd06f6c",
   "metadata": {},
   "outputs": [
    {
     "name": "stdout",
     "output_type": "stream",
     "text": [
      "[[3.64291930e-17 2.08166817e-17 4.16333634e-17]\n",
      " [3.46944695e-18 4.16333634e-17 1.66533454e-16]\n",
      " [1.38777878e-17 0.00000000e+00 7.63278329e-17]]\n"
     ]
    }
   ],
   "source": [
    "# fock_lo = lo_mo.T @ fock @ lo_mo\n",
    "# oo,vv,ov,vo = get_oo_vv_ov_vo(nocc,fock_lo)\n",
    "# # print(oo)\n",
    "# # print(vv)\n",
    "# # print(ov)\n",
    "# print(vo)"
   ]
  },
  {
   "cell_type": "code",
   "execution_count": null,
   "id": "c3c4962b",
   "metadata": {},
   "outputs": [],
   "source": [
    "# def mk_1dm(mo,nocc):\n",
    "#     from pyscf import lib\n",
    "#     # nocc = np.count_nonzero(occ)\n",
    "#     dm = 2*mo[:,:nocc] @ mo.T[:nocc,:]\n",
    "#     # dm = lib.tag_array(dm, mo_coeff=mo, mo_occ=occ)\n",
    "#     return dm"
   ]
  },
  {
   "cell_type": "code",
   "execution_count": null,
   "id": "db593f05",
   "metadata": {},
   "outputs": [
    {
     "name": "stdout",
     "output_type": "stream",
     "text": [
      "[[ 0.42624758 -0.79547504  0.89603391]\n",
      " [ 0.65917533 -0.89872329  0.54209384]\n",
      " [ 0.85376183 -0.2873926  -0.86514968]\n",
      " [ 0.85376183  0.2873926  -0.86514968]\n",
      " [ 0.65917533  0.89872329  0.54209384]\n",
      " [ 0.42624758  0.79547504  0.89603391]]\n",
      "[[ 0.42624758 -0.79547504  0.89603391]\n",
      " [ 0.65917533 -0.89872329  0.54209384]\n",
      " [ 0.85376183 -0.2873926  -0.86514968]\n",
      " [ 0.85376183  0.2873926  -0.86514968]\n",
      " [ 0.65917533  0.89872329  0.54209384]\n",
      " [ 0.42624758  0.79547504  0.89603391]]\n"
     ]
    }
   ],
   "source": [
    "# mo_occ = mf.mo_occ\n",
    "# print(mo[:,:nocc]*mo_occ[mo_occ>0])\n",
    "# print(mo[:,:nocc]*2)"
   ]
  },
  {
   "cell_type": "code",
   "execution_count": null,
   "id": "7f51347a",
   "metadata": {},
   "outputs": [
    {
     "name": "stdout",
     "output_type": "stream",
     "text": [
      "[[ 0.80867216  0.74080915 -0.09133795 -0.31995159  0.0258972   0.17589162]\n",
      " [ 0.74080915  0.7680407   0.17603642 -0.08225    -0.03966286  0.0258972 ]\n",
      " [-0.09133795  0.17603642  0.77999387  0.69739936 -0.08225    -0.31995159]\n",
      " [-0.31995159 -0.08225     0.69739936  0.77999387  0.17603642 -0.09133795]\n",
      " [ 0.0258972  -0.03966286 -0.08225     0.17603642  0.7680407   0.74080915]\n",
      " [ 0.17589162  0.0258972  -0.31995159 -0.09133795  0.74080915  0.80867216]]\n",
      "[[ 0.80867216  0.74080915 -0.09133795 -0.31995159  0.0258972   0.17589162]\n",
      " [ 0.74080915  0.7680407   0.17603642 -0.08225    -0.03966286  0.0258972 ]\n",
      " [-0.09133795  0.17603642  0.77999387  0.69739936 -0.08225    -0.31995159]\n",
      " [-0.31995159 -0.08225     0.69739936  0.77999387  0.17603642 -0.09133795]\n",
      " [ 0.0258972  -0.03966286 -0.08225     0.17603642  0.7680407   0.74080915]\n",
      " [ 0.17589162  0.0258972  -0.31995159 -0.09133795  0.74080915  0.80867216]]\n",
      "[[0. 0. 0. 0. 0. 0.]\n",
      " [0. 0. 0. 0. 0. 0.]\n",
      " [0. 0. 0. 0. 0. 0.]\n",
      " [0. 0. 0. 0. 0. 0.]\n",
      " [0. 0. 0. 0. 0. 0.]\n",
      " [0. 0. 0. 0. 0. 0.]]\n",
      "[[-5.55111512e-16 -7.77156117e-16 -1.80411242e-16  2.77555756e-16\n",
      "   6.41847686e-16  5.55111512e-16]\n",
      " [-7.77156117e-16 -8.88178420e-16 -3.88578059e-16  5.55111512e-17\n",
      "   5.68989300e-16  5.20417043e-16]\n",
      " [-1.80411242e-16 -3.88578059e-16 -8.88178420e-16 -7.77156117e-16\n",
      "  -2.49800181e-16 -5.55111512e-17]\n",
      " [ 2.77555756e-16  5.55111512e-17 -7.77156117e-16 -8.88178420e-16\n",
      "  -2.22044605e-16 -4.16333634e-17]\n",
      " [ 6.41847686e-16  5.68989300e-16 -2.49800181e-16 -2.22044605e-16\n",
      "   4.44089210e-16  4.44089210e-16]\n",
      " [ 5.55111512e-16  5.20417043e-16 -5.55111512e-17 -4.16333634e-17\n",
      "   4.44089210e-16  5.55111512e-16]]\n"
     ]
    }
   ],
   "source": [
    "# mo = mf.mo_coeff\n",
    "# mo_dm = mk_1dm(mo,nocc)\n",
    "# lo_dm = mk_1dm(lo_mo,nocc)\n",
    "# dm = mf.make_rdm1()\n",
    "# print(mo_dm)\n",
    "# print(lo_dm)\n",
    "# # print(mo_dm-lo_dm)\n",
    "# print(dm-mo_dm)\n",
    "# print(dm-lo_dm)"
   ]
  },
  {
   "cell_type": "code",
   "execution_count": null,
   "id": "9214a254",
   "metadata": {},
   "outputs": [],
   "source": [
    "# def thouless_trans(t1):\n",
    "#     # U, s, V = np.linalg.svd(t1.T)\n",
    "#     # S = np.zeros_like(t1.T, dtype=float)\n",
    "#     # np.fill_diagonal(S, s)\n",
    "#     # u_ai = U@S\n",
    "#     # u_ji = V.T\n",
    "#     Q, R = np.linalg.qr(t1)\n",
    "#     u_ai = R.T\n",
    "#     u_ji = Q\n",
    "#     u = np.vstack((u_ji,u_ai))\n",
    "#     return u"
   ]
  },
  {
   "cell_type": "code",
   "execution_count": null,
   "id": "925d0a41",
   "metadata": {},
   "outputs": [],
   "source": [
    "def thouless_trans(t1):\n",
    "    q, r = np.linalg.qr(t1)\n",
    "    u_ai = r.T\n",
    "    u_ji = q\n",
    "    u_occ = np.vstack((u_ji,u_ai))\n",
    "    u, _, _ = np.linalg.svd(u_occ)\n",
    "    return u\n",
    "u = thouless_trans(10*mycc.t1)\n",
    "mo_t = mf.mo_coeff @ u\n",
    "mf.mo_coeff = mo_t"
   ]
  },
  {
   "cell_type": "code",
   "execution_count": 52,
   "id": "f600c650",
   "metadata": {},
   "outputs": [
    {
     "name": "stdout",
     "output_type": "stream",
     "text": [
      "-2.7500806685523083 0.0002389184048477652\n"
     ]
    }
   ],
   "source": [
    "t2_0 = np.zeros(mycc.t2.shape)\n",
    "eris = mycc.ao2mo(mycc.mo_coeff)\n",
    "eccsd = mycc.energy(10*mycc.t1, t2_0, eris)\n",
    "ecc_t2_0 = eccsd+mf.e_tot\n",
    "print(ecc_t2_0,eccsd)"
   ]
  },
  {
   "cell_type": "code",
   "execution_count": null,
   "id": "c30feebb",
   "metadata": {},
   "outputs": [],
   "source": [
    "# def rhf_olp(rhf1,rhf2):\n",
    "#     '''<rhf1|rhf2>'''\n",
    "#     olp = jnp.linalg.det(rhf1.T.conj() @ rhf2) ** 2\n",
    "#     return olp"
   ]
  },
  {
   "cell_type": "code",
   "execution_count": null,
   "id": "25f3a4f2",
   "metadata": {},
   "outputs": [
    {
     "name": "stdout",
     "output_type": "stream",
     "text": [
      "[[-1.39494247e+00 -1.52655666e-16  1.18481321e-01  4.44089210e-16]\n",
      " [-7.45931095e-17 -1.23539794e+00  0.00000000e+00 -9.29652546e-02]\n",
      " [ 1.18481321e-01  5.55111512e-17 -1.09350707e+00  1.52655666e-16]\n",
      " [ 1.66533454e-16 -9.29652546e-02  3.81639165e-16 -1.00930479e+00]]\n"
     ]
    }
   ],
   "source": [
    "# hcore = mf.get_hcore()\n",
    "# mo = mf.mo_coeff\n",
    "# # h1e_mo = np.dot(mo.T,np.dot( hcore, mo))\n",
    "# h1e_mo = mo.T @ hcore @ mo\n",
    "# print(h1e_mo)\n",
    "# ham_data['h1']-h1e_mo"
   ]
  },
  {
   "cell_type": "code",
   "execution_count": null,
   "id": "bead6033",
   "metadata": {},
   "outputs": [
    {
     "name": "stdout",
     "output_type": "stream",
     "text": [
      "(10, 4, 4)\n",
      "(4, 4, 4, 4)\n"
     ]
    }
   ],
   "source": [
    "# chol = ham_data['chol']\n",
    "# nao = ham_data['h1'].shape[-1]\n",
    "# chol = chol.reshape((-1, nao, nao))\n",
    "# print(chol.shape)\n",
    "# eris_chol = jnp.einsum('gpr,gqs->prqs',chol,chol,optimize='optimal')\n",
    "# print(eris_chol.shape)"
   ]
  },
  {
   "cell_type": "code",
   "execution_count": null,
   "id": "f8165ac0",
   "metadata": {},
   "outputs": [],
   "source": [
    "# from pyscf import ao2mo\n",
    "# from ad_afqmc import pyscf_interface\n",
    "# eri_mo = ao2mo.kernel(mf.mol,mf.mo_coeff,compact=False)\n",
    "# chol = pyscf_interface.modified_cholesky(eri_mo,max_error=chol_cut)"
   ]
  },
  {
   "cell_type": "code",
   "execution_count": null,
   "id": "bab13f76",
   "metadata": {},
   "outputs": [
    {
     "name": "stdout",
     "output_type": "stream",
     "text": [
      "(4, 4, 4, 4)\n"
     ]
    }
   ],
   "source": [
    "# eri_mo = ao2mo.incore.full(mol.intor('int2e'), mf.mo_coeff)\n",
    "# eri_mo = ao2mo.restore(1, eri_mo, mol.nao_nr())\n",
    "# # eri_mo = eri_mo.reshape((nao, nao, nao, nao))\n",
    "# print(eri_mo.shape)"
   ]
  },
  {
   "cell_type": "code",
   "execution_count": null,
   "id": "5d1e883a",
   "metadata": {},
   "outputs": [
    {
     "name": "stdout",
     "output_type": "stream",
     "text": [
      "1.5922312936410939e-16\n"
     ]
    }
   ],
   "source": [
    "# print(np.max(eri_mo-eris_chol))"
   ]
  },
  {
   "cell_type": "code",
   "execution_count": 41,
   "id": "d97032e5",
   "metadata": {},
   "outputs": [],
   "source": [
    "options = {'n_eql': 4,\n",
    "           'n_prop_steps': 10,\n",
    "            'n_ene_blocks': 1,\n",
    "            'n_sr_blocks': 10,\n",
    "            'n_blocks': 10,\n",
    "            'n_walkers': 1,\n",
    "            'seed': 2,\n",
    "            'walker_type': 'rhf',\n",
    "            'trial': 'cisd',\n",
    "            'dt':0.005,\n",
    "            'free_projection':False,\n",
    "            'ad_mode':None,\n",
    "            'use_gpu': False,\n",
    "            }\n",
    "\n",
    "# mf.mo_coeff = mo_c"
   ]
  },
  {
   "cell_type": "code",
   "execution_count": 68,
   "id": "41f3b4d9",
   "metadata": {},
   "outputs": [
    {
     "name": "stdout",
     "output_type": "stream",
     "text": [
      "lo_type = boys\n",
      "\n",
      "\n",
      "******** <class 'pyscf.lo.boys.Boys'> ********\n",
      "conv_tol = 1e-06\n",
      "conv_tol_grad = None\n",
      "max_cycle = 100\n",
      "max_stepsize = 0.01\n",
      "max_iters = 20\n",
      "kf_interval = 5\n",
      "kf_trust_region = 5\n",
      "ah_start_tol = 1000000000.0\n",
      "ah_start_cycle = 1\n",
      "ah_level_shift = 0\n",
      "ah_conv_tol = 1e-12\n",
      "ah_lindep = 1e-14\n",
      "ah_max_cycle = 40\n",
      "ah_trust_region = 3\n",
      "init_guess = atomic\n",
      "Set conv_tol_grad to 0.000316228\n",
      "macro= 1  f(x)= 17.50620794469  delta_f= 17.5062  |g|= 11.5734  1 KF 3 Hx\n",
      "macro= 2  f(x)= 16.973995464564  delta_f= -0.532212  |g|= 9.88144  1 KF 3 Hx\n",
      "macro= 3  f(x)= 16.537640307737  delta_f= -0.436355  |g|= 8.29832  1 KF 3 Hx\n",
      "macro= 4  f(x)= 16.203704505287  delta_f= -0.333936  |g|= 6.59505  1 KF 3 Hx\n",
      "macro= 5  f(x)= 15.977321235203  delta_f= -0.226383  |g|= 4.79494  1 KF 3 Hx\n",
      "macro= 6  f(x)= 15.862044509136  delta_f= -0.115277  |g|= 2.92331  1 KF 3 Hx\n",
      "macro= 7  f(x)= 15.846716469781  delta_f= -0.015328  |g|= 1.0063  1 KF 2 Hx\n",
      "macro= 8  f(x)= 15.846716444587  delta_f= -2.51942e-08  |g|= 0.00125102  1 KF 2 Hx\n",
      "macro= 9  f(x)= 15.846716444587  delta_f= 2.84217e-14  |g|= 5.73344e-10  1 KF 1 Hx\n",
      "macro X = 9  f(x)= 15.846716444587  |g|= 5.73344e-10  18 intor 9 KF 23 Hx\n",
      "Lov is saved to /tmp/c48g18cj\n",
      "# lno thresh [1e-09, 1e-10]\n",
      "\n",
      "########### running fragment 1 ##########\n",
      "Using DF integrals\n",
      "Lov is saved to /tmp/vdstiy4d\n",
      "Using DF integrals\n",
      "# active orbitals: [0 1 2 3 4 5]\n",
      "# active occupied orbitals: [0 1 2]\n",
      "# active virtual orbitals: [3 4 5]\n",
      "# frozen orbitals: []\n",
      "\n",
      "WARN: CCSD detected DF being used in the HF object. MO integrals are computed based on the DF 3-index tensors.\n",
      "It's recommended to use dfccsd.CCSD for the DF-CCSD calculations\n",
      "\n",
      "Init t2, MP2 energy = -2.8670444261133  E_corr(MP2) -0.118989871666485\n",
      "\n",
      "******** <class 'pyscf.cc.dfccsd.RCCSD'> ********\n",
      "CC2 = 0\n",
      "CCSD nocc = 3, nmo = 6\n",
      "frozen orbitals 0\n",
      "max_cycle = 50\n",
      "direct = 0\n",
      "conv_tol = 1e-07\n",
      "conv_tol_normt = 1e-05\n",
      "diis_space = 6\n",
      "diis_start_cycle = 0\n",
      "diis_start_energy_diff = 1e+09\n",
      "max_memory 4000 MB (current use 676 MB)\n",
      "Init E_corr(RCCSD) = -0.121105616895674\n",
      "cycle = 1  E_corr(RCCSD) = -0.176289450572215  dE = -0.0551838337  norm(t1,t2) = 0.148835\n",
      "cycle = 2  E_corr(RCCSD) = -0.206391364415903  dE = -0.0301019138  norm(t1,t2) = 0.085121\n",
      "cycle = 3  E_corr(RCCSD) = -0.237555151183947  dE = -0.0311637868  norm(t1,t2) = 0.049149\n",
      "cycle = 4  E_corr(RCCSD) = -0.242120195695255  dE = -0.00456504451  norm(t1,t2) = 0.0209029\n",
      "cycle = 5  E_corr(RCCSD) = -0.24528980894416  dE = -0.00316961325  norm(t1,t2) = 0.0159417\n",
      "cycle = 6  E_corr(RCCSD) = -0.249052578037615  dE = -0.00376276909  norm(t1,t2) = 0.00878563\n",
      "cycle = 7  E_corr(RCCSD) = -0.251624246522813  dE = -0.00257166849  norm(t1,t2) = 0.00522105\n",
      "cycle = 8  E_corr(RCCSD) = -0.251528619150916  dE = 9.56273719e-05  norm(t1,t2) = 0.00296715\n",
      "cycle = 9  E_corr(RCCSD) = -0.25182838639024  dE = -0.000299767239  norm(t1,t2) = 0.00166189\n",
      "cycle = 10  E_corr(RCCSD) = -0.251890191641483  dE = -6.18052512e-05  norm(t1,t2) = 0.000922952\n",
      "cycle = 11  E_corr(RCCSD) = -0.252125759212465  dE = -0.000235567571  norm(t1,t2) = 0.00047059\n",
      "cycle = 12  E_corr(RCCSD) = -0.252145960594293  dE = -2.02013818e-05  norm(t1,t2) = 0.000134284\n",
      "cycle = 13  E_corr(RCCSD) = -0.252155369505849  dE = -9.40891156e-06  norm(t1,t2) = 4.72448e-05\n",
      "cycle = 14  E_corr(RCCSD) = -0.252153662269443  dE = 1.70723641e-06  norm(t1,t2) = 2.54633e-05\n",
      "cycle = 15  E_corr(RCCSD) = -0.2521507588265  dE = 2.90344294e-06  norm(t1,t2) = 1.48001e-05\n",
      "cycle = 16  E_corr(RCCSD) = -0.252147729478826  dE = 3.02934767e-06  norm(t1,t2) = 8.37425e-06\n",
      "cycle = 17  E_corr(RCCSD) = -0.252145851650181  dE = 1.87782864e-06  norm(t1,t2) = 4.95285e-06\n",
      "cycle = 18  E_corr(RCCSD) = -0.252145347206325  dE = 5.04443856e-07  norm(t1,t2) = 2.86269e-06\n",
      "cycle = 19  E_corr(RCCSD) = -0.252145744231292  dE = -3.97024967e-07  norm(t1,t2) = 1.99723e-06\n",
      "cycle = 20  E_corr(RCCSD) = -0.252146070003245  dE = -3.25771953e-07  norm(t1,t2) = 1.3696e-06\n",
      "cycle = 21  E_corr(RCCSD) = -0.252146450812184  dE = -3.80808939e-07  norm(t1,t2) = 7.22772e-07\n",
      "cycle = 22  E_corr(RCCSD) = -0.252146570255574  dE = -1.1944339e-07  norm(t1,t2) = 3.05186e-07\n",
      "cycle = 23  E_corr(RCCSD) = -0.252146596389307  dE = -2.6133733e-08  norm(t1,t2) = 1.48147e-07\n",
      "RCCSD converged\n",
      "E(RCCSD) = -3.000201150836117  E_corr = -0.2521465963893066\n",
      "# Generating Cholesky Integrals\n",
      "# frozen orbitals: []\n",
      "# local active orbitals: [0 1 2 3 4 5]\n",
      "# local active space size: 6\n",
      "# composing ERIs from DF vectors\n",
      "# decomposing ERIs to Cholesky vectors\n",
      "# Cholesky cutoff is: 1e-10\n",
      "# Finished calculating Cholesky integrals\n",
      "\n",
      "# Size of the correlation space\n",
      "# Number of electrons: (3, 3)\n",
      "# Number of basis functions: 6\n",
      "# Number of Cholesky vectors: 17\n",
      "\n"
     ]
    }
   ],
   "source": [
    "from pyscf.ci.cisd import CISD\n",
    "from pyscf.cc.ccsd import CCSD\n",
    "from pyscf.cc.uccsd import UCCSD\n",
    "from ad_afqmc.lno.cc import LNOCCSD\n",
    "from ad_afqmc.lno_afqmc import lno_maker, afqmc_maker, lnoafqmc_runner\n",
    "from pyscf import ao2mo, mcscf, scf, lib\n",
    "\n",
    "frozen = None\n",
    "thresh = 1e-10\n",
    "lo_type = 'boys'\n",
    "run_frg_list = [0]\n",
    "eris = None\n",
    "\n",
    "mfcc = mf\n",
    "if isinstance(mfcc, (CCSD, CISD)):\n",
    "    full_cisd = True\n",
    "    mf = mfcc._scf\n",
    "else:\n",
    "    full_cisd = False\n",
    "    mf = mfcc\n",
    "\n",
    "no_type = 'ie' # cim\n",
    "\n",
    "if isinstance(thresh, list):\n",
    "    thresh_occ, thresh_vir = thresh\n",
    "else:\n",
    "    thresh_occ = thresh*10\n",
    "    thresh_vir = thresh\n",
    "\n",
    "lno_cc = LNOCCSD(mf, thresh=thresh, frozen=frozen)\n",
    "lno_cc.thresh_occ = thresh_occ\n",
    "lno_cc.thresh_vir = thresh_vir\n",
    "lno_cc.lo_type = lo_type\n",
    "lno_cc.no_type = no_type\n",
    "lno_cc.force_outcore_ao2mo = True\n",
    "\n",
    "s1e = mf.get_ovlp()\n",
    "lococc = lno_cc.get_lo(lo_type=lo_type) # localized active occ orbitals\n",
    "# lococc,locvir = lno_maker.get_lo(lno_cc,lo_type) ### fix this for DF\n",
    "if eris is None: eris = lno_cc.ao2mo()\n",
    "\n",
    "frag_lolist = [[i] for i in range(lococc.shape[1])]\n",
    "nfrag = len(frag_lolist)\n",
    "\n",
    "frozen_mask = lno_cc.get_frozen_mask()\n",
    "thresh_pno = [thresh_occ,thresh_vir]\n",
    "print(f'# lno thresh {thresh_pno}')\n",
    "\n",
    "if run_frg_list is None:\n",
    "    run_frg_list = range(nfrag)\n",
    "    \n",
    "from jax import random\n",
    "seeds = random.randint(random.PRNGKey(options[\"seed\"]),\n",
    "                    shape=(len(run_frg_list),), minval=0, maxval=100*nfrag)\n",
    "\n",
    "for ifrag in run_frg_list:\n",
    "    print(f'\\n########### running fragment {ifrag+1} ##########')\n",
    "\n",
    "    fraglo = frag_lolist[ifrag]\n",
    "    orbfragloc = lococc[:,fraglo]\n",
    "    THRESH_INTERNAL = 1e-10\n",
    "    frzfrag, orbfrag, can_orbfrag \\\n",
    "        = lno_maker.make_lno(\n",
    "            lno_cc,orbfragloc,THRESH_INTERNAL,thresh_pno\n",
    "            )\n",
    "    \n",
    "    mol = mf.mol\n",
    "    nocc = mol.nelectron // 2 \n",
    "    nao = mol.nao\n",
    "    actfrag = np.array([i for i in range(nao) if i not in frzfrag])\n",
    "    # frzocc = np.array([i for i in range(nocc) if i in frzfrag])\n",
    "    actocc = np.array([i for i in range(nocc) if i in actfrag])\n",
    "    actvir = np.array([i for i in range(nocc,nao) if i in actfrag])\n",
    "    nactocc = len(actocc)\n",
    "    nactocc = len(actocc)\n",
    "    nactvir = len(actvir)\n",
    "    prjlo = orbfragloc.T @ s1e @ orbfrag[:,actocc]\n",
    "\n",
    "    print(f'# active orbitals: {actfrag}')\n",
    "    print(f'# active occupied orbitals: {actocc}')\n",
    "    print(f'# active virtual orbitals: {actvir}')\n",
    "    print(f'# frozen orbitals: {frzfrag}')\n",
    "\n",
    "    ecorr_cc,t1,t2 = lno_maker.lno_cc_solver(\n",
    "                        mf,orbfrag,orbfragloc,frozen=frzfrag,eris=eris\n",
    "                        )\n",
    "    ci1 = np.array(t1)\n",
    "    ci2 = t2 + lib.einsum(\"ia,jb->ijab\",ci1,ci1)\n",
    "    ci2 = ci2.transpose(0, 2, 1, 3)\n",
    "    options[\"seed\"] = seeds[ifrag]\n",
    "    nelec_act = nactocc*2\n",
    "    norb_act = nactocc+nactvir\n",
    "    lnoafqmc_runner.prep_lnoafqmc_file(\n",
    "            mf,orbfrag,options,\n",
    "            norb_act=norb_act,nelec_act=nelec_act,\n",
    "            prjlo=prjlo,norb_frozen=frzfrag,\n",
    "            ci1=ci1,ci2=ci2,chol_cut=1e-10,\n",
    "            )"
   ]
  },
  {
   "cell_type": "code",
   "execution_count": null,
   "id": "c04e3bf8",
   "metadata": {},
   "outputs": [
    {
     "name": "stdout",
     "output_type": "stream",
     "text": [
      "[[-4.49133897e-10  2.76190092e-10 -6.17097255e-10]\n",
      " [ 5.98166502e-10  8.66198537e-10  1.21119559e-10]\n",
      " [ 2.86028590e-10 -1.96311856e-10  4.04592164e-10]]\n",
      "[[-4.49133827e-10  5.98166485e-10  2.86028607e-10]\n",
      " [ 2.76190107e-10  8.66198577e-10 -1.96311897e-10]\n",
      " [-6.17097264e-10  1.21119559e-10  4.04592172e-10]]\n"
     ]
    }
   ],
   "source": [
    "# fock = mf.get_fock()\n",
    "# fock_no = orbfrag.T @ fock @ orbfrag\n",
    "# oo,vv,ov,vo = get_oo_vv_ov_vo(nocc,fock_no)\n",
    "# print(ov)\n",
    "# print(vo)"
   ]
  },
  {
   "cell_type": "code",
   "execution_count": 73,
   "id": "d03c9c23",
   "metadata": {},
   "outputs": [
    {
     "name": "stdout",
     "output_type": "stream",
     "text": [
      "# Hostname: yichi-thinkpad\n",
      "# System Type: Linux\n",
      "# Machine Type: x86_64\n",
      "# Processor: x86_64\n",
      "# Number of MPI ranks: 1\n",
      "#\n",
      "# norb: 6\n",
      "# nelec: (3, 3)\n",
      "# nchol: 17\n",
      "#\n",
      "# n_eql: 4\n",
      "# n_prop_steps: 10\n",
      "# n_ene_blocks: 1\n",
      "# n_sr_blocks: 10\n",
      "# n_blocks: 10\n",
      "# n_walkers: 1\n",
      "# seed: 9\n",
      "# walker_type: rhf\n",
      "# trial: cisd\n",
      "# dt: 0.005\n",
      "# free_projection: False\n",
      "# use_gpu: False\n",
      "# n_exp_terms: 6\n",
      "# orbital_rotation: True\n",
      "# do_sr: True\n",
      "# symmetry: False\n",
      "# save_walkers: False\n",
      "# n_batch: 1\n",
      "# ene0: 0\n",
      "#\n",
      "# Hostname: yichi-thinkpad\n",
      "# System Type: Linux\n",
      "# Machine Type: x86_64\n",
      "# Processor: x86_64\n",
      "-3.0002011843312157\n"
     ]
    }
   ],
   "source": [
    "from ad_afqmc import config, wavefunctions, stat_utils\n",
    "\n",
    "ham_data, ham, prop, trial, wave_data, sampler, observable, options, _ = (\n",
    "    lnoafqmc_runner.prep_lnoafqmc_run())\n",
    "\n",
    "config.setup_jax()\n",
    "MPI = config.setup_comm()\n",
    "\n",
    "# init_time = time.time()\n",
    "comm = MPI.COMM_WORLD\n",
    "rank = comm.Get_rank()  # Process rank\n",
    "size = comm.Get_size()  # Total number of processes\n",
    "\n",
    "\n",
    "### initialize propagation\n",
    "seed = options[\"seed\"]\n",
    "propagator = prop\n",
    "init_walkers = None\n",
    "ham_data = wavefunctions.rhf(trial.norb, trial.nelec,n_batch=trial.n_batch\n",
    "                                )._build_measurement_intermediates(ham_data, wave_data)\n",
    "ham_data = ham.build_measurement_intermediates(ham_data, trial, wave_data)\n",
    "ham_data = ham.build_propagation_intermediates(ham_data, propagator, trial, wave_data)\n",
    "# init_walkers = trial.get_init_walkers(wave_data, prop.n_walkers, restricted=True)\n",
    "# init_walkers = u.T @ init_walkers\n",
    "prop_data = propagator.init_prop_data(trial, wave_data, ham_data, init_walkers)\n",
    "\n",
    "prop_data[\"key\"] = random.PRNGKey(seed + rank)\n",
    "prop_data[\"overlaps\"] = trial.calc_overlap(prop_data[\"walkers\"], wave_data)\n",
    "prop_data[\"n_killed_walkers\"] = 0\n",
    "prop_data[\"pop_control_ene_shift\"] = prop_data[\"e_estimate\"]\n",
    "print(prop_data['e_estimate'])"
   ]
  },
  {
   "cell_type": "code",
   "execution_count": 74,
   "id": "e638babd",
   "metadata": {},
   "outputs": [],
   "source": [
    "calc_e_rhf = wavefunctions.rhf(trial.norb, trial.nelec,n_batch=trial.n_batch\n",
    "                                )._calc_energy_restricted\n",
    "cal_eorb_rhf = wavefunctions.rhf(trial.norb, trial.nelec,n_batch=trial.n_batch\n",
    "                                )._calc_orbenergy"
   ]
  },
  {
   "cell_type": "code",
   "execution_count": 75,
   "id": "489643ae",
   "metadata": {},
   "outputs": [
    {
     "name": "stdout",
     "output_type": "stream",
     "text": [
      "(-2.748054554358795+0j)\n",
      "-2.748054554358795\n"
     ]
    }
   ],
   "source": [
    "print(calc_e_rhf(prop_data['walkers'][0],ham_data,wave_data))\n",
    "print(calc_e_rhf(wave_data['mo_coeff'],ham_data,wave_data))"
   ]
  },
  {
   "cell_type": "code",
   "execution_count": null,
   "id": "04514893",
   "metadata": {},
   "outputs": [],
   "source": [
    "init_walkers = u.T @ init_walkers"
   ]
  },
  {
   "cell_type": "code",
   "execution_count": 77,
   "id": "a5ee4ddd",
   "metadata": {},
   "outputs": [
    {
     "name": "stdout",
     "output_type": "stream",
     "text": [
      "[[ 0.09458634 -0.07106406  0.03445047]\n",
      " [-0.07101382  0.04517948  0.01641694]\n",
      " [ 0.00453721  0.0242948  -0.1416469 ]]\n",
      "[[-0.08339194  0.07093246 -0.02291779]\n",
      " [ 0.05857556 -0.04129798 -0.01365038]\n",
      " [-0.01365854 -0.02563307  0.12622045]]\n",
      "[[ 0.01119441 -0.0001316   0.01153268]\n",
      " [-0.01243826  0.0038815   0.00276656]\n",
      " [-0.00912133 -0.00133827 -0.01542645]]\n"
     ]
    }
   ],
   "source": [
    "rot_h1,rot_chol = ham_data['rot_h1'],ham_data['rot_chol']\n",
    "nocc = rot_h1.shape[0]\n",
    "h_ia = rot_h1[:nocc,nocc:]\n",
    "veff_ia = 2*jnp.einsum('gia,gjj->ia',rot_chol[:,:nocc,nocc:],rot_chol[:,:nocc,:nocc])\\\n",
    "          - jnp.einsum('gij,gja->ia',rot_chol[:,:nocc,:nocc],rot_chol[:,:nocc,nocc:])\n",
    "f_ia = h_ia + veff_ia\n",
    "ham_data['fock_ia'] = f_ia\n",
    "print(h_ia)\n",
    "print(veff_ia)\n",
    "print(f_ia)"
   ]
  },
  {
   "cell_type": "code",
   "execution_count": 88,
   "id": "0fb166a0",
   "metadata": {},
   "outputs": [
    {
     "name": "stdout",
     "output_type": "stream",
     "text": [
      "-2.9844248786572534\n",
      "-2.748054554358795\n",
      "(-2.826554712712941+0.013950506463821455j)\n"
     ]
    }
   ],
   "source": [
    "prop_data, (blk_en,blk_wt,blk_hf_orb_en,blk_cc_orb_en) \\\n",
    "    = afqmc_maker.block_orb(prop_data,ham_data,prop,trial,wave_data,sampler)\n",
    "print(blk_en)\n",
    "# print(walker_rhf_energy1(prop_data['walkers'][0],ham_data,wave_data['mo_coeff']))\n",
    "print(calc_e_rhf(wave_data['mo_coeff'],ham_data,wave_data))\n",
    "print(calc_e_rhf(prop_data['walkers'][0],ham_data,wave_data))"
   ]
  },
  {
   "cell_type": "code",
   "execution_count": 80,
   "id": "26ba4fe8",
   "metadata": {},
   "outputs": [],
   "source": [
    "def walker_rhf_efock(walker,ham_data,wave_data):\n",
    "    '''C_ia <psi|H|psi_i^a}>'''\n",
    "    trial_mo = wave_data['mo_coeff']\n",
    "    f_ia = ham_data['fock_ia']\n",
    "    gw = (walker.dot(jnp.linalg.inv(trial_mo.T.conj() @ walker))).T\n",
    "    gw_ia = gw[:nocc,nocc:]\n",
    "    e_fock = 2*jnp.einsum('ia,ia->',gw_ia,f_ia)\n",
    "    return e_fock\n",
    "\n",
    "def walker_rhf_coexc(walker,ham_data,wave_data):\n",
    "    '''C_ijab <psi|H|psi_{ia}^{jb}>'''\n",
    "    rot_h1,rot_chol = ham_data['rot_h1'],ham_data['rot_chol']\n",
    "    trial_mo = wave_data['mo_coeff']\n",
    "    nocc = rot_h1.shape[0]\n",
    "    gw = (walker.dot(jnp.linalg.inv(trial_mo.T.conj() @ walker))).T\n",
    "    f = jnp.einsum('gja,ai->gji',rot_chol[:,:nocc,nocc:],\n",
    "                    gw.T[nocc:,:nocc],optimize='optimal')\n",
    "    tr_f = vmap(jnp.trace)(f)\n",
    "    e_col = 2*jnp.einsum('g,g->',tr_f,tr_f)\n",
    "    e_exc = -jnp.einsum('gij,gji->',f,f)\n",
    "    return e_col+e_exc\n",
    "\n",
    "def walker_rhf_efock_orb(walker,ham_data,wave_data):\n",
    "    '''C_ia <psi|H|psi_i^a}> don't sum over i'''\n",
    "    m = jnp.dot(wave_data[\"prjlo\"].T,wave_data[\"prjlo\"])\n",
    "    f_ia = ham_data['fock_ia']\n",
    "    trial_mo = wave_data['mo_coeff']\n",
    "    gw = (walker.dot(jnp.linalg.inv(trial_mo.T.conj() @ walker))).T\n",
    "    gw_ia = gw[:nocc,nocc:]\n",
    "    e_fock = 2*jnp.einsum('ia,ka,ik->',gw_ia,f_ia,m)\n",
    "    return e_fock\n",
    "\n",
    "def walker_rhf_coexc_orb(walker,ham_data,wave_data):\n",
    "    '''C_ijab <psi|H|psi_{ia}^{jb}> don't sum over i'''\n",
    "    m = jnp.dot(wave_data[\"prjlo\"].T,wave_data[\"prjlo\"])\n",
    "    trial_mo = wave_data['mo_coeff']\n",
    "    rot_h1,rot_chol = ham_data['rot_h1'],ham_data['rot_chol']\n",
    "    nocc = rot_h1.shape[0]\n",
    "    gw = (walker.dot(jnp.linalg.inv(trial_mo.T.conj() @ walker))).T\n",
    "    f = jnp.einsum('gja,ai->gji',rot_chol[:,:nocc,nocc:],\n",
    "                    gw.T[nocc:,:nocc],optimize='optimal')\n",
    "    tr_f = vmap(jnp.trace)(f)\n",
    "    e_col = 2*jnp.einsum('gik,ik,g->',f,m,tr_f)\n",
    "    e_exc = -jnp.einsum('gij,gjk,ik->',f,f,m)\n",
    "    return e_col+e_exc\n",
    "\n",
    "def walker_norhf_energy(walker,ham_data,wave_data):\n",
    "    '''\n",
    "    C_ia <psi|H|psi_i^a}> + C_ijab <psi|H|psi_{ia}^{jb}> \n",
    "    '''\n",
    "    trial_mo = wave_data['mo_coeff']\n",
    "    f_ia = ham_data['fock_ia']\n",
    "    rot_h1,rot_chol = ham_data['rot_h1'],ham_data['rot_chol']\n",
    "    nocc = rot_h1.shape[0]\n",
    "    gw = (walker.dot(jnp.linalg.inv(trial_mo.T.conj() @ walker))).T\n",
    "    gw_ia = gw[:nocc,nocc:]\n",
    "    cg = jnp.einsum('gja,ai->gji',rot_chol[:,:nocc,nocc:],\n",
    "                    gw_ia.T,optimize='optimal')\n",
    "    tr_cg = vmap(jnp.trace)(cg)\n",
    "    e_fock = 2*jnp.einsum('ia,ia->',gw_ia,f_ia)\n",
    "    e_col = 2*jnp.einsum('g,g->',tr_cg,tr_cg)\n",
    "    e_exc = -jnp.einsum('gij,gji->',cg,cg)\n",
    "    e_corr = e_fock+e_col+e_exc\n",
    "    return e_corr\n",
    "\n",
    "def walker_norhf_orbenergy(walker,ham_data,wave_data):\n",
    "    '''\n",
    "    C_ia <psi|H|psi_i^a}> + C_ijab <psi|H|psi_{ia}^{jb}> \n",
    "    don't sum over i\n",
    "    '''\n",
    "    m = jnp.dot(wave_data[\"prjlo\"].T,wave_data[\"prjlo\"])\n",
    "    trial_mo = wave_data['mo_coeff']\n",
    "    f_ia = ham_data['fock_ia']\n",
    "    rot_h1,rot_chol = ham_data['rot_h1'],ham_data['rot_chol']\n",
    "    nocc = rot_h1.shape[0]\n",
    "    gw = (walker.dot(jnp.linalg.inv(trial_mo.T.conj() @ walker))).T\n",
    "    gw_ia = gw[:nocc,nocc:]\n",
    "    cg = jnp.einsum('gja,ai->gji',rot_chol[:,:nocc,nocc:],\n",
    "                    gw_ia.T,optimize='optimal')\n",
    "    tr_cg = vmap(jnp.trace)(cg)\n",
    "    e_fock = 2*jnp.einsum('ia,ka,ik->',gw_ia,f_ia,m)\n",
    "    e_col = 2*jnp.einsum('gik,ik,g->',cg,m,tr_cg)\n",
    "    e_exc = -jnp.einsum('gij,gjk,ik->',cg,cg,m)\n",
    "    e_corr = e_fock+e_col+e_exc\n",
    "    return e_corr"
   ]
  },
  {
   "cell_type": "code",
   "execution_count": null,
   "id": "f873f862",
   "metadata": {},
   "outputs": [
    {
     "name": "stdout",
     "output_type": "stream",
     "text": [
      "[ 0.00346245-0.0195333j  -0.00105026-0.03092344j]\n",
      "[-0.00346246+0.0195333j   0.00105026+0.03092344j]\n",
      "[-3.03016742e-11+2.68134730e-10j -4.82261197e-12-4.09286585e-11j]\n"
     ]
    }
   ],
   "source": [
    "# trial_mo = wave_data['mo_coeff']\n",
    "# walker = prop_data['walkers'][0]\n",
    "# gw = (walker.dot(jnp.linalg.inv(trial_mo.T.conj() @ walker))).T\n",
    "# gw_ia = gw[:nocc,nocc:]\n",
    "# ef1_frg = 2*jnp.einsum('ia,ia->i',gw_ia,h_ia)\n",
    "# ef2_frg = 2*jnp.einsum('ia,ia->i',gw_ia,veff_ia)\n",
    "# ef_frg = 2*jnp.einsum('ia,ia->i',gw_ia,f_ia)\n",
    "# print(ef1_frg)\n",
    "# print(ef2_frg)\n",
    "# print(ef_frg)"
   ]
  },
  {
   "cell_type": "code",
   "execution_count": 89,
   "id": "5b6c1f6b",
   "metadata": {},
   "outputs": [
    {
     "data": {
      "text/plain": [
       "Array(0.00011039+0.01473282j, dtype=complex128)"
      ]
     },
     "execution_count": 89,
     "metadata": {},
     "output_type": "execute_result"
    }
   ],
   "source": [
    "walker_rhf_efock(prop_data['walkers'][0],ham_data,wave_data)"
   ]
  },
  {
   "cell_type": "code",
   "execution_count": null,
   "id": "d8bbeda7",
   "metadata": {},
   "outputs": [
    {
     "name": "stdout",
     "output_type": "stream",
     "text": [
      "(-2.826554712712941+0.013950506463821455j)\n",
      "(-2.826665106615887-0.000782313417585881j)\n",
      "(-2.8265547127129422+0.013950506463821458j)\n"
     ]
    }
   ],
   "source": [
    "rot_h1, rot_chol = ham_data['rot_h1'],ham_data['rot_chol']\n",
    "walker = prop_data['walkers'][0]\n",
    "print(calc_e_rhf(prop_data['walkers'][0],ham_data,wave_data))\n",
    "print(calc_e_rhf(wave_data['mo_coeff'],ham_data,wave_data)\\\n",
    "      + walker_rhf_coexc(walker,ham_data,wave_data))\n",
    "print(calc_e_rhf(wave_data['mo_coeff'],ham_data,wave_data)\\\n",
    "      + walker_norhf_energy(walker,ham_data,wave_data))"
   ]
  },
  {
   "cell_type": "code",
   "execution_count": null,
   "id": "7534a634",
   "metadata": {},
   "outputs": [
    {
     "name": "stdout",
     "output_type": "stream",
     "text": [
      "(-2.766378475196156-0.0006605576675949715j)\n",
      "(-2.7663784751954155-0.0006605576675949373j)\n",
      "(-2.7663784751602916-0.0006605578948010086j)\n",
      "(-2.766378475195416-0.0006605576675949373j)\n"
     ]
    }
   ],
   "source": [
    "print(calc_e_rhf(prop_data['walkers'][0],ham_data,wave_data))\n",
    "print(walker_norhf_energy(walker,ham_data,wave_data))\n",
    "print(mf.e_tot+walker_rhf_coexc(walker,ham_data,wave_data))\n",
    "print(mf.e_tot+walker_rhf_coexc(walker,ham_data,wave_data)\\\n",
    "      + +walker_rhf_efock(walker,ham_data,wave_data))"
   ]
  },
  {
   "cell_type": "code",
   "execution_count": 10,
   "id": "cadc04e6",
   "metadata": {},
   "outputs": [
    {
     "name": "stdout",
     "output_type": "stream",
     "text": [
      "[0.+0.j 0.+0.j]\n",
      "[0.+0.j 0.+0.j]\n"
     ]
    }
   ],
   "source": [
    "trial_mo = wave_data['mo_coeff']\n",
    "walker = prop_data['walkers'][0]\n",
    "m = jnp.dot(wave_data[\"prjlo\"].T,wave_data[\"prjlo\"])\n",
    "gw = (walker.dot(jnp.linalg.inv(trial_mo.T.conj() @ walker))).T\n",
    "f = jnp.einsum('gia,aj->gij',rot_chol[:,:nocc,nocc:],\n",
    "                gw.T[nocc:,:nocc],optimize='optimal')\n",
    "# tr_f = vmap(jnp.trace)(f)\n",
    "tr_chol = vmap(jnp.trace)(rot_chol[:,:nocc,:nocc])\n",
    "e_fock1 = 2*jnp.einsum('ia,ia->i',gw[:nocc,nocc:],rot_h1[:nocc,nocc:])\n",
    "e_fock2 = 4*jnp.einsum('gii,g->i',f,tr_chol)\\\n",
    "          - 2*jnp.einsum('gji,gij->i',f,rot_chol[:,:nocc,:nocc])\n",
    "print(e_fock1)\n",
    "print(e_fock2)"
   ]
  },
  {
   "cell_type": "code",
   "execution_count": null,
   "id": "630e5559",
   "metadata": {},
   "outputs": [
    {
     "name": "stdout",
     "output_type": "stream",
     "text": [
      "[[0.+0.j 0.+0.j 0.+0.j]\n",
      " [0.+0.j 0.+0.j 0.+0.j]]\n"
     ]
    }
   ],
   "source": [
    "# walker = prop_data['walkers'][0]\n",
    "# trial_mo = wave_data['mo_coeff']\n",
    "# gw = (walker.dot(jnp.linalg.inv(trial_mo.T.conj() @ walker))).T\n",
    "# gw_ia = gw[:nocc,nocc:]\n",
    "# print(gw_ia)"
   ]
  },
  {
   "cell_type": "code",
   "execution_count": null,
   "id": "71c61e80",
   "metadata": {},
   "outputs": [
    {
     "name": "stdout",
     "output_type": "stream",
     "text": [
      "[[1.23259516e-32 1.11022302e-16]\n",
      " [1.11022302e-16 1.00000000e+00]]\n"
     ]
    }
   ],
   "source": [
    "# m = jnp.dot(wave_data[\"prjlo\"].T,wave_data[\"prjlo\"])\n",
    "# print(m)\n",
    "# jnp.einsum('ia,ka,ik->',gw_ia,f_ia,m)"
   ]
  },
  {
   "cell_type": "code",
   "execution_count": 14,
   "id": "cccad661",
   "metadata": {},
   "outputs": [],
   "source": [
    "ef1 = jnp.einsum('ia,ia->i',gw_ia,h_ia)\n",
    "ef2 = 2*jnp.einsum('ia,gia,gjj->i',gw_ia,rot_chol[:,:nocc,nocc:],rot_chol[:,:nocc,:nocc])\\\n",
    "      - jnp.einsum('ia,gij,gja->i',gw_ia,rot_chol[:,:nocc,:nocc],rot_chol[:,:nocc,nocc:])"
   ]
  },
  {
   "cell_type": "code",
   "execution_count": 131,
   "id": "894a9614",
   "metadata": {},
   "outputs": [
    {
     "data": {
      "text/plain": [
       "Array(-4.59433052+0.j, dtype=complex128)"
      ]
     },
     "execution_count": 131,
     "metadata": {},
     "output_type": "execute_result"
    }
   ],
   "source": [
    "mf.e_tot \\\n",
    "    + walker_norhf_energy(prop_data['walkers'][0],ham_data,wave_data['mo_coeff'])"
   ]
  },
  {
   "cell_type": "code",
   "execution_count": 62,
   "id": "15210f2c",
   "metadata": {},
   "outputs": [
    {
     "name": "stdout",
     "output_type": "stream",
     "text": [
      "(Array(-2.94908134e-08-2.88966882e-08j, dtype=complex128), Array(-0.00366678-0.07368464j, dtype=complex128), Array(0.00366675+0.07368461j, dtype=complex128))\n",
      "(-0.05410457269969854+0.005013833702532937j)\n"
     ]
    }
   ],
   "source": [
    "print(walker_rhf_fock_energy(prop_data['walkers'][0],ham_data,wave_data['mo_coeff']))\n",
    "print(walker_rhf_coexc(prop_data['walkers'][0],ham_data,wave_data['mo_coeff'])[0])"
   ]
  },
  {
   "cell_type": "code",
   "execution_count": 66,
   "id": "2239f471",
   "metadata": {},
   "outputs": [
    {
     "data": {
      "text/plain": [
       "Array(-4.64843512+0.0050138j, dtype=complex128)"
      ]
     },
     "execution_count": 66,
     "metadata": {},
     "output_type": "execute_result"
    }
   ],
   "source": [
    "mf.e_tot \\\n",
    "    + walker_rhf_coexc(prop_data['walkers'][0],ham_data,wave_data['mo_coeff'])[0] \\\n",
    "    + walker_rhf_fock_energy(prop_data['walkers'][0],ham_data,wave_data['mo_coeff'])[0]"
   ]
  }
 ],
 "metadata": {
  "kernelspec": {
   "display_name": "lno_pyscf_afqmc",
   "language": "python",
   "name": "python3"
  },
  "language_info": {
   "codemirror_mode": {
    "name": "ipython",
    "version": 3
   },
   "file_extension": ".py",
   "mimetype": "text/x-python",
   "name": "python",
   "nbconvert_exporter": "python",
   "pygments_lexer": "ipython3",
   "version": "3.10.16"
  }
 },
 "nbformat": 4,
 "nbformat_minor": 5
}
