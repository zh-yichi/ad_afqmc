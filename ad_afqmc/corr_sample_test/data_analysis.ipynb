{
 "cells": [
  {
   "cell_type": "code",
   "execution_count": 1,
   "metadata": {},
   "outputs": [],
   "source": [
    "import numpy as np\n",
    "from matplotlib import pyplot as plt"
   ]
  },
  {
   "cell_type": "code",
   "execution_count": null,
   "metadata": {},
   "outputs": [
    {
     "name": "stdout",
     "output_type": "stream",
     "text": [
      "0 0.000476631\n"
     ]
    }
   ],
   "source": [
    "with open(\"/home/yichi/research/ad_afqmc/ad_afqmc/corr_sample_test/ammonia/cs.data\", \"r\") as file:\n",
    "    for line in file:\n",
    "        columns = line.split()\n",
    "        steps = columns[0]\n",
    "        en_diff = columns[1]\n",
    "        print(steps, en_diff)"
   ]
  },
  {
   "cell_type": "code",
   "execution_count": 10,
   "metadata": {},
   "outputs": [
    {
     "name": "stdout",
     "output_type": "stream",
     "text": [
      "50\n"
     ]
    }
   ],
   "source": [
    "print(steps)"
   ]
  },
  {
   "cell_type": "code",
   "execution_count": null,
   "metadata": {},
   "outputs": [],
   "source": [
    "x_steps = np.linspace(1,50,100)\n",
    "afqmc_en = np.array([afqmc_en_diff]*len(x_steps))\n",
    "afqmc_lw = afqmc_en-afqmc_en_diff_err\n",
    "afqmc_up = afqmc_en+afqmc_en_diff_err\n",
    "plt.plot(x_steps,afqmc_en)\n",
    "plt.fill_between(x_steps, afqmc_lw, afqmc_up, color='blue', alpha=0.3, label='afqmc energy')\n",
    "plt.errorbar(steps+1,cwalker_en_diff,yerr=weight_cwalker_en_diff_err, fmt='o', capsize=5,label='correlated')\n",
    "plt.errorbar(steps+1,walker_en_diff,yerr=weight_walker_en_diff_err, fmt='o', capsize=5,label='uncorrelated')\n",
    "plt.xlabel('steps')\n",
    "plt.ylabel('energy difference')\n",
    "plt.ylim(-0.1,0.1)\n",
    "plt.title('correlated vs. uncorrelated walkers energy differences')\n",
    "plt.legend()\n",
    "plt.show()"
   ]
  }
 ],
 "metadata": {
  "kernelspec": {
   "display_name": "lno_afqmc",
   "language": "python",
   "name": "python3"
  },
  "language_info": {
   "codemirror_mode": {
    "name": "ipython",
    "version": 3
   },
   "file_extension": ".py",
   "mimetype": "text/x-python",
   "name": "python",
   "nbconvert_exporter": "python",
   "pygments_lexer": "ipython3",
   "version": "3.11.10"
  }
 },
 "nbformat": 4,
 "nbformat_minor": 2
}
