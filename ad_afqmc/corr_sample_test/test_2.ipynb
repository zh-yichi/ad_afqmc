{
 "cells": [
  {
   "cell_type": "code",
   "execution_count": 1,
   "metadata": {},
   "outputs": [
    {
     "name": "stdout",
     "output_type": "stream",
     "text": [
      "# Hostname: YICHI\n",
      "# System Type: Linux\n",
      "# Machine Type: x86_64\n",
      "# Processor: x86_64\n"
     ]
    }
   ],
   "source": [
    "from pyscf import gto, scf\n",
    "import numpy as np\n",
    "from jax import numpy as jnp\n",
    "from matplotlib import pyplot as plt\n",
    "from ad_afqmc.corr_sample_test import corr_sample\n",
    "from ad_afqmc import mpi_jax, driver, pyscf_interface, run_afqmc"
   ]
  },
  {
   "cell_type": "code",
   "execution_count": 1,
   "metadata": {},
   "outputs": [
    {
     "name": "stdout",
     "output_type": "stream",
     "text": [
      "Number of CPU cores available: 12\n"
     ]
    }
   ],
   "source": [
    "import os\n",
    "\n",
    "# Get the number of CPUs available\n",
    "num_cpus = os.cpu_count()\n",
    "print(f\"Number of CPU cores available: {num_cpus}\")"
   ]
  },
  {
   "cell_type": "code",
   "execution_count": 19,
   "metadata": {},
   "outputs": [
    {
     "name": "stdout",
     "output_type": "stream",
     "text": [
      "# Hostname: YICHI\n",
      "# System Type: Linux\n",
      "# Machine Type: x86_64\n",
      "# Processor: x86_64\n"
     ]
    },
    {
     "data": {
      "text/plain": [
       "<module 'ad_afqmc.mpi_jax' from '/home/yichi/research/ad_afqmc/ad_afqmc/mpi_jax.py'>"
      ]
     },
     "execution_count": 19,
     "metadata": {},
     "output_type": "execute_result"
    }
   ],
   "source": [
    "import importlib\n",
    "importlib.reload(run_afqmc)\n",
    "importlib.reload(mpi_jax)"
   ]
  },
  {
   "cell_type": "code",
   "execution_count": 18,
   "metadata": {},
   "outputs": [
    {
     "name": "stdout",
     "output_type": "stream",
     "text": [
      "mo_coeff.npz\n"
     ]
    }
   ],
   "source": [
    "print(run_afqmc.mo_file)"
   ]
  },
  {
   "cell_type": "code",
   "execution_count": 2,
   "metadata": {},
   "outputs": [
    {
     "name": "stdout",
     "output_type": "stream",
     "text": [
      "converged SCF energy = -0.763181428226132\n",
      "converged SCF energy = -0.752803525096631\n",
      "the rhf energy difference is:  -0.01037790312950082\n"
     ]
    }
   ],
   "source": [
    "d1 = 5\n",
    "atom1 = f'''\n",
    "H 0 0 0\n",
    "H {d1} 0 0\n",
    "'''\n",
    "\n",
    "mol1 = gto.Mole(\n",
    "verbose=3,\n",
    "atom=atom1,\n",
    "basis='crenbl',\n",
    ")\n",
    "\n",
    "mol1.build()\n",
    "mf1 = scf.RHF(mol1)\n",
    "mf1.kernel()\n",
    "\n",
    "d2 = 6\n",
    "atom2 = f'''\n",
    "H 0 0 0\n",
    "H {d2} 0 0\n",
    "'''\n",
    "\n",
    "mol2 = gto.Mole(\n",
    "verbose=3,\n",
    "atom=atom2,\n",
    "basis='crenbl',\n",
    ")\n",
    "\n",
    "mol2.build()\n",
    "mf2 = scf.RHF(mol2)\n",
    "mf2.kernel()\n",
    "\n",
    "print('the rhf energy difference is: ',mf1.e_tot-mf2.e_tot)"
   ]
  },
  {
   "cell_type": "code",
   "execution_count": 8,
   "metadata": {},
   "outputs": [],
   "source": [
    "mo_file1=\"mo1.npz\"\n",
    "mpi_jax.mo_file = mo_file1"
   ]
  },
  {
   "cell_type": "code",
   "execution_count": 9,
   "metadata": {},
   "outputs": [
    {
     "name": "stdout",
     "output_type": "stream",
     "text": [
      "mo1.npz\n"
     ]
    }
   ],
   "source": [
    "print(mpi_jax.mo_file)"
   ]
  },
  {
   "cell_type": "code",
   "execution_count": 20,
   "metadata": {},
   "outputs": [
    {
     "name": "stdout",
     "output_type": "stream",
     "text": [
      "#\n",
      "# Preparing AFQMC calculation\n",
      "# Calculating Cholesky integrals\n",
      "# Finished calculating Cholesky integrals\n",
      "#\n",
      "# Size of the correlation space:\n",
      "# Number of electrons: (1, 1)\n",
      "# Number of basis functions: 8\n",
      "# Number of Cholesky vectors: 14\n",
      "#\n",
      "# Hostname: YICHI\n",
      "# System Type: Linux\n",
      "# Machine Type: x86_64\n",
      "# Processor: x86_64\n",
      "# Number of MPI ranks: 1\n",
      "#\n",
      "# norb: 2\n",
      "# nelec: (1, 1)\n",
      "#\n",
      "# dt: 0.005\n",
      "# n_eql: 4\n",
      "# n_ene_blocks: 1\n",
      "# n_sr_blocks: 10\n",
      "# n_blocks: 200\n",
      "# n_walkers: 50\n",
      "# seed: 98\n",
      "# walker_type: rhf\n",
      "# trial: rhf\n",
      "# n_prop_steps: 50\n",
      "# orbital_rotation: True\n",
      "# do_sr: True\n",
      "# symmetry: False\n",
      "# save_walkers: False\n",
      "# ene0: 0.0\n",
      "# free_projection: False\n",
      "# n_batch: 1\n",
      "# LNO: False\n",
      "# orbE: 0\n",
      "# maxError: 0.001\n",
      "#\n",
      "# Equilibration sweeps:\n",
      "#   Iter        Block energy      Walltime\n",
      "#     0      -1.073582931e+00     1.27e+00 \n",
      "#     1      -1.100271702e+00     3.33e+00 \n",
      "#     2      -1.111707091e+00     4.82e+00 \n",
      "#     3      -1.104566574e+00     4.92e+00 \n",
      "#     4      -1.098595977e+00     5.02e+00 \n",
      "#\n",
      "# Sampling sweeps:\n",
      "#  Iter        Mean energy          Stochastic error       Walltime\n",
      "     0      -1.099076867e+00                -              6.54e+00 \n",
      "    20      -1.114149190e+00        7.344459111e-03        7.01e+00 \n",
      "    40      -1.110591211e+00        3.803336489e-03        7.50e+00 \n",
      "    60      -1.108354435e+00        2.593873299e-03        7.98e+00 \n",
      "    80      -1.107290526e+00        2.023859267e-03        8.47e+00 \n",
      "   100      -1.107519700e+00        1.657842830e-03        8.96e+00 \n",
      "   120      -1.107680487e+00        1.395968215e-03        9.45e+00 \n",
      "   140      -1.107601062e+00        1.242612581e-03        9.95e+00 \n",
      "   160      -1.107350668e+00        1.121027731e-03        1.05e+01 \n",
      "   180      -1.107388924e+00        1.014878289e-03        1.10e+01 \n",
      "#\n",
      "# Number of large deviations: 0\n",
      "# Number of outliers in post: 2 \n",
      "#\n",
      "# Mean: -1.10603522e+00\n",
      "# Block size    # of blocks         Mean                Error\n",
      "      1              198       -1.10603522e+00       5.500353e-04\n",
      "      2               99       -1.10603522e+00       6.054590e-04\n",
      "      5               39       -1.10602644e+00       6.007606e-04\n",
      "     10               19       -1.10615943e+00       6.603008e-04\n",
      "     20                9       -1.10631274e+00       5.993668e-04\n",
      "     50                3       -1.10656916e+00       1.169826e-03\n",
      "# Stocahstic error estimate: 6.054590e-04\n",
      "#\n",
      "AFQMC energy: -1.1060 +/- 0.0006\n",
      "\n",
      "ph_afqmc walltime: 11.420816421508789\n"
     ]
    },
    {
     "data": {
      "text/plain": [
       "(-1.1060352206141864, 0.0006054589585994999)"
      ]
     },
     "execution_count": 20,
     "metadata": {},
     "output_type": "execute_result"
    }
   ],
   "source": [
    "mo_file1=\"mo1.npz\"\n",
    "amp_file1=\"amp1.npz\"\n",
    "chol_file1=\"chol1\"\n",
    "run_afqmc.mo_file=mo_file1\n",
    "run_afqmc.amp_file=amp_file1\n",
    "run_afqmc.chol_file=chol_file1\n",
    "pyscf_interface.prep_afqmc(mf1,mo_file=mo_file1,chol_file=chol_file1)\n",
    "options1 = {\n",
    "    \"dt\": 0.005,\n",
    "    \"n_eql\": 4,\n",
    "    \"n_ene_blocks\": 1,\n",
    "    \"n_sr_blocks\": 10,\n",
    "    \"n_blocks\": 200,\n",
    "    \"n_walkers\": 50,\n",
    "    \"seed\": 98,\n",
    "    \"walker_type\": \"rhf\",\n",
    "    \"trial\": \"rhf\",\n",
    "}\n",
    "run_afqmc.run_afqmc(options1)"
   ]
  },
  {
   "cell_type": "code",
   "execution_count": 21,
   "metadata": {},
   "outputs": [
    {
     "name": "stdout",
     "output_type": "stream",
     "text": [
      "mo_coeff.npz\n"
     ]
    }
   ],
   "source": [
    "print(mpi_jax.mo_file)"
   ]
  },
  {
   "cell_type": "code",
   "execution_count": null,
   "metadata": {},
   "outputs": [],
   "source": [
    "mo_file2=\"mo2.npz\"\n",
    "amp_file2=\"amp2.npz\"\n",
    "chol_file2=\"chol2\"\n",
    "pyscf_interface.prep_afqmc(mf2,mo_file=mo_file2,chol_file=chol_file2)"
   ]
  },
  {
   "cell_type": "code",
   "execution_count": null,
   "metadata": {},
   "outputs": [],
   "source": [
    "mo_file1=\"mo1.npz\"\n",
    "amp_file1=\"amp1.npz\"\n",
    "chol_file1=\"chol1\"\n",
    "corr_sample.fix_len_chol_prep(mf1,chol_len=17,chol_cut=1e-7,mo_file=mo_file1,chol_file=chol_file1)\n",
    "mo_file2=\"mo2.npz\"\n",
    "amp_file2=\"amp2.npz\"\n",
    "chol_file2=\"chol2\"\n",
    "corr_sample.fix_len_chol_prep(mf2,chol_len=17,chol_cut=1e-10,mo_file=mo_file2,chol_file=chol_file2)"
   ]
  },
  {
   "cell_type": "code",
   "execution_count": 6,
   "metadata": {},
   "outputs": [
    {
     "name": "stdout",
     "output_type": "stream",
     "text": [
      "# Calculating Cholesky integrals\n",
      "# Finished calculating Cholesky integrals\n",
      "#\n",
      "# Size of the correlation space:\n",
      "# Number of electrons: (1, 1)\n",
      "# Number of basis functions: 8\n",
      "# Number of Cholesky vectors: 17\n",
      "#\n",
      "# Calculating Cholesky integrals\n",
      "# Finished calculating Cholesky integrals\n",
      "#\n",
      "# Size of the correlation space:\n",
      "# Number of electrons: (1, 1)\n",
      "# Number of basis functions: 8\n",
      "# Number of Cholesky vectors: 17\n",
      "#\n"
     ]
    }
   ],
   "source": [
    "mo_file1=\"mo1.npz\"\n",
    "amp_file1=\"amp1.npz\"\n",
    "chol_file1=\"chol1\"\n",
    "corr_sample.fix_len_chol_prep(mf1,chol_len=17,chol_cut=1e-7,mo_file=mo_file1,chol_file=chol_file1)\n",
    "mo_file2=\"mo2.npz\"\n",
    "amp_file2=\"amp2.npz\"\n",
    "chol_file2=\"chol2\"\n",
    "corr_sample.fix_len_chol_prep(mf2,chol_len=17,chol_cut=1e-10,mo_file=mo_file2,chol_file=chol_file2)"
   ]
  },
  {
   "cell_type": "code",
   "execution_count": 7,
   "metadata": {},
   "outputs": [],
   "source": [
    "options1 = {\n",
    "    \"dt\": 0.005,\n",
    "    \"n_eql\": 4,\n",
    "    \"n_ene_blocks\": 1,\n",
    "    \"n_sr_blocks\": 10,\n",
    "    \"n_blocks\": 200,\n",
    "    \"n_walkers\": 50,\n",
    "    \"seed\": 98,\n",
    "    \"walker_type\": \"rhf\",\n",
    "    \"trial\": \"rhf\",\n",
    "}\n",
    "\n",
    "options2 = {\n",
    "    \"dt\": 0.005,\n",
    "    \"n_eql\": 4,\n",
    "    \"n_ene_blocks\": 1,\n",
    "    \"n_sr_blocks\": 10,\n",
    "    \"n_blocks\": 200,\n",
    "    \"n_walkers\": 50,\n",
    "    \"seed\": 2,\n",
    "    \"walker_type\": \"rhf\",\n",
    "    \"trial\": \"rhf\",\n",
    "}"
   ]
  },
  {
   "cell_type": "code",
   "execution_count": 13,
   "metadata": {},
   "outputs": [
    {
     "name": "stdout",
     "output_type": "stream",
     "text": [
      "# Number of MPI ranks: 1\n",
      "#\n",
      "# norb: 8\n",
      "# nelec: (1, 1)\n",
      "#\n",
      "# dt: 0.005\n",
      "# n_eql: 4\n",
      "# n_ene_blocks: 1\n",
      "# n_sr_blocks: 10\n",
      "# n_blocks: 200\n",
      "# n_walkers: 50\n",
      "# seed: 98\n",
      "# walker_type: rhf\n",
      "# trial: rhf\n",
      "# n_prop_steps: 50\n",
      "# orbital_rotation: True\n",
      "# do_sr: True\n",
      "# symmetry: False\n",
      "# save_walkers: False\n",
      "# ene0: 0.0\n",
      "# free_projection: False\n",
      "# n_batch: 1\n",
      "# LNO: False\n",
      "# orbE: 0\n",
      "# maxError: 0.001\n",
      "#\n",
      "# Equilibration sweeps:\n",
      "#   Iter        Block energy      Walltime\n",
      "#     0      -7.631814297e-01     2.80e-01 \n",
      "#     1      -8.596905470e-01     2.16e+00 \n",
      "#     2      -8.500128984e-01     3.99e+00 \n",
      "#     3      -8.647252321e-01     4.51e+00 \n",
      "#     4      -9.272673726e-01     5.00e+00 \n",
      "#\n",
      "# Sampling sweeps:\n",
      "#  Iter        Mean energy          Stochastic error       Walltime\n",
      "     0      -8.658989072e-01                -              6.57e+00 \n",
      "    20      -8.777760173e-01        1.128268909e-02        8.77e+00 \n",
      "    40      -8.778325108e-01        6.011873039e-03        1.08e+01 \n",
      "    60      -8.815155674e-01        5.971740740e-03        1.28e+01 \n",
      "    80      -8.786229400e-01        4.705040682e-03        1.49e+01 \n",
      "   100      -8.792334426e-01        4.058603669e-03        1.70e+01 \n",
      "   120      -8.803599867e-01        3.658911111e-03        1.89e+01 \n",
      "   140      -8.786080471e-01        3.256225157e-03        2.09e+01 \n",
      "   160      -8.802334695e-01        3.428702904e-03        2.28e+01 \n",
      "   180      -8.796340199e-01        3.206155977e-03        2.51e+01 \n",
      "#\n",
      "# Number of large deviations: 0\n",
      "# Number of outliers in post: 0 \n",
      "#\n",
      "# Mean: -8.79190771e-01\n",
      "# Block size    # of blocks         Mean                Error\n",
      "      1              200       -8.79190771e-01       2.420078e-03\n",
      "      2              100       -8.79190771e-01       2.823618e-03\n",
      "      5               40       -8.79190771e-01       2.927005e-03\n",
      "     10               20       -8.79190771e-01       2.654786e-03\n",
      "     20               10       -8.79190771e-01       2.389713e-03\n",
      "     50                4       -8.79190771e-01       1.409548e-03\n",
      "# Stocahstic error estimate: 2.927005e-03\n",
      "#\n",
      "AFQMC energy: -0.879 +/- 0.003\n",
      "\n"
     ]
    }
   ],
   "source": [
    "afqmc1 = (mpi_jax._prep_afqmc(options1,mo_file=mo_file1,amp_file=amp_file1,chol_file=chol_file1))\n",
    "e_afqmc1, err_afqmc1 = driver.afqmc(*afqmc1)"
   ]
  },
  {
   "cell_type": "code",
   "execution_count": 14,
   "metadata": {},
   "outputs": [
    {
     "name": "stdout",
     "output_type": "stream",
     "text": [
      "# Number of MPI ranks: 1\n",
      "#\n",
      "# norb: 8\n",
      "# nelec: (1, 1)\n",
      "#\n",
      "# dt: 0.005\n",
      "# n_eql: 4\n",
      "# n_ene_blocks: 1\n",
      "# n_sr_blocks: 10\n",
      "# n_blocks: 200\n",
      "# n_walkers: 50\n",
      "# seed: 2\n",
      "# walker_type: rhf\n",
      "# trial: rhf\n",
      "# n_prop_steps: 50\n",
      "# orbital_rotation: True\n",
      "# do_sr: True\n",
      "# symmetry: False\n",
      "# save_walkers: False\n",
      "# ene0: 0.0\n",
      "# free_projection: False\n",
      "# n_batch: 1\n",
      "# LNO: False\n",
      "# orbE: 0\n",
      "# maxError: 0.001\n",
      "#\n",
      "# Equilibration sweeps:\n",
      "#   Iter        Block energy      Walltime\n",
      "#     0      -7.528035315e-01     3.95e-01 \n",
      "#     1      -8.710969090e-01     1.53e+00 \n",
      "#     2      -8.736531734e-01     2.38e+00 \n",
      "#     3      -8.765730858e-01     3.14e+00 \n",
      "#     4      -8.522193432e-01     4.02e+00 \n",
      "#\n",
      "# Sampling sweeps:\n",
      "#  Iter        Mean energy          Stochastic error       Walltime\n",
      "     0      -8.340724111e-01                -              4.21e+00 \n",
      "    20      -8.732925812e-01        1.405603993e-02        7.22e+00 \n",
      "    40      -8.737021831e-01        6.303080598e-03        9.81e+00 \n",
      "    60      -8.748937663e-01        4.933152343e-03        1.22e+01 \n",
      "    80      -8.724828427e-01        3.884836482e-03        1.45e+01 \n",
      "   100      -8.717040362e-01        3.569668957e-03        1.66e+01 \n",
      "   120      -8.756109666e-01        3.698810625e-03        2.05e+01 \n",
      "   140      -8.744296119e-01        3.388866272e-03        2.51e+01 \n",
      "   160      -8.749585021e-01        3.110272391e-03        2.83e+01 \n",
      "   180      -8.749349488e-01        2.942927120e-03        3.21e+01 \n",
      "#\n",
      "# Number of large deviations: 0\n",
      "# Number of outliers in post: 0 \n",
      "#\n",
      "# Mean: -8.73694885e-01\n",
      "# Block size    # of blocks         Mean                Error\n",
      "      1              200       -8.73694885e-01       2.286425e-03\n",
      "      2              100       -8.73694885e-01       2.608856e-03\n",
      "      5               40       -8.73694885e-01       2.822948e-03\n",
      "     10               20       -8.73694885e-01       2.696641e-03\n",
      "     20               10       -8.73694885e-01       3.261198e-03\n",
      "     50                4       -8.73694885e-01       2.471592e-03\n",
      "# Stocahstic error estimate: 2.822948e-03\n",
      "#\n",
      "AFQMC energy: -0.874 +/- 0.003\n",
      "\n"
     ]
    }
   ],
   "source": [
    "afqmc2 = (mpi_jax._prep_afqmc(options2,mo_file=mo_file2,amp_file=amp_file2,chol_file=chol_file2))\n",
    "e_afqmc2, err_afqmc2 = driver.afqmc(*afqmc2)"
   ]
  },
  {
   "cell_type": "code",
   "execution_count": 16,
   "metadata": {},
   "outputs": [
    {
     "name": "stdout",
     "output_type": "stream",
     "text": [
      "the afqmc energy difference is -0.0054958860866555215, error is 0.004066496443225998\n"
     ]
    }
   ],
   "source": [
    "afqmc_en_diff = e_afqmc1 - e_afqmc2\n",
    "afqmc_en_diff_err = np.sqrt(err_afqmc1**2+err_afqmc2**2)\n",
    "print(f'the afqmc energy difference is {afqmc_en_diff}, error is {afqmc_en_diff_err}')"
   ]
  },
  {
   "cell_type": "code",
   "execution_count": 10,
   "metadata": {},
   "outputs": [
    {
     "name": "stdout",
     "output_type": "stream",
     "text": [
      "# Number of MPI ranks: 1\n",
      "#\n",
      "# norb: 8\n",
      "# nelec: (1, 1)\n",
      "#\n",
      "# dt: 0.005\n",
      "# n_eql: 4\n",
      "# n_ene_blocks: 1\n",
      "# n_sr_blocks: 10\n",
      "# n_blocks: 200\n",
      "# n_walkers: 50\n",
      "# seed: 98\n",
      "# walker_type: rhf\n",
      "# trial: rhf\n",
      "# n_prop_steps: 50\n",
      "# orbital_rotation: True\n",
      "# do_sr: True\n",
      "# symmetry: False\n",
      "# save_walkers: False\n",
      "# ene0: 0.0\n",
      "# free_projection: False\n",
      "# n_batch: 1\n",
      "# LNO: False\n",
      "# orbE: 0\n",
      "# maxError: 0.001\n",
      "#\n",
      "# Number of MPI ranks: 1\n",
      "#\n",
      "# norb: 8\n",
      "# nelec: (1, 1)\n",
      "#\n",
      "# dt: 0.005\n",
      "# n_eql: 4\n",
      "# n_ene_blocks: 1\n",
      "# n_sr_blocks: 10\n",
      "# n_blocks: 200\n",
      "# n_walkers: 50\n",
      "# seed: 2\n",
      "# walker_type: rhf\n",
      "# trial: rhf\n",
      "# n_prop_steps: 50\n",
      "# orbital_rotation: True\n",
      "# do_sr: True\n",
      "# symmetry: False\n",
      "# save_walkers: False\n",
      "# ene0: 0.0\n",
      "# free_projection: False\n",
      "# n_batch: 1\n",
      "# LNO: False\n",
      "# orbE: 0\n",
      "# maxError: 0.001\n",
      "#\n",
      "# initial energy: -7.631814297e-01\n",
      "# initial energy: -7.528035315e-01\n"
     ]
    }
   ],
   "source": [
    "ham_data1, ham1, prop1, trial1, wave_data1, sampler1, observable1, options1, MPI \\\n",
    "    = mpi_jax._prep_afqmc(options1,mo_file=mo_file1,amp_file=amp_file1,chol_file=chol_file1)\n",
    "ham_data2, ham2, prop2, trial2, wave_data2, sampler2, observable2, options2, MPI \\\n",
    "    = mpi_jax._prep_afqmc(options2,mo_file=mo_file2,amp_file=amp_file2,chol_file=chol_file2)\n",
    "\n",
    "prop_data1, ham_data1 = corr_sample.init_prop(ham_data1, ham1, prop1, trial1, wave_data1, options1, MPI)\n",
    "prop_data2, ham_data2 = corr_sample.init_prop(ham_data2, ham2, prop2, trial2, wave_data2, options2, MPI)\n",
    "\n",
    "steps = np.arange(0, 10, 1)\n",
    "weight_cwalker_en1 = [0]*10\n",
    "weight_cwalker_en2 = [0]*10\n",
    "cwalker_en_diff = [0]*10\n",
    "weight_cwalker_en_diff_err = [0]*10\n",
    "for n in steps:\n",
    "    prop_data1,prop_data2,fields = corr_sample.cs_block_scan(prop_data1,ham_data1,prop1,trial1,wave_data1,prop_data2,ham_data2,prop2,trial2,wave_data2)\n",
    "    energy_samples1 = corr_sample.en_samples(prop_data1,ham_data1,prop1,trial1,wave_data1)\n",
    "    energy_samples2 = corr_sample.en_samples(prop_data2,ham_data2,prop2,trial2,wave_data2)\n",
    "    norm_weight1 = prop_data1[\"weights\"]/jnp.sum(prop_data1[\"weights\"])\n",
    "    norm_weight2 = prop_data2[\"weights\"]/jnp.sum(prop_data2[\"weights\"])\n",
    "    weight_cwalker_en1 = energy_samples1*norm_weight1\n",
    "    weight_cwalker_en2 = energy_samples2*norm_weight2\n",
    "    weight_cwalker_en_diff = weight_cwalker_en1 - weight_cwalker_en2\n",
    "    weight_cwalker_en_diff_err[n] = weight_cwalker_en_diff.std()\n",
    "    cwalker_en_diff[n] = sum(weight_cwalker_en_diff)"
   ]
  },
  {
   "cell_type": "code",
   "execution_count": 11,
   "metadata": {},
   "outputs": [
    {
     "name": "stdout",
     "output_type": "stream",
     "text": [
      "# Number of MPI ranks: 1\n",
      "#\n"
     ]
    },
    {
     "name": "stdout",
     "output_type": "stream",
     "text": [
      "# norb: 8\n",
      "# nelec: (1, 1)\n",
      "#\n",
      "# dt: 0.005\n",
      "# n_eql: 4\n",
      "# n_ene_blocks: 1\n",
      "# n_sr_blocks: 10\n",
      "# n_blocks: 200\n",
      "# n_walkers: 50\n",
      "# seed: 98\n",
      "# walker_type: rhf\n",
      "# trial: rhf\n",
      "# n_prop_steps: 50\n",
      "# orbital_rotation: True\n",
      "# do_sr: True\n",
      "# symmetry: False\n",
      "# save_walkers: False\n",
      "# ene0: 0.0\n",
      "# free_projection: False\n",
      "# n_batch: 1\n",
      "# LNO: False\n",
      "# orbE: 0\n",
      "# maxError: 0.001\n",
      "#\n",
      "# Number of MPI ranks: 1\n",
      "#\n",
      "# norb: 8\n",
      "# nelec: (1, 1)\n",
      "#\n",
      "# dt: 0.005\n",
      "# n_eql: 4\n",
      "# n_ene_blocks: 1\n",
      "# n_sr_blocks: 10\n",
      "# n_blocks: 200\n",
      "# n_walkers: 50\n",
      "# seed: 2\n",
      "# walker_type: rhf\n",
      "# trial: rhf\n",
      "# n_prop_steps: 50\n",
      "# orbital_rotation: True\n",
      "# do_sr: True\n",
      "# symmetry: False\n",
      "# save_walkers: False\n",
      "# ene0: 0.0\n",
      "# free_projection: False\n",
      "# n_batch: 1\n",
      "# LNO: False\n",
      "# orbE: 0\n",
      "# maxError: 0.001\n",
      "#\n",
      "# initial energy: -7.631814297e-01\n",
      "# initial energy: -7.528035315e-01\n"
     ]
    }
   ],
   "source": [
    "ham_data1, ham1, prop1, trial1, wave_data1, sampler1, observable1, options1, MPI \\\n",
    "    = mpi_jax._prep_afqmc(options1,mo_file=mo_file1,amp_file=amp_file1,chol_file=chol_file1)\n",
    "ham_data2, ham2, prop2, trial2, wave_data2, sampler2, observable2, options2, MPI \\\n",
    "    = mpi_jax._prep_afqmc(options2,mo_file=mo_file2,amp_file=amp_file2,chol_file=chol_file2)\n",
    "\n",
    "prop_data1, ham_data1 = corr_sample.init_prop(ham_data1, ham1, prop1, trial1, wave_data1, options1, MPI)\n",
    "prop_data2, ham_data2 = corr_sample.init_prop(ham_data2, ham2, prop2, trial2, wave_data2, options2, MPI)\n",
    "\n",
    "steps = np.arange(0, 10, 1)\n",
    "#weight_cwalker_en1 = [0]*10\n",
    "#weight_cwalker_en2 = [0]*10\n",
    "walker_en_diff = [0]*10\n",
    "weight_walker_en_diff_err = [0]*10\n",
    "for n in steps:\n",
    "    prop_data1,prop_data2,_,_ = corr_sample.ucs_block_scan(prop_data1,ham_data1,prop1,trial1,wave_data1,prop_data2,ham_data2,prop2,trial2,wave_data2)\n",
    "    energy_samples1 = corr_sample.en_samples(prop_data1,ham_data1,prop1,trial1,wave_data1)\n",
    "    energy_samples2 = corr_sample.en_samples(prop_data2,ham_data2,prop2,trial2,wave_data2)\n",
    "    norm_weight1 = prop_data1[\"weights\"]/jnp.sum(prop_data1[\"weights\"])\n",
    "    norm_weight2 = prop_data2[\"weights\"]/jnp.sum(prop_data2[\"weights\"])\n",
    "    weight_walker_en1 = energy_samples1*norm_weight1\n",
    "    weight_walker_en2 = energy_samples2*norm_weight2\n",
    "    weight_walker_en_diff = weight_walker_en1 - weight_walker_en2\n",
    "    weight_walker_en_diff_err[n] = weight_walker_en_diff.std()\n",
    "    walker_en_diff[n] = sum(weight_walker_en_diff)"
   ]
  },
  {
   "cell_type": "code",
   "execution_count": 17,
   "metadata": {},
   "outputs": [
    {
     "data": {
      "image/png": "[encoded data removed]",
      "text/plain": [
       "<Figure size 640x480 with 1 Axes>"
      ]
     },
     "metadata": {},
     "output_type": "display_data"
    }
   ],
   "source": [
    "x_steps = np.linspace(1,10,100)\n",
    "afqmc_en = np.array([afqmc_en_diff]*len(x_steps))\n",
    "afqmc_lw = afqmc_en-afqmc_en_diff_err\n",
    "afqmc_up = afqmc_en+afqmc_en_diff_err\n",
    "plt.plot(x_steps,afqmc_en)\n",
    "plt.fill_between(x_steps, afqmc_lw, afqmc_up, color='blue', alpha=0.3, label='afqmc energy')\n",
    "plt.errorbar(steps+1,cwalker_en_diff,yerr=weight_cwalker_en_diff_err, fmt='o', capsize=5,label='correlated')\n",
    "plt.errorbar(steps+1,walker_en_diff,yerr=weight_walker_en_diff_err, fmt='o', capsize=5,label='uncorrelated')\n",
    "plt.xlabel('steps')\n",
    "plt.ylabel('energy difference')\n",
    "plt.title('correlated vs. uncorrelated walkers energy differences')\n",
    "plt.legend()\n",
    "plt.show()"
   ]
  },
  {
   "cell_type": "code",
   "execution_count": null,
   "metadata": {},
   "outputs": [],
   "source": []
  }
 ],
 "metadata": {
  "kernelspec": {
   "display_name": "lno_afqmc",
   "language": "python",
   "name": "python3"
  },
  "language_info": {
   "codemirror_mode": {
    "name": "ipython",
    "version": 3
   },
   "file_extension": ".py",
   "mimetype": "text/x-python",
   "name": "python",
   "nbconvert_exporter": "python",
   "pygments_lexer": "ipython3",
   "version": "3.11.10"
  }
 },
 "nbformat": 4,
 "nbformat_minor": 2
}
