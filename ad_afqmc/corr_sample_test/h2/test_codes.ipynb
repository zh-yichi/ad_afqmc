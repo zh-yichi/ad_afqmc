{
 "cells": [
  {
   "cell_type": "code",
   "execution_count": 6,
   "metadata": {},
   "outputs": [
    {
     "name": "stdout",
     "output_type": "stream",
     "text": [
      "\n",
      "WARN: Even tempered Gaussians are generated as DF auxbasis for  H\n",
      "\n",
      "converged SCF energy = -0.763182266704983\n",
      "\n",
      "WARN: Even tempered Gaussians are generated as DF auxbasis for  H\n",
      "\n",
      "converged SCF energy = -0.752803643071971\n",
      "the rhf energy difference is:  -0.010378623633011785\n"
     ]
    }
   ],
   "source": [
    "from pyscf import gto, scf\n",
    "#import os\n",
    "import numpy as np\n",
    "from matplotlib import pyplot as plt\n",
    "\n",
    "d1 = 5\n",
    "atom1 = f'''\n",
    "H 0 0 0\n",
    "H {d1} 0 0\n",
    "'''\n",
    "\n",
    "mol1 = gto.Mole(\n",
    "verbose=3,\n",
    "atom=atom1,\n",
    "basis='crenbl',\n",
    ")\n",
    "\n",
    "mol1.build()\n",
    "mf1 = scf.RHF(mol1).density_fit()\n",
    "mf1.kernel()\n",
    "\n",
    "d2 = 6\n",
    "atom2 = f'''\n",
    "H 0 0 0\n",
    "H {d2} 0 0\n",
    "'''\n",
    "\n",
    "mol2 = gto.Mole(\n",
    "verbose=3,\n",
    "atom=atom2,\n",
    "basis='crenbl',\n",
    ")\n",
    "\n",
    "mol2.build()\n",
    "mf2 = scf.RHF(mol2).density_fit()\n",
    "mf2.kernel()\n",
    "\n",
    "print('the rhf energy difference is: ',mf1.e_tot-mf2.e_tot)"
   ]
  },
  {
   "cell_type": "code",
   "execution_count": 3,
   "metadata": {},
   "outputs": [],
   "source": [
    "from ad_afqmc.corr_sample_test import corr_sample\n",
    "from ad_afqmc import pyscf_interface"
   ]
  },
  {
   "cell_type": "code",
   "execution_count": 8,
   "metadata": {},
   "outputs": [],
   "source": [
    "options = {\n",
    "    \"dt\": 0.005,\n",
    "    \"n_eql\": 4,\n",
    "    \"n_ene_blocks\": 1,\n",
    "    \"n_sr_blocks\": 10,\n",
    "    \"n_blocks\": 200,\n",
    "    \"n_walkers\": 50,\n",
    "    \"seed\": 98,\n",
    "    \"walker_type\": \"rhf\",\n",
    "    \"trial\": \"rhf\",\n",
    "    \"free_proj\": False,\n",
    "}\n",
    "\n",
    "# options2 = {\n",
    "#     \"dt\": 0.005,\n",
    "#     \"n_eql\": 4,\n",
    "#     \"n_ene_blocks\": 1,\n",
    "#     \"n_sr_blocks\": 10,\n",
    "#     \"n_blocks\": 200,\n",
    "#     \"n_walkers\": 50,\n",
    "#     \"seed\": 2,\n",
    "#     \"walker_type\": \"rhf\",\n",
    "#     \"trial\": \"rhf\",\n",
    "# }"
   ]
  },
  {
   "cell_type": "code",
   "execution_count": 9,
   "metadata": {},
   "outputs": [],
   "source": [
    "import pickle\n",
    "with open(\"options.pkl\", \"wb\") as file:\n",
    "    pickle.dump(options, file)"
   ]
  },
  {
   "cell_type": "code",
   "execution_count": 10,
   "metadata": {},
   "outputs": [
    {
     "name": "stdout",
     "output_type": "stream",
     "text": [
      "False\n"
     ]
    }
   ],
   "source": [
    "with open(\"options.pkl\", \"rb\") as file:\n",
    "    options = pickle.load(file)\n",
    "\n",
    "print(options[\"free_proj\"]) "
   ]
  },
  {
   "cell_type": "code",
   "execution_count": 8,
   "metadata": {},
   "outputs": [
    {
     "name": "stdout",
     "output_type": "stream",
     "text": [
      "[ 5550 81205 43177 48119 58886 35486 48871 27135 29143 63114]\n",
      "[   0 5550]\n",
      "[ 830082274 1285499985] [3302481531 4246221579]\n"
     ]
    }
   ],
   "source": [
    "from jax import random\n",
    "import jax\n",
    "seeds = random.randint(random.PRNGKey(98),\n",
    "                        shape=(10,), minval=0, maxval=100000)\n",
    "print(seeds)\n",
    "\n",
    "prop_data_key = jax.random.PRNGKey(seeds[0])\n",
    "# prop_data_key = random.randint(random.PRNGKey(seeds[0]),\n",
    "#                         shape=(2,), minval=0, maxval=100000)\n",
    "print(prop_data_key)\n",
    "prop_data_key, subkey2 = random.split(prop_data_key)\n",
    "print(prop_data_key,subkey2)"
   ]
  },
  {
   "cell_type": "code",
   "execution_count": null,
   "metadata": {},
   "outputs": [
    {
     "name": "stdout",
     "output_type": "stream",
     "text": [
      "# Number of MPI ranks: 1\n",
      "#\n",
      "# norb: 8\n",
      "# nelec: (1, 1)\n",
      "#\n",
      "# dt: 0.005\n",
      "# n_eql: 4\n",
      "# n_ene_blocks: 1\n",
      "# n_sr_blocks: 10\n",
      "# n_blocks: 200\n",
      "# n_walkers: 50\n",
      "# seed: 98\n",
      "# walker_type: rhf\n",
      "# trial: rhf\n",
      "# n_exp_terms: 6\n",
      "# n_prop_steps: 50\n",
      "# orbital_rotation: True\n",
      "# do_sr: True\n",
      "# symmetry: False\n",
      "# save_walkers: False\n",
      "# ene0: 0.0\n",
      "# free_projection: False\n",
      "# n_batch: 1\n",
      "# LNO: False\n",
      "# orbE: 0\n",
      "# maxError: 0.001\n",
      "#\n",
      "# Number of MPI ranks: 1\n",
      "#\n",
      "# norb: 8\n",
      "# nelec: (1, 1)\n",
      "#\n",
      "# dt: 0.005\n",
      "# n_eql: 4\n",
      "# n_ene_blocks: 1\n",
      "# n_sr_blocks: 10\n",
      "# n_blocks: 200\n",
      "# n_walkers: 50\n",
      "# seed: 2\n",
      "# walker_type: rhf\n",
      "# trial: rhf\n",
      "# n_exp_terms: 6\n",
      "# n_prop_steps: 50\n",
      "# orbital_rotation: True\n",
      "# do_sr: True\n",
      "# symmetry: False\n",
      "# save_walkers: False\n",
      "# ene0: 0.0\n",
      "# free_projection: False\n",
      "# n_batch: 1\n",
      "# LNO: False\n",
      "# orbE: 0\n",
      "# maxError: 0.001\n",
      "#\n"
     ]
    }
   ],
   "source": [
    "from ad_afqmc import mpi_jax\n",
    "mo_file1=\"h2_mo1.npz\"\n",
    "chol_file1=\"h2_chol1\"\n",
    "mo_file2=\"h2_mo2.npz\"\n",
    "chol_file2=\"h2_chol2\"\n",
    "ham_data1, ham1, prop1, trial1, wave_data1, sampler1, observable1, options1, MPI \\\n",
    "    = mpi_jax._prep_afqmc(options,mo_file=mo_file1,chol_file=chol_file1)\n",
    "ham_data2, ham2, prop2, trial2, wave_data2, sampler2, observable2, options2, MPI \\\n",
    "    = mpi_jax._prep_afqmc(options,mo_file=mo_file2,chol_file=chol_file2)\n",
    "prop_data1_init, ham_data1_init = \\\n",
    "    corr_sample.init_prop(ham_data1, ham1, prop1, trial1, wave_data1, 2, MPI)\n",
    "prop_data2_init, ham_data2_init = \\\n",
    "    corr_sample.init_prop(ham_data2, ham2, prop2, trial2, wave_data2, 98, MPI)"
   ]
  },
  {
   "cell_type": "code",
   "execution_count": 13,
   "metadata": {},
   "outputs": [
    {
     "name": "stdout",
     "output_type": "stream",
     "text": [
      "0.10583544218400001\n"
     ]
    }
   ],
   "source": [
    "print(ham_data1[\"h0\"])"
   ]
  },
  {
   "cell_type": "code",
   "execution_count": 4,
   "metadata": {},
   "outputs": [
    {
     "name": "stdout",
     "output_type": "stream",
     "text": [
      "# Calculating Cholesky integrals\n",
      "# Finished calculating Cholesky integrals\n",
      "#\n",
      "# Size of the correlation space:\n",
      "# Number of electrons: (1, 1)\n",
      "# Number of basis functions: 8\n",
      "# Number of Cholesky vectors: 17\n",
      "#\n",
      "# Calculating Cholesky integrals\n",
      "# Finished calculating Cholesky integrals\n",
      "#\n",
      "# Size of the correlation space:\n",
      "# Number of electrons: (1, 1)\n",
      "# Number of basis functions: 8\n",
      "# Number of Cholesky vectors: 17\n",
      "#\n"
     ]
    }
   ],
   "source": [
    "mo_file1=\"h2_mo1.npz\"\n",
    "chol_file1=\"h2_chol1\"\n",
    "corr_sample.fix_len_chol_prep(mf1,chol_len=17,chol_cut=1e-10,mo_file=mo_file1,chol_file=chol_file1)\n",
    "mo_file2=\"h2_mo2.npz\"\n",
    "chol_file2=\"h2_chol2\"\n",
    "corr_sample.fix_len_chol_prep(mf2,chol_len=17,chol_cut=1e-10,mo_file=mo_file2,chol_file=chol_file2)"
   ]
  },
  {
   "cell_type": "code",
   "execution_count": 3,
   "metadata": {},
   "outputs": [
    {
     "name": "stdout",
     "output_type": "stream",
     "text": [
      "#\n",
      "# Preparing AFQMC calculation\n",
      "# Calculating Cholesky integrals\n",
      "# Decomposing ERI with DF\n",
      "# Finished calculating Cholesky integrals\n",
      "#\n",
      "# Size of the correlation space:\n",
      "# Number of electrons: (1, 1)\n",
      "# Number of basis functions: 8\n",
      "# Number of Cholesky vectors: 14\n",
      "#\n",
      "#\n",
      "# Preparing AFQMC calculation\n",
      "# Calculating Cholesky integrals\n",
      "# Decomposing ERI with DF\n",
      "# Finished calculating Cholesky integrals\n",
      "#\n",
      "# Size of the correlation space:\n",
      "# Number of electrons: (1, 1)\n",
      "# Number of basis functions: 8\n",
      "# Number of Cholesky vectors: 14\n",
      "#\n"
     ]
    }
   ],
   "source": [
    "mo_file1=\"h2_mo1.npz\"\n",
    "chol_file1=\"h2_chol1\"\n",
    "pyscf_interface.prep_afqmc(mf1,mo_file=mo_file1,chol_file=chol_file1)\n",
    "mo_file2=\"h2_mo2.npz\"\n",
    "chol_file2=\"h2_chol2\"\n",
    "pyscf_interface.prep_afqmc(mf2,mo_file=mo_file2,chol_file=chol_file2)"
   ]
  },
  {
   "cell_type": "code",
   "execution_count": 5,
   "metadata": {},
   "outputs": [],
   "source": [
    "options1 = {\n",
    "    \"dt\": 0.005,\n",
    "    \"n_eql\": 4,\n",
    "    \"n_ene_blocks\": 1,\n",
    "    \"n_sr_blocks\": 10,\n",
    "    \"n_blocks\": 200,\n",
    "    \"n_walkers\": 50,\n",
    "    \"seed\": 98,\n",
    "    \"walker_type\": \"rhf\",\n",
    "    \"trial\": \"rhf\",\n",
    "}\n",
    "\n",
    "options2 = {\n",
    "    \"dt\": 0.005,\n",
    "    \"n_eql\": 4,\n",
    "    \"n_ene_blocks\": 1,\n",
    "    \"n_sr_blocks\": 10,\n",
    "    \"n_blocks\": 200,\n",
    "    \"n_walkers\": 50,\n",
    "    \"seed\": 2,\n",
    "    \"walker_type\": \"rhf\",\n",
    "    \"trial\": \"rhf\",\n",
    "}"
   ]
  },
  {
   "cell_type": "code",
   "execution_count": 10,
   "metadata": {},
   "outputs": [
    {
     "name": "stdout",
     "output_type": "stream",
     "text": [
      "# Number of MPI ranks: 1\n",
      "#\n",
      "# norb: 8\n",
      "# nelec: (1, 1)\n",
      "#\n",
      "# dt: 0.005\n",
      "# n_eql: 4\n",
      "# n_ene_blocks: 1\n",
      "# n_sr_blocks: 10\n",
      "# n_blocks: 200\n",
      "# n_walkers: 50\n",
      "# seed: 98\n",
      "# walker_type: rhf\n",
      "# trial: rhf\n",
      "# n_prop_steps: 50\n",
      "# orbital_rotation: True\n",
      "# do_sr: True\n",
      "# symmetry: False\n",
      "# save_walkers: False\n",
      "# ene0: 0.0\n",
      "# free_projection: False\n",
      "# n_batch: 1\n",
      "# LNO: False\n",
      "# orbE: 0\n",
      "# maxError: 0.001\n",
      "#\n",
      "# Equilibration sweeps:\n",
      "#   Iter        Block energy      Walltime\n",
      "#     0      -7.631814297e-01     1.36e+00 \n",
      "#     1      -8.596905470e-01     3.73e+00 \n",
      "#     2      -8.500128984e-01     5.53e+00 \n",
      "#     3      -8.647252321e-01     5.94e+00 \n",
      "#     4      -9.272673726e-01     6.34e+00 \n",
      "#\n",
      "# Sampling sweeps:\n",
      "#  Iter        Mean energy          Stochastic error       Walltime\n",
      "     0      -8.658989072e-01                -              7.66e+00 \n",
      "    20      -8.777760173e-01        1.128268909e-02        9.39e+00 \n",
      "    40      -8.778325108e-01        6.011873039e-03        1.11e+01 \n",
      "    60      -8.815155674e-01        5.971740740e-03        1.28e+01 \n",
      "    80      -8.786229400e-01        4.705040682e-03        1.45e+01 \n",
      "   100      -8.792334426e-01        4.058603669e-03        1.62e+01 \n",
      "   120      -8.803599867e-01        3.658911111e-03        1.79e+01 \n",
      "   140      -8.786080471e-01        3.256225157e-03        1.96e+01 \n",
      "   160      -8.802334695e-01        3.428702904e-03        2.14e+01 \n",
      "   180      -8.796340199e-01        3.206155977e-03        2.31e+01 \n",
      "#\n",
      "# Number of large deviations: 0\n",
      "# Number of outliers in post: 0 \n",
      "#\n",
      "# Mean: -8.79190771e-01\n",
      "# Block size    # of blocks         Mean                Error\n",
      "      1              200       -8.79190771e-01       2.420078e-03\n",
      "      2              100       -8.79190771e-01       2.823618e-03\n",
      "      5               40       -8.79190771e-01       2.927005e-03\n",
      "     10               20       -8.79190771e-01       2.654786e-03\n",
      "     20               10       -8.79190771e-01       2.389713e-03\n",
      "     50                4       -8.79190771e-01       1.409548e-03\n",
      "# Stocahstic error estimate: 2.927005e-03\n",
      "#\n",
      "AFQMC energy: -0.879 +/- 0.003\n",
      "\n"
     ]
    }
   ],
   "source": [
    "afqmc1 = (mpi_jax._prep_afqmc(options1,mo_file=mo_file1,amp_file=amp_file1,chol_file=chol_file1))\n",
    "e_afqmc1, err_afqmc1 = driver.afqmc(*afqmc1)"
   ]
  },
  {
   "cell_type": "code",
   "execution_count": 11,
   "metadata": {},
   "outputs": [
    {
     "name": "stdout",
     "output_type": "stream",
     "text": [
      "# Number of MPI ranks: 1\n",
      "#\n",
      "# norb: 8\n",
      "# nelec: (1, 1)\n",
      "#\n",
      "# dt: 0.005\n",
      "# n_eql: 4\n",
      "# n_ene_blocks: 1\n",
      "# n_sr_blocks: 10\n",
      "# n_blocks: 200\n",
      "# n_walkers: 50\n",
      "# seed: 2\n",
      "# walker_type: rhf\n",
      "# trial: rhf\n",
      "# n_prop_steps: 50\n",
      "# orbital_rotation: True\n",
      "# do_sr: True\n",
      "# symmetry: False\n",
      "# save_walkers: False\n",
      "# ene0: 0.0\n",
      "# free_projection: False\n",
      "# n_batch: 1\n",
      "# LNO: False\n",
      "# orbE: 0\n",
      "# maxError: 0.001\n",
      "#\n",
      "# Equilibration sweeps:\n",
      "#   Iter        Block energy      Walltime\n",
      "#     0      -7.528035315e-01     2.35e-01 \n",
      "#     1      -8.710969090e-01     6.68e-01 \n",
      "#     2      -8.736531734e-01     1.10e+00 \n",
      "#     3      -8.765730858e-01     1.52e+00 \n",
      "#     4      -8.522193432e-01     1.93e+00 \n",
      "#\n",
      "# Sampling sweeps:\n",
      "#  Iter        Mean energy          Stochastic error       Walltime\n",
      "     0      -8.340724111e-01                -              2.01e+00 \n",
      "    20      -8.732925812e-01        1.405603993e-02        3.70e+00 \n",
      "    40      -8.737021831e-01        6.303080598e-03        5.40e+00 \n",
      "    60      -8.748937663e-01        4.933152343e-03        7.15e+00 \n",
      "    80      -8.724828427e-01        3.884836482e-03        8.84e+00 \n",
      "   100      -8.717040362e-01        3.569668957e-03        1.06e+01 \n",
      "   120      -8.756109666e-01        3.698810625e-03        1.23e+01 \n",
      "   140      -8.744296119e-01        3.388866272e-03        1.40e+01 \n",
      "   160      -8.749585021e-01        3.110272391e-03        1.57e+01 \n",
      "   180      -8.749349488e-01        2.942927120e-03        1.74e+01 \n",
      "#\n",
      "# Number of large deviations: 0\n",
      "# Number of outliers in post: 0 \n",
      "#\n",
      "# Mean: -8.73694885e-01\n",
      "# Block size    # of blocks         Mean                Error\n",
      "      1              200       -8.73694885e-01       2.286425e-03\n",
      "      2              100       -8.73694885e-01       2.608856e-03\n",
      "      5               40       -8.73694885e-01       2.822948e-03\n",
      "     10               20       -8.73694885e-01       2.696641e-03\n",
      "     20               10       -8.73694885e-01       3.261198e-03\n",
      "     50                4       -8.73694885e-01       2.471592e-03\n",
      "# Stocahstic error estimate: 2.822948e-03\n",
      "#\n",
      "AFQMC energy: -0.874 +/- 0.003\n",
      "\n"
     ]
    }
   ],
   "source": [
    "afqmc2 = (mpi_jax._prep_afqmc(options2,mo_file=mo_file2,amp_file=amp_file2,chol_file=chol_file2))\n",
    "e_afqmc2, err_afqmc2 = driver.afqmc(*afqmc2)"
   ]
  },
  {
   "cell_type": "code",
   "execution_count": 12,
   "metadata": {},
   "outputs": [
    {
     "name": "stdout",
     "output_type": "stream",
     "text": [
      "the afqmc energy difference is -0.0054958860866555215, error is 0.004066496443225998\n"
     ]
    }
   ],
   "source": [
    "afqmc_en_diff = e_afqmc1 - e_afqmc2\n",
    "afqmc_en_diff_err = np.sqrt(err_afqmc1**2+err_afqmc2**2)\n",
    "print(f'the afqmc energy difference is {afqmc_en_diff}, error is {afqmc_en_diff_err}')"
   ]
  },
  {
   "cell_type": "code",
   "execution_count": 46,
   "metadata": {},
   "outputs": [
    {
     "name": "stdout",
     "output_type": "stream",
     "text": [
      "# Number of MPI ranks: 1\n",
      "#\n",
      "# norb: 8\n",
      "# nelec: (1, 1)\n",
      "#\n",
      "# dt: 0.005\n",
      "# n_eql: 4\n",
      "# n_ene_blocks: 1\n",
      "# n_sr_blocks: 10\n",
      "# n_blocks: 200\n",
      "# n_walkers: 50\n",
      "# seed: 98\n",
      "# walker_type: rhf\n",
      "# trial: rhf\n",
      "# n_prop_steps: 50\n",
      "# orbital_rotation: True\n",
      "# do_sr: True\n",
      "# symmetry: False\n",
      "# save_walkers: False\n",
      "# ene0: 0.0\n",
      "# free_projection: False\n",
      "# n_batch: 1\n",
      "# LNO: False\n",
      "# orbE: 0\n",
      "# maxError: 0.001\n",
      "#\n",
      "# Number of MPI ranks: 1\n",
      "#\n",
      "# norb: 8\n",
      "# nelec: (1, 1)\n",
      "#\n",
      "# dt: 0.005\n",
      "# n_eql: 4\n",
      "# n_ene_blocks: 1\n",
      "# n_sr_blocks: 10\n",
      "# n_blocks: 200\n",
      "# n_walkers: 50\n",
      "# seed: 2\n",
      "# walker_type: rhf\n",
      "# trial: rhf\n",
      "# n_prop_steps: 50\n",
      "# orbital_rotation: True\n",
      "# do_sr: True\n",
      "# symmetry: False\n",
      "# save_walkers: False\n",
      "# ene0: 0.0\n",
      "# free_projection: False\n",
      "# n_batch: 1\n",
      "# LNO: False\n",
      "# orbE: 0\n",
      "# maxError: 0.001\n",
      "#\n",
      "# initial energy: -7.631814297e-01\n",
      "# initial energy: -7.528035315e-01\n"
     ]
    }
   ],
   "source": [
    "ham_data1, ham1, prop1, trial1, wave_data1, sampler1, observable1, options1, MPI \\\n",
    "    = mpi_jax._prep_afqmc(options1,mo_file=mo_file1,amp_file=amp_file1,chol_file=chol_file1)\n",
    "ham_data2, ham2, prop2, trial2, wave_data2, sampler2, observable2, options2, MPI \\\n",
    "    = mpi_jax._prep_afqmc(options2,mo_file=mo_file2,amp_file=amp_file2,chol_file=chol_file2)\n",
    "\n",
    "seed1 = 98\n",
    "seed2 = 2\n",
    "prop_data1, ham_data1 = init_prop(ham_data1, ham1, prop1, trial1, wave_data1, seed1, MPI)\n",
    "prop_data2, ham_data2 = init_prop(ham_data2, ham2, prop2, trial2, wave_data2, seed2, MPI)"
   ]
  },
  {
   "cell_type": "code",
   "execution_count": 21,
   "metadata": {},
   "outputs": [
    {
     "name": "stdout",
     "output_type": "stream",
     "text": [
      "# Number of MPI ranks: 1\n",
      "#\n",
      "# norb: 8\n",
      "# nelec: (1, 1)\n",
      "#\n",
      "# dt: 0.005\n",
      "# n_eql: 4\n",
      "# n_ene_blocks: 1\n",
      "# n_sr_blocks: 10\n",
      "# n_blocks: 200\n",
      "# n_walkers: 50\n",
      "# seed: 98\n",
      "# walker_type: rhf\n",
      "# trial: rhf\n",
      "# n_prop_steps: 50\n",
      "# orbital_rotation: True\n",
      "# do_sr: True\n",
      "# symmetry: False\n",
      "# save_walkers: False\n",
      "# ene0: 0.0\n",
      "# free_projection: False\n",
      "# n_batch: 1\n",
      "# LNO: False\n",
      "# orbE: 0\n",
      "# maxError: 0.001\n",
      "#\n",
      "# Number of MPI ranks: 1\n",
      "#\n",
      "# norb: 8\n",
      "# nelec: (1, 1)\n",
      "#\n",
      "# dt: 0.005\n",
      "# n_eql: 4\n",
      "# n_ene_blocks: 1\n",
      "# n_sr_blocks: 10\n",
      "# n_blocks: 200\n",
      "# n_walkers: 50\n",
      "# seed: 2\n",
      "# walker_type: rhf\n",
      "# trial: rhf\n",
      "# n_prop_steps: 50\n",
      "# orbital_rotation: True\n",
      "# do_sr: True\n",
      "# symmetry: False\n",
      "# save_walkers: False\n",
      "# ene0: 0.0\n",
      "# free_projection: False\n",
      "# n_batch: 1\n",
      "# LNO: False\n",
      "# orbE: 0\n",
      "# maxError: 0.001\n",
      "#\n"
     ]
    }
   ],
   "source": [
    "from ad_afqmc import mpi_jax\n",
    "ham_data1, ham1, prop1, trial1, wave_data1, _, _, options1, MPI \\\n",
    "= mpi_jax._prep_afqmc(options1,mo_file=mo_file1,chol_file=chol_file1)\n",
    "ham_data2, ham2, prop2, trial2, wave_data2, _, _, options2, MPI \\\n",
    "= mpi_jax._prep_afqmc(options2,mo_file=mo_file2,chol_file=chol_file2)"
   ]
  },
  {
   "cell_type": "code",
   "execution_count": 6,
   "metadata": {},
   "outputs": [],
   "source": [
    "import jax\n",
    "from jax import numpy as jnp"
   ]
  },
  {
   "cell_type": "code",
   "execution_count": 8,
   "metadata": {},
   "outputs": [
    {
     "name": "stdout",
     "output_type": "stream",
     "text": [
      "[-0.83234035 -0.85803101 -0.83054534 -0.87387377 -0.807604   -0.83821377\n",
      " -0.85713624 -0.84452974 -0.79958895 -0.85167963]\n",
      "[-0.82576028 -0.85319467 -0.82436512 -0.86932527 -0.7998491  -0.833293\n",
      " -0.85625232 -0.83898082 -0.79133331 -0.84643937]\n",
      "[-0.00658007 -0.00483634 -0.00618023 -0.0045485  -0.00775489 -0.00492078\n",
      " -0.00088391 -0.00554892 -0.00825564 -0.00524026]\n"
     ]
    }
   ],
   "source": [
    "key = jax.random.PRNGKey(98)\n",
    "seeds = jax.random.randint(key, (10,), minval=0, maxval=10000)\n",
    "#seeds = jnp.array([98,2])\n",
    "\n",
    "en1,en2,en_diff = corr_sample.scan_seeds_cs(seeds,5,\n",
    "               ham_data1, ham1, prop1, trial1, wave_data1,\n",
    "               ham_data2, ham2, prop2, trial2, wave_data2, \n",
    "               MPI)\n",
    "print(en1)\n",
    "print(en2)\n",
    "print(en_diff)"
   ]
  },
  {
   "cell_type": "code",
   "execution_count": 31,
   "metadata": {},
   "outputs": [],
   "source": [
    "prop_data1, ham_data1 = \\\n",
    "    corr_sample.init_prop(ham_data1, ham1, prop1, trial1, wave_data1, 2, MPI)\n",
    "prop_data2, ham_data2 = \\\n",
    "    corr_sample.init_prop(ham_data2, ham2, prop2, trial2, wave_data2, 98, MPI)"
   ]
  },
  {
   "cell_type": "code",
   "execution_count": 32,
   "metadata": {},
   "outputs": [
    {
     "name": "stdout",
     "output_type": "stream",
     "text": [
      "-0.8163628459835685 -0.8088692894647822 -0.007493556518785676\n"
     ]
    }
   ],
   "source": [
    "(prop_data1,prop_data2) = corr_sample.cs_steps_scan(5,\n",
    "                                prop_data1,ham_data1,prop1,trial1,wave_data1,\n",
    "                                prop_data2,ham_data2,prop2,trial2,wave_data2)\n",
    "en_samples1 = corr_sample.en_samples(prop_data1,ham_data1,prop1,trial1,wave_data1)\n",
    "en_samples2 = corr_sample.en_samples(prop_data2,ham_data2,prop2,trial2,wave_data2)\n",
    "norm_weight1 = prop_data1[\"weights\"]/jnp.sum(prop_data1[\"weights\"])\n",
    "norm_weight2 = prop_data2[\"weights\"]/jnp.sum(prop_data2[\"weights\"])\n",
    "weight_en_sample1 = en_samples1*norm_weight1\n",
    "weight_en_sample2 = en_samples2*norm_weight2\n",
    "weight_en_diff_sample = weight_en_sample1 - weight_en_sample2\n",
    "en1 = sum(weight_en_sample1)\n",
    "en2 = sum(weight_en_sample2)\n",
    "en_diff = sum(weight_en_diff_sample)\n",
    "\n",
    "print(en1,en2,en_diff)"
   ]
  },
  {
   "cell_type": "code",
   "execution_count": 16,
   "metadata": {},
   "outputs": [],
   "source": [
    "seed = options1[\"seed\"]\n",
    "prop_data1_init, ham_data1_init = \\\n",
    "    corr_sample.init_prop(ham_data1, ham1, prop1, trial1, wave_data1, seed, MPI)\n",
    "prop_data2_init, ham_data2_init = \\\n",
    "    corr_sample.init_prop(ham_data2, ham2, prop2, trial2, wave_data2, seed, MPI)\n",
    "\n",
    "comm = MPI.COMM_WORLD\n",
    "rank = comm.Get_rank()\n",
    "\n",
    "\n",
    "def _seed_cs(carry,seed):\n",
    "    prop_data1_init[\"key\"] = jax.random.PRNGKey(seed + rank)\n",
    "    cs_prop_data = corr_sample.cs_steps_scan(6,\n",
    "                                prop_data1_init,ham_data1_init,prop1,trial1,wave_data1,\n",
    "                                prop_data2_init,ham_data2_init,prop2,trial2,wave_data2)\n",
    "    #cs_prop_data = seed_cs_steps_scan(seed)\n",
    "    (prop_data1,prop_data2) = cs_prop_data\n",
    "    loc_en_samples1 = corr_sample.en_samples(prop_data1,ham_data1_init,prop1,trial1,wave_data1)\n",
    "    loc_en_samples2 = corr_sample.en_samples(prop_data2,ham_data2_init,prop2,trial2,wave_data2)\n",
    "    loc_weight_sample1 = prop_data1[\"weights\"]\n",
    "    loc_weight1 = jnp.sum(loc_weight_sample1)\n",
    "    loc_weight_sample2 = prop_data2[\"weights\"]\n",
    "    loc_weight2 = jnp.sum(loc_weight_sample2)\n",
    "    loc_en_sample1 = loc_en_samples1*loc_weight_sample1\n",
    "    loc_en_sample2 = loc_en_samples2*loc_weight_sample2\n",
    "    #weight_en_diff_sample = weight_en_sample1 - weight_en_sample2\n",
    "    loc_en1 = sum(loc_en_sample1) #not normalized\n",
    "    loc_en2 = sum(loc_en_sample2) #not normalized\n",
    "    #en_diff = sum(weight_en_diff_sample)\n",
    "    return carry, (loc_en1,loc_weight1,loc_en2,loc_weight2)\n",
    "\n",
    "_,(loc_en1,loc_weight1,loc_en2,loc_weight2) = _seed_cs(carry=None,seed=98)"
   ]
  },
  {
   "cell_type": "code",
   "execution_count": 17,
   "metadata": {},
   "outputs": [
    {
     "name": "stdout",
     "output_type": "stream",
     "text": [
      "-42.21006987766604 50.19739153324911 -41.91487525026485 50.20894335603793\n",
      "-0.8408817388391081 -0.8348089493348068\n",
      "-0.006072789504301346\n"
     ]
    }
   ],
   "source": [
    "print(loc_en1,loc_weight1,loc_en2,loc_weight2)\n",
    "print(loc_en1/loc_weight1,loc_en2/loc_weight2)\n",
    "print(loc_en1/loc_weight1-loc_en2/loc_weight2)"
   ]
  },
  {
   "cell_type": "code",
   "execution_count": 39,
   "metadata": {},
   "outputs": [],
   "source": [
    "seed = options1[\"seed\"]\n",
    "prop_data1_init, ham_data1_init = \\\n",
    "    corr_sample.init_prop(ham_data1, ham1, prop1, trial1, wave_data1, seed, MPI)\n",
    "prop_data2_init, ham_data2_init = \\\n",
    "    corr_sample.init_prop(ham_data2, ham2, prop2, trial2, wave_data2, seed, MPI)\n",
    "\n",
    "def scan_seeds(seeds,eq_steps,\n",
    "               prop_data1_init,ham_data1_init,prop1,trial1,wave_data1,\n",
    "               prop_data2_init,ham_data2_init,prop2,trial2,wave_data2, \n",
    "               MPI):    \n",
    "\n",
    "    comm = MPI.COMM_WORLD\n",
    "    rank = comm.Get_rank()\n",
    "\n",
    "\n",
    "    def _seed_cs(carry,seed):\n",
    "        prop_data1_init[\"key\"] = jax.random.PRNGKey(seed + rank)\n",
    "        (prop_data1,prop_data2) = corr_sample.cs_steps_scan(eq_steps,\n",
    "                                    prop_data1_init,ham_data1_init,prop1,trial1,wave_data1,\n",
    "                                    prop_data2_init,ham_data2_init,prop2,trial2,wave_data2)\n",
    "        #(prop_data1,prop_data2) = cs_prop_data\n",
    "        loc_en_samples1 = corr_sample.en_samples(prop_data1,ham_data1_init,prop1,trial1,wave_data1)\n",
    "        loc_en_samples2 = corr_sample.en_samples(prop_data2,ham_data2_init,prop2,trial2,wave_data2)\n",
    "        loc_weight_sample1 = prop_data1[\"weights\"]\n",
    "        loc_weight1 = jnp.sum(loc_weight_sample1)\n",
    "        loc_weight_sample2 = prop_data2[\"weights\"]\n",
    "        loc_weight2 = jnp.sum(loc_weight_sample2)\n",
    "        loc_en_sample1 = loc_en_samples1*loc_weight_sample1\n",
    "        loc_en_sample2 = loc_en_samples2*loc_weight_sample2\n",
    "        loc_en1 = sum(loc_en_sample1) #not normalized\n",
    "        loc_en2 = sum(loc_en_sample2) #not normalized\n",
    "        return carry, (loc_en1,loc_weight1,loc_en2,loc_weight2)\n",
    "    \n",
    "    _, (loc_en1,loc_weight1,loc_en2,loc_weight2) = jax.lax.scan(_seed_cs, None, seeds)\n",
    "\n",
    "    return loc_en1,loc_weight1,loc_en2,loc_weight2"
   ]
  },
  {
   "cell_type": "code",
   "execution_count": 43,
   "metadata": {},
   "outputs": [
    {
     "name": "stdout",
     "output_type": "stream",
     "text": [
      "[5694 1719 5711 8695 7050]\n"
     ]
    }
   ],
   "source": [
    "key = jax.random.PRNGKey(98)\n",
    "seeds = jax.random.randint(key, (5,), minval=0, maxval=10000)\n",
    "print(seeds)"
   ]
  },
  {
   "cell_type": "code",
   "execution_count": 40,
   "metadata": {},
   "outputs": [],
   "source": [
    "seeds = jnp.array([98,2])"
   ]
  },
  {
   "cell_type": "code",
   "execution_count": 45,
   "metadata": {},
   "outputs": [
    {
     "name": "stdout",
     "output_type": "stream",
     "text": [
      "[-43.80483109 -41.6811084  -41.1397114  -42.73883566 -42.09151105]\n",
      "[50.33680763 50.07097536 50.1142274  50.16592206 50.1354802 ]\n",
      "[-0.87023459 -0.83244051 -0.8209188  -0.85194957 -0.83955536]\n",
      "[-43.42071589 -41.43067347 -40.79543712 -42.46866136 -41.81089983]\n",
      "[50.33699008 50.07909721 50.1235836  50.17563229 50.14620735]\n",
      "[-0.86260056 -0.82730472 -0.81389706 -0.84640012 -0.8337799 ]\n",
      "[-0.00763403 -0.00513579 -0.00702174 -0.00554945 -0.00577546]\n"
     ]
    }
   ],
   "source": [
    "loc_en1,loc_weight1,loc_en2,loc_weight2 = scan_seeds(seeds,6,\n",
    "               prop_data1_init,ham_data1_init,prop1,trial1,wave_data1,\n",
    "               prop_data2_init,ham_data2_init,prop2,trial2,wave_data2, \n",
    "               MPI)\n",
    "print(loc_en1)\n",
    "print(loc_weight1)\n",
    "print(loc_en1/loc_weight1)\n",
    "print(loc_en2)\n",
    "print(loc_weight2)\n",
    "print(loc_en2/loc_weight2)\n",
    "print(loc_en1/loc_weight1-loc_en2/loc_weight2)"
   ]
  },
  {
   "cell_type": "code",
   "execution_count": null,
   "metadata": {},
   "outputs": [],
   "source": []
  },
  {
   "cell_type": "code",
   "execution_count": 29,
   "metadata": {},
   "outputs": [
    {
     "name": "stdout",
     "output_type": "stream",
     "text": [
      "# Number of MPI ranks: 1\n",
      "#\n",
      "# norb: 8\n",
      "# nelec: (1, 1)\n",
      "#\n",
      "# dt: 0.005\n",
      "# n_eql: 4\n",
      "# n_ene_blocks: 1\n",
      "# n_sr_blocks: 10\n",
      "# n_blocks: 200\n",
      "# n_walkers: 50\n",
      "# seed: 2\n",
      "# walker_type: rhf\n",
      "# trial: rhf\n",
      "# n_prop_steps: 50\n",
      "# orbital_rotation: True\n",
      "# do_sr: True\n",
      "# symmetry: False\n",
      "# save_walkers: False\n",
      "# ene0: 0.0\n",
      "# free_projection: False\n",
      "# n_batch: 1\n",
      "# LNO: False\n",
      "# orbE: 0\n",
      "# maxError: 0.001\n",
      "#\n",
      "# Number of MPI ranks: 1\n",
      "#\n",
      "# norb: 8\n",
      "# nelec: (1, 1)\n",
      "#\n",
      "# dt: 0.005\n",
      "# n_eql: 4\n",
      "# n_ene_blocks: 1\n",
      "# n_sr_blocks: 10\n",
      "# n_blocks: 200\n",
      "# n_walkers: 50\n",
      "# seed: 2\n",
      "# walker_type: rhf\n",
      "# trial: rhf\n",
      "# n_prop_steps: 50\n",
      "# orbital_rotation: True\n",
      "# do_sr: True\n",
      "# symmetry: False\n",
      "# save_walkers: False\n",
      "# ene0: 0.0\n",
      "# free_projection: False\n",
      "# n_batch: 1\n",
      "# LNO: False\n",
      "# orbE: 0\n",
      "# maxError: 0.001\n",
      "#\n",
      "# initial energy: -7.631814297e-01\n",
      "# initial energy: -7.528035315e-01\n",
      "-0.8163628459853526 -0.8088692894703093 -0.0074935565150432756\n"
     ]
    }
   ],
   "source": [
    "ham_data1, ham1, prop1, trial1, wave_data1, sampler1, observable1, options1, MPI \\\n",
    "    = mpi_jax._prep_afqmc(options1,mo_file=mo_file1,amp_file=amp_file1,chol_file=chol_file1)\n",
    "ham_data2, ham2, prop2, trial2, wave_data2, sampler2, observable2, options2, MPI \\\n",
    "    = mpi_jax._prep_afqmc(options2,mo_file=mo_file2,amp_file=amp_file2,chol_file=chol_file2)\n",
    "\n",
    "prop_data1, ham_data1 = init_prop(ham_data1, ham1, prop1, trial1, wave_data1, options1, MPI)\n",
    "prop_data2, ham_data2 = init_prop(ham_data2, ham2, prop2, trial2, wave_data2, options2, MPI)\n",
    "\n",
    "seed = 98\n",
    "cs_prop_data = seed_cs_steps_scan(seed)\n",
    "(prop_data1,prop_data2) = cs_prop_data\n",
    "en_samples1 = en_samples(prop_data1,ham_data1,prop1,trial1,wave_data1)\n",
    "en_samples2 = en_samples(prop_data2,ham_data2,prop2,trial2,wave_data2)\n",
    "norm_weight1 = prop_data1[\"weights\"]/jnp.sum(prop_data1[\"weights\"])\n",
    "norm_weight2 = prop_data2[\"weights\"]/jnp.sum(prop_data2[\"weights\"])\n",
    "weight_en_sample1 = en_samples1*norm_weight1\n",
    "weight_en_sample2 = en_samples2*norm_weight2\n",
    "weight_en_diff_sample = weight_en_sample1 - weight_en_sample2\n",
    "en1 = sum(weight_en_sample1)\n",
    "en2 = sum(weight_en_sample2)\n",
    "en_diff = sum(weight_en_diff_sample)\n",
    "print(en1,en2,en_diff)"
   ]
  },
  {
   "cell_type": "code",
   "execution_count": null,
   "metadata": {},
   "outputs": [
    {
     "name": "stdout",
     "output_type": "stream",
     "text": [
      "[-0.80537366]\n"
     ]
    }
   ],
   "source": [
    "-0.8283176339161061 -0.8213239098281045 -0.006993724088001368\n",
    "-0.8340312686792748 -0.8283572026560176 -0.005674066023256789\n",
    "-0.8163628459853526 -0.8088692894703093 -0.0074935565150432756"
   ]
  },
  {
   "cell_type": "code",
   "execution_count": 92,
   "metadata": {},
   "outputs": [
    {
     "name": "stdout",
     "output_type": "stream",
     "text": [
      "# initial energy: -7.631814297e-01\n",
      "# initial energy: -7.528035315e-01\n"
     ]
    }
   ],
   "source": [
    "seeds = [98,2]\n",
    "seed1 = seeds[0]\n",
    "seed2 = seeds[1]\n",
    "options1[\"seed\"] = seed1\n",
    "options2[\"seed\"] = seed2\n",
    "prop_data1, ham_data1 = init_prop(ham_data1, ham1, prop1, trial1, wave_data1, options1, MPI)\n",
    "prop_data2, ham_data2 = init_prop(ham_data2, ham2, prop2, trial2, wave_data2, options2, MPI)\n"
   ]
  },
  {
   "cell_type": "code",
   "execution_count": null,
   "metadata": {},
   "outputs": [
    {
     "name": "stdout",
     "output_type": "stream",
     "text": [
      "# initial energy: -7.631814297e-01\n",
      "# initial energy: -7.528035315e-01\n"
     ]
    }
   ],
   "source": [
    "eql_steps = 5\n",
    "n_runs = 2\n",
    "cs_prop_data = (prop_data1,prop_data2)\n",
    "#seeds1 = random.randint(random.PRNGKey(options1[\"seed\"]), shape=(n_runs,), minval=0, maxval=1000)\n",
    "#seeds2 = random.randint(random.PRNGKey(options2[\"seed\"]), shape=(n_runs,), minval=0, maxval=1000)\n",
    "#seeds = jnp.vstack((seeds1,seeds2)).T\n",
    "\n",
    "seeds = [98,2]\n",
    "\n",
    "def cs_steps_eql(seeds):\n",
    "    '''return the last element at a desired num of eql steps'''\n",
    "    seed1 = seeds[0]\n",
    "    seed2 = seeds[1]\n",
    "    options1[\"seed\"] = seed1\n",
    "    options2[\"seed\"] = seed2\n",
    "    prop_data1, ham_data1 = init_prop(ham_data1, ham1, prop1, trial1, wave_data1, options1, MPI)\n",
    "    prop_data2, ham_data2 = init_prop(ham_data2, ham2, prop2, trial2, wave_data2, options2, MPI)\n",
    "\n",
    "    cs_prop_data,(en1,en2,en_diff) = cs_steps_scan(\n",
    "        eql_steps,prop_data1,ham_data1,prop1,trial1,wave_data1,prop_data2,ham_data2,prop2,trial2,wave_data2)\n",
    "    return (cs_prop_data[-1],en1[-1],en2[-1],en_diff[-1])\n",
    "\n",
    "(_,en1_eql,en2_eql,en_diff_eql) = cs_steps_eql(seeds,ham_data1,ham_data2)\n",
    "#_,(_,en1_eql,en2_eql,en_diff_eql) = jax.lax.scan(cs_steps_eql,None,seeds)\n",
    "    "
   ]
  },
  {
   "cell_type": "code",
   "execution_count": 56,
   "metadata": {},
   "outputs": [
    {
     "name": "stdout",
     "output_type": "stream",
     "text": [
      "# initial energy: -7.631814297e-01\n",
      "# initial energy: -7.528035315e-01\n",
      "-0.7848700143929487 -0.7759082360398322 -0.00896177835311655\n",
      "-0.7878659285468961 -0.7788659620336704 -0.008999966513225809\n",
      "-0.7944827426895783 -0.7859768872451353 -0.00850585544444274\n",
      "-0.8026996851670092 -0.7944231863820357 -0.008276498784973628\n",
      "-0.8283176339160282 -0.8213239096956979 -0.006993724220330575\n",
      "-0.8408817388534466 -0.8348089490826257 -0.006072789770820826\n",
      "-0.8106204404556777 -0.8022888015957763 -0.008331638859901468\n",
      "-0.819447310357937 -0.8108169370271985 -0.00863037333073859\n",
      "-0.8208962166652859 -0.8145469745719047 -0.006349242093381214\n",
      "-0.8139541589550989 -0.8053736589611113 -0.008580499993987536\n"
     ]
    }
   ],
   "source": [
    "prop_data1, ham_data1 = init_prop(ham_data1, ham1, prop1, trial1, wave_data1, options1, MPI)\n",
    "prop_data2, ham_data2 = init_prop(ham_data2, ham2, prop2, trial2, wave_data2, options2, MPI)\n",
    "\n",
    "steps = np.arange(0, 10, 1)\n",
    "cwalker_en_diff = [0]*len(steps)\n",
    "weight_cwalker_en_diff_err = [0]*len(steps)\n",
    "for n in steps:\n",
    "    prop_data1,prop_data2,fields = cs_block_scan(prop_data1,ham_data1,prop1,trial1,wave_data1,prop_data2,ham_data2,prop2,trial2,wave_data2)\n",
    "    en_samples1 = en_samples(prop_data1,ham_data1,prop1,trial1,wave_data1)\n",
    "    en_samples2 = en_samples(prop_data2,ham_data2,prop2,trial2,wave_data2)\n",
    "    norm_weight1 = prop_data1[\"weights\"]/jnp.sum(prop_data1[\"weights\"])\n",
    "    norm_weight2 = prop_data2[\"weights\"]/jnp.sum(prop_data2[\"weights\"])\n",
    "    weight_en_sample1 = en_samples1*norm_weight1\n",
    "    weight_en_sample2 = en_samples2*norm_weight2\n",
    "    weight_en_diff_sample = weight_en_sample1 - weight_en_sample2\n",
    "    #weight_en_diff_err = weight_en_diff_sample.std()\n",
    "    en1 = sum(weight_en_sample1)\n",
    "    en2 = sum(weight_en_sample2)\n",
    "    en_diff = sum(weight_en_diff_sample)\n",
    "    print(en1,en2,en_diff)\n",
    "\n",
    "# from matplotlib.ticker import MaxNLocator\n",
    "# plt.plot(steps+1,weight_cwalker_en_diff_err)\n",
    "# plt.xlabel('steps')\n",
    "# plt.ylabel('en_diff_err')\n",
    "# plt.title('correlated walkers')\n",
    "# plt.gca().xaxis.set_major_locator(MaxNLocator(integer=True))\n",
    "# plt.show()"
   ]
  },
  {
   "cell_type": "code",
   "execution_count": 13,
   "metadata": {},
   "outputs": [
    {
     "name": "stdout",
     "output_type": "stream",
     "text": [
      "# Number of MPI ranks: 1\n",
      "#\n",
      "# norb: 8\n",
      "# nelec: (1, 1)\n",
      "#\n",
      "# dt: 0.005\n",
      "# n_eql: 4\n",
      "# n_ene_blocks: 1\n",
      "# n_sr_blocks: 10\n",
      "# n_blocks: 200\n",
      "# n_walkers: 50\n",
      "# seed: 98\n",
      "# walker_type: rhf\n",
      "# trial: rhf\n",
      "# n_prop_steps: 50\n",
      "# orbital_rotation: True\n",
      "# do_sr: True\n",
      "# symmetry: False\n",
      "# save_walkers: False\n",
      "# ene0: 0.0\n",
      "# free_projection: False\n",
      "# n_batch: 1\n",
      "# LNO: False\n",
      "# orbE: 0\n",
      "# maxError: 0.001\n",
      "#\n",
      "# Number of MPI ranks: 1\n",
      "#\n",
      "# norb: 8\n",
      "# nelec: (1, 1)\n",
      "#\n",
      "# dt: 0.005\n",
      "# n_eql: 4\n",
      "# n_ene_blocks: 1\n",
      "# n_sr_blocks: 10\n",
      "# n_blocks: 200\n",
      "# n_walkers: 50\n",
      "# seed: 2\n",
      "# walker_type: rhf\n",
      "# trial: rhf\n",
      "# n_prop_steps: 50\n",
      "# orbital_rotation: True\n",
      "# do_sr: True\n",
      "# symmetry: False\n",
      "# save_walkers: False\n",
      "# ene0: 0.0\n",
      "# free_projection: False\n",
      "# n_batch: 1\n",
      "# LNO: False\n",
      "# orbE: 0\n",
      "# maxError: 0.001\n",
      "#\n",
      "# initial energy: -7.631814297e-01\n",
      "# initial energy: -7.528035315e-01\n",
      "-0.007253365933399921 0.0008293294640121076\n",
      "0.0021400277753019815 0.0016398468052424436\n",
      "0.00933083762600158 0.0017774130017533384\n",
      "-0.007038529280705856 0.003189647864867721\n",
      "-0.010425206401806235 0.003586219561142377\n",
      "0.01411647327245064 0.0024203708978509067\n",
      "0.05458379234130777 0.009431614966092846\n",
      "0.033247716543414005 0.00836239823004936\n",
      "0.015475821490616638 0.003370272290891984\n",
      "-0.0017005724337943902 0.022518636449168003\n",
      "-0.012552263623855874 0.022993269472368714\n",
      "-0.03803472317057452 0.0031343266361860246\n",
      "0.008336459616674924 0.027021323981043323\n",
      "-0.008669919156844424 0.026843816148956683\n",
      "0.030810368966050723 0.0028997734215173735\n",
      "0.004703146162318997 0.027428846853398667\n",
      "0.01967470307056014 0.027074842428123125\n",
      "-0.0005948462454082332 0.0032737073268731594\n",
      "7.223634540206095e-05 0.031188876593154394\n",
      "-0.013744433142559895 0.030686288379453613\n",
      "-0.01805585629123608 0.003305526846067038\n",
      "0.07454303946496854 0.027366921657942328\n",
      "0.07191807036174003 0.02737839292434241\n",
      "0.11902000154266729 0.008793692816673878\n",
      "0.10779331158463538 0.027738879560075893\n",
      "0.031245918537308428 0.02575646546632424\n",
      "0.058209457661487496 0.0024092983845584305\n",
      "-0.046790615975851824 0.019709789961443694\n",
      "-0.016725229335338695 0.019519168243419805\n",
      "-0.003588282419218535 0.0031129455165737367\n",
      "-0.015475199035339171 0.022430307829769073\n",
      "-0.04383054523603193 0.02314205527295282\n",
      "-0.024595017483406277 0.0036782065183097908\n",
      "-0.03114140224434774 0.02524771965713422\n",
      "0.06120802807045847 0.025804272817874202\n",
      "0.14459545022155623 0.010447709837244164\n",
      "-0.0161198850129005 0.02949351715491751\n",
      "-0.029494593802131826 0.029964230203779127\n",
      "0.020230819130117168 0.002905652292665146\n",
      "0.01968851166391764 0.0217339107495328\n",
      "-0.00027804316965274883 0.02075467820905572\n",
      "0.005256869881169477 0.0017064101021317633\n",
      "0.0028288269105703305 0.018736489805708974\n",
      "-7.045431611871905e-05 0.018992115041410285\n",
      "0.009598328110314915 0.002821570301478257\n",
      "0.016622142991326826 0.02508525216248345\n",
      "0.01220408313758313 0.026051787680767047\n",
      "0.05736840303452976 0.00369816780552432\n",
      "0.011668093029639517 0.021303952613188938\n",
      "0.009906779271234876 0.021974409145354295\n"
     ]
    },
    {
     "data": {
      "image/png": "[encoded data removed]",
      "text/plain": [
       "<Figure size 640x480 with 1 Axes>"
      ]
     },
     "metadata": {},
     "output_type": "display_data"
    }
   ],
   "source": [
    "ham_data1, ham1, prop1, trial1, wave_data1, sampler1, observable1, options1, MPI \\\n",
    "    = mpi_jax._prep_afqmc(options1,mo_file=mo_file1,amp_file=amp_file1,chol_file=chol_file1)\n",
    "ham_data2, ham2, prop2, trial2, wave_data2, sampler2, observable2, options2, MPI \\\n",
    "    = mpi_jax._prep_afqmc(options2,mo_file=mo_file2,amp_file=amp_file2,chol_file=chol_file2)\n",
    "\n",
    "prop_data1, ham_data1 = init_prop(ham_data1, ham1, prop1, trial1, wave_data1, options1, MPI)\n",
    "prop_data2, ham_data2 = init_prop(ham_data2, ham2, prop2, trial2, wave_data2, options2, MPI)\n",
    "\n",
    "steps = np.arange(0, 50, 1)\n",
    "walker_en_diff = [0]*len(steps)\n",
    "weight_walker_en_diff_err = [0]*len(steps)\n",
    "sr_steps = 3\n",
    "for n in steps:\n",
    "    prop_data1,prop_data2,_,_ = ucs_block_scan(prop_data1,ham_data1,prop1,trial1,wave_data1,prop_data2,ham_data2,prop2,trial2,wave_data2)\n",
    "    if n % sr_steps == 2:\n",
    "        prop_data1 = prop1.stochastic_reconfiguration_local(prop_data1)\n",
    "        prop_data2 = prop2.stochastic_reconfiguration_local(prop_data2)\n",
    "\n",
    "    energy_samples1 = en_samples(prop_data1,ham_data1,prop1,trial1,wave_data1)\n",
    "    energy_samples2 = en_samples(prop_data2,ham_data2,prop2,trial2,wave_data2)\n",
    "    norm_weight1 = prop_data1[\"weights\"]/jnp.sum(prop_data1[\"weights\"])\n",
    "    norm_weight2 = prop_data2[\"weights\"]/jnp.sum(prop_data2[\"weights\"])\n",
    "    weight_walker_en1 = energy_samples1*norm_weight1\n",
    "    weight_walker_en2 = energy_samples2*norm_weight2\n",
    "    weight_walker_en_diff = weight_walker_en1 - weight_walker_en2\n",
    "    weight_walker_en_diff_err[n] = weight_walker_en_diff.std()\n",
    "    walker_en_diff[n] = sum(weight_walker_en_diff)\n",
    "    print(walker_en_diff[n],weight_walker_en_diff_err[n])\n",
    "\n",
    "from matplotlib.ticker import MaxNLocator\n",
    "plt.plot(steps+1,weight_walker_en_diff_err)\n",
    "plt.xlabel('steps')\n",
    "plt.ylabel('en_diff_err')\n",
    "plt.title('sr uncorrelated walkers')\n",
    "plt.gca().xaxis.set_major_locator(MaxNLocator(integer=True))\n",
    "plt.show()"
   ]
  },
  {
   "cell_type": "code",
   "execution_count": 12,
   "metadata": {},
   "outputs": [
    {
     "data": {
      "image/png": "[encoded data removed]",
      "text/plain": [
       "<Figure size 640x480 with 1 Axes>"
      ]
     },
     "metadata": {},
     "output_type": "display_data"
    }
   ],
   "source": [
    "from matplotlib.ticker import MaxNLocator\n",
    "plt.plot(steps+1,weight_walker_en_diff_err)\n",
    "plt.xlabel('steps')\n",
    "plt.ylabel('en_diff_err')\n",
    "plt.title('uncorrelated walkers')\n",
    "plt.gca().xaxis.set_major_locator(MaxNLocator(integer=True))\n",
    "plt.show()"
   ]
  },
  {
   "cell_type": "code",
   "execution_count": 15,
   "metadata": {},
   "outputs": [
    {
     "data": {
      "image/png": "[encoded data removed]",
      "text/plain": [
       "<Figure size 640x480 with 1 Axes>"
      ]
     },
     "metadata": {},
     "output_type": "display_data"
    }
   ],
   "source": [
    "x_steps = np.linspace(1,10,100)\n",
    "afqmc_en = np.array([afqmc_en_diff]*len(x_steps))\n",
    "afqmc_lw = afqmc_en-afqmc_en_diff_err\n",
    "afqmc_up = afqmc_en+afqmc_en_diff_err\n",
    "plt.plot(x_steps,afqmc_en)\n",
    "plt.fill_between(x_steps, afqmc_lw, afqmc_up, color='blue', alpha=0.3, label='afqmc energy')\n",
    "plt.errorbar(steps+1,cwalker_en_diff,yerr=weight_cwalker_en_diff_err, fmt='o', capsize=5,label='correlated')\n",
    "plt.errorbar(steps+1,walker_en_diff,yerr=weight_walker_en_diff_err, fmt='o', capsize=5,label='uncorrelated')\n",
    "plt.xlabel('steps')\n",
    "plt.ylabel('energy difference')\n",
    "plt.title('correlated vs. uncorrelated walkers energy differences')\n",
    "plt.legend()\n",
    "plt.show()"
   ]
  }
 ],
 "metadata": {
  "kernelspec": {
   "display_name": "lno_afqmc",
   "language": "python",
   "name": "python3"
  },
  "language_info": {
   "codemirror_mode": {
    "name": "ipython",
    "version": 3
   },
   "file_extension": ".py",
   "mimetype": "text/x-python",
   "name": "python",
   "nbconvert_exporter": "python",
   "pygments_lexer": "ipython3",
   "version": "3.11.10"
  }
 },
 "nbformat": 4,
 "nbformat_minor": 2
}
