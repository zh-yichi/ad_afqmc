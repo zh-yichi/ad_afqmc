{
 "cells": [
  {
   "cell_type": "code",
   "execution_count": 1,
   "metadata": {},
   "outputs": [],
   "source": [
    "from pyscf import gto, scf\n",
    "#import os\n",
    "import numpy as np\n",
    "from matplotlib import pyplot as plt"
   ]
  },
  {
   "cell_type": "code",
   "execution_count": 2,
   "metadata": {},
   "outputs": [],
   "source": [
    "from ad_afqmc.corr_sample_test import corr_sample"
   ]
  },
  {
   "cell_type": "code",
   "execution_count": 7,
   "metadata": {},
   "outputs": [
    {
     "name": "stdout",
     "output_type": "stream",
     "text": [
      "converged SCF energy = -0.605256028286058\n",
      "converged SCF energy = -0.866530016654908\n",
      "converged SCF energy = -1.00550000519013\n",
      "converged SCF energy = -1.07866156956654\n",
      "converged SCF energy = -1.11372996558187\n",
      "converged SCF energy = -1.1257145402229\n",
      "converged SCF energy = -1.12330352281478\n",
      "converged SCF energy = -1.11177961108058\n",
      "converged SCF energy = -1.09448158383483\n",
      "converged SCF energy = -1.07358293078636\n",
      "converged SCF energy = -0.980430209099687\n",
      "converged SCF energy = -0.860166304975807\n",
      "converged SCF energy = -0.769252972067883\n",
      "converged SCF energy = -0.708115946146715\n",
      "converged SCF energy = -0.669579483374588\n",
      "converged SCF energy = -0.645749846234833\n",
      "converged SCF energy = -0.630663359132369\n",
      "converged SCF energy = -0.620595696256197\n",
      "converged SCF energy = -0.613432572595285\n",
      "converged SCF energy = -0.608011090138909\n"
     ]
    },
    {
     "data": {
      "image/png": "[encoded data removed]",
      "text/plain": [
       "<Figure size 640x480 with 1 Axes>"
      ]
     },
     "metadata": {},
     "output_type": "display_data"
    }
   ],
   "source": [
    "d_list = np.hstack((np.linspace(0.3,1,10),np.linspace(1.3,5,10)))\n",
    "en = np.zeros(len(d_list))\n",
    "for i,d in enumerate(d_list):\n",
    "    atom = f'''\n",
    "    H 0 0 0\n",
    "    H {d} 0 0\n",
    "    '''\n",
    "\n",
    "    mol = gto.Mole(\n",
    "    verbose=3,\n",
    "    atom=atom,\n",
    "    basis='sto-6g',\n",
    "    )\n",
    "\n",
    "    mol.build()\n",
    "    mf = scf.RHF(mol)\n",
    "    en[i] = mf.kernel()\n",
    "    \n",
    "\n",
    "#moi,_,stable,_ = mf.stability(return_status=True)\n",
    "#if not stable: mf = mf.newton().run(moi, mf.mo_occ)\n",
    "#else: print('HF RESULT IS STABLE')\n",
    "    \n",
    "plt.plot(d_list,en,'.')\n",
    "plt.show()\n"
   ]
  },
  {
   "cell_type": "code",
   "execution_count": 2,
   "metadata": {},
   "outputs": [
    {
     "name": "stdout",
     "output_type": "stream",
     "text": [
      "converged SCF energy = -1.07358293078636\n",
      "converged SCF energy = -0.581037709228991\n"
     ]
    },
    {
     "data": {
      "text/plain": [
       "-0.5810377092289907"
      ]
     },
     "execution_count": 2,
     "metadata": {},
     "output_type": "execute_result"
    }
   ],
   "source": [
    "d1 = 1\n",
    "atom1 = f'''\n",
    "H 0 0 0\n",
    "H {d1} 0 0\n",
    "'''\n",
    "\n",
    "mol1 = gto.Mole(\n",
    "verbose=3,\n",
    "atom=atom1,\n",
    "basis='sto-6g',\n",
    ")\n",
    "\n",
    "mol1.build()\n",
    "mf1 = scf.RHF(mol1)\n",
    "mf1.kernel()\n",
    "\n",
    "d2 = 10\n",
    "atom2 = f'''\n",
    "H 0 0 0\n",
    "H {d2} 0 0\n",
    "'''\n",
    "\n",
    "mol2 = gto.Mole(\n",
    "verbose=3,\n",
    "atom=atom2,\n",
    "basis='sto-6g',\n",
    ")\n",
    "\n",
    "mol2.build()\n",
    "mf2 = scf.RHF(mol2)\n",
    "mf2.kernel()"
   ]
  },
  {
   "cell_type": "code",
   "execution_count": 21,
   "metadata": {},
   "outputs": [
    {
     "data": {
      "text/plain": [
       "<module 'ad_afqmc.pyscf_interface' from '/home/yichi/research/ad_afqmc/ad_afqmc/pyscf_interface.py'>"
      ]
     },
     "execution_count": 21,
     "metadata": {},
     "output_type": "execute_result"
    }
   ],
   "source": [
    "import importlib\n",
    "import ad_afqmc\n",
    "from ad_afqmc import pyscf_interface, driver, mpi_jax,  run_afqmc\n",
    "importlib.reload(ad_afqmc)\n",
    "importlib.reload(pyscf_interface)\n"
   ]
  }
 ],
 "metadata": {
  "kernelspec": {
   "display_name": "lno_afqmc",
   "language": "python",
   "name": "python3"
  },
  "language_info": {
   "codemirror_mode": {
    "name": "ipython",
    "version": 3
   },
   "file_extension": ".py",
   "mimetype": "text/x-python",
   "name": "python",
   "nbconvert_exporter": "python",
   "pygments_lexer": "ipython3",
   "version": "3.11.10"
  }
 },
 "nbformat": 4,
 "nbformat_minor": 2
}
