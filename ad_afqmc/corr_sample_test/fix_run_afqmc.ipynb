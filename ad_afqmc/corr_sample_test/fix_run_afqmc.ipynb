{
 "cells": [
  {
   "cell_type": "code",
   "execution_count": null,
   "metadata": {},
   "outputs": [],
   "source": [
    "import os\n",
    "import pickle\n",
    "from functools import partial\n",
    "\n",
    "import numpy as np\n",
    "\n",
    "from ad_afqmc import config\n",
    "from ad_afqmc import pyscf_interface\n",
    "\n",
    "\n",
    "import numpy as np\n",
    "#import scipy\n",
    "from pyscf import __config__, ao2mo, mcscf, scf"
   ]
  },
  {
   "cell_type": "code",
   "execution_count": null,
   "metadata": {},
   "outputs": [],
   "source": [
    "def run_afqmc(options=None, script=None, mpi_prefix=None, nproc=None):\n",
    "    if options is None:\n",
    "        options = {}\n",
    "    with open(\"options.bin\", \"wb\") as f:\n",
    "        pickle.dump(options, f)\n",
    "    if script is None:\n",
    "        path = os.path.abspath(__file__)\n",
    "        dir_path = os.path.dirname(path)\n",
    "        script = f\"{dir_path}/mpi_jax.py\"\n",
    "    use_gpu = config.afqmc_config[\"use_gpu\"]\n",
    "    gpu_flag = \"--use_gpu\" if use_gpu else \"\"\n",
    "    if mpi_prefix is None:\n",
    "        if use_gpu:\n",
    "            mpi_prefix = \"\"\n",
    "        else:\n",
    "            mpi_prefix = \"mpirun \"\n",
    "    if nproc is not None:\n",
    "        mpi_prefix += f\"-np {nproc} \"\n",
    "    os.system(\n",
    "        f\"export OMP_NUM_THREADS=1; export MKL_NUM_THREADS=1; {mpi_prefix} python {script} {gpu_flag}\"\n",
    "    )\n",
    "    try:\n",
    "        ene_err = np.loadtxt(\"ene_err.txt\")\n",
    "    except:\n",
    "        print(\"AFQMC did not execute correctly.\")\n",
    "        ene_err = 0.0, 0.0\n",
    "    return ene_err[0], ene_err[1]"
   ]
  }
 ],
 "metadata": {
  "kernelspec": {
   "display_name": "lno_afqmc",
   "language": "python",
   "name": "python3"
  },
  "language_info": {
   "name": "python",
   "version": "3.11.10"
  }
 },
 "nbformat": 4,
 "nbformat_minor": 2
}
