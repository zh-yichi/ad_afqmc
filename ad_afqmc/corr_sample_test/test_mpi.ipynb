{
 "cells": [
  {
   "cell_type": "code",
   "execution_count": 1,
   "metadata": {},
   "outputs": [],
   "source": [
    "from pyscf import gto, scf\n",
    "#import os\n",
    "import numpy as np\n",
    "from matplotlib import pyplot as plt"
   ]
  },
  {
   "cell_type": "code",
   "execution_count": 4,
   "metadata": {},
   "outputs": [],
   "source": [
    "from functools import partial\n",
    "from typing import List, Optional, Union\n",
    "\n",
    "import jax\n",
    "import jax.numpy as jnp\n",
    "import numpy as np\n",
    "from jax import random\n",
    "\n",
    "from typing import Any, Tuple\n",
    "\n",
    "import jax\n",
    "import jax.numpy as jnp\n",
    "from jax import checkpoint, jit, lax, random\n",
    "\n",
    "from ad_afqmc import linalg_utils, sampling\n",
    "from ad_afqmc.hamiltonian import hamiltonian\n",
    "from ad_afqmc.propagation import propagator\n",
    "from ad_afqmc.wavefunctions import wave_function\n",
    "\n",
    "sampler_eq = sampling.sampler(n_prop_steps=50, n_ene_blocks=5, n_sr_blocks=10)\n",
    "\n",
    "def init_prop(ham_data, ham, prop, trial, wave_data, options, MPI):\n",
    "    comm = MPI.COMM_WORLD\n",
    "    #size = comm.Get_size()\n",
    "    rank = comm.Get_rank()\n",
    "    seed = options[\"seed\"]\n",
    "    #neql = options[\"n_eql\"]\n",
    "    init_walkers: Optional[Union[List, jax.Array]] = None\n",
    "    trial_rdm1 = trial.get_rdm1(wave_data)\n",
    "    if \"rdm1\" not in wave_data:\n",
    "        wave_data[\"rdm1\"] = trial_rdm1\n",
    "    ham_data = ham.build_measurement_intermediates(ham_data, trial, wave_data)\n",
    "    ham_data = ham.build_propagation_intermediates(ham_data, prop, trial, wave_data)\n",
    "    prop_data = prop.init_prop_data(trial, wave_data, ham_data, init_walkers)\n",
    "    prop_data[\"key\"] = random.PRNGKey(seed + rank)\n",
    "    prop_data[\"n_killed_walkers\"] = 0\n",
    "    print(f\"# initial energy: {prop_data['e_estimate']:.9e}\")\n",
    "    \n",
    "    return prop_data, ham_data\n",
    "\n",
    "def en_samples(prop_data,ham_data,prop,trial,wave_data):\n",
    "    '''return the energies of all walkers in a sample'''\n",
    "    energy_samples = jnp.real(\n",
    "        trial.calc_energy(prop_data[\"walkers\"], ham_data, wave_data)\n",
    "    )\n",
    "    energy_samples = jnp.where(\n",
    "        jnp.abs(energy_samples - prop_data[\"e_estimate\"]) > jnp.sqrt(2.0 / prop.dt),\n",
    "        prop_data[\"e_estimate\"],\n",
    "        energy_samples,\n",
    "    )\n",
    "    return energy_samples\n",
    "\n",
    "def block_en_weight(prop_data,ham_data,prop,trial,wave_data):\n",
    "    '''return the energy and weight of an entire sample'''\n",
    "    energy_samples = en_samples(prop_data,ham_data,prop,wave_data,trial)\n",
    "\n",
    "    block_weight = jnp.sum(prop_data[\"weights\"])\n",
    "    block_energy = jnp.sum(energy_samples * prop_data[\"weights\"]) / block_weight\n",
    "    return block_energy, block_weight\n",
    "\n",
    "def field_block_scan(\n",
    "        prop_data: dict,\n",
    "        fields,\n",
    "        ham_data: dict,\n",
    "        prop: propagator,\n",
    "        trial: wave_function,\n",
    "        wave_data: dict,\n",
    "        ) -> Tuple[dict, Tuple[jax.Array, jax.Array]]:\n",
    "    \"\"\"Block scan function for a given field\"\"\"\n",
    "    _step_scan_wrapper = lambda x, y: sampler_eq._step_scan(\n",
    "        x, y, ham_data, prop, trial, wave_data\n",
    "    )\n",
    "    prop_data, _ = lax.scan(_step_scan_wrapper, prop_data, fields)\n",
    "    prop_data[\"n_killed_walkers\"] += prop_data[\"weights\"].size - jnp.count_nonzero(\n",
    "        prop_data[\"weights\"]\n",
    "    )\n",
    "    prop_data = prop.orthonormalize_walkers(prop_data)\n",
    "    prop_data[\"overlaps\"] = trial.calc_overlap(prop_data[\"walkers\"], wave_data)\n",
    "\n",
    "    block_energy,_ = block_en_weight(prop_data,ham_data,prop,wave_data,trial)\n",
    "    prop_data[\"pop_control_ene_shift\"] = (\n",
    "        0.9 * prop_data[\"pop_control_ene_shift\"] + 0.1 * block_energy\n",
    "    )\n",
    "    return prop_data\n",
    "\n",
    "def cs_block_scan(\n",
    "        prop_data1: dict,\n",
    "        ham_data1: dict,\n",
    "        prop1: propagator,\n",
    "        trial1: wave_function,\n",
    "        wave_data1: dict,\n",
    "        prop_data2: dict,\n",
    "        ham_data2: dict,\n",
    "        prop2: propagator,\n",
    "        trial2: wave_function,\n",
    "        wave_data2: dict):\n",
    "    '''correlated sampling of two systems over the same field'''\n",
    "    prop_data1[\"key\"], subkey1 = random.split(prop_data1[\"key\"])\n",
    "    fields = random.normal(\n",
    "        subkey1,\n",
    "        shape=(\n",
    "            sampler_eq.n_prop_steps,\n",
    "            prop1.n_walkers,\n",
    "            ham_data1[\"chol\"].shape[0],\n",
    "        )\n",
    "    )\n",
    "    prop_data1 = field_block_scan(prop_data1,fields,ham_data1,prop1,trial1,wave_data1)\n",
    "    prop_data2 = field_block_scan(prop_data2,fields,ham_data2,prop2,trial2,wave_data2)\n",
    "\n",
    "    return prop_data1, prop_data2, fields\n",
    "\n",
    "def ucs_block_scan(\n",
    "        prop_data1: dict,\n",
    "        ham_data1: dict,\n",
    "        prop1: propagator,\n",
    "        trial1: wave_function,\n",
    "        wave_data1: dict,\n",
    "        prop_data2: dict,\n",
    "        ham_data2: dict,\n",
    "        prop2: propagator,\n",
    "        trial2: wave_function,\n",
    "        wave_data2: dict):\n",
    "    '''correlated sampling of two blocks over the same field'''\n",
    "    prop_data1[\"key\"], subkey1 = random.split(prop_data1[\"key\"])\n",
    "    fields1 = random.normal(\n",
    "        subkey1,\n",
    "        shape=(\n",
    "            sampler_eq.n_prop_steps,\n",
    "            prop1.n_walkers,\n",
    "            ham_data1[\"chol\"].shape[0],\n",
    "        )\n",
    "    )\n",
    "    prop_data1 = field_block_scan(prop_data1,fields1,ham_data1,prop1,trial1,wave_data1)\n",
    "\n",
    "    prop_data2[\"key\"], subkey2 = random.split(prop_data2[\"key\"])\n",
    "    fields2 = random.normal(\n",
    "        subkey2,\n",
    "        shape=(\n",
    "            sampler_eq.n_prop_steps,\n",
    "            prop2.n_walkers,\n",
    "            ham_data2[\"chol\"].shape[0],\n",
    "        )\n",
    "    )\n",
    "    prop_data2 = field_block_scan(prop_data2,fields2,ham_data2,prop2,trial2,wave_data2)\n",
    "\n",
    "    return prop_data1, prop_data2, fields1, fields2"
   ]
  },
  {
   "cell_type": "code",
   "execution_count": 5,
   "metadata": {},
   "outputs": [
    {
     "name": "stdout",
     "output_type": "stream",
     "text": [
      "\n",
      "WARN: Even tempered Gaussians are generated as DF auxbasis for  H\n",
      "\n",
      "converged SCF energy = -0.624498144373364\n",
      "\n",
      "WARN: Even tempered Gaussians are generated as DF auxbasis for  H\n",
      "\n",
      "converged SCF energy = -0.608011113059654\n",
      "the rhf energy difference is:  -0.016487031313709766\n"
     ]
    }
   ],
   "source": [
    "from pyscf import gto, scf\n",
    "basis = 'sto6g'\n",
    "\n",
    "d1 = 4\n",
    "atom1 = f'''\n",
    "H 0 0 0\n",
    "H {d1} 0 0\n",
    "'''\n",
    "\n",
    "mol1 = gto.Mole(\n",
    "verbose=3,\n",
    "atom=atom1,\n",
    "basis=basis,\n",
    ")\n",
    "\n",
    "mol1.build()\n",
    "mf1 = scf.RHF(mol1).density_fit()\n",
    "mf1.kernel()\n",
    "\n",
    "d2 = 5\n",
    "atom2 = f'''\n",
    "H 0 0 0\n",
    "H {d2} 0 0\n",
    "'''\n",
    "\n",
    "mol2 = gto.Mole(\n",
    "verbose=3,\n",
    "atom=atom2,\n",
    "basis=basis,\n",
    ")\n",
    "\n",
    "mol2.build()\n",
    "mf2 = scf.RHF(mol2).density_fit()\n",
    "mf2.kernel()\n",
    "\n",
    "print('the rhf energy difference is: ',mf1.e_tot-mf2.e_tot)"
   ]
  },
  {
   "cell_type": "code",
   "execution_count": 6,
   "metadata": {},
   "outputs": [
    {
     "name": "stdout",
     "output_type": "stream",
     "text": [
      "# Hostname: YICHI\n",
      "# System Type: Linux\n",
      "# Machine Type: x86_64\n",
      "# Processor: x86_64\n",
      "#\n",
      "# Preparing AFQMC calculation\n",
      "# Calculating Cholesky integrals\n",
      "# Decomposing ERI with DF\n",
      "# Finished calculating Cholesky integrals\n",
      "#\n",
      "# Size of the correlation space:\n",
      "# Number of electrons: (1, 1)\n",
      "# Number of basis functions: 2\n",
      "# Number of Cholesky vectors: 18\n",
      "#\n",
      "#\n",
      "# Preparing AFQMC calculation\n",
      "# Calculating Cholesky integrals\n",
      "# Decomposing ERI with DF\n",
      "# Finished calculating Cholesky integrals\n",
      "#\n",
      "# Size of the correlation space:\n",
      "# Number of electrons: (1, 1)\n",
      "# Number of basis functions: 2\n",
      "# Number of Cholesky vectors: 18\n",
      "#\n"
     ]
    }
   ],
   "source": [
    "from ad_afqmc import pyscf_interface, driver, mpi_jax\n",
    "\n",
    "mo_file1=\"mo1.npz\"\n",
    "amp_file1=\"amp1.npz\"\n",
    "chol_file1=\"chol1\"\n",
    "pyscf_interface.prep_afqmc(mf1,mo_file=mo_file1,amp_file=amp_file1,chol_file=chol_file1)\n",
    "mo_file2=\"mo2.npz\"\n",
    "amp_file2=\"amp2.npz\"\n",
    "chol_file2=\"chol2\"\n",
    "pyscf_interface.prep_afqmc(mf2,mo_file=mo_file2,amp_file=amp_file2,chol_file=chol_file2)"
   ]
  },
  {
   "cell_type": "code",
   "execution_count": 7,
   "metadata": {},
   "outputs": [],
   "source": [
    "options1 = {\n",
    "    \"dt\": 0.005,\n",
    "    \"n_eql\": 4,\n",
    "    \"n_ene_blocks\": 1,\n",
    "    \"n_sr_blocks\": 10,\n",
    "    \"n_blocks\": 200,\n",
    "    \"n_walkers\": 50,\n",
    "    \"seed\": 98,\n",
    "    \"walker_type\": \"rhf\",\n",
    "    \"trial\": \"rhf\",\n",
    "}\n",
    "\n",
    "options2 = {\n",
    "    \"dt\": 0.005,\n",
    "    \"n_eql\": 4,\n",
    "    \"n_ene_blocks\": 1,\n",
    "    \"n_sr_blocks\": 10,\n",
    "    \"n_blocks\": 200,\n",
    "    \"n_walkers\": 50,\n",
    "    \"seed\": 2,\n",
    "    \"walker_type\": \"rhf\",\n",
    "    \"trial\": \"rhf\",\n",
    "}"
   ]
  },
  {
   "cell_type": "code",
   "execution_count": null,
   "metadata": {},
   "outputs": [
    {
     "name": "stdout",
     "output_type": "stream",
     "text": [
      "# rank = 0 size = 1\n",
      "# Number of MPI ranks: 1\n",
      "#\n",
      "# norb: 2\n",
      "# nelec: (1, 1)\n",
      "#\n",
      "# dt: 0.005\n",
      "# n_eql: 4\n",
      "# n_ene_blocks: 1\n",
      "# n_sr_blocks: 10\n",
      "# n_blocks: 200\n",
      "# n_walkers: 50\n",
      "# seed: 98\n",
      "# walker_type: rhf\n",
      "# trial: rhf\n",
      "# n_prop_steps: 50\n",
      "# orbital_rotation: True\n",
      "# do_sr: True\n",
      "# symmetry: False\n",
      "# save_walkers: False\n",
      "# ene0: 0.0\n",
      "# free_projection: False\n",
      "# n_batch: 1\n",
      "# LNO: False\n",
      "# orbE: 0\n",
      "# maxError: 0.001\n",
      "#\n",
      "# Number of MPI ranks: 1\n",
      "#\n",
      "# norb: 2\n",
      "# nelec: (1, 1)\n",
      "#\n",
      "# dt: 0.005\n",
      "# n_eql: 4\n",
      "# n_ene_blocks: 1\n",
      "# n_sr_blocks: 10\n",
      "# n_blocks: 200\n",
      "# n_walkers: 50\n",
      "# seed: 2\n",
      "# walker_type: rhf\n",
      "# trial: rhf\n",
      "# n_prop_steps: 50\n",
      "# orbital_rotation: True\n",
      "# do_sr: True\n",
      "# symmetry: False\n",
      "# save_walkers: False\n",
      "# ene0: 0.0\n",
      "# free_projection: False\n",
      "# n_batch: 1\n",
      "# LNO: False\n",
      "# orbE: 0\n",
      "# maxError: 0.001\n",
      "#\n"
     ]
    }
   ],
   "source": [
    "from mpi4py import MPI\n",
    "import numpy as np\n",
    "from ad_afqmc.corr_sample_test import corr_sample\n",
    "\n",
    "comm = MPI.COMM_WORLD\n",
    "rank = comm.Get_rank()  # Process rank\n",
    "size = comm.Get_size()  # Total number of processes\n",
    "print(f'# rank = {rank} size = {size}')\n",
    "\n",
    "# Create data in the root process\n",
    "ham_data1, ham1, prop1, trial1, wave_data1, sampler1, observable1, options1,_ \\\n",
    "    = mpi_jax._prep_afqmc(options1,mo_file=mo_file1,amp_file=amp_file1,chol_file=chol_file1)\n",
    "ham_data2, ham2, prop2, trial2, wave_data2, sampler2, observable2, options2,_ \\\n",
    "    = mpi_jax._prep_afqmc(options2,mo_file=mo_file2,amp_file=amp_file2,chol_file=chol_file2)\n",
    "prop_data1, ham_data1 = corr_sample.init_prop(ham_data1, ham1, prop1, trial1, wave_data1, options1, MPI)\n",
    "prop_data2, ham_data2 = corr_sample.init_prop(ham_data2, ham2, prop2, trial2, wave_data2, options2, MPI)\n",
    "#prop_data1,prop_data2,field = cs_block_scan(prop_data1,ham_data1,prop1,trial1,wave_data1,prop_data2,ham_data2,prop2,trial2,wave_data2)\n"
   ]
  },
  {
   "cell_type": "code",
   "execution_count": 9,
   "metadata": {},
   "outputs": [],
   "source": [
    "prop_data1,prop_data2,fields = cs_block_scan(prop_data1,ham_data1,prop1,trial1,wave_data1,prop_data2,ham_data2,prop2,trial2,wave_data2)\n",
    "loc_en_sample1 = en_samples(prop_data1,ham_data1,prop1,trial1,wave_data1)\n",
    "loc_en_sample2 = en_samples(prop_data2,ham_data2,prop2,trial2,wave_data2)"
   ]
  },
  {
   "cell_type": "code",
   "execution_count": 15,
   "metadata": {},
   "outputs": [
    {
     "name": "stdout",
     "output_type": "stream",
     "text": [
      "[2260632897 2682822699]\n",
      "[ 231470018 1619616203]\n"
     ]
    }
   ],
   "source": [
    "prop_data1[\"key\"], subkey1 = random.split(prop_data1[\"key\"])\n",
    "print(prop_data1[\"key\"])\n",
    "print(subkey1)"
   ]
  },
  {
   "cell_type": "code",
   "execution_count": 19,
   "metadata": {},
   "outputs": [
    {
     "name": "stdout",
     "output_type": "stream",
     "text": [
      "[ 0 98]\n",
      "[ 336490316 3848988999] [3614062411 3294896607]\n"
     ]
    }
   ],
   "source": [
    "key = random.PRNGKey(98 + rank)\n",
    "print(key)\n",
    "key,subkey = random.split(key)\n",
    "print(key,subkey)"
   ]
  },
  {
   "cell_type": "code",
   "execution_count": 24,
   "metadata": {},
   "outputs": [
    {
     "name": "stdout",
     "output_type": "stream",
     "text": [
      "[2260632897 2682822699]\n"
     ]
    }
   ],
   "source": [
    "print(prop_data1[\"key\"])"
   ]
  },
  {
   "cell_type": "code",
   "execution_count": 23,
   "metadata": {},
   "outputs": [
    {
     "name": "stdout",
     "output_type": "stream",
     "text": [
      "[ 2  4 79 76 54 92 94 82 93 76]\n"
     ]
    }
   ],
   "source": [
    "seed1 = random.randint(random.PRNGKey(0), shape=(10,), minval=0, maxval=100)\n",
    "print(seed1)"
   ]
  },
  {
   "cell_type": "code",
   "execution_count": 31,
   "metadata": {},
   "outputs": [
    {
     "name": "stdout",
     "output_type": "stream",
     "text": [
      "[ 0 92]\n"
     ]
    }
   ],
   "source": [
    "prop_data1[\"key\"] = random.PRNGKey(seed1[5] + rank)\n",
    "print(prop_data1[\"key\"])"
   ]
  },
  {
   "cell_type": "code",
   "execution_count": 22,
   "metadata": {},
   "outputs": [
    {
     "name": "stdout",
     "output_type": "stream",
     "text": [
      "(50,)\n",
      "(200,)\n"
     ]
    }
   ],
   "source": [
    "#loc_en_sample1 = en_samples(prop_data1,ham_data1,prop1,wave_data1,trial1)\n",
    "en_sample1 = np.empty(size * len(loc_en_sample1))\n",
    "print(loc_en_sample1.shape)\n",
    "print(en_sample1.shape)"
   ]
  },
  {
   "cell_type": "code",
   "execution_count": 8,
   "metadata": {},
   "outputs": [
    {
     "name": "stdout",
     "output_type": "stream",
     "text": [
      "weights <class 'jaxlib.xla_extension.ArrayImpl'> (50,)\n",
      "walkers <class 'jaxlib.xla_extension.ArrayImpl'> (50, 2, 1)\n",
      "e_estimate <class 'jaxlib.xla_extension.ArrayImpl'> ()\n",
      "pop_control_ene_shift <class 'jaxlib.xla_extension.ArrayImpl'> ()\n",
      "overlaps <class 'jaxlib.xla_extension.ArrayImpl'> (50,)\n",
      "key <class 'jaxlib.xla_extension.ArrayImpl'> (2,)\n",
      "n_killed_walkers <class 'int'> 0\n"
     ]
    }
   ],
   "source": [
    "for k,v in prop_data1.items():\n",
    "    if type(prop_data1[k]) is not int:\n",
    "        print(k,type(prop_data1[k]),prop_data1[k].shape)\n",
    "    else: print(k,type(prop_data1[k]),prop_data1[k])"
   ]
  },
  {
   "cell_type": "code",
   "execution_count": 60,
   "metadata": {},
   "outputs": [
    {
     "name": "stdout",
     "output_type": "stream",
     "text": [
      "weights\n",
      "walkers\n",
      "e_estimate\n",
      "pop_control_ene_shift\n",
      "overlaps\n",
      "key\n",
      "n_killed_walkers\n"
     ]
    }
   ],
   "source": [
    "for k in prop_data1.keys():\n",
    "    print(k)"
   ]
  },
  {
   "cell_type": "code",
   "execution_count": null,
   "metadata": {},
   "outputs": [
    {
     "name": "stdout",
     "output_type": "stream",
     "text": [
      "(100, 2, 1)\n",
      "0\n"
     ]
    }
   ],
   "source": [
    "def gather_prop_data(prop_datas):\n",
    "    tot_prop_data = {}\n",
    "    for k in prop_data1.keys():\n",
    "        if k == 'walkers': \n",
    "            tot_prop_data[k] = np.vstack(prop_datas)\n",
    "            print(tot_prop_data[k].shape)\n",
    "        else:\n",
    "            if k == 'n_killed_walkers':\n",
    "                tot_prop_data[k] = np.sum(prop_datas)\n",
    "                print(tot_prop_data[k])\n",
    "            else:\n",
    "                tot_prop_data[k] = np.hstack(prop_datas)"
   ]
  },
  {
   "cell_type": "code",
   "execution_count": 75,
   "metadata": {},
   "outputs": [
    {
     "name": "stdout",
     "output_type": "stream",
     "text": [
      "weights (50,)\n",
      "walkers (50, 2, 1)\n",
      "e_estimate ()\n",
      "pop_control_ene_shift ()\n",
      "overlaps (50,)\n",
      "key (2,)\n",
      "n_killed_walkers 0\n"
     ]
    }
   ],
   "source": [
    "for k in prop_data1.keys():\n",
    "    if k == 'n_killed_walkers':\n",
    "        print(k,prop_data1[k])\n",
    "    else:\n",
    "        print(k,prop_data1[k].shape)"
   ]
  },
  {
   "cell_type": "code",
   "execution_count": 79,
   "metadata": {},
   "outputs": [
    {
     "name": "stdout",
     "output_type": "stream",
     "text": [
      "-0.6244981443733638\n",
      "-0.6244981443733638\n"
     ]
    }
   ],
   "source": [
    "print(prop_data1['e_estimate'])\n",
    "print(prop_data1['pop_control_ene_shift'])"
   ]
  },
  {
   "cell_type": "code",
   "execution_count": 76,
   "metadata": {},
   "outputs": [
    {
     "name": "stdout",
     "output_type": "stream",
     "text": [
      "weights (100,)\n",
      "walkers (100, 2, 1)\n",
      "e_estimate (2,)\n",
      "pop_control_ene_shift (2,)\n",
      "overlaps (100,)\n",
      "key (4,)\n",
      "n_killed_walkers 0\n"
     ]
    }
   ],
   "source": [
    "for k in tot_prop_data.keys():\n",
    "    if k == 'n_killed_walkers':\n",
    "        print(k,tot_prop_data[k])\n",
    "    else:\n",
    "        print(k,tot_prop_data[k].shape)"
   ]
  },
  {
   "cell_type": "code",
   "execution_count": 80,
   "metadata": {},
   "outputs": [
    {
     "name": "stdout",
     "output_type": "stream",
     "text": [
      "[-0.62449814 -0.60801111]\n",
      "[-0.62449814 -0.60801111]\n"
     ]
    }
   ],
   "source": [
    "print(tot_prop_data['e_estimate'])\n",
    "print(tot_prop_data['pop_control_ene_shift'])"
   ]
  }
 ],
 "metadata": {
  "kernelspec": {
   "display_name": "lno_afqmc",
   "language": "python",
   "name": "python3"
  },
  "language_info": {
   "codemirror_mode": {
    "name": "ipython",
    "version": 3
   },
   "file_extension": ".py",
   "mimetype": "text/x-python",
   "name": "python",
   "nbconvert_exporter": "python",
   "pygments_lexer": "ipython3",
   "version": "3.11.10"
  }
 },
 "nbformat": 4,
 "nbformat_minor": 2
}
