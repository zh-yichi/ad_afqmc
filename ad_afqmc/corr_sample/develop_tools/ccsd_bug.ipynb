{
 "cells": [
  {
   "cell_type": "code",
   "execution_count": 5,
   "metadata": {},
   "outputs": [],
   "source": [
    "# from pyscf import gto, scf, cc, fci\n",
    "import numpy as np\n",
    "import matplotlib.pyplot as plt"
   ]
  },
  {
   "cell_type": "code",
   "execution_count": 72,
   "metadata": {},
   "outputs": [],
   "source": [
    "def rot_z(array,theta):\n",
    "    x = np.cos(theta)*array[0]-np.sin(theta)*array[1]\n",
    "    y = np.sin(theta)*array[0]+np.cos(theta)*array[1]\n",
    "    return np.round(np.array([x,y,0]),6)"
   ]
  },
  {
   "cell_type": "code",
   "execution_count": 73,
   "metadata": {},
   "outputs": [
    {
     "data": {
      "image/png": "[encoded data removed]",
      "text/plain": [
       "<Figure size 640x480 with 1 Axes>"
      ]
     },
     "metadata": {},
     "output_type": "display_data"
    }
   ],
   "source": [
    "a = np.empty((6,3))\n",
    "a0 = [2,0,0]\n",
    "a[0] = a0\n",
    "# print(a[0])\n",
    "for i in range(5):\n",
    "    a[i+1] = rot_z(a[i],2*np.pi/6)\n",
    "\n",
    "x = a[:, 0]\n",
    "y = a[:, 1] \n",
    "\n",
    "plt.scatter(x, y, color='blue', marker='o', label=\"atoms\")\n",
    "plt.xlabel(\"X-axis (First Column)\")\n",
    "plt.ylabel(\"Y-axis (Second Column)\")\n",
    "plt.title(\"Scatter Plot of First Two Columns\")\n",
    "plt.legend()\n",
    "plt.show()"
   ]
  },
  {
   "cell_type": "code",
   "execution_count": 74,
   "metadata": {},
   "outputs": [
    {
     "name": "stdout",
     "output_type": "stream",
     "text": [
      "H \t 2.0 \t 0.0 \t 0.0 \n",
      "H \t 1.0 \t 1.732051 \t 0.0 \n",
      "H \t -1.0 \t 1.732051 \t 0.0 \n",
      "H \t -2.0 \t 0.0 \t 0.0 \n",
      "H \t -1.0 \t -1.732051 \t 0.0 \n",
      "H \t 1.0 \t -1.732051 \t 0.0 \n",
      "\n"
     ]
    }
   ],
   "source": [
    "atoms = [[\"H\"]]*6\n",
    "xyz = np.hstack((atoms,a))\n",
    "xyz_str = \"\"\n",
    "for atom,x,y,z in xyz:\n",
    "    xyz_str += \"\".join(f\"{atom} \\t {x} \\t {y} \\t {z} \\n\")\n",
    "\n",
    "print(xyz_str)"
   ]
  },
  {
   "cell_type": "code",
   "execution_count": 75,
   "metadata": {},
   "outputs": [
    {
     "name": "stdout",
     "output_type": "stream",
     "text": [
      "System: uname_result(system='Linux', node='yichi-thinkpad', release='4.4.0-26100-Microsoft', version='#1882-Microsoft Fri Jan 01 08:00:00 PST 2016', machine='x86_64')  Threads 12\n",
      "Python 3.10.16 | packaged by conda-forge | (main, Dec  5 2024, 14:16:10) [GCC 13.3.0]\n",
      "numpy 1.24.3  scipy 1.14.1  h5py 3.12.1\n",
      "Date: Sat Feb  1 11:55:25 2025\n",
      "PySCF version 2.7.0\n",
      "PySCF path  /home/yichi/research/software/pyscf\n",
      "GIT HEAD (branch master) a0665c4a7bf54e33f01295b3eea390be7a17d76d\n",
      "\n",
      "[ENV] PYSCF_EXT_PATH /home/yichi/research/software/pyscf\n",
      "[CONFIG] conf_file None\n",
      "[INPUT] verbose = 4\n",
      "[INPUT] num. atoms = 6\n",
      "[INPUT] num. electrons = 6\n",
      "[INPUT] charge = 0\n",
      "[INPUT] spin (= nelec alpha-beta = 2S) = 0\n",
      "[INPUT] symmetry False subgroup None\n",
      "[INPUT] Mole.unit = angstrom\n",
      "[INPUT] Symbol           X                Y                Z      unit          X                Y                Z       unit  Magmom\n",
      "[INPUT]  1 H      2.000000000000   0.000000000000   0.000000000000 AA    3.779452249130   0.000000000000   0.000000000000 Bohr   0.0\n",
      "[INPUT]  2 H      1.000000000000   1.732051000000   0.000000000000 AA    1.889726124565   3.273102023779   0.000000000000 Bohr   0.0\n",
      "[INPUT]  3 H     -1.000000000000   1.732051000000   0.000000000000 AA   -1.889726124565   3.273102023779   0.000000000000 Bohr   0.0\n",
      "[INPUT]  4 H     -2.000000000000   0.000000000000   0.000000000000 AA   -3.779452249130   0.000000000000   0.000000000000 Bohr   0.0\n",
      "[INPUT]  5 H     -1.000000000000  -1.732051000000   0.000000000000 AA   -1.889726124565  -3.273102023779   0.000000000000 Bohr   0.0\n",
      "[INPUT]  6 H      1.000000000000  -1.732051000000   0.000000000000 AA    1.889726124565  -3.273102023779   0.000000000000 Bohr   0.0\n",
      "\n",
      "nuclear repulsion = 2.90097619532157\n",
      "number of shells = 6\n",
      "number of NR pGTOs = 36\n",
      "number of NR cGTOs = 6\n",
      "basis = sto6g\n",
      "ecp = {}\n",
      "CPU time:       407.62\n",
      "\n",
      "\n",
      "\n",
      "\n",
      "******** <class 'pyscf.soscf.newton_ah.SecondOrderDFRHF'> ********\n",
      "method = SecondOrderDFRHF\n",
      "initial guess = minao\n",
      "damping factor = 0\n",
      "level_shift factor = 0\n",
      "DIIS = <class 'pyscf.scf.diis.CDIIS'>\n",
      "diis_start_cycle = 1\n",
      "diis_space = 8\n",
      "diis_damp = 0\n",
      "SCF conv_tol = 1e-09\n",
      "SCF conv_tol_grad = None\n",
      "SCF max_cycles = 50\n",
      "direct_scf = False\n",
      "chkfile to save SCF result = /tmp/tmpi5gm_z11\n",
      "max_memory 20000 MB (current use 850 MB)\n",
      "******** <class 'pyscf.df.df_jk.DFRHF'> Newton solver flags ********\n",
      "SCF tol = 1e-09\n",
      "conv_tol_grad = None\n",
      "max. SCF cycles = 50\n",
      "direct_scf = False\n",
      "chkfile to save SCF result = /tmp/tmpi5gm_z11\n",
      "max_cycle_inner = 12\n",
      "max_stepsize = 0.05\n",
      "ah_start_tol = 1e+09\n",
      "ah_level_shift = 0\n",
      "ah_conv_tol = 1e-12\n",
      "ah_lindep = 1e-14\n",
      "ah_start_cycle = 1\n",
      "ah_max_cycle = 40\n",
      "ah_grad_trust_region = 2.5\n",
      "kf_interval = 4\n",
      "kf_trust_region = 5\n",
      "canonicalization = True\n",
      "max_memory 20000 MB (current use 850 MB)\n",
      "Set conv_tol_grad to 3.16228e-05\n",
      "Initial guess from minao.\n",
      "******** <class 'pyscf.df.df.DF'> ********\n",
      "auxbasis = None\n",
      "max_memory = 20000\n",
      "ETB for H: l = 0, exps = 0.200224856 * 2^n , n = 0..8\n",
      "\n",
      "WARN: Even tempered Gaussians are generated as DF auxbasis for  H\n",
      "\n",
      "  HOMO = -0.171225545461709  LUMO = -0.00660138663510197\n",
      "Initial guess E= -2.44323667152732  |g|= 1.03847e-08\n",
      "macro= 0  E= -2.44323667152732  delta_E= 0  |g|= 1.03847e-08  1 KF 2 JK\n",
      "Canonicalize SCF orbitals\n",
      "macro X = 1  E=-2.44323667152732  |g|= 1.03847e-08  total 2 KF 4 JK\n",
      "converged SCF energy = -2.44323667152732\n",
      "\n",
      "******** <class 'pyscf.cc.dfccsd.RCCSD'> ********\n",
      "CC2 = 0\n",
      "CCSD nocc = 3, nmo = 6\n",
      "max_cycle = 50\n",
      "direct = 0\n",
      "conv_tol = 1e-07\n",
      "conv_tol_normt = 1e-05\n",
      "diis_space = 6\n",
      "diis_start_cycle = 0\n",
      "diis_start_energy_diff = 1e+09\n",
      "max_memory 20000 MB (current use 855 MB)\n",
      "Init t2, MP2 energy = -2.62424254044526  E_corr(MP2) -0.181005868917947\n",
      "Init E_corr(RCCSD) = -0.181005868917947\n",
      "cycle = 1  E_corr(RCCSD) = -0.271919815405287  dE = -0.0909139465  norm(t1,t2) = 0.273937\n",
      "cycle = 2  E_corr(RCCSD) = -0.351165209612295  dE = -0.0792453942  norm(t1,t2) = 0.223601\n",
      "cycle = 3  E_corr(RCCSD) = -0.472264040786724  dE = -0.121098831  norm(t1,t2) = 0.177763\n",
      "cycle = 4  E_corr(RCCSD) = -0.587378299651594  dE = -0.115114259  norm(t1,t2) = 0.13388\n",
      "cycle = 5  E_corr(RCCSD) = -0.591700544562476  dE = -0.00432224491  norm(t1,t2) = 0.0532811\n",
      "cycle = 6  E_corr(RCCSD) = -0.621408322563331  dE = -0.029707778  norm(t1,t2) = 0.0278109\n",
      "cycle = 7  E_corr(RCCSD) = -0.619520658891897  dE = 0.00188766367  norm(t1,t2) = 0.0220599\n",
      "cycle = 8  E_corr(RCCSD) = -0.613428181802576  dE = 0.00609247709  norm(t1,t2) = 0.00606625\n",
      "cycle = 9  E_corr(RCCSD) = -0.614741051109927  dE = -0.00131286931  norm(t1,t2) = 0.00208674\n",
      "cycle = 10  E_corr(RCCSD) = -0.614610787993326  dE = 0.000130263117  norm(t1,t2) = 0.000427607\n",
      "cycle = 11  E_corr(RCCSD) = -0.614626002172585  dE = -1.52141793e-05  norm(t1,t2) = 2.86527e-05\n",
      "cycle = 12  E_corr(RCCSD) = -0.614623852699837  dE = 2.14947275e-06  norm(t1,t2) = 4.19731e-06\n",
      "cycle = 13  E_corr(RCCSD) = -0.614623471597608  dE = 3.81102229e-07  norm(t1,t2) = 4.8029e-07\n",
      "cycle = 14  E_corr(RCCSD) = -0.614623483052347  dE = -1.1454739e-08  norm(t1,t2) = 7.39382e-08\n",
      "RCCSD converged\n",
      "E(RCCSD) = -3.057860154579663  E_corr = -0.6146234830523473\n",
      "RCCSD(T) correction = -0.00580428944111966\n",
      "rhf energy is -2.4432366715273153\n",
      "ccsd energy is -3.0578601545796626\n",
      "ccsd(t) energy is -3.063664444020782\n",
      "fci energy is -2.878431523258702\n",
      "#\n",
      "# Preparing AFQMC calculation\n",
      "# If you import pyscf cc modules and use MPI for AFQMC in the same script, finalize MPI before calling the AFQMC driver.\n",
      "# Calculating Cholesky integrals\n",
      "# Decomposing ERI with DF\n",
      "# Finished calculating Cholesky integrals\n",
      "#\n",
      "# Size of the correlation space:\n",
      "# Number of electrons: (3, 3)\n",
      "# Number of basis functions: 6\n",
      "# Number of Cholesky vectors: 54\n",
      "#\n"
     ]
    }
   ],
   "source": [
    "basis = 'sto6g'\n",
    "verbose = 4\n",
    "memory = 20000\n",
    "a = 0.7\n",
    "\n",
    "# atom = f'''\n",
    "# H 0 0 0\n",
    "# H {a} 0 0\n",
    "# H {a} {a} 0\n",
    "# H 0 {a} 0\n",
    "# '''\n",
    "\n",
    "mol = gto.Mole(\n",
    "verbose=verbose,\n",
    "atom=xyz_str,\n",
    "basis=basis,\n",
    "max_memory=memory\n",
    ")\n",
    "mol.build()\n",
    "\n",
    "# RHF\n",
    "mf = scf.RHF(mol).density_fit()\n",
    "mf = mf.newton()\n",
    "mf.kernel()\n",
    "\n",
    "### coupled cluster ###\n",
    "mc = cc.CCSD(mf)\n",
    "mc.kernel()\n",
    "et = mc.ccsd_t()\n",
    "\n",
    "## fci\n",
    "fci = fci.FCI(mf)\n",
    "fci_e, fci_v = fci.kernel()\n",
    "\n",
    "print(f\"rhf energy is {mf.e_tot}\")\n",
    "print(f\"ccsd energy is {mc.e_tot}\")\n",
    "print(f\"ccsd(t) energy is {mc.e_tot+et}\")\n",
    "print(f\"fci energy is {fci.e_tot}\")\n",
    "\n",
    "from mpi4py import MPI\n",
    "MPI.Finalize() ### finalize MPI after ccsd\n",
    "from ad_afqmc import pyscf_interface\n",
    "\n",
    "mo_file=\"mo.npz\"\n",
    "chol_file=\"chol\"\n",
    "amp_file=\"amp.npz\"\n",
    "pyscf_interface.prep_afqmc(mc,mo_file=mo_file,amp_file=amp_file,chol_file=chol_file)"
   ]
  },
  {
   "cell_type": "code",
   "execution_count": 2,
   "metadata": {},
   "outputs": [],
   "source": [
    "# rhf energy is -2.4432366715273153\n",
    "# ccsd energy is -3.0578601545796626\n",
    "# ccsd(t) energy is -3.063664444020782\n",
    "# fci energy is -2.878431523258702\n",
    "en_rhf = -2.4432366715273153\n",
    "en_ccsd = -3.0578601545796626\n",
    "en_ccsd_t = -3.063664444020782\n",
    "en_fci = -2.878431523258702"
   ]
  },
  {
   "cell_type": "code",
   "execution_count": 3,
   "metadata": {},
   "outputs": [
    {
     "name": "stdout",
     "output_type": "stream",
     "text": [
      "# Hostname: yichi-thinkpad\n",
      "# System Type: Linux\n",
      "# Machine Type: x86_64\n",
      "# Processor: x86_64\n"
     ]
    }
   ],
   "source": [
    "from ad_afqmc.corr_sample_test import corr_sample\n",
    "from ad_afqmc import mpi_jax, config\n",
    "import time\n",
    "from functools import partial\n",
    "from jax import random"
   ]
  },
  {
   "cell_type": "code",
   "execution_count": 34,
   "metadata": {},
   "outputs": [],
   "source": [
    "options = {\n",
    "    \"dt\": 0.01,\n",
    "    \"n_exp_terms\": 6,\n",
    "    \"n_walkers\": 50,\n",
    "    \"n_runs\": 10,\n",
    "    \"rlx_steps\": 0,\n",
    "    \"prop_steps\": 10,\n",
    "    \"seed\": 2,\n",
    "    \"walker_type\": \"rhf\",\n",
    "    \"trial\": \"cisd\",\n",
    "    \"use_gpu\": False,\n",
    "    \"free_proj\": False,\n",
    "}\n",
    "\n",
    "nwalkers = options[\"n_walkers\"]\n",
    "dt = options[\"dt\"]\n",
    "seed = options[\"seed\"]\n",
    "rlx_steps = options[\"rlx_steps\"]\n",
    "prop_steps = options[\"prop_steps\"]\n",
    "n_runs = options[\"n_runs\"]\n",
    "\n",
    "mo_file=\"mo.npz\"\n",
    "chol_file=\"chol\"\n",
    "amp_file=\"amp.npz\""
   ]
  },
  {
   "cell_type": "code",
   "execution_count": 35,
   "metadata": {},
   "outputs": [
    {
     "name": "stdout",
     "output_type": "stream",
     "text": [
      "# Hostname: yichi-thinkpad\n",
      "# System Type: Linux\n",
      "# Machine Type: x86_64\n",
      "# Processor: x86_64\n",
      "# Number of MPI ranks: 1\n",
      "#\n",
      "# norb: 6\n",
      "# nelec: (3, 3)\n",
      "#\n",
      "# dt: 0.01\n",
      "# n_exp_terms: 6\n",
      "# n_walkers: 50\n",
      "# n_runs: 10\n",
      "# rlx_steps: 0\n",
      "# prop_steps: 10\n",
      "# seed: 2\n",
      "# walker_type: rhf\n",
      "# trial: cisd\n",
      "# use_gpu: False\n",
      "# free_proj: False\n",
      "# n_prop_steps: 50\n",
      "# n_ene_blocks: 50\n",
      "# n_sr_blocks: 1\n",
      "# n_blocks: 50\n",
      "# n_eql: 1\n",
      "# orbital_rotation: True\n",
      "# do_sr: True\n",
      "# symmetry: False\n",
      "# save_walkers: False\n",
      "# ene0: 0.0\n",
      "# free_projection: False\n",
      "# n_batch: 1\n",
      "# LNO: False\n",
      "# orbE: 0\n",
      "# maxError: 0.001\n",
      "#\n",
      "# relaxation from ccsd object using 50 walkers\n",
      "# rlx_step \t energy \n",
      "    0  \t \t -3.057860\n"
     ]
    }
   ],
   "source": [
    "config.setup_jax()\n",
    "MPI = config.setup_comm()\n",
    "\n",
    "init_time = time.time()\n",
    "comm = MPI.COMM_WORLD\n",
    "rank = comm.Get_rank()  # Process rank\n",
    "size = comm.Get_size()  # Total number of processes\n",
    "\n",
    "ham_data, ham, prop, trial, wave_data, sampler, observable, options, _ \\\n",
    "    = mpi_jax._prep_afqmc(options,mo_file=mo_file,amp_file=amp_file,chol_file=chol_file)\n",
    "\n",
    "prop_data_init, ham_data_init = \\\n",
    "    corr_sample.init_prop(ham_data, ham, prop, trial, wave_data, seed, MPI)\n",
    "\n",
    "\n",
    "if options[\"trial\"] == \"rhf\":\n",
    "    print(f'# relaxation from mean-field object using {nwalkers*size} walkers')\n",
    "if options[\"trial\"] == \"cisd\":\n",
    "    print(f'# relaxation from ccsd object using {nwalkers*size} walkers')\n",
    "print('# rlx_step \\t energy ')\n",
    "print(f'    {0}  \\t \\t {prop_data_init[\"e_estimate\"]:.6f}')"
   ]
  },
  {
   "cell_type": "code",
   "execution_count": 23,
   "metadata": {},
   "outputs": [],
   "source": [
    "from ad_afqmc.propagation import propagator\n",
    "from ad_afqmc.wavefunctions import wave_function\n",
    "from ad_afqmc import sampling\n",
    "import jax\n",
    "from jax import numpy as jnp\n",
    "sampler_eq = sampling.sampler(n_prop_steps=50, n_ene_blocks=5, n_sr_blocks=10)\n",
    "field_block_scan = corr_sample.field_block_scan\n",
    "en_samples = corr_sample.en_samples\n",
    "\n",
    "def otler_rm(prop_data, z_thresh = 5):\n",
    "    wt = jnp.array(prop_data[\"weights\"])\n",
    "    wt_mean = jnp.mean(wt)\n",
    "    wt_std = jnp.std(wt)\n",
    "    wt_z = jnp.abs(wt-wt_mean)/wt_std\n",
    "    prop_data[\"weights\"] = jnp.array(jnp.where(wt_z > z_thresh, 0.0, wt))\n",
    "    return prop_data\n",
    "\n",
    "def one_step(\n",
    "        prop_data: dict,\n",
    "        ham_data: dict,\n",
    "        prop: propagator,\n",
    "        trial: wave_function,\n",
    "        wave_data: dict):\n",
    "    '''correlated sampling of two blocks of walkers over the same field'''\n",
    "    prop_data[\"key\"], subkey = random.split(prop_data[\"key\"])\n",
    "    fields = random.normal(\n",
    "        subkey,\n",
    "        shape=(\n",
    "            sampler_eq.n_prop_steps,\n",
    "            prop.n_walkers,\n",
    "            ham_data[\"chol\"].shape[0],\n",
    "        )\n",
    "    )\n",
    "    prop_data = field_block_scan(prop_data,fields,ham_data,prop,trial,wave_data)\n",
    "    prop_data= otler_rm(prop_data,z_thresh=5)\n",
    "\n",
    "    return prop_data\n",
    "\n",
    "def steps_scan(steps,prop_data,ham_data,prop,trial,wave_data):\n",
    "\n",
    "    def _steps(prop_data,_):\n",
    "        prop_data = one_step(prop_data,ham_data,prop,trial,wave_data)\n",
    "        loc_en_samples = en_samples(prop_data,ham_data,prop,trial,wave_data)\n",
    "        loc_weight_sample = prop_data[\"weights\"]\n",
    "        loc_weight = sum(loc_weight_sample)\n",
    "        loc_en_sample = loc_en_samples*loc_weight_sample\n",
    "        loc_en = sum(loc_en_sample) #not normalized\n",
    "        return prop_data, (loc_en,loc_weight)\n",
    "\n",
    "    prop_data, (loc_en,loc_weight) \\\n",
    "        = jax.lax.scan(_steps,prop_data,xs=None,length=steps)\n",
    "    return prop_data, (loc_en,loc_weight)\n",
    "\n",
    "def scan_seeds(seeds,steps,\n",
    "               prop_data_init,ham_data_init,prop,trial,wave_data, \n",
    "               MPI):\n",
    "\n",
    "    comm = MPI.COMM_WORLD\n",
    "    rank = comm.Get_rank()\n",
    "\n",
    "    def _seeds(carry,seed):\n",
    "        prop_data_init[\"key\"] = jax.random.PRNGKey(seed + rank)\n",
    "        _,(loc_en,loc_weight) \\\n",
    "            = steps_scan(steps,prop_data_init,ham_data_init,prop,trial,wave_data)\n",
    "        \n",
    "        return carry, (loc_en,loc_weight)\n",
    "    \n",
    "    _, (loc_en,loc_weight) = jax.lax.scan(_seeds, None, seeds)\n",
    "\n",
    "    return loc_en,loc_weight"
   ]
  },
  {
   "cell_type": "code",
   "execution_count": 24,
   "metadata": {},
   "outputs": [],
   "source": [
    "nsteps = 5\n",
    "prop_data_rlx,(loc_en,loc_weight) = steps_scan(nsteps,prop_data_init,ham_data_init,prop,trial,wave_data)"
   ]
  },
  {
   "cell_type": "code",
   "execution_count": 25,
   "metadata": {},
   "outputs": [
    {
     "name": "stdout",
     "output_type": "stream",
     "text": [
      "[0.90647079 1.0951683  0.90353566 1.14920945 1.10504263 0.86113798\n",
      " 0.93567071 0.82792429 1.06063059 0.93821274 0.77999637 0.97356933\n",
      " 0.89336923 1.05243947 1.18666565 0.67428659 1.22999939 0.76163352\n",
      " 0.97720652 0.89156873 1.18141612 0.92558797 0.96780659 1.00712882\n",
      " 1.03331784 0.98000358 0.84472029 1.06224761 0.93345338 0.83698264\n",
      " 1.08520137 1.07299298 0.93204497 1.00984573 1.50793669 1.07916024\n",
      " 0.71144635 1.07856337 0.93120959 0.924335   1.05215652 1.07963005\n",
      " 0.99102176 0.89899904 0.98434519 1.03569295 0.84729269 0.7811693\n",
      " 0.94597415 1.10924364]\n"
     ]
    }
   ],
   "source": [
    "print(prop_data_rlx[\"weights\"])"
   ]
  },
  {
   "cell_type": "code",
   "execution_count": 68,
   "metadata": {},
   "outputs": [
    {
     "name": "stdout",
     "output_type": "stream",
     "text": [
      "[-148.26678502 -148.58664874 -148.79660534 -149.01266632 -148.66967448]\n",
      "[50.23133754 50.25434936 50.13493224 50.25106948 50.18052458]\n",
      "[-2.95167902 -2.95669232 -2.96792274 -2.96536308 -2.9626967 ]\n"
     ]
    }
   ],
   "source": [
    "print(loc_en)\n",
    "print(loc_weight)\n",
    "print(loc_en/loc_weight)"
   ]
  },
  {
   "cell_type": "code",
   "execution_count": 46,
   "metadata": {},
   "outputs": [
    {
     "name": "stdout",
     "output_type": "stream",
     "text": [
      "-1.9435765482220617\n",
      "[-1.94357655 -1.94148724 -1.9405467  -1.93946268 -1.9373742  -1.93763711\n",
      " -1.93588008 -1.93998978 -1.9417205  -1.94094693 -1.9399649 ]\n"
     ]
    }
   ],
   "source": [
    "print(prop_data_init[\"e_estimate\"])\n",
    "energy = np.hstack((prop_data_init[\"e_estimate\"],loc_en/loc_weight))\n",
    "print(energy)\n"
   ]
  },
  {
   "cell_type": "code",
   "execution_count": 8,
   "metadata": {},
   "outputs": [
    {
     "data": {
      "image/png": "[encoded data removed]",
      "text/plain": [
       "<Figure size 640x480 with 1 Axes>"
      ]
     },
     "metadata": {},
     "output_type": "display_data"
    }
   ],
   "source": [
    "from matplotlib import pyplot as plt\n",
    "energy = np.hstack((prop_data_init[\"e_estimate\"],loc_en/loc_weight))\n",
    "plt.plot(np.arange(nsteps+1),energy,'.')\n",
    "plt.plot(np.linspace(0,nsteps,100),[en_ccsd]*100,label='ccsd')\n",
    "plt.plot(np.linspace(0,nsteps,100),[en_ccsd_t]*100,label='ccsd(t)')\n",
    "# plt.plot(np.linspace(0,nsteps,100),[en_fci]*100,label='fci')\n",
    "plt.legend()\n",
    "plt.show()"
   ]
  },
  {
   "cell_type": "code",
   "execution_count": 36,
   "metadata": {},
   "outputs": [],
   "source": [
    "n_runs = 30\n",
    "n_steps = 10\n",
    "seeds = random.randint(random.PRNGKey(options[\"seed\"]),\n",
    "                    shape=(n_runs,), minval=0, maxval=100000*n_runs)\n",
    "\n",
    "loc_en,loc_wt = scan_seeds(seeds,n_steps,prop_data_init,ham_data_init,prop,trial,wave_data,MPI)"
   ]
  },
  {
   "cell_type": "code",
   "execution_count": 19,
   "metadata": {},
   "outputs": [
    {
     "name": "stdout",
     "output_type": "stream",
     "text": [
      "[[-2.965507  -2.9658222 -2.966141 ]\n",
      " [-2.9656942 -2.9656048 -2.9655209]\n",
      " [-2.9658077 -2.9657109 -2.9658363]\n",
      " [-2.9655442 -2.9659784 -2.9657629]\n",
      " [-2.9656754 -2.9655297 -2.965623 ]\n",
      " [-2.965566  -2.9657822 -2.965666 ]\n",
      " [-2.965607  -2.9657924 -2.9656143]\n",
      " [-2.965564  -2.9655719 -2.9659543]\n",
      " [-2.9657063 -2.9657884 -2.9661946]\n",
      " [-2.9664624 -2.966357  -2.9663205]\n",
      " [-2.9654746 -2.965726  -2.9658515]\n",
      " [-2.965622  -2.9656644 -2.9658113]\n",
      " [-2.965599  -2.965958  -2.9662592]\n",
      " [-2.9655576 -2.9659464 -2.966061 ]\n",
      " [-2.9655724 -2.9657083 -2.965684 ]\n",
      " [-2.9655375 -2.9664855 -2.9662325]\n",
      " [-2.965856  -2.9655528 -2.9657352]\n",
      " [-2.9657006 -2.9655163 -2.9656968]\n",
      " [-2.9656827 -2.9660704 -2.9655712]\n",
      " [-2.9656034 -2.9658256 -2.965711 ]\n",
      " [-2.9656003 -2.9655437 -2.9655445]\n",
      " [-2.9656858 -2.9656777 -2.9659371]\n",
      " [-2.965808  -2.966319  -2.966148 ]\n",
      " [-2.965705  -2.966466  -2.9672651]\n",
      " [-2.9656057 -2.9656062 -2.9658654]\n",
      " [-2.9655952 -2.9655795 -2.9656618]\n",
      " [-2.9656014 -2.9655964 -2.9656382]\n",
      " [-2.965809  -2.9656012 -2.9659379]\n",
      " [-2.9656222 -2.966046  -2.9658077]\n",
      " [-2.9658954 -2.9655626 -2.9660392]]\n"
     ]
    }
   ],
   "source": [
    "# print(loc_en)\n",
    "# print(loc_wt)\n",
    "print(loc_en/loc_wt)"
   ]
  },
  {
   "cell_type": "code",
   "execution_count": 37,
   "metadata": {},
   "outputs": [
    {
     "name": "stdout",
     "output_type": "stream",
     "text": [
      "# step \t energy \t error\n",
      "  0 \t -3.057860 \t 0.000000\n",
      "  1 \t -2.950466 \t 0.001158\n",
      "  2 \t -2.906489 \t 0.001515\n",
      "  3 \t -2.884347 \t 0.002330\n",
      "  4 \t -2.873604 \t 0.002625\n",
      "  5 \t -2.868248 \t 0.002765\n",
      "  6 \t -2.870969 \t 0.003148\n",
      "  7 \t -2.861980 \t 0.002869\n",
      "  8 \t -2.865732 \t 0.004037\n",
      "  9 \t -2.862182 \t 0.003517\n",
      "  10 \t -2.868982 \t 0.005379\n"
     ]
    }
   ],
   "source": [
    "print('# step \\t energy \\t error')\n",
    "print(f'  {0} \\t {prop_data_init[\"e_estimate\"]:.6f} \\t {0:.6f}')\n",
    "\n",
    "if rank == 0:\n",
    "    glb_en = np.empty(size*loc_en.size,dtype='float32')\n",
    "    glb_wt = np.empty(size*loc_wt.size,dtype='float32')\n",
    "else:\n",
    "    glb_en = None\n",
    "    glb_wt = None\n",
    "\n",
    "\n",
    "loc_en = np.asarray(loc_en,dtype='float32')\n",
    "loc_wt = np.asarray(loc_wt,dtype='float32')\n",
    "\n",
    "comm.Gather(loc_en,glb_en,root=0)\n",
    "comm.Gather(loc_wt,glb_wt,root=0)\n",
    "\n",
    "\n",
    "if rank == 0:\n",
    "    glb_en = glb_en.reshape(size,n_runs,n_steps).T\n",
    "    glb_wt = glb_wt.reshape(size,n_runs,n_steps).T\n",
    "\n",
    "    energy = np.zeros((n_steps,n_runs))\n",
    "\n",
    "    for step in range(n_steps):\n",
    "\n",
    "        for run in range(n_runs):\n",
    "            energy[step,run] = sum(glb_en[step,run,:])/sum(glb_wt[step,run,:])\n",
    "\n",
    "        en_mean = energy[step,:].mean()\n",
    "        en_err = energy[step,:].std()/np.sqrt(n_runs)\n",
    "        print(f'  {step+1} \\t {en_mean:.6f} \\t {en_err:.6f}')\n",
    "\n"
   ]
  },
  {
   "cell_type": "code",
   "execution_count": 38,
   "metadata": {},
   "outputs": [
    {
     "data": {
      "image/png": "[encoded data removed]",
      "text/plain": [
       "<Figure size 640x480 with 1 Axes>"
      ]
     },
     "metadata": {},
     "output_type": "display_data"
    }
   ],
   "source": [
    "prop_data = '''\n",
    "# step \t energy \t error\n",
    "  0 \t -3.057860 \t 0.000000\n",
    "  1 \t -2.950466 \t 0.001158\n",
    "  2 \t -2.906489 \t 0.001515\n",
    "  3 \t -2.884347 \t 0.002330\n",
    "  4 \t -2.873604 \t 0.002625\n",
    "  5 \t -2.868248 \t 0.002765\n",
    "  6 \t -2.870969 \t 0.003148\n",
    "  7 \t -2.861980 \t 0.002869\n",
    "  8 \t -2.865732 \t 0.004037\n",
    "  9 \t -2.862182 \t 0.003517\n",
    "  10 \t -2.868982 \t 0.005379\n",
    "'''\n",
    "\n",
    "prop_en = []\n",
    "prop_en_err = []\n",
    "lines = prop_data.splitlines()\n",
    "for line in lines:\n",
    "    if not line.startswith(\"#\"): \n",
    "        columns = line.split()\n",
    "        if len(columns) > 1:\n",
    "            prop_en.append(columns[1])\n",
    "        if len(columns) > 2:\n",
    "            prop_en_err.append(columns[2])\n",
    "\n",
    "prop_en = np.array(prop_en,dtype='float32')\n",
    "prop_en_err = np.array(prop_en_err,dtype='float32')\n",
    "prop_steps = np.arange(len(prop_en))\n",
    "\n",
    "x_steps = np.linspace(0,max(prop_steps),100)\n",
    "\n",
    "# plt.plot(x_steps,[en_rhf]*100)\n",
    "plt.plot(x_steps,[en_ccsd]*100,label='ccsd')\n",
    "plt.plot(x_steps,[en_ccsd_t]*100,label='ccsd(t)')\n",
    "plt.plot(x_steps,[en_fci]*100,label='fci')\n",
    "\n",
    "plt.errorbar(prop_steps,prop_en,yerr=prop_en_err, fmt='o',capsize=5,label='afqmc_prop')\n",
    "plt.xlabel('steps')\n",
    "plt.ylabel('energy (Ha)')\n",
    "\n",
    "plt.legend()\n",
    "plt.show()"
   ]
  },
  {
   "cell_type": "code",
   "execution_count": 39,
   "metadata": {},
   "outputs": [
    {
     "data": {
      "image/png": "[encoded data removed]",
      "text/plain": [
       "<Figure size 640x480 with 1 Axes>"
      ]
     },
     "metadata": {},
     "output_type": "display_data"
    }
   ],
   "source": [
    "prop_data = '''\n",
    "# step \t energy \t error\n",
    "  0 \t -2.443237 \t 0.000000\n",
    "  1 \t -2.509332 \t 0.001234\n",
    "  2 \t -2.559376 \t 0.002242\n",
    "  3 \t -2.605948 \t 0.005496\n",
    "  4 \t -2.632290 \t 0.006766\n",
    "  5 \t -2.646442 \t 0.006723\n",
    "  6 \t -2.679891 \t 0.017937\n",
    "  7 \t -2.658361 \t 0.005627\n",
    "  8 \t -2.680358 \t 0.008976\n",
    "  9 \t -2.658615 \t 0.006934\n",
    "  10 \t -2.670605 \t 0.008352\n",
    "'''\n",
    "\n",
    "prop_en = []\n",
    "prop_en_err = []\n",
    "lines = prop_data.splitlines()\n",
    "for line in lines:\n",
    "    if not line.startswith(\"#\"): \n",
    "        columns = line.split()\n",
    "        if len(columns) > 1:\n",
    "            prop_en.append(columns[1])\n",
    "        if len(columns) > 2:\n",
    "            prop_en_err.append(columns[2])\n",
    "\n",
    "prop_en = np.array(prop_en,dtype='float32')\n",
    "prop_en_err = np.array(prop_en_err,dtype='float32')\n",
    "prop_steps = np.arange(len(prop_en))\n",
    "\n",
    "x_steps = np.linspace(0,max(prop_steps),100)\n",
    "\n",
    "plt.plot(x_steps,[en_rhf]*100,label='rhf')\n",
    "plt.plot(x_steps,[en_ccsd]*100,label='ccsd')\n",
    "plt.plot(x_steps,[en_ccsd_t]*100,label='ccsd(t)')\n",
    "plt.plot(x_steps,[en_fci]*100,label='fci')\n",
    "\n",
    "plt.errorbar(prop_steps,prop_en,yerr=prop_en_err, fmt='o',capsize=5,label='afqmc_prop')\n",
    "plt.xlabel('steps')\n",
    "plt.ylabel('energy (Ha)')\n",
    "\n",
    "plt.legend()\n",
    "plt.show()"
   ]
  },
  {
   "cell_type": "code",
   "execution_count": null,
   "metadata": {},
   "outputs": [],
   "source": []
  }
 ],
 "metadata": {
  "kernelspec": {
   "display_name": "pyscf_afqmc",
   "language": "python",
   "name": "python3"
  },
  "language_info": {
   "codemirror_mode": {
    "name": "ipython",
    "version": 3
   },
   "file_extension": ".py",
   "mimetype": "text/x-python",
   "name": "python",
   "nbconvert_exporter": "python",
   "pygments_lexer": "ipython3",
   "version": "3.10.16"
  }
 },
 "nbformat": 4,
 "nbformat_minor": 2
}
