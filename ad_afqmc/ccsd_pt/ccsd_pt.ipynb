{
 "cells": [
  {
   "cell_type": "code",
   "execution_count": 1,
   "id": "655561f0",
   "metadata": {},
   "outputs": [
    {
     "name": "stdout",
     "output_type": "stream",
     "text": [
      "System: uname_result(system='Linux', node='yichi-thinkpad', release='4.4.0-26100-Microsoft', version='#5074-Microsoft Fri Jan 01 08:00:00 PST 2016', machine='x86_64')  Threads 12\n",
      "Python 3.10.16 | packaged by conda-forge | (main, Dec  5 2024, 14:16:10) [GCC 13.3.0]\n",
      "numpy 1.24.3  scipy 1.14.1  h5py 3.12.1\n",
      "Date: Wed Oct 15 21:25:41 2025\n",
      "PySCF version 2.8.0\n",
      "PySCF path  /home/yichi/research/software/lno_pyscf\n",
      "GIT HEAD (branch master) ef75f4190e4de208685670651dc6c467f72b6794\n",
      "\n",
      "[ENV] PYSCF_EXT_PATH /home/yichi/research/software/pyscf\n",
      "[CONFIG] conf_file None\n",
      "[INPUT] verbose = 4\n",
      "[INPUT] num. atoms = 6\n",
      "[INPUT] num. electrons = 6\n",
      "[INPUT] charge = 0\n",
      "[INPUT] spin (= nelec alpha-beta = 2S) = 0\n",
      "[INPUT] symmetry False subgroup None\n",
      "[INPUT] Mole.unit = angstrom\n",
      "[INPUT] Symbol           X                Y                Z      unit          X                Y                Z       unit  Magmom\n",
      "[INPUT]  1 H      0.000000000000   0.000000000000   0.000000000000 AA    0.000000000000   0.000000000000   0.000000000000 Bohr   0.0\n",
      "[INPUT]  2 H      1.058350000000   0.000000000000   0.000000000000 AA    1.999991643933   0.000000000000   0.000000000000 Bohr   0.0\n",
      "[INPUT]  3 H      2.116700000000   0.000000000000   0.000000000000 AA    3.999983287867   0.000000000000   0.000000000000 Bohr   0.0\n",
      "[INPUT]  4 H      3.175050000000   0.000000000000   0.000000000000 AA    5.999974931800   0.000000000000   0.000000000000 Bohr   0.0\n",
      "[INPUT]  5 H      4.233400000000   0.000000000000   0.000000000000 AA    7.999966575734   0.000000000000   0.000000000000 Bohr   0.0\n",
      "[INPUT]  6 H      5.291750000000   0.000000000000   0.000000000000 AA    9.999958219667   0.000000000000   0.000000000000 Bohr   0.0\n",
      "\n",
      "nuclear repulsion = 4.35001817452072\n",
      "number of shells = 6\n",
      "number of NR pGTOs = 36\n",
      "number of NR cGTOs = 6\n",
      "basis = sto6g\n",
      "ecp = {}\n",
      "CPU time:         2.92\n",
      "\n",
      "\n",
      "******** <class 'pyscf.scf.hf.RHF'> ********\n",
      "method = RHF\n",
      "initial guess = minao\n",
      "damping factor = 0\n",
      "level_shift factor = 0\n",
      "DIIS = <class 'pyscf.scf.diis.CDIIS'>\n",
      "diis_start_cycle = 1\n",
      "diis_space = 8\n",
      "diis_damp = 0\n",
      "SCF conv_tol = 1e-09\n",
      "SCF conv_tol_grad = None\n",
      "SCF max_cycles = 50\n",
      "direct_scf = True\n",
      "direct_scf_tol = 1e-13\n",
      "chkfile to save SCF result = /tmp/tmpvnz31kxr\n",
      "max_memory 4000 MB (current use 163 MB)\n",
      "Set gradient conv threshold to 3.16228e-05\n",
      "Initial guess from minao.\n",
      "init E= -2.34370661990411\n",
      "  HOMO = -0.204361799759359  LUMO = 0.106539108617768\n",
      "cycle= 1 E= -3.1181132991511  delta_E= -0.774  |g|= 0.0942  |ddm|=  1.7\n",
      "  HOMO = -0.315362599615237  LUMO = 0.180114502089087\n",
      "cycle= 2 E= -3.12459607846574  delta_E= -0.00648  |g|= 0.032  |ddm|= 0.216\n",
      "  HOMO = -0.320542684951304  LUMO = 0.194003763009915\n",
      "cycle= 3 E= -3.12551964920147  delta_E= -0.000924  |g|= 0.00563  |ddm|= 0.0864\n",
      "  HOMO = -0.323443063040713  LUMO = 0.194149270085789\n",
      "cycle= 4 E= -3.12554513339438  delta_E= -2.55e-05  |g|= 0.000156  |ddm|= 0.0183\n",
      "  HOMO = -0.323336261253051  LUMO = 0.194097812032814\n",
      "cycle= 5 E= -3.12554514865948  delta_E= -1.53e-08  |g|= 1.07e-05  |ddm|= 0.000388\n",
      "  HOMO = -0.323350870118462  LUMO = 0.194104840203089\n",
      "cycle= 6 E= -3.12554514876611  delta_E= -1.07e-10  |g|= 4.73e-08  |ddm|= 3.52e-05\n",
      "  HOMO = -0.323350928454863  LUMO = 0.194104846426654\n",
      "Extra cycle  E= -3.12554514876611  delta_E= 1.78e-15  |g|= 1.34e-08  |ddm|= 8.48e-08\n",
      "converged SCF energy = -3.12554514876611\n",
      "\n",
      "******** <class 'pyscf.cc.ccsd.CCSD'> ********\n",
      "CC2 = 0\n",
      "CCSD nocc = 3, nmo = 6\n",
      "max_cycle = 50\n",
      "direct = 0\n",
      "conv_tol = 1e-07\n",
      "conv_tol_normt = 1e-05\n",
      "diis_space = 6\n",
      "diis_start_cycle = 0\n",
      "diis_start_energy_diff = 1e+09\n",
      "max_memory 4000 MB (current use 168 MB)\n",
      "Init t2, MP2 energy = -3.19409341156095  E_corr(MP2) -0.0685482627948468\n",
      "Init E_corr(CCSD) = -0.0685482627948469\n",
      "cycle = 1  E_corr(CCSD) = -0.0928170480093249  dE = -0.0242687852  norm(t1,t2) = 0.0704726\n",
      "cycle = 2  E_corr(CCSD) = -0.103305676035568  dE = -0.010488628  norm(t1,t2) = 0.037262\n",
      "cycle = 3  E_corr(CCSD) = -0.112421218002918  dE = -0.00911554197  norm(t1,t2) = 0.0196416\n",
      "cycle = 4  E_corr(CCSD) = -0.112936094899221  dE = -0.000514876896  norm(t1,t2) = 0.00493505\n",
      "cycle = 5  E_corr(CCSD) = -0.112730344205906  dE = 0.000205750693  norm(t1,t2) = 0.00230416\n",
      "cycle = 6  E_corr(CCSD) = -0.112807404784504  dE = -7.70605786e-05  norm(t1,t2) = 0.000440721\n",
      "cycle = 7  E_corr(CCSD) = -0.112785843698871  dE = 2.15610856e-05  norm(t1,t2) = 0.000148733\n",
      "cycle = 8  E_corr(CCSD) = -0.112782035245758  dE = 3.80845311e-06  norm(t1,t2) = 3.94096e-05\n",
      "cycle = 9  E_corr(CCSD) = -0.112782907101301  dE = -8.71855542e-07  norm(t1,t2) = 1.04962e-05\n",
      "cycle = 10  E_corr(CCSD) = -0.112784494795605  dE = -1.5876943e-06  norm(t1,t2) = 4.27436e-06\n",
      "cycle = 11  E_corr(CCSD) = -0.112784612678592  dE = -1.17882987e-07  norm(t1,t2) = 4.04949e-07\n",
      "cycle = 12  E_corr(CCSD) = -0.112784603148039  dE = 9.53055336e-09  norm(t1,t2) = 9.77405e-08\n",
      "CCSD converged\n",
      "E(CCSD) = -3.238329751914144  E_corr = -0.112784603148039\n"
     ]
    }
   ],
   "source": [
    "from pyscf import gto, scf, cc\n",
    "import numpy as np\n",
    "from jax import numpy as jnp\n",
    "from jax import vmap, jvp, jit\n",
    "import jax\n",
    "from functools import partial\n",
    "\n",
    "a = 1.05835 # 2aB\n",
    "nH = 6\n",
    "atoms = \"\"\n",
    "for i in range(nH):\n",
    "    atoms += f\"H {i*a:.5f} 0.00000 0.00000 \\n\"\n",
    "\n",
    "mol = gto.M(atom=atoms, basis=\"sto6g\", verbose=4)\n",
    "mol.build()\n",
    "\n",
    "mf = scf.RHF(mol)#.density_fit()\n",
    "e = mf.kernel()\n",
    "\n",
    "mycc = cc.CCSD(mf)\n",
    "e = mycc.kernel()"
   ]
  },
  {
   "cell_type": "code",
   "execution_count": null,
   "id": "b413f340",
   "metadata": {},
   "outputs": [],
   "source": [
    "# AFQMC energy: -8.7671 +/- 0.0010"
   ]
  },
  {
   "cell_type": "code",
   "execution_count": null,
   "id": "27a3c182",
   "metadata": {},
   "outputs": [
    {
     "name": "stdout",
     "output_type": "stream",
     "text": [
      "number of H2 monomers:             [ 1  2  4  8 16 25]\n",
      "AFQMC/CCSD_PT energy per monomer:  [-1.09617 -1.09611 -1.09614 -1.09617 -1.09615 -1.09621]\n"
     ]
    }
   ],
   "source": [
    "# import numpy as np\n",
    "# np.set_printoptions(5)\n",
    "# # AFQMC/CCSD_PT energy: -1.096171 +/- 0.000554\n",
    "# # AFQMC/CCSD_PT energy: -2.192221 +/- 0.001636\n",
    "# # AFQMC/CCSD_PT energy: -4.384578 +/- 0.006862\n",
    "# # AFQMC/CCSD_PT energy: -8.769366 +/- 0.019849\n",
    "# # AFQMC/CCSD_PT energy: -17.538377 +/- 0.091299\n",
    "# # AFQMC/CCSD_PT energy: -27.405295 +/- 0.246627\n",
    "# nm = np.array([1,2,4,8,16,25])\n",
    "# ept = np.array([-1.096171,-2.192221,-4.384578,-8.769366,-17.538377,-27.405295])\n",
    "# ept_perm = ept/nm\n",
    "# print('number of H2 monomers:            ', nm)\n",
    "# print('AFQMC/CCSD_PT energy per monomer: ', ept_perm)"
   ]
  },
  {
   "cell_type": "code",
   "execution_count": 16,
   "id": "15bc70bd",
   "metadata": {},
   "outputs": [
    {
     "name": "stdout",
     "output_type": "stream",
     "text": [
      "#\n",
      "# Preparing AFQMC calculation\n",
      "# If you import pyscf cc modules and use MPI for AFQMC in the same script, finalize MPI before calling the AFQMC driver.\n",
      "# Calculating Cholesky integrals\n",
      "# Finished calculating Cholesky integrals\n",
      "#\n",
      "# Size of the correlation space:\n",
      "# Number of electrons: (3, 3)\n",
      "# Number of basis functions: 6\n",
      "# Number of Cholesky vectors: 15\n",
      "#\n"
     ]
    }
   ],
   "source": [
    "options = {'n_eql': 4,\n",
    "           'n_prop_steps': 50,\n",
    "            'n_ene_blocks': 20,\n",
    "            'n_sr_blocks': 10,\n",
    "            'n_blocks': 10,\n",
    "            'n_walkers': 2,\n",
    "            'seed': 2,\n",
    "            'walker_type': 'rhf',\n",
    "            'trial': 'cisd',\n",
    "            'dt':0.005,\n",
    "            'free_projection':False,\n",
    "            'ad_mode':None,\n",
    "            'use_gpu': False,\n",
    "            }\n",
    "\n",
    "from ad_afqmc import pyscf_interface\n",
    "from ad_afqmc.cisd_perturb import sample_ccsd_pt, ccsd_pt\n",
    "mycc.t1 = mycc.t1*0\n",
    "ccsd_pt.prep_afqmc(mycc,chol_cut=1e-5)"
   ]
  },
  {
   "cell_type": "code",
   "execution_count": 11,
   "id": "a85d4af4",
   "metadata": {},
   "outputs": [],
   "source": [
    "from jax import lax\n",
    "@jax.jit\n",
    "def _t1t2_walker_olp(walker,wave_data):\n",
    "    ''' <psi_0(t1+t2)|phi> '''\n",
    "    t1, t2 = wave_data['t1'], wave_data['t2']\n",
    "    nocc = walker.shape[1]\n",
    "    GF = (walker.dot(jnp.linalg.inv(walker[: nocc, :]))).T\n",
    "    o0 = jnp.linalg.det(walker[: nocc, :]) ** 2\n",
    "    o1 = jnp.einsum(\"ia,ia\", t1, GF[:, nocc:])\n",
    "    o2 = 2 * jnp.einsum(\n",
    "        \"iajb, ia, jb\", t2, GF[:, nocc:], GF[:, nocc:]\n",
    "    ) - jnp.einsum(\"iajb, ib, ja\", t2, GF[:, nocc:], GF[:, nocc:])\n",
    "    return (2*o1 + o2) * o0\n",
    "\n",
    "@jax.jit\n",
    "def _t1t2_olp_exp1(x: float, h1_mod: jax.Array, walker: jax.Array,\n",
    "                  wave_data: dict) -> complex:\n",
    "    '''\n",
    "    t_ia <psi_i^a|exp(x*h1_mod)|walker>\n",
    "    '''\n",
    "    t = x * h1_mod\n",
    "    walker_1x = walker + t.dot(walker)\n",
    "    olp = _t1t2_walker_olp(walker_1x,wave_data)\n",
    "    return olp\n",
    "\n",
    "@jax.jit\n",
    "def _t1t2_olp_exp2(x: float, chol_i: jax.Array, walker: jax.Array,\n",
    "                  wave_data: dict) -> complex:\n",
    "    '''\n",
    "    t_ia <psi_i^a|exp(x*h2_mod)|walker>\n",
    "    '''\n",
    "    walker_2x = (\n",
    "            walker\n",
    "            + x * chol_i.dot(walker)\n",
    "            + x**2 / 2.0 * chol_i.dot(chol_i.dot(walker))\n",
    "        )\n",
    "    olp = _t1t2_walker_olp(walker_2x,wave_data)\n",
    "    return olp\n",
    "\n",
    "@partial(jit, static_argnums=3)\n",
    "def _et1t2(walker, ham_data, wave_data, trial, eps=3e-4):\n",
    "    ''' <psi_0|(t1+t2)(h1+h2)|phi>/<psi_0|phi> '''\n",
    "    norb = trial.norb\n",
    "    # h0 = ham_data['h0']\n",
    "    h1_mod = ham_data['h1_mod']\n",
    "    chol = ham_data[\"chol\"].reshape(-1, norb, norb)\n",
    "\n",
    "    # one body\n",
    "    x = 0.0\n",
    "    f1 = lambda a: _t1t2_olp_exp1(a,h1_mod,walker,wave_data)\n",
    "    olp_t, d_olp = jvp(f1, [x], [1.0])\n",
    "\n",
    "    # two body\n",
    "    # c_ij^ab <psi_ij^ab|phi_2x>/<psi_0|phi>\n",
    "    def scanned_fun(carry, c):\n",
    "        eps, walker, wave_data = carry\n",
    "        return carry, _t1t2_olp_exp2(eps,c,walker,wave_data)\n",
    "\n",
    "    _, olp_p = lax.scan(scanned_fun, (eps, walker, wave_data), chol)\n",
    "    _, olp_0 = lax.scan(scanned_fun, (0.0, walker, wave_data), chol)\n",
    "    _, olp_m = lax.scan(scanned_fun, (-1.0 * eps, walker, wave_data), chol)\n",
    "    d_2_olp = (olp_p - 2.0 * olp_0 + olp_m) / eps / eps\n",
    "    \n",
    "    o0 = trial._calc_overlap_restricted(walker, wave_data)\n",
    "    t = olp_t/o0\n",
    "    e0 = trial._calc_energy_restricted(walker,ham_data,wave_data)\n",
    "    e1 = (d_olp + jnp.sum(d_2_olp) / 2.0 ) / o0\n",
    "\n",
    "    return jnp.real(t), jnp.real(e0), jnp.real(e1)"
   ]
  },
  {
   "cell_type": "code",
   "execution_count": 13,
   "id": "974e2855",
   "metadata": {},
   "outputs": [],
   "source": [
    "def _cal_t1t2(trial,walker,wave_data):\n",
    "    nocc = trial.nelec[0]\n",
    "    green = (walker.dot(jnp.linalg.inv(walker[:nocc, :]))).T\n",
    "    green = green[:nocc,:]\n",
    "    green_occ = green[:, nocc:].copy()\n",
    "    t1 = wave_data['t1']\n",
    "    t2 = wave_data['t2']\n",
    "    t1g = jnp.einsum(\"ia,ia->\", t1, green_occ, optimize=\"optimal\")\n",
    "    t2g_c = jnp.einsum(\"iajb,ia->jb\", t2, green_occ)\n",
    "    t2g_e = jnp.einsum(\"iajb,ib->ja\", t2, green_occ)\n",
    "    t2g = 2 * t2g_c - t2g_e\n",
    "    gt2g = jnp.einsum(\"ia,ia->\", t2g, green_occ, optimize=\"optimal\")\n",
    "    t = 2 * t1g + gt2g\n",
    "    return jnp.real(t)"
   ]
  },
  {
   "cell_type": "code",
   "execution_count": 17,
   "id": "305d0117",
   "metadata": {},
   "outputs": [
    {
     "name": "stdout",
     "output_type": "stream",
     "text": [
      "# Number of MPI ranks: 1\n",
      "#\n",
      "# norb: 6\n",
      "# nelec: (3, 3)\n",
      "#\n",
      "# n_eql: 4\n",
      "# n_prop_steps: 50\n",
      "# n_ene_blocks: 20\n",
      "# n_sr_blocks: 10\n",
      "# n_blocks: 10\n",
      "# n_walkers: 2\n",
      "# seed: 2\n",
      "# walker_type: rhf\n",
      "# trial: cisd\n",
      "# dt: 0.005\n",
      "# free_projection: False\n",
      "# use_gpu: False\n",
      "# n_exp_terms: 6\n",
      "# orbital_rotation: True\n",
      "# do_sr: True\n",
      "# symmetry: False\n",
      "# save_walkers: False\n",
      "# ene0: 0.0\n",
      "# n_batch: 1\n",
      "# LNO: False\n",
      "# orbE: 0\n",
      "# maxError: 0.001\n",
      "#\n",
      "# Hostname: yichi-thinkpad\n",
      "# System Type: Linux\n",
      "# Machine Type: x86_64\n",
      "# Processor: x86_64\n"
     ]
    }
   ],
   "source": [
    "from ad_afqmc import config, mpi_jax, wavefunctions\n",
    "import time\n",
    "from jax import random\n",
    "ham_data, ham, prop, trial, wave_data, sampler, observable, options, _ \\\n",
    "    = (mpi_jax._prep_afqmc(options))\n",
    "trial = wavefunctions.rhf(trial.norb, trial.nelec,n_batch=trial.n_batch)\n",
    "\n",
    "norb = trial.norb\n",
    "chol = ham_data[\"chol\"].reshape(-1, norb, norb)\n",
    "h1 = (ham_data[\"h1\"][0] + ham_data[\"h1\"][1]) / 2.0\n",
    "v0 = 0.5 * jnp.einsum(\"gik,gjk->ij\",\n",
    "                        chol.reshape(-1, norb, norb),\n",
    "                        chol.reshape(-1, norb, norb),\n",
    "                        optimize=\"optimal\")\n",
    "\n",
    "nocc = wave_data['ci1'].shape[0]\n",
    "wave_data[\"mo_coeff\"] = np.eye(norb)[:,:nocc]\n",
    "ci1,ci2 = wave_data['ci1'],wave_data['ci2']\n",
    "t2 = ci2\n",
    "wave_data['t1'] = ci1\n",
    "wave_data['t2'] = t2\n",
    "\n",
    "h1_mod = h1 - v0 \n",
    "ham_data['h1_mod'] = h1_mod\n",
    "h0 = ham_data['h0']\n",
    "\n",
    "config.setup_jax()\n",
    "MPI = config.setup_comm()\n",
    "init = time.time()\n",
    "comm = MPI.COMM_WORLD\n",
    "size = comm.Get_size()\n",
    "rank = comm.Get_rank()\n",
    "seed = options[\"seed\"]\n",
    "neql = options[\"n_eql\"]\n",
    "\n",
    "trial_rdm1 = trial.get_rdm1(wave_data)\n",
    "if \"rdm1\" not in wave_data:\n",
    "    wave_data[\"rdm1\"] = trial_rdm1\n",
    "\n",
    "ham_data = ham.build_measurement_intermediates(ham_data, trial, wave_data)\n",
    "ham_data = ham.build_propagation_intermediates(\n",
    "    ham_data, prop, trial, wave_data\n",
    ")\n",
    "prop_data = prop.init_prop_data(trial, wave_data, ham_data, None)\n",
    "prop_data[\"key\"] = random.PRNGKey(seed + rank)"
   ]
  },
  {
   "cell_type": "code",
   "execution_count": 18,
   "id": "5906e461",
   "metadata": {},
   "outputs": [
    {
     "name": "stdout",
     "output_type": "stream",
     "text": [
      "mf energy:  -3.125545148766105\n",
      "ccsd energy with t1*0 t2:  -3.238323737449727\n"
     ]
    }
   ],
   "source": [
    "print('mf energy: ', mf.e_tot)\n",
    "eris = mycc.ao2mo(mycc.mo_coeff)\n",
    "eccsd = mycc.energy(mycc.t1*0, mycc.t2, eris)\n",
    "print('ccsd energy with t1*0 t2: ', mf.e_tot+eccsd)"
   ]
  },
  {
   "cell_type": "code",
   "execution_count": 19,
   "id": "152fa510",
   "metadata": {},
   "outputs": [
    {
     "name": "stdout",
     "output_type": "stream",
     "text": [
      "1.2522667347525385e-08\n",
      "-3.2383237346961025\n",
      "2.7536244395776066e-09\n",
      "-4.926548544408139e-32 -3.1255451362434377 -0.11277859845266498\n"
     ]
    }
   ],
   "source": [
    "walker = prop_data['walkers'][0]\n",
    "t, e0, e1 = _et1t2(walker, ham_data, wave_data, trial, eps=3e-4)\n",
    "print(e0-mf.e_tot)\n",
    "print(e0 + e1 - t*(e0-h0))\n",
    "print(e0 + e1 - t*(e0-h0) - (mf.e_tot+eccsd))\n",
    "print(t, e0, e1)"
   ]
  },
  {
   "cell_type": "code",
   "execution_count": 20,
   "id": "6c68af69",
   "metadata": {},
   "outputs": [
    {
     "data": {
      "text/plain": [
       "Array(-4.92654854e-32, dtype=float64)"
      ]
     },
     "execution_count": 20,
     "metadata": {},
     "output_type": "execute_result"
    }
   ],
   "source": [
    "_cal_t1t2(trial,walker,wave_data)"
   ]
  },
  {
   "cell_type": "code",
   "execution_count": 22,
   "id": "6796c377",
   "metadata": {},
   "outputs": [
    {
     "name": "stdout",
     "output_type": "stream",
     "text": [
      "2.1550087847543864e-07\n",
      "-3.2383235317178913\n",
      "2.0573183556749086e-07\n"
     ]
    }
   ],
   "source": [
    "e0, e1, t = ccsd_pt._ccsd_walker_energy_pt(walker,ham_data,wave_data,trial)\n",
    "print(h0 + e0-mf.e_tot)\n",
    "print(h0 + e0 + e1 - t*e0)\n",
    "print(h0 + e0 + e1 - t*e0 - (mf.e_tot+eccsd))"
   ]
  },
  {
   "cell_type": "code",
   "execution_count": 5,
   "id": "62c50af8",
   "metadata": {},
   "outputs": [],
   "source": [
    "from ad_afqmc.cisd_perturb import sample_pt2\n",
    "prop_data[\"n_killed_walkers\"] = 0"
   ]
  },
  {
   "cell_type": "code",
   "execution_count": 6,
   "id": "fe4ca319",
   "metadata": {},
   "outputs": [],
   "source": [
    "prop_data, (blk_wt, blk_t, blk_e0, blk_e1) = \\\n",
    "    sample_pt2._block_scan(prop_data,ham_data,prop,trial,wave_data,sampler)"
   ]
  },
  {
   "cell_type": "code",
   "execution_count": 86,
   "id": "cbdf8eca",
   "metadata": {},
   "outputs": [
    {
     "name": "stdout",
     "output_type": "stream",
     "text": [
      "[[ 0.00043 -0.00036 -0.00294]\n",
      " [-0.00036  0.00039  0.00236]\n",
      " [-0.00294  0.00236  0.02035]]\n"
     ]
    }
   ],
   "source": [
    "cov_te0e1 = np.cov([blk_t,blk_e0,blk_e1])\n",
    "print(cov_te0e1)"
   ]
  },
  {
   "cell_type": "code",
   "execution_count": 87,
   "id": "6ba6a2df",
   "metadata": {},
   "outputs": [
    {
     "data": {
      "text/plain": [
       "0.0007600322264764268"
      ]
     },
     "execution_count": 87,
     "metadata": {},
     "output_type": "execute_result"
    }
   ],
   "source": [
    "np.sqrt(dE @ cov_te0e1 @ dE)"
   ]
  },
  {
   "cell_type": "code",
   "execution_count": null,
   "id": "35695cff",
   "metadata": {},
   "outputs": [],
   "source": [
    "cov_te0e1 = np.cov(blk_e0,blk_t)\n",
    "cov_e0e1 = np.cov(blk_e0,blk_e1)\n",
    "cov_e1t = np.cov(blk_e1,blk_t)"
   ]
  },
  {
   "cell_type": "code",
   "execution_count": 28,
   "id": "4c4bdc94",
   "metadata": {},
   "outputs": [
    {
     "name": "stdout",
     "output_type": "stream",
     "text": [
      "[[ 6.67078e-05 -4.39983e-05]\n",
      " [-4.39983e-05  2.92440e-05]]\n",
      "[[6.67078e-05 4.99679e-06]\n",
      " [4.99679e-06 9.78546e-07]]\n",
      "[[ 9.78546e-07 -3.66370e-06]\n",
      " [-3.66370e-06  2.92440e-05]]\n"
     ]
    }
   ],
   "source": [
    "print(cov_e0t)\n",
    "print(cov_e0e1)\n",
    "print(cov_e1t)"
   ]
  }
 ],
 "metadata": {
  "kernelspec": {
   "display_name": "lno_pyscf_afqmc",
   "language": "python",
   "name": "python3"
  },
  "language_info": {
   "codemirror_mode": {
    "name": "ipython",
    "version": 3
   },
   "file_extension": ".py",
   "mimetype": "text/x-python",
   "name": "python",
   "nbconvert_exporter": "python",
   "pygments_lexer": "ipython3",
   "version": "3.10.16"
  }
 },
 "nbformat": 4,
 "nbformat_minor": 5
}
