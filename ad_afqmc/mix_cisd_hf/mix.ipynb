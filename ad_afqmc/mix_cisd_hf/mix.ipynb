{
 "cells": [
  {
   "cell_type": "code",
   "execution_count": 1,
   "id": "655561f0",
   "metadata": {},
   "outputs": [
    {
     "name": "stdout",
     "output_type": "stream",
     "text": [
      "System: uname_result(system='Linux', node='yichi-thinkpad', release='4.4.0-26100-Microsoft', version='#5074-Microsoft Fri Jan 01 08:00:00 PST 2016', machine='x86_64')  Threads 12\n",
      "Python 3.10.16 | packaged by conda-forge | (main, Dec  5 2024, 14:16:10) [GCC 13.3.0]\n",
      "numpy 1.24.3  scipy 1.14.1  h5py 3.12.1\n",
      "Date: Mon Oct  6 21:48:46 2025\n",
      "PySCF version 2.8.0\n",
      "PySCF path  /home/yichi/research/software/lno_pyscf\n",
      "GIT HEAD (branch master) ef75f4190e4de208685670651dc6c467f72b6794\n",
      "\n",
      "[ENV] PYSCF_EXT_PATH /home/yichi/research/software/pyscf\n",
      "[CONFIG] conf_file None\n",
      "[INPUT] verbose = 4\n",
      "[INPUT] num. atoms = 2\n",
      "[INPUT] num. electrons = 2\n",
      "[INPUT] charge = 0\n",
      "[INPUT] spin (= nelec alpha-beta = 2S) = 0\n",
      "[INPUT] symmetry False subgroup None\n",
      "[INPUT] Mole.unit = angstrom\n",
      "[INPUT] Symbol           X                Y                Z      unit          X                Y                Z       unit  Magmom\n",
      "[INPUT]  1 H      0.000000000000   0.000000000000   0.000000000000 AA    0.000000000000   0.000000000000   0.000000000000 Bohr   0.0\n",
      "[INPUT]  2 H      1.500000000000   0.000000000000   0.000000000000 AA    2.834589186848   0.000000000000   0.000000000000 Bohr   0.0\n",
      "\n",
      "nuclear repulsion = 0.35278480728\n",
      "number of shells = 8\n",
      "number of NR pGTOs = 8\n",
      "number of NR cGTOs = 8\n",
      "basis = crenbl\n",
      "ecp = {}\n",
      "CPU time:         4.25\n",
      "\n",
      "\n",
      "******** <class 'pyscf.scf.hf.RHF'> ********\n",
      "method = RHF\n",
      "initial guess = minao\n",
      "damping factor = 0\n",
      "level_shift factor = 0\n",
      "DIIS = <class 'pyscf.scf.diis.CDIIS'>\n",
      "diis_start_cycle = 1\n",
      "diis_space = 8\n",
      "diis_damp = 0\n",
      "SCF conv_tol = 1e-09\n",
      "SCF conv_tol_grad = None\n",
      "SCF max_cycles = 50\n",
      "direct_scf = True\n",
      "direct_scf_tol = 1e-13\n",
      "chkfile to save SCF result = /tmp/tmplusfff_c\n",
      "max_memory 4000 MB (current use 163 MB)\n",
      "Set gradient conv threshold to 3.16228e-05\n",
      "Initial guess from minao.\n",
      "init E= -0.678697404825683\n",
      "  HOMO = -0.316915215223423  LUMO = -0.0237045449724574\n",
      "cycle= 1 E= -0.999116390323455  delta_E= -0.32  |g|= 0.0204  |ddm|= 0.568\n",
      "  HOMO = -0.443041993047267  LUMO = 0.0326397661440374\n",
      "cycle= 2 E= -0.999209017623657  delta_E= -9.26e-05  |g|= 0.00266  |ddm|= 0.0207\n",
      "  HOMO = -0.442254160497698  LUMO = 0.0335966792913762\n",
      "cycle= 3 E= -0.999211565901144  delta_E= -2.55e-06  |g|= 0.00018  |ddm|= 0.0041\n",
      "  HOMO = -0.442147534100411  LUMO = 0.0337139281124188\n",
      "cycle= 4 E= -0.999211586423335  delta_E= -2.05e-08  |g|= 4.17e-06  |ddm|= 0.000356\n",
      "  HOMO = -0.442145202763419  LUMO = 0.033716686188724\n",
      "cycle= 5 E= -0.999211586433431  delta_E= -1.01e-11  |g|= 1.91e-09  |ddm|= 7.77e-06\n",
      "  HOMO = -0.442145198585738  LUMO = 0.0337166855856897\n",
      "Extra cycle  E= -0.999211586433431  delta_E= -2.22e-16  |g|= 3.95e-10  |ddm|= 3.21e-09\n",
      "converged SCF energy = -0.999211586433431\n",
      "\n",
      "******** <class 'pyscf.cc.ccsd.CCSD'> ********\n",
      "CC2 = 0\n",
      "CCSD nocc = 1, nmo = 8\n",
      "max_cycle = 50\n",
      "direct = 0\n",
      "conv_tol = 1e-07\n",
      "conv_tol_normt = 1e-05\n",
      "diis_space = 6\n",
      "diis_start_cycle = 0\n",
      "diis_start_energy_diff = 1e+09\n",
      "max_memory 4000 MB (current use 168 MB)\n",
      "Init t2, MP2 energy = -1.02927282065684  E_corr(MP2) -0.0300612342234115\n",
      "Init E_corr(CCSD) = -0.0300612342234115\n",
      "cycle = 1  E_corr(CCSD) = -0.0428679383049815  dE = -0.0128067041  norm(t1,t2) = 0.0775699\n",
      "cycle = 2  E_corr(CCSD) = -0.049678516702431  dE = -0.0068105784  norm(t1,t2) = 0.042529\n",
      "cycle = 3  E_corr(CCSD) = -0.0573897879459083  dE = -0.00771127124  norm(t1,t2) = 0.0229037\n",
      "cycle = 4  E_corr(CCSD) = -0.0571946330503875  dE = 0.000195154896  norm(t1,t2) = 0.000702007\n",
      "cycle = 5  E_corr(CCSD) = -0.0572868334463809  dE = -9.2200396e-05  norm(t1,t2) = 0.000237104\n",
      "cycle = 6  E_corr(CCSD) = -0.0572757946448674  dE = 1.10388015e-05  norm(t1,t2) = 5.68871e-05\n",
      "cycle = 7  E_corr(CCSD) = -0.0572720748343579  dE = 3.71981051e-06  norm(t1,t2) = 1.17152e-05\n",
      "cycle = 8  E_corr(CCSD) = -0.0572723783116863  dE = -3.03477328e-07  norm(t1,t2) = 7.83238e-07\n",
      "cycle = 9  E_corr(CCSD) = -0.0572723552568506  dE = 2.30548357e-08  norm(t1,t2) = 7.50313e-08\n",
      "CCSD converged\n",
      "E(CCSD) = -1.056483941690282  E_corr = -0.05727235525685061\n"
     ]
    }
   ],
   "source": [
    "from pyscf import gto, scf, cc\n",
    "import numpy as np\n",
    "from jax import numpy as jnp\n",
    "from jax import vmap, jvp, jit\n",
    "import jax\n",
    "from functools import partial\n",
    "\n",
    "a = 1.5 # 2aB\n",
    "nH = 2\n",
    "atoms = \"\"\n",
    "for i in range(nH):\n",
    "    atoms += f\"H {i*a:.5f} 0.00000 0.00000 \\n\"\n",
    "\n",
    "mol = gto.M(atom=atoms, basis=\"crenbl\", verbose=4)\n",
    "mol.build()\n",
    "\n",
    "mf = scf.RHF(mol)#.density_fit()\n",
    "e = mf.kernel()\n",
    "\n",
    "mycc = cc.CCSD(mf)\n",
    "e = mycc.kernel()"
   ]
  },
  {
   "cell_type": "code",
   "execution_count": 2,
   "id": "ac17ffeb",
   "metadata": {},
   "outputs": [],
   "source": [
    "options = {'n_eql': 4,\n",
    "           'n_prop_steps': 10,\n",
    "            'n_ene_blocks': 1,\n",
    "            'n_sr_blocks': 10,\n",
    "            'n_blocks': 10,\n",
    "            'n_walkers': 2,\n",
    "            'seed': 2,\n",
    "            'walker_type': 'rhf',\n",
    "            'trial': 'cisd',\n",
    "            'dt':0.005,\n",
    "            'free_projection':False,\n",
    "            'ad_mode':None,\n",
    "            'use_gpu': False,\n",
    "            }"
   ]
  },
  {
   "cell_type": "code",
   "execution_count": 4,
   "id": "bea81633",
   "metadata": {},
   "outputs": [
    {
     "name": "stdout",
     "output_type": "stream",
     "text": [
      "# Hostname: yichi-thinkpad\n",
      "# System Type: Linux\n",
      "# Machine Type: x86_64\n",
      "# Processor: x86_64\n",
      "#\n",
      "# Preparing AFQMC calculation\n",
      "# If you import pyscf cc modules and use MPI for AFQMC in the same script, finalize MPI before calling the AFQMC driver.\n",
      "# Calculating Cholesky integrals\n",
      "# Finished calculating Cholesky integrals\n",
      "#\n",
      "# Size of the correlation space:\n",
      "# Number of electrons: (1, 1)\n",
      "# Number of basis functions: 8\n",
      "# Number of Cholesky vectors: 26\n",
      "#\n",
      "# Number of MPI ranks: 1\n",
      "#\n",
      "# norb: 8\n",
      "# nelec: (1, 1)\n",
      "#\n",
      "# n_eql: 4\n",
      "# n_prop_steps: 10\n",
      "# n_ene_blocks: 1\n",
      "# n_sr_blocks: 10\n",
      "# n_blocks: 10\n",
      "# n_walkers: 2\n",
      "# seed: 2\n",
      "# walker_type: rhf\n",
      "# trial: cisd\n",
      "# dt: 0.005\n",
      "# free_projection: False\n",
      "# use_gpu: False\n",
      "# n_exp_terms: 6\n",
      "# orbital_rotation: True\n",
      "# do_sr: True\n",
      "# symmetry: False\n",
      "# save_walkers: False\n",
      "# ene0: 0.0\n",
      "# n_batch: 1\n",
      "# LNO: False\n",
      "# orbE: 0\n",
      "# maxError: 0.001\n",
      "#\n"
     ]
    }
   ],
   "source": [
    "from ad_afqmc import pyscf_interface, mpi_jax, wavefunctions\n",
    "from ad_afqmc.mix_cisd_hf import propgate_mix\n",
    "\n",
    "pyscf_interface.prep_afqmc(mycc,chol_cut=1e-7)\n",
    "ham_data, ham, prop, trial, wave_data, sampler, observable, options, _ \\\n",
    "    = (mpi_jax._prep_afqmc(options))"
   ]
  },
  {
   "cell_type": "code",
   "execution_count": 13,
   "id": "2e4a0615",
   "metadata": {},
   "outputs": [
    {
     "name": "stdout",
     "output_type": "stream",
     "text": [
      "(1, 7)\n",
      "(1, 7, 1, 7)\n"
     ]
    }
   ],
   "source": [
    "print(wave_data['ci1'].shape)\n",
    "print(wave_data['ci2'].shape)"
   ]
  },
  {
   "cell_type": "code",
   "execution_count": 14,
   "id": "9714e3d1",
   "metadata": {},
   "outputs": [
    {
     "name": "stdout",
     "output_type": "stream",
     "text": [
      "8\n"
     ]
    }
   ],
   "source": [
    "print(ham_data['h1'].shape[1])"
   ]
  },
  {
   "cell_type": "code",
   "execution_count": 15,
   "id": "69c16efa",
   "metadata": {},
   "outputs": [
    {
     "data": {
      "text/plain": [
       "cisd(norb=8, nelec=(1, 1), n_batch=1)"
      ]
     },
     "execution_count": 15,
     "metadata": {},
     "output_type": "execute_result"
    }
   ],
   "source": [
    "trial"
   ]
  },
  {
   "cell_type": "code",
   "execution_count": 1,
   "id": "00fe3b8a",
   "metadata": {},
   "outputs": [
    {
     "data": {
      "text/plain": [
       "-2.217746120362128"
      ]
     },
     "execution_count": 1,
     "metadata": {},
     "output_type": "execute_result"
    }
   ],
   "source": [
    "-1.108873060181064*2"
   ]
  },
  {
   "cell_type": "code",
   "execution_count": null,
   "id": "b2008563",
   "metadata": {},
   "outputs": [
    {
     "name": "stdout",
     "output_type": "stream",
     "text": [
      "-4.361342\n",
      "-6.542012999999999\n"
     ]
    }
   ],
   "source": [
    "#######   use RHF as Guide wave   ########\n",
    "# H4  AFQMC energy: -2.180671 +/- 0.000062\n",
    "# H8  AFQMC energy: -4.360059 +/- 0.000071\n",
    "# H12 AFQMC energy: -6.537972 +/- 0.000116\n",
    "##########################################\n",
    "print(-2.180671*2)\n",
    "print(-2.180671*3)"
   ]
  },
  {
   "cell_type": "code",
   "execution_count": 12,
   "id": "6a8cf57e",
   "metadata": {},
   "outputs": [
    {
     "name": "stdout",
     "output_type": "stream",
     "text": [
      "-4.361866\n",
      "-6.5427990000000005\n"
     ]
    }
   ],
   "source": [
    "# H4\n",
    "# AFQMC/CISD_PT energy: -2.182616 +/- 0.003660\n",
    "# AFQMC/CISD_OG energy: -2.180933 +/- 0.000049\n",
    "# H8\n",
    "# AFQMC/CISD_PT energy: -4.382249 +/- 0.006155\n",
    "# AFQMC/CISD_OG energy: -4.361717 +/-   None\n",
    "# H12\n",
    "# AFQMC/CISD_PT energy: -6.601673 +/- 0.008651\n",
    "# AFQMC/CISD_OG energy: -6.542164 +/- 0.000461\n",
    "print(-2.180933*2)\n",
    "print(-2.180933*3)"
   ]
  },
  {
   "cell_type": "code",
   "execution_count": 17,
   "id": "43b3678d",
   "metadata": {},
   "outputs": [],
   "source": [
    "nao = trial.norb\n",
    "nocc = wave_data['ci1'].shape[0]\n",
    "wave_data[\"mo_coeff\"] = np.eye(nao)[:,:nocc]"
   ]
  },
  {
   "cell_type": "code",
   "execution_count": 18,
   "id": "de857f8c",
   "metadata": {},
   "outputs": [
    {
     "name": "stdout",
     "output_type": "stream",
     "text": [
      "[[1.]\n",
      " [0.]\n",
      " [0.]\n",
      " [0.]\n",
      " [0.]\n",
      " [0.]\n",
      " [0.]\n",
      " [0.]]\n"
     ]
    }
   ],
   "source": [
    "print(wave_data['mo_coeff'])"
   ]
  },
  {
   "cell_type": "code",
   "execution_count": 5,
   "id": "db93a44b",
   "metadata": {},
   "outputs": [
    {
     "name": "stdout",
     "output_type": "stream",
     "text": [
      "-1.056483939212803\n",
      "-1.0564839416902816\n",
      "2.4774786666625914e-09\n"
     ]
    }
   ],
   "source": [
    "from mpi4py import MPI\n",
    "from jax import random\n",
    "\n",
    "comm = MPI.COMM_WORLD\n",
    "size = comm.Get_size()\n",
    "rank = comm.Get_rank()\n",
    "seed = options[\"seed\"]\n",
    "neql = options[\"n_eql\"]\n",
    "\n",
    "# trial_rdm1 = trial.get_rdm1(wave_data)\n",
    "# if \"rdm1\" not in wave_data:\n",
    "#     wave_data[\"rdm1\"] = trial_rdm1\n",
    "\n",
    "ham_data = ham.build_measurement_intermediates(ham_data, trial, wave_data)\n",
    "ham_data = ham.build_propagation_intermediates(ham_data, prop, trial, wave_data)\n",
    "\n",
    "init_walkers = None\n",
    "prop_data = prop.init_prop_data(trial, wave_data, ham_data, init_walkers)\n",
    "prop_data['n_killed_walkers'] = 0\n",
    "prop_data[\"key\"] = random.PRNGKey(seed + rank)\n",
    "init_walker = prop_data['walkers'][0]\n",
    "print(prop_data['e_estimate'])\n",
    "print(mycc.e_tot)\n",
    "print(prop_data['e_estimate']-mycc.e_tot)\n",
    "# e_pt,e_og = _calc_ept(init_walker, ham_data, wave_data)\n",
    "# print(e_pt,e_og)\n",
    "# print(e_pt-e_og)\n",
    "# e_pt,e_og = calc_ept(prop_data['walkers'], ham_data, wave_data)\n",
    "# print(e_pt)\n",
    "# print(e_og)"
   ]
  },
  {
   "cell_type": "code",
   "execution_count": null,
   "id": "97dbfad2",
   "metadata": {},
   "outputs": [
    {
     "data": {
      "text/plain": [
       "cisd(norb=8, nelec=(1, 1), n_batch=1)"
      ]
     },
     "execution_count": 8,
     "metadata": {},
     "output_type": "execute_result"
    }
   ],
   "source": [
    "prop_data['esmi']"
   ]
  },
  {
   "cell_type": "code",
   "execution_count": null,
   "id": "3c8a7d57",
   "metadata": {},
   "outputs": [],
   "source": [
    "@partial(jit, static_argnums=(0, 1))\n",
    "def propagate_mix(\n",
    "    prop,\n",
    "    trial,\n",
    "    ham_data: dict,\n",
    "    prop_data: dict,\n",
    "    fields: jax.Array,\n",
    "    wave_data: dict,\n",
    ") -> dict:\n",
    "    \"\"\"Phaseless AFQMC propagation.\n",
    "\n",
    "    Args:\n",
    "        trial: trial wave function handler\n",
    "        ham_data: dictionary containing the Hamiltonian data\n",
    "        prop_data: dictionary containing the propagation data\n",
    "        fields: auxiliary fields\n",
    "        wave_data: wave function data\n",
    "\n",
    "    Returns:\n",
    "        prop_data: dictionary containing the updated propagation data\n",
    "    \"\"\"\n",
    "    guide = wavefunctions.rhf(trial.norb,trial.nelec,trial.n_batch)\n",
    "    force_bias = guide.calc_force_bias(prop_data[\"walkers\"], ham_data, wave_data)\n",
    "    field_shifts = -jnp.sqrt(prop.dt) * (1.0j * force_bias - ham_data[\"mf_shifts\"])\n",
    "    shifted_fields = fields - field_shifts\n",
    "    shift_term = jnp.sum(shifted_fields * ham_data[\"mf_shifts\"], axis=1)\n",
    "    fb_term = jnp.sum(\n",
    "        fields * field_shifts - field_shifts * field_shifts / 2.0, axis=1\n",
    "    )\n",
    "\n",
    "    prop_data[\"walkers\"] = prop._apply_trotprop(\n",
    "        ham_data, prop_data[\"walkers\"], shifted_fields\n",
    "    )\n",
    "\n",
    "    overlaps_new = guide.calc_overlap(prop_data[\"walkers\"], wave_data)\n",
    "    imp_fun = (\n",
    "        jnp.exp(\n",
    "            -jnp.sqrt(prop.dt) * shift_term\n",
    "            + fb_term\n",
    "            + prop.dt * (prop_data[\"pop_control_ene_shift\"] + ham_data[\"h0_prop\"])\n",
    "        )\n",
    "        * overlaps_new\n",
    "        / prop_data[\"overlaps\"]\n",
    "    )\n",
    "    theta = jnp.angle(\n",
    "        jnp.exp(-jnp.sqrt(prop.dt) * shift_term)\n",
    "        * overlaps_new\n",
    "        / prop_data[\"overlaps\"]\n",
    "    )\n",
    "    imp_fun_phaseless = jnp.abs(imp_fun) * jnp.cos(theta)\n",
    "    imp_fun_phaseless = jnp.array(\n",
    "        jnp.where(jnp.isnan(imp_fun_phaseless), 0.0, imp_fun_phaseless)\n",
    "    )\n",
    "    imp_fun_phaseless = jnp.where(\n",
    "        imp_fun_phaseless < 1.0e-3, 0.0, imp_fun_phaseless\n",
    "    )\n",
    "    imp_fun_phaseless = jnp.where(imp_fun_phaseless > 100.0, 0.0, imp_fun_phaseless)\n",
    "    # prop_data[\"imp_fun\"] = imp_fun_phaseless\n",
    "    prop_data[\"weights\"] = imp_fun_phaseless * prop_data[\"weights\"]\n",
    "    prop_data[\"weights\"] = jnp.array(\n",
    "        jnp.where(prop_data[\"weights\"] > 100, 0.0, prop_data[\"weights\"])\n",
    "    )\n",
    "    prop_data[\"pop_control_ene_shift\"] = prop_data[\"e_estimate\"] - 0.1 * jnp.array(\n",
    "        jnp.log(jnp.sum(prop_data[\"weights\"]) / prop.n_walkers) / prop.dt\n",
    "    )\n",
    "    prop_data[\"overlaps\"] = overlaps_new\n",
    "    return prop_data"
   ]
  },
  {
   "cell_type": "code",
   "execution_count": null,
   "id": "b6d946c2",
   "metadata": {},
   "outputs": [
    {
     "ename": "ValueError",
     "evalue": "Non-hashable static arguments are not supported, as this can lead to unexpected cache-misses. Static argument (index 5) of type <class 'dict'> for function _block_scan is non-hashable.",
     "output_type": "error",
     "traceback": [
      "\u001b[0;31m---------------------------------------------------------------------------\u001b[0m",
      "\u001b[0;31mValueError\u001b[0m                                Traceback (most recent call last)",
      "Cell \u001b[0;32mIn[7], line 2\u001b[0m\n\u001b[1;32m      1\u001b[0m prop_data, (block_energy, block_weight) \\\n\u001b[0;32m----> 2\u001b[0m     \u001b[38;5;241m=\u001b[39m \u001b[43msampler\u001b[49m\u001b[38;5;241;43m.\u001b[39;49m\u001b[43m_block_scan\u001b[49m\u001b[43m(\u001b[49m\u001b[43mprop_data\u001b[49m\u001b[43m,\u001b[49m\u001b[43mham_data\u001b[49m\u001b[43m,\u001b[49m\u001b[43mprop\u001b[49m\u001b[43m,\u001b[49m\u001b[43mtrial\u001b[49m\u001b[43m,\u001b[49m\u001b[43mwave_data\u001b[49m\u001b[43m)\u001b[49m\n",
      "    \u001b[0;31m[... skipping hidden 5 frame]\u001b[0m\n",
      "File \u001b[0;32m~/research/software/miniconda3/envs/lno_pyscf_afqmc/lib/python3.10/site-packages/jax/_src/api_util.py:271\u001b[0m, in \u001b[0;36margnums_partial_except\u001b[0;34m(f, static_argnums, args, allow_invalid)\u001b[0m\n\u001b[1;32m    269\u001b[0m static_arg \u001b[38;5;241m=\u001b[39m args[i]\n\u001b[1;32m    270\u001b[0m \u001b[38;5;28;01mif\u001b[39;00m \u001b[38;5;129;01mnot\u001b[39;00m is_hashable(static_arg):\n\u001b[0;32m--> 271\u001b[0m   \u001b[38;5;28;01mraise\u001b[39;00m \u001b[38;5;167;01mValueError\u001b[39;00m(\n\u001b[1;32m    272\u001b[0m       \u001b[38;5;124m\"\u001b[39m\u001b[38;5;124mNon-hashable static arguments are not supported, as this can lead \u001b[39m\u001b[38;5;124m\"\u001b[39m\n\u001b[1;32m    273\u001b[0m       \u001b[38;5;124mf\u001b[39m\u001b[38;5;124m\"\u001b[39m\u001b[38;5;124mto unexpected cache-misses. Static argument (index \u001b[39m\u001b[38;5;132;01m{\u001b[39;00mi\u001b[38;5;132;01m}\u001b[39;00m\u001b[38;5;124m) of type \u001b[39m\u001b[38;5;124m\"\u001b[39m\n\u001b[1;32m    274\u001b[0m       \u001b[38;5;124mf\u001b[39m\u001b[38;5;124m\"\u001b[39m\u001b[38;5;132;01m{\u001b[39;00m\u001b[38;5;28mtype\u001b[39m(static_arg)\u001b[38;5;132;01m}\u001b[39;00m\u001b[38;5;124m for function \u001b[39m\u001b[38;5;132;01m{\u001b[39;00mf\u001b[38;5;241m.\u001b[39m\u001b[38;5;18m__name__\u001b[39m\u001b[38;5;132;01m}\u001b[39;00m\u001b[38;5;124m is non-hashable.\u001b[39m\u001b[38;5;124m\"\u001b[39m)\n\u001b[1;32m    275\u001b[0m \u001b[38;5;28;01melse\u001b[39;00m:\n\u001b[1;32m    276\u001b[0m   fixed_args\u001b[38;5;241m.\u001b[39mappend(_HashableWithStrictTypeEquality(static_arg))\n",
      "\u001b[0;31mValueError\u001b[0m: Non-hashable static arguments are not supported, as this can lead to unexpected cache-misses. Static argument (index 5) of type <class 'dict'> for function _block_scan is non-hashable."
     ]
    }
   ],
   "source": [
    "prop_data, (block_energy, block_weight) \\\n",
    "    = sampler._block_scan(prop_data,None,ham_data,prop,trial,wave_data)"
   ]
  },
  {
   "cell_type": "code",
   "execution_count": 5,
   "id": "1ba6580a",
   "metadata": {},
   "outputs": [
    {
     "ename": "NameError",
     "evalue": "name 'prop_data' is not defined",
     "output_type": "error",
     "traceback": [
      "\u001b[0;31m---------------------------------------------------------------------------\u001b[0m",
      "\u001b[0;31mNameError\u001b[0m                                 Traceback (most recent call last)",
      "Cell \u001b[0;32mIn[5], line 1\u001b[0m\n\u001b[0;32m----> 1\u001b[0m trial\u001b[38;5;241m.\u001b[39m_calc_energy_restricted(\u001b[43mprop_data\u001b[49m[\u001b[38;5;124m'\u001b[39m\u001b[38;5;124mwalkers\u001b[39m\u001b[38;5;124m'\u001b[39m][\u001b[38;5;241m0\u001b[39m], ham_data, wave_data)\n",
      "\u001b[0;31mNameError\u001b[0m: name 'prop_data' is not defined"
     ]
    }
   ],
   "source": [
    "trial._calc_energy_restricted(prop_data['walkers'][0], ham_data, wave_data)"
   ]
  },
  {
   "cell_type": "code",
   "execution_count": null,
   "id": "7b658a95",
   "metadata": {},
   "outputs": [],
   "source": []
  }
 ],
 "metadata": {
  "kernelspec": {
   "display_name": "lno_pyscf_afqmc",
   "language": "python",
   "name": "python3"
  },
  "language_info": {
   "codemirror_mode": {
    "name": "ipython",
    "version": 3
   },
   "file_extension": ".py",
   "mimetype": "text/x-python",
   "name": "python",
   "nbconvert_exporter": "python",
   "pygments_lexer": "ipython3",
   "version": "3.10.16"
  }
 },
 "nbformat": 4,
 "nbformat_minor": 5
}
