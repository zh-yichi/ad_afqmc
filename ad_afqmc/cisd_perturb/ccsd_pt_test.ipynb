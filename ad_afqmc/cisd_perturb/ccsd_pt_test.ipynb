{
 "cells": [
  {
   "cell_type": "code",
   "execution_count": 1,
   "id": "655561f0",
   "metadata": {},
   "outputs": [
    {
     "name": "stdout",
     "output_type": "stream",
     "text": [
      "System: uname_result(system='Linux', node='yichi-thinkpad', release='4.4.0-26100-Microsoft', version='#5074-Microsoft Fri Jan 01 08:00:00 PST 2016', machine='x86_64')  Threads 12\n",
      "Python 3.10.16 | packaged by conda-forge | (main, Dec  5 2024, 14:16:10) [GCC 13.3.0]\n",
      "numpy 1.24.3  scipy 1.14.1  h5py 3.12.1\n",
      "Date: Thu Oct  9 22:14:27 2025\n",
      "PySCF version 2.8.0\n",
      "PySCF path  /home/yichi/research/software/lno_pyscf\n",
      "GIT HEAD (branch master) ef75f4190e4de208685670651dc6c467f72b6794\n",
      "\n",
      "[ENV] PYSCF_EXT_PATH /home/yichi/research/software/pyscf\n",
      "[CONFIG] conf_file None\n",
      "[INPUT] verbose = 4\n",
      "[INPUT] num. atoms = 2\n",
      "[INPUT] num. electrons = 2\n",
      "[INPUT] charge = 0\n",
      "[INPUT] spin (= nelec alpha-beta = 2S) = 0\n",
      "[INPUT] symmetry False subgroup None\n",
      "[INPUT] Mole.unit = angstrom\n",
      "[INPUT] Symbol           X                Y                Z      unit          X                Y                Z       unit  Magmom\n",
      "[INPUT]  1 H      0.000000000000   0.000000000000   0.000000000000 AA    0.000000000000   0.000000000000   0.000000000000 Bohr   0.0\n",
      "[INPUT]  2 H      1.058350000000   0.000000000000   0.000000000000 AA    1.999991643933   0.000000000000   0.000000000000 Bohr   0.0\n",
      "\n",
      "nuclear repulsion = 0.50000208902537\n",
      "number of shells = 6\n",
      "number of NR pGTOs = 14\n",
      "number of NR cGTOs = 10\n",
      "basis = ccpvdz\n",
      "ecp = {}\n",
      "CPU time:         5.03\n",
      "\n",
      "\n",
      "******** <class 'pyscf.scf.hf.RHF'> ********\n",
      "method = RHF\n",
      "initial guess = minao\n",
      "damping factor = 0\n",
      "level_shift factor = 0\n",
      "DIIS = <class 'pyscf.scf.diis.CDIIS'>\n",
      "diis_start_cycle = 1\n",
      "diis_space = 8\n",
      "diis_damp = 0\n",
      "SCF conv_tol = 1e-09\n",
      "SCF conv_tol_grad = None\n",
      "SCF max_cycles = 50\n",
      "direct_scf = True\n",
      "direct_scf_tol = 1e-13\n",
      "chkfile to save SCF result = /tmp/tmpmwah3js2\n",
      "max_memory 4000 MB (current use 163 MB)\n",
      "Set gradient conv threshold to 3.16228e-05\n",
      "Initial guess from minao.\n",
      "init E= -0.748858511004994\n",
      "  HOMO = -0.426161068043636  LUMO = 0.0766877521797009\n",
      "cycle= 1 E= -1.08857074742192  delta_E= -0.34  |g|= 0.043  |ddm|= 0.654\n",
      "  HOMO = -0.517282475779981  LUMO = 0.126925501581589\n",
      "cycle= 2 E= -1.08926784480653  delta_E= -0.000697  |g|= 0.00615  |ddm|= 0.0304\n",
      "  HOMO = -0.512615488754335  LUMO = 0.130822131736061\n",
      "cycle= 3 E= -1.08928341525217  delta_E= -1.56e-05  |g|= 0.000131  |ddm|= 0.00573\n",
      "  HOMO = -0.51252067419782  LUMO = 0.130887105448924\n",
      "cycle= 4 E= -1.0892834232258  delta_E= -7.97e-09  |g|= 2.83e-07  |ddm|= 0.000193\n",
      "  HOMO = -0.512524548559241  LUMO = 0.130887195511895\n",
      "cycle= 5 E= -1.08928342322583  delta_E= -3.02e-14  |g|= 2.03e-12  |ddm|= 3.59e-07\n",
      "  HOMO = -0.512524548555685  LUMO = 0.130887195512481\n",
      "Extra cycle  E= -1.08928342322583  delta_E= -4.44e-16  |g|= 3.87e-13  |ddm|= 2.72e-12\n",
      "converged SCF energy = -1.08928342322583\n",
      "\n",
      "******** <class 'pyscf.cc.ccsd.CCSD'> ********\n",
      "CC2 = 0\n",
      "CCSD nocc = 1, nmo = 10\n",
      "max_cycle = 50\n",
      "direct = 0\n",
      "conv_tol = 1e-07\n",
      "conv_tol_normt = 1e-05\n",
      "diis_space = 6\n",
      "diis_start_cycle = 0\n",
      "diis_start_energy_diff = 1e+09\n",
      "max_memory 4000 MB (current use 168 MB)\n",
      "Init t2, MP2 energy = -1.11856426985671  E_corr(MP2) -0.0292808466308855\n",
      "Init E_corr(CCSD) = -0.0292808466308855\n",
      "cycle = 1  E_corr(CCSD) = -0.0366681768495847  dE = -0.00738733022  norm(t1,t2) = 0.0358524\n",
      "cycle = 2  E_corr(CCSD) = -0.0393172372684806  dE = -0.00264906042  norm(t1,t2) = 0.0159802\n",
      "cycle = 3  E_corr(CCSD) = -0.0414295334725637  dE = -0.0021122962  norm(t1,t2) = 0.00764068\n",
      "cycle = 4  E_corr(CCSD) = -0.0414050511061613  dE = 2.44823664e-05  norm(t1,t2) = 0.000501303\n",
      "cycle = 5  E_corr(CCSD) = -0.0414058293303082  dE = -7.78224147e-07  norm(t1,t2) = 2.79176e-05\n",
      "cycle = 6  E_corr(CCSD) = -0.0414043951315537  dE = 1.43419875e-06  norm(t1,t2) = 4.80628e-06\n",
      "cycle = 7  E_corr(CCSD) = -0.0414045100372144  dE = -1.14905661e-07  norm(t1,t2) = 6.11817e-07\n",
      "cycle = 8  E_corr(CCSD) = -0.0414044922301437  dE = 1.78070707e-08  norm(t1,t2) = 8.66733e-08\n",
      "CCSD converged\n",
      "E(CCSD) = -1.130687915455971  E_corr = -0.04140449223014366\n"
     ]
    }
   ],
   "source": [
    "from pyscf import gto, scf, cc\n",
    "import numpy as np\n",
    "from jax import numpy as jnp\n",
    "from jax import vmap, jvp, jit\n",
    "import jax\n",
    "from functools import partial\n",
    "\n",
    "a = 1.05835 # 2aB\n",
    "nH = 2\n",
    "atoms = \"\"\n",
    "for i in range(nH):\n",
    "    atoms += f\"H {i*a:.5f} 0.00000 0.00000 \\n\"\n",
    "\n",
    "mol = gto.M(atom=atoms, basis=\"ccpvdz\", verbose=4)\n",
    "mol.build()\n",
    "\n",
    "mf = scf.RHF(mol)#.density_fit()\n",
    "e = mf.kernel()\n",
    "\n",
    "mycc = cc.CCSD(mf)\n",
    "e = mycc.kernel()"
   ]
  },
  {
   "cell_type": "code",
   "execution_count": 2,
   "id": "15bc70bd",
   "metadata": {},
   "outputs": [
    {
     "name": "stdout",
     "output_type": "stream",
     "text": [
      "#\n",
      "# Preparing AFQMC calculation\n",
      "# If you import pyscf cc modules and use MPI for AFQMC in the same script, finalize MPI before calling the AFQMC driver.\n",
      "# Calculating Cholesky integrals\n",
      "# Finished calculating Cholesky integrals\n",
      "#\n",
      "# Size of the correlation space:\n",
      "# Number of electrons: (1, 1)\n",
      "# Number of basis functions: 10\n",
      "# Number of Cholesky vectors: 53\n",
      "#\n"
     ]
    }
   ],
   "source": [
    "from ad_afqmc.cisd_perturb import ccsd_pt\n",
    "options = {'n_eql': 4,\n",
    "           'n_prop_steps': 50,\n",
    "            'n_ene_blocks': 5,\n",
    "            'n_sr_blocks': 10,\n",
    "            'n_blocks': 10,\n",
    "            'n_walkers': 40,\n",
    "            'seed': 2,\n",
    "            'walker_type': 'rhf',\n",
    "            'trial': 'cisd',\n",
    "            'dt':0.005,\n",
    "            'free_projection':False,\n",
    "            'ad_mode':None,\n",
    "            'use_gpu': False,\n",
    "            }\n",
    "\n",
    "from ad_afqmc import pyscf_interface\n",
    "from ad_afqmc.cisd_perturb import sample_pt2\n",
    "pyscf_interface.prep_afqmc(mycc,chol_cut=1e-7)"
   ]
  },
  {
   "cell_type": "code",
   "execution_count": 8,
   "id": "305d0117",
   "metadata": {},
   "outputs": [
    {
     "name": "stdout",
     "output_type": "stream",
     "text": [
      "# Number of MPI ranks: 1\n",
      "#\n",
      "# norb: 10\n",
      "# nelec: (1, 1)\n",
      "#\n",
      "# n_eql: 4\n",
      "# n_prop_steps: 50\n",
      "# n_ene_blocks: 5\n",
      "# n_sr_blocks: 10\n",
      "# n_blocks: 10\n",
      "# n_walkers: 40\n",
      "# seed: 2\n",
      "# walker_type: rhf\n",
      "# trial: cisd\n",
      "# dt: 0.005\n",
      "# free_projection: False\n",
      "# use_gpu: False\n",
      "# n_exp_terms: 6\n",
      "# orbital_rotation: True\n",
      "# do_sr: True\n",
      "# symmetry: False\n",
      "# save_walkers: False\n",
      "# n_batch: 1\n",
      "# ene0: 0\n",
      "# LNO: False\n",
      "# orbE: 0\n",
      "# maxError: 0.001\n",
      "#\n",
      "# Hostname: yichi-thinkpad\n",
      "# System Type: Linux\n",
      "# Machine Type: x86_64\n",
      "# Processor: x86_64\n"
     ]
    }
   ],
   "source": [
    "from ad_afqmc import config, mpi_jax, wavefunctions\n",
    "import time\n",
    "from jax import random\n",
    "ham_data, ham, prop, trial, wave_data, sampler, observable, options, _ \\\n",
    "    = (mpi_jax._prep_afqmc())\n",
    "\n",
    "norb = trial.norb\n",
    "chol = ham_data[\"chol\"].reshape(-1, norb, norb)\n",
    "h1 = (ham_data[\"h1\"][0] + ham_data[\"h1\"][1]) / 2.0\n",
    "v0 = 0.5 * jnp.einsum(\"gik,gjk->ij\",\n",
    "                        chol.reshape(-1, norb, norb),\n",
    "                        chol.reshape(-1, norb, norb),\n",
    "                        optimize=\"optimal\")\n",
    "\n",
    "nocc = wave_data['ci1'].shape[0]\n",
    "wave_data[\"mo_coeff\"] = np.eye(norb)[:,:nocc]\n",
    "ci1,ci2 = wave_data['ci1'],wave_data['ci2']\n",
    "t2 = ci2 - jnp.einsum('ia,jb->iajb',ci1,ci1)\n",
    "wave_data['t1'] = ci1\n",
    "wave_data['t2'] = t2\n",
    "\n",
    "h1_mod = h1 - v0 \n",
    "ham_data['h1_mod'] = h1_mod\n",
    "\n",
    "config.setup_jax()\n",
    "MPI = config.setup_comm()\n",
    "init = time.time()\n",
    "comm = MPI.COMM_WORLD\n",
    "size = comm.Get_size()\n",
    "rank = comm.Get_rank()\n",
    "seed = options[\"seed\"]\n",
    "neql = options[\"n_eql\"]\n",
    "\n",
    "trial_rdm1 = trial.get_rdm1(wave_data)\n",
    "if \"rdm1\" not in wave_data:\n",
    "    wave_data[\"rdm1\"] = trial_rdm1\n",
    "ham_data = wavefunctions.rhf(\n",
    "    trial.norb, trial.nelec,n_batch=trial.n_batch\n",
    "    )._build_measurement_intermediates(ham_data, wave_data)\n",
    "ham_data = ham.build_measurement_intermediates(ham_data, trial, wave_data)\n",
    "ham_data = ham.build_propagation_intermediates(\n",
    "    ham_data, prop, trial, wave_data\n",
    ")\n",
    "prop_data = prop.init_prop_data(trial, wave_data, ham_data, None)\n",
    "prop_data[\"key\"] = random.PRNGKey(seed + rank)"
   ]
  },
  {
   "cell_type": "code",
   "execution_count": 9,
   "id": "4cebcc38",
   "metadata": {},
   "outputs": [
    {
     "name": "stdout",
     "output_type": "stream",
     "text": [
      "(-1.0892834338083683+0j)\n",
      "(-0.04142308585635617+0j)\n",
      "(8.231184445851372e-18+0j)\n"
     ]
    }
   ],
   "source": [
    "h0 = ham_data['h0']\n",
    "e0, e1, t = ccsd_pt._ccsd_walker_energy_pt(\n",
    "    prop_data['walkers'][0],ham_data,wave_data,trial)\n",
    "print(e0+h0)\n",
    "print(e1)\n",
    "print(t)"
   ]
  },
  {
   "cell_type": "code",
   "execution_count": 11,
   "id": "62c50af8",
   "metadata": {},
   "outputs": [],
   "source": [
    "from ad_afqmc.cisd_perturb import sample_pt2\n",
    "prop_data[\"n_killed_walkers\"] = 0"
   ]
  },
  {
   "cell_type": "code",
   "execution_count": 12,
   "id": "fe4ca319",
   "metadata": {},
   "outputs": [],
   "source": [
    "prop_data, (blk_wt, blk_t, blk_e0, blk_e1) = \\\n",
    "    sample_pt2._block_scan(prop_data,ham_data,prop,trial,wave_data,sampler)"
   ]
  },
  {
   "cell_type": "code",
   "execution_count": 14,
   "id": "0edaf834",
   "metadata": {},
   "outputs": [
    {
     "name": "stdout",
     "output_type": "stream",
     "text": [
      "39.937979554824814\n",
      "(0.007980678814872811-0.0011422434553456228j) (-1.6025931421790407+0.0006389937738218602j) (-0.0411220839442803+0.0012227241932843069j)\n"
     ]
    }
   ],
   "source": [
    "print(blk_wt)\n",
    "print(blk_t, blk_e0, blk_e1)"
   ]
  },
  {
   "cell_type": "code",
   "execution_count": 18,
   "id": "54ec596b",
   "metadata": {},
   "outputs": [
    {
     "data": {
      "text/plain": [
       "Array(-1.13092409+2.60668348e-05j, dtype=complex128)"
      ]
     },
     "execution_count": 18,
     "metadata": {},
     "output_type": "execute_result"
    }
   ],
   "source": [
    "h0 + blk_e0 + blk_e1 - blk_t * blk_e0"
   ]
  },
  {
   "cell_type": "code",
   "execution_count": 29,
   "id": "eb1e20ef",
   "metadata": {},
   "outputs": [],
   "source": [
    "prop_data, (blk_wt, blk_t, blk_e0, blk_e1) = \\\n",
    "    sample_pt2._sr_block_scan(prop_data,ham_data,prop,trial,wave_data,sampler)"
   ]
  },
  {
   "cell_type": "code",
   "execution_count": 27,
   "id": "05650006",
   "metadata": {},
   "outputs": [
    {
     "name": "stdout",
     "output_type": "stream",
     "text": [
      "[39.95968819 39.93548592 39.9854366  39.97233379 39.95363817]\n",
      "[0.02082484-0.00142377j 0.01810244-0.0013127j  0.02462256-0.00200433j\n",
      " 0.0253741 +0.00107529j 0.02426512-0.00416078j] [-1.61916311+0.00120948j -1.61632982+0.0013671j  -1.62516785+0.00548413j\n",
      " -1.62464365+0.00162736j -1.62409738+0.00537751j] [-0.04548985+0.00110913j -0.04388507+0.00077185j -0.04567555-0.00222289j\n",
      " -0.04742279-0.00338289j -0.04616288+0.00140441j]\n"
     ]
    }
   ],
   "source": [
    "print(blk_wt)\n",
    "print(blk_t, blk_e0, blk_e1)"
   ]
  },
  {
   "cell_type": "code",
   "execution_count": 30,
   "id": "fc773a9f",
   "metadata": {},
   "outputs": [
    {
     "name": "stdout",
     "output_type": "stream",
     "text": [
      "199.74337761096814\n",
      "(0.02770313707358223-0.005324835443396208j)\n",
      "(-1.627140681997922+0.006549220259902778j)\n",
      "(-0.0487240968399901+0.0021310646102316315j)\n",
      "(-1.1308206619813184-0.00016540545134517172j)\n"
     ]
    }
   ],
   "source": [
    "wt = jnp.sum(blk_wt)\n",
    "t = jnp.sum(blk_t * blk_wt) / wt\n",
    "e0 = jnp.sum(blk_e0 * blk_wt) / wt\n",
    "e1 = jnp.sum(blk_e1 * blk_wt) / wt\n",
    "print(wt)\n",
    "print(t)\n",
    "print(e0)\n",
    "print(e1)\n",
    "print(h0 + e0 + e1 - t*e0)"
   ]
  },
  {
   "cell_type": "code",
   "execution_count": 32,
   "id": "958be681",
   "metadata": {},
   "outputs": [
    {
     "name": "stdout",
     "output_type": "stream",
     "text": [
      "1998.06851006178\n",
      "(0.03371363519748113+0.0030895190685928105j)\n",
      "(-1.632272124020626-0.0020501796440972747j)\n",
      "(-0.05339024327780739-0.0029899172325453726j)\n",
      "(-1.130636785409919+7.195798426196283e-05j)\n"
     ]
    }
   ],
   "source": [
    "prop_data, (wt, t, e0, e1) = \\\n",
    "    sample_pt2.propagate_phaseless(prop_data,ham_data,prop,trial,wave_data,sampler)\n",
    "print(wt)\n",
    "print(t)\n",
    "print(e0)\n",
    "print(e1)\n",
    "print(h0 + e0 + e1 - t*e0)"
   ]
  },
  {
   "cell_type": "code",
   "execution_count": 34,
   "id": "11d571af",
   "metadata": {},
   "outputs": [
    {
     "data": {
      "text/plain": [
       "Array(39.98750123, dtype=float64)"
      ]
     },
     "execution_count": 34,
     "metadata": {},
     "output_type": "execute_result"
    }
   ],
   "source": [
    "sum(prop_data['weights'])"
   ]
  },
  {
   "cell_type": "code",
   "execution_count": null,
   "id": "7183a309",
   "metadata": {},
   "outputs": [],
   "source": []
  }
 ],
 "metadata": {
  "kernelspec": {
   "display_name": "lno_pyscf_afqmc",
   "language": "python",
   "name": "python3"
  },
  "language_info": {
   "codemirror_mode": {
    "name": "ipython",
    "version": 3
   },
   "file_extension": ".py",
   "mimetype": "text/x-python",
   "name": "python",
   "nbconvert_exporter": "python",
   "pygments_lexer": "ipython3",
   "version": "3.10.16"
  }
 },
 "nbformat": 4,
 "nbformat_minor": 5
}
