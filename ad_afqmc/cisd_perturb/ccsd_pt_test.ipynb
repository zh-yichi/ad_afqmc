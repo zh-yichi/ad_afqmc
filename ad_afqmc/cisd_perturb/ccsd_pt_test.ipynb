{
 "cells": [
  {
   "cell_type": "code",
   "execution_count": 1,
   "id": "655561f0",
   "metadata": {},
   "outputs": [
    {
     "name": "stdout",
     "output_type": "stream",
     "text": [
      "System: uname_result(system='Linux', node='yichi-thinkpad', release='4.4.0-26100-Microsoft', version='#5074-Microsoft Fri Jan 01 08:00:00 PST 2016', machine='x86_64')  Threads 12\n",
      "Python 3.10.16 | packaged by conda-forge | (main, Dec  5 2024, 14:16:10) [GCC 13.3.0]\n",
      "numpy 1.24.3  scipy 1.14.1  h5py 3.12.1\n",
      "Date: Sat Oct 11 12:47:53 2025\n",
      "PySCF version 2.8.0\n",
      "PySCF path  /home/yichi/research/software/lno_pyscf\n",
      "GIT HEAD (branch master) ef75f4190e4de208685670651dc6c467f72b6794\n",
      "\n",
      "[ENV] PYSCF_EXT_PATH /home/yichi/research/software/pyscf\n",
      "[CONFIG] conf_file None\n",
      "[INPUT] verbose = 4\n",
      "[INPUT] num. atoms = 6\n",
      "[INPUT] num. electrons = 6\n",
      "[INPUT] charge = 0\n",
      "[INPUT] spin (= nelec alpha-beta = 2S) = 0\n",
      "[INPUT] symmetry False subgroup None\n",
      "[INPUT] Mole.unit = angstrom\n",
      "[INPUT] Symbol           X                Y                Z      unit          X                Y                Z       unit  Magmom\n",
      "[INPUT]  1 H      0.000000000000   0.000000000000   0.000000000000 AA    0.000000000000   0.000000000000   0.000000000000 Bohr   0.0\n",
      "[INPUT]  2 H      1.058350000000   0.000000000000   0.000000000000 AA    1.999991643933   0.000000000000   0.000000000000 Bohr   0.0\n",
      "[INPUT]  3 H      2.116700000000   0.000000000000   0.000000000000 AA    3.999983287867   0.000000000000   0.000000000000 Bohr   0.0\n",
      "[INPUT]  4 H      3.175050000000   0.000000000000   0.000000000000 AA    5.999974931800   0.000000000000   0.000000000000 Bohr   0.0\n",
      "[INPUT]  5 H      4.233400000000   0.000000000000   0.000000000000 AA    7.999966575734   0.000000000000   0.000000000000 Bohr   0.0\n",
      "[INPUT]  6 H      5.291750000000   0.000000000000   0.000000000000 AA    9.999958219667   0.000000000000   0.000000000000 Bohr   0.0\n",
      "\n",
      "nuclear repulsion = 4.35001817452072\n",
      "number of shells = 18\n",
      "number of NR pGTOs = 42\n",
      "number of NR cGTOs = 30\n",
      "basis = ccpvdz\n",
      "ecp = {}\n",
      "CPU time:         5.42\n",
      "\n",
      "\n",
      "******** <class 'pyscf.scf.hf.RHF'> ********\n",
      "method = RHF\n",
      "initial guess = minao\n",
      "damping factor = 0\n",
      "level_shift factor = 0\n",
      "DIIS = <class 'pyscf.scf.diis.CDIIS'>\n",
      "diis_start_cycle = 1\n",
      "diis_space = 8\n",
      "diis_damp = 0\n",
      "SCF conv_tol = 1e-09\n",
      "SCF conv_tol_grad = None\n",
      "SCF max_cycles = 50\n",
      "direct_scf = True\n",
      "direct_scf_tol = 1e-13\n",
      "chkfile to save SCF result = /tmp/tmp5f1l0e8r\n",
      "max_memory 4000 MB (current use 163 MB)\n",
      "Set gradient conv threshold to 3.16228e-05\n",
      "Initial guess from minao.\n",
      "init E= -2.46906422672812\n",
      "  HOMO = -0.264327582222925  LUMO = -0.020837525459875\n",
      "cycle= 1 E= -3.210115347979  delta_E= -0.741  |g|= 0.109  |ddm|= 1.27\n",
      "  HOMO = -0.387744259671614  LUMO = 0.020823659407392\n",
      "cycle= 2 E= -3.21852983826976  delta_E= -0.00841  |g|= 0.0342  |ddm|= 0.317\n",
      "  HOMO = -0.384132657697008  LUMO = 0.0393987865409559\n",
      "cycle= 3 E= -3.21969260107559  delta_E= -0.00116  |g|= 0.0097  |ddm|= 0.148\n",
      "  HOMO = -0.387790981421341  LUMO = 0.0411823392967288\n",
      "cycle= 4 E= -3.21979194234515  delta_E= -9.93e-05  |g|= 0.00137  |ddm|= 0.0518\n",
      "  HOMO = -0.388020510319406  LUMO = 0.0414594015028103\n",
      "cycle= 5 E= -3.21979350972138  delta_E= -1.57e-06  |g|= 7.86e-05  |ddm|= 0.00528\n",
      "  HOMO = -0.388048405873802  LUMO = 0.0414667503397666\n",
      "cycle= 6 E= -3.21979351303619  delta_E= -3.31e-09  |g|= 4.32e-06  |ddm|= 0.000155\n",
      "  HOMO = -0.388045337347516  LUMO = 0.0414664787683581\n",
      "cycle= 7 E= -3.21979351304743  delta_E= -1.12e-11  |g|= 5.65e-07  |ddm|= 1.56e-05\n",
      "  HOMO = -0.38804545920109  LUMO = 0.0414667274981147\n",
      "Extra cycle  E= -3.2197935130476  delta_E= -1.71e-13  |g|= 1.31e-07  |ddm|= 2.22e-06\n",
      "converged SCF energy = -3.2197935130476\n",
      "\n",
      "******** <class 'pyscf.cc.ccsd.CCSD'> ********\n",
      "CC2 = 0\n",
      "CCSD nocc = 3, nmo = 30\n",
      "max_cycle = 50\n",
      "direct = 0\n",
      "conv_tol = 1e-07\n",
      "conv_tol_normt = 1e-05\n",
      "diis_space = 6\n",
      "diis_start_cycle = 0\n",
      "diis_start_energy_diff = 1e+09\n",
      "max_memory 4000 MB (current use 170 MB)\n",
      "Init t2, MP2 energy = -3.32295020793282  E_corr(MP2) -0.103156694885219\n",
      "Init E_corr(CCSD) = -0.103156694885228\n",
      "cycle = 1  E_corr(CCSD) = -0.123842751211994  dE = -0.0206860563  norm(t1,t2) = 0.0548874\n",
      "cycle = 2  E_corr(CCSD) = -0.130831207455728  dE = -0.00698845624  norm(t1,t2) = 0.0286684\n",
      "cycle = 3  E_corr(CCSD) = -0.136267023220719  dE = -0.00543581576  norm(t1,t2) = 0.0157697\n",
      "cycle = 4  E_corr(CCSD) = -0.136794758778052  dE = -0.000527735557  norm(t1,t2) = 0.00454462\n",
      "cycle = 5  E_corr(CCSD) = -0.136513926693383  dE = 0.000280832085  norm(t1,t2) = 0.00213379\n",
      "cycle = 6  E_corr(CCSD) = -0.136538083438424  dE = -2.4156745e-05  norm(t1,t2) = 0.000623686\n",
      "cycle = 7  E_corr(CCSD) = -0.136547995059777  dE = -9.91162135e-06  norm(t1,t2) = 0.000174079\n",
      "cycle = 8  E_corr(CCSD) = -0.136542751372314  dE = 5.24368746e-06  norm(t1,t2) = 4.88431e-05\n",
      "cycle = 9  E_corr(CCSD) = -0.136541560555055  dE = 1.19081726e-06  norm(t1,t2) = 1.88821e-05\n",
      "cycle = 10  E_corr(CCSD) = -0.136542019095412  dE = -4.58540358e-07  norm(t1,t2) = 4.65196e-06\n",
      "cycle = 11  E_corr(CCSD) = -0.136542028118779  dE = -9.02336683e-09  norm(t1,t2) = 1.59387e-06\n",
      "CCSD converged\n",
      "E(CCSD) = -3.356335541166379  E_corr = -0.1365420281187791\n"
     ]
    }
   ],
   "source": [
    "from pyscf import gto, scf, cc\n",
    "import numpy as np\n",
    "from jax import numpy as jnp\n",
    "from jax import vmap, jvp, jit\n",
    "import jax\n",
    "from functools import partial\n",
    "\n",
    "a = 1.05835 # 2aB\n",
    "nH = 6\n",
    "atoms = \"\"\n",
    "for i in range(nH):\n",
    "    atoms += f\"H {i*a:.5f} 0.00000 0.00000 \\n\"\n",
    "\n",
    "mol = gto.M(atom=atoms, basis=\"ccpvdz\", verbose=4)\n",
    "mol.build()\n",
    "\n",
    "mf = scf.RHF(mol)#.density_fit()\n",
    "e = mf.kernel()\n",
    "\n",
    "mycc = cc.CCSD(mf)\n",
    "e = mycc.kernel()"
   ]
  },
  {
   "cell_type": "code",
   "execution_count": null,
   "id": "b413f340",
   "metadata": {},
   "outputs": [],
   "source": [
    "# AFQMC energy: -8.7671 +/- 0.0010"
   ]
  },
  {
   "cell_type": "code",
   "execution_count": null,
   "id": "27a3c182",
   "metadata": {},
   "outputs": [
    {
     "name": "stdout",
     "output_type": "stream",
     "text": [
      "number of H2 monomers:             [ 1  2  4  8 16 25]\n",
      "AFQMC/CCSD_PT energy per monomer:  [-1.09617 -1.09611 -1.09614 -1.09617 -1.09615 -1.09621]\n"
     ]
    }
   ],
   "source": [
    "import numpy as np\n",
    "np.set_printoptions(5)\n",
    "# AFQMC/CCSD_PT energy: -1.096171 +/- 0.000554\n",
    "# AFQMC/CCSD_PT energy: -2.192221 +/- 0.001636\n",
    "# AFQMC/CCSD_PT energy: -4.384578 +/- 0.006862\n",
    "# AFQMC/CCSD_PT energy: -8.769366 +/- 0.019849\n",
    "# AFQMC/CCSD_PT energy: -17.538377 +/- 0.091299\n",
    "# AFQMC/CCSD_PT energy: -27.405295 +/- 0.246627\n",
    "nm = np.array([1,2,4,8,16,25])\n",
    "ept = np.array([-1.096171,-2.192221,-4.384578,-8.769366,-17.538377,-27.405295])\n",
    "ept_perm = ept/nm\n",
    "print('number of H2 monomers:            ', nm)\n",
    "print('AFQMC/CCSD_PT energy per monomer: ', ept_perm)"
   ]
  },
  {
   "cell_type": "code",
   "execution_count": 2,
   "id": "15bc70bd",
   "metadata": {},
   "outputs": [
    {
     "name": "stdout",
     "output_type": "stream",
     "text": [
      "#\n",
      "# Preparing AFQMC calculation\n",
      "# If you import pyscf cc modules and use MPI for AFQMC in the same script, finalize MPI before calling the AFQMC driver.\n",
      "# Calculating Cholesky integrals\n",
      "# Finished calculating Cholesky integrals\n",
      "#\n",
      "# Size of the correlation space:\n",
      "# Number of electrons: (3, 3)\n",
      "# Number of basis functions: 30\n",
      "# Number of Cholesky vectors: 191\n",
      "#\n"
     ]
    }
   ],
   "source": [
    "from ad_afqmc.cisd_perturb import ccsd_pt\n",
    "options = {'n_eql': 4,\n",
    "           'n_prop_steps': 50,\n",
    "            'n_ene_blocks': 20,\n",
    "            'n_sr_blocks': 10,\n",
    "            'n_blocks': 10,\n",
    "            'n_walkers': 40,\n",
    "            'seed': 2,\n",
    "            'walker_type': 'rhf',\n",
    "            'trial': 'cisd',\n",
    "            'dt':0.005,\n",
    "            'free_projection':False,\n",
    "            'ad_mode':None,\n",
    "            'use_gpu': False,\n",
    "            }\n",
    "\n",
    "from ad_afqmc import pyscf_interface\n",
    "from ad_afqmc.cisd_perturb import sample_pt2\n",
    "pyscf_interface.prep_afqmc(mycc,chol_cut=1e-7)"
   ]
  },
  {
   "cell_type": "code",
   "execution_count": 3,
   "id": "305d0117",
   "metadata": {},
   "outputs": [
    {
     "name": "stdout",
     "output_type": "stream",
     "text": [
      "# Hostname: yichi-thinkpad\n",
      "# System Type: Linux\n",
      "# Machine Type: x86_64\n",
      "# Processor: x86_64\n",
      "# Number of MPI ranks: 1\n",
      "#\n",
      "# norb: 30\n",
      "# nelec: (3, 3)\n",
      "#\n",
      "# n_eql: 4\n",
      "# n_prop_steps: 50\n",
      "# n_ene_blocks: 20\n",
      "# n_sr_blocks: 10\n",
      "# n_blocks: 10\n",
      "# n_walkers: 40\n",
      "# seed: 2\n",
      "# walker_type: rhf\n",
      "# trial: cisd\n",
      "# dt: 0.005\n",
      "# free_projection: False\n",
      "# use_gpu: False\n",
      "# n_exp_terms: 6\n",
      "# orbital_rotation: True\n",
      "# do_sr: True\n",
      "# symmetry: False\n",
      "# save_walkers: False\n",
      "# ene0: 0.0\n",
      "# n_batch: 1\n",
      "# LNO: False\n",
      "# orbE: 0\n",
      "# maxError: 0.001\n",
      "#\n",
      "# Hostname: yichi-thinkpad\n",
      "# System Type: Linux\n",
      "# Machine Type: x86_64\n",
      "# Processor: x86_64\n"
     ]
    }
   ],
   "source": [
    "from ad_afqmc import config, mpi_jax, wavefunctions\n",
    "import time\n",
    "from jax import random\n",
    "ham_data, ham, prop, trial, wave_data, sampler, observable, options, _ \\\n",
    "    = (mpi_jax._prep_afqmc(options))\n",
    "\n",
    "norb = trial.norb\n",
    "chol = ham_data[\"chol\"].reshape(-1, norb, norb)\n",
    "h1 = (ham_data[\"h1\"][0] + ham_data[\"h1\"][1]) / 2.0\n",
    "v0 = 0.5 * jnp.einsum(\"gik,gjk->ij\",\n",
    "                        chol.reshape(-1, norb, norb),\n",
    "                        chol.reshape(-1, norb, norb),\n",
    "                        optimize=\"optimal\")\n",
    "\n",
    "nocc = wave_data['ci1'].shape[0]\n",
    "wave_data[\"mo_coeff\"] = np.eye(norb)[:,:nocc]\n",
    "ci1,ci2 = wave_data['ci1'],wave_data['ci2']\n",
    "t2 = ci2 - jnp.einsum('ia,jb->iajb',ci1,ci1)\n",
    "wave_data['t1'] = ci1\n",
    "wave_data['t2'] = t2\n",
    "\n",
    "h1_mod = h1 - v0 \n",
    "ham_data['h1_mod'] = h1_mod\n",
    "\n",
    "config.setup_jax()\n",
    "MPI = config.setup_comm()\n",
    "init = time.time()\n",
    "comm = MPI.COMM_WORLD\n",
    "size = comm.Get_size()\n",
    "rank = comm.Get_rank()\n",
    "seed = options[\"seed\"]\n",
    "neql = options[\"n_eql\"]\n",
    "\n",
    "trial_rdm1 = trial.get_rdm1(wave_data)\n",
    "if \"rdm1\" not in wave_data:\n",
    "    wave_data[\"rdm1\"] = trial_rdm1\n",
    "ham_data = wavefunctions.rhf(\n",
    "    trial.norb, trial.nelec,n_batch=trial.n_batch\n",
    "    )._build_measurement_intermediates(ham_data, wave_data)\n",
    "ham_data = ham.build_measurement_intermediates(ham_data, trial, wave_data)\n",
    "ham_data = ham.build_propagation_intermediates(\n",
    "    ham_data, prop, trial, wave_data\n",
    ")\n",
    "prop_data = prop.init_prop_data(trial, wave_data, ham_data, None)\n",
    "prop_data[\"key\"] = random.PRNGKey(seed + rank)"
   ]
  },
  {
   "cell_type": "code",
   "execution_count": null,
   "id": "96fb0676",
   "metadata": {},
   "outputs": [],
   "source": [
    "def blocking_analysis(weights, energies, neql=0, printQ=False, writeBlockedQ=False):\n",
    "    nSamples = weights.shape[0] - neql\n",
    "    weights = weights[neql:]\n",
    "    energies = energies[neql:]\n",
    "    weightedEnergies = np.multiply(weights, energies)\n",
    "    meanEnergy = weightedEnergies.sum() / weights.sum()\n",
    "    if printQ:\n",
    "        print(f\"#\\n# Mean: {meanEnergy:.8e}\")\n",
    "        print(\"# Block size    # of blocks         Mean                Error\")\n",
    "    blockSizes = np.array([1, 2, 3, 5, 10, 15, 20, 30, 50, 100, 200, 300, 400, 500, 1000, 10000])\n",
    "    prevError = 0.0\n",
    "    plateauError = None\n",
    "    for i in blockSizes[blockSizes < nSamples / 2.0]:\n",
    "        nBlocks = nSamples // i\n",
    "        blockedWeights = np.zeros(nBlocks,dtype=\"float32\")\n",
    "        blockedEnergies = np.zeros(nBlocks,dtype=\"float32\")#\"complex64\")\n",
    "        for j in range(nBlocks):\n",
    "            blockedWeights[j] = weights[j * i : (j + 1) * i].sum()\n",
    "            blockedEnergies[j] = (\n",
    "                weightedEnergies[j * i : (j + 1) * i].sum() / blockedWeights[j]\n",
    "            )\n",
    "        v1 = blockedWeights.sum()\n",
    "        v2 = (blockedWeights**2).sum()\n",
    "        mean = np.multiply(blockedWeights, blockedEnergies).sum() / v1\n",
    "        error = (\n",
    "            np.multiply(blockedWeights, (blockedEnergies - mean) ** 2).sum()\n",
    "            / (v1 - v2 / v1)\n",
    "            / (nBlocks - 1)\n",
    "        ) ** 0.5\n",
    "        if writeBlockedQ:\n",
    "            np.savetxt(\n",
    "                f\"samples_blocked_{i}.dat\",\n",
    "                np.stack((blockedWeights, blockedEnergies)).T,\n",
    "            )\n",
    "        if printQ:\n",
    "            print(f\"  {i:5d}           {nBlocks:6d}       {mean:.8e}       {error:.6e}\")\n",
    "        if error <= 1.05 * prevError and plateauError is None:\n",
    "            plateauError = max(error, prevError)\n",
    "        prevError = error\n",
    "\n",
    "    if printQ:\n",
    "        if plateauError is not None:\n",
    "            print(f\"# Stocahstic error estimate: {plateauError:.6e}\\n#\")\n",
    "\n",
    "    return meanEnergy, plateauError"
   ]
  },
  {
   "cell_type": "code",
   "execution_count": 9,
   "id": "4cebcc38",
   "metadata": {},
   "outputs": [
    {
     "name": "stdout",
     "output_type": "stream",
     "text": [
      "(-1.0892834338083683+0j)\n",
      "(-0.04142308585635617+0j)\n",
      "(8.231184445851372e-18+0j)\n"
     ]
    }
   ],
   "source": [
    "h0 = ham_data['h0']\n",
    "e0, e1, t = ccsd_pt._ccsd_walker_energy_pt(\n",
    "    prop_data['walkers'][0],ham_data,wave_data,trial)\n",
    "print(e0+h0)\n",
    "print(e1)\n",
    "print(t)"
   ]
  },
  {
   "cell_type": "code",
   "execution_count": 5,
   "id": "62c50af8",
   "metadata": {},
   "outputs": [],
   "source": [
    "from ad_afqmc.cisd_perturb import sample_pt2\n",
    "prop_data[\"n_killed_walkers\"] = 0"
   ]
  },
  {
   "cell_type": "code",
   "execution_count": 6,
   "id": "fe4ca319",
   "metadata": {},
   "outputs": [],
   "source": [
    "prop_data, (blk_wt, blk_t, blk_e0, blk_e1) = \\\n",
    "    sample_pt2._block_scan(prop_data,ham_data,prop,trial,wave_data,sampler)"
   ]
  },
  {
   "cell_type": "code",
   "execution_count": 7,
   "id": "0edaf834",
   "metadata": {},
   "outputs": [
    {
     "name": "stdout",
     "output_type": "stream",
     "text": [
      "39.864298549868025\n",
      "0.02212654217667736 -7.613390945177146 -0.2625478474481564\n"
     ]
    }
   ],
   "source": [
    "print(blk_wt)\n",
    "print(blk_t, blk_e0, blk_e1)"
   ]
  },
  {
   "cell_type": "code",
   "execution_count": 9,
   "id": "d6dece1e",
   "metadata": {},
   "outputs": [
    {
     "data": {
      "text/plain": [
       "Array(39.86429855, dtype=float64)"
      ]
     },
     "execution_count": 9,
     "metadata": {},
     "output_type": "execute_result"
    }
   ],
   "source": [
    "sum(prop_data['weights'])"
   ]
  },
  {
   "cell_type": "code",
   "execution_count": 10,
   "id": "a4ec04d8",
   "metadata": {},
   "outputs": [],
   "source": [
    "rho =  prop_data['weights']/sum(prop_data['weights'])\n",
    "e0, e1, t = ccsd_pt.ccsd_walker_energy_pt(\n",
    "        prop_data[\"walkers\"],ham_data,wave_data,trial)\n",
    "rho_e0 = rho*e0"
   ]
  },
  {
   "cell_type": "code",
   "execution_count": null,
   "id": "1b9faa25",
   "metadata": {},
   "outputs": [
    {
     "name": "stdout",
     "output_type": "stream",
     "text": [
      "-7.613390945177144\n"
     ]
    }
   ],
   "source": [
    "print(sum(rho_e0))"
   ]
  },
  {
   "cell_type": "code",
   "execution_count": 14,
   "id": "8b98b370",
   "metadata": {},
   "outputs": [
    {
     "name": "stdout",
     "output_type": "stream",
     "text": [
      "-0.19033477362942863\n",
      "0.004987375822228835\n"
     ]
    }
   ],
   "source": [
    "print(np.mean(rho_e0))\n",
    "print(np.std(rho_e0))"
   ]
  },
  {
   "cell_type": "code",
   "execution_count": 18,
   "id": "54ec596b",
   "metadata": {},
   "outputs": [
    {
     "data": {
      "text/plain": [
       "Array(-1.13092409+2.60668348e-05j, dtype=complex128)"
      ]
     },
     "execution_count": 18,
     "metadata": {},
     "output_type": "execute_result"
    }
   ],
   "source": [
    "h0 + blk_e0 + blk_e1 - blk_t * blk_e0"
   ]
  },
  {
   "cell_type": "code",
   "execution_count": 78,
   "id": "eb1e20ef",
   "metadata": {},
   "outputs": [],
   "source": [
    "from ad_afqmc.cisd_perturb import sample_pt2\n",
    "prop_data[\"n_killed_walkers\"] = 0\n",
    "prop_data, (blk_wt, blk_t, blk_e0, blk_e1) = \\\n",
    "    sample_pt2._sr_block_scan(prop_data,ham_data,prop,trial,wave_data,sampler)"
   ]
  },
  {
   "cell_type": "code",
   "execution_count": 79,
   "id": "05650006",
   "metadata": {},
   "outputs": [
    {
     "name": "stdout",
     "output_type": "stream",
     "text": [
      "[39.8643  39.75175 39.95041 39.84242 39.90087 39.91925 39.85964 39.89267\n",
      " 39.83531 39.88537 40.012   39.83649 39.84835 39.89709 39.85604 39.93099\n",
      " 39.99298 39.92618 39.9368  39.85308]\n",
      "[0.02213 0.05203 0.06344 0.06884 0.08227 0.08173 0.07148 0.07985 0.07498\n",
      " 0.08254 0.10617 0.10188 0.10868 0.08211 0.08513 0.08841 0.08676 0.08971\n",
      " 0.09535 0.11229]\n",
      "[-7.61339 -7.65532 -7.6684  -7.67835 -7.69217 -7.69571 -7.68553 -7.6872\n",
      " -7.67719 -7.68696 -7.70383 -7.69393 -7.69161 -7.66816 -7.67018 -7.67631\n",
      " -7.67297 -7.68156 -7.68697 -7.70173]\n",
      "[-0.26255 -0.45117 -0.52716 -0.5588  -0.64903 -0.64177 -0.57226 -0.63571\n",
      " -0.60766 -0.65615 -0.82256 -0.79898 -0.85424 -0.67039 -0.6918  -0.71061\n",
      " -0.70197 -0.71608 -0.75405 -0.87203]\n"
     ]
    }
   ],
   "source": [
    "print(blk_wt)\n",
    "print(blk_t)\n",
    "print(blk_e0)\n",
    "print(blk_e1)"
   ]
  },
  {
   "cell_type": "code",
   "execution_count": 84,
   "id": "f40f4921",
   "metadata": {},
   "outputs": [],
   "source": [
    "t = np.sum(blk_wt * blk_t)/np.sum(blk_wt)\n",
    "e0 = np.sum(blk_wt * blk_e0)/np.sum(blk_wt)\n",
    "e1 = np.sum(blk_wt * blk_e1)/np.sum(blk_wt)\n",
    "# t_err = np.std(blk_t)\n",
    "# e0_err = np.std(blk_t)\n",
    "# e1_err = np.std(blk_t)"
   ]
  },
  {
   "cell_type": "code",
   "execution_count": 85,
   "id": "b6c1c8be",
   "metadata": {},
   "outputs": [],
   "source": [
    "# E = e0 + e1 - t*e0\n",
    "dE = np.array([-e0,1-t,1])"
   ]
  },
  {
   "cell_type": "code",
   "execution_count": 86,
   "id": "cbdf8eca",
   "metadata": {},
   "outputs": [
    {
     "name": "stdout",
     "output_type": "stream",
     "text": [
      "[[ 0.00043 -0.00036 -0.00294]\n",
      " [-0.00036  0.00039  0.00236]\n",
      " [-0.00294  0.00236  0.02035]]\n"
     ]
    }
   ],
   "source": [
    "cov_te0e1 = np.cov([blk_t,blk_e0,blk_e1])\n",
    "print(cov_te0e1)"
   ]
  },
  {
   "cell_type": "code",
   "execution_count": 87,
   "id": "6ba6a2df",
   "metadata": {},
   "outputs": [
    {
     "data": {
      "text/plain": [
       "0.0007600322264764268"
      ]
     },
     "execution_count": 87,
     "metadata": {},
     "output_type": "execute_result"
    }
   ],
   "source": [
    "np.sqrt(dE @ cov_te0e1 @ dE)"
   ]
  },
  {
   "cell_type": "code",
   "execution_count": null,
   "id": "35695cff",
   "metadata": {},
   "outputs": [],
   "source": [
    "cov_te0e1 = np.cov(blk_e0,blk_t)\n",
    "cov_e0e1 = np.cov(blk_e0,blk_e1)\n",
    "cov_e1t = np.cov(blk_e1,blk_t)"
   ]
  },
  {
   "cell_type": "code",
   "execution_count": 28,
   "id": "4c4bdc94",
   "metadata": {},
   "outputs": [
    {
     "name": "stdout",
     "output_type": "stream",
     "text": [
      "[[ 6.67078e-05 -4.39983e-05]\n",
      " [-4.39983e-05  2.92440e-05]]\n",
      "[[6.67078e-05 4.99679e-06]\n",
      " [4.99679e-06 9.78546e-07]]\n",
      "[[ 9.78546e-07 -3.66370e-06]\n",
      " [-3.66370e-06  2.92440e-05]]\n"
     ]
    }
   ],
   "source": [
    "print(cov_e0t)\n",
    "print(cov_e0e1)\n",
    "print(cov_e1t)"
   ]
  },
  {
   "cell_type": "code",
   "execution_count": null,
   "id": "3dfac22a",
   "metadata": {},
   "outputs": [
    {
     "data": {
      "text/plain": [
       "Array(8.38046e-05, dtype=float64)"
      ]
     },
     "execution_count": 42,
     "metadata": {},
     "output_type": "execute_result"
    }
   ],
   "source": [
    "e0**2*t_err**2 + (1-t)**2*e0_err**2"
   ]
  },
  {
   "cell_type": "code",
   "execution_count": 41,
   "id": "3909dfb3",
   "metadata": {},
   "outputs": [
    {
     "data": {
      "text/plain": [
       "Array(0.00014, dtype=float64)"
      ]
     },
     "execution_count": 41,
     "metadata": {},
     "output_type": "execute_result"
    }
   ],
   "source": [
    "2*e0*(1-t)*cov_e0t[0][1]"
   ]
  },
  {
   "cell_type": "code",
   "execution_count": null,
   "id": "494b3768",
   "metadata": {},
   "outputs": [],
   "source": [
    "ept_err = jnp.sqrt(\n",
    "        e0**2*t_err**2 + (1-t)**2*e0_err**2 + e1_err**2\n",
    "        + 2*e0*(1-t)*cov_e0t[0][1] + 2*(1-t)*cov_e0e1[0][1] + 2*e0*cov_e1t[0][1])"
   ]
  },
  {
   "cell_type": "code",
   "execution_count": 39,
   "id": "21d1a6ca",
   "metadata": {},
   "outputs": [
    {
     "data": {
      "text/plain": [
       "Array(0.00011, dtype=float64)"
      ]
     },
     "execution_count": 39,
     "metadata": {},
     "output_type": "execute_result"
    }
   ],
   "source": [
    "e0**2*t_err**2 + (1-t)**2*e0_err**2 + e1_err**2 "
   ]
  },
  {
   "cell_type": "code",
   "execution_count": 40,
   "id": "a646682a",
   "metadata": {},
   "outputs": [
    {
     "data": {
      "text/plain": [
       "Array(-0.00016, dtype=float64)"
      ]
     },
     "execution_count": 40,
     "metadata": {},
     "output_type": "execute_result"
    }
   ],
   "source": [
    "- 2*e0*(1-t)*cov_e0t[0][1] - 2*(1-t)*cov_e0e1[0][1] - 2*e0*cov_e1t[0][1]"
   ]
  },
  {
   "cell_type": "code",
   "execution_count": 34,
   "id": "71d9e166",
   "metadata": {},
   "outputs": [],
   "source": [
    "ept_err_n = jnp.sqrt(\n",
    "        e0**2*t_err**2 + (1-t)**2*e0_err**2 + e1_err**2)"
   ]
  },
  {
   "cell_type": "code",
   "execution_count": 37,
   "id": "089f6127",
   "metadata": {},
   "outputs": [
    {
     "name": "stdout",
     "output_type": "stream",
     "text": [
      "nan\n",
      "0.010353734951627976\n"
     ]
    }
   ],
   "source": [
    "print(ept_err)\n",
    "print(ept_err_n)"
   ]
  },
  {
   "cell_type": "code",
   "execution_count": 30,
   "id": "fc773a9f",
   "metadata": {},
   "outputs": [
    {
     "name": "stdout",
     "output_type": "stream",
     "text": [
      "199.74337761096814\n",
      "(0.02770313707358223-0.005324835443396208j)\n",
      "(-1.627140681997922+0.006549220259902778j)\n",
      "(-0.0487240968399901+0.0021310646102316315j)\n",
      "(-1.1308206619813184-0.00016540545134517172j)\n"
     ]
    }
   ],
   "source": [
    "wt = jnp.sum(blk_wt)\n",
    "t = jnp.sum(blk_t * blk_wt) / wt\n",
    "e0 = jnp.sum(blk_e0 * blk_wt) / wt\n",
    "e1 = jnp.sum(blk_e1 * blk_wt) / wt\n",
    "print(wt)\n",
    "print(t)\n",
    "print(e0)\n",
    "print(e1)\n",
    "print(h0 + e0 + e1 - t*e0)"
   ]
  },
  {
   "cell_type": "code",
   "execution_count": 32,
   "id": "958be681",
   "metadata": {},
   "outputs": [
    {
     "name": "stdout",
     "output_type": "stream",
     "text": [
      "1998.06851006178\n",
      "(0.03371363519748113+0.0030895190685928105j)\n",
      "(-1.632272124020626-0.0020501796440972747j)\n",
      "(-0.05339024327780739-0.0029899172325453726j)\n",
      "(-1.130636785409919+7.195798426196283e-05j)\n"
     ]
    }
   ],
   "source": [
    "prop_data, (wt, t, e0, e1) = \\\n",
    "    sample_pt2.propagate_phaseless(prop_data,ham_data,prop,trial,wave_data,sampler)\n",
    "print(wt)\n",
    "print(t)\n",
    "print(e0)\n",
    "print(e1)\n",
    "print(h0 + e0 + e1 - t*e0)"
   ]
  },
  {
   "cell_type": "code",
   "execution_count": 34,
   "id": "11d571af",
   "metadata": {},
   "outputs": [
    {
     "data": {
      "text/plain": [
       "Array(39.98750123, dtype=float64)"
      ]
     },
     "execution_count": 34,
     "metadata": {},
     "output_type": "execute_result"
    }
   ],
   "source": [
    "sum(prop_data['weights'])"
   ]
  },
  {
   "cell_type": "code",
   "execution_count": null,
   "id": "7183a309",
   "metadata": {},
   "outputs": [],
   "source": []
  }
 ],
 "metadata": {
  "kernelspec": {
   "display_name": "lno_pyscf_afqmc",
   "language": "python",
   "name": "python3"
  },
  "language_info": {
   "codemirror_mode": {
    "name": "ipython",
    "version": 3
   },
   "file_extension": ".py",
   "mimetype": "text/x-python",
   "name": "python",
   "nbconvert_exporter": "python",
   "pygments_lexer": "ipython3",
   "version": "3.10.16"
  }
 },
 "nbformat": 4,
 "nbformat_minor": 5
}
