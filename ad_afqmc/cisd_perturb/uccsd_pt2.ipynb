{
 "cells": [
  {
   "cell_type": "code",
   "execution_count": 1,
   "id": "655561f0",
   "metadata": {},
   "outputs": [
    {
     "name": "stdout",
     "output_type": "stream",
     "text": [
      "System: uname_result(system='Linux', node='yichi-thinkpad', release='4.4.0-26100-Microsoft', version='#5074-Microsoft Fri Jan 01 08:00:00 PST 2016', machine='x86_64')  Threads 12\n",
      "Python 3.10.16 | packaged by conda-forge | (main, Dec  5 2024, 14:16:10) [GCC 13.3.0]\n",
      "numpy 1.24.3  scipy 1.14.1  h5py 3.12.1\n",
      "Date: Wed Oct 15 16:38:46 2025\n",
      "PySCF version 2.8.0\n",
      "PySCF path  /home/yichi/research/software/lno_pyscf\n",
      "GIT HEAD (branch master) ef75f4190e4de208685670651dc6c467f72b6794\n",
      "\n",
      "[ENV] PYSCF_EXT_PATH /home/yichi/research/software/pyscf\n",
      "[CONFIG] conf_file None\n",
      "[INPUT] verbose = 4\n",
      "[INPUT] num. atoms = 2\n",
      "[INPUT] num. electrons = 16\n",
      "[INPUT] charge = 0\n",
      "[INPUT] spin (= nelec alpha-beta = 2S) = 2\n",
      "[INPUT] symmetry False subgroup None\n",
      "[INPUT] Mole.unit = bohr\n",
      "[INPUT] Symbol           X                Y                Z      unit          X                Y                Z       unit  Magmom\n",
      "[INPUT]  1 O      0.000000000000   0.000000000000   0.000000000000 AA    0.000000000000   0.000000000000   0.000000000000 Bohr   0.0\n",
      "[INPUT]  2 O      1.058354421840   0.000000000000   0.000000000000 AA    2.000000000000   0.000000000000   0.000000000000 Bohr   0.0\n",
      "\n",
      "nuclear repulsion = 32\n",
      "number of shells = 10\n",
      "number of NR pGTOs = 44\n",
      "number of NR cGTOs = 18\n",
      "basis = 6-31g\n",
      "ecp = {}\n",
      "CPU time:         2.53\n",
      "\n",
      "\n",
      "******** <class 'pyscf.scf.rohf.ROHF'> ********\n",
      "method = ROHF\n",
      "initial guess = minao\n",
      "damping factor = 0\n",
      "level_shift factor = 0\n",
      "DIIS = <class 'pyscf.scf.diis.CDIIS'>\n",
      "diis_start_cycle = 1\n",
      "diis_space = 8\n",
      "diis_damp = 0\n",
      "SCF conv_tol = 1e-09\n",
      "SCF conv_tol_grad = None\n",
      "SCF max_cycles = 50\n",
      "direct_scf = True\n",
      "direct_scf_tol = 1e-13\n",
      "chkfile to save SCF result = /tmp/tmpszbvh134\n",
      "max_memory 4000 MB (current use 162 MB)\n",
      "num. doubly occ = 7  num. singly occ = 2\n",
      "Set gradient conv threshold to 3.16228e-05\n",
      "init E= -150.183190528205\n",
      "  HOMO = -0.154493726504871  LUMO = 0.540246163439925\n",
      "cycle= 1 E= -149.466074451255  delta_E= 0.717  |g|= 0.281  |ddm|= 1.52\n",
      "  HOMO = -0.20539898886028  LUMO = 0.602091395883146\n",
      "cycle= 2 E= -149.485292055195  delta_E= -0.0192  |g|= 0.0898  |ddm|= 0.378\n",
      "  HOMO = -0.151171858229285  LUMO = 0.63477370155524\n",
      "cycle= 3 E= -149.486985696982  delta_E= -0.00169  |g|= 0.014  |ddm|= 0.0812\n",
      "  HOMO = -0.157755585142792  LUMO = 0.630186131631546\n",
      "cycle= 4 E= -149.487042965527  delta_E= -5.73e-05  |g|= 0.00121  |ddm|= 0.0203\n",
      "  HOMO = -0.157643478908972  LUMO = 0.63017431367899\n",
      "cycle= 5 E= -149.487043318118  delta_E= -3.53e-07  |g|= 9.72e-05  |ddm|= 0.0011\n",
      "  HOMO = -0.15767172735968  LUMO = 0.630168169345893\n",
      "cycle= 6 E= -149.487043321273  delta_E= -3.15e-09  |g|= 9.04e-06  |ddm|= 0.000169\n",
      "  HOMO = -0.157669780013493  LUMO = 0.630168609108527\n",
      "cycle= 7 E= -149.487043321298  delta_E= -2.51e-11  |g|= 4.9e-07  |ddm|= 8.35e-06\n",
      "  HOMO = -0.157669714632764  LUMO = 0.630168736483325\n",
      "Extra cycle  E= -149.487043321298  delta_E= -1.99e-13  |g|= 1.05e-07  |ddm|= 4.12e-07\n",
      "converged SCF energy = -149.487043321298\n",
      "\n",
      "WARN: RCCSD method does not support ROHF method. ROHF object is converted to UHF object and UCCSD method is called.\n",
      "\n",
      "\n",
      "******** <class 'pyscf.cc.uccsd.UCCSD'> ********\n",
      "CC2 = 0\n",
      "CCSD nocc = (9, 7), nmo = (18, 18)\n",
      "max_cycle = 50\n",
      "direct = 0\n",
      "conv_tol = 1e-07\n",
      "conv_tol_normt = 1e-06\n",
      "diis_space = 6\n",
      "diis_start_cycle = 0\n",
      "diis_start_energy_diff = 1e+09\n",
      "max_memory 4000 MB (current use 177 MB)\n",
      "Init t2, MP2 energy = -0.218359383061455\n",
      "Init E_corr(UCCSD) = -0.22703764658556\n",
      "cycle = 1  E_corr(UCCSD) = -0.212052316596485  dE = 0.01498533  norm(t1,t2) = 0.0483811\n",
      "cycle = 2  E_corr(UCCSD) = -0.21871910088612  dE = -0.00666678429  norm(t1,t2) = 0.0133948\n",
      "cycle = 3  E_corr(UCCSD) = -0.218866295649601  dE = -0.000147194763  norm(t1,t2) = 0.00447413\n",
      "cycle = 4  E_corr(UCCSD) = -0.219517234769377  dE = -0.00065093912  norm(t1,t2) = 0.00169898\n",
      "cycle = 5  E_corr(UCCSD) = -0.219491715319827  dE = 2.55194496e-05  norm(t1,t2) = 0.000295006\n",
      "cycle = 6  E_corr(UCCSD) = -0.219490145870834  dE = 1.56944899e-06  norm(t1,t2) = 4.65669e-05\n",
      "cycle = 7  E_corr(UCCSD) = -0.219491005461135  dE = -8.59590301e-07  norm(t1,t2) = 1.35207e-05\n",
      "cycle = 8  E_corr(UCCSD) = -0.219490935783794  dE = 6.96773407e-08  norm(t1,t2) = 2.66602e-06\n",
      "cycle = 9  E_corr(UCCSD) = -0.219490912788492  dE = 2.29953016e-08  norm(t1,t2) = 7.97264e-07\n",
      "UCCSD converged\n",
      "E(UCCSD) = -149.7065342340867  E_corr = -0.2194909127884923\n"
     ]
    },
    {
     "data": {
      "text/plain": [
       "-0.21949091278849228"
      ]
     },
     "execution_count": 1,
     "metadata": {},
     "output_type": "execute_result"
    }
   ],
   "source": [
    "from pyscf import gto, scf, cc\n",
    "import numpy as np\n",
    "from jax import numpy as jnp\n",
    "from jax import vmap, jvp, jit\n",
    "import jax\n",
    "from functools import partial\n",
    "\n",
    "a = 2 # 2aB\n",
    "nH = 2\n",
    "atoms = \"\"\n",
    "for i in range(nH):\n",
    "    atoms += f\"O {i*a:.5f} 0.00000 0.00000 \\n\"\n",
    "\n",
    "mol = gto.M(atom=atoms, basis=\"6-31g\", unit='bohr', spin=2, verbose=4)\n",
    "mol.build()\n",
    "\n",
    "mf = scf.RHF(mol)\n",
    "mf.kernel()\n",
    "\n",
    "mycc = cc.CCSD(mf)\n",
    "mycc.kernel()[0]"
   ]
  },
  {
   "cell_type": "code",
   "execution_count": null,
   "id": "c9efa46c",
   "metadata": {},
   "outputs": [],
   "source": [
    "t1 = mycc.t1*100\n",
    "q, r = np.linalg.qr(t1) # unitary, upper triangular\n",
    "u_ai = r.T\n",
    "u_ji = q\n",
    "u_occ = np.vstack((u_ji,u_ai))\n",
    "u, _, _ = np.linalg.svd(u_occ)"
   ]
  },
  {
   "cell_type": "code",
   "execution_count": 18,
   "id": "15688a95",
   "metadata": {},
   "outputs": [
    {
     "data": {
      "text/plain": [
       "array([[-7.37045299e-01,  3.30535114e-14, -4.80676614e-01,\n",
       "        -5.43679027e-14,  2.78133619e-01,  2.67348528e-14],\n",
       "       [ 1.33314823e-13, -9.35495302e-01, -3.16959228e-14,\n",
       "         1.11330132e+00,  1.38708159e-13,  1.37552874e-01]])"
      ]
     },
     "execution_count": 18,
     "metadata": {},
     "output_type": "execute_result"
    }
   ],
   "source": [
    "t1"
   ]
  },
  {
   "cell_type": "code",
   "execution_count": 17,
   "id": "07672f5d",
   "metadata": {},
   "outputs": [
    {
     "data": {
      "text/plain": [
       "array([[-1.0000000e+00,  1.8087738e-13],\n",
       "       [ 1.8087738e-13,  1.0000000e+00]])"
      ]
     },
     "execution_count": 17,
     "metadata": {},
     "output_type": "execute_result"
    }
   ],
   "source": [
    "q"
   ]
  },
  {
   "cell_type": "code",
   "execution_count": 19,
   "id": "a8ba0efa",
   "metadata": {},
   "outputs": [
    {
     "name": "stdout",
     "output_type": "stream",
     "text": [
      "(6, 2)\n",
      "[[ 7.37045299e-01 -2.02263451e-13  4.80676614e-01  2.55738928e-13\n",
      "  -2.78133619e-01 -1.85464920e-15]\n",
      " [ 0.00000000e+00 -9.35495302e-01 -1.18639449e-13  1.11330132e+00\n",
      "   1.89016239e-13  1.37552874e-01]]\n"
     ]
    }
   ],
   "source": [
    "print(r.T.shape)\n",
    "print(r)"
   ]
  },
  {
   "cell_type": "code",
   "execution_count": null,
   "id": "27a3c182",
   "metadata": {},
   "outputs": [
    {
     "name": "stdout",
     "output_type": "stream",
     "text": [
      "number of H2 monomers:             [ 1  2  4  8 16 25]\n",
      "AFQMC/CCSD_PT energy per monomer:  [-1.09617 -1.09611 -1.09614 -1.09617 -1.09615 -1.09621]\n"
     ]
    }
   ],
   "source": [
    "# import numpy as np\n",
    "# np.set_printoptions(5)\n",
    "# # AFQMC/CCSD_PT energy: -1.096171 +/- 0.000554\n",
    "# # AFQMC/CCSD_PT energy: -2.192221 +/- 0.001636\n",
    "# # AFQMC/CCSD_PT energy: -4.384578 +/- 0.006862\n",
    "# # AFQMC/CCSD_PT energy: -8.769366 +/- 0.019849\n",
    "# # AFQMC/CCSD_PT energy: -17.538377 +/- 0.091299\n",
    "# # AFQMC/CCSD_PT energy: -27.405295 +/- 0.246627\n",
    "# nm = np.array([1,2,4,8,16,25])\n",
    "# ept = np.array([-1.096171,-2.192221,-4.384578,-8.769366,-17.538377,-27.405295])\n",
    "# ept_perm = ept/nm\n",
    "# print('number of H2 monomers:            ', nm)\n",
    "# print('AFQMC/CCSD_PT energy per monomer: ', ept_perm)"
   ]
  },
  {
   "cell_type": "code",
   "execution_count": 23,
   "id": "15bc70bd",
   "metadata": {},
   "outputs": [
    {
     "name": "stdout",
     "output_type": "stream",
     "text": [
      "#\n",
      "# Preparing AFQMC calculation\n",
      "# If you import pyscf cc modules and use MPI for AFQMC in the same script, finalize MPI before calling the AFQMC driver.\n",
      "# Calculating Cholesky integrals\n",
      "# Finished calculating Cholesky integrals\n",
      "#\n",
      "# Size of the correlation space:\n",
      "# Number of electrons: (8, 8)\n",
      "# Number of basis functions: 18\n",
      "# Number of Cholesky vectors: 126\n",
      "#\n"
     ]
    }
   ],
   "source": [
    "from ad_afqmc.cisd_perturb import ccsd_pt\n",
    "options = {'n_eql': 4,\n",
    "           'n_prop_steps': 50,\n",
    "            'n_ene_blocks': 20,\n",
    "            'n_sr_blocks': 10,\n",
    "            'n_blocks': 10,\n",
    "            'n_walkers': 2,\n",
    "            'seed': 2,\n",
    "            'walker_type': 'rhf',\n",
    "            'trial': 'cisd',\n",
    "            'dt':0.005,\n",
    "            'free_projection':False,\n",
    "            'ad_mode':None,\n",
    "            'use_gpu': False,\n",
    "            }\n",
    "\n",
    "from ad_afqmc import pyscf_interface\n",
    "from ad_afqmc.cisd_perturb import ccsd_pt, sample_ccsd_pt\n",
    "# t1 = 5 * mycc.t1\n",
    "# mycc.t1 = t1\n",
    "ccsd_pt.prep_afqmc(mycc,chol_cut=1e-7)\n",
    "# pyscf_interface.prep_afqmc(mycc,chol_cut=1e-7)"
   ]
  },
  {
   "cell_type": "code",
   "execution_count": 24,
   "id": "06f72706",
   "metadata": {},
   "outputs": [
    {
     "name": "stdout",
     "output_type": "stream",
     "text": [
      "# Hostname: yichi-thinkpad\n",
      "# System Type: Linux\n",
      "# Machine Type: x86_64\n",
      "# Processor: x86_64\n",
      "# Number of MPI ranks: 1\n",
      "#\n",
      "# norb: 18\n",
      "# nelec: (8, 8)\n",
      "#\n",
      "# n_eql: 4\n",
      "# n_prop_steps: 50\n",
      "# n_ene_blocks: 20\n",
      "# n_sr_blocks: 10\n",
      "# n_blocks: 10\n",
      "# n_walkers: 2\n",
      "# seed: 2\n",
      "# walker_type: rhf\n",
      "# trial: cisd\n",
      "# dt: 0.005\n",
      "# free_projection: False\n",
      "# use_gpu: False\n",
      "# n_exp_terms: 6\n",
      "# orbital_rotation: True\n",
      "# do_sr: True\n",
      "# symmetry: False\n",
      "# save_walkers: False\n",
      "# ene0: 0.0\n",
      "# n_batch: 1\n",
      "# LNO: False\n",
      "# orbE: 0\n",
      "# maxError: 0.001\n",
      "#\n"
     ]
    }
   ],
   "source": [
    "from ad_afqmc import config, mpi_jax, wavefunctions\n",
    "import time\n",
    "from jax import random\n",
    "ham_data, ham, prop, trial, wave_data, sampler, observable, options, _ \\\n",
    "    = (mpi_jax._prep_afqmc(options))\n",
    "\n",
    "trial = wavefunctions.rhf(\n",
    "    trial.norb, trial.nelec,n_batch=trial.n_batch\n",
    "    )"
   ]
  },
  {
   "cell_type": "code",
   "execution_count": 25,
   "id": "87e9b2f9",
   "metadata": {},
   "outputs": [],
   "source": [
    "def thouless_trans(t1):\n",
    "    q, r = np.linalg.qr(t1)\n",
    "    u_ai = r.T\n",
    "    u_ji = q\n",
    "    u_occ = np.vstack((u_ji,u_ai))\n",
    "    u, _, _ = np.linalg.svd(u_occ)\n",
    "    return u"
   ]
  },
  {
   "cell_type": "code",
   "execution_count": 26,
   "id": "f1f972fe",
   "metadata": {},
   "outputs": [],
   "source": [
    "t1, t2 = wave_data['ci1'], wave_data['ci2']\n",
    "u = thouless_trans(t1)\n",
    "nocc = wave_data['ci1'].shape[0]\n",
    "norb = trial.norb\n",
    "trial_mo = u @ np.eye(norb)[:,:nocc]\n",
    "wave_data['mo_coeff'] = trial_mo\n",
    "# print(t1.shape,t2.shape,trial_mo.shape)\n",
    "rot_t1 = trial_mo.T.conjugate()[:,:nocc] @ t1\n",
    "rot_t2 = jnp.einsum('il,jk,lakb->iajb',trial_mo.T.conjugate()[:,:nocc],\n",
    "                   trial_mo.T.conjugate()[:,:nocc],t2)\n",
    "wave_data['t1'] = t1\n",
    "wave_data['t2'] = t2\n",
    "wave_data['rot_t1'] = rot_t1\n",
    "wave_data['rot_t2'] = rot_t2"
   ]
  },
  {
   "cell_type": "code",
   "execution_count": 27,
   "id": "dd3d57ba",
   "metadata": {},
   "outputs": [],
   "source": [
    "import h5py\n",
    "chol_file='FCIDUMP_chol'\n",
    "with h5py.File(chol_file, \"r\") as fh5:\n",
    "    [nelec, nmo, ms, nchol] = fh5[\"header\"]\n",
    "    h0 = jnp.array(fh5.get(\"energy_core\"))\n",
    "    h1 = jnp.array(fh5.get(\"hcore\")).reshape(nmo, nmo)\n",
    "    h1_mod = jnp.array(fh5.get(\"hcore_mod\")).reshape(nmo, nmo)\n",
    "    chol = jnp.array(fh5.get(\"chol\")).reshape(-1, nmo, nmo)\n",
    "\n",
    "ham_data['h1_mod'] = h1_mod"
   ]
  },
  {
   "cell_type": "code",
   "execution_count": null,
   "id": "fbab8579",
   "metadata": {},
   "outputs": [],
   "source": [
    "# from jax import lax\n",
    "# ### <psi|T2(h1+h2)|phi>/<psi|phi> ###\n",
    "# @partial(jit, static_argnums=2)\n",
    "# def _t2_walker_olp(walker,wave_data,trial):\n",
    "#     ''' t_iajb <psi|ijab|phi> '''\n",
    "#     rot_t2 = wave_data['rot_t2']\n",
    "#     nocc = walker.shape[1]\n",
    "#     # GF = (walker.dot(jnp.linalg.inv(walker[: nocc, :]))).T\n",
    "#     GF = trial._calc_green(walker, wave_data)\n",
    "#     # o0 = jnp.linalg.det(walker[: nocc, :]) ** 2\n",
    "#     # <psi|phi>\n",
    "#     o0 = trial._calc_overlap_restricted(walker, wave_data)\n",
    "#     # t_iajb <psi|ijab|phi>/<psi|phi>\n",
    "#     o2 = 2 * jnp.einsum(\n",
    "#         \"iajb, ia, jb\", rot_t2, GF[:, nocc:], GF[:, nocc:]\n",
    "#     ) - jnp.einsum(\"iajb, ib, ja\", rot_t2, GF[:, nocc:], GF[:, nocc:])\n",
    "#     return o2 * o0\n",
    "\n",
    "# @partial(jit, static_argnums=4)\n",
    "# def _t2_olp_exp1(x: float, h1_mod: jax.Array, walker: jax.Array,\n",
    "#                   wave_data: dict,trial) -> complex:\n",
    "#     '''\n",
    "#     t_iajb <psi|ijab exp(x*h1_mod)|walker>\n",
    "#     '''\n",
    "#     t = x * h1_mod\n",
    "#     walker_1x = walker + t.dot(walker)\n",
    "#     olp = _t2_walker_olp(walker_1x,wave_data,trial)\n",
    "#     return olp\n",
    "\n",
    "# @partial(jit, static_argnums=4)\n",
    "# def _t2_olp_exp2(x: float, chol_i: jax.Array, walker: jax.Array,\n",
    "#                   wave_data: dict, trial) -> complex:\n",
    "#     '''\n",
    "#     t_iajb <psi|ijab exp(x*h2_mod)|walker>\n",
    "#     '''\n",
    "#     walker_2x = (\n",
    "#             walker\n",
    "#             + x * chol_i.dot(walker)\n",
    "#             + x**2 / 2.0 * chol_i.dot(chol_i.dot(walker))\n",
    "#         )\n",
    "#     olp = _t2_walker_olp(walker_2x,wave_data,trial)\n",
    "#     return olp\n",
    "\n",
    "# @partial(jit, static_argnums=3)\n",
    "# def _ccsd_walker_energy_pt2(walker, ham_data, wave_data, trial, eps=3e-4):\n",
    "#     ''' \n",
    "#     <psi|T2|phi>/<psi|phi>\n",
    "#     <psi|H|phi>/<psi|phi>\n",
    "#     <psi|T2(h1+h2)|phi>/<psi|phi>\n",
    "#     '''\n",
    "#     norb = trial.norb\n",
    "#     # h0 = ham_data['h0']\n",
    "#     h1_mod = ham_data['h1_mod']\n",
    "#     chol = ham_data[\"chol\"].reshape(-1, norb, norb)\n",
    "\n",
    "#     # one body\n",
    "#     # t_ij^ab <psi|ijab|phi_1x>\n",
    "#     x = 0.0\n",
    "#     f1 = lambda a: _t2_olp_exp1(a,h1_mod,walker,wave_data,trial)\n",
    "#     t_olp, d_olp = jvp(f1, [x], [1.0])\n",
    "\n",
    "#     # two body\n",
    "#     # t_ij^ab <psi|ijab|phi_2x>\n",
    "#     def scanned_fun(carry, c):\n",
    "#         eps, walker, wave_data = carry\n",
    "#         return carry, _t2_olp_exp2(eps,c,walker,wave_data,trial)\n",
    "\n",
    "#     _, olp_p = lax.scan(scanned_fun, (eps, walker, wave_data), chol)\n",
    "#     _, olp_0 = lax.scan(scanned_fun, (0.0, walker, wave_data), chol)\n",
    "#     _, olp_m = lax.scan(scanned_fun, (-1.0 * eps, walker, wave_data), chol)\n",
    "#     d_2_olp = (olp_p - 2.0 * olp_0 + olp_m) / eps / eps\n",
    "   \n",
    "#     o0 = trial._calc_overlap_restricted(walker, wave_data)\n",
    "#     et2 = (d_olp + jnp.sum(d_2_olp) / 2.0 ) / o0\n",
    "\n",
    "#     # t2 = _t2_walker_olp(walker,wave_data,trial)/o0\n",
    "#     t2 = t_olp/o0\n",
    "#     e0 = trial._calc_energy_restricted(walker,ham_data,wave_data)\n",
    "\n",
    "#     return jnp.real(t2), jnp.real(e0), jnp.real(et2)"
   ]
  },
  {
   "cell_type": "code",
   "execution_count": null,
   "id": "305d0117",
   "metadata": {},
   "outputs": [
    {
     "name": "stdout",
     "output_type": "stream",
     "text": [
      "# Hostname: yichi-thinkpad\n",
      "# System Type: Linux\n",
      "# Machine Type: x86_64\n",
      "# Processor: x86_64\n",
      "init rhf walker energy:  -149.41833055685314\n",
      "mf enegry:  -149.41828948950712\n",
      "init ccsd_pt_walker energy:  -149.65039314564197\n",
      "ccsd energy:  -149.65039300514792\n",
      "ccsd energy with t1 t2:  -149.65039300514792\n",
      "ccsd energy with t1 0*t2:  -149.4183307691573\n",
      "ccsd energy with 0*t1 t2:  -149.65035172549776\n"
     ]
    }
   ],
   "source": [
    "from ad_afqmc.cisd_perturb import ccsd_pt2\n",
    "\n",
    "config.setup_jax()\n",
    "MPI = config.setup_comm()\n",
    "init = time.time()\n",
    "comm = MPI.COMM_WORLD\n",
    "size = comm.Get_size()\n",
    "rank = comm.Get_rank()\n",
    "seed = options[\"seed\"]\n",
    "neql = options[\"n_eql\"]\n",
    "\n",
    "trial_rdm1 = trial.get_rdm1(wave_data)\n",
    "if \"rdm1\" not in wave_data:\n",
    "    wave_data[\"rdm1\"] = trial_rdm1\n",
    "\n",
    "ham_data = ham.build_measurement_intermediates(ham_data, trial, wave_data)\n",
    "ham_data = ham.build_propagation_intermediates(\n",
    "    ham_data, prop, trial, wave_data\n",
    ")\n",
    "prop_data = prop.init_prop_data(trial, wave_data, ham_data, None)\n",
    "\n",
    "h0 = ham_data['h0']\n",
    "t, e0, e1 = ccsd_pt2._ccsd_walker_energy_pt2(\n",
    "    prop_data['walkers'][0],ham_data,wave_data,trial)\n",
    "init_ept = e0 + e1 - t*(e0-h0)\n",
    "\n",
    "prop_data[\"key\"] = random.PRNGKey(seed + rank)\n",
    "print('init rhf walker energy: ', prop_data['e_estimate'])\n",
    "print('mf enegry: ', mf.e_tot)\n",
    "print('init ccsd_pt_walker energy: ', init_ept)\n",
    "print('ccsd energy: ', mycc.e_tot)\n",
    "eris = mycc.ao2mo(mycc.mo_coeff)\n",
    "eccsd = mycc.energy(mycc.t1, mycc.t2, eris)\n",
    "print('ccsd energy with t1 t2: ', mf.e_tot+eccsd)\n",
    "eccsd = mycc.energy(mycc.t1, 0*mycc.t2, eris)\n",
    "print('ccsd energy with t1 0*t2: ', mf.e_tot+eccsd)\n",
    "eccsd = mycc.energy(mycc.t1*0, mycc.t2, eris)\n",
    "print('ccsd energy with 0*t1 t2: ', mf.e_tot+eccsd)"
   ]
  },
  {
   "cell_type": "code",
   "execution_count": 43,
   "id": "fe4ca319",
   "metadata": {},
   "outputs": [
    {
     "name": "stdout",
     "output_type": "stream",
     "text": [
      "2.026451668288865 0.02864646043994412 -149.49591693182734 -5.351594008490073\n",
      "-149.64829533591845\n"
     ]
    }
   ],
   "source": [
    "from ad_afqmc.cisd_perturb import sample_ccsd_pt2\n",
    "prop_data[\"n_killed_walkers\"] = 0\n",
    "prop_data, (blk_wt, blk_t, blk_e0, blk_e1) = \\\n",
    "    sample_ccsd_pt2._block_scan(prop_data,ham_data,prop,trial,wave_data,sampler)\n",
    "print(blk_wt, blk_t, blk_e0, blk_e1)\n",
    "print(blk_e0+blk_e1-blk_t*(blk_e0-h0))"
   ]
  }
 ],
 "metadata": {
  "kernelspec": {
   "display_name": "lno_pyscf_afqmc",
   "language": "python",
   "name": "python3"
  },
  "language_info": {
   "codemirror_mode": {
    "name": "ipython",
    "version": 3
   },
   "file_extension": ".py",
   "mimetype": "text/x-python",
   "name": "python",
   "nbconvert_exporter": "python",
   "pygments_lexer": "ipython3",
   "version": "3.10.16"
  }
 },
 "nbformat": 4,
 "nbformat_minor": 5
}
