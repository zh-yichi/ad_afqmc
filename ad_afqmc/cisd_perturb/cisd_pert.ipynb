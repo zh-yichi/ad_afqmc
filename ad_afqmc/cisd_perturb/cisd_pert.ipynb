{
 "cells": [
  {
   "cell_type": "code",
   "execution_count": 6,
   "id": "655561f0",
   "metadata": {},
   "outputs": [
    {
     "name": "stdout",
     "output_type": "stream",
     "text": [
      "System: uname_result(system='Linux', node='yichi-thinkpad', release='4.4.0-26100-Microsoft', version='#5074-Microsoft Fri Jan 01 08:00:00 PST 2016', machine='x86_64')  Threads 12\n",
      "Python 3.10.16 | packaged by conda-forge | (main, Dec  5 2024, 14:16:10) [GCC 13.3.0]\n",
      "numpy 1.24.3  scipy 1.14.1  h5py 3.12.1\n",
      "Date: Tue Oct  7 20:18:49 2025\n",
      "PySCF version 2.8.0\n",
      "PySCF path  /home/yichi/research/software/lno_pyscf\n",
      "GIT HEAD (branch master) ef75f4190e4de208685670651dc6c467f72b6794\n",
      "\n",
      "[ENV] PYSCF_EXT_PATH /home/yichi/research/software/pyscf\n",
      "[CONFIG] conf_file None\n",
      "[INPUT] verbose = 4\n",
      "[INPUT] num. atoms = 2\n",
      "[INPUT] num. electrons = 2\n",
      "[INPUT] charge = 0\n",
      "[INPUT] spin (= nelec alpha-beta = 2S) = 0\n",
      "[INPUT] symmetry False subgroup None\n",
      "[INPUT] Mole.unit = angstrom\n",
      "[INPUT] Symbol           X                Y                Z      unit          X                Y                Z       unit  Magmom\n",
      "[INPUT]  1 H      0.000000000000   0.000000000000   0.000000000000 AA    0.000000000000   0.000000000000   0.000000000000 Bohr   0.0\n",
      "[INPUT]  2 H      1.058350000000   0.000000000000   0.000000000000 AA    1.999991643933   0.000000000000   0.000000000000 Bohr   0.0\n",
      "\n",
      "nuclear repulsion = 0.50000208902537\n",
      "number of shells = 6\n",
      "number of NR pGTOs = 14\n",
      "number of NR cGTOs = 10\n",
      "basis = ccpvdz\n",
      "ecp = {}\n",
      "CPU time:        20.28\n"
     ]
    },
    {
     "name": "stdout",
     "output_type": "stream",
     "text": [
      "\n",
      "\n",
      "******** <class 'pyscf.scf.hf.RHF'> ********\n",
      "method = RHF\n",
      "initial guess = minao\n",
      "damping factor = 0\n",
      "level_shift factor = 0\n",
      "DIIS = <class 'pyscf.scf.diis.CDIIS'>\n",
      "diis_start_cycle = 1\n",
      "diis_space = 8\n",
      "diis_damp = 0\n",
      "SCF conv_tol = 1e-09\n",
      "SCF conv_tol_grad = None\n",
      "SCF max_cycles = 50\n",
      "direct_scf = True\n",
      "direct_scf_tol = 1e-13\n",
      "chkfile to save SCF result = /tmp/tmpg9oqsnyp\n",
      "max_memory 4000 MB (current use 328 MB)\n",
      "Set gradient conv threshold to 3.16228e-05\n",
      "Initial guess from minao.\n",
      "init E= -0.748858511004994\n",
      "  HOMO = -0.426161068043635  LUMO = 0.0766877521797008\n",
      "cycle= 1 E= -1.08857074742192  delta_E= -0.34  |g|= 0.043  |ddm|= 0.654\n",
      "  HOMO = -0.517282475779981  LUMO = 0.12692550158159\n",
      "cycle= 2 E= -1.08926784480653  delta_E= -0.000697  |g|= 0.00615  |ddm|= 0.0304\n",
      "  HOMO = -0.512615488754335  LUMO = 0.130822131736062\n",
      "cycle= 3 E= -1.08928341525217  delta_E= -1.56e-05  |g|= 0.000131  |ddm|= 0.00573\n",
      "  HOMO = -0.51252067419782  LUMO = 0.130887105448923\n",
      "cycle= 4 E= -1.0892834232258  delta_E= -7.97e-09  |g|= 2.83e-07  |ddm|= 0.000193\n",
      "  HOMO = -0.512524548559245  LUMO = 0.130887195511896\n",
      "cycle= 5 E= -1.08928342322583  delta_E= -3.11e-14  |g|= 2.03e-12  |ddm|= 3.59e-07\n",
      "  HOMO = -0.512524548555685  LUMO = 0.130887195512482\n",
      "Extra cycle  E= -1.08928342322583  delta_E= -4.44e-16  |g|= 3.87e-13  |ddm|= 2.72e-12\n",
      "converged SCF energy = -1.08928342322583\n",
      "\n",
      "******** <class 'pyscf.cc.ccsd.CCSD'> ********\n",
      "CC2 = 0\n",
      "CCSD nocc = 1, nmo = 10\n",
      "max_cycle = 50\n",
      "direct = 0\n",
      "conv_tol = 1e-07\n",
      "conv_tol_normt = 1e-05\n",
      "diis_space = 6\n",
      "diis_start_cycle = 0\n",
      "diis_start_energy_diff = 1e+09\n",
      "max_memory 4000 MB (current use 328 MB)\n",
      "Init t2, MP2 energy = -1.11856426985671  E_corr(MP2) -0.0292808466308855\n",
      "Init E_corr(CCSD) = -0.0292808466308855\n",
      "cycle = 1  E_corr(CCSD) = -0.0366681768495847  dE = -0.00738733022  norm(t1,t2) = 0.0358524\n",
      "cycle = 2  E_corr(CCSD) = -0.0393172372684806  dE = -0.00264906042  norm(t1,t2) = 0.0159802\n",
      "cycle = 3  E_corr(CCSD) = -0.0414295334725637  dE = -0.0021122962  norm(t1,t2) = 0.00764068\n",
      "cycle = 4  E_corr(CCSD) = -0.0414050511061613  dE = 2.44823664e-05  norm(t1,t2) = 0.000501303\n",
      "cycle = 5  E_corr(CCSD) = -0.0414058293303082  dE = -7.78224147e-07  norm(t1,t2) = 2.79176e-05\n",
      "cycle = 6  E_corr(CCSD) = -0.0414043951315536  dE = 1.43419875e-06  norm(t1,t2) = 4.80628e-06\n",
      "cycle = 7  E_corr(CCSD) = -0.0414045100372157  dE = -1.14905662e-07  norm(t1,t2) = 6.11817e-07\n",
      "cycle = 8  E_corr(CCSD) = -0.0414044922301436  dE = 1.78070721e-08  norm(t1,t2) = 8.66733e-08\n",
      "CCSD converged\n",
      "E(CCSD) = -1.130687915455971  E_corr = -0.04140449223014365\n"
     ]
    }
   ],
   "source": [
    "from pyscf import gto, scf, cc\n",
    "import numpy as np\n",
    "from jax import numpy as jnp\n",
    "from jax import vmap, jvp, jit\n",
    "import jax\n",
    "from functools import partial\n",
    "\n",
    "a = 1.05835 # 2aB\n",
    "nH = 2\n",
    "atoms = \"\"\n",
    "for i in range(nH):\n",
    "    atoms += f\"H {i*a:.5f} 0.00000 0.00000 \\n\"\n",
    "\n",
    "mol = gto.M(atom=atoms, basis=\"ccpvdz\", verbose=4)\n",
    "mol.build()\n",
    "\n",
    "mf = scf.RHF(mol)#.density_fit()\n",
    "e = mf.kernel()\n",
    "\n",
    "mycc = cc.CCSD(mf)\n",
    "e = mycc.kernel()"
   ]
  },
  {
   "cell_type": "code",
   "execution_count": null,
   "id": "04ea9ce2",
   "metadata": {},
   "outputs": [
    {
     "data": {
      "text/plain": [
       "-1.1400118000000001"
      ]
     },
     "execution_count": 2,
     "metadata": {},
     "output_type": "execute_result"
    }
   ],
   "source": [
    "nH = np.array([2,10,20,30])\n",
    "e_pt = np.array([-1.110291,-5.700059,-12.043936,-19.424740])"
   ]
  },
  {
   "cell_type": "code",
   "execution_count": 7,
   "id": "ac17ffeb",
   "metadata": {},
   "outputs": [],
   "source": [
    "options = {'n_eql': 4,\n",
    "           'n_prop_steps': 10,\n",
    "            'n_ene_blocks': 1,\n",
    "            'n_sr_blocks': 10,\n",
    "            'n_blocks': 10,\n",
    "            'n_walkers': 2,\n",
    "            'seed': 2,\n",
    "            'walker_type': 'rhf',\n",
    "            'trial': 'cisd',\n",
    "            'dt':0.005,\n",
    "            'free_projection':False,\n",
    "            'ad_mode':None,\n",
    "            'use_gpu': False,\n",
    "            }"
   ]
  },
  {
   "cell_type": "code",
   "execution_count": 8,
   "id": "bea81633",
   "metadata": {},
   "outputs": [
    {
     "name": "stdout",
     "output_type": "stream",
     "text": [
      "#\n",
      "# Preparing AFQMC calculation\n",
      "# If you import pyscf cc modules and use MPI for AFQMC in the same script, finalize MPI before calling the AFQMC driver.\n",
      "# Calculating Cholesky integrals\n",
      "# Finished calculating Cholesky integrals\n",
      "#\n",
      "# Size of the correlation space:\n",
      "# Number of electrons: (1, 1)\n",
      "# Number of basis functions: 10\n",
      "# Number of Cholesky vectors: 53\n",
      "#\n",
      "# Number of MPI ranks: 1\n",
      "#\n",
      "# norb: 10\n",
      "# nelec: (1, 1)\n",
      "#\n",
      "# n_eql: 4\n",
      "# n_prop_steps: 10\n",
      "# n_ene_blocks: 1\n",
      "# n_sr_blocks: 10\n",
      "# n_blocks: 10\n",
      "# n_walkers: 2\n",
      "# seed: 2\n",
      "# walker_type: rhf\n",
      "# trial: cisd\n",
      "# dt: 0.005\n",
      "# free_projection: False\n",
      "# use_gpu: False\n",
      "# n_exp_terms: 6\n",
      "# orbital_rotation: True\n",
      "# do_sr: True\n",
      "# symmetry: False\n",
      "# save_walkers: False\n",
      "# ene0: 0.0\n",
      "# n_batch: 1\n",
      "# LNO: False\n",
      "# orbE: 0\n",
      "# maxError: 0.001\n",
      "#\n"
     ]
    }
   ],
   "source": [
    "from ad_afqmc import pyscf_interface, mpi_jax, wavefunctions\n",
    "from ad_afqmc.cisd_perturb import sample_pt\n",
    "pyscf_interface.prep_afqmc(mycc,chol_cut=1e-7)\n",
    "ham_data, ham, prop, trial, wave_data, sampler, observable, options, _ \\\n",
    "    = (mpi_jax._prep_afqmc(options))\n",
    "\n",
    "# sample_pt.run_afqmc_cisd_pt(options)"
   ]
  },
  {
   "cell_type": "code",
   "execution_count": 31,
   "id": "33232b8e",
   "metadata": {},
   "outputs": [
    {
     "name": "stdout",
     "output_type": "stream",
     "text": [
      "[-1.109868   -1.1154005  -1.12118233 -1.1266505 ]\n",
      "[-1.108873  -1.1087315 -1.108455  -1.108171 ]\n"
     ]
    }
   ],
   "source": [
    "ept = np.array([-1.109868,-2.230801,-3.363547,-4.506602])\n",
    "eog = np.array([-1.108873,-2.217463,-3.325365,-4.432684])\n",
    "nH = np.array([1,2,3,4])\n",
    "print(ept/nH)\n",
    "print(eog/nH)"
   ]
  },
  {
   "cell_type": "code",
   "execution_count": null,
   "id": "5e774b7f",
   "metadata": {},
   "outputs": [],
   "source": [
    "# H2\n",
    "# AFQMC/CISD_PT energy: -1.109868 +/- 0.000154\n",
    "# AFQMC/CISD_OG energy: -1.108873 +/- 0.000000\n",
    "# H4\n",
    "# AFQMC/CISD_PT energy: -2.230801 +/- 0.001449\n",
    "# AFQMC/CISD_OG energy: -2.217463 +/- 0.000114\n",
    "# H6\n",
    "# AFQMC/CISD_PT energy: -3.363547 +/- 0.004001\n",
    "# AFQMC/CISD_OG energy: -3.325365 +/- 0.000157\n",
    "# H8\n",
    "# AFQMC/CISD_PT energy: -4.506602 +/- 0.006388\n",
    "# AFQMC/CISD_OG energy: -4.432684 +/- 0.000155"
   ]
  },
  {
   "cell_type": "code",
   "execution_count": null,
   "id": "d01629d0",
   "metadata": {},
   "outputs": [],
   "source": [
    "##############################################\n",
    "# H2 \n",
    "# perturbation order: 2\n",
    "# AFQMC/CISD_PT energy: -1.061530 +/- 0.000197\n",
    "# AFQMC/CISD_OG energy: -1.061535 +/- 0.000000\n",
    "# perturbation order: 4\n",
    "# AFQMC/CISD_PT energy: -1.061534 +/- 0.000005\n",
    "# AFQMC/CISD_OG energy: -1.061535 +/- 0.000000\n",
    "##############################################\n",
    "# H4\n",
    "# perturbation order: 2\n",
    "# AFQMC/CISD_PT energy: -2.067483 +/- 0.012023\n",
    "# AFQMC/CISD_OG energy: -2.011336 +/- 0.002036\n",
    "# perturbation order: 4\n",
    "# AFQMC/CISD_PT energy: -2.012654 +/- 0.002468\n",
    "# AFQMC/CISD_OG energy: -2.011239 +/- 0.002183\n",
    "##############################################"
   ]
  },
  {
   "cell_type": "code",
   "execution_count": null,
   "id": "e69a2e7f",
   "metadata": {},
   "outputs": [],
   "source": [
    "# trial_pt = wavefunctions.cisd_pt(trial.norb, trial.nelec,n_batch=trial.n_batch)\n",
    "# _calc_ept = trial_pt._calc_energy_pt_restricted\n",
    "# calc_ept = trial_pt.calc_energy_pt_restricted"
   ]
  },
  {
   "cell_type": "code",
   "execution_count": 9,
   "id": "db93a44b",
   "metadata": {},
   "outputs": [
    {
     "name": "stdout",
     "output_type": "stream",
     "text": [
      "-1.1306879221783035\n",
      "-1.1306879154559715\n",
      "(-1.089283428571869+0j)\n",
      "-1.0892834232258277\n"
     ]
    }
   ],
   "source": [
    "from mpi4py import MPI\n",
    "from jax import random\n",
    "\n",
    "comm = MPI.COMM_WORLD\n",
    "size = comm.Get_size()\n",
    "rank = comm.Get_rank()\n",
    "seed = options[\"seed\"]\n",
    "neql = options[\"n_eql\"]\n",
    "\n",
    "# trial_rdm1 = trial.get_rdm1(wave_data)\n",
    "# if \"rdm1\" not in wave_data:\n",
    "#     wave_data[\"rdm1\"] = trial_rdm1\n",
    "\n",
    "trial_rhf = wavefunctions.rhf(trial.norb,trial.nelec)\n",
    "nocc = trial.nelec[0]\n",
    "wave_data['mo_coeff'] = np.eye(trial.norb)[:,:nocc]\n",
    "ham_data = trial_rhf._build_measurement_intermediates(ham_data,wave_data)\n",
    "ham_data = ham.build_measurement_intermediates(ham_data, trial, wave_data)\n",
    "ham_data = ham.build_propagation_intermediates(ham_data, prop, trial, wave_data)\n",
    "\n",
    "# v0 the one-body energy from the reordering of the \n",
    "# two-body operators into non-normal ordered form\n",
    "norb = trial.norb\n",
    "chol = ham_data[\"chol\"].reshape(-1, norb, norb)\n",
    "h1 = (ham_data[\"h1\"][0] + ham_data[\"h1\"][1]) / 2.0\n",
    "v0 = 0.5 * jnp.einsum(\"gik,gjk->ij\",\n",
    "                        chol.reshape(-1, norb, norb),\n",
    "                        chol.reshape(-1, norb, norb),\n",
    "                        optimize=\"optimal\")\n",
    "h1_mod = h1 - v0 \n",
    "ham_data['h1_mod'] = h1_mod\n",
    "\n",
    "init_walkers = None\n",
    "prop_data = prop.init_prop_data(trial, wave_data, ham_data, init_walkers)\n",
    "prop_data['n_killed_walkers'] = 0\n",
    "prop_data[\"key\"] = random.PRNGKey(seed + rank)\n",
    "init_walker = prop_data['walkers'][0]\n",
    "print(prop_data['e_estimate'])\n",
    "print(mycc.e_tot)\n",
    "print(trial_rhf._calc_energy_restricted(init_walker,ham_data,wave_data))\n",
    "print(mf.e_tot)"
   ]
  },
  {
   "cell_type": "code",
   "execution_count": 10,
   "id": "92433789",
   "metadata": {},
   "outputs": [],
   "source": [
    "from jax import lax\n",
    "from jax import config, jit\n",
    "config.update(\"jax_enable_x64\", True)\n",
    "\n",
    "@jax.jit\n",
    "def _cisd_walker_olp(walker,wave_data):\n",
    "    ci1,ci2 = wave_data['ci1'], wave_data['ci2']\n",
    "    nocc = walker.shape[1]\n",
    "    GF = (walker.dot(jnp.linalg.inv(walker[: nocc, :]))).T\n",
    "    o0 = jnp.linalg.det(walker[: nocc, :]) ** 2\n",
    "    o1 = jnp.einsum(\"ia,ia\", ci1, GF[:, nocc:])\n",
    "    o2 = 2 * jnp.einsum(\n",
    "        \"iajb, ia, jb\", ci2, GF[:, nocc:], GF[:, nocc:]\n",
    "    ) - jnp.einsum(\"iajb, ib, ja\", ci2, GF[:, nocc:], GF[:, nocc:])\n",
    "    return (1.0 + 2 * o1 + o2) * o0\n",
    "\n",
    "@jax.jit\n",
    "def _cisd_olp_exp1(x: float, h1_mod: jax.Array, walker: jax.Array,\n",
    "                  wave_data: dict) -> complex:\n",
    "    '''\n",
    "    <psi_ccsd|exp(x*h1_mod)|walker>\n",
    "    '''\n",
    "    t = x * h1_mod\n",
    "    walker_1x = walker + t.dot(walker)\n",
    "    # olp = trial._calc_overlap_restricted(walker_1x, wave_data)\n",
    "    olp = _cisd_walker_olp(walker_1x, wave_data)\n",
    "    return olp\n",
    "\n",
    "@jax.jit\n",
    "def _cisd_olp_exp2(x: float, chol_i: jax.Array, walker: jax.Array,\n",
    "                  wave_data: dict) -> complex:\n",
    "    '''\n",
    "    <psi_ccsd|exp(x*h2_mod)|walker>/<psi_ccsd|walker>\n",
    "    '''\n",
    "    walker_2x = (\n",
    "            walker\n",
    "            + x * chol_i.dot(walker)\n",
    "            + x**2 / 2.0 * chol_i.dot(chol_i.dot(walker))\n",
    "        )\n",
    "    olp = _cisd_walker_olp(walker_2x, wave_data)\n",
    "    # olp = trial._calc_overlap_restricted(walker_2x, wave_data)\n",
    "    return olp\n",
    "\n",
    "@partial(jit, static_argnums=(3,))\n",
    "def _cisd_walker_energy(\n",
    "    walker: jax.Array,\n",
    "    ham_data: dict,\n",
    "    wave_data: dict,\n",
    "    trial: wavefunctions,\n",
    "    eps :float = 3e-4\n",
    "):\n",
    "\n",
    "    norb = trial.norb\n",
    "    chol = ham_data[\"chol\"].reshape(-1, norb, norb)\n",
    "    h1_mod = ham_data['h1_mod']\n",
    "    # h1 = (ham_data[\"h1\"][0] + ham_data[\"h1\"][1]) / 2.0\n",
    "    # # v1 the one-body energy from the reordering of the \n",
    "    # # two-body operators into non-normal ordered form\n",
    "    # v0 = 0.5 * jnp.einsum(\"gik,gjk->ij\",\n",
    "    #                         chol.reshape(-1, norb, norb),\n",
    "    #                         chol.reshape(-1, norb, norb),\n",
    "    #                         optimize=\"optimal\")\n",
    "    # h1_mod = h1 - v0 \n",
    "    # cisd_olp = trial._calc_overlap_restricted(walker, wave_data)\n",
    "    # cisd_olp = _cisd_walker_olp(walker,wave_data)\n",
    "    # zero body\n",
    "    h0 = ham_data[\"h0\"]\n",
    "    # mod_olp = _frg_mod_ci_olp_restricted(walker,wave_data)\n",
    "\n",
    "    x = 0.0\n",
    "    # one body\n",
    "    f1 = lambda a: _cisd_olp_exp1(a,h1_mod,walker,wave_data)\n",
    "    overlap, d_overlap = jvp(f1, [x], [1.0])\n",
    "\n",
    "    # two body\n",
    "    def scanned_fun(carry, c):\n",
    "        eps, walker, wave_data = carry\n",
    "        return carry, _cisd_olp_exp2(eps,c,walker,wave_data)\n",
    "\n",
    "    _, overlap_p = lax.scan(scanned_fun, (eps, walker, wave_data), chol)\n",
    "    _, overlap_0 = lax.scan(scanned_fun, (0.0, walker, wave_data), chol)\n",
    "    _, overlap_m = lax.scan(scanned_fun, (-1.0 * eps, walker, wave_data), chol)\n",
    "    d_2_overlap = (overlap_p - 2.0 * overlap_0 + overlap_m) / eps / eps\n",
    "    \n",
    "    e_cisd = h0 + (d_overlap + jnp.sum(d_2_overlap) / 2.0 )/ overlap\n",
    "\n",
    "    return e_cisd"
   ]
  },
  {
   "cell_type": "code",
   "execution_count": 11,
   "id": "36ba9341",
   "metadata": {},
   "outputs": [],
   "source": [
    "@jax.jit\n",
    "def _hf_walker_olp(walker):\n",
    "    nocc = walker.shape[1]\n",
    "    o0 = jnp.linalg.det(walker[: nocc, :]) ** 2\n",
    "    return o0\n",
    "\n",
    "@jax.jit\n",
    "def _hf_olp_exp1(x: float, h1_mod: jax.Array, walker: jax.Array) -> complex:\n",
    "    '''\n",
    "    <psi_0|exp(x*h1_mod)|walker>\n",
    "    '''\n",
    "    t = x * h1_mod\n",
    "    walker_1x = walker + t.dot(walker)\n",
    "    # olp = trial._calc_overlap_restricted(walker_1x, wave_data)\n",
    "    olp = _hf_walker_olp(walker_1x)\n",
    "    return olp\n",
    "\n",
    "@jax.jit\n",
    "def _hf_olp_exp2(x: float, chol_i: jax.Array, walker: jax.Array) -> complex:\n",
    "    '''\n",
    "    <psi_0|exp(x*h2_mod)|walker>\n",
    "    '''\n",
    "    walker_2x = (\n",
    "            walker\n",
    "            + x * chol_i.dot(walker)\n",
    "            + x**2 / 2.0 * chol_i.dot(chol_i.dot(walker))\n",
    "        )\n",
    "    olp = _hf_walker_olp(walker_2x)\n",
    "    # olp = trial._calc_overlap_restricted(walker_2x, wave_data)\n",
    "    return olp\n",
    "\n",
    "def _e0(walker, ham_data, eps=3e-4):\n",
    "    norb = trial.norb\n",
    "    h0 = ham_data['h0']\n",
    "    h1_mod = ham_data['h1_mod']\n",
    "    chol = ham_data[\"chol\"].reshape(-1, norb, norb)\n",
    "\n",
    "    # one body\n",
    "    x = 0.0\n",
    "    f1 = lambda a: _hf_olp_exp1(a,h1_mod,walker)\n",
    "    olp, d_olp = jvp(f1, [x], [1.0])\n",
    "\n",
    "    # two body\n",
    "    def scanned_fun(carry, c):\n",
    "        eps, walker = carry\n",
    "        return carry, _hf_olp_exp2(eps,c,walker)\n",
    "\n",
    "    _, olp_p = lax.scan(scanned_fun, (eps, walker), chol)\n",
    "    _, olp_0 = lax.scan(scanned_fun, (0.0, walker), chol)\n",
    "    _, olp_m = lax.scan(scanned_fun, (-1.0 * eps, walker), chol)\n",
    "    d_2_olp = (olp_p - 2.0 * olp_0 + olp_m) / eps / eps\n",
    "\n",
    "    e_0= h0 + (d_olp + jnp.sum(d_2_olp) / 2.0 )/ olp\n",
    "\n",
    "    return e_0"
   ]
  },
  {
   "cell_type": "code",
   "execution_count": 12,
   "id": "d7551ec0",
   "metadata": {},
   "outputs": [
    {
     "name": "stdout",
     "output_type": "stream",
     "text": [
      "(-1.0892834338083683+0j)\n",
      "-1.0892834232258277\n"
     ]
    }
   ],
   "source": [
    "print(_e0(init_walker,ham_data))\n",
    "print(mf.e_tot)"
   ]
  },
  {
   "cell_type": "code",
   "execution_count": 13,
   "id": "b33d729e",
   "metadata": {},
   "outputs": [],
   "source": [
    "@jax.jit\n",
    "def _ci1_walker_olp(walker: jax.Array,wave_data: dict):\n",
    "    '''ci_ia <psi_i^a|phi>'''\n",
    "    ci1= wave_data['ci1']\n",
    "    nocc = walker.shape[1]\n",
    "    GF = (walker.dot(jnp.linalg.inv(walker[: nocc, :]))).T\n",
    "    o0 = jnp.linalg.det(walker[: nocc, :]) ** 2\n",
    "    o1 = jnp.einsum(\"ia,ia\", ci1, GF[:, nocc:])\n",
    "    return 2 * o0 * o1\n",
    "\n",
    "@jax.jit\n",
    "def _ci1_olp_exp1(x: float, h1_mod: jax.Array, walker: jax.Array,\n",
    "                  wave_data: dict) -> complex:\n",
    "    '''\n",
    "    c_ia <psi_i^a|exp(x*h1_mod)|walker>\n",
    "    '''\n",
    "    t = x * h1_mod\n",
    "    walker_1x = walker + t.dot(walker)\n",
    "    olp = _ci1_walker_olp(walker_1x,wave_data)\n",
    "    return olp\n",
    "\n",
    "@jax.jit\n",
    "def _ci1_olp_exp2(x: float, chol_i: jax.Array, walker: jax.Array,\n",
    "                  wave_data: dict) -> complex:\n",
    "    '''\n",
    "    c_ia <psi_i^a|exp(x*h2_mod)|walker>\n",
    "    '''\n",
    "    walker_2x = (\n",
    "            walker\n",
    "            + x * chol_i.dot(walker)\n",
    "            + x**2 / 2.0 * chol_i.dot(chol_i.dot(walker))\n",
    "        )\n",
    "    olp = _ci1_walker_olp(walker_2x,wave_data)\n",
    "    return olp\n",
    "\n",
    "def _e1(walker,ham_data,wave_data,eps=3e-4):\n",
    "    norb = trial.norb\n",
    "    h0 = ham_data['h0']\n",
    "    h1_mod = ham_data['h1_mod']\n",
    "    chol = ham_data[\"chol\"].reshape(-1, norb, norb)\n",
    "\n",
    "    hf_olp = _hf_walker_olp(walker)\n",
    "    ci1_olp = _ci1_walker_olp(walker,wave_data)\n",
    "\n",
    "    # one body\n",
    "    x = 0.0\n",
    "    f1 = lambda a: _ci1_olp_exp1(a,h1_mod,walker,wave_data)\n",
    "    _, d_olp = jvp(f1, [x], [1.0])\n",
    "\n",
    "    # two body\n",
    "    def scanned_fun(carry, c):\n",
    "        eps, walker, wave_data = carry\n",
    "        return carry, _ci1_olp_exp2(eps,c,walker,wave_data)\n",
    "\n",
    "    _, olp_p = lax.scan(scanned_fun, (eps, walker, wave_data), chol)\n",
    "    _, olp_0 = lax.scan(scanned_fun, (0.0, walker, wave_data), chol)\n",
    "    _, olp_m = lax.scan(scanned_fun, (-1.0 * eps, walker, wave_data), chol)\n",
    "    d_2_olp = (olp_p - 2.0 * olp_0 + olp_m) / eps / eps\n",
    "\n",
    "    e_1 = (h0 * ci1_olp + d_olp + jnp.sum(d_2_olp) / 2.0 ) / hf_olp\n",
    "\n",
    "    return e_1"
   ]
  },
  {
   "cell_type": "code",
   "execution_count": 14,
   "id": "7c4c3e4d",
   "metadata": {},
   "outputs": [
    {
     "data": {
      "text/plain": [
       "Array(-3.35382682e-10+0.j, dtype=complex128)"
      ]
     },
     "execution_count": 14,
     "metadata": {},
     "output_type": "execute_result"
    }
   ],
   "source": [
    "_e1(init_walker,ham_data,wave_data)"
   ]
  },
  {
   "cell_type": "code",
   "execution_count": 15,
   "id": "81c4c317",
   "metadata": {},
   "outputs": [],
   "source": [
    "@jax.jit\n",
    "def _ci2_walker_olp(walker,wave_data):\n",
    "    ''' c_ij^ab <psi_ij^ab|phi> '''\n",
    "    ci2 = wave_data['ci2']\n",
    "    nocc = walker.shape[1]\n",
    "    GF = (walker.dot(jnp.linalg.inv(walker[: nocc, :]))).T\n",
    "    o0 = jnp.linalg.det(walker[: nocc, :]) ** 2\n",
    "    o2 = 2 * jnp.einsum(\n",
    "        \"iajb, ia, jb\", ci2, GF[:, nocc:], GF[:, nocc:]\n",
    "    ) - jnp.einsum(\"iajb, ib, ja\", ci2, GF[:, nocc:], GF[:, nocc:])\n",
    "    return o2 * o0\n",
    "\n",
    "@jax.jit\n",
    "def _ci2_olp_exp1(x: float, h1_mod: jax.Array, walker: jax.Array,\n",
    "                  wave_data: dict) -> complex:\n",
    "    '''\n",
    "    c_ia <psi_i^a|exp(x*h1_mod)|walker>\n",
    "    '''\n",
    "    t = x * h1_mod\n",
    "    walker_1x = walker + t.dot(walker)\n",
    "    olp = _ci2_walker_olp(walker_1x,wave_data)\n",
    "    return olp\n",
    "\n",
    "@jax.jit\n",
    "def _ci2_olp_exp2(x: float, chol_i: jax.Array, walker: jax.Array,\n",
    "                  wave_data: dict) -> complex:\n",
    "    '''\n",
    "    c_ia <psi_i^a|exp(x*h2_mod)|walker>\n",
    "    '''\n",
    "    walker_2x = (\n",
    "            walker\n",
    "            + x * chol_i.dot(walker)\n",
    "            + x**2 / 2.0 * chol_i.dot(chol_i.dot(walker))\n",
    "        )\n",
    "    olp = _ci2_walker_olp(walker_2x,wave_data)\n",
    "    return olp\n",
    "\n",
    "def _e2(walker,ham_data,wave_data,eps = 3e-4):\n",
    "    norb = trial.norb\n",
    "    h0 = ham_data['h0']\n",
    "    h1_mod = ham_data['h1_mod']\n",
    "    chol = ham_data[\"chol\"].reshape(-1, norb, norb)\n",
    "\n",
    "   \n",
    "    # zero body\n",
    "    # c_ij^ab <psi_ij^ab|phi>/<psi_0|phi> * h0\n",
    "    hf_olp = _hf_walker_olp(walker)\n",
    "    ci2_olp = _ci2_walker_olp(walker,wave_data)\n",
    "\n",
    "    # one body\n",
    "    # c_ij^ab <psi_ij^ab|phi_1x>/<psi_0|phi>\n",
    "    x = 0.0\n",
    "    f1 = lambda a: _ci2_olp_exp1(a,h1_mod,walker,wave_data)\n",
    "    _, d_olp = jvp(f1, [x], [1.0])\n",
    "\n",
    "    # two body\n",
    "    # c_ij^ab <psi_ij^ab|phi_2x>/<psi_0|phi>\n",
    "    def scanned_fun(carry, c):\n",
    "        eps, walker, wave_data = carry\n",
    "        return carry, _ci2_olp_exp2(eps,c,walker,wave_data)\n",
    "\n",
    "    _, olp_p = lax.scan(scanned_fun, (eps, walker, wave_data), chol)\n",
    "    _, olp_0 = lax.scan(scanned_fun, (0.0, walker, wave_data), chol)\n",
    "    _, olp_m = lax.scan(scanned_fun, (-1.0 * eps, walker, wave_data), chol)\n",
    "    d_2_olp = (olp_p - 2.0 * olp_0 + olp_m) / eps / eps\n",
    "    \n",
    "   \n",
    "    e_2 = (h0 * ci2_olp + d_olp + jnp.sum(d_2_olp) / 2.0 ) / hf_olp\n",
    "\n",
    "    return e_2"
   ]
  },
  {
   "cell_type": "code",
   "execution_count": 20,
   "id": "a613db16",
   "metadata": {},
   "outputs": [],
   "source": [
    "def _cisd_walker_energy2(walker,ham_data,wave_data):\n",
    "    ci1,ci2 = wave_data['ci1'],wave_data['ci2']\n",
    "    nocc = trial.nelec[0]\n",
    "    green = (walker.dot(jnp.linalg.inv(walker[:nocc, :]))).T\n",
    "    green = green[:nocc,:]\n",
    "    green_occ = green[:, nocc:].copy()\n",
    "    ci1g = jnp.einsum(\"ia,ia->\", ci1, green_occ, optimize=\"optimal\")\n",
    "    ci2g_c = jnp.einsum(\"iajb,ia->jb\", ci2, green_occ)\n",
    "    ci2g_e = jnp.einsum(\"iajb,ib->ja\", ci2, green_occ)\n",
    "    ci2g = 2 * ci2g_c - ci2g_e\n",
    "    gci2g = jnp.einsum(\"ia,ia->\", ci2g, green_occ, optimize=\"optimal\")\n",
    "    # olp = 1 + 2*ci1g + gci2g\n",
    "    c1 = 2*ci1g\n",
    "    c2 = gci2g\n",
    "    e0 = _e0(walker,ham_data)\n",
    "    e1 = _e1(walker,ham_data,wave_data)\n",
    "    e2 = _e2(walker,ham_data,wave_data)\n",
    "    E0 = e0\n",
    "    E1 = e1 - c1*e0\n",
    "    E2 = e2 - c1*e1 + (c1**2-c2)*e0\n",
    "    e_pt = jnp.real(E0+E1+E2)\n",
    "    e_og = jnp.real((e0+e1+e2)/(1+c1+c2))\n",
    "    return e_pt,e_og"
   ]
  },
  {
   "cell_type": "code",
   "execution_count": 17,
   "id": "11c2d47c",
   "metadata": {},
   "outputs": [
    {
     "data": {
      "text/plain": [
       "Array(-1.13068792+0.j, dtype=complex128)"
      ]
     },
     "execution_count": 17,
     "metadata": {},
     "output_type": "execute_result"
    }
   ],
   "source": [
    "trial._calc_energy_restricted(init_walker, ham_data, wave_data)"
   ]
  },
  {
   "cell_type": "code",
   "execution_count": 18,
   "id": "32eb7c73",
   "metadata": {},
   "outputs": [
    {
     "data": {
      "text/plain": [
       "Array(-1.08928343+0.j, dtype=complex128)"
      ]
     },
     "execution_count": 18,
     "metadata": {},
     "output_type": "execute_result"
    }
   ],
   "source": [
    "trial_rhf._calc_energy_restricted(prop_data['walkers'][0],ham_data,wave_data)"
   ]
  },
  {
   "cell_type": "code",
   "execution_count": 21,
   "id": "3b5b18c3",
   "metadata": {},
   "outputs": [
    {
     "name": "stdout",
     "output_type": "stream",
     "text": [
      "(-1.1306879352869244+0j)\n",
      "(Array(-1.13068793, dtype=float64), Array(-1.13068793, dtype=float64))\n"
     ]
    }
   ],
   "source": [
    "e_cisd1 = _cisd_walker_energy(prop_data['walkers'][0],ham_data,wave_data,trial)\n",
    "e_cisd2 = _cisd_walker_energy2(prop_data['walkers'][0],ham_data,wave_data)\n",
    "print(e_cisd1)\n",
    "print(e_cisd2)"
   ]
  },
  {
   "cell_type": "code",
   "execution_count": 29,
   "id": "29b98861",
   "metadata": {},
   "outputs": [
    {
     "name": "stdout",
     "output_type": "stream",
     "text": [
      "(-1.1306879334828799-3.1513106571459137e-10j)\n",
      "(-1.1306879307678406+2.089750929672679e-08j)\n",
      "-1.130687964526556\n",
      "-1.1308625239322474\n"
     ]
    }
   ],
   "source": [
    "prop_data, (block_energy, block_weight) \\\n",
    "    = sampler._block_scan(prop_data,None,ham_data,prop,trial,wave_data)\n",
    "e_cisd = trial._calc_energy_restricted(prop_data['walkers'][0], ham_data, wave_data)\n",
    "e_cisd1 = _cisd_walker_energy(prop_data['walkers'][0],ham_data,wave_data,trial)\n",
    "e_cisd_pt, e_cisd_og = _cisd_walker_energy2(prop_data['walkers'][0],ham_data,wave_data)\n",
    "print(e_cisd)\n",
    "print(e_cisd1)\n",
    "print(e_cisd_og)\n",
    "print(e_cisd_pt)"
   ]
  },
  {
   "cell_type": "code",
   "execution_count": 6,
   "id": "a4e81211",
   "metadata": {},
   "outputs": [
    {
     "name": "stdout",
     "output_type": "stream",
     "text": [
      "(-3.1696890335603705+0j)\n",
      "-3.169688859436266\n",
      "-3.1696889262316006\n",
      "(1.0732876987162854e-07+0j)\n",
      "(1.7412410446837612e-07+0j)\n"
     ]
    }
   ],
   "source": [
    "e_cisd = _cisd_walker_energy(init_walker,ham_data,wave_data,trial)\n",
    "print(e_cisd)\n",
    "print(prop_data['e_estimate'])\n",
    "print(mycc.e_tot)\n",
    "print(mycc.e_tot-e_cisd)\n",
    "print(prop_data['e_estimate']-e_cisd)"
   ]
  },
  {
   "cell_type": "code",
   "execution_count": null,
   "id": "d00814fb",
   "metadata": {},
   "outputs": [],
   "source": [
    "# def thouless_trans(t1):\n",
    "#     q, r = np.linalg.qr(t1)\n",
    "#     u_ai = r.T\n",
    "#     u_ji = q\n",
    "#     u_occ = np.vstack((u_ji,u_ai))\n",
    "#     u, _, _ = np.linalg.svd(u_occ)\n",
    "#     return u"
   ]
  },
  {
   "cell_type": "code",
   "execution_count": null,
   "id": "8cb8c170",
   "metadata": {},
   "outputs": [],
   "source": [
    "# t1 = wave_data[\"ci1\"]\n",
    "# nocc = trial.nelec[0]\n",
    "# u_t1 = thouless_trans(t1)\n",
    "# u_occ = u_t1[:,:nocc]\n",
    "# wave_data['u_t1'] = u_occ"
   ]
  },
  {
   "cell_type": "code",
   "execution_count": null,
   "id": "8a917a51",
   "metadata": {},
   "outputs": [],
   "source": [
    "# from ad_afqmc import wavefunctions\n",
    "# calc_e_rhf = wavefunctions.rhf(trial.norb, trial.nelec,n_batch=trial.n_batch\n",
    "#                                 )._calc_energy_restricted\n",
    "# calc_e_rhf()"
   ]
  },
  {
   "cell_type": "code",
   "execution_count": null,
   "id": "5250f55a",
   "metadata": {},
   "outputs": [
    {
     "name": "stdout",
     "output_type": "stream",
     "text": [
      "(3, 6)\n",
      "[[ 1.39059730e-17+0.j  1.43713517e-16+0.j -3.71730138e-16+0.j]\n",
      " [-9.02056208e-17+0.j -1.66533454e-16+0.j  5.31171182e-33+0.j]\n",
      " [-4.74822782e-17+0.j -1.59134048e-16+0.j  4.91004945e-17+0.j]]\n"
     ]
    }
   ],
   "source": [
    "# walker = prop_data['walkers'][0]\n",
    "# green = (walker.dot(jnp.linalg.inv(walker[:nocc, :]))).T\n",
    "# # green = (walker.dot(jnp.linalg.inv(u_occ.T @ walker))) @ u_occ.T\n",
    "# print(green.shape)\n",
    "# print(green[:nocc,nocc:])"
   ]
  },
  {
   "cell_type": "code",
   "execution_count": null,
   "id": "58aec897",
   "metadata": {},
   "outputs": [
    {
     "name": "stdout",
     "output_type": "stream",
     "text": [
      "(6.539875472771294e-19+0j)\n"
     ]
    }
   ],
   "source": [
    "# ci1 = wave_data[\"ci1\"]\n",
    "# g_ia = green[:nocc,nocc:]\n",
    "# ci1g = jnp.einsum(\"ia,ia->\", ci1, g_ia, optimize=\"optimal\")\n",
    "# print(ci1g)"
   ]
  },
  {
   "cell_type": "code",
   "execution_count": null,
   "id": "d713e7dc",
   "metadata": {},
   "outputs": [
    {
     "name": "stdout",
     "output_type": "stream",
     "text": [
      "(-2.846813597073128e-32+0j)\n"
     ]
    }
   ],
   "source": [
    "# ci2g_c = jnp.einsum(\"iajb,ia->jb\", ci2, g_ia)\n",
    "# ci2g_e = jnp.einsum(\"iajb,ib->ja\", ci2, g_ia)\n",
    "# ci2g = 2 * ci2g_c - ci2g_e\n",
    "# gci2g = jnp.einsum(\"ia,ia->\", ci2g, g_ia,optimize=\"optimal\")\n",
    "# print(gci2g)"
   ]
  },
  {
   "cell_type": "code",
   "execution_count": null,
   "id": "f7b5ddd1",
   "metadata": {},
   "outputs": [],
   "source": [
    "ci2g = 2 * ci2g_c - ci2g_e\n",
    "ci2g_c = jnp.einsum(\"iajb,ia->jb\", ci2, green_occ)\n",
    "ci2g_e = jnp.einsum(\"iajb,ib->ja\", ci2, green_occ)\n",
    "ci1g = jnp.einsum(\"ia,ia->\", ci1, green_occ, optimize=\"optimal\")\n",
    "gci2g = jnp.einsum(\"ia,ia->\", ci2g, green_occ, optimize=\"optimal\")\n",
    "olp = 1 + 2*ci1g - gci2g"
   ]
  },
  {
   "cell_type": "code",
   "execution_count": null,
   "id": "a479c963",
   "metadata": {},
   "outputs": [],
   "source": [
    "from jax import lax\n",
    "def _calc_ccsd_walker_pert_energy(trial, walker, ham_data, wave_data):\n",
    "    ci1, ci2, u_t1 = wave_data[\"ci1\"], wave_data[\"ci2\"], wave_data['u_t1']\n",
    "    ci2 = ci2 - jnp.einsum('ia,jb->iajb',ci1,ci1)\n",
    "    ci1 = np.zeros_like(ci1)\n",
    "    # ci2 = np.zeros_like(ci2)\n",
    "    nocc = trial.nelec[0]\n",
    "    green = (walker.dot(jnp.linalg.inv(u_t1.T @ walker))) @ u_t1.T\n",
    "    green = green[:nocc,:]\n",
    "    green_occ = green[:, nocc:].copy()\n",
    "    greenp = jnp.vstack((green_occ, -jnp.eye(trial.norb - nocc)))\n",
    "\n",
    "    chol = ham_data[\"chol\"].reshape(-1, trial.norb, trial.norb)\n",
    "    rot_chol = chol[:, : trial.nelec[0], :]\n",
    "    h1 = (ham_data[\"h1\"][0] + ham_data[\"h1\"][1]) / 2.0\n",
    "    hg = jnp.einsum(\"pj,pj->\", h1[:nocc, :], green)\n",
    "\n",
    "    # 0 body energy\n",
    "    e0 = ham_data[\"h0\"]\n",
    "\n",
    "    # 1 body energy\n",
    "    # ref\n",
    "    e1_0 = 2 * hg\n",
    "\n",
    "    # single excitations\n",
    "    # ci1g = jnp.einsum(\"ia,ia->\", ci1, green_occ, optimize=\"optimal\")\n",
    "    # e1_1_1 = 4 * ci1g * hg\n",
    "    # gpci1 = greenp @ ci1.T\n",
    "    # ci1_green = gpci1 @ green\n",
    "    # e1_1_2 = -2 * jnp.einsum(\"ij,ij->\", h1, ci1_green, optimize=\"optimal\")\n",
    "    # e1_1 = e1_1_1 + e1_1_2\n",
    "\n",
    "    # double excitations\n",
    "    # ci2g_c = jnp.einsum(\"ptqu,pt->qu\", ci2, green_occ)\n",
    "    ci2g_c = jnp.einsum(\"iajb,ia->jb\", ci2, green_occ)\n",
    "    ci2g_e = jnp.einsum(\"iajb,ib->ja\", ci2, green_occ)\n",
    "    ci2_green_c = (greenp @ ci2g_c.T) @ green\n",
    "    ci2_green_e = (greenp @ ci2g_e.T) @ green\n",
    "    ci2_green = 2 * ci2_green_c - ci2_green_e\n",
    "    ci2g = 2 * ci2g_c - ci2g_e\n",
    "    gci2g = jnp.einsum(\"ia,ia->\", ci2g, green_occ, optimize=\"optimal\")\n",
    "    e1_2_1 = 2 * hg * gci2g\n",
    "    e1_2_2 = -2 * jnp.einsum(\"ij,ij->\", h1, ci2_green, optimize=\"optimal\")\n",
    "    e1_2 = e1_2_1 + e1_2_2\n",
    "    # e1 = e1_0 + e1_1 + e1_2\n",
    "    e1 = e1_0 + e1_2\n",
    "\n",
    "    # two body energy\n",
    "    # ref\n",
    "    lg = jnp.einsum(\"gpj,pj->g\", rot_chol, green, optimize=\"optimal\")\n",
    "    # lg1 = jnp.einsum(\"gpj,pk->gjk\", rot_chol, green, optimize=\"optimal\")\n",
    "    lg1 = jnp.einsum(\"gpj,qj->gpq\", rot_chol, green, optimize=\"optimal\")\n",
    "    e2_0_1 = 2 * lg @ lg\n",
    "    e2_0_2 = -jnp.sum(vmap(lambda x: x * x.T)(lg1))\n",
    "    e2_0 = e2_0_1 + e2_0_2\n",
    "\n",
    "    # single excitations\n",
    "    # e2_1_1 = 2 * e2_0 * ci1g\n",
    "    # lci1g = jnp.einsum(\"gij,ij->g\", chol, ci1_green, optimize=\"optimal\")\n",
    "    # e2_1_2 = -2 * (lci1g @ lg)\n",
    "    # lci1g1 = jnp.einsum(\"gij,jk->gik\", chol, ci1_green, optimize=\"optimal\")\n",
    "    # glgpci1 = jnp.einsum((\"gpi,iq->gpq\"), gl, gpci1, optimize=\"optimal\")\n",
    "    # ci1g1 = ci1 @ green_occ.T\n",
    "    # e2_1_3 = jnp.einsum(\"gpq,gpq->\", glgpci1, lg1, optimize=\"optimal\")\n",
    "    # e2_1_3_1 = jnp.einsum(\"gpq,gqr,rp->\", lg1, lg1, ci1g1, optimize=\"optimal\")\n",
    "    # lci1g = jnp.einsum(\"gip,qi->gpq\", ham_data[\"lci1\"], green, optimize=\"optimal\")\n",
    "    # e2_1_3_2 = -jnp.einsum(\"gpq,gqp->\", lci1g, lg1, optimize=\"optimal\")\n",
    "    # e2_1_3 = e2_1_3_1 + e2_1_3_2\n",
    "    # e2_1 = e2_1_1 + 2 * (e2_1_2 + e2_1_3)\n",
    "\n",
    "    # double excitations\n",
    "    e2_2_1 = e2_0 * gci2g\n",
    "    lci2g = jnp.einsum(\"gij,ij->g\", chol, ci2_green, optimize=\"optimal\")\n",
    "    e2_2_2_1 = -lci2g @ lg\n",
    "\n",
    "    # lci2g1 = jnp.einsum(\"gij,jk->gik\", chol, ci2_green, optimize=\"optimal\")\n",
    "    # lci2_green = jnp.einsum(\"gpi,ji->gpj\", rot_chol, ci2_green, optimize=\"optimal\")\n",
    "    # e2_2_2_2 = 0.5 * jnp.einsum(\"gpi,gpi->\", gl, lci2_green, optimize=\"optimal\")\n",
    "    def scanned_fun(carry, x):\n",
    "        chol_i, rot_chol_i = x\n",
    "        gl_i = jnp.einsum(\"pj,ji->pi\", green, chol_i, optimize=\"optimal\")\n",
    "        lci2_green_i = jnp.einsum(\n",
    "            \"pi,ji->pj\", rot_chol_i, ci2_green, optimize=\"optimal\"\n",
    "        )\n",
    "        carry[0] += 0.5 * jnp.einsum(\n",
    "            \"pi,pi->\", gl_i, lci2_green_i, optimize=\"optimal\"\n",
    "        )\n",
    "        glgp_i = jnp.einsum(\"pi,it->pt\", gl_i, greenp, optimize=\"optimal\").astype(\n",
    "            jnp.complex64\n",
    "        )\n",
    "        l2ci2_1 = jnp.einsum(\n",
    "            \"pt,qu,ptqu->\",\n",
    "            glgp_i,\n",
    "            glgp_i,\n",
    "            ci2.astype(jnp.float32),\n",
    "            optimize=\"optimal\",\n",
    "        )\n",
    "        l2ci2_2 = jnp.einsum(\n",
    "            \"pu,qt,ptqu->\",\n",
    "            glgp_i,\n",
    "            glgp_i,\n",
    "            ci2.astype(jnp.float32),\n",
    "            optimize=\"optimal\",\n",
    "        )\n",
    "        carry[1] += 2 * l2ci2_1 - l2ci2_2\n",
    "        return carry, 0.0\n",
    "\n",
    "    [e2_2_2_2, e2_2_3], _ = lax.scan(scanned_fun, [0.0, 0.0], (chol, rot_chol))\n",
    "    e2_2_2 = 4 * (e2_2_2_1 + e2_2_2_2)\n",
    "\n",
    "    e2_2 = e2_2_1 + e2_2_2 + e2_2_3\n",
    "\n",
    "    # e2 = e2_0 + e2_1 + e2_2\n",
    "    e2 = e2_0 + e2_2\n",
    "\n",
    "    # overlap\n",
    "    # overlap_1 = 2 * ci1g  # jnp.einsum(\"ia,ia\", ci1, green_occ)\n",
    "    overlap_2 = gci2g\n",
    "    # overlap = 1.0 + overlap_1 + overlap_2\n",
    "    overlap = 1.0 + overlap_2\n",
    "    # olp_inv = 1 - 2*ci1g - gci2g + (2*ci1g)**2\n",
    "    olp_inv = 1 - gci2g + gci2g**2\n",
    "    \n",
    "    e_pert = (e1 + e2) * olp_inv + e0\n",
    "    e_orig = (e1 + e2) / overlap + e0\n",
    "\n",
    "    # return (e1 + e2) / overlap + e0\n",
    "    return e_pert, e_orig, gci2g"
   ]
  },
  {
   "cell_type": "code",
   "execution_count": null,
   "id": "b6d946c2",
   "metadata": {},
   "outputs": [],
   "source": [
    "prop_data, (block_energy, block_weight) \\\n",
    "    = sampler._block_scan(prop_data,None,ham_data,prop,trial,wave_data)\n",
    "e_cisd = trial._calc_energy_restricted(prop_data['walkers'][0], ham_data, wave_data)\n",
    "e_cisd_ad = _cisd_walker_energy(prop_data['walkers'][0],ham_data,wave_data,trial)\n",
    "print(e_cisd)\n",
    "print(e_cisd_ad)\n",
    "print(e_cisd_ad-e_cisd)"
   ]
  },
  {
   "cell_type": "code",
   "execution_count": null,
   "id": "52c7946f",
   "metadata": {},
   "outputs": [
    {
     "name": "stdout",
     "output_type": "stream",
     "text": [
      "[-2.11122414+0.00012413j -2.11035962-0.00060481j]\n",
      "[-2.11161642+0.00052951j -2.11010058-0.00108187j]\n"
     ]
    }
   ],
   "source": [
    "# e_pt, e_og = calc_ept(prop_data['walkers'],ham_data,wave_data)\n",
    "# print(e_pt)\n",
    "# print(e_og)"
   ]
  },
  {
   "cell_type": "code",
   "execution_count": 20,
   "id": "fd84b8c3",
   "metadata": {},
   "outputs": [
    {
     "name": "stdout",
     "output_type": "stream",
     "text": [
      "(-3.1670389076467966-0.0010301384697907466j)\n",
      "(-3.167037763930943-0.0010299900618797834j)\n",
      "(1.143715853579863e-06+1.4840791096319868e-07j)\n"
     ]
    }
   ],
   "source": [
    "e_cisd = trial._calc_energy_restricted(prop_data['walkers'][0], ham_data, wave_data)\n",
    "e_cisd_ad = _cisd_walker_energy(prop_data['walkers'][0],ham_data,wave_data,trial)\n",
    "print(e_cisd)\n",
    "print(e_cisd_ad)\n",
    "print(e_cisd_ad-e_cisd)"
   ]
  },
  {
   "cell_type": "code",
   "execution_count": 8,
   "id": "1ba6580a",
   "metadata": {},
   "outputs": [
    {
     "data": {
      "text/plain": [
       "Array(-3.16935951-0.00071635j, dtype=complex128)"
      ]
     },
     "execution_count": 8,
     "metadata": {},
     "output_type": "execute_result"
    }
   ],
   "source": [
    "trial._calc_energy_restricted(prop_data['walkers'][0], ham_data, wave_data)"
   ]
  },
  {
   "cell_type": "code",
   "execution_count": null,
   "id": "d35055c4",
   "metadata": {},
   "outputs": [
    {
     "name": "stdout",
     "output_type": "stream",
     "text": [
      "-2.7501475540010003 2.4901828913079822e-06\n"
     ]
    }
   ],
   "source": [
    "# t2_0 = np.zeros(mycc.t2.shape)\n",
    "# eris = mycc.ao2mo(mycc.mo_coeff)\n",
    "# eccsd = mycc.energy(mycc.t1, t2_0, eris)\n",
    "# ecc_t2_0 = eccsd+mf.e_tot\n",
    "# print(ecc_t2_0,eccsd)"
   ]
  },
  {
   "cell_type": "code",
   "execution_count": null,
   "id": "86b5d5d8",
   "metadata": {},
   "outputs": [],
   "source": []
  }
 ],
 "metadata": {
  "kernelspec": {
   "display_name": "lno_pyscf_afqmc",
   "language": "python",
   "name": "python3"
  },
  "language_info": {
   "codemirror_mode": {
    "name": "ipython",
    "version": 3
   },
   "file_extension": ".py",
   "mimetype": "text/x-python",
   "name": "python",
   "nbconvert_exporter": "python",
   "pygments_lexer": "ipython3",
   "version": "3.10.16"
  }
 },
 "nbformat": 4,
 "nbformat_minor": 5
}
