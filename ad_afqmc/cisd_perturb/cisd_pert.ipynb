{
 "cells": [
  {
   "cell_type": "code",
   "execution_count": 1,
   "id": "655561f0",
   "metadata": {},
   "outputs": [
    {
     "name": "stdout",
     "output_type": "stream",
     "text": [
      "System: uname_result(system='Linux', node='yichi-thinkpad', release='4.4.0-26100-Microsoft', version='#5074-Microsoft Fri Jan 01 08:00:00 PST 2016', machine='x86_64')  Threads 12\n",
      "Python 3.10.16 | packaged by conda-forge | (main, Dec  5 2024, 14:16:10) [GCC 13.3.0]\n",
      "numpy 1.24.3  scipy 1.14.1  h5py 3.12.1\n",
      "Date: Mon Oct  6 12:23:06 2025\n",
      "PySCF version 2.8.0\n",
      "PySCF path  /home/yichi/research/software/lno_pyscf\n",
      "GIT HEAD (branch master) ef75f4190e4de208685670651dc6c467f72b6794\n",
      "\n",
      "[ENV] PYSCF_EXT_PATH /home/yichi/research/software/pyscf\n",
      "[CONFIG] conf_file None\n",
      "[INPUT] verbose = 4\n",
      "[INPUT] num. atoms = 4\n",
      "[INPUT] num. electrons = 4\n",
      "[INPUT] charge = 0\n",
      "[INPUT] spin (= nelec alpha-beta = 2S) = 0\n",
      "[INPUT] symmetry False subgroup None\n",
      "[INPUT] Mole.unit = angstrom\n",
      "[INPUT] Symbol           X                Y                Z      unit          X                Y                Z       unit  Magmom\n",
      "[INPUT]  1 H      0.000000000000   0.000000000000   0.000000000000 AA    0.000000000000   0.000000000000   0.000000000000 Bohr   0.0\n",
      "[INPUT]  2 H      1.500000000000   0.000000000000   0.000000000000 AA    2.834589186848   0.000000000000   0.000000000000 Bohr   0.0\n",
      "[INPUT]  3 H      3.000000000000   0.000000000000   0.000000000000 AA    5.669178373695   0.000000000000   0.000000000000 Bohr   0.0\n",
      "[INPUT]  4 H      4.500000000000   0.000000000000   0.000000000000 AA    8.503767560543   0.000000000000   0.000000000000 Bohr   0.0\n",
      "\n",
      "nuclear repulsion = 1.52873416488\n",
      "number of shells = 16\n",
      "number of NR pGTOs = 16\n",
      "number of NR cGTOs = 16\n",
      "basis = crenbl\n",
      "ecp = {}\n",
      "CPU time:         2.16\n",
      "\n",
      "\n",
      "******** <class 'pyscf.scf.hf.RHF'> ********\n",
      "method = RHF\n",
      "initial guess = minao\n",
      "damping factor = 0\n",
      "level_shift factor = 0\n",
      "DIIS = <class 'pyscf.scf.diis.CDIIS'>\n",
      "diis_start_cycle = 1\n",
      "diis_space = 8\n",
      "diis_damp = 0\n",
      "SCF conv_tol = 1e-09\n",
      "SCF conv_tol_grad = None\n",
      "SCF max_cycles = 50\n",
      "direct_scf = True\n",
      "direct_scf_tol = 1e-13\n",
      "chkfile to save SCF result = /tmp/tmp2nnniqs_\n",
      "max_memory 4000 MB (current use 163 MB)\n",
      "Set gradient conv threshold to 3.16228e-05\n",
      "Initial guess from minao.\n",
      "init E= -1.39352507363045\n",
      "  HOMO = -0.264340396540421  LUMO = -0.081973427527612\n",
      "cycle= 1 E= -1.99577005360457  delta_E= -0.602  |g|= 0.0639  |ddm|= 0.847\n",
      "  HOMO = -0.392059863295025  LUMO = -0.0391535079587484\n",
      "cycle= 2 E= -2.00007125002432  delta_E= -0.0043  |g|= 0.0226  |ddm|= 0.184\n",
      "  HOMO = -0.394561105645726  LUMO = -0.028881637044049\n",
      "cycle= 3 E= -2.00085010308981  delta_E= -0.000779  |g|= 0.0053  |ddm|= 0.078\n",
      "  HOMO = -0.396330326436842  LUMO = -0.0281834059712749\n",
      "cycle= 4 E= -2.00088806418318  delta_E= -3.8e-05  |g|= 0.000741  |ddm|= 0.0169\n",
      "  HOMO = -0.396386384972719  LUMO = -0.0280087445349596\n",
      "cycle= 5 E= -2.00088869273592  delta_E= -6.29e-07  |g|= 5.51e-05  |ddm|= 0.00168\n",
      "  HOMO = -0.396423425731178  LUMO = -0.0280213197497795\n",
      "cycle= 6 E= -2.00088869461144  delta_E= -1.88e-09  |g|= 3.45e-06  |ddm|= 0.000177\n",
      "  HOMO = -0.396421275953582  LUMO = -0.0280226442030189\n",
      "cycle= 7 E= -2.00088869461899  delta_E= -7.55e-12  |g|= 3.42e-07  |ddm|= 1.03e-05\n",
      "  HOMO = -0.396421636063074  LUMO = -0.0280225126706663\n",
      "Extra cycle  E= -2.00088869461909  delta_E= -1.01e-13  |g|= 1.04e-07  |ddm|= 6.11e-07\n",
      "converged SCF energy = -2.00088869461909\n",
      "\n",
      "******** <class 'pyscf.cc.ccsd.CCSD'> ********\n",
      "CC2 = 0\n",
      "CCSD nocc = 2, nmo = 16\n",
      "max_cycle = 50\n",
      "direct = 0\n",
      "conv_tol = 1e-07\n",
      "conv_tol_normt = 1e-05\n",
      "diis_space = 6\n",
      "diis_start_cycle = 0\n",
      "diis_start_energy_diff = 1e+09\n",
      "max_memory 4000 MB (current use 168 MB)\n",
      "Init t2, MP2 energy = -2.06103095274587  E_corr(MP2) -0.0601422581267812\n",
      "Init E_corr(CCSD) = -0.0601422581267897\n",
      "cycle = 1  E_corr(CCSD) = -0.0832270721702957  dE = -0.023084814  norm(t1,t2) = 0.0949711\n",
      "cycle = 2  E_corr(CCSD) = -0.0955842294135636  dE = -0.0123571572  norm(t1,t2) = 0.0571878\n",
      "cycle = 3  E_corr(CCSD) = -0.110628162119085  dE = -0.0150439327  norm(t1,t2) = 0.0337359\n",
      "cycle = 4  E_corr(CCSD) = -0.111262546271625  dE = -0.000634384153  norm(t1,t2) = 0.00833524\n",
      "cycle = 5  E_corr(CCSD) = -0.111304390755142  dE = -4.18444835e-05  norm(t1,t2) = 0.00584469\n",
      "cycle = 6  E_corr(CCSD) = -0.112077630466836  dE = -0.000773239712  norm(t1,t2) = 0.00249622\n",
      "cycle = 7  E_corr(CCSD) = -0.111699420670585  dE = 0.000378209796  norm(t1,t2) = 0.000840629\n",
      "cycle = 8  E_corr(CCSD) = -0.11171061280456  dE = -1.1192134e-05  norm(t1,t2) = 0.00012711\n",
      "cycle = 9  E_corr(CCSD) = -0.111705632372565  dE = 4.980432e-06  norm(t1,t2) = 2.88214e-05\n",
      "cycle = 10  E_corr(CCSD) = -0.111705592164954  dE = 4.02076107e-08  norm(t1,t2) = 5.48518e-06\n",
      "CCSD converged\n",
      "E(CCSD) = -2.112594286784045  E_corr = -0.1117055921649543\n"
     ]
    }
   ],
   "source": [
    "from pyscf import gto, scf, cc\n",
    "import numpy as np\n",
    "from jax import numpy as jnp\n",
    "from jax import vmap\n",
    "\n",
    "a = 1.5 # 2aB\n",
    "nH = 4\n",
    "atoms = \"\"\n",
    "for i in range(nH):\n",
    "    atoms += f\"H {i*a:.5f} 0.00000 0.00000 \\n\"\n",
    "\n",
    "mol = gto.M(atom=atoms, basis=\"crenbl\", verbose=4)\n",
    "mol.build()\n",
    "\n",
    "mf = scf.RHF(mol)#.density_fit()\n",
    "e = mf.kernel()\n",
    "\n",
    "mycc = cc.CCSD(mf)\n",
    "e = mycc.kernel()"
   ]
  },
  {
   "cell_type": "code",
   "execution_count": 2,
   "id": "ac17ffeb",
   "metadata": {},
   "outputs": [],
   "source": [
    "options = {'n_eql': 4,\n",
    "           'n_prop_steps': 10,\n",
    "            'n_ene_blocks': 1,\n",
    "            'n_sr_blocks': 10,\n",
    "            'n_blocks': 10,\n",
    "            'n_walkers': 2,\n",
    "            'seed': 2,\n",
    "            'walker_type': 'rhf',\n",
    "            'trial': 'cisd',\n",
    "            'dt':0.005,\n",
    "            'free_projection':False,\n",
    "            'ad_mode':None,\n",
    "            'use_gpu': False,\n",
    "            }"
   ]
  },
  {
   "cell_type": "code",
   "execution_count": 3,
   "id": "bea81633",
   "metadata": {},
   "outputs": [
    {
     "name": "stdout",
     "output_type": "stream",
     "text": [
      "# Hostname: yichi-thinkpad\n",
      "# System Type: Linux\n",
      "# Machine Type: x86_64\n",
      "# Processor: x86_64\n",
      "#\n",
      "# Preparing AFQMC calculation\n",
      "# If you import pyscf cc modules and use MPI for AFQMC in the same script, finalize MPI before calling the AFQMC driver.\n",
      "# Calculating Cholesky integrals\n",
      "# Finished calculating Cholesky integrals\n",
      "#\n",
      "# Size of the correlation space:\n",
      "# Number of electrons: (2, 2)\n",
      "# Number of basis functions: 16\n",
      "# Number of Cholesky vectors: 60\n",
      "#\n",
      "# running AFQMC on CPU\n",
      "# Hostname: yichi-thinkpad\n",
      "# System Type: Linux\n",
      "# Machine Type: x86_64\n",
      "# Processor: x86_64\n",
      "# Number of MPI ranks: 10\n",
      "#\n",
      "# norb: 16\n",
      "# nelec: (2, 2)\n",
      "#\n",
      "# n_eql: 4\n",
      "# n_prop_steps: 10\n",
      "# n_ene_blocks: 1\n",
      "# n_sr_blocks: 10\n",
      "# n_blocks: 10\n",
      "# n_walkers: 2\n",
      "# seed: 2\n",
      "# walker_type: rhf\n",
      "# trial: cisd\n",
      "# dt: 0.005\n",
      "# free_projection: False\n",
      "# use_gpu: False\n",
      "# n_exp_terms: 6\n",
      "# orbital_rotation: True\n",
      "# do_sr: True\n",
      "# symmetry: False\n",
      "# save_walkers: False\n",
      "# n_batch: 1\n",
      "# ene0: 0\n",
      "# LNO: False\n",
      "# orbE: 0\n",
      "# maxError: 0.001\n",
      "#\n",
      "# Hostname: yichi-thinkpad\n",
      "# System Type: Linux\n",
      "# Machine Type: x86_64\n",
      "# Processor: x86_64\n",
      "# Equilibration sweeps:\n",
      "#   Iter \t energy_pt \t energy_og \t Walltime\n",
      "#     0 \t -2.11259426 \t -2.1125942604140344 \t 9.35\n"
     ]
    },
    {
     "name": "stderr",
     "output_type": "stream",
     "text": [
      "jax.errors.SimplifiedTraceback: For simplicity, JAX has removed its internal frames from the traceback of the following exception. Set JAX_TRACEBACK_FILTERING=off to include these.\n",
      "\n",
      "The above exception was the direct cause of the following exception:\n",
      "\n",
      "Traceback (most recent call last):\n",
      "  File \"/home/yichi/research/software/cs_afqmc/ad_afqmc/cisd_perturb/run_afqmc_cisd_pt.py\", line 51, in <module>\n",
      "jax.errors.SimplifiedTraceback: For simplicity, JAX has removed its internal frames from the traceback of the following exception. Set JAX_TRACEBACK_FILTERING=off to include these.\n",
      "\n",
      "The above exception was the direct cause of the following exception:\n",
      "\n",
      "Traceback (most recent call last):\n",
      "    prop_data, (blk_wt, blk_ept, blk_eog) = sample_pt.propagate_phaseless(\n",
      "  File \"/home/yichi/research/software/cs_afqmc/ad_afqmc/cisd_perturb/run_afqmc_cisd_pt.py\", line 51, in <module>\n",
      "  File \"/home/yichi/research/software/cs_afqmc/ad_afqmc/cisd_perturb/sample_pt.py\", line 100, in propagate_phaseless\n",
      "    prop_data, (blk_wt, blk_ept, blk_eog) = lax.scan(\n",
      "  File \"/home/yichi/research/software/cs_afqmc/ad_afqmc/cisd_perturb/sample_pt.py\", line 95, in _sr_block_scan_wrapper\n",
      "    prop_data, (blk_wt, blk_ept, blk_eog) = sample_pt.propagate_phaseless(\n",
      "  File \"/home/yichi/research/software/cs_afqmc/ad_afqmc/cisd_perturb/sample_pt.py\", line 100, in propagate_phaseless\n",
      "    return _sr_block_scan(x, y, ham_data, prop, trial, wave_data)\n",
      "ValueError: Non-hashable static arguments are not supported, as this can lead to unexpected cache-misses. Static argument (index 2) of type <class 'dict'> for function _sr_block_scan is non-hashable.\n",
      "    prop_data, (blk_wt, blk_ept, blk_eog) = lax.scan(\n",
      "  File \"/home/yichi/research/software/cs_afqmc/ad_afqmc/cisd_perturb/sample_pt.py\", line 95, in _sr_block_scan_wrapper\n",
      "    return _sr_block_scan(x, y, ham_data, prop, trial, wave_data)\n",
      "ValueError: Non-hashable static arguments are not supported, as this can lead to unexpected cache-misses. Static argument (index 2) of type <class 'dict'> for function _sr_block_scan is non-hashable.\n",
      "jax.errors.SimplifiedTraceback: For simplicity, JAX has removed its internal frames from the traceback of the following exception. Set JAX_TRACEBACK_FILTERING=off to include these.\n",
      "\n",
      "The above exception was the direct cause of the following exception:\n",
      "\n",
      "Traceback (most recent call last):\n",
      "  File \"/home/yichi/research/software/cs_afqmc/ad_afqmc/cisd_perturb/run_afqmc_cisd_pt.py\", line 51, in <module>\n",
      "    prop_data, (blk_wt, blk_ept, blk_eog) = sample_pt.propagate_phaseless(\n",
      "  File \"/home/yichi/research/software/cs_afqmc/ad_afqmc/cisd_perturb/sample_pt.py\", line 100, in propagate_phaseless\n",
      "jax.errors.SimplifiedTraceback: For simplicity, JAX has removed its internal frames from the traceback of the following exception. Set JAX_TRACEBACK_FILTERING=off to include these.\n",
      "\n",
      "The above exception was the direct cause of the following exception:\n",
      "\n",
      "Traceback (most recent call last):\n",
      "  File \"/home/yichi/research/software/cs_afqmc/ad_afqmc/cisd_perturb/run_afqmc_cisd_pt.py\", line 51, in <module>\n",
      "jax.errors.SimplifiedTraceback: For simplicity, JAX has removed its internal frames from the traceback of the following exception. Set JAX_TRACEBACK_FILTERING=off to include these.\n",
      "\n",
      "The above exception was the direct cause of the following exception:\n",
      "\n",
      "Traceback (most recent call last):\n",
      "  File \"/home/yichi/research/software/cs_afqmc/ad_afqmc/cisd_perturb/run_afqmc_cisd_pt.py\", line 51, in <module>\n",
      "    prop_data, (blk_wt, blk_ept, blk_eog) = lax.scan(\n",
      "  File \"/home/yichi/research/software/cs_afqmc/ad_afqmc/cisd_perturb/sample_pt.py\", line 95, in _sr_block_scan_wrapper\n",
      "jax.errors.SimplifiedTraceback: For simplicity, JAX has removed its internal frames from the traceback of the following exception. Set JAX_TRACEBACK_FILTERING=off to include these.\n",
      "jax.errors.SimplifiedTraceback: For simplicity, JAX has removed its internal frames from the traceback of the following exception. Set JAX_TRACEBACK_FILTERING=off to include these.\n",
      "\n",
      "The above exception was the direct cause of the following exception:\n",
      "\n",
      "Traceback (most recent call last):\n",
      "  File \"/home/yichi/research/software/cs_afqmc/ad_afqmc/cisd_perturb/run_afqmc_cisd_pt.py\", line 51, in <module>\n",
      "\n",
      "The above exception was the direct cause of the following exception:\n",
      "\n",
      "Traceback (most recent call last):\n",
      "  File \"/home/yichi/research/software/cs_afqmc/ad_afqmc/cisd_perturb/run_afqmc_cisd_pt.py\", line 51, in <module>\n",
      "    return _sr_block_scan(x, y, ham_data, prop, trial, wave_data)\n",
      "ValueError: Non-hashable static arguments are not supported, as this can lead to unexpected cache-misses. Static argument (index 2) of type <class 'dict'> for function _sr_block_scan is non-hashable.\n",
      "jax.errors.SimplifiedTraceback: For simplicity, JAX has removed its internal frames from the traceback of the following exception. Set JAX_TRACEBACK_FILTERING=off to include these.\n",
      "\n",
      "The above exception was the direct cause of the following exception:\n",
      "\n",
      "Traceback (most recent call last):\n",
      "  File \"/home/yichi/research/software/cs_afqmc/ad_afqmc/cisd_perturb/run_afqmc_cisd_pt.py\", line 51, in <module>\n",
      "    prop_data, (blk_wt, blk_ept, blk_eog) = sample_pt.propagate_phaseless(\n",
      "  File \"/home/yichi/research/software/cs_afqmc/ad_afqmc/cisd_perturb/sample_pt.py\", line 100, in propagate_phaseless\n",
      "    prop_data, (blk_wt, blk_ept, blk_eog) = lax.scan(\n",
      "  File \"/home/yichi/research/software/cs_afqmc/ad_afqmc/cisd_perturb/sample_pt.py\", line 95, in _sr_block_scan_wrapper\n",
      "jax.errors.SimplifiedTraceback: For simplicity, JAX has removed its internal frames from the traceback of the following exception. Set JAX_TRACEBACK_FILTERING=off to include these.\n",
      "\n",
      "The above exception was the direct cause of the following exception:\n",
      "\n",
      "Traceback (most recent call last):\n",
      "  File \"/home/yichi/research/software/cs_afqmc/ad_afqmc/cisd_perturb/run_afqmc_cisd_pt.py\", line 51, in <module>\n",
      "    prop_data, (blk_wt, blk_ept, blk_eog) = sample_pt.propagate_phaseless(\n",
      "  File \"/home/yichi/research/software/cs_afqmc/ad_afqmc/cisd_perturb/sample_pt.py\", line 100, in propagate_phaseless\n",
      "    prop_data, (blk_wt, blk_ept, blk_eog) = sample_pt.propagate_phaseless(\n",
      "  File \"/home/yichi/research/software/cs_afqmc/ad_afqmc/cisd_perturb/sample_pt.py\", line 100, in propagate_phaseless\n",
      "    prop_data, (blk_wt, blk_ept, blk_eog) = sample_pt.propagate_phaseless(\n",
      "  File \"/home/yichi/research/software/cs_afqmc/ad_afqmc/cisd_perturb/sample_pt.py\", line 100, in propagate_phaseless\n",
      "    prop_data, (blk_wt, blk_ept, blk_eog) = sample_pt.propagate_phaseless(\n",
      "  File \"/home/yichi/research/software/cs_afqmc/ad_afqmc/cisd_perturb/sample_pt.py\", line 100, in propagate_phaseless\n",
      "    return _sr_block_scan(x, y, ham_data, prop, trial, wave_data)\n",
      "ValueError: Non-hashable static arguments are not supported, as this can lead to unexpected cache-misses. Static argument (index 2) of type <class 'dict'> for function _sr_block_scan is non-hashable.\n",
      "    prop_data, (blk_wt, blk_ept, blk_eog) = sample_pt.propagate_phaseless(\n",
      "  File \"/home/yichi/research/software/cs_afqmc/ad_afqmc/cisd_perturb/sample_pt.py\", line 100, in propagate_phaseless\n",
      "    prop_data, (blk_wt, blk_ept, blk_eog) = lax.scan(\n",
      "  File \"/home/yichi/research/software/cs_afqmc/ad_afqmc/cisd_perturb/sample_pt.py\", line 95, in _sr_block_scan_wrapper\n",
      "    prop_data, (blk_wt, blk_ept, blk_eog) = lax.scan(\n",
      "  File \"/home/yichi/research/software/cs_afqmc/ad_afqmc/cisd_perturb/sample_pt.py\", line 95, in _sr_block_scan_wrapper\n",
      "    prop_data, (blk_wt, blk_ept, blk_eog) = lax.scan(\n",
      "  File \"/home/yichi/research/software/cs_afqmc/ad_afqmc/cisd_perturb/sample_pt.py\", line 95, in _sr_block_scan_wrapper\n",
      "    prop_data, (blk_wt, blk_ept, blk_eog) = lax.scan(\n",
      "  File \"/home/yichi/research/software/cs_afqmc/ad_afqmc/cisd_perturb/sample_pt.py\", line 95, in _sr_block_scan_wrapper\n",
      "    prop_data, (blk_wt, blk_ept, blk_eog) = lax.scan(\n",
      "  File \"/home/yichi/research/software/cs_afqmc/ad_afqmc/cisd_perturb/sample_pt.py\", line 95, in _sr_block_scan_wrapper\n",
      "    return _sr_block_scan(x, y, ham_data, prop, trial, wave_data)\n",
      "ValueError: Non-hashable static arguments are not supported, as this can lead to unexpected cache-misses. Static argument (index 2) of type <class 'dict'> for function _sr_block_scan is non-hashable.\n",
      "    return _sr_block_scan(x, y, ham_data, prop, trial, wave_data)\n",
      "ValueError: Non-hashable static arguments are not supported, as this can lead to unexpected cache-misses. Static argument (index 2) of type <class 'dict'> for function _sr_block_scan is non-hashable.\n",
      "jax.errors.SimplifiedTraceback: For simplicity, JAX has removed its internal frames from the traceback of the following exception. Set JAX_TRACEBACK_FILTERING=off to include these.\n",
      "\n",
      "The above exception was the direct cause of the following exception:\n",
      "\n",
      "Traceback (most recent call last):\n",
      "  File \"/home/yichi/research/software/cs_afqmc/ad_afqmc/cisd_perturb/run_afqmc_cisd_pt.py\", line 51, in <module>\n",
      "    return _sr_block_scan(x, y, ham_data, prop, trial, wave_data)\n",
      "ValueError: Non-hashable static arguments are not supported, as this can lead to unexpected cache-misses. Static argument (index 2) of type <class 'dict'> for function _sr_block_scan is non-hashable.\n",
      "    return _sr_block_scan(x, y, ham_data, prop, trial, wave_data)\n",
      "ValueError: Non-hashable static arguments are not supported, as this can lead to unexpected cache-misses. Static argument (index 2) of type <class 'dict'> for function _sr_block_scan is non-hashable.\n",
      "    return _sr_block_scan(x, y, ham_data, prop, trial, wave_data)\n",
      "ValueError: Non-hashable static arguments are not supported, as this can lead to unexpected cache-misses. Static argument (index 2) of type <class 'dict'> for function _sr_block_scan is non-hashable.\n",
      "    prop_data, (blk_wt, blk_ept, blk_eog) = sample_pt.propagate_phaseless(\n",
      "  File \"/home/yichi/research/software/cs_afqmc/ad_afqmc/cisd_perturb/sample_pt.py\", line 100, in propagate_phaseless\n",
      "    prop_data, (blk_wt, blk_ept, blk_eog) = lax.scan(\n",
      "  File \"/home/yichi/research/software/cs_afqmc/ad_afqmc/cisd_perturb/sample_pt.py\", line 95, in _sr_block_scan_wrapper\n",
      "    return _sr_block_scan(x, y, ham_data, prop, trial, wave_data)\n",
      "ValueError: Non-hashable static arguments are not supported, as this can lead to unexpected cache-misses. Static argument (index 2) of type <class 'dict'> for function _sr_block_scan is non-hashable.\n",
      "--------------------------------------------------------------------------\n",
      "prterun detected that one or more processes exited with non-zero status,\n",
      "thus causing the job to be terminated. The first process to do so was:\n",
      "\n",
      "   Process name: [prterun-yichi-thinkpad-8051@1,5]\n",
      "   Exit code:    1\n",
      "--------------------------------------------------------------------------\n"
     ]
    }
   ],
   "source": [
    "from ad_afqmc import pyscf_interface, mpi_jax, wavefunctions\n",
    "from ad_afqmc.cisd_perturb import sample_pt\n",
    "pyscf_interface.prep_afqmc(mycc,chol_cut=1e-7)\n",
    "# ham_data, ham, prop, trial, wave_data, sampler, observable, options, _ \\\n",
    "#     = (mpi_jax._prep_afqmc(options))\n",
    "\n",
    "sample_pt.run_afqmc_cisd_pt(options)"
   ]
  },
  {
   "cell_type": "code",
   "execution_count": null,
   "id": "d01629d0",
   "metadata": {},
   "outputs": [],
   "source": [
    "##############################################\n",
    "# H2 \n",
    "# perturbation order: 2\n",
    "# AFQMC/CISD_PT energy: -1.061530 +/- 0.000197\n",
    "# AFQMC/CISD_OG energy: -1.061535 +/- 0.000000\n",
    "# perturbation order: 4\n",
    "# AFQMC/CISD_PT energy: -1.061534 +/- 0.000005\n",
    "# AFQMC/CISD_OG energy: -1.061535 +/- 0.000000\n",
    "##############################################\n",
    "# H4\n",
    "# perturbation order: 2\n",
    "# AFQMC/CISD_PT energy: -2.067483 +/- 0.012023\n",
    "# AFQMC/CISD_OG energy: -2.011336 +/- 0.002036\n",
    "# perturbation order: 4\n",
    "# AFQMC/CISD_PT energy: -2.012654 +/- 0.002468\n",
    "# AFQMC/CISD_OG energy: -2.011239 +/- 0.002183\n",
    "##############################################"
   ]
  },
  {
   "cell_type": "code",
   "execution_count": 8,
   "id": "e69a2e7f",
   "metadata": {},
   "outputs": [],
   "source": [
    "trial_pt = wavefunctions.cisd_pt(trial.norb, trial.nelec,n_batch=trial.n_batch)\n",
    "_calc_ept = trial_pt._calc_energy_pt_restricted\n",
    "calc_ept = trial_pt.calc_energy_pt_restricted"
   ]
  },
  {
   "cell_type": "code",
   "execution_count": 9,
   "id": "db93a44b",
   "metadata": {},
   "outputs": [
    {
     "name": "stdout",
     "output_type": "stream",
     "text": [
      "-2.1125942604140326\n",
      "-2.112594286784044\n",
      "2.637001150773699e-08\n",
      "-2.1125942604140326 -2.1125942604140326\n",
      "0.0\n",
      "[-2.11259426 -2.11259426]\n",
      "[-2.11259426 -2.11259426]\n"
     ]
    }
   ],
   "source": [
    "from mpi4py import MPI\n",
    "from jax import random\n",
    "\n",
    "comm = MPI.COMM_WORLD\n",
    "size = comm.Get_size()\n",
    "rank = comm.Get_rank()\n",
    "seed = options[\"seed\"]\n",
    "neql = options[\"n_eql\"]\n",
    "\n",
    "# trial_rdm1 = trial.get_rdm1(wave_data)\n",
    "# if \"rdm1\" not in wave_data:\n",
    "#     wave_data[\"rdm1\"] = trial_rdm1\n",
    "\n",
    "ham_data = ham.build_measurement_intermediates(ham_data, trial, wave_data)\n",
    "ham_data = ham.build_propagation_intermediates(ham_data, prop, trial, wave_data)\n",
    "\n",
    "init_walkers = None\n",
    "prop_data = prop.init_prop_data(trial, wave_data, ham_data, init_walkers)\n",
    "prop_data['n_killed_walkers'] = 0\n",
    "prop_data[\"key\"] = random.PRNGKey(seed + rank)\n",
    "init_walker = prop_data['walkers'][0]\n",
    "print(prop_data['e_estimate'])\n",
    "print(mycc.e_tot)\n",
    "print(prop_data['e_estimate']-mycc.e_tot)\n",
    "e_pt,e_og = _calc_ept(init_walker, ham_data, wave_data)\n",
    "print(e_pt,e_og)\n",
    "print(e_pt-e_og)\n",
    "e_pt,e_og = calc_ept(prop_data['walkers'], ham_data, wave_data)\n",
    "print(e_pt)\n",
    "print(e_og)"
   ]
  },
  {
   "cell_type": "code",
   "execution_count": 11,
   "id": "3415c876",
   "metadata": {},
   "outputs": [
    {
     "name": "stdout",
     "output_type": "stream",
     "text": [
      "(2, 14) (2, 14, 2, 14)\n"
     ]
    }
   ],
   "source": [
    "ci1, ci2 = wave_data[\"ci1\"], wave_data[\"ci2\"]\n",
    "print(ci1.shape,ci2.shape)\n",
    "# c1_ia, ci2_iajb"
   ]
  },
  {
   "cell_type": "code",
   "execution_count": null,
   "id": "42e53eed",
   "metadata": {},
   "outputs": [],
   "source": [
    "# from jax import lax\n",
    "# def _calc_cisd_walker_pert_energy(trial, walker, ham_data, wave_data):\n",
    "#     ci1, ci2 = wave_data[\"ci1\"], wave_data[\"ci2\"]\n",
    "#     nocc = trial.nelec[0]\n",
    "#     green = (walker.dot(jnp.linalg.inv(walker[:nocc, :]))).T\n",
    "#     green_occ = green[:, nocc:].copy()\n",
    "#     greenp = jnp.vstack((green_occ, -jnp.eye(trial.norb - nocc)))\n",
    "\n",
    "#     chol = ham_data[\"chol\"].reshape(-1, trial.norb, trial.norb)\n",
    "#     rot_chol = chol[:, : trial.nelec[0], :]\n",
    "#     h1 = (ham_data[\"h1\"][0] + ham_data[\"h1\"][1]) / 2.0\n",
    "#     hg = jnp.einsum(\"pj,pj->\", h1[:nocc, :], green)\n",
    "\n",
    "#     # 0 body energy\n",
    "#     e0 = ham_data[\"h0\"]\n",
    "\n",
    "#     # 1 body energy\n",
    "#     # ref\n",
    "#     e1_0 = 2 * hg\n",
    "\n",
    "#     # single excitations\n",
    "#     ci1g = jnp.einsum(\"ia,ia->\", ci1, green_occ, optimize=\"optimal\")\n",
    "#     e1_1_1 = 4 * ci1g * hg\n",
    "#     gpci1 = greenp @ ci1.T\n",
    "#     ci1_green = gpci1 @ green\n",
    "#     e1_1_2 = -2 * jnp.einsum(\"ij,ij->\", h1, ci1_green, optimize=\"optimal\")\n",
    "#     e1_1 = e1_1_1 + e1_1_2\n",
    "\n",
    "#     # double excitations\n",
    "#     # ci2g_c = jnp.einsum(\"ptqu,pt->qu\", ci2, green_occ)\n",
    "#     ci2g_c = jnp.einsum(\"iajb,ia->jb\", ci2, green_occ)\n",
    "#     ci2g_e = jnp.einsum(\"iajb,ib->ja\", ci2, green_occ)\n",
    "#     ci2_green_c = (greenp @ ci2g_c.T) @ green\n",
    "#     ci2_green_e = (greenp @ ci2g_e.T) @ green\n",
    "#     ci2_green = 2 * ci2_green_c - ci2_green_e\n",
    "#     ci2g = 2 * ci2g_c - ci2g_e\n",
    "#     gci2g = jnp.einsum(\"ia,ia->\", ci2g, green_occ, optimize=\"optimal\")\n",
    "#     e1_2_1 = 2 * hg * gci2g\n",
    "#     e1_2_2 = -2 * jnp.einsum(\"ij,ij->\", h1, ci2_green, optimize=\"optimal\")\n",
    "#     e1_2 = e1_2_1 + e1_2_2\n",
    "#     e1 = e1_0 + e1_1 + e1_2\n",
    "\n",
    "#     # two body energy\n",
    "#     # ref\n",
    "#     lg = jnp.einsum(\"gpj,pj->g\", rot_chol, green, optimize=\"optimal\")\n",
    "#     # lg1 = jnp.einsum(\"gpj,pk->gjk\", rot_chol, green, optimize=\"optimal\")\n",
    "#     lg1 = jnp.einsum(\"gpj,qj->gpq\", rot_chol, green, optimize=\"optimal\")\n",
    "#     e2_0_1 = 2 * lg @ lg\n",
    "#     e2_0_2 = -jnp.sum(vmap(lambda x: x * x.T)(lg1))\n",
    "#     e2_0 = e2_0_1 + e2_0_2\n",
    "\n",
    "#     # single excitations\n",
    "#     e2_1_1 = 2 * e2_0 * ci1g\n",
    "#     lci1g = jnp.einsum(\"gij,ij->g\", chol, ci1_green, optimize=\"optimal\")\n",
    "#     e2_1_2 = -2 * (lci1g @ lg)\n",
    "#     # lci1g1 = jnp.einsum(\"gij,jk->gik\", chol, ci1_green, optimize=\"optimal\")\n",
    "#     # glgpci1 = jnp.einsum((\"gpi,iq->gpq\"), gl, gpci1, optimize=\"optimal\")\n",
    "#     ci1g1 = ci1 @ green_occ.T\n",
    "#     # e2_1_3 = jnp.einsum(\"gpq,gpq->\", glgpci1, lg1, optimize=\"optimal\")\n",
    "#     e2_1_3_1 = jnp.einsum(\"gpq,gqr,rp->\", lg1, lg1, ci1g1, optimize=\"optimal\")\n",
    "#     lci1g = jnp.einsum(\"gip,qi->gpq\", ham_data[\"lci1\"], green, optimize=\"optimal\")\n",
    "#     e2_1_3_2 = -jnp.einsum(\"gpq,gqp->\", lci1g, lg1, optimize=\"optimal\")\n",
    "#     e2_1_3 = e2_1_3_1 + e2_1_3_2\n",
    "#     e2_1 = e2_1_1 + 2 * (e2_1_2 + e2_1_3)\n",
    "\n",
    "#     # double excitations\n",
    "#     e2_2_1 = e2_0 * gci2g\n",
    "#     lci2g = jnp.einsum(\"gij,ij->g\", chol, ci2_green, optimize=\"optimal\")\n",
    "#     e2_2_2_1 = -lci2g @ lg\n",
    "\n",
    "#     # lci2g1 = jnp.einsum(\"gij,jk->gik\", chol, ci2_green, optimize=\"optimal\")\n",
    "#     # lci2_green = jnp.einsum(\"gpi,ji->gpj\", rot_chol, ci2_green, optimize=\"optimal\")\n",
    "#     # e2_2_2_2 = 0.5 * jnp.einsum(\"gpi,gpi->\", gl, lci2_green, optimize=\"optimal\")\n",
    "#     def scanned_fun(carry, x):\n",
    "#         chol_i, rot_chol_i = x\n",
    "#         gl_i = jnp.einsum(\"pj,ji->pi\", green, chol_i, optimize=\"optimal\")\n",
    "#         lci2_green_i = jnp.einsum(\n",
    "#             \"pi,ji->pj\", rot_chol_i, ci2_green, optimize=\"optimal\"\n",
    "#         )\n",
    "#         carry[0] += 0.5 * jnp.einsum(\n",
    "#             \"pi,pi->\", gl_i, lci2_green_i, optimize=\"optimal\"\n",
    "#         )\n",
    "#         glgp_i = jnp.einsum(\"pi,it->pt\", gl_i, greenp, optimize=\"optimal\").astype(\n",
    "#             jnp.complex64\n",
    "#         )\n",
    "#         l2ci2_1 = jnp.einsum(\n",
    "#             \"pt,qu,ptqu->\",\n",
    "#             glgp_i,\n",
    "#             glgp_i,\n",
    "#             ci2.astype(jnp.float32),\n",
    "#             optimize=\"optimal\",\n",
    "#         )\n",
    "#         l2ci2_2 = jnp.einsum(\n",
    "#             \"pu,qt,ptqu->\",\n",
    "#             glgp_i,\n",
    "#             glgp_i,\n",
    "#             ci2.astype(jnp.float32),\n",
    "#             optimize=\"optimal\",\n",
    "#         )\n",
    "#         carry[1] += 2 * l2ci2_1 - l2ci2_2\n",
    "#         return carry, 0.0\n",
    "\n",
    "#     [e2_2_2_2, e2_2_3], _ = lax.scan(scanned_fun, [0.0, 0.0], (chol, rot_chol))\n",
    "#     e2_2_2 = 4 * (e2_2_2_1 + e2_2_2_2)\n",
    "\n",
    "#     e2_2 = e2_2_1 + e2_2_2 + e2_2_3\n",
    "\n",
    "#     e2 = e2_0 + e2_1 + e2_2\n",
    "\n",
    "#     # overlap\n",
    "#     overlap_1 = 2 * ci1g  # jnp.einsum(\"ia,ia\", ci1, green_occ)\n",
    "#     overlap_2 = gci2g\n",
    "#     overlap = 1.0 + overlap_1 + overlap_2\n",
    "#     olp_inv = 1 - (2*ci1g + gci2g) + (2*ci1g + gci2g)**2\n",
    "    \n",
    "#     e_pt = (e1 + e2) * olp_inv + e0\n",
    "#     e_og = (e1 + e2) / overlap + e0\n",
    "\n",
    "#     return e_pt, e_og"
   ]
  },
  {
   "cell_type": "code",
   "execution_count": null,
   "id": "d00814fb",
   "metadata": {},
   "outputs": [],
   "source": [
    "# def thouless_trans(t1):\n",
    "#     q, r = np.linalg.qr(t1)\n",
    "#     u_ai = r.T\n",
    "#     u_ji = q\n",
    "#     u_occ = np.vstack((u_ji,u_ai))\n",
    "#     u, _, _ = np.linalg.svd(u_occ)\n",
    "#     return u"
   ]
  },
  {
   "cell_type": "code",
   "execution_count": null,
   "id": "8cb8c170",
   "metadata": {},
   "outputs": [],
   "source": [
    "# t1 = wave_data[\"ci1\"]\n",
    "# nocc = trial.nelec[0]\n",
    "# u_t1 = thouless_trans(t1)\n",
    "# u_occ = u_t1[:,:nocc]\n",
    "# wave_data['u_t1'] = u_occ"
   ]
  },
  {
   "cell_type": "code",
   "execution_count": null,
   "id": "8a917a51",
   "metadata": {},
   "outputs": [],
   "source": [
    "# from ad_afqmc import wavefunctions\n",
    "# calc_e_rhf = wavefunctions.rhf(trial.norb, trial.nelec,n_batch=trial.n_batch\n",
    "#                                 )._calc_energy_restricted\n",
    "# calc_e_rhf()"
   ]
  },
  {
   "cell_type": "code",
   "execution_count": null,
   "id": "5250f55a",
   "metadata": {},
   "outputs": [
    {
     "name": "stdout",
     "output_type": "stream",
     "text": [
      "(3, 6)\n",
      "[[ 1.39059730e-17+0.j  1.43713517e-16+0.j -3.71730138e-16+0.j]\n",
      " [-9.02056208e-17+0.j -1.66533454e-16+0.j  5.31171182e-33+0.j]\n",
      " [-4.74822782e-17+0.j -1.59134048e-16+0.j  4.91004945e-17+0.j]]\n"
     ]
    }
   ],
   "source": [
    "# walker = prop_data['walkers'][0]\n",
    "# green = (walker.dot(jnp.linalg.inv(walker[:nocc, :]))).T\n",
    "# # green = (walker.dot(jnp.linalg.inv(u_occ.T @ walker))) @ u_occ.T\n",
    "# print(green.shape)\n",
    "# print(green[:nocc,nocc:])"
   ]
  },
  {
   "cell_type": "code",
   "execution_count": null,
   "id": "58aec897",
   "metadata": {},
   "outputs": [
    {
     "name": "stdout",
     "output_type": "stream",
     "text": [
      "(6.539875472771294e-19+0j)\n"
     ]
    }
   ],
   "source": [
    "# ci1 = wave_data[\"ci1\"]\n",
    "# g_ia = green[:nocc,nocc:]\n",
    "# ci1g = jnp.einsum(\"ia,ia->\", ci1, g_ia, optimize=\"optimal\")\n",
    "# print(ci1g)"
   ]
  },
  {
   "cell_type": "code",
   "execution_count": null,
   "id": "d713e7dc",
   "metadata": {},
   "outputs": [
    {
     "name": "stdout",
     "output_type": "stream",
     "text": [
      "(-2.846813597073128e-32+0j)\n"
     ]
    }
   ],
   "source": [
    "# ci2g_c = jnp.einsum(\"iajb,ia->jb\", ci2, g_ia)\n",
    "# ci2g_e = jnp.einsum(\"iajb,ib->ja\", ci2, g_ia)\n",
    "# ci2g = 2 * ci2g_c - ci2g_e\n",
    "# gci2g = jnp.einsum(\"ia,ia->\", ci2g, g_ia,optimize=\"optimal\")\n",
    "# print(gci2g)"
   ]
  },
  {
   "cell_type": "code",
   "execution_count": null,
   "id": "a479c963",
   "metadata": {},
   "outputs": [],
   "source": [
    "# from jax import lax\n",
    "# def _calc_ccsd_walker_pert_energy(trial, walker, ham_data, wave_data):\n",
    "#     ci1, ci2, u_t1 = wave_data[\"ci1\"], wave_data[\"ci2\"], wave_data['u_t1']\n",
    "#     ci2 = ci2 - jnp.einsum('ia,jb->iajb',ci1,ci1)\n",
    "#     ci1 = np.zeros_like(ci1)\n",
    "#     # ci2 = np.zeros_like(ci2)\n",
    "#     nocc = trial.nelec[0]\n",
    "#     green = (walker.dot(jnp.linalg.inv(u_t1.T @ walker))) @ u_t1.T\n",
    "#     green = green[:nocc,:]\n",
    "#     green_occ = green[:, nocc:].copy()\n",
    "#     greenp = jnp.vstack((green_occ, -jnp.eye(trial.norb - nocc)))\n",
    "\n",
    "#     chol = ham_data[\"chol\"].reshape(-1, trial.norb, trial.norb)\n",
    "#     rot_chol = chol[:, : trial.nelec[0], :]\n",
    "#     h1 = (ham_data[\"h1\"][0] + ham_data[\"h1\"][1]) / 2.0\n",
    "#     hg = jnp.einsum(\"pj,pj->\", h1[:nocc, :], green)\n",
    "\n",
    "#     # 0 body energy\n",
    "#     e0 = ham_data[\"h0\"]\n",
    "\n",
    "#     # 1 body energy\n",
    "#     # ref\n",
    "#     e1_0 = 2 * hg\n",
    "\n",
    "#     # single excitations\n",
    "#     # ci1g = jnp.einsum(\"ia,ia->\", ci1, green_occ, optimize=\"optimal\")\n",
    "#     # e1_1_1 = 4 * ci1g * hg\n",
    "#     # gpci1 = greenp @ ci1.T\n",
    "#     # ci1_green = gpci1 @ green\n",
    "#     # e1_1_2 = -2 * jnp.einsum(\"ij,ij->\", h1, ci1_green, optimize=\"optimal\")\n",
    "#     # e1_1 = e1_1_1 + e1_1_2\n",
    "\n",
    "#     # double excitations\n",
    "#     # ci2g_c = jnp.einsum(\"ptqu,pt->qu\", ci2, green_occ)\n",
    "#     ci2g_c = jnp.einsum(\"iajb,ia->jb\", ci2, green_occ)\n",
    "#     ci2g_e = jnp.einsum(\"iajb,ib->ja\", ci2, green_occ)\n",
    "#     ci2_green_c = (greenp @ ci2g_c.T) @ green\n",
    "#     ci2_green_e = (greenp @ ci2g_e.T) @ green\n",
    "#     ci2_green = 2 * ci2_green_c - ci2_green_e\n",
    "#     ci2g = 2 * ci2g_c - ci2g_e\n",
    "#     gci2g = jnp.einsum(\"ia,ia->\", ci2g, green_occ, optimize=\"optimal\")\n",
    "#     e1_2_1 = 2 * hg * gci2g\n",
    "#     e1_2_2 = -2 * jnp.einsum(\"ij,ij->\", h1, ci2_green, optimize=\"optimal\")\n",
    "#     e1_2 = e1_2_1 + e1_2_2\n",
    "#     # e1 = e1_0 + e1_1 + e1_2\n",
    "#     e1 = e1_0 + e1_2\n",
    "\n",
    "#     # two body energy\n",
    "#     # ref\n",
    "#     lg = jnp.einsum(\"gpj,pj->g\", rot_chol, green, optimize=\"optimal\")\n",
    "#     # lg1 = jnp.einsum(\"gpj,pk->gjk\", rot_chol, green, optimize=\"optimal\")\n",
    "#     lg1 = jnp.einsum(\"gpj,qj->gpq\", rot_chol, green, optimize=\"optimal\")\n",
    "#     e2_0_1 = 2 * lg @ lg\n",
    "#     e2_0_2 = -jnp.sum(vmap(lambda x: x * x.T)(lg1))\n",
    "#     e2_0 = e2_0_1 + e2_0_2\n",
    "\n",
    "#     # single excitations\n",
    "#     # e2_1_1 = 2 * e2_0 * ci1g\n",
    "#     # lci1g = jnp.einsum(\"gij,ij->g\", chol, ci1_green, optimize=\"optimal\")\n",
    "#     # e2_1_2 = -2 * (lci1g @ lg)\n",
    "#     # lci1g1 = jnp.einsum(\"gij,jk->gik\", chol, ci1_green, optimize=\"optimal\")\n",
    "#     # glgpci1 = jnp.einsum((\"gpi,iq->gpq\"), gl, gpci1, optimize=\"optimal\")\n",
    "#     # ci1g1 = ci1 @ green_occ.T\n",
    "#     # e2_1_3 = jnp.einsum(\"gpq,gpq->\", glgpci1, lg1, optimize=\"optimal\")\n",
    "#     # e2_1_3_1 = jnp.einsum(\"gpq,gqr,rp->\", lg1, lg1, ci1g1, optimize=\"optimal\")\n",
    "#     # lci1g = jnp.einsum(\"gip,qi->gpq\", ham_data[\"lci1\"], green, optimize=\"optimal\")\n",
    "#     # e2_1_3_2 = -jnp.einsum(\"gpq,gqp->\", lci1g, lg1, optimize=\"optimal\")\n",
    "#     # e2_1_3 = e2_1_3_1 + e2_1_3_2\n",
    "#     # e2_1 = e2_1_1 + 2 * (e2_1_2 + e2_1_3)\n",
    "\n",
    "#     # double excitations\n",
    "#     e2_2_1 = e2_0 * gci2g\n",
    "#     lci2g = jnp.einsum(\"gij,ij->g\", chol, ci2_green, optimize=\"optimal\")\n",
    "#     e2_2_2_1 = -lci2g @ lg\n",
    "\n",
    "#     # lci2g1 = jnp.einsum(\"gij,jk->gik\", chol, ci2_green, optimize=\"optimal\")\n",
    "#     # lci2_green = jnp.einsum(\"gpi,ji->gpj\", rot_chol, ci2_green, optimize=\"optimal\")\n",
    "#     # e2_2_2_2 = 0.5 * jnp.einsum(\"gpi,gpi->\", gl, lci2_green, optimize=\"optimal\")\n",
    "#     def scanned_fun(carry, x):\n",
    "#         chol_i, rot_chol_i = x\n",
    "#         gl_i = jnp.einsum(\"pj,ji->pi\", green, chol_i, optimize=\"optimal\")\n",
    "#         lci2_green_i = jnp.einsum(\n",
    "#             \"pi,ji->pj\", rot_chol_i, ci2_green, optimize=\"optimal\"\n",
    "#         )\n",
    "#         carry[0] += 0.5 * jnp.einsum(\n",
    "#             \"pi,pi->\", gl_i, lci2_green_i, optimize=\"optimal\"\n",
    "#         )\n",
    "#         glgp_i = jnp.einsum(\"pi,it->pt\", gl_i, greenp, optimize=\"optimal\").astype(\n",
    "#             jnp.complex64\n",
    "#         )\n",
    "#         l2ci2_1 = jnp.einsum(\n",
    "#             \"pt,qu,ptqu->\",\n",
    "#             glgp_i,\n",
    "#             glgp_i,\n",
    "#             ci2.astype(jnp.float32),\n",
    "#             optimize=\"optimal\",\n",
    "#         )\n",
    "#         l2ci2_2 = jnp.einsum(\n",
    "#             \"pu,qt,ptqu->\",\n",
    "#             glgp_i,\n",
    "#             glgp_i,\n",
    "#             ci2.astype(jnp.float32),\n",
    "#             optimize=\"optimal\",\n",
    "#         )\n",
    "#         carry[1] += 2 * l2ci2_1 - l2ci2_2\n",
    "#         return carry, 0.0\n",
    "\n",
    "#     [e2_2_2_2, e2_2_3], _ = lax.scan(scanned_fun, [0.0, 0.0], (chol, rot_chol))\n",
    "#     e2_2_2 = 4 * (e2_2_2_1 + e2_2_2_2)\n",
    "\n",
    "#     e2_2 = e2_2_1 + e2_2_2 + e2_2_3\n",
    "\n",
    "#     # e2 = e2_0 + e2_1 + e2_2\n",
    "#     e2 = e2_0 + e2_2\n",
    "\n",
    "#     # overlap\n",
    "#     # overlap_1 = 2 * ci1g  # jnp.einsum(\"ia,ia\", ci1, green_occ)\n",
    "#     overlap_2 = gci2g\n",
    "#     # overlap = 1.0 + overlap_1 + overlap_2\n",
    "#     overlap = 1.0 + overlap_2\n",
    "#     # olp_inv = 1 - 2*ci1g - gci2g + (2*ci1g)**2\n",
    "#     olp_inv = 1 - gci2g + gci2g**2\n",
    "    \n",
    "#     e_pert = (e1 + e2) * olp_inv + e0\n",
    "#     e_orig = (e1 + e2) / overlap + e0\n",
    "\n",
    "#     # return (e1 + e2) / overlap + e0\n",
    "#     return e_pert, e_orig, gci2g"
   ]
  },
  {
   "cell_type": "code",
   "execution_count": 20,
   "id": "81872cad",
   "metadata": {},
   "outputs": [
    {
     "name": "stdout",
     "output_type": "stream",
     "text": [
      "(-2.112304508947126-0.0004797878146082489j)\n",
      "(-2.1123085024561203-0.00048410183134945295j)\n",
      "(3.9935089941600665e-06+4.314016741204072e-06j)\n"
     ]
    }
   ],
   "source": [
    "e1,e2 = _calc_cisd_walker_pert_energy(trial, prop_data['walkers'][0], ham_data, wave_data)\n",
    "print(e1)\n",
    "print(e2)\n",
    "print(e1-e2)"
   ]
  },
  {
   "cell_type": "code",
   "execution_count": null,
   "id": "b6d946c2",
   "metadata": {},
   "outputs": [],
   "source": [
    "from ad_afqmc.cisd_perturb import sample_pt\n",
    "prop_data, (block_energy, block_weight) \\\n",
    "    = sample_pt._block_scan(prop_data,ham_data,prop,trial,wave_data)"
   ]
  },
  {
   "cell_type": "code",
   "execution_count": 21,
   "id": "52c7946f",
   "metadata": {},
   "outputs": [
    {
     "name": "stdout",
     "output_type": "stream",
     "text": [
      "[-2.11122414+0.00012413j -2.11035962-0.00060481j]\n",
      "[-2.11161642+0.00052951j -2.11010058-0.00108187j]\n"
     ]
    }
   ],
   "source": [
    "e_pt, e_og = calc_ept(prop_data['walkers'],ham_data,wave_data)\n",
    "print(e_pt)\n",
    "print(e_og)"
   ]
  },
  {
   "cell_type": "code",
   "execution_count": 21,
   "id": "1ba6580a",
   "metadata": {},
   "outputs": [
    {
     "data": {
      "text/plain": [
       "Array(-2.1123085-0.0004841j, dtype=complex128)"
      ]
     },
     "execution_count": 21,
     "metadata": {},
     "output_type": "execute_result"
    }
   ],
   "source": [
    "trial._calc_energy_restricted(prop_data['walkers'][0], ham_data, wave_data)"
   ]
  },
  {
   "cell_type": "code",
   "execution_count": 91,
   "id": "d35055c4",
   "metadata": {},
   "outputs": [
    {
     "name": "stdout",
     "output_type": "stream",
     "text": [
      "-2.7501475540010003 2.4901828913079822e-06\n"
     ]
    }
   ],
   "source": [
    "t2_0 = np.zeros(mycc.t2.shape)\n",
    "eris = mycc.ao2mo(mycc.mo_coeff)\n",
    "eccsd = mycc.energy(mycc.t1, t2_0, eris)\n",
    "ecc_t2_0 = eccsd+mf.e_tot\n",
    "print(ecc_t2_0,eccsd)"
   ]
  },
  {
   "cell_type": "code",
   "execution_count": 89,
   "id": "7a3dcbcc",
   "metadata": {},
   "outputs": [
    {
     "name": "stdout",
     "output_type": "stream",
     "text": [
      "(-2.750147553891801+0j) (-2.750147553891801+0j)\n",
      "(1+0j) (1+0j)\n"
     ]
    }
   ],
   "source": [
    "e1,e2,c2gg = _calc_ccsd_walker_pert_energy(trial, prop_data['walkers'][0], ham_data, wave_data)\n",
    "print(e1,e2)\n",
    "print(1-c2gg,1/(1+c2gg))"
   ]
  },
  {
   "cell_type": "code",
   "execution_count": 84,
   "id": "1ddb3c89",
   "metadata": {},
   "outputs": [
    {
     "data": {
      "text/plain": [
       "Array(1.00000388+1.6543086e-09j, dtype=complex128)"
      ]
     },
     "execution_count": 84,
     "metadata": {},
     "output_type": "execute_result"
    }
   ],
   "source": [
    "1/(1+c2gg)"
   ]
  },
  {
   "cell_type": "code",
   "execution_count": 83,
   "id": "1ac10965",
   "metadata": {},
   "outputs": [
    {
     "data": {
      "text/plain": [
       "Array(1.00000388+1.65429576e-09j, dtype=complex128)"
      ]
     },
     "execution_count": 83,
     "metadata": {},
     "output_type": "execute_result"
    }
   ],
   "source": [
    "1-c2gg"
   ]
  },
  {
   "cell_type": "code",
   "execution_count": 78,
   "id": "4bd25f9a",
   "metadata": {},
   "outputs": [
    {
     "data": {
      "text/plain": [
       "(Array(-2.99733417-0.00029331j, dtype=complex128),\n",
       " Array(-2.9981479-0.00015193j, dtype=complex128))"
      ]
     },
     "execution_count": 78,
     "metadata": {},
     "output_type": "execute_result"
    }
   ],
   "source": [
    "_calc_cisd_walker_pert_energy(trial, prop_data['walkers'][0], ham_data, wave_data)"
   ]
  },
  {
   "cell_type": "code",
   "execution_count": null,
   "id": "86b5d5d8",
   "metadata": {},
   "outputs": [],
   "source": []
  }
 ],
 "metadata": {
  "kernelspec": {
   "display_name": "lno_pyscf_afqmc",
   "language": "python",
   "name": "python3"
  },
  "language_info": {
   "codemirror_mode": {
    "name": "ipython",
    "version": 3
   },
   "file_extension": ".py",
   "mimetype": "text/x-python",
   "name": "python",
   "nbconvert_exporter": "python",
   "pygments_lexer": "ipython3",
   "version": "3.10.16"
  }
 },
 "nbformat": 4,
 "nbformat_minor": 5
}
