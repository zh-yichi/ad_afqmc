{
 "cells": [
  {
   "cell_type": "code",
   "execution_count": 2,
   "id": "655561f0",
   "metadata": {},
   "outputs": [
    {
     "name": "stdout",
     "output_type": "stream",
     "text": [
      "System: uname_result(system='Linux', node='yichi-thinkpad', release='4.4.0-26100-Microsoft', version='#5074-Microsoft Fri Jan 01 08:00:00 PST 2016', machine='x86_64')  Threads 12\n",
      "Python 3.10.16 | packaged by conda-forge | (main, Dec  5 2024, 14:16:10) [GCC 13.3.0]\n",
      "numpy 1.24.3  scipy 1.14.1  h5py 3.12.1\n",
      "Date: Sat Oct  4 22:03:56 2025\n",
      "PySCF version 2.8.0\n",
      "PySCF path  /home/yichi/research/software/lno_pyscf\n",
      "GIT HEAD (branch master) ef75f4190e4de208685670651dc6c467f72b6794\n",
      "\n",
      "[ENV] PYSCF_EXT_PATH /home/yichi/research/software/pyscf\n",
      "[CONFIG] conf_file None\n",
      "[INPUT] verbose = 4\n",
      "[INPUT] num. atoms = 6\n",
      "[INPUT] num. electrons = 6\n",
      "[INPUT] charge = 0\n",
      "[INPUT] spin (= nelec alpha-beta = 2S) = 0\n",
      "[INPUT] symmetry False subgroup None\n",
      "[INPUT] Mole.unit = angstrom\n",
      "[INPUT] Symbol           X                Y                Z      unit          X                Y                Z       unit  Magmom\n",
      "[INPUT]  1 H      0.000000000000   0.000000000000   0.000000000000 AA    0.000000000000   0.000000000000   0.000000000000 Bohr   0.0\n",
      "[INPUT]  2 H      1.500000000000   0.000000000000   0.000000000000 AA    2.834589186848   0.000000000000   0.000000000000 Bohr   0.0\n",
      "[INPUT]  3 H      3.000000000000   0.000000000000   0.000000000000 AA    5.669178373695   0.000000000000   0.000000000000 Bohr   0.0\n",
      "[INPUT]  4 H      4.500000000000   0.000000000000   0.000000000000 AA    8.503767560543   0.000000000000   0.000000000000 Bohr   0.0\n",
      "[INPUT]  5 H      6.000000000000   0.000000000000   0.000000000000 AA   11.338356747390   0.000000000000   0.000000000000 Bohr   0.0\n",
      "[INPUT]  6 H      7.500000000000   0.000000000000   0.000000000000 AA   14.172945934238   0.000000000000   0.000000000000 Bohr   0.0\n",
      "\n",
      "nuclear repulsion = 3.069227823336\n",
      "number of shells = 6\n",
      "number of NR pGTOs = 18\n",
      "number of NR cGTOs = 6\n",
      "basis = sto3g\n",
      "ecp = {}\n",
      "CPU time:         5.14\n",
      "\n",
      "\n",
      "******** <class 'pyscf.scf.hf.RHF'> ********\n",
      "method = RHF\n",
      "initial guess = minao\n",
      "damping factor = 0\n",
      "level_shift factor = 0\n",
      "DIIS = <class 'pyscf.scf.diis.CDIIS'>\n",
      "diis_start_cycle = 1\n",
      "diis_space = 8\n",
      "diis_damp = 0\n",
      "SCF conv_tol = 1e-09\n",
      "SCF conv_tol_grad = None\n",
      "SCF max_cycles = 50\n",
      "direct_scf = True\n",
      "direct_scf_tol = 1e-13\n",
      "chkfile to save SCF result = /tmp/tmpi_5wputh\n",
      "max_memory 4000 MB (current use 169 MB)\n",
      "Set gradient conv threshold to 3.16228e-05\n",
      "Initial guess from minao.\n",
      "init E= -1.87916366126816\n",
      "  HOMO = -0.166859255241317  LUMO = -0.00657047663892527\n",
      "cycle= 1 E= -2.74079340888226  delta_E= -0.862  |g|= 0.0725  |ddm|= 1.79\n",
      "  HOMO = -0.254371722172276  LUMO = 0.0747075355621733\n",
      "cycle= 2 E= -2.74818827885731  delta_E= -0.00739  |g|= 0.0339  |ddm|= 0.214\n",
      "  HOMO = -0.267595727245473  LUMO = 0.0905392818339412\n",
      "cycle= 3 E= -2.7501421796859  delta_E= -0.00195  |g|= 0.00323  |ddm|= 0.169\n",
      "  HOMO = -0.268058102679714  LUMO = 0.0896215186257363\n",
      "cycle= 4 E= -2.75014984678832  delta_E= -7.67e-06  |g|= 0.000415  |ddm|= 0.00861\n",
      "  HOMO = -0.267687156816179  LUMO = 0.0894206703405912\n",
      "cycle= 5 E= -2.7501500402176  delta_E= -1.93e-07  |g|= 4.92e-05  |ddm|= 0.00182\n",
      "  HOMO = -0.267744788808968  LUMO = 0.0894689451173094\n",
      "cycle= 6 E= -2.75015004417952  delta_E= -3.96e-09  |g|= 1.64e-06  |ddm|= 0.000252\n",
      "  HOMO = -0.267742934504661  LUMO = 0.0894673764205804\n",
      "cycle= 7 E= -2.75015004418389  delta_E= -4.37e-12  |g|= 8.1e-09  |ddm|= 8.11e-06\n",
      "  HOMO = -0.267742927319539  LUMO = 0.0894673740197567\n",
      "Extra cycle  E= -2.75015004418389  delta_E= 1.78e-15  |g|= 2.91e-09  |ddm|= 2.12e-08\n",
      "converged SCF energy = -2.75015004418389\n",
      "\n",
      "******** <class 'pyscf.cc.ccsd.CCSD'> ********\n",
      "CC2 = 0\n",
      "CCSD nocc = 3, nmo = 6\n",
      "max_cycle = 50\n",
      "direct = 0\n",
      "conv_tol = 1e-07\n",
      "conv_tol_normt = 1e-05\n",
      "diis_space = 6\n",
      "diis_start_cycle = 0\n",
      "diis_start_energy_diff = 1e+09\n",
      "max_memory 4000 MB (current use 169 MB)\n",
      "Init t2, MP2 energy = -2.87703625335288  E_corr(MP2) -0.126886209168989\n",
      "Init E_corr(CCSD) = -0.126886209168989\n",
      "cycle = 1  E_corr(CCSD) = -0.184574019947651  dE = -0.0576878108  norm(t1,t2) = 0.143998\n",
      "cycle = 2  E_corr(CCSD) = -0.214075570823775  dE = -0.0295015509  norm(t1,t2) = 0.0821812\n",
      "cycle = 3  E_corr(CCSD) = -0.240106711071624  dE = -0.0260311402  norm(t1,t2) = 0.0431275\n",
      "cycle = 4  E_corr(CCSD) = -0.244709244233181  dE = -0.00460253316  norm(t1,t2) = 0.0189246\n",
      "cycle = 5  E_corr(CCSD) = -0.246617312357959  dE = -0.00190806812  norm(t1,t2) = 0.0144512\n",
      "cycle = 6  E_corr(CCSD) = -0.249127096584443  dE = -0.00250978423  norm(t1,t2) = 0.00834489\n",
      "cycle = 7  E_corr(CCSD) = -0.250234416330936  dE = -0.00110731975  norm(t1,t2) = 0.00376365\n",
      "cycle = 8  E_corr(CCSD) = -0.249462449018078  dE = 0.000771967313  norm(t1,t2) = 0.00189268\n",
      "cycle = 9  E_corr(CCSD) = -0.249490709122717  dE = -2.82601046e-05  norm(t1,t2) = 0.00100405\n",
      "cycle = 10  E_corr(CCSD) = -0.249613732735014  dE = -0.000123023612  norm(t1,t2) = 0.000467363\n",
      "cycle = 11  E_corr(CCSD) = -0.249688072478318  dE = -7.43397433e-05  norm(t1,t2) = 0.000177823\n",
      "cycle = 12  E_corr(CCSD) = -0.249698165123715  dE = -1.00926454e-05  norm(t1,t2) = 3.7365e-05\n",
      "cycle = 13  E_corr(CCSD) = -0.2497006488117  dE = -2.48368798e-06  norm(t1,t2) = 1.77959e-05\n",
      "cycle = 14  E_corr(CCSD) = -0.24970141692864  dE = -7.68116941e-07  norm(t1,t2) = 5.99041e-06\n",
      "cycle = 15  E_corr(CCSD) = -0.249701447093383  dE = -3.0164743e-08  norm(t1,t2) = 6.98657e-07\n",
      "CCSD converged\n",
      "E(CCSD) = -2.999851491277275  E_corr = -0.2497014470933834\n"
     ]
    }
   ],
   "source": [
    "from pyscf import gto, scf, cc\n",
    "import numpy as np\n",
    "from jax import numpy as jnp\n",
    "from jax import vmap\n",
    "\n",
    "a = 1.5 # 2aB\n",
    "nH = 6\n",
    "atoms = \"\"\n",
    "for i in range(nH):\n",
    "    atoms += f\"H {i*a:.5f} 0.00000 0.00000 \\n\"\n",
    "\n",
    "mol = gto.M(atom=atoms, basis=\"sto3g\", verbose=4)\n",
    "mol.build()\n",
    "\n",
    "mf = scf.RHF(mol)#.density_fit()\n",
    "e = mf.kernel()\n",
    "\n",
    "mycc = cc.CCSD(mf)\n",
    "e = mycc.kernel()"
   ]
  },
  {
   "cell_type": "code",
   "execution_count": 4,
   "id": "ac17ffeb",
   "metadata": {},
   "outputs": [],
   "source": [
    "options = {'n_eql': 4,\n",
    "           'n_prop_steps': 10,\n",
    "            'n_ene_blocks': 1,\n",
    "            'n_sr_blocks': 10,\n",
    "            'n_blocks': 10,\n",
    "            'n_walkers': 1,\n",
    "            'seed': 2,\n",
    "            'walker_type': 'rhf',\n",
    "            'trial': 'cisd',\n",
    "            'dt':0.005,\n",
    "            'free_projection':False,\n",
    "            'ad_mode':None,\n",
    "            'use_gpu': False,\n",
    "            }"
   ]
  },
  {
   "cell_type": "code",
   "execution_count": 6,
   "id": "bea81633",
   "metadata": {},
   "outputs": [
    {
     "name": "stdout",
     "output_type": "stream",
     "text": [
      "#\n",
      "# Preparing AFQMC calculation\n",
      "# If you import pyscf cc modules and use MPI for AFQMC in the same script, finalize MPI before calling the AFQMC driver.\n",
      "# Calculating Cholesky integrals\n",
      "# Finished calculating Cholesky integrals\n",
      "#\n",
      "# Size of the correlation space:\n",
      "# Number of electrons: (3, 3)\n",
      "# Number of basis functions: 6\n",
      "# Number of Cholesky vectors: 15\n",
      "#\n",
      "# Number of MPI ranks: 1\n",
      "#\n",
      "# norb: 6\n",
      "# nelec: (3, 3)\n",
      "#\n",
      "# n_eql: 4\n",
      "# n_prop_steps: 10\n",
      "# n_ene_blocks: 1\n",
      "# n_sr_blocks: 10\n",
      "# n_blocks: 10\n",
      "# n_walkers: 1\n",
      "# seed: 2\n",
      "# walker_type: rhf\n",
      "# trial: cisd\n",
      "# dt: 0.005\n",
      "# free_projection: False\n",
      "# use_gpu: False\n",
      "# n_exp_terms: 6\n",
      "# orbital_rotation: True\n",
      "# do_sr: True\n",
      "# symmetry: False\n",
      "# save_walkers: False\n",
      "# ene0: 0.0\n",
      "# n_batch: 1\n",
      "# LNO: False\n",
      "# orbE: 0\n",
      "# maxError: 0.001\n",
      "#\n"
     ]
    }
   ],
   "source": [
    "from ad_afqmc import pyscf_interface, mpi_jax, driver\n",
    "pyscf_interface.prep_afqmc(mycc,chol_cut=1e-7)\n",
    "ham_data, ham, prop, trial, wave_data, sampler, observable, options, _ \\\n",
    "    = (mpi_jax._prep_afqmc(options))"
   ]
  },
  {
   "cell_type": "code",
   "execution_count": 88,
   "id": "db93a44b",
   "metadata": {},
   "outputs": [
    {
     "name": "stdout",
     "output_type": "stream",
     "text": [
      "-2.999851469512132\n",
      "-2.9998514912772754\n"
     ]
    }
   ],
   "source": [
    "from mpi4py import MPI\n",
    "from jax import random\n",
    "\n",
    "comm = MPI.COMM_WORLD\n",
    "size = comm.Get_size()\n",
    "rank = comm.Get_rank()\n",
    "seed = options[\"seed\"]\n",
    "neql = options[\"n_eql\"]\n",
    "\n",
    "# trial_rdm1 = trial.get_rdm1(wave_data)\n",
    "# if \"rdm1\" not in wave_data:\n",
    "#     wave_data[\"rdm1\"] = trial_rdm1\n",
    "\n",
    "ham_data = ham.build_measurement_intermediates(ham_data, trial, wave_data)\n",
    "ham_data = ham.build_propagation_intermediates(ham_data, prop, trial, wave_data)\n",
    "\n",
    "init_walkers = None\n",
    "prop_data = prop.init_prop_data(trial, wave_data, ham_data, init_walkers)\n",
    "prop_data['n_killed_walkers'] = 0\n",
    "prop_data[\"key\"] = random.PRNGKey(seed + rank)\n",
    "init_walker = prop_data['walkers'][0]\n",
    "print(prop_data['e_estimate'])\n",
    "print(mycc.e_tot)"
   ]
  },
  {
   "cell_type": "code",
   "execution_count": 13,
   "id": "b7c0ddfc",
   "metadata": {},
   "outputs": [
    {
     "data": {
      "text/plain": [
       "Array([[[-1.35869622e-33+0.j, -8.50166058e-35+0.j,  1.00000000e+00+0.j],\n",
       "        [ 1.08180414e-16+0.j,  1.00000000e+00+0.j,  0.00000000e+00+0.j],\n",
       "        [ 1.00000000e+00+0.j, -1.08180414e-16+0.j,  4.31408308e-32+0.j],\n",
       "        [-4.74822782e-17+0.j, -9.02056208e-17+0.j,  1.39059730e-17+0.j],\n",
       "        [-1.59134048e-16+0.j, -1.66533454e-16+0.j,  1.43713517e-16+0.j],\n",
       "        [ 4.91004945e-17+0.j,  0.00000000e+00+0.j, -3.71730138e-16+0.j]]],      dtype=complex128)"
      ]
     },
     "execution_count": 13,
     "metadata": {},
     "output_type": "execute_result"
    }
   ],
   "source": [
    "prop_data['walkers']"
   ]
  },
  {
   "cell_type": "code",
   "execution_count": 14,
   "id": "dae58cf2",
   "metadata": {},
   "outputs": [],
   "source": [
    "def _walker_rhf_olp(walker):\n",
    "    # nocc, ci1, ci2 = walker.shape[1], wave_data[\"ci1\"], wave_data[\"ci2\"]\n",
    "    # GF = (walker.dot(jnp.linalg.inv(walker[: walker.shape[1], :]))).T\n",
    "    o0 = jnp.linalg.det(walker[: walker.shape[1], :]) ** 2\n",
    "    # o1 = jnp.einsum(\"ia,ia\", ci1, GF[:, nocc:])\n",
    "    # o2 = 2 * jnp.einsum(\n",
    "    #     \"iajb, ia, jb\", ci2, GF[:, nocc:], GF[:, nocc:]\n",
    "    # ) - jnp.einsum(\"iajb, ib, ja\", ci2, GF[:, nocc:], GF[:, nocc:])\n",
    "    return o0"
   ]
  },
  {
   "cell_type": "code",
   "execution_count": null,
   "id": "3415c876",
   "metadata": {},
   "outputs": [
    {
     "name": "stdout",
     "output_type": "stream",
     "text": [
      "(3, 3) (3, 3, 3, 3)\n"
     ]
    }
   ],
   "source": [
    "ci1, ci2 = wave_data[\"ci1\"], wave_data[\"ci2\"]\n",
    "print(ci1.shape,ci2.shape)\n",
    "# c1_ia, ci2_iajb"
   ]
  },
  {
   "cell_type": "code",
   "execution_count": 19,
   "id": "42e53eed",
   "metadata": {},
   "outputs": [],
   "source": [
    "from jax import lax\n",
    "def _calc_cisd_walker_pert_energy(trial, walker, ham_data, wave_data):\n",
    "    ci1, ci2 = wave_data[\"ci1\"], wave_data[\"ci2\"]\n",
    "    nocc = trial.nelec[0]\n",
    "    green = (walker.dot(jnp.linalg.inv(walker[:nocc, :]))).T\n",
    "    green_occ = green[:, nocc:].copy()\n",
    "    greenp = jnp.vstack((green_occ, -jnp.eye(trial.norb - nocc)))\n",
    "\n",
    "    chol = ham_data[\"chol\"].reshape(-1, trial.norb, trial.norb)\n",
    "    rot_chol = chol[:, : trial.nelec[0], :]\n",
    "    h1 = (ham_data[\"h1\"][0] + ham_data[\"h1\"][1]) / 2.0\n",
    "    hg = jnp.einsum(\"pj,pj->\", h1[:nocc, :], green)\n",
    "\n",
    "    # 0 body energy\n",
    "    e0 = ham_data[\"h0\"]\n",
    "\n",
    "    # 1 body energy\n",
    "    # ref\n",
    "    e1_0 = 2 * hg\n",
    "\n",
    "    # single excitations\n",
    "    ci1g = jnp.einsum(\"ia,ia->\", ci1, green_occ, optimize=\"optimal\")\n",
    "    e1_1_1 = 4 * ci1g * hg\n",
    "    gpci1 = greenp @ ci1.T\n",
    "    ci1_green = gpci1 @ green\n",
    "    e1_1_2 = -2 * jnp.einsum(\"ij,ij->\", h1, ci1_green, optimize=\"optimal\")\n",
    "    e1_1 = e1_1_1 + e1_1_2\n",
    "\n",
    "    # double excitations\n",
    "    # ci2g_c = jnp.einsum(\"ptqu,pt->qu\", ci2, green_occ)\n",
    "    ci2g_c = jnp.einsum(\"iajb,ia->jb\", ci2, green_occ)\n",
    "    ci2g_e = jnp.einsum(\"iajb,ib->ja\", ci2, green_occ)\n",
    "    ci2_green_c = (greenp @ ci2g_c.T) @ green\n",
    "    ci2_green_e = (greenp @ ci2g_e.T) @ green\n",
    "    ci2_green = 2 * ci2_green_c - ci2_green_e\n",
    "    ci2g = 2 * ci2g_c - ci2g_e\n",
    "    gci2g = jnp.einsum(\"ia,ia->\", ci2g, green_occ, optimize=\"optimal\")\n",
    "    e1_2_1 = 2 * hg * gci2g\n",
    "    e1_2_2 = -2 * jnp.einsum(\"ij,ij->\", h1, ci2_green, optimize=\"optimal\")\n",
    "    e1_2 = e1_2_1 + e1_2_2\n",
    "    e1 = e1_0 + e1_1 + e1_2\n",
    "\n",
    "    # two body energy\n",
    "    # ref\n",
    "    lg = jnp.einsum(\"gpj,pj->g\", rot_chol, green, optimize=\"optimal\")\n",
    "    # lg1 = jnp.einsum(\"gpj,pk->gjk\", rot_chol, green, optimize=\"optimal\")\n",
    "    lg1 = jnp.einsum(\"gpj,qj->gpq\", rot_chol, green, optimize=\"optimal\")\n",
    "    e2_0_1 = 2 * lg @ lg\n",
    "    e2_0_2 = -jnp.sum(vmap(lambda x: x * x.T)(lg1))\n",
    "    e2_0 = e2_0_1 + e2_0_2\n",
    "\n",
    "    # single excitations\n",
    "    e2_1_1 = 2 * e2_0 * ci1g\n",
    "    lci1g = jnp.einsum(\"gij,ij->g\", chol, ci1_green, optimize=\"optimal\")\n",
    "    e2_1_2 = -2 * (lci1g @ lg)\n",
    "    # lci1g1 = jnp.einsum(\"gij,jk->gik\", chol, ci1_green, optimize=\"optimal\")\n",
    "    # glgpci1 = jnp.einsum((\"gpi,iq->gpq\"), gl, gpci1, optimize=\"optimal\")\n",
    "    ci1g1 = ci1 @ green_occ.T\n",
    "    # e2_1_3 = jnp.einsum(\"gpq,gpq->\", glgpci1, lg1, optimize=\"optimal\")\n",
    "    e2_1_3_1 = jnp.einsum(\"gpq,gqr,rp->\", lg1, lg1, ci1g1, optimize=\"optimal\")\n",
    "    lci1g = jnp.einsum(\"gip,qi->gpq\", ham_data[\"lci1\"], green, optimize=\"optimal\")\n",
    "    e2_1_3_2 = -jnp.einsum(\"gpq,gqp->\", lci1g, lg1, optimize=\"optimal\")\n",
    "    e2_1_3 = e2_1_3_1 + e2_1_3_2\n",
    "    e2_1 = e2_1_1 + 2 * (e2_1_2 + e2_1_3)\n",
    "\n",
    "    # double excitations\n",
    "    e2_2_1 = e2_0 * gci2g\n",
    "    lci2g = jnp.einsum(\"gij,ij->g\", chol, ci2_green, optimize=\"optimal\")\n",
    "    e2_2_2_1 = -lci2g @ lg\n",
    "\n",
    "    # lci2g1 = jnp.einsum(\"gij,jk->gik\", chol, ci2_green, optimize=\"optimal\")\n",
    "    # lci2_green = jnp.einsum(\"gpi,ji->gpj\", rot_chol, ci2_green, optimize=\"optimal\")\n",
    "    # e2_2_2_2 = 0.5 * jnp.einsum(\"gpi,gpi->\", gl, lci2_green, optimize=\"optimal\")\n",
    "    def scanned_fun(carry, x):\n",
    "        chol_i, rot_chol_i = x\n",
    "        gl_i = jnp.einsum(\"pj,ji->pi\", green, chol_i, optimize=\"optimal\")\n",
    "        lci2_green_i = jnp.einsum(\n",
    "            \"pi,ji->pj\", rot_chol_i, ci2_green, optimize=\"optimal\"\n",
    "        )\n",
    "        carry[0] += 0.5 * jnp.einsum(\n",
    "            \"pi,pi->\", gl_i, lci2_green_i, optimize=\"optimal\"\n",
    "        )\n",
    "        glgp_i = jnp.einsum(\"pi,it->pt\", gl_i, greenp, optimize=\"optimal\").astype(\n",
    "            jnp.complex64\n",
    "        )\n",
    "        l2ci2_1 = jnp.einsum(\n",
    "            \"pt,qu,ptqu->\",\n",
    "            glgp_i,\n",
    "            glgp_i,\n",
    "            ci2.astype(jnp.float32),\n",
    "            optimize=\"optimal\",\n",
    "        )\n",
    "        l2ci2_2 = jnp.einsum(\n",
    "            \"pu,qt,ptqu->\",\n",
    "            glgp_i,\n",
    "            glgp_i,\n",
    "            ci2.astype(jnp.float32),\n",
    "            optimize=\"optimal\",\n",
    "        )\n",
    "        carry[1] += 2 * l2ci2_1 - l2ci2_2\n",
    "        return carry, 0.0\n",
    "\n",
    "    [e2_2_2_2, e2_2_3], _ = lax.scan(scanned_fun, [0.0, 0.0], (chol, rot_chol))\n",
    "    e2_2_2 = 4 * (e2_2_2_1 + e2_2_2_2)\n",
    "\n",
    "    e2_2 = e2_2_1 + e2_2_2 + e2_2_3\n",
    "\n",
    "    e2 = e2_0 + e2_1 + e2_2\n",
    "\n",
    "    # overlap\n",
    "    overlap_1 = 2 * ci1g  # jnp.einsum(\"ia,ia\", ci1, green_occ)\n",
    "    overlap_2 = gci2g\n",
    "    overlap = 1.0 + overlap_1 + overlap_2\n",
    "    olp_inv = 1 - 2*ci1g - gci2g + (2*ci1g)**2\n",
    "    \n",
    "    e_pert = (e1 + e2) * olp_inv + e0\n",
    "    e_orig = (e1 + e2) / overlap + e0\n",
    "\n",
    "    # return (e1 + e2) / overlap + e0\n",
    "    return e_pert, e_orig"
   ]
  },
  {
   "cell_type": "code",
   "execution_count": 26,
   "id": "d00814fb",
   "metadata": {},
   "outputs": [],
   "source": [
    "def thouless_trans(t1):\n",
    "    q, r = np.linalg.qr(t1)\n",
    "    u_ai = r.T\n",
    "    u_ji = q\n",
    "    u_occ = np.vstack((u_ji,u_ai))\n",
    "    u, _, _ = np.linalg.svd(u_occ)\n",
    "    return u"
   ]
  },
  {
   "cell_type": "code",
   "execution_count": 34,
   "id": "8cb8c170",
   "metadata": {},
   "outputs": [],
   "source": [
    "t1 = wave_data[\"ci1\"]\n",
    "nocc = trial.nelec[0]\n",
    "u_t1 = thouless_trans(t1)\n",
    "u_occ = u_t1[:,:nocc]\n",
    "wave_data['u_t1'] = u_occ"
   ]
  },
  {
   "cell_type": "code",
   "execution_count": null,
   "id": "8a917a51",
   "metadata": {},
   "outputs": [],
   "source": [
    "# from ad_afqmc import wavefunctions\n",
    "# calc_e_rhf = wavefunctions.rhf(trial.norb, trial.nelec,n_batch=trial.n_batch\n",
    "#                                 )._calc_energy_restricted\n",
    "# calc_e_rhf()"
   ]
  },
  {
   "cell_type": "code",
   "execution_count": 35,
   "id": "7919997e",
   "metadata": {},
   "outputs": [
    {
     "data": {
      "text/plain": [
       "Array([[-0.00627359-0.0258082j , -0.00540077-0.03404597j,\n",
       "        -0.99654127+0.03533954j],\n",
       "       [ 0.01037218+0.05235042j, -0.99000166+0.06742266j,\n",
       "        -0.00555546-0.03405047j],\n",
       "       [ 0.98774895-0.08190872j, -0.010567  -0.05228849j,\n",
       "         0.0048656 +0.02586054j],\n",
       "       [-0.01329229-0.09167786j, -0.01146547-0.05796769j,\n",
       "         0.00551622+0.02270191j],\n",
       "       [ 0.01057563+0.06127817j,  0.01096494+0.07863907j,\n",
       "        -0.00631271-0.03615039j],\n",
       "       [ 0.00680521+0.03993385j,  0.00572811+0.03857449j,\n",
       "        -0.00366554-0.04321949j]], dtype=complex128)"
      ]
     },
     "execution_count": 35,
     "metadata": {},
     "output_type": "execute_result"
    }
   ],
   "source": [
    "prop_data['walkers'][0]"
   ]
  },
  {
   "cell_type": "code",
   "execution_count": 38,
   "id": "81f231ab",
   "metadata": {},
   "outputs": [
    {
     "name": "stdout",
     "output_type": "stream",
     "text": [
      "(6, 3)\n"
     ]
    }
   ],
   "source": [
    "print(u_occ.shape)"
   ]
  },
  {
   "cell_type": "code",
   "execution_count": 69,
   "id": "5250f55a",
   "metadata": {},
   "outputs": [
    {
     "name": "stdout",
     "output_type": "stream",
     "text": [
      "(3, 6)\n",
      "[[ 1.39059730e-17+0.j  1.43713517e-16+0.j -3.71730138e-16+0.j]\n",
      " [-9.02056208e-17+0.j -1.66533454e-16+0.j  5.31171182e-33+0.j]\n",
      " [-4.74822782e-17+0.j -1.59134048e-16+0.j  4.91004945e-17+0.j]]\n"
     ]
    }
   ],
   "source": [
    "walker = prop_data['walkers'][0]\n",
    "green = (walker.dot(jnp.linalg.inv(walker[:nocc, :]))).T\n",
    "# green = (walker.dot(jnp.linalg.inv(u_occ.T @ walker))) @ u_occ.T\n",
    "print(green.shape)\n",
    "print(green[:nocc,nocc:])"
   ]
  },
  {
   "cell_type": "code",
   "execution_count": 70,
   "id": "58aec897",
   "metadata": {},
   "outputs": [
    {
     "name": "stdout",
     "output_type": "stream",
     "text": [
      "(6.539875472771294e-19+0j)\n"
     ]
    }
   ],
   "source": [
    "ci1 = wave_data[\"ci1\"]\n",
    "g_ia = green[:nocc,nocc:]\n",
    "ci1g = jnp.einsum(\"ia,ia->\", ci1, g_ia, optimize=\"optimal\")\n",
    "print(ci1g)"
   ]
  },
  {
   "cell_type": "code",
   "execution_count": 71,
   "id": "d713e7dc",
   "metadata": {},
   "outputs": [
    {
     "name": "stdout",
     "output_type": "stream",
     "text": [
      "(-2.846813597073128e-32+0j)\n"
     ]
    }
   ],
   "source": [
    "ci2g_c = jnp.einsum(\"iajb,ia->jb\", ci2, g_ia)\n",
    "ci2g_e = jnp.einsum(\"iajb,ib->ja\", ci2, g_ia)\n",
    "ci2g = 2 * ci2g_c - ci2g_e\n",
    "gci2g = jnp.einsum(\"ia,ia->\", ci2g, g_ia,optimize=\"optimal\")\n",
    "print(gci2g)"
   ]
  },
  {
   "cell_type": "code",
   "execution_count": 68,
   "id": "bd2cfb20",
   "metadata": {},
   "outputs": [
    {
     "data": {
      "text/plain": [
       "Array(3.15812164e-05+0.j, dtype=complex128)"
      ]
     },
     "execution_count": 68,
     "metadata": {},
     "output_type": "execute_result"
    }
   ],
   "source": [
    "ci1g*2+gci2g"
   ]
  },
  {
   "cell_type": "code",
   "execution_count": null,
   "id": "a479c963",
   "metadata": {},
   "outputs": [],
   "source": [
    "from jax import lax\n",
    "def _calc_ccsd_walker_pert_energy(trial, walker, ham_data, wave_data):\n",
    "    ci1, ci2, u_t1 = wave_data[\"ci1\"], wave_data[\"ci2\"], wave_data['u_t1']\n",
    "    ci2 = ci2 - jnp.einsum('ia,jb->iajb',ci1,ci1)\n",
    "    ci1 = np.zeros_like(ci1)\n",
    "    # ci2 = np.zeros_like(ci2)\n",
    "    nocc = trial.nelec[0]\n",
    "    green = (walker.dot(jnp.linalg.inv(u_t1.T @ walker))) @ u_t1.T\n",
    "    green = green[:nocc,:]\n",
    "    green_occ = green[:, nocc:].copy()\n",
    "    greenp = jnp.vstack((green_occ, -jnp.eye(trial.norb - nocc)))\n",
    "\n",
    "    chol = ham_data[\"chol\"].reshape(-1, trial.norb, trial.norb)\n",
    "    rot_chol = chol[:, : trial.nelec[0], :]\n",
    "    h1 = (ham_data[\"h1\"][0] + ham_data[\"h1\"][1]) / 2.0\n",
    "    hg = jnp.einsum(\"pj,pj->\", h1[:nocc, :], green)\n",
    "\n",
    "    # 0 body energy\n",
    "    e0 = ham_data[\"h0\"]\n",
    "\n",
    "    # 1 body energy\n",
    "    # ref\n",
    "    e1_0 = 2 * hg\n",
    "\n",
    "    # single excitations\n",
    "    # ci1g = jnp.einsum(\"ia,ia->\", ci1, green_occ, optimize=\"optimal\")\n",
    "    # e1_1_1 = 4 * ci1g * hg\n",
    "    # gpci1 = greenp @ ci1.T\n",
    "    # ci1_green = gpci1 @ green\n",
    "    # e1_1_2 = -2 * jnp.einsum(\"ij,ij->\", h1, ci1_green, optimize=\"optimal\")\n",
    "    # e1_1 = e1_1_1 + e1_1_2\n",
    "\n",
    "    # double excitations\n",
    "    # ci2g_c = jnp.einsum(\"ptqu,pt->qu\", ci2, green_occ)\n",
    "    ci2g_c = jnp.einsum(\"iajb,ia->jb\", ci2, green_occ)\n",
    "    ci2g_e = jnp.einsum(\"iajb,ib->ja\", ci2, green_occ)\n",
    "    ci2_green_c = (greenp @ ci2g_c.T) @ green\n",
    "    ci2_green_e = (greenp @ ci2g_e.T) @ green\n",
    "    ci2_green = 2 * ci2_green_c - ci2_green_e\n",
    "    ci2g = 2 * ci2g_c - ci2g_e\n",
    "    gci2g = jnp.einsum(\"ia,ia->\", ci2g, green_occ, optimize=\"optimal\")\n",
    "    e1_2_1 = 2 * hg * gci2g\n",
    "    e1_2_2 = -2 * jnp.einsum(\"ij,ij->\", h1, ci2_green, optimize=\"optimal\")\n",
    "    e1_2 = e1_2_1 + e1_2_2\n",
    "    # e1 = e1_0 + e1_1 + e1_2\n",
    "    e1 = e1_0 + e1_2\n",
    "\n",
    "    # two body energy\n",
    "    # ref\n",
    "    lg = jnp.einsum(\"gpj,pj->g\", rot_chol, green, optimize=\"optimal\")\n",
    "    # lg1 = jnp.einsum(\"gpj,pk->gjk\", rot_chol, green, optimize=\"optimal\")\n",
    "    lg1 = jnp.einsum(\"gpj,qj->gpq\", rot_chol, green, optimize=\"optimal\")\n",
    "    e2_0_1 = 2 * lg @ lg\n",
    "    e2_0_2 = -jnp.sum(vmap(lambda x: x * x.T)(lg1))\n",
    "    e2_0 = e2_0_1 + e2_0_2\n",
    "\n",
    "    # single excitations\n",
    "    # e2_1_1 = 2 * e2_0 * ci1g\n",
    "    # lci1g = jnp.einsum(\"gij,ij->g\", chol, ci1_green, optimize=\"optimal\")\n",
    "    # e2_1_2 = -2 * (lci1g @ lg)\n",
    "    # lci1g1 = jnp.einsum(\"gij,jk->gik\", chol, ci1_green, optimize=\"optimal\")\n",
    "    # glgpci1 = jnp.einsum((\"gpi,iq->gpq\"), gl, gpci1, optimize=\"optimal\")\n",
    "    # ci1g1 = ci1 @ green_occ.T\n",
    "    # e2_1_3 = jnp.einsum(\"gpq,gpq->\", glgpci1, lg1, optimize=\"optimal\")\n",
    "    # e2_1_3_1 = jnp.einsum(\"gpq,gqr,rp->\", lg1, lg1, ci1g1, optimize=\"optimal\")\n",
    "    # lci1g = jnp.einsum(\"gip,qi->gpq\", ham_data[\"lci1\"], green, optimize=\"optimal\")\n",
    "    # e2_1_3_2 = -jnp.einsum(\"gpq,gqp->\", lci1g, lg1, optimize=\"optimal\")\n",
    "    # e2_1_3 = e2_1_3_1 + e2_1_3_2\n",
    "    # e2_1 = e2_1_1 + 2 * (e2_1_2 + e2_1_3)\n",
    "\n",
    "    # double excitations\n",
    "    e2_2_1 = e2_0 * gci2g\n",
    "    lci2g = jnp.einsum(\"gij,ij->g\", chol, ci2_green, optimize=\"optimal\")\n",
    "    e2_2_2_1 = -lci2g @ lg\n",
    "\n",
    "    # lci2g1 = jnp.einsum(\"gij,jk->gik\", chol, ci2_green, optimize=\"optimal\")\n",
    "    # lci2_green = jnp.einsum(\"gpi,ji->gpj\", rot_chol, ci2_green, optimize=\"optimal\")\n",
    "    # e2_2_2_2 = 0.5 * jnp.einsum(\"gpi,gpi->\", gl, lci2_green, optimize=\"optimal\")\n",
    "    def scanned_fun(carry, x):\n",
    "        chol_i, rot_chol_i = x\n",
    "        gl_i = jnp.einsum(\"pj,ji->pi\", green, chol_i, optimize=\"optimal\")\n",
    "        lci2_green_i = jnp.einsum(\n",
    "            \"pi,ji->pj\", rot_chol_i, ci2_green, optimize=\"optimal\"\n",
    "        )\n",
    "        carry[0] += 0.5 * jnp.einsum(\n",
    "            \"pi,pi->\", gl_i, lci2_green_i, optimize=\"optimal\"\n",
    "        )\n",
    "        glgp_i = jnp.einsum(\"pi,it->pt\", gl_i, greenp, optimize=\"optimal\").astype(\n",
    "            jnp.complex64\n",
    "        )\n",
    "        l2ci2_1 = jnp.einsum(\n",
    "            \"pt,qu,ptqu->\",\n",
    "            glgp_i,\n",
    "            glgp_i,\n",
    "            ci2.astype(jnp.float32),\n",
    "            optimize=\"optimal\",\n",
    "        )\n",
    "        l2ci2_2 = jnp.einsum(\n",
    "            \"pu,qt,ptqu->\",\n",
    "            glgp_i,\n",
    "            glgp_i,\n",
    "            ci2.astype(jnp.float32),\n",
    "            optimize=\"optimal\",\n",
    "        )\n",
    "        carry[1] += 2 * l2ci2_1 - l2ci2_2\n",
    "        return carry, 0.0\n",
    "\n",
    "    [e2_2_2_2, e2_2_3], _ = lax.scan(scanned_fun, [0.0, 0.0], (chol, rot_chol))\n",
    "    e2_2_2 = 4 * (e2_2_2_1 + e2_2_2_2)\n",
    "\n",
    "    e2_2 = e2_2_1 + e2_2_2 + e2_2_3\n",
    "\n",
    "    # e2 = e2_0 + e2_1 + e2_2\n",
    "    e2 = e2_0 + e2_2\n",
    "\n",
    "    # overlap\n",
    "    # overlap_1 = 2 * ci1g  # jnp.einsum(\"ia,ia\", ci1, green_occ)\n",
    "    overlap_2 = gci2g\n",
    "    # overlap = 1.0 + overlap_1 + overlap_2\n",
    "    overlap = 1.0 + overlap_2\n",
    "    # olp_inv = 1 - 2*ci1g - gci2g + (2*ci1g)**2\n",
    "    olp_inv = 1 - gci2g\n",
    "    \n",
    "    e_pert = (e1 + e2) * olp_inv + e0\n",
    "    e_orig = (e1 + e2) / overlap + e0\n",
    "\n",
    "    # return (e1 + e2) / overlap + e0\n",
    "    return e_pert, e_orig, gci2g"
   ]
  },
  {
   "cell_type": "code",
   "execution_count": 18,
   "id": "e66b15c9",
   "metadata": {},
   "outputs": [
    {
     "name": "stdout",
     "output_type": "stream",
     "text": [
      "-2.9998514912772754\n"
     ]
    }
   ],
   "source": [
    "print(mycc.e_tot)"
   ]
  },
  {
   "cell_type": "code",
   "execution_count": 73,
   "id": "81872cad",
   "metadata": {},
   "outputs": [
    {
     "name": "stdout",
     "output_type": "stream",
     "text": [
      "(-2.999851469512132+0j)\n",
      "(-2.999851469512132+0j)\n",
      "0j\n"
     ]
    }
   ],
   "source": [
    "e1,e2 = _calc_cisd_walker_pert_energy(trial, prop_data['walkers'][0], ham_data, wave_data)\n",
    "print(e1)\n",
    "print(e2)\n",
    "print(e1-e2)"
   ]
  },
  {
   "cell_type": "code",
   "execution_count": 76,
   "id": "b6d946c2",
   "metadata": {},
   "outputs": [],
   "source": [
    "prop_data, (block_energy, block_weight) \\\n",
    "    = sampler._block_scan(prop_data,None,ham_data,prop,trial,wave_data)"
   ]
  },
  {
   "cell_type": "code",
   "execution_count": 55,
   "id": "1ba6580a",
   "metadata": {},
   "outputs": [
    {
     "data": {
      "text/plain": [
       "Array(-2.99985147+0.j, dtype=complex128)"
      ]
     },
     "execution_count": 55,
     "metadata": {},
     "output_type": "execute_result"
    }
   ],
   "source": [
    "trial._calc_energy_restricted(prop_data['walkers'][0], ham_data, wave_data)"
   ]
  },
  {
   "cell_type": "code",
   "execution_count": 91,
   "id": "d35055c4",
   "metadata": {},
   "outputs": [
    {
     "name": "stdout",
     "output_type": "stream",
     "text": [
      "-2.7501475540010003 2.4901828913079822e-06\n"
     ]
    }
   ],
   "source": [
    "t2_0 = np.zeros(mycc.t2.shape)\n",
    "eris = mycc.ao2mo(mycc.mo_coeff)\n",
    "eccsd = mycc.energy(mycc.t1, t2_0, eris)\n",
    "ecc_t2_0 = eccsd+mf.e_tot\n",
    "print(ecc_t2_0,eccsd)"
   ]
  },
  {
   "cell_type": "code",
   "execution_count": 89,
   "id": "7a3dcbcc",
   "metadata": {},
   "outputs": [
    {
     "name": "stdout",
     "output_type": "stream",
     "text": [
      "(-2.750147553891801+0j) (-2.750147553891801+0j)\n",
      "(1+0j) (1+0j)\n"
     ]
    }
   ],
   "source": [
    "e1,e2,c2gg = _calc_ccsd_walker_pert_energy(trial, prop_data['walkers'][0], ham_data, wave_data)\n",
    "print(e1,e2)\n",
    "print(1-c2gg,1/(1+c2gg))"
   ]
  },
  {
   "cell_type": "code",
   "execution_count": 84,
   "id": "1ddb3c89",
   "metadata": {},
   "outputs": [
    {
     "data": {
      "text/plain": [
       "Array(1.00000388+1.6543086e-09j, dtype=complex128)"
      ]
     },
     "execution_count": 84,
     "metadata": {},
     "output_type": "execute_result"
    }
   ],
   "source": [
    "1/(1+c2gg)"
   ]
  },
  {
   "cell_type": "code",
   "execution_count": 83,
   "id": "1ac10965",
   "metadata": {},
   "outputs": [
    {
     "data": {
      "text/plain": [
       "Array(1.00000388+1.65429576e-09j, dtype=complex128)"
      ]
     },
     "execution_count": 83,
     "metadata": {},
     "output_type": "execute_result"
    }
   ],
   "source": [
    "1-c2gg"
   ]
  },
  {
   "cell_type": "code",
   "execution_count": 78,
   "id": "4bd25f9a",
   "metadata": {},
   "outputs": [
    {
     "data": {
      "text/plain": [
       "(Array(-2.99733417-0.00029331j, dtype=complex128),\n",
       " Array(-2.9981479-0.00015193j, dtype=complex128))"
      ]
     },
     "execution_count": 78,
     "metadata": {},
     "output_type": "execute_result"
    }
   ],
   "source": [
    "_calc_cisd_walker_pert_energy(trial, prop_data['walkers'][0], ham_data, wave_data)"
   ]
  },
  {
   "cell_type": "code",
   "execution_count": null,
   "id": "86b5d5d8",
   "metadata": {},
   "outputs": [],
   "source": []
  }
 ],
 "metadata": {
  "kernelspec": {
   "display_name": "lno_pyscf_afqmc",
   "language": "python",
   "name": "python3"
  },
  "language_info": {
   "codemirror_mode": {
    "name": "ipython",
    "version": 3
   },
   "file_extension": ".py",
   "mimetype": "text/x-python",
   "name": "python",
   "nbconvert_exporter": "python",
   "pygments_lexer": "ipython3",
   "version": "3.10.16"
  }
 },
 "nbformat": 4,
 "nbformat_minor": 5
}
