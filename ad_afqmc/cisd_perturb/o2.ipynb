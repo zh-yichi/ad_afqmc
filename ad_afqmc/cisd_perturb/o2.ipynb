{
 "cells": [
  {
   "cell_type": "code",
   "execution_count": 14,
   "id": "397a3055",
   "metadata": {},
   "outputs": [
    {
     "name": "stdout",
     "output_type": "stream",
     "text": [
      "System: uname_result(system='Linux', node='yichi-thinkpad', release='4.4.0-26100-Microsoft', version='#5074-Microsoft Fri Jan 01 08:00:00 PST 2016', machine='x86_64')  Threads 12\n",
      "Python 3.10.16 | packaged by conda-forge | (main, Dec  5 2024, 14:16:10) [GCC 13.3.0]\n",
      "numpy 1.24.3  scipy 1.14.1  h5py 3.12.1\n",
      "Date: Sat Oct 18 00:26:33 2025\n",
      "PySCF version 2.8.0\n",
      "PySCF path  /home/yichi/research/software/lno_pyscf\n",
      "GIT HEAD (branch master) ef75f4190e4de208685670651dc6c467f72b6794\n",
      "\n",
      "[ENV] PYSCF_EXT_PATH /home/yichi/research/software/pyscf\n",
      "[CONFIG] conf_file None\n",
      "[INPUT] verbose = 4\n",
      "[INPUT] num. atoms = 2\n",
      "[INPUT] num. electrons = 13\n",
      "[INPUT] charge = 0\n",
      "[INPUT] spin (= nelec alpha-beta = 2S) = 1\n",
      "[INPUT] symmetry False subgroup None\n",
      "[INPUT] Mole.unit = angstrom\n",
      "[INPUT] Symbol           X                Y                Z      unit          X                Y                Z       unit  Magmom\n",
      "[INPUT]  1 C      0.000000000000   0.000000000000   0.000000000000 AA    0.000000000000   0.000000000000   0.000000000000 Bohr   0.0\n",
      "[INPUT]  2 N      0.000000000000   0.000000000000   1.167390000000 AA    0.000000000000   0.000000000000   2.206047380556 Bohr   0.0\n",
      "\n",
      "nuclear repulsion = 19.0385756762008\n",
      "number of shells = 10\n",
      "number of NR pGTOs = 52\n",
      "number of NR cGTOs = 28\n",
      "basis = ccpvdz\n",
      "ecp = {}\n",
      "CPU time:        77.77\n",
      "\n",
      "\n",
      "\n",
      "\n",
      "******** <class 'pyscf.soscf.newton_ah.SecondOrderUHF'> ********\n",
      "method = SecondOrderUHF\n",
      "initial guess = minao\n",
      "damping factor = 0\n",
      "level_shift factor = 0\n",
      "DIIS = <class 'pyscf.scf.diis.CDIIS'>\n",
      "diis_start_cycle = 1\n",
      "diis_space = 8\n",
      "diis_damp = 0\n",
      "SCF conv_tol = 1e-09\n",
      "SCF conv_tol_grad = None\n",
      "SCF max_cycles = 50\n",
      "direct_scf = True\n",
      "direct_scf_tol = 1e-13\n",
      "chkfile to save SCF result = /tmp/tmpu0tl34md\n",
      "max_memory 4000 MB (current use 212 MB)\n",
      "number electrons alpha = 7  beta = 6\n",
      "******** <class 'pyscf.scf.uhf.UHF'> Newton solver flags ********\n",
      "SCF tol = 1e-09\n",
      "conv_tol_grad = None\n",
      "max. SCF cycles = 50\n",
      "direct_scf = True\n",
      "direct_scf_tol = 1e-13\n",
      "chkfile to save SCF result = /tmp/tmpu0tl34md\n",
      "max_cycle_inner = 12\n",
      "max_stepsize = 0.05\n",
      "ah_start_tol = 1e+09\n",
      "ah_level_shift = 0\n",
      "ah_conv_tol = 1e-12\n",
      "ah_lindep = 1e-14\n",
      "ah_start_cycle = 1\n",
      "ah_max_cycle = 40\n"
     ]
    },
    {
     "name": "stdout",
     "output_type": "stream",
     "text": [
      "ah_grad_trust_region = 2.5\n",
      "kf_interval = 4\n",
      "kf_trust_region = 5\n",
      "canonicalization = True\n",
      "max_memory 4000 MB (current use 212 MB)\n",
      "Set conv_tol_grad to 3.16228e-05\n",
      "  alpha nocc = 7  HOMO = -0.272981774937852  LUMO = 0.112874180662642\n",
      "  beta  nocc = 6  HOMO = -0.380608972529947  LUMO = -0.272981774937852\n",
      "\n",
      "WARN: system HOMO -0.272981774937852 >= system LUMO -0.272981774937852\n",
      "\n",
      "Initial guess E= -92.1441160262983  |g|= 0.259153\n",
      "macro= 0  E= -92.2050265186901  delta_E= -0.0609105  |g|= 0.144672  3 KF 18 JK\n",
      "macro= 1  E= -92.2120742149028  delta_E= -0.0070477  |g|= 0.0641892  2 KF 8 JK\n",
      "macro= 2  E= -92.2129977474647  delta_E= -0.000923533  |g|= 0.00256548  3 KF 10 JK\n",
      "macro= 3  E= -92.212998076972  delta_E= -3.29507e-07  |g|= 3.03356e-05  2 KF 8 JK\n",
      "macro= 4  E= -92.212998076972  delta_E= 2.84217e-14  |g|= 1.222e-05  1 KF 2 JK\n",
      "Canonicalize SCF orbitals\n",
      "macro X = 5  E=-92.212998076972  |g|= 1.222e-05  total 12 KF 52 JK\n",
      "converged SCF energy = -92.212998076972  <S^2> = 1.1325602  2S+1 = 2.3516464\n",
      "\n",
      "******** <class 'pyscf.cc.uccsd.UCCSD'> ********\n",
      "CC2 = 0\n",
      "CCSD nocc = (5, 4), nmo = (26, 26)\n",
      "frozen orbitals 2\n",
      "max_cycle = 50\n",
      "direct = 0\n",
      "conv_tol = 1e-07\n",
      "conv_tol_normt = 1e-06\n",
      "diis_space = 6\n",
      "diis_start_cycle = 0\n",
      "diis_start_energy_diff = 1e+09\n",
      "max_memory 4000 MB (current use 212 MB)\n",
      "Init t2, MP2 energy = -0.223264996969009\n",
      "Init E_corr(UCCSD) = -0.223264997019886\n",
      "cycle = 1  E_corr(UCCSD) = -0.228207240075899  dE = -0.00494224306  norm(t1,t2) = 0.110921\n",
      "cycle = 2  E_corr(UCCSD) = -0.240927167485562  dE = -0.0127199274  norm(t1,t2) = 0.0603112\n",
      "cycle = 3  E_corr(UCCSD) = -0.248921127746468  dE = -0.00799396026  norm(t1,t2) = 0.0506611\n",
      "cycle = 4  E_corr(UCCSD) = -0.262915440564169  dE = -0.0139943128  norm(t1,t2) = 0.0302444\n",
      "cycle = 5  E_corr(UCCSD) = -0.262156046013022  dE = 0.000759394551  norm(t1,t2) = 0.0138238\n",
      "cycle = 6  E_corr(UCCSD) = -0.263150509825708  dE = -0.000994463813  norm(t1,t2) = 0.00803579\n",
      "cycle = 7  E_corr(UCCSD) = -0.263594333000692  dE = -0.000443823175  norm(t1,t2) = 0.00485891\n",
      "cycle = 8  E_corr(UCCSD) = -0.263352682706275  dE = 0.000241650294  norm(t1,t2) = 0.00203086\n",
      "cycle = 9  E_corr(UCCSD) = -0.2634593928162  dE = -0.00010671011  norm(t1,t2) = 0.00105409\n",
      "cycle = 10  E_corr(UCCSD) = -0.263448900720342  dE = 1.04920959e-05  norm(t1,t2) = 0.00048654\n",
      "cycle = 11  E_corr(UCCSD) = -0.263420222841745  dE = 2.86778786e-05  norm(t1,t2) = 0.000234436\n",
      "cycle = 12  E_corr(UCCSD) = -0.263402936179055  dE = 1.72866627e-05  norm(t1,t2) = 9.36517e-05\n",
      "cycle = 13  E_corr(UCCSD) = -0.263400996913852  dE = 1.9392652e-06  norm(t1,t2) = 2.2103e-05\n",
      "cycle = 14  E_corr(UCCSD) = -0.263400993786061  dE = 3.12779064e-09  norm(t1,t2) = 7.71082e-06\n",
      "cycle = 15  E_corr(UCCSD) = -0.263400873942521  dE = 1.1984354e-07  norm(t1,t2) = 2.39032e-06\n",
      "cycle = 16  E_corr(UCCSD) = -0.263400880450696  dE = -6.50817539e-09  norm(t1,t2) = 6.62275e-07\n",
      "UCCSD converged\n",
      "E(UCCSD) = -92.47639895742272  E_corr = -0.2634008804506963\n",
      "UCCSD(T) correction = -0.0122963143544435\n"
     ]
    }
   ],
   "source": [
    "from pyscf import gto, scf, cc\n",
    "import numpy as np\n",
    "from jax import numpy as jnp\n",
    "from jax import vmap, jvp, jit\n",
    "import jax\n",
    "from functools import partial\n",
    "\n",
    "atoms = '''\n",
    "C 0.0 0.0 0.0\n",
    "N 0.0 0.0 1.16739\n",
    "'''\n",
    "\n",
    "nfrozen = 2\n",
    "mol = gto.M(atom=atoms, basis=\"ccpvdz\", spin=1, verbose=4)\n",
    "mol.build()\n",
    "\n",
    "mf = scf.UHF(mol).newton()\n",
    "mf.kernel()\n",
    "\n",
    "mycc = cc.CCSD(mf,frozen=nfrozen)\n",
    "mycc.kernel()\n",
    "et = mycc.ccsd_t()"
   ]
  },
  {
   "cell_type": "code",
   "execution_count": 15,
   "id": "a5e6b898",
   "metadata": {},
   "outputs": [
    {
     "data": {
      "text/plain": [
       "-92.48869527177716"
      ]
     },
     "execution_count": 15,
     "metadata": {},
     "output_type": "execute_result"
    }
   ],
   "source": [
    "mycc.e_tot+et"
   ]
  },
  {
   "cell_type": "code",
   "execution_count": 18,
   "id": "86a8a7cc",
   "metadata": {},
   "outputs": [
    {
     "data": {
      "text/plain": [
       "(5, 5, 21, 21)"
      ]
     },
     "execution_count": 18,
     "metadata": {},
     "output_type": "execute_result"
    }
   ],
   "source": [
    "mycc.t2[0].shape"
   ]
  },
  {
   "cell_type": "code",
   "execution_count": null,
   "id": "1294fd20",
   "metadata": {},
   "outputs": [],
   "source": []
  }
 ],
 "metadata": {
  "kernelspec": {
   "display_name": "lno_pyscf_afqmc",
   "language": "python",
   "name": "python3"
  },
  "language_info": {
   "codemirror_mode": {
    "name": "ipython",
    "version": 3
   },
   "file_extension": ".py",
   "mimetype": "text/x-python",
   "name": "python",
   "nbconvert_exporter": "python",
   "pygments_lexer": "ipython3",
   "version": "3.10.16"
  }
 },
 "nbformat": 4,
 "nbformat_minor": 5
}
