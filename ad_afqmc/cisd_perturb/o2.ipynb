{
 "cells": [
  {
   "cell_type": "code",
   "execution_count": 9,
   "id": "397a3055",
   "metadata": {},
   "outputs": [
    {
     "name": "stdout",
     "output_type": "stream",
     "text": [
      "AFQMC/RHF O2 Dissociation Energy:     0.2398 +/- 0.0019\n",
      "AFQMC/CISD O2 Dissociation Energy:    0.2849 +/- 0.0005\n",
      "AFQMC/CISD_PT O2 Dissociation Energy: 0.3286 +/- 0.0034\n"
     ]
    }
   ],
   "source": [
    "# O--------O ccpvdz\n",
    "# AFQMC/RHF energy:     -149.699720 +/- 0.001599\n",
    "# AFQMC/CISD energy:    -149.6621 +/- 0.0004\n",
    "# AFQMC/CISD_PT energy: -149.572015 +/- 0.003300\n",
    "# O2 HEAT ccpvzd\n",
    "# AFQMC/RHF energy:     -149.939500 +/- 0.001037\n",
    "# AFQMC/CISD energy:    -149.9470 +/- 0.0003\n",
    "# AFQMC/CISD_PT energy: -149.900571 +/- 0.000873\n",
    "e_rhf = -149.699720 - -149.939500\n",
    "rhf_err = (0.001599**2+0.001037**2)**.5\n",
    "e_pt = -149.572015 - -149.900571\n",
    "pt_err = (0.003300**2+0.000873**2)**.5\n",
    "e_ci = -149.6621 - -149.9470\n",
    "ci_err = (0.0003**2+0.0004**2)**.5\n",
    "print(f'AFQMC/RHF O2 Dissociation Energy:     {e_rhf:.4f} +/- {rhf_err:.4f}')\n",
    "print(f'AFQMC/CISD O2 Dissociation Energy:    {e_ci:.4f} +/- {ci_err:.4f}')\n",
    "print(f'AFQMC/CISD_PT O2 Dissociation Energy: {e_pt:.4f} +/- {pt_err:.4f}')"
   ]
  },
  {
   "cell_type": "code",
   "execution_count": null,
   "id": "a5e6b898",
   "metadata": {},
   "outputs": [],
   "source": []
  }
 ],
 "metadata": {
  "kernelspec": {
   "display_name": "lno_pyscf_afqmc",
   "language": "python",
   "name": "python3"
  },
  "language_info": {
   "codemirror_mode": {
    "name": "ipython",
    "version": 3
   },
   "file_extension": ".py",
   "mimetype": "text/x-python",
   "name": "python",
   "nbconvert_exporter": "python",
   "pygments_lexer": "ipython3",
   "version": "3.10.16"
  }
 },
 "nbformat": 4,
 "nbformat_minor": 5
}
