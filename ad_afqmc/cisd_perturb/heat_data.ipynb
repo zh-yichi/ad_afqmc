{
 "cells": [
  {
   "cell_type": "code",
   "execution_count": null,
   "id": "a19ae195",
   "metadata": {},
   "outputs": [],
   "source": [
    "import numpy as np\n",
    "mols = [\"H2\",\"CH\",\"CH2\",\"NH\",\"CH3\",\"NH2\",\"OH\",\"HF\",\n",
    "        \"H2O\",\"NH3\",\"C2H\",\"CN\",\"C2H2\",\"CO\",\"HCN\",\"N2\",\n",
    "        \"HCO\",\"CF\",\"NO\",\"HNO\",\"O2\",\"HO2\",\"OF\",\"H2O2\",\"F2\",\"CO2\"]\n",
    "data_dic = {}\n",
    "with open(\"/home/yichi/research/afqmc_cisd_data/heat/ene.dz.txt\") as f:\n",
    "    for line in f:\n",
    "        parts = line.split()\n",
    "        species = parts[0]\n",
    "        data_dic[species] = {}\n",
    "        # data_dic[species][\"ccsdt\"] = float(parts[1])\n",
    "        # data_dic[species][\"ccsdt[q]\"] = float(parts[2])\n",
    "        # data_dic[species][\"ccsdt(q)\"] = float(parts[3])\n",
    "        data_dic[species][\"ccsdtq\"] = float(parts[4])\n",
    "        data_dic[species][\"ccsdtqp\"] = float(parts[5])\n",
    "\n",
    "ref = np.array([data_dic[mol][\"ccsdtqp\"] for mol in mols])\n",
    "ccsdtq = np.array([data_dic[mol][\"ccsdtq\"] for mol in mols])\n",
    "\n",
    "data = np.loadtxt(\"/home/yichi/research/afqmc_cisd_data/heat/ene.txt\", delimiter=\",\")\n",
    "afqmc_hf = (data[:, 1] - ref) * 1000\n",
    "# afqmc_hf_rmsd = np.sqrt(np.mean((afqmc_hf) \\*\\* 2))\n",
    "afqmc_hf_stoc_err = data[:, 2] * 1000\n",
    "# ccsdtq = (ccsdtq - ref) _ 1000\n",
    "# ccsdtq_rmsd = np.sqrt(np.mean((ccsdtq) \\*\\* 2))\n",
    "# ccsdpt = (data[:, 4] - ref) _ 1000\n",
    "# ccsdpt_rmsd = np.sqrt(np.mean((ccsdpt) ** 2))\n",
    "afqmc_cisd = (data[:, 5] - ref) * 1000\n",
    "# afqmc_cisd_rmsd = np.sqrt(np.mean((afqmc_cisd) ** 2))\n",
    "afqmc_cisd_stoc_err = data[:, 6] *1000"
   ]
  },
  {
   "cell_type": "code",
   "execution_count": 18,
   "id": "eab96b72",
   "metadata": {},
   "outputs": [],
   "source": [
    "for i,mol in enumerate(mols):\n",
    "    data_dic[mol][\"afqmc_hf\"] = data[i, 1]\n",
    "    data_dic[mol][\"afqmc_cisd\"] = data[i, 5]"
   ]
  },
  {
   "cell_type": "code",
   "execution_count": 23,
   "id": "d19122c4",
   "metadata": {},
   "outputs": [],
   "source": [
    "for i,mol in enumerate(mols):\n",
    "    data_dic[mol][\"afqmc_hf_err(mH)\"] = data[i, 2] * 1000\n",
    "    data_dic[mol][\"afqmc_cisd_err(mH)\"] = data[i, 6] * 1000"
   ]
  },
  {
   "cell_type": "code",
   "execution_count": 27,
   "id": "1e3c4bbf",
   "metadata": {},
   "outputs": [
    {
     "data": {
      "text/plain": [
       "0.0010570000000029722"
      ]
     },
     "execution_count": 27,
     "metadata": {},
     "output_type": "execute_result"
    }
   ],
   "source": [
    "-109.275955 - data_dic['N2']['ccsdtqp']"
   ]
  },
  {
   "cell_type": "code",
   "execution_count": 28,
   "id": "7d136b5f",
   "metadata": {},
   "outputs": [
    {
     "data": {
      "text/plain": [
       "{'ccsdtqp': -149.987773,\n",
       " 'ccsdtq': -149.987605,\n",
       " 'afqmc_hf': -149.9792,\n",
       " 'afqmc_cisd': -149.98592,\n",
       " 'afqmc_hf_err(mH)': 0.2,\n",
       " 'afqmc_cisd_err(mH)': 0.1}"
      ]
     },
     "execution_count": 28,
     "metadata": {},
     "output_type": "execute_result"
    }
   ],
   "source": [
    "data_dic['O2']"
   ]
  },
  {
   "cell_type": "code",
   "execution_count": null,
   "id": "55636757",
   "metadata": {},
   "outputs": [],
   "source": []
  }
 ],
 "metadata": {
  "kernelspec": {
   "display_name": "lno_pyscf_afqmc",
   "language": "python",
   "name": "python3"
  },
  "language_info": {
   "codemirror_mode": {
    "name": "ipython",
    "version": 3
   },
   "file_extension": ".py",
   "mimetype": "text/x-python",
   "name": "python",
   "nbconvert_exporter": "python",
   "pygments_lexer": "ipython3",
   "version": "3.10.16"
  }
 },
 "nbformat": 4,
 "nbformat_minor": 5
}
