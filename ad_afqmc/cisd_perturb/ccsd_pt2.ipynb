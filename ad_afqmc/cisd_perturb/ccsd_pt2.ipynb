{
 "cells": [
  {
   "cell_type": "code",
   "execution_count": 1,
   "id": "655561f0",
   "metadata": {},
   "outputs": [
    {
     "name": "stdout",
     "output_type": "stream",
     "text": [
      "System: uname_result(system='Linux', node='yichi-thinkpad', release='4.4.0-26100-Microsoft', version='#5074-Microsoft Fri Jan 01 08:00:00 PST 2016', machine='x86_64')  Threads 12\n",
      "Python 3.10.16 | packaged by conda-forge | (main, Dec  5 2024, 14:16:10) [GCC 13.3.0]\n",
      "numpy 1.24.3  scipy 1.14.1  h5py 3.12.1\n",
      "Date: Sat Oct 18 13:59:09 2025\n",
      "PySCF version 2.8.0\n",
      "PySCF path  /home/yichi/research/software/lno_pyscf\n",
      "GIT HEAD (branch master) ef75f4190e4de208685670651dc6c467f72b6794\n",
      "\n",
      "[ENV] PYSCF_EXT_PATH /home/yichi/research/software/pyscf\n",
      "[CONFIG] conf_file None\n",
      "[INPUT] verbose = 4\n",
      "[INPUT] num. atoms = 4\n",
      "[INPUT] num. electrons = 4\n",
      "[INPUT] charge = 0\n",
      "[INPUT] spin (= nelec alpha-beta = 2S) = 0\n",
      "[INPUT] symmetry False subgroup None\n",
      "[INPUT] Mole.unit = bohr\n",
      "[INPUT] Symbol           X                Y                Z      unit          X                Y                Z       unit  Magmom\n",
      "[INPUT]  1 H      0.000000000000   0.000000000000   0.000000000000 AA    0.000000000000   0.000000000000   0.000000000000 Bohr   0.0\n",
      "[INPUT]  2 H      1.058354421840   0.000000000000   0.000000000000 AA    2.000000000000   0.000000000000   0.000000000000 Bohr   0.0\n",
      "[INPUT]  3 H      2.116708843680   0.000000000000   0.000000000000 AA    4.000000000000   0.000000000000   0.000000000000 Bohr   0.0\n",
      "[INPUT]  4 H      3.175063265520   0.000000000000   0.000000000000 AA    6.000000000000   0.000000000000   0.000000000000 Bohr   0.0\n",
      "\n",
      "nuclear repulsion = 2.16666666666667\n",
      "number of shells = 8\n",
      "number of NR pGTOs = 16\n",
      "number of NR cGTOs = 8\n",
      "basis = 6-31g\n",
      "ecp = {}\n",
      "CPU time:         6.64\n",
      "\n",
      "\n",
      "******** <class 'pyscf.scf.hf.RHF'> ********\n",
      "method = RHF\n",
      "initial guess = minao\n",
      "damping factor = 0\n",
      "level_shift factor = 0\n",
      "DIIS = <class 'pyscf.scf.diis.CDIIS'>\n",
      "diis_start_cycle = 1\n",
      "diis_space = 8\n",
      "diis_damp = 0\n",
      "SCF conv_tol = 1e-09\n",
      "SCF conv_tol_grad = None\n",
      "SCF max_cycles = 50\n",
      "direct_scf = True\n",
      "direct_scf_tol = 1e-13\n",
      "chkfile to save SCF result = /tmp/tmpe7on5_by\n",
      "max_memory 4000 MB (current use 162 MB)\n",
      "Set gradient conv threshold to 3.16228e-05\n",
      "Initial guess from minao.\n",
      "init E= -1.59136456138912\n",
      "  HOMO = -0.311366450223953  LUMO = 0.0244296527126878\n",
      "cycle= 1 E= -2.14186694293291  delta_E= -0.551  |g|= 0.0797  |ddm|= 1.01\n",
      "  HOMO = -0.433132617151507  LUMO = 0.075449874782631\n",
      "cycle= 2 E= -2.1459165774227  delta_E= -0.00405  |g|= 0.0208  |ddm|= 0.274\n",
      "  HOMO = -0.430521772829404  LUMO = 0.0871883828905569\n",
      "cycle= 3 E= -2.14629644666779  delta_E= -0.00038  |g|= 0.00439  |ddm|= 0.0835\n",
      "  HOMO = -0.432100138114325  LUMO = 0.0877431697359724\n",
      "cycle= 4 E= -2.14631383742059  delta_E= -1.74e-05  |g|= 0.000412  |ddm|= 0.0199\n",
      "  HOMO = -0.432218994197479  LUMO = 0.0877293895605938\n",
      "cycle= 5 E= -2.14631393848306  delta_E= -1.01e-07  |g|= 4.51e-06  |ddm|= 0.000764\n",
      "  HOMO = -0.432223774184851  LUMO = 0.0877315230503042\n",
      "cycle= 6 E= -2.14631393849281  delta_E= -9.75e-12  |g|= 5.35e-07  |ddm|= 1.91e-05\n",
      "  HOMO = -0.432223149747822  LUMO = 0.0877310017082815\n",
      "Extra cycle  E= -2.14631393849295  delta_E= -1.39e-13  |g|= 1.18e-07  |ddm|= 1.18e-06\n",
      "converged SCF energy = -2.14631393849295\n",
      "\n",
      "******** <class 'pyscf.cc.ccsd.CCSD'> ********\n",
      "CC2 = 0\n",
      "CCSD nocc = 2, nmo = 8\n",
      "frozen orbitals 0\n",
      "max_cycle = 50\n",
      "direct = 0\n",
      "conv_tol = 1e-07\n",
      "conv_tol_normt = 1e-05\n",
      "diis_space = 6\n",
      "diis_start_cycle = 0\n",
      "diis_start_energy_diff = 1e+09\n",
      "max_memory 4000 MB (current use 168 MB)\n",
      "Init t2, MP2 energy = -2.1905273955773  E_corr(MP2) -0.0442134570843565\n",
      "Init E_corr(CCSD) = -0.0442134570843644\n",
      "cycle = 1  E_corr(CCSD) = -0.0576649236494257  dE = -0.0134514666  norm(t1,t2) = 0.0525103\n",
      "cycle = 2  E_corr(CCSD) = -0.0631079453742744  dE = -0.00544302172  norm(t1,t2) = 0.0272608\n",
      "cycle = 3  E_corr(CCSD) = -0.0681408196430438  dE = -0.00503287427  norm(t1,t2) = 0.0147531\n",
      "cycle = 4  E_corr(CCSD) = -0.0680780241504993  dE = 6.27954925e-05  norm(t1,t2) = 0.00295282\n",
      "cycle = 5  E_corr(CCSD) = -0.0680703871607373  dE = 7.63698976e-06  norm(t1,t2) = 0.00081806\n",
      "cycle = 6  E_corr(CCSD) = -0.0681012044509419  dE = -3.08172902e-05  norm(t1,t2) = 0.000174884\n",
      "cycle = 7  E_corr(CCSD) = -0.0680943610666432  dE = 6.8433843e-06  norm(t1,t2) = 2.55127e-05\n",
      "cycle = 8  E_corr(CCSD) = -0.0680954807118675  dE = -1.11964522e-06  norm(t1,t2) = 5.26883e-06\n",
      "cycle = 9  E_corr(CCSD) = -0.0680954510942256  dE = 2.96176419e-08  norm(t1,t2) = 5.93816e-07\n",
      "CCSD converged\n",
      "E(CCSD) = -2.214409389587173  E_corr = -0.0680954510942256\n"
     ]
    },
    {
     "data": {
      "text/plain": [
       "-0.0680954510942256"
      ]
     },
     "execution_count": 1,
     "metadata": {},
     "output_type": "execute_result"
    }
   ],
   "source": [
    "from pyscf import gto, scf, cc\n",
    "import numpy as np\n",
    "from jax import numpy as jnp\n",
    "from jax import vmap, jvp, jit\n",
    "import jax\n",
    "from functools import partial\n",
    "\n",
    "a = 2 # 2aB\n",
    "nH = 4\n",
    "atoms = \"\"\n",
    "for i in range(nH):\n",
    "    atoms += f\"H {i*a:.5f} 0.00000 0.00000 \\n\"\n",
    "\n",
    "mol = gto.M(atom=atoms, basis=\"6-31g\", unit='bohr', verbose=4)\n",
    "mol.build()\n",
    "\n",
    "mf = scf.RHF(mol)\n",
    "mf.kernel()\n",
    "\n",
    "nfrozen = 0\n",
    "mycc = cc.CCSD(mf,frozen=nfrozen)\n",
    "mycc.kernel()[0]"
   ]
  },
  {
   "cell_type": "code",
   "execution_count": 2,
   "id": "dad0b30f",
   "metadata": {},
   "outputs": [
    {
     "name": "stdout",
     "output_type": "stream",
     "text": [
      "2\n",
      "8\n"
     ]
    }
   ],
   "source": [
    "print(mol.nelectron//2)\n",
    "print(mol.nao)"
   ]
  },
  {
   "cell_type": "code",
   "execution_count": 8,
   "id": "9e835fad",
   "metadata": {},
   "outputs": [],
   "source": [
    "def thouless_trans(t1):\n",
    "    ''' thouless transformation |psi'> = exp(t1)|psi>\n",
    "        gives the transformed mo rep in the \n",
    "        original mo basis <psi_p|psi'_i>\n",
    "    '''\n",
    "    # t = t_ia\n",
    "    # t_ia = c_ik c.T_ka\n",
    "    # c_ik = <psi_i|psi'_k>\n",
    "    q, r = jnp.linalg.qr(t1,mode='complete')\n",
    "    u_ji = q\n",
    "    u_ai = r.T\n",
    "    u_occ = jnp.vstack((u_ji,u_ai))\n",
    "    mo_t, _ = jnp.linalg.qr(u_occ,mode='complete')\n",
    "    # u, _, _ = np.linalg.svd(u_occ)\n",
    "    return mo_t"
   ]
  },
  {
   "cell_type": "code",
   "execution_count": 3,
   "id": "a203b5f7",
   "metadata": {},
   "outputs": [],
   "source": [
    "t1 = mycc.t1*5\n",
    "q, r = jnp.linalg.qr(t1,mode='complete')\n",
    "u_ji = q\n",
    "u_ai = r.T\n",
    "u_occ = jnp.vstack((u_ji,u_ai))\n",
    "mo_t_occ, _ = jnp.linalg.qr(u_occ)\n",
    "mo_t, _ = jnp.linalg.qr(u_occ,mode='complete')"
   ]
  },
  {
   "cell_type": "code",
   "execution_count": 5,
   "id": "adebb11d",
   "metadata": {},
   "outputs": [
    {
     "name": "stdout",
     "output_type": "stream",
     "text": [
      "(8, 2) (8, 8)\n",
      "[[-9.9758232e-01 -1.5199196e-14]\n",
      " [ 1.5352736e-14 -9.9415469e-01]\n",
      " [ 3.9043330e-02 -3.9447164e-18]\n",
      " [-2.6860154e-15 -5.8827437e-02]\n",
      " [-5.5959675e-02  2.2853071e-16]\n",
      " [ 1.6771570e-15 -7.9744615e-02]\n",
      " [-1.3177985e-02 -2.7718166e-15]\n",
      " [-1.2296816e-15 -4.2852178e-02]]\n",
      "[[-9.9758232e-01 -1.5199196e-14]\n",
      " [ 1.5352736e-14 -9.9415469e-01]\n",
      " [ 3.9043330e-02 -3.9447164e-18]\n",
      " [-2.6860154e-15 -5.8827437e-02]\n",
      " [-5.5959675e-02  2.2853071e-16]\n",
      " [ 1.6771570e-15 -7.9744615e-02]\n",
      " [-1.3177985e-02 -2.7718166e-15]\n",
      " [-1.2296816e-15 -4.2852178e-02]]\n"
     ]
    }
   ],
   "source": [
    "nocc = mol.nelectron//2\n",
    "print(mo_t_occ.shape,mo_t.shape)\n",
    "print(mo_t_occ)\n",
    "print(mo_t[:,:nocc])"
   ]
  },
  {
   "cell_type": "code",
   "execution_count": null,
   "id": "27a3c182",
   "metadata": {},
   "outputs": [
    {
     "name": "stdout",
     "output_type": "stream",
     "text": [
      "number of H2 monomers:             [ 1  2  4  8 16 25]\n",
      "AFQMC/CCSD_PT energy per monomer:  [-1.09617 -1.09611 -1.09614 -1.09617 -1.09615 -1.09621]\n"
     ]
    }
   ],
   "source": [
    "# import numpy as np\n",
    "# np.set_printoptions(5)\n",
    "# # AFQMC/CCSD_PT energy: -1.096171 +/- 0.000554\n",
    "# # AFQMC/CCSD_PT energy: -2.192221 +/- 0.001636\n",
    "# # AFQMC/CCSD_PT energy: -4.384578 +/- 0.006862\n",
    "# # AFQMC/CCSD_PT energy: -8.769366 +/- 0.019849\n",
    "# # AFQMC/CCSD_PT energy: -17.538377 +/- 0.091299\n",
    "# # AFQMC/CCSD_PT energy: -27.405295 +/- 0.246627\n",
    "# nm = np.array([1,2,4,8,16,25])\n",
    "# ept = np.array([-1.096171,-2.192221,-4.384578,-8.769366,-17.538377,-27.405295])\n",
    "# ept_perm = ept/nm\n",
    "# print('number of H2 monomers:            ', nm)\n",
    "# print('AFQMC/CCSD_PT energy per monomer: ', ept_perm)"
   ]
  },
  {
   "cell_type": "code",
   "execution_count": 9,
   "id": "15bc70bd",
   "metadata": {},
   "outputs": [
    {
     "name": "stdout",
     "output_type": "stream",
     "text": [
      "#\n",
      "# Preparing AFQMC calculation\n",
      "# If you import pyscf cc modules and use MPI for AFQMC in the same script, finalize MPI before calling the AFQMC driver.\n",
      "# Calculating Cholesky integrals\n",
      "# Finished calculating Cholesky integrals\n",
      "#\n",
      "# Size of the correlation space:\n",
      "# Number of electrons: (2, 2)\n",
      "# Number of basis functions: 8\n",
      "# Number of Cholesky vectors: 26\n",
      "#\n"
     ]
    }
   ],
   "source": [
    "from ad_afqmc.cisd_perturb import ccsd_pt\n",
    "options = {'n_eql': 4,\n",
    "           'n_prop_steps': 50,\n",
    "            'n_ene_blocks': 20,\n",
    "            'n_sr_blocks': 10,\n",
    "            'n_blocks': 10,\n",
    "            'n_walkers': 2,\n",
    "            'seed': 2,\n",
    "            'walker_type': 'rhf',\n",
    "            'trial': 'cisd',\n",
    "            'dt':0.005,\n",
    "            'free_projection':False,\n",
    "            'ad_mode':None,\n",
    "            'use_gpu': False,\n",
    "            }\n",
    "\n",
    "from ad_afqmc import pyscf_interface\n",
    "from ad_afqmc.cisd_perturb import ccsd_pt, sample_ccsd_pt\n",
    "# t1 = 5 * mycc.t1\n",
    "mycc.t1 = 5*mycc.t1\n",
    "ccsd_pt.prep_afqmc(mycc,chol_cut=1e-7)\n",
    "# pyscf_interface.prep_afqmc(mycc,chol_cut=1e-7)"
   ]
  },
  {
   "cell_type": "code",
   "execution_count": 10,
   "id": "06f72706",
   "metadata": {},
   "outputs": [
    {
     "name": "stdout",
     "output_type": "stream",
     "text": [
      "# Hostname: yichi-thinkpad\n",
      "# System Type: Linux\n",
      "# Machine Type: x86_64\n",
      "# Processor: x86_64\n",
      "# Number of MPI ranks: 1\n",
      "#\n",
      "# norb: 8\n",
      "# nelec: (2, 2)\n",
      "#\n",
      "# n_eql: 4\n",
      "# n_prop_steps: 50\n",
      "# n_ene_blocks: 20\n",
      "# n_sr_blocks: 10\n",
      "# n_blocks: 10\n",
      "# n_walkers: 2\n",
      "# seed: 2\n",
      "# walker_type: rhf\n",
      "# trial: cisd\n",
      "# dt: 0.005\n",
      "# free_projection: False\n",
      "# use_gpu: False\n",
      "# n_exp_terms: 6\n",
      "# orbital_rotation: True\n",
      "# do_sr: True\n",
      "# symmetry: False\n",
      "# save_walkers: False\n",
      "# ene0: 0.0\n",
      "# n_batch: 1\n",
      "# LNO: False\n",
      "# orbE: 0\n",
      "# maxError: 0.001\n",
      "#\n"
     ]
    }
   ],
   "source": [
    "from ad_afqmc import config, mpi_jax, wavefunctions\n",
    "import time\n",
    "from jax import random\n",
    "ham_data, ham, prop, trial, wave_data, sampler, observable, options, _ \\\n",
    "    = (mpi_jax._prep_afqmc(options))\n",
    "\n",
    "trial = wavefunctions.rhf(\n",
    "    trial.norb, trial.nelec,n_batch=trial.n_batch\n",
    "    )"
   ]
  },
  {
   "cell_type": "code",
   "execution_count": null,
   "id": "87e9b2f9",
   "metadata": {},
   "outputs": [],
   "source": [
    "# def thouless_trans(t1):\n",
    "#     q, r = np.linalg.qr(t1)\n",
    "#     u_ai = r.T\n",
    "#     u_ji = q\n",
    "#     u_occ = np.vstack((u_ji,u_ai))\n",
    "#     q, r = np.linalg.qr(u_occ)\n",
    "#     # u, _, _ = np.linalg.svd(u_occ)\n",
    "#     return q"
   ]
  },
  {
   "cell_type": "code",
   "execution_count": 12,
   "id": "f1f972fe",
   "metadata": {},
   "outputs": [],
   "source": [
    "t1, t2 = wave_data['ci1'], wave_data['ci2']\n",
    "mo_t = thouless_trans(t1)\n",
    "nocc = wave_data['ci1'].shape[0]\n",
    "norb = trial.norb\n",
    "# trial_mo = u @ np.eye(norb)[:,:nocc]\n",
    "wave_data['mo_coeff'] = mo_t[:,:nocc]\n",
    "# print(t1.shape,t2.shape,trial_mo.shape)\n",
    "# rot_t1 = mo_t.T.conjugate()[:,:nocc] @ t1\n",
    "rot_t2 = jnp.einsum('il,jk,lakb->iajb',mo_t[:nocc,:nocc].T.conjugate(),\n",
    "                   mo_t[:nocc,:nocc].T.conjugate(),t2)\n",
    "wave_data['t1'] = t1\n",
    "wave_data['t2'] = t2\n",
    "# wave_data['rot_t1'] = rot_t1\n",
    "wave_data['rot_t2'] = rot_t2"
   ]
  },
  {
   "cell_type": "code",
   "execution_count": 13,
   "id": "dd3d57ba",
   "metadata": {},
   "outputs": [],
   "source": [
    "import h5py\n",
    "chol_file='FCIDUMP_chol'\n",
    "with h5py.File(chol_file, \"r\") as fh5:\n",
    "    [nelec, nmo, ms, nchol] = fh5[\"header\"]\n",
    "    h0 = jnp.array(fh5.get(\"energy_core\"))\n",
    "    h1 = jnp.array(fh5.get(\"hcore\")).reshape(nmo, nmo)\n",
    "    h1_mod = jnp.array(fh5.get(\"hcore_mod\")).reshape(nmo, nmo)\n",
    "    chol = jnp.array(fh5.get(\"chol\")).reshape(-1, nmo, nmo)\n",
    "\n",
    "ham_data['h1_mod'] = h1_mod"
   ]
  },
  {
   "cell_type": "code",
   "execution_count": 17,
   "id": "7498eb6b",
   "metadata": {},
   "outputs": [],
   "source": [
    "from jax import lax\n",
    "### <psi|T2(h1+h2)|phi>/<psi|phi> ### \n",
    "@partial(jit, static_argnums=2)\n",
    "def _t2_walker_olp(walker,wave_data,trial):\n",
    "    ''' t_iajb <psi|ijab|phi> '''\n",
    "    rot_t2 = wave_data['rot_t2']\n",
    "    nocc = walker.shape[1]\n",
    "    # GF = (walker.dot(jnp.linalg.inv(walker[: nocc, :]))).T\n",
    "    GF = trial._calc_green(walker, wave_data)\n",
    "    # o0 = jnp.linalg.det(walker[: nocc, :]) ** 2\n",
    "    # <psi|phi>\n",
    "    o0 = trial._calc_overlap_restricted(walker, wave_data)\n",
    "    # t_iajb <psi|ijab|phi>/<psi|phi>\n",
    "    o2 = 2 * jnp.einsum(\n",
    "        \"iajb, ia, jb\", rot_t2, GF[:, nocc:], GF[:, nocc:]\n",
    "    ) - jnp.einsum(\"iajb, ib, ja\", rot_t2, GF[:, nocc:], GF[:, nocc:])\n",
    "    return o2 * o0\n",
    "\n",
    "@partial(jit, static_argnums=4)\n",
    "def _t2_exp1(x: float, h1_mod: jax.Array, walker: jax.Array,\n",
    "                  wave_data: dict,trial) -> complex:\n",
    "    '''\n",
    "    t_iajb <psi|ijab exp(x*h1_mod)|walker>/<psi|walker>\n",
    "    '''\n",
    "    t = x * h1_mod\n",
    "    walker_1x = walker + t.dot(walker)\n",
    "    olp = _t2_walker_olp(walker_1x,wave_data,trial)\n",
    "    o0 = trial._calc_overlap_restricted(walker, wave_data)\n",
    "    return olp/o0\n",
    "\n",
    "@partial(jit, static_argnums=4)\n",
    "def _t2_exp2(x: float, chol_i: jax.Array, walker: jax.Array,\n",
    "                  wave_data: dict, trial) -> complex:\n",
    "    '''\n",
    "    t_iajb <psi|ijab exp(x*h2_mod)|walker>\n",
    "    '''\n",
    "    walker_2x = (\n",
    "            walker\n",
    "            + x * chol_i.dot(walker)\n",
    "            + x**2 / 2.0 * chol_i.dot(chol_i.dot(walker))\n",
    "        )\n",
    "    olp = _t2_walker_olp(walker_2x,wave_data,trial)\n",
    "    o0 = trial._calc_overlap_restricted(walker, wave_data)\n",
    "    return olp/o0\n",
    "\n",
    "@partial(jit, static_argnums=3)\n",
    "def _calc_energy_pt2(walker, ham_data, wave_data, trial):\n",
    "    ''' \n",
    "    t = <psi|T2|phi>/<psi|phi>\n",
    "    e0 = <psi|H|phi>/<psi|phi>\n",
    "    e1 = <psi|T2(h1+h2)|phi>/<psi|phi>\n",
    "    '''\n",
    "    eps=1e-4\n",
    "\n",
    "    norb = trial.norb\n",
    "    # h0 = ham_data['h0']\n",
    "    h1_mod = ham_data['h1_mod']\n",
    "    chol = ham_data[\"chol\"].reshape(-1, norb, norb)\n",
    "\n",
    "    # one body\n",
    "    # t_ij^ab <psi|ijab|phi_1x>\n",
    "    x = 0.0\n",
    "    f1 = lambda a: _t2_exp1(a,h1_mod,walker,wave_data,trial)\n",
    "    t_exp1_0, d_exp1 = jvp(f1, [x], [1.0])\n",
    "\n",
    "    # two body\n",
    "    # t_ij^ab <psi|ijab|phi_2x>\n",
    "    def scanned_fun(carry, c):\n",
    "        eps, walker, wave_data = carry\n",
    "        return carry, _t2_exp2(eps,c,walker,wave_data,trial)\n",
    "\n",
    "    _, exp2_p = lax.scan(scanned_fun, (eps, walker, wave_data), chol)\n",
    "    _, exp2_0 = lax.scan(scanned_fun, (0.0, walker, wave_data), chol)\n",
    "    _, exp2_m = lax.scan(scanned_fun, (-1.0 * eps, walker, wave_data), chol)\n",
    "    d2_exp2 = (exp2_p - 2.0 * exp2_0 + exp2_m) / eps / eps\n",
    "   \n",
    "    # o0 = trial._calc_overlap_restricted(walker, wave_data)\n",
    "    et2 = (d_exp1 + jnp.sum(d2_exp2) / 2.0 )\n",
    "\n",
    "    # t2 = _t2_walker_olp(walker,wave_data,trial)/o0\n",
    "    t2 = t_exp1_0\n",
    "    e0 = trial._calc_energy_restricted(walker,ham_data,wave_data)\n",
    "\n",
    "    return jnp.real(t2), jnp.real(e0), jnp.real(et2)"
   ]
  },
  {
   "cell_type": "code",
   "execution_count": 15,
   "id": "305d0117",
   "metadata": {},
   "outputs": [
    {
     "name": "stdout",
     "output_type": "stream",
     "text": [
      "# Hostname: yichi-thinkpad\n",
      "# System Type: Linux\n",
      "# Machine Type: x86_64\n",
      "# Processor: x86_64\n",
      "init rhf walker energy:  -2.1454872416253337\n",
      "mf enegry:  -2.146313938492948\n",
      "init ccsd_pt_walker energy:  -2.2136157627186845\n",
      "ccsd energy:  -2.2144093895871735\n",
      "ccsd energy with t1 t2:  -2.213615759902119\n",
      "ccsd energy with t1 0*t2:  -2.1454872423581426\n",
      "ccsd energy with 0*t1 t2:  -2.2144424560369242\n"
     ]
    }
   ],
   "source": [
    "from ad_afqmc.cisd_perturb import ccsd_pt2\n",
    "\n",
    "config.setup_jax()\n",
    "MPI = config.setup_comm()\n",
    "init = time.time()\n",
    "comm = MPI.COMM_WORLD\n",
    "size = comm.Get_size()\n",
    "rank = comm.Get_rank()\n",
    "seed = options[\"seed\"]\n",
    "neql = options[\"n_eql\"]\n",
    "\n",
    "trial_rdm1 = trial.get_rdm1(wave_data)\n",
    "if \"rdm1\" not in wave_data:\n",
    "    wave_data[\"rdm1\"] = trial_rdm1\n",
    "\n",
    "ham_data = ham.build_measurement_intermediates(ham_data, trial, wave_data)\n",
    "ham_data = ham.build_propagation_intermediates(\n",
    "    ham_data, prop, trial, wave_data\n",
    ")\n",
    "prop_data = prop.init_prop_data(trial, wave_data, ham_data, None)\n",
    "\n",
    "h0 = ham_data['h0']\n",
    "t, e0, e1 = ccsd_pt2._ccsd_walker_energy_pt2(\n",
    "    prop_data['walkers'][0],ham_data,wave_data,trial)\n",
    "init_ept = e0 + e1 - t*(e0-h0)\n",
    "\n",
    "prop_data[\"key\"] = random.PRNGKey(seed + rank)\n",
    "print('init rhf walker energy: ', prop_data['e_estimate'])\n",
    "print('mf enegry: ', mf.e_tot)\n",
    "print('init ccsd_pt_walker energy: ', init_ept)\n",
    "print('ccsd energy: ', mycc.e_tot)\n",
    "eris = mycc.ao2mo(mycc.mo_coeff)\n",
    "eccsd = mycc.energy(mycc.t1, mycc.t2, eris)\n",
    "print('ccsd energy with t1 t2: ', mf.e_tot+eccsd)\n",
    "eccsd = mycc.energy(mycc.t1, 0*mycc.t2, eris)\n",
    "print('ccsd energy with t1 0*t2: ', mf.e_tot+eccsd)\n",
    "eccsd = mycc.energy(mycc.t1*0, mycc.t2, eris)\n",
    "print('ccsd energy with 0*t1 t2: ', mf.e_tot+eccsd)"
   ]
  },
  {
   "cell_type": "code",
   "execution_count": 18,
   "id": "c85e567f",
   "metadata": {},
   "outputs": [
    {
     "name": "stdout",
     "output_type": "stream",
     "text": [
      "-2.2136157591670838\n"
     ]
    }
   ],
   "source": [
    "t, e0, e1 = _calc_energy_pt2(\n",
    "    prop_data['walkers'][0],ham_data,wave_data,trial)\n",
    "print(e0 + e1 - t*(e0-h0))"
   ]
  },
  {
   "cell_type": "code",
   "execution_count": 18,
   "id": "59af1c12",
   "metadata": {},
   "outputs": [
    {
     "name": "stdout",
     "output_type": "stream",
     "text": [
      "-2.1652917893645203\n"
     ]
    }
   ],
   "source": [
    "trial2 = wavefunctions.ccsd_pt2_ad(trial.norb, trial.nelec, n_batch=trial.n_batch)\n",
    "mo_t = trial2.thouless_trans(wave_data['t1'])\n",
    "wave_data['mo_coeff'] = mo_t\n",
    "t, e0, e1 = trial2._calc_energy_pt_restricted(\n",
    "    prop_data['walkers'][0],ham_data,wave_data)\n",
    "init_ept = e0 + e1 - t*(e0-h0)\n",
    "print(init_ept)"
   ]
  },
  {
   "cell_type": "code",
   "execution_count": 24,
   "id": "fe4ca319",
   "metadata": {},
   "outputs": [
    {
     "name": "stdout",
     "output_type": "stream",
     "text": [
      "1.9983712866932402 0.02324355211854993 -2.17346123974168 -0.1468656262740246\n",
      "-2.2194468768219293\n"
     ]
    }
   ],
   "source": [
    "from ad_afqmc.cisd_perturb import sample_ccsd_pt2\n",
    "prop_data[\"n_killed_walkers\"] = 0\n",
    "prop_data, (blk_wt, blk_t, blk_e0, blk_e1) = \\\n",
    "    sample_ccsd_pt2._block_scan(prop_data,ham_data,prop,trial,wave_data,sampler)\n",
    "print(blk_wt, blk_t, blk_e0, blk_e1)\n",
    "print(blk_e0+blk_e1-blk_t*(blk_e0-h0))"
   ]
  },
  {
   "cell_type": "code",
   "execution_count": 25,
   "id": "b5fff0c5",
   "metadata": {},
   "outputs": [
    {
     "name": "stdout",
     "output_type": "stream",
     "text": [
      "-2.2034847267664386\n",
      "-2.2034847360714407\n"
     ]
    }
   ],
   "source": [
    "t, e0, e1 = ccsd_pt2._ccsd_walker_energy_pt2(\n",
    "    prop_data['walkers'][0],ham_data,wave_data,trial)\n",
    "print(e0 + e1 - t*(e0-h0))\n",
    "t, e0, e1 = _calc_energy_pt2(\n",
    "    prop_data['walkers'][0],ham_data,wave_data,trial)\n",
    "print(e0 + e1 - t*(e0-h0))"
   ]
  },
  {
   "cell_type": "code",
   "execution_count": null,
   "id": "26b4452b",
   "metadata": {},
   "outputs": [],
   "source": []
  }
 ],
 "metadata": {
  "kernelspec": {
   "display_name": "lno_pyscf_afqmc",
   "language": "python",
   "name": "python3"
  },
  "language_info": {
   "codemirror_mode": {
    "name": "ipython",
    "version": 3
   },
   "file_extension": ".py",
   "mimetype": "text/x-python",
   "name": "python",
   "nbconvert_exporter": "python",
   "pygments_lexer": "ipython3",
   "version": "3.10.16"
  }
 },
 "nbformat": 4,
 "nbformat_minor": 5
}
