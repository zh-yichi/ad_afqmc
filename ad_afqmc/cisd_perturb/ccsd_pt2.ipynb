{
 "cells": [
  {
   "cell_type": "code",
   "execution_count": 1,
   "id": "655561f0",
   "metadata": {},
   "outputs": [
    {
     "name": "stdout",
     "output_type": "stream",
     "text": [
      "System: uname_result(system='Linux', node='yichi-thinkpad', release='4.4.0-26100-Microsoft', version='#5074-Microsoft Fri Jan 01 08:00:00 PST 2016', machine='x86_64')  Threads 12\n",
      "Python 3.10.16 | packaged by conda-forge | (main, Dec  5 2024, 14:16:10) [GCC 13.3.0]\n",
      "numpy 1.24.3  scipy 1.14.1  h5py 3.12.1\n",
      "Date: Tue Oct 14 13:11:52 2025\n",
      "PySCF version 2.8.0\n",
      "PySCF path  /home/yichi/research/software/lno_pyscf\n",
      "GIT HEAD (branch master) ef75f4190e4de208685670651dc6c467f72b6794\n",
      "\n",
      "[ENV] PYSCF_EXT_PATH /home/yichi/research/software/pyscf\n",
      "[CONFIG] conf_file None\n",
      "[INPUT] verbose = 4\n",
      "[INPUT] num. atoms = 2\n",
      "[INPUT] num. electrons = 2\n",
      "[INPUT] charge = 0\n",
      "[INPUT] spin (= nelec alpha-beta = 2S) = 0\n",
      "[INPUT] symmetry False subgroup None\n",
      "[INPUT] Mole.unit = angstrom\n",
      "[INPUT] Symbol           X                Y                Z      unit          X                Y                Z       unit  Magmom\n",
      "[INPUT]  1 H      0.000000000000   0.000000000000   0.000000000000 AA    0.000000000000   0.000000000000   0.000000000000 Bohr   0.0\n",
      "[INPUT]  2 H      1.058350000000   0.000000000000   0.000000000000 AA    1.999991643933   0.000000000000   0.000000000000 Bohr   0.0\n",
      "\n",
      "nuclear repulsion = 0.50000208902537\n",
      "number of shells = 4\n",
      "number of NR pGTOs = 8\n",
      "number of NR cGTOs = 4\n",
      "basis = 6-31g\n",
      "ecp = {}\n",
      "CPU time:         4.95\n",
      "\n",
      "\n",
      "******** <class 'pyscf.scf.hf.RHF'> ********\n",
      "method = RHF\n",
      "initial guess = minao\n",
      "damping factor = 0\n",
      "level_shift factor = 0\n",
      "DIIS = <class 'pyscf.scf.diis.CDIIS'>\n",
      "diis_start_cycle = 1\n",
      "diis_space = 8\n",
      "diis_damp = 0\n",
      "SCF conv_tol = 1e-09\n",
      "SCF conv_tol_grad = None\n",
      "SCF max_cycles = 50\n",
      "direct_scf = True\n",
      "direct_scf_tol = 1e-13\n",
      "chkfile to save SCF result = /tmp/tmp9_a7n7hi\n",
      "max_memory 4000 MB (current use 163 MB)\n",
      "Set gradient conv threshold to 3.16228e-05\n",
      "Initial guess from minao.\n",
      "init E= -0.739896001014876\n",
      "  HOMO = -0.422443556387729  LUMO = 0.0960294981742134\n",
      "cycle= 1 E= -1.0836168929357  delta_E= -0.344  |g|= 0.0218  |ddm|= 0.616\n",
      "  HOMO = -0.51693378635179  LUMO = 0.150028733564678\n",
      "cycle= 2 E= -1.08380687994166  delta_E= -0.00019  |g|= 0.00339  |ddm|= 0.0213\n",
      "  HOMO = -0.514669164869068  LUMO = 0.152270752656986\n",
      "cycle= 3 E= -1.0838115762963  delta_E= -4.7e-06  |g|= 3.28e-07  |ddm|= 0.00392\n",
      "  HOMO = -0.514666556071386  LUMO = 0.15227082137825\n",
      "cycle= 4 E= -1.08381157629633  delta_E= -3.69e-14  |g|= 1.35e-07  |ddm|= 2.23e-07\n",
      "  HOMO = -0.514664752181054  LUMO = 0.152270855442795\n",
      "Extra cycle  E= -1.08381157629634  delta_E= -6.66e-15  |g|= 2.09e-08  |ddm|= 1.31e-07\n",
      "converged SCF energy = -1.08381157629634\n",
      "\n",
      "******** <class 'pyscf.cc.ccsd.CCSD'> ********\n",
      "CC2 = 0\n",
      "CCSD nocc = 1, nmo = 4\n",
      "max_cycle = 50\n",
      "direct = 0\n",
      "conv_tol = 1e-07\n",
      "conv_tol_normt = 1e-05\n",
      "diis_space = 6\n",
      "diis_start_cycle = 0\n",
      "diis_start_energy_diff = 1e+09\n",
      "max_memory 4000 MB (current use 168 MB)\n",
      "Init t2, MP2 energy = -1.10501033472918  E_corr(MP2) -0.0211987584328431\n",
      "Init E_corr(CCSD) = -0.0211987584328433\n",
      "cycle = 1  E_corr(CCSD) = -0.0285641379024942  dE = -0.00736537947  norm(t1,t2) = 0.0417726\n",
      "cycle = 2  E_corr(CCSD) = -0.0315758277702762  dE = -0.00301168987  norm(t1,t2) = 0.0189957\n",
      "cycle = 3  E_corr(CCSD) = -0.0340239211251192  dE = -0.00244809335  norm(t1,t2) = 0.00875417\n",
      "cycle = 4  E_corr(CCSD) = -0.0340021275753438  dE = 2.17935498e-05  norm(t1,t2) = 0.000203085\n",
      "cycle = 5  E_corr(CCSD) = -0.0340064139503878  dE = -4.28637504e-06  norm(t1,t2) = 1.91458e-05\n",
      "cycle = 6  E_corr(CCSD) = -0.0340053312830664  dE = 1.08266732e-06  norm(t1,t2) = 3.51199e-06\n",
      "cycle = 7  E_corr(CCSD) = -0.0340054353145573  dE = -1.04031491e-07  norm(t1,t2) = 3.02918e-07\n",
      "cycle = 8  E_corr(CCSD) = -0.0340054116855387  dE = 2.36290186e-08  norm(t1,t2) = 9.03578e-08\n",
      "CCSD converged\n",
      "E(CCSD) = -1.11781698798188  E_corr = -0.03400541168553873\n"
     ]
    }
   ],
   "source": [
    "from pyscf import gto, scf, cc\n",
    "import numpy as np\n",
    "from jax import numpy as jnp\n",
    "from jax import vmap, jvp, jit\n",
    "import jax\n",
    "from functools import partial\n",
    "\n",
    "a = 1.05835 # 2aB\n",
    "nH = 2\n",
    "atoms = \"\"\n",
    "for i in range(nH):\n",
    "    atoms += f\"H {i*a:.5f} 0.00000 0.00000 \\n\"\n",
    "\n",
    "mol = gto.M(atom=atoms, basis=\"6-31g\", verbose=4)\n",
    "mol.build()\n",
    "\n",
    "mf = scf.RHF(mol)#.density_fit()\n",
    "e = mf.kernel()\n",
    "\n",
    "mycc = cc.CCSD(mf)\n",
    "e = mycc.kernel()"
   ]
  },
  {
   "cell_type": "code",
   "execution_count": null,
   "id": "27a3c182",
   "metadata": {},
   "outputs": [
    {
     "name": "stdout",
     "output_type": "stream",
     "text": [
      "number of H2 monomers:             [ 1  2  4  8 16 25]\n",
      "AFQMC/CCSD_PT energy per monomer:  [-1.09617 -1.09611 -1.09614 -1.09617 -1.09615 -1.09621]\n"
     ]
    }
   ],
   "source": [
    "import numpy as np\n",
    "np.set_printoptions(5)\n",
    "# AFQMC/CCSD_PT energy: -1.096171 +/- 0.000554\n",
    "# AFQMC/CCSD_PT energy: -2.192221 +/- 0.001636\n",
    "# AFQMC/CCSD_PT energy: -4.384578 +/- 0.006862\n",
    "# AFQMC/CCSD_PT energy: -8.769366 +/- 0.019849\n",
    "# AFQMC/CCSD_PT energy: -17.538377 +/- 0.091299\n",
    "# AFQMC/CCSD_PT energy: -27.405295 +/- 0.246627\n",
    "nm = np.array([1,2,4,8,16,25])\n",
    "ept = np.array([-1.096171,-2.192221,-4.384578,-8.769366,-17.538377,-27.405295])\n",
    "ept_perm = ept/nm\n",
    "print('number of H2 monomers:            ', nm)\n",
    "print('AFQMC/CCSD_PT energy per monomer: ', ept_perm)"
   ]
  },
  {
   "cell_type": "code",
   "execution_count": 2,
   "id": "15bc70bd",
   "metadata": {},
   "outputs": [
    {
     "name": "stdout",
     "output_type": "stream",
     "text": [
      "#\n",
      "# Preparing AFQMC calculation\n",
      "# If you import pyscf cc modules and use MPI for AFQMC in the same script, finalize MPI before calling the AFQMC driver.\n",
      "# Calculating Cholesky integrals\n",
      "# Finished calculating Cholesky integrals\n",
      "#\n",
      "# Size of the correlation space:\n",
      "# Number of electrons: (1, 1)\n",
      "# Number of basis functions: 4\n",
      "# Number of Cholesky vectors: 10\n",
      "#\n"
     ]
    }
   ],
   "source": [
    "from ad_afqmc.cisd_perturb import ccsd_pt\n",
    "options = {'n_eql': 4,\n",
    "           'n_prop_steps': 50,\n",
    "            'n_ene_blocks': 20,\n",
    "            'n_sr_blocks': 10,\n",
    "            'n_blocks': 10,\n",
    "            'n_walkers': 40,\n",
    "            'seed': 2,\n",
    "            'walker_type': 'rhf',\n",
    "            'trial': 'cisd',\n",
    "            'dt':0.005,\n",
    "            'free_projection':False,\n",
    "            'ad_mode':None,\n",
    "            'use_gpu': False,\n",
    "            }\n",
    "\n",
    "from ad_afqmc import pyscf_interface\n",
    "from ad_afqmc.cisd_perturb import ccsd_pt, sample_ccsd_pt\n",
    "t1 = 5 * mycc.t1\n",
    "mycc.t1 = t1\n",
    "t2_0 = mycc.t2\n",
    "mycc.t2 = t2_0\n",
    "ccsd_pt.prep_afqmc(mycc,chol_cut=1e-7)\n",
    "# pyscf_interface.prep_afqmc(mycc,chol_cut=1e-7)"
   ]
  },
  {
   "cell_type": "code",
   "execution_count": 3,
   "id": "06f72706",
   "metadata": {},
   "outputs": [
    {
     "name": "stdout",
     "output_type": "stream",
     "text": [
      "# Hostname: yichi-thinkpad\n",
      "# System Type: Linux\n",
      "# Machine Type: x86_64\n",
      "# Processor: x86_64\n",
      "# Number of MPI ranks: 1\n",
      "#\n",
      "# norb: 4\n",
      "# nelec: (1, 1)\n",
      "#\n",
      "# n_eql: 4\n",
      "# n_prop_steps: 50\n",
      "# n_ene_blocks: 20\n",
      "# n_sr_blocks: 10\n",
      "# n_blocks: 10\n",
      "# n_walkers: 40\n",
      "# seed: 2\n",
      "# walker_type: rhf\n",
      "# trial: cisd\n",
      "# dt: 0.005\n",
      "# free_projection: False\n",
      "# use_gpu: False\n",
      "# n_exp_terms: 6\n",
      "# orbital_rotation: True\n",
      "# do_sr: True\n",
      "# symmetry: False\n",
      "# save_walkers: False\n",
      "# ene0: 0.0\n",
      "# n_batch: 1\n",
      "# LNO: False\n",
      "# orbE: 0\n",
      "# maxError: 0.001\n",
      "#\n"
     ]
    }
   ],
   "source": [
    "from ad_afqmc import config, mpi_jax, wavefunctions\n",
    "import time\n",
    "from jax import random\n",
    "ham_data, ham, prop, trial, wave_data, sampler, observable, options, _ \\\n",
    "    = (mpi_jax._prep_afqmc(options))"
   ]
  },
  {
   "cell_type": "code",
   "execution_count": 22,
   "id": "09f96c7b",
   "metadata": {},
   "outputs": [],
   "source": [
    "amp_file = 'amplitudes.npz'\n",
    "amplitudes = np.load(amp_file)"
   ]
  },
  {
   "cell_type": "code",
   "execution_count": 26,
   "id": "1e750d08",
   "metadata": {},
   "outputs": [
    {
     "ename": "KeyError",
     "evalue": "'ci2 is not a file in the archive'",
     "output_type": "error",
     "traceback": [
      "\u001b[0;31m---------------------------------------------------------------------------\u001b[0m",
      "\u001b[0;31mKeyError\u001b[0m                                  Traceback (most recent call last)",
      "Cell \u001b[0;32mIn[26], line 1\u001b[0m\n\u001b[0;32m----> 1\u001b[0m \u001b[43mamplitudes\u001b[49m\u001b[43m[\u001b[49m\u001b[38;5;124;43m\"\u001b[39;49m\u001b[38;5;124;43mci2\u001b[39;49m\u001b[38;5;124;43m\"\u001b[39;49m\u001b[43m]\u001b[49m\n",
      "File \u001b[0;32m~/research/software/miniconda3/envs/lno_pyscf_afqmc/lib/python3.10/site-packages/numpy/lib/npyio.py:260\u001b[0m, in \u001b[0;36mNpzFile.__getitem__\u001b[0;34m(self, key)\u001b[0m\n\u001b[1;32m    258\u001b[0m         \u001b[38;5;28;01mreturn\u001b[39;00m \u001b[38;5;28mself\u001b[39m\u001b[38;5;241m.\u001b[39mzip\u001b[38;5;241m.\u001b[39mread(key)\n\u001b[1;32m    259\u001b[0m \u001b[38;5;28;01melse\u001b[39;00m:\n\u001b[0;32m--> 260\u001b[0m     \u001b[38;5;28;01mraise\u001b[39;00m \u001b[38;5;167;01mKeyError\u001b[39;00m(\u001b[38;5;124m\"\u001b[39m\u001b[38;5;132;01m%s\u001b[39;00m\u001b[38;5;124m is not a file in the archive\u001b[39m\u001b[38;5;124m\"\u001b[39m \u001b[38;5;241m%\u001b[39m key)\n",
      "\u001b[0;31mKeyError\u001b[0m: 'ci2 is not a file in the archive'"
     ]
    }
   ],
   "source": [
    "amplitudes[\"ci2\"]"
   ]
  },
  {
   "cell_type": "code",
   "execution_count": 7,
   "id": "87e9b2f9",
   "metadata": {},
   "outputs": [],
   "source": [
    "def thouless_trans(t1):\n",
    "    q, r = np.linalg.qr(t1)\n",
    "    u_ai = r.T\n",
    "    u_ji = q\n",
    "    u_occ = np.vstack((u_ji,u_ai))\n",
    "    u, _, _ = np.linalg.svd(u_occ)\n",
    "    return u"
   ]
  },
  {
   "cell_type": "code",
   "execution_count": null,
   "id": "f1f972fe",
   "metadata": {},
   "outputs": [
    {
     "name": "stdout",
     "output_type": "stream",
     "text": [
      "(1, 3) (1, 3, 1, 3) (4, 1)\n"
     ]
    }
   ],
   "source": [
    "t1, t2 = wave_data['ci1'], wave_data['ci2']\n",
    "u = thouless_trans(t1)\n",
    "nocc = wave_data['ci1'].shape[0]\n",
    "norb = trial.norb\n",
    "trial_mo = u @ np.eye(norb)[:,:nocc]\n",
    "wave_data['mo_coeff'] = trial_mo\n",
    "# print(t1.shape,t2.shape,trial_mo.shape)\n",
    "rot_t1 = trial_mo.T.conjugate()[:,:nocc] @ t1\n",
    "rot_t2 = np.einsum('ij,jk,lakb->iajb',trial_mo.T.conjugate()[:,:nocc],\n",
    "                   trial_mo.T.conjugate()[:,:nocc],t2)\n",
    "wave_data['rot_t1'] = rot_t1\n",
    "wave_data['rot_t2'] = rot_t2\n"
   ]
  },
  {
   "cell_type": "code",
   "execution_count": 21,
   "id": "dd3d57ba",
   "metadata": {},
   "outputs": [],
   "source": [
    "import h5py\n",
    "chol_file='FCIDUMP_chol'\n",
    "with h5py.File(chol_file, \"r\") as fh5:\n",
    "    [nelec, nmo, ms, nchol] = fh5[\"header\"]\n",
    "    h0 = jnp.array(fh5.get(\"energy_core\"))\n",
    "    h1 = jnp.array(fh5.get(\"hcore\")).reshape(nmo, nmo)\n",
    "    h1_mod = jnp.array(fh5.get(\"hcore_mod\")).reshape(nmo, nmo)\n",
    "    chol = jnp.array(fh5.get(\"chol\")).reshape(-1, nmo, nmo)\n",
    "\n",
    "ham_data['h1_mod'] = h1_mod"
   ]
  },
  {
   "cell_type": "code",
   "execution_count": null,
   "id": "305d0117",
   "metadata": {},
   "outputs": [
    {
     "name": "stdout",
     "output_type": "stream",
     "text": [
      "# Hostname: yichi-thinkpad\n",
      "# System Type: Linux\n",
      "# Machine Type: x86_64\n",
      "# Processor: x86_64\n",
      "init ccsd_walker energy:  -1.0838115841377447\n",
      "init ccsd_pt_walker energy:  -1.083811578599721\n",
      "ccsd energy:  -1.1178169879811906\n",
      "ccsd energy with t1*5 t2*0:  -1.0452823748261777\n"
     ]
    }
   ],
   "source": [
    "config.setup_jax()\n",
    "MPI = config.setup_comm()\n",
    "init = time.time()\n",
    "comm = MPI.COMM_WORLD\n",
    "size = comm.Get_size()\n",
    "rank = comm.Get_rank()\n",
    "seed = options[\"seed\"]\n",
    "neql = options[\"n_eql\"]\n",
    "\n",
    "trial_rdm1 = trial.get_rdm1(wave_data)\n",
    "if \"rdm1\" not in wave_data:\n",
    "    wave_data[\"rdm1\"] = trial_rdm1\n",
    "ham_data = wavefunctions.rhf(\n",
    "    trial.norb, trial.nelec,n_batch=trial.n_batch\n",
    "    )._build_measurement_intermediates(ham_data, wave_data)\n",
    "ham_data = ham.build_measurement_intermediates(ham_data, trial, wave_data)\n",
    "ham_data = ham.build_propagation_intermediates(\n",
    "    ham_data, prop, trial, wave_data\n",
    ")\n",
    "prop_data = prop.init_prop_data(trial, wave_data, ham_data, None)\n",
    "\n",
    "e0, e1, t = ccsd_pt._ccsd_walker_energy_pt(\n",
    "    prop_data['walkers'][0],ham_data,wave_data,trial)\n",
    "init_ept = ham_data['h0'] + e0 + e1 - t*e0\n",
    "\n",
    "prop_data[\"key\"] = random.PRNGKey(seed + rank)\n",
    "print('init ccsd_walker energy: ', prop_data['e_estimate'])\n",
    "print('init ccsd_pt_walker energy: ', init_ept)\n",
    "print('ccsd energy: ', mycc.e_tot)\n",
    "eris = mycc.ao2mo(mycc.mo_coeff)\n",
    "eccsd = mycc.energy(ci1, ci2, eris)\n",
    "print('ccsd energy with t1*5 t2*0: ', mf.e_tot+eccsd)"
   ]
  },
  {
   "cell_type": "code",
   "execution_count": 20,
   "id": "73bd4137",
   "metadata": {},
   "outputs": [
    {
     "name": "stdout",
     "output_type": "stream",
     "text": [
      "ccsd energy with t1*5 t2*0:  -1.070968514367222\n",
      "ccsd energy with t1*5 t2*0:  -1.070968514367222\n"
     ]
    }
   ],
   "source": [
    "eris = mycc.ao2mo(mycc.mo_coeff)\n",
    "eccsd = mycc.energy(ci1, ci2.transpose(0,2,1,3), eris)\n",
    "print('ccsd energy with t1*5 t2*0: ', mf.e_tot+eccsd)\n",
    "eris = mycc.ao2mo(mycc.mo_coeff)\n",
    "eccsd = mycc.energy(t1, t2_0, eris)\n",
    "print('ccsd energy with t1*5 t2*0: ', mf.e_tot+eccsd)"
   ]
  },
  {
   "cell_type": "code",
   "execution_count": 24,
   "id": "c95db3ae",
   "metadata": {},
   "outputs": [
    {
     "data": {
      "text/plain": [
       "Array(-1.07096851+0.j, dtype=complex128)"
      ]
     },
     "execution_count": 24,
     "metadata": {},
     "output_type": "execute_result"
    }
   ],
   "source": [
    "guide = wavefunctions.rhf(\n",
    "    trial.norb, trial.nelec,n_batch=trial.n_batch\n",
    "    )\n",
    "guide._calc_energy_restricted(prop_data['walkers'][0],ham_data,wave_data)"
   ]
  },
  {
   "cell_type": "code",
   "execution_count": 29,
   "id": "c190ebb7",
   "metadata": {},
   "outputs": [
    {
     "name": "stdout",
     "output_type": "stream",
     "text": [
      "(1, 4)\n"
     ]
    }
   ],
   "source": [
    "gf = guide._calc_green(prop_data['walkers'][0],wave_data)\n",
    "print(gf.shape)"
   ]
  },
  {
   "cell_type": "code",
   "execution_count": null,
   "id": "01042ffe",
   "metadata": {},
   "outputs": [],
   "source": [
    "def _calc_overlap_restricted(self, walker: jax.Array, wave_data: dict) -> complex:\n",
    "    nocc, ci1, ci2 = walker.shape[1], wave_data[\"ci1\"], wave_data[\"ci2\"]\n",
    "    trial_wave = wave_data['mo_coeff']\n",
    "    gf = (walker @ jnp.linalg.inv(trial_wave.T.conj() @ walker) @ trial_wave.T.conj()).T\n",
    "    o0 = jnp.linalg.det(walker[: walker.shape[1], :]) ** 2\n",
    "    o1 = jnp.einsum(\"ia,ia\", ci1, GF[:, nocc:])\n",
    "    o2 = 2 * jnp.einsum(\n",
    "        \"iajb, ia, jb\", ci2, GF[:, nocc:], GF[:, nocc:]\n",
    "    ) - jnp.einsum(\"iajb, ib, ja\", ci2, GF[:, nocc:], GF[:, nocc:])\n",
    "    return (1.0 + 2 * o1 + o2) * o0"
   ]
  },
  {
   "cell_type": "code",
   "execution_count": 109,
   "id": "f5b42cf2",
   "metadata": {},
   "outputs": [],
   "source": [
    "from jax import lax\n",
    "@jax.jit\n",
    "def _hf_walker_olp(walker,wave_data):\n",
    "    o0 = jnp.linalg.det(wave_data[\"mo_coeff\"].T.conj() @ walker) ** 2\n",
    "    return o0\n",
    "\n",
    "@jax.jit\n",
    "def _hf_olp_exp1(x: float,\n",
    "                 h1_mod: jax.Array,\n",
    "                 walker: jax.Array,\n",
    "                 wave_data: dict) -> complex:\n",
    "    '''\n",
    "    <psi_0|exp(x*h1_mod)|walker>\n",
    "    '''\n",
    "    t = x * h1_mod\n",
    "    walker_1x = walker + t.dot(walker)\n",
    "    # olp = trial._calc_overlap_restricted(walker_1x, wave_data)\n",
    "    olp = _hf_walker_olp(walker_1x,wave_data)\n",
    "    return olp\n",
    "\n",
    "@jax.jit\n",
    "def _hf_olp_exp2(x: float,\n",
    "                 chol_i: jax.Array, \n",
    "                 walker: jax.Array,\n",
    "                 wave_data: dict) -> complex:\n",
    "    '''\n",
    "    <psi_0|exp(x*h2_mod)|walker>\n",
    "    '''\n",
    "    walker_2x = (\n",
    "            walker\n",
    "            + x * chol_i.dot(walker)\n",
    "            + x**2 / 2.0 * chol_i.dot(chol_i.dot(walker))\n",
    "        )\n",
    "    olp = _hf_walker_olp(walker_2x, wave_data)\n",
    "    # olp = trial._calc_overlap_restricted(walker_2x, wave_data)\n",
    "    return olp\n",
    "\n",
    "@partial(jit, static_argnums=3)\n",
    "def _e0_new(walker, wave_data, ham_data, trial, eps=3e-4):\n",
    "    '''<psi_0|h1+h2|phi>/<psi_0|phi>'''\n",
    "    norb = trial.norb\n",
    "    # h0 = ham_data['h0']\n",
    "    h1_mod = ham_data['h1_mod']\n",
    "    chol = ham_data[\"chol\"].reshape(-1, norb, norb)\n",
    "\n",
    "    # one body\n",
    "    x = 0.0\n",
    "    f1 = lambda a: _hf_olp_exp1(a,h1_mod,walker,wave_data)\n",
    "    olp, d_olp = jvp(f1, [x], [1.0])\n",
    "\n",
    "    # two body\n",
    "    def scanned_fun(carry, c):\n",
    "        eps, walker, wave_data = carry\n",
    "        return carry, _hf_olp_exp2(eps,c,walker,wave_data)\n",
    "\n",
    "    _, olp_p = lax.scan(scanned_fun, (eps, walker,wave_data), chol)\n",
    "    _, olp_0 = lax.scan(scanned_fun, (0.0, walker,wave_data), chol)\n",
    "    _, olp_m = lax.scan(scanned_fun, (-1.0 * eps, walker,wave_data), chol)\n",
    "    d_2_olp = (olp_p - 2.0 * olp_0 + olp_m) / eps / eps\n",
    "\n",
    "    # e_0= h0 + (d_olp + jnp.sum(d_2_olp) / 2.0 )/ olp\n",
    "    e_0= (d_olp + jnp.sum(d_2_olp) / 2.0 )/ olp\n",
    "\n",
    "    return e_0"
   ]
  },
  {
   "cell_type": "code",
   "execution_count": null,
   "id": "b9fe88e0",
   "metadata": {},
   "outputs": [],
   "source": [
    "@jax.jit\n",
    "def _t2_walker_olp(walker,wave_data):\n",
    "    ''' t2_ij^ab <psi|t2_ij^ab|phi> '''\n",
    "    t2 = wave_data['t2']\n",
    "    nocc = walker.shape[1]\n",
    "    GF = (walker.dot(jnp.linalg.inv(walker[: nocc, :]))).T\n",
    "    o0 = _hf_walker_olp(walker,wave_data)\n",
    "    o2 = 2 * jnp.einsum(\n",
    "        \"iajb, ia, jb\", t2, GF[:, nocc:], GF[:, nocc:]\n",
    "    ) - jnp.einsum(\"iajb, ib, ja\", t2, GF[:, nocc:], GF[:, nocc:])\n",
    "    return o2 * o0\n",
    "\n",
    "@jax.jit\n",
    "def _t2_olp_exp1(x: float, h1_mod: jax.Array, walker: jax.Array,\n",
    "                  wave_data: dict) -> complex:\n",
    "    '''\n",
    "    c_ia <psi_i^a|exp(x*h1_mod)|walker>\n",
    "    '''\n",
    "    t = x * h1_mod\n",
    "    walker_1x = walker + t.dot(walker)\n",
    "    olp = _t2_walker_olp(walker_1x,wave_data)\n",
    "    return olp\n",
    "\n",
    "@jax.jit\n",
    "def _t2_olp_exp2(x: float, chol_i: jax.Array, walker: jax.Array,\n",
    "                  wave_data: dict) -> complex:\n",
    "    '''\n",
    "    c_ia <psi_i^a|exp(x*h2_mod)|walker>\n",
    "    '''\n",
    "    walker_2x = (\n",
    "            walker\n",
    "            + x * chol_i.dot(walker)\n",
    "            + x**2 / 2.0 * chol_i.dot(chol_i.dot(walker))\n",
    "        )\n",
    "    olp = _t2_walker_olp(walker_2x,wave_data)\n",
    "    return olp\n",
    "\n",
    "@partial(jit, static_argnums=3)\n",
    "def _e2(walker, ham_data, wave_data, trial, eps=3e-4):\n",
    "    norb = trial.norb\n",
    "    h0 = ham_data['h0']\n",
    "    h1_mod = ham_data['h1_mod']\n",
    "    chol = ham_data[\"chol\"].reshape(-1, norb, norb)\n",
    "\n",
    "   \n",
    "    # zero body\n",
    "    # c_ij^ab <psi_ij^ab|phi>/<psi_0|phi> * h0\n",
    "    hf_olp = _hf_walker_olp(walker)\n",
    "    t2_olp = _t2_walker_olp(walker,wave_data)\n",
    "\n",
    "    # one body\n",
    "    # c_ij^ab <psi_ij^ab|phi_1x>/<psi_0|phi>\n",
    "    x = 0.0\n",
    "    f1 = lambda a: _t2_olp_exp1(a,h1_mod,walker,wave_data)\n",
    "    _, d_olp = jvp(f1, [x], [1.0])\n",
    "\n",
    "    # two body\n",
    "    # c_ij^ab <psi_ij^ab|phi_2x>/<psi_0|phi>\n",
    "    def scanned_fun(carry, c):\n",
    "        eps, walker, wave_data = carry\n",
    "        return carry, _t2_olp_exp2(eps,c,walker,wave_data)\n",
    "\n",
    "    _, olp_p = lax.scan(scanned_fun, (eps, walker, wave_data), chol)\n",
    "    _, olp_0 = lax.scan(scanned_fun, (0.0, walker, wave_data), chol)\n",
    "    _, olp_m = lax.scan(scanned_fun, (-1.0 * eps, walker, wave_data), chol)\n",
    "    d_2_olp = (olp_p - 2.0 * olp_0 + olp_m) / eps / eps\n",
    "    \n",
    "   \n",
    "    e_2 = (h0 * t2_olp + d_olp + jnp.sum(d_2_olp) / 2.0 ) / hf_olp\n",
    "\n",
    "    return e_2"
   ]
  },
  {
   "cell_type": "code",
   "execution_count": 110,
   "id": "80f6afa6",
   "metadata": {},
   "outputs": [],
   "source": [
    "wave_data[\"mo_coeff\"] = np.eye(norb)[:,:nocc]"
   ]
  },
  {
   "cell_type": "code",
   "execution_count": 123,
   "id": "fe4ca319",
   "metadata": {},
   "outputs": [],
   "source": [
    "from ad_afqmc.cisd_perturb import sample_pt2\n",
    "prop_data[\"n_killed_walkers\"] = 0\n",
    "prop_data, (blk_wt, blk_t, blk_e0, blk_e1) = \\\n",
    "    sample_pt2._block_scan(prop_data,ham_data,prop,trial,wave_data,sampler)"
   ]
  },
  {
   "cell_type": "code",
   "execution_count": 124,
   "id": "2c1d8ef0",
   "metadata": {},
   "outputs": [
    {
     "data": {
      "text/plain": [
       "Array(-1.10200328+0.0001069j, dtype=complex128)"
      ]
     },
     "execution_count": 124,
     "metadata": {},
     "output_type": "execute_result"
    }
   ],
   "source": [
    "_e0_new(prop_data['walkers'][0], wave_data, ham_data, trial)+h0"
   ]
  },
  {
   "cell_type": "code",
   "execution_count": 125,
   "id": "a552ea5a",
   "metadata": {},
   "outputs": [
    {
     "data": {
      "text/plain": [
       "Array(-1.10200328+0.0001069j, dtype=complex128)"
      ]
     },
     "execution_count": 125,
     "metadata": {},
     "output_type": "execute_result"
    }
   ],
   "source": [
    "guide._calc_energy_restricted(prop_data['walkers'][0], ham_data, wave_data)"
   ]
  },
  {
   "cell_type": "code",
   "execution_count": 115,
   "id": "953495fb",
   "metadata": {},
   "outputs": [
    {
     "data": {
      "text/plain": [
       "Array(-1.10508331+0.00444493j, dtype=complex128)"
      ]
     },
     "execution_count": 115,
     "metadata": {},
     "output_type": "execute_result"
    }
   ],
   "source": [
    "_e0_new(prop_data['walkers'][0], wave_data, ham_data, trial)+h0"
   ]
  },
  {
   "cell_type": "code",
   "execution_count": 113,
   "id": "0edaf834",
   "metadata": {},
   "outputs": [
    {
     "name": "stdout",
     "output_type": "stream",
     "text": [
      "40.18962070410524\n",
      "-0.001987533120296385 -1.5928842369972318 -0.0030159243145234703\n"
     ]
    }
   ],
   "source": [
    "print(blk_wt)\n",
    "print(blk_t, blk_e0, blk_e1)"
   ]
  },
  {
   "cell_type": "code",
   "execution_count": null,
   "id": "d7479208",
   "metadata": {},
   "outputs": [],
   "source": []
  }
 ],
 "metadata": {
  "kernelspec": {
   "display_name": "lno_pyscf_afqmc",
   "language": "python",
   "name": "python3"
  },
  "language_info": {
   "codemirror_mode": {
    "name": "ipython",
    "version": 3
   },
   "file_extension": ".py",
   "mimetype": "text/x-python",
   "name": "python",
   "nbconvert_exporter": "python",
   "pygments_lexer": "ipython3",
   "version": "3.10.16"
  }
 },
 "nbformat": 4,
 "nbformat_minor": 5
}
