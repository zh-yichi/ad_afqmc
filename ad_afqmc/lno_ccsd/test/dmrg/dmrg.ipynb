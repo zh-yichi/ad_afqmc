{
 "cells": [
  {
   "cell_type": "code",
   "execution_count": 5,
   "id": "0b7c7578",
   "metadata": {},
   "outputs": [],
   "source": [
    "import numpy as np\n",
    "from pyblock2._pyscf.ao2mo import integrals as itg\n",
    "from pyblock2.driver.core import DMRGDriver, SymmetryTypes"
   ]
  },
  {
   "cell_type": "code",
   "execution_count": 29,
   "id": "d0947fa6",
   "metadata": {},
   "outputs": [
    {
     "name": "stdout",
     "output_type": "stream",
     "text": [
      "converged SCF energy = -2.15321137072455\n"
     ]
    },
    {
     "data": {
      "text/plain": [
       "-2.153211370724548"
      ]
     },
     "execution_count": 29,
     "metadata": {},
     "output_type": "execute_result"
    }
   ],
   "source": [
    "from pyscf import gto, scf, fci, cc\n",
    "\n",
    "a = 2 #0.96892 # 1.831aB\n",
    "nH = 4\n",
    "atoms = \"\"\n",
    "for n in range(nH):\n",
    "    atoms += f\"H {n*a:.5f} 0.00000 0.00000 \\n\"\n",
    "\n",
    "mol = gto.M(atom=atoms, basis=\"ccpvdz\", symmetry=\"c1\", unit=\"bohr\")\n",
    "mf = scf.RHF(mol).density_fit()\n",
    "mf.kernel()\n",
    "\n",
    "## non-df e_fci = -5.42273347731\n",
    "## df e_fci = -5.4276602955\n",
    "\n",
    "# mycc = cc.CCSD(mf)\n",
    "# mycc.kernel()\n",
    "# e_pt = mycc.ccsd_t()\n",
    "# print(mycc.e_tot+e_pt)"
   ]
  },
  {
   "cell_type": "code",
   "execution_count": 30,
   "id": "b6c4dbcc",
   "metadata": {},
   "outputs": [],
   "source": [
    "# print(mf._eri)\n",
    "from pyscf import df, lib\n",
    "chol_df = df.incore.cholesky_eri(mol, mf.with_df.auxmol.basis)\n",
    "chol_df = lib.unpack_tril(chol_df).reshape(chol_df.shape[0], -1)\n",
    "chol_df = chol_df.reshape((-1, mol.nao, mol.nao))\n",
    "eri_ao_df = np.einsum('lpq,lrs->pqrs', chol_df, chol_df)\n",
    "mf._eri = eri_ao_df\n",
    "# print(mf._eri.shape)"
   ]
  },
  {
   "cell_type": "code",
   "execution_count": 31,
   "id": "b5d06d55",
   "metadata": {},
   "outputs": [],
   "source": [
    "from pyscf import lo\n",
    "mf.mo_coeff = lo.orth.lowdin(mf.mol.intor('cint1e_ovlp_sph'))\n",
    "ncas, n_elec, spin, ecore, h1e, g2e, orb_sym = itg.get_rhf_integrals(mf,\n",
    "    ncore=0, ncas=None, g2e_symm=8)"
   ]
  },
  {
   "cell_type": "code",
   "execution_count": 33,
   "id": "24b7b53a",
   "metadata": {},
   "outputs": [
    {
     "name": "stdout",
     "output_type": "stream",
     "text": [
      "\n",
      "WARN:  diis singular, eigh(h) [-6.23696897e-03 -1.35295722e-08 -4.82000726e-10  5.66777730e-12\n",
      "  3.76517895e-10  8.01845013e+02  5.46148040e+08]\n",
      "\n"
     ]
    },
    {
     "ename": "LinAlgError",
     "evalue": "Singular matrix",
     "output_type": "error",
     "traceback": [
      "\u001b[0;31m---------------------------------------------------------------------------\u001b[0m",
      "\u001b[0;31mLinAlgError\u001b[0m                               Traceback (most recent call last)",
      "Cell \u001b[0;32mIn[33], line 2\u001b[0m\n\u001b[1;32m      1\u001b[0m mycc \u001b[38;5;241m=\u001b[39m cc\u001b[38;5;241m.\u001b[39mCCSD(mf)\n\u001b[0;32m----> 2\u001b[0m \u001b[43mmycc\u001b[49m\u001b[38;5;241;43m.\u001b[39;49m\u001b[43mkernel\u001b[49m\u001b[43m(\u001b[49m\u001b[43m)\u001b[49m\n\u001b[1;32m      3\u001b[0m e_pt \u001b[38;5;241m=\u001b[39m mycc\u001b[38;5;241m.\u001b[39mccsd_t()\n\u001b[1;32m      4\u001b[0m \u001b[38;5;28mprint\u001b[39m(mycc\u001b[38;5;241m.\u001b[39me_tot\u001b[38;5;241m+\u001b[39me_pt)\n",
      "File \u001b[0;32m~/research/software/lno_pyscf/pyscf/cc/ccsd.py:1084\u001b[0m, in \u001b[0;36mCCSDBase.kernel\u001b[0;34m(self, t1, t2, eris)\u001b[0m\n\u001b[1;32m   1083\u001b[0m \u001b[38;5;28;01mdef\u001b[39;00m\u001b[38;5;250m \u001b[39m\u001b[38;5;21mkernel\u001b[39m(\u001b[38;5;28mself\u001b[39m, t1\u001b[38;5;241m=\u001b[39m\u001b[38;5;28;01mNone\u001b[39;00m, t2\u001b[38;5;241m=\u001b[39m\u001b[38;5;28;01mNone\u001b[39;00m, eris\u001b[38;5;241m=\u001b[39m\u001b[38;5;28;01mNone\u001b[39;00m):\n\u001b[0;32m-> 1084\u001b[0m     \u001b[38;5;28;01mreturn\u001b[39;00m \u001b[38;5;28;43mself\u001b[39;49m\u001b[38;5;241;43m.\u001b[39;49m\u001b[43mccsd\u001b[49m\u001b[43m(\u001b[49m\u001b[43mt1\u001b[49m\u001b[43m,\u001b[49m\u001b[43m \u001b[49m\u001b[43mt2\u001b[49m\u001b[43m,\u001b[49m\u001b[43m \u001b[49m\u001b[43meris\u001b[49m\u001b[43m)\u001b[49m\n",
      "File \u001b[0;32m~/research/software/lno_pyscf/pyscf/cc/ccsd.py:1099\u001b[0m, in \u001b[0;36mCCSDBase.ccsd\u001b[0;34m(self, t1, t2, eris)\u001b[0m\n\u001b[1;32m   1095\u001b[0m \u001b[38;5;28;01mif\u001b[39;00m eris \u001b[38;5;129;01mis\u001b[39;00m \u001b[38;5;28;01mNone\u001b[39;00m:\n\u001b[1;32m   1096\u001b[0m     eris \u001b[38;5;241m=\u001b[39m \u001b[38;5;28mself\u001b[39m\u001b[38;5;241m.\u001b[39mao2mo(\u001b[38;5;28mself\u001b[39m\u001b[38;5;241m.\u001b[39mmo_coeff)\n\u001b[1;32m   1098\u001b[0m \u001b[38;5;28mself\u001b[39m\u001b[38;5;241m.\u001b[39mconverged, \u001b[38;5;28mself\u001b[39m\u001b[38;5;241m.\u001b[39me_corr, \u001b[38;5;28mself\u001b[39m\u001b[38;5;241m.\u001b[39mt1, \u001b[38;5;28mself\u001b[39m\u001b[38;5;241m.\u001b[39mt2 \u001b[38;5;241m=\u001b[39m \\\n\u001b[0;32m-> 1099\u001b[0m         \u001b[43mkernel\u001b[49m\u001b[43m(\u001b[49m\u001b[38;5;28;43mself\u001b[39;49m\u001b[43m,\u001b[49m\u001b[43m \u001b[49m\u001b[43meris\u001b[49m\u001b[43m,\u001b[49m\u001b[43m \u001b[49m\u001b[43mt1\u001b[49m\u001b[43m,\u001b[49m\u001b[43m \u001b[49m\u001b[43mt2\u001b[49m\u001b[43m,\u001b[49m\u001b[43m \u001b[49m\u001b[43mmax_cycle\u001b[49m\u001b[38;5;241;43m=\u001b[39;49m\u001b[38;5;28;43mself\u001b[39;49m\u001b[38;5;241;43m.\u001b[39;49m\u001b[43mmax_cycle\u001b[49m\u001b[43m,\u001b[49m\n\u001b[1;32m   1100\u001b[0m \u001b[43m               \u001b[49m\u001b[43mtol\u001b[49m\u001b[38;5;241;43m=\u001b[39;49m\u001b[38;5;28;43mself\u001b[39;49m\u001b[38;5;241;43m.\u001b[39;49m\u001b[43mconv_tol\u001b[49m\u001b[43m,\u001b[49m\u001b[43m \u001b[49m\u001b[43mtolnormt\u001b[49m\u001b[38;5;241;43m=\u001b[39;49m\u001b[38;5;28;43mself\u001b[39;49m\u001b[38;5;241;43m.\u001b[39;49m\u001b[43mconv_tol_normt\u001b[49m\u001b[43m,\u001b[49m\n\u001b[1;32m   1101\u001b[0m \u001b[43m               \u001b[49m\u001b[43mverbose\u001b[49m\u001b[38;5;241;43m=\u001b[39;49m\u001b[38;5;28;43mself\u001b[39;49m\u001b[38;5;241;43m.\u001b[39;49m\u001b[43mverbose\u001b[49m\u001b[43m,\u001b[49m\u001b[43m \u001b[49m\u001b[43mcallback\u001b[49m\u001b[38;5;241;43m=\u001b[39;49m\u001b[38;5;28;43mself\u001b[39;49m\u001b[38;5;241;43m.\u001b[39;49m\u001b[43mcallback\u001b[49m\u001b[43m)\u001b[49m\n\u001b[1;32m   1102\u001b[0m \u001b[38;5;28mself\u001b[39m\u001b[38;5;241m.\u001b[39m_finalize()\n\u001b[1;32m   1103\u001b[0m \u001b[38;5;28;01mreturn\u001b[39;00m \u001b[38;5;28mself\u001b[39m\u001b[38;5;241m.\u001b[39me_corr, \u001b[38;5;28mself\u001b[39m\u001b[38;5;241m.\u001b[39mt1, \u001b[38;5;28mself\u001b[39m\u001b[38;5;241m.\u001b[39mt2\n",
      "File \u001b[0;32m~/research/software/lno_pyscf/pyscf/cc/ccsd.py:91\u001b[0m, in \u001b[0;36mkernel\u001b[0;34m(mycc, eris, t1, t2, max_cycle, tol, tolnormt, verbose, callback)\u001b[0m\n\u001b[1;32m     89\u001b[0m t1, t2 \u001b[38;5;241m=\u001b[39m t1new, t2new\n\u001b[1;32m     90\u001b[0m t1new \u001b[38;5;241m=\u001b[39m t2new \u001b[38;5;241m=\u001b[39m \u001b[38;5;28;01mNone\u001b[39;00m\n\u001b[0;32m---> 91\u001b[0m t1, t2 \u001b[38;5;241m=\u001b[39m \u001b[43mmycc\u001b[49m\u001b[38;5;241;43m.\u001b[39;49m\u001b[43mrun_diis\u001b[49m\u001b[43m(\u001b[49m\u001b[43mt1\u001b[49m\u001b[43m,\u001b[49m\u001b[43m \u001b[49m\u001b[43mt2\u001b[49m\u001b[43m,\u001b[49m\u001b[43m \u001b[49m\u001b[43mistep\u001b[49m\u001b[43m,\u001b[49m\u001b[43m \u001b[49m\u001b[43mnormt\u001b[49m\u001b[43m,\u001b[49m\u001b[43m \u001b[49m\u001b[43meccsd\u001b[49m\u001b[38;5;241;43m-\u001b[39;49m\u001b[43meold\u001b[49m\u001b[43m,\u001b[49m\u001b[43m \u001b[49m\u001b[43madiis\u001b[49m\u001b[43m)\u001b[49m\n\u001b[1;32m     92\u001b[0m eold, eccsd \u001b[38;5;241m=\u001b[39m eccsd, mycc\u001b[38;5;241m.\u001b[39menergy(t1, t2, eris)\n\u001b[1;32m     93\u001b[0m mycc\u001b[38;5;241m.\u001b[39mcycles \u001b[38;5;241m=\u001b[39m istep \u001b[38;5;241m+\u001b[39m \u001b[38;5;241m1\u001b[39m\n",
      "File \u001b[0;32m~/research/software/lno_pyscf/pyscf/cc/ccsd.py:1211\u001b[0m, in \u001b[0;36mCCSDBase.run_diis\u001b[0;34m(self, t1, t2, istep, normt, de, adiis)\u001b[0m\n\u001b[1;32m   1207\u001b[0m \u001b[38;5;28;01mif\u001b[39;00m (adiis \u001b[38;5;129;01mand\u001b[39;00m\n\u001b[1;32m   1208\u001b[0m     istep \u001b[38;5;241m>\u001b[39m\u001b[38;5;241m=\u001b[39m \u001b[38;5;28mself\u001b[39m\u001b[38;5;241m.\u001b[39mdiis_start_cycle \u001b[38;5;129;01mand\u001b[39;00m\n\u001b[1;32m   1209\u001b[0m     \u001b[38;5;28mabs\u001b[39m(de) \u001b[38;5;241m<\u001b[39m \u001b[38;5;28mself\u001b[39m\u001b[38;5;241m.\u001b[39mdiis_start_energy_diff):\n\u001b[1;32m   1210\u001b[0m     vec \u001b[38;5;241m=\u001b[39m \u001b[38;5;28mself\u001b[39m\u001b[38;5;241m.\u001b[39mamplitudes_to_vector(t1, t2)\n\u001b[0;32m-> 1211\u001b[0m     t1, t2 \u001b[38;5;241m=\u001b[39m \u001b[38;5;28mself\u001b[39m\u001b[38;5;241m.\u001b[39mvector_to_amplitudes(\u001b[43madiis\u001b[49m\u001b[38;5;241;43m.\u001b[39;49m\u001b[43mupdate\u001b[49m\u001b[43m(\u001b[49m\u001b[43mvec\u001b[49m\u001b[43m)\u001b[49m)\n\u001b[1;32m   1212\u001b[0m     logger\u001b[38;5;241m.\u001b[39mdebug1(\u001b[38;5;28mself\u001b[39m, \u001b[38;5;124m'\u001b[39m\u001b[38;5;124mDIIS for step \u001b[39m\u001b[38;5;132;01m%d\u001b[39;00m\u001b[38;5;124m'\u001b[39m, istep)\n\u001b[1;32m   1213\u001b[0m \u001b[38;5;28;01mreturn\u001b[39;00m t1, t2\n",
      "File \u001b[0;32m~/research/software/lno_pyscf/pyscf/lib/diis.py:237\u001b[0m, in \u001b[0;36mDIIS.update\u001b[0;34m(self, x, xerr)\u001b[0m\n\u001b[1;32m    235\u001b[0m \u001b[38;5;28;01melse\u001b[39;00m:\n\u001b[1;32m    236\u001b[0m     \u001b[38;5;28mself\u001b[39m\u001b[38;5;241m.\u001b[39m_xprev \u001b[38;5;241m=\u001b[39m \u001b[38;5;28;01mNone\u001b[39;00m \u001b[38;5;66;03m# release memory first\u001b[39;00m\n\u001b[0;32m--> 237\u001b[0m     \u001b[38;5;28mself\u001b[39m\u001b[38;5;241m.\u001b[39m_xprev \u001b[38;5;241m=\u001b[39m xnew \u001b[38;5;241m=\u001b[39m \u001b[38;5;28;43mself\u001b[39;49m\u001b[38;5;241;43m.\u001b[39;49m\u001b[43mextrapolate\u001b[49m\u001b[43m(\u001b[49m\u001b[43mnd\u001b[49m\u001b[43m)\u001b[49m\n\u001b[1;32m    239\u001b[0m     \u001b[38;5;28mself\u001b[39m\u001b[38;5;241m.\u001b[39m_store(\u001b[38;5;124m'\u001b[39m\u001b[38;5;124mxprev\u001b[39m\u001b[38;5;124m'\u001b[39m, xnew)\n\u001b[1;32m    240\u001b[0m     \u001b[38;5;28;01mif\u001b[39;00m \u001b[38;5;124m'\u001b[39m\u001b[38;5;124mxprev\u001b[39m\u001b[38;5;124m'\u001b[39m \u001b[38;5;129;01mnot\u001b[39;00m \u001b[38;5;129;01min\u001b[39;00m \u001b[38;5;28mself\u001b[39m\u001b[38;5;241m.\u001b[39m_buffer:  \u001b[38;5;66;03m# not incore\u001b[39;00m\n",
      "File \u001b[0;32m~/research/software/lno_pyscf/pyscf/lib/diis.py:264\u001b[0m, in \u001b[0;36mDIIS.extrapolate\u001b[0;34m(self, nd)\u001b[0m\n\u001b[1;32m    262\u001b[0m     \u001b[38;5;28;01mexcept\u001b[39;00m numpy\u001b[38;5;241m.\u001b[39mlinalg\u001b[38;5;241m.\u001b[39mlinalg\u001b[38;5;241m.\u001b[39mLinAlgError \u001b[38;5;28;01mas\u001b[39;00m e:\n\u001b[1;32m    263\u001b[0m         logger\u001b[38;5;241m.\u001b[39mwarn(\u001b[38;5;28mself\u001b[39m, \u001b[38;5;124m'\u001b[39m\u001b[38;5;124m diis singular, eigh(h) \u001b[39m\u001b[38;5;132;01m%s\u001b[39;00m\u001b[38;5;124m'\u001b[39m, w)\n\u001b[0;32m--> 264\u001b[0m         \u001b[38;5;28;01mraise\u001b[39;00m e\n\u001b[1;32m    265\u001b[0m logger\u001b[38;5;241m.\u001b[39mdebug1(\u001b[38;5;28mself\u001b[39m, \u001b[38;5;124m'\u001b[39m\u001b[38;5;124mdiis-c \u001b[39m\u001b[38;5;132;01m%s\u001b[39;00m\u001b[38;5;124m'\u001b[39m, c)\n\u001b[1;32m    267\u001b[0m xnew \u001b[38;5;241m=\u001b[39m \u001b[38;5;28;01mNone\u001b[39;00m\n",
      "File \u001b[0;32m~/research/software/lno_pyscf/pyscf/lib/diis.py:261\u001b[0m, in \u001b[0;36mDIIS.extrapolate\u001b[0;34m(self, nd)\u001b[0m\n\u001b[1;32m    259\u001b[0m \u001b[38;5;28;01melse\u001b[39;00m:\n\u001b[1;32m    260\u001b[0m     \u001b[38;5;28;01mtry\u001b[39;00m:\n\u001b[0;32m--> 261\u001b[0m         c \u001b[38;5;241m=\u001b[39m \u001b[43mnumpy\u001b[49m\u001b[38;5;241;43m.\u001b[39;49m\u001b[43mlinalg\u001b[49m\u001b[38;5;241;43m.\u001b[39;49m\u001b[43msolve\u001b[49m\u001b[43m(\u001b[49m\u001b[43mh\u001b[49m\u001b[43m,\u001b[49m\u001b[43m \u001b[49m\u001b[43mg\u001b[49m\u001b[43m)\u001b[49m\n\u001b[1;32m    262\u001b[0m     \u001b[38;5;28;01mexcept\u001b[39;00m numpy\u001b[38;5;241m.\u001b[39mlinalg\u001b[38;5;241m.\u001b[39mlinalg\u001b[38;5;241m.\u001b[39mLinAlgError \u001b[38;5;28;01mas\u001b[39;00m e:\n\u001b[1;32m    263\u001b[0m         logger\u001b[38;5;241m.\u001b[39mwarn(\u001b[38;5;28mself\u001b[39m, \u001b[38;5;124m'\u001b[39m\u001b[38;5;124m diis singular, eigh(h) \u001b[39m\u001b[38;5;132;01m%s\u001b[39;00m\u001b[38;5;124m'\u001b[39m, w)\n",
      "File \u001b[0;32m<__array_function__ internals>:200\u001b[0m, in \u001b[0;36msolve\u001b[0;34m(*args, **kwargs)\u001b[0m\n",
      "File \u001b[0;32m~/research/software/miniconda3/envs/lno_pyscf_afqmc/lib/python3.10/site-packages/numpy/linalg/linalg.py:386\u001b[0m, in \u001b[0;36msolve\u001b[0;34m(a, b)\u001b[0m\n\u001b[1;32m    384\u001b[0m signature \u001b[38;5;241m=\u001b[39m \u001b[38;5;124m'\u001b[39m\u001b[38;5;124mDD->D\u001b[39m\u001b[38;5;124m'\u001b[39m \u001b[38;5;28;01mif\u001b[39;00m isComplexType(t) \u001b[38;5;28;01melse\u001b[39;00m \u001b[38;5;124m'\u001b[39m\u001b[38;5;124mdd->d\u001b[39m\u001b[38;5;124m'\u001b[39m\n\u001b[1;32m    385\u001b[0m extobj \u001b[38;5;241m=\u001b[39m get_linalg_error_extobj(_raise_linalgerror_singular)\n\u001b[0;32m--> 386\u001b[0m r \u001b[38;5;241m=\u001b[39m \u001b[43mgufunc\u001b[49m\u001b[43m(\u001b[49m\u001b[43ma\u001b[49m\u001b[43m,\u001b[49m\u001b[43m \u001b[49m\u001b[43mb\u001b[49m\u001b[43m,\u001b[49m\u001b[43m \u001b[49m\u001b[43msignature\u001b[49m\u001b[38;5;241;43m=\u001b[39;49m\u001b[43msignature\u001b[49m\u001b[43m,\u001b[49m\u001b[43m \u001b[49m\u001b[43mextobj\u001b[49m\u001b[38;5;241;43m=\u001b[39;49m\u001b[43mextobj\u001b[49m\u001b[43m)\u001b[49m\n\u001b[1;32m    388\u001b[0m \u001b[38;5;28;01mreturn\u001b[39;00m wrap(r\u001b[38;5;241m.\u001b[39mastype(result_t, copy\u001b[38;5;241m=\u001b[39m\u001b[38;5;28;01mFalse\u001b[39;00m))\n",
      "File \u001b[0;32m~/research/software/miniconda3/envs/lno_pyscf_afqmc/lib/python3.10/site-packages/numpy/linalg/linalg.py:89\u001b[0m, in \u001b[0;36m_raise_linalgerror_singular\u001b[0;34m(err, flag)\u001b[0m\n\u001b[1;32m     88\u001b[0m \u001b[38;5;28;01mdef\u001b[39;00m\u001b[38;5;250m \u001b[39m\u001b[38;5;21m_raise_linalgerror_singular\u001b[39m(err, flag):\n\u001b[0;32m---> 89\u001b[0m     \u001b[38;5;28;01mraise\u001b[39;00m LinAlgError(\u001b[38;5;124m\"\u001b[39m\u001b[38;5;124mSingular matrix\u001b[39m\u001b[38;5;124m\"\u001b[39m)\n",
      "\u001b[0;31mLinAlgError\u001b[0m: Singular matrix"
     ]
    }
   ],
   "source": [
    "mycc = cc.CCSD(mf)\n",
    "mycc.kernel()\n",
    "e_pt = mycc.ccsd_t()\n",
    "print(mycc.e_tot+e_pt)"
   ]
  },
  {
   "cell_type": "code",
   "execution_count": 22,
   "id": "5fb99e83",
   "metadata": {},
   "outputs": [],
   "source": [
    "bond_dims = [20] * 2 + [40] * 2 + [60] * 2 + [80]*2 +[100]*4\n",
    "noises = [1e-4] * 4 + [1e-5] * 4 + [0]\n",
    "thrds = [1e-6] * 8 + [1e-7]"
   ]
  },
  {
   "cell_type": "code",
   "execution_count": 26,
   "id": "6fb428c7",
   "metadata": {},
   "outputs": [],
   "source": [
    "occs = np.diag(mycc.make_rdm1())"
   ]
  },
  {
   "cell_type": "code",
   "execution_count": 34,
   "id": "322c68d0",
   "metadata": {},
   "outputs": [
    {
     "data": {
      "text/plain": [
       "-0.48971943101479987"
      ]
     },
     "execution_count": 34,
     "metadata": {},
     "output_type": "execute_result"
    }
   ],
   "source": [
    "-11.1871 - -10.6973805689852"
   ]
  },
  {
   "cell_type": "code",
   "execution_count": 27,
   "id": "a396fd25",
   "metadata": {},
   "outputs": [
    {
     "name": "stdout",
     "output_type": "stream",
     "text": [
      "[1.95407201e+00 1.90816419e+00 7.49156216e-02 1.36604866e-02\n",
      " 6.48067456e-03 1.11590068e-02 7.69567005e-03 1.09919272e-02\n",
      " 2.31619099e-03 2.31619099e-03 1.76793068e-03 1.76793068e-03\n",
      " 1.96545524e-03 3.97153170e-04 3.97153170e-04 9.73034282e-04\n",
      " 2.13712229e-04 2.13712229e-04 4.34291159e-04 9.76569999e-05]\n",
      "[1.75407201 1.70816419 0.27491562 0.21366049 0.20648067 0.21115901\n",
      " 0.20769567 0.21099193 0.20231619 0.20231619 0.20176793 0.20176793\n",
      " 0.20196546 0.20039715 0.20039715 0.20097303 0.20021371 0.20021371\n",
      " 0.20043429 0.20009766]\n"
     ]
    }
   ],
   "source": [
    "bias = 0.2\n",
    "print(occs)\n",
    "occs = occs + bias * (occs < 1) - bias * (occs > 1)\n",
    "print(occs)"
   ]
  },
  {
   "cell_type": "code",
   "execution_count": null,
   "id": "9bead26b",
   "metadata": {},
   "outputs": [
    {
     "name": "stdout",
     "output_type": "stream",
     "text": [
      "[1.7 1.7 0.3 0.3 0.3 0.3 0.3 0.3 0.3 0.3 0.3 0.3 0.3 0.3 0.3 0.3 0.3 0.3]\n"
     ]
    }
   ],
   "source": [
    "bias = 0.3 # make it more random\n",
    "# occs = np.diag(mycc.make_rdm1())\n",
    "# occs = occs + bias * (occs < 1) - bias * (occs > 1)\n",
    "occs = np.array([2]*int(nH/2)+[0]*(mol.nao-nH))\n",
    "# occs = occs + bias * (occs < 1) - bias * (occs > 1)\n",
    "# print(occs)"
   ]
  },
  {
   "cell_type": "code",
   "execution_count": 28,
   "id": "07e614a2",
   "metadata": {},
   "outputs": [
    {
     "name": "stdout",
     "output_type": "stream",
     "text": [
      "\n",
      "Sweep =    0 | Direction =  forward | Bond dimension =   20 | Noise =  1.00e-04 | Dav threshold =  1.00e-06\n",
      "Time elapsed =      2.396 | E =      -2.2419225582 | DW = 1.70567e-05\n",
      "\n",
      "Sweep =    1 | Direction = backward | Bond dimension =   20 | Noise =  1.00e-04 | Dav threshold =  1.00e-06\n",
      "Time elapsed =      4.543 | E =      -2.2424605952 | DE = -5.38e-04 | DW = 3.55885e-05\n",
      "\n",
      "Sweep =    2 | Direction =  forward | Bond dimension =   40 | Noise =  1.00e-04 | Dav threshold =  1.00e-06\n",
      "Time elapsed =      7.254 | E =      -2.2430027727 | DE = -5.42e-04 | DW = 3.60333e-07\n",
      "\n",
      "Sweep =    3 | Direction = backward | Bond dimension =   40 | Noise =  1.00e-04 | Dav threshold =  1.00e-06\n",
      "Time elapsed =     10.111 | E =      -2.2430233940 | DE = -2.06e-05 | DW = 6.08356e-07\n",
      "\n",
      "Sweep =    4 | Direction =  forward | Bond dimension =   60 | Noise =  1.00e-05 | Dav threshold =  1.00e-06\n",
      "Time elapsed =     13.494 | E =      -2.2430433064 | DE = -1.99e-05 | DW = 1.92424e-08\n",
      "\n",
      "Sweep =    5 | Direction = backward | Bond dimension =   60 | Noise =  1.00e-05 | Dav threshold =  1.00e-06\n",
      "Time elapsed =     17.033 | E =      -2.2430469813 | DE = -3.67e-06 | DW = 8.95844e-09\n",
      "\n",
      "Sweep =    6 | Direction =  forward | Bond dimension =   80 | Noise =  1.00e-05 | Dav threshold =  1.00e-06\n",
      "Time elapsed =     21.317 | E =      -2.2430484387 | DE = -1.46e-06 | DW = 7.31508e-09\n",
      "\n",
      "Sweep =    7 | Direction = backward | Bond dimension =   80 | Noise =  1.00e-05 | Dav threshold =  1.00e-06\n",
      "Time elapsed =     25.783 | E =      -2.2430490955 | DE = -6.57e-07 | DW = 2.12176e-09\n",
      "\n",
      "Sweep =    8 | Direction =  forward | Bond dimension =  100 | Noise =  0.00e+00 | Dav threshold =  1.00e-07\n",
      "Time elapsed =     30.243 | E =      -2.2430495912 | DE = -4.96e-07 | DW = 2.86008e-20\n",
      "\n",
      "Sweep =    9 | Direction = backward | Bond dimension =  100 | Noise =  0.00e+00 | Dav threshold =  1.00e-09\n",
      "Time elapsed =     34.875 | E =      -2.2430496582 | DE = -6.70e-08 | DW = 2.01574e-16\n",
      "\n",
      "Sweep =   10 | Direction =  forward | Bond dimension =  100 | Noise =  0.00e+00 | Dav threshold =  1.00e-09\n",
      "Time elapsed =     39.650 | E =      -2.2430496629 | DE = -4.66e-09 | DW = 1.33777e-16\n",
      "\n",
      "DMRG energy =   -2.243049662889795\n"
     ]
    }
   ],
   "source": [
    "# bias = 0.3 # make it more random\n",
    "# # occs = np.diag(mycc.make_rdm1())\n",
    "# # occs = occs + bias * (occs < 1) - bias * (occs > 1)\n",
    "# occs = np.array([2]*int(nH/2)+[0]*(mol.nao-nH))\n",
    "# # occs = occs + bias * (occs < 1) - bias * (occs > 1)\n",
    "\n",
    "ncas, n_elec, spin, ecore, h1e, g2e, orb_sym = itg.get_rhf_integrals(mf,\n",
    "    ncore=0, ncas=None, g2e_symm=8)\n",
    "\n",
    "driver = DMRGDriver(scratch=\"./tmp\", symm_type=SymmetryTypes.SU2, n_threads=4)\n",
    "driver.initialize_system(n_sites=ncas, n_elec=n_elec, spin=spin, orb_sym=orb_sym)\n",
    "\n",
    "mpo = driver.get_qc_mpo(h1e=h1e, g2e=g2e, ecore=ecore, iprint=0)\n",
    "ket = driver.get_random_mps(tag=\"GS\", bond_dim=250, occs=occs, nroots=1)\n",
    "energy = driver.dmrg(mpo, ket, n_sweeps=20, bond_dims=bond_dims, noises=noises,\n",
    "    thrds=thrds, iprint=1)\n",
    "print('DMRG energy = %20.15f' % energy)"
   ]
  },
  {
   "cell_type": "code",
   "execution_count": 14,
   "id": "47914c27",
   "metadata": {},
   "outputs": [
    {
     "name": "stdout",
     "output_type": "stream",
     "text": [
      "integral symmetrize error =  0.0\n",
      "integral cutoff error =  8.638844320010619e-19\n",
      "mpo terms =      88246\n",
      "\n",
      "Build MPO | Nsites =    20 | Nterms =      88246 | Algorithm = FastBIP | Cutoff = 1.00e-20\n",
      " Site =     0 /    20 .. Mmpo =    14 DW = 0.00e+00 NNZ =       14 SPT = 0.0000 Tmvc = 0.004 T = 0.013\n",
      " Site =     1 /    20 .. Mmpo =    50 DW = 0.00e+00 NNZ =       56 SPT = 0.9200 Tmvc = 0.006 T = 0.023\n",
      " Site =     2 /    20 .. Mmpo =    84 DW = 0.00e+00 NNZ =      998 SPT = 0.7624 Tmvc = 0.006 T = 0.023\n",
      " Site =     3 /    20 .. Mmpo =   114 DW = 0.00e+00 NNZ =     1247 SPT = 0.8698 Tmvc = 0.007 T = 0.026\n",
      " Site =     4 /    20 .. Mmpo =   152 DW = 0.00e+00 NNZ =     1932 SPT = 0.8885 Tmvc = 0.006 T = 0.031\n",
      " Site =     5 /    20 .. Mmpo =   198 DW = 0.00e+00 NNZ =     2706 SPT = 0.9101 Tmvc = 0.008 T = 0.035\n",
      " Site =     6 /    20 .. Mmpo =   252 DW = 0.00e+00 NNZ =     3534 SPT = 0.9292 Tmvc = 0.009 T = 0.034\n",
      " Site =     7 /    20 .. Mmpo =   314 DW = 0.00e+00 NNZ =     4379 SPT = 0.9447 Tmvc = 0.009 T = 0.034\n",
      " Site =     8 /    20 .. Mmpo =   384 DW = 0.00e+00 NNZ =     5208 SPT = 0.9568 Tmvc = 0.009 T = 0.042\n",
      " Site =     9 /    20 .. Mmpo =   462 DW = 0.00e+00 NNZ =     5982 SPT = 0.9663 Tmvc = 0.010 T = 0.049\n",
      " Site =    10 /    20 .. Mmpo =   384 DW = 0.00e+00 NNZ =    35436 SPT = 0.8003 Tmvc = 0.016 T = 0.096\n",
      " Site =    11 /    20 .. Mmpo =   314 DW = 0.00e+00 NNZ =     5207 SPT = 0.9568 Tmvc = 0.009 T = 0.038\n",
      " Site =    12 /    20 .. Mmpo =   252 DW = 0.00e+00 NNZ =     4379 SPT = 0.9447 Tmvc = 0.008 T = 0.028\n",
      " Site =    13 /    20 .. Mmpo =   198 DW = 0.00e+00 NNZ =     3533 SPT = 0.9292 Tmvc = 0.007 T = 0.020\n",
      " Site =    14 /    20 .. Mmpo =   152 DW = 0.00e+00 NNZ =     2705 SPT = 0.9101 Tmvc = 0.004 T = 0.019\n",
      " Site =    15 /    20 .. Mmpo =   114 DW = 0.00e+00 NNZ =     1931 SPT = 0.8886 Tmvc = 0.002 T = 0.014\n",
      " Site =    16 /    20 .. Mmpo =    84 DW = 0.00e+00 NNZ =     1247 SPT = 0.8698 Tmvc = 0.001 T = 0.012\n",
      " Site =    17 /    20 .. Mmpo =    50 DW = 0.00e+00 NNZ =      998 SPT = 0.7624 Tmvc = 0.002 T = 0.010\n",
      " Site =    18 /    20 .. Mmpo =    14 DW = 0.00e+00 NNZ =       56 SPT = 0.9200 Tmvc = 0.000 T = 0.001\n",
      " Site =    19 /    20 .. Mmpo =     1 DW = 0.00e+00 NNZ =       14 SPT = 0.0000 Tmvc = 0.000 T = 0.003\n",
      "Ttotal =      0.551 Tmvc-total = 0.125 MPO bond dimension =   462 MaxDW = 0.00e+00\n",
      "NNZ =        81562 SIZE =       977844 SPT = 0.9166\n",
      "\n",
      "Rank =     0 Ttotal =      0.605 MPO method = FastBipartite bond dimension =     462 NNZ =        81562 SIZE =       977844 SPT = 0.9166\n",
      "\n",
      "Sweep =    0 | Direction =  forward | Bond dimension =   20 | Noise =  1.00e-04 | Dav threshold =  1.00e-06\n",
      "Time elapsed =     12.452 | E =     -10.6865081648 | DW = 3.35376e-04\n",
      "\n",
      "Sweep =    1 | Direction = backward | Bond dimension =   20 | Noise =  1.00e-04 | Dav threshold =  1.00e-06\n",
      "Time elapsed =     14.851 | E =     -10.8271496168 | DE = -1.41e-01 | DW = 9.85666e-05\n",
      "\n",
      "Sweep =    2 | Direction =  forward | Bond dimension =   40 | Noise =  1.00e-04 | Dav threshold =  1.00e-06\n",
      "Time elapsed =     17.195 | E =     -10.8324486886 | DE = -5.30e-03 | DW = 1.04970e-05\n",
      "\n",
      "Sweep =    3 | Direction = backward | Bond dimension =   40 | Noise =  1.00e-04 | Dav threshold =  1.00e-06\n",
      "Time elapsed =     19.757 | E =     -10.8324752984 | DE = -2.66e-05 | DW = 1.35704e-05\n",
      "\n",
      "Sweep =    4 | Direction =  forward | Bond dimension =   60 | Noise =  1.00e-05 | Dav threshold =  1.00e-06\n",
      "Time elapsed =     22.463 | E =     -10.8325434030 | DE = -6.81e-05 | DW = 9.07807e-07\n",
      "\n",
      "Sweep =    5 | Direction = backward | Bond dimension =   60 | Noise =  1.00e-05 | Dav threshold =  1.00e-06\n",
      "Time elapsed =     25.584 | E =     -10.8325455565 | DE = -2.15e-06 | DW = 1.03401e-06\n",
      "\n",
      "Sweep =    6 | Direction =  forward | Bond dimension =   80 | Noise =  1.00e-05 | Dav threshold =  1.00e-06\n",
      "Time elapsed =     28.857 | E =     -10.8325525804 | DE = -7.02e-06 | DW = 4.13863e-07\n",
      "\n",
      "Sweep =    7 | Direction = backward | Bond dimension =   80 | Noise =  1.00e-05 | Dav threshold =  1.00e-06\n",
      "Time elapsed =     32.279 | E =     -10.8325528399 | DE = -2.60e-07 | DW = 3.07670e-07\n",
      "\n",
      "Sweep =    8 | Direction =  forward | Bond dimension =  100 | Noise =  0.00e+00 | Dav threshold =  1.00e-07\n",
      "Time elapsed =     36.024 | E =     -10.8325564896 | DE = -3.65e-06 | DW = 5.43291e-09\n",
      "\n",
      "Sweep =    9 | Direction = backward | Bond dimension =  100 | Noise =  0.00e+00 | Dav threshold =  1.00e-09\n",
      "Time elapsed =     40.285 | E =     -10.8325565879 | DE = -9.83e-08 | DW = 8.81870e-09\n",
      "\n",
      "Sweep =   10 | Direction =  forward | Bond dimension =  100 | Noise =  0.00e+00 | Dav threshold =  1.00e-09\n",
      "Time elapsed =     44.571 | E =     -10.8325566071 | DE = -1.92e-08 | DW = 8.43032e-09\n",
      "\n",
      "Sweep =   11 | Direction = backward | Bond dimension =  100 | Noise =  0.00e+00 | Dav threshold =  1.00e-09\n",
      "Time elapsed =     48.837 | E =     -10.8325566074 | DE = -3.44e-10 | DW = 8.43756e-09\n",
      "\n",
      "DMRG energy =  -10.832556607423516\n"
     ]
    }
   ],
   "source": [
    "ncas, n_elec, spin, ecore, h1e, g2e, orb_sym = itg.get_rhf_integrals(mf,g2e_symm=8)\n",
    "\n",
    "driver = DMRGDriver(scratch=\"./tmp\", symm_type=SymmetryTypes.SU2, n_threads=4)\n",
    "driver.initialize_system(n_sites=ncas, n_elec=n_elec, spin=spin, orb_sym=orb_sym)\n",
    "\n",
    "mpo = driver.get_qc_mpo(h1e=h1e, g2e=g2e, ecore=ecore, iprint=1)\n",
    "ket = driver.get_random_mps(tag=\"GS\", bond_dim=250, nroots=1,occs=[1]*nH)\n",
    "energy = driver.dmrg(mpo, ket, n_sweeps=20, bond_dims=bond_dims, noises=noises,\n",
    "    thrds=thrds, iprint=1)\n",
    "print('DMRG energy = %20.15f' % energy)\n",
    "\n",
    "# pdm1 = driver.get_1pdm(ket)\n",
    "# pdm2 = driver.get_2pdm(ket).transpose(0, 3, 1, 2)\n",
    "# print('Energy from pdms = %20.15f' % (np.einsum('ij,ij->', pdm1, h1e)\n",
    "#     + 0.5 * np.einsum('ijkl,ijkl->', pdm2, driver.unpack_g2e(g2e)) + ecore))\n",
    "\n",
    "# impo = driver.get_identity_mpo()\n",
    "# expt = driver.expectation(ket, mpo, ket) / driver.expectation(ket, impo, ket)\n",
    "# print('Energy from expectation = %20.15f' % expt)"
   ]
  },
  {
   "cell_type": "code",
   "execution_count": null,
   "id": "f091ccc0",
   "metadata": {},
   "outputs": [],
   "source": [
    "# non df\n",
    "# DMRG energy =   -5.422733477309043\n",
    "# Energy from pdms =   -5.422733477309011\n",
    "# Energy from expectation =   -5.422733477309038"
   ]
  },
  {
   "cell_type": "code",
   "execution_count": null,
   "id": "ac3446c9",
   "metadata": {},
   "outputs": [],
   "source": [
    "# df\n",
    "# DMRG energy =   -5.427660295498061\n",
    "# Energy from pdms =   -5.427660295498059\n",
    "# Energy from expectation =   -5.427660295498058"
   ]
  }
 ],
 "metadata": {
  "kernelspec": {
   "display_name": "lno_pyscf_afqmc",
   "language": "python",
   "name": "python3"
  },
  "language_info": {
   "codemirror_mode": {
    "name": "ipython",
    "version": 3
   },
   "file_extension": ".py",
   "mimetype": "text/x-python",
   "name": "python",
   "nbconvert_exporter": "python",
   "pygments_lexer": "ipython3",
   "version": "3.10.16"
  }
 },
 "nbformat": 4,
 "nbformat_minor": 5
}
