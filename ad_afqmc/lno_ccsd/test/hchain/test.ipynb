{
 "cells": [
  {
   "cell_type": "code",
   "execution_count": 1,
   "id": "f987f9d8",
   "metadata": {},
   "outputs": [],
   "source": [
    "import numpy as np\n",
    "from matplotlib import pyplot as plt"
   ]
  },
  {
   "cell_type": "code",
   "execution_count": null,
   "id": "92dc04a7",
   "metadata": {},
   "outputs": [
    {
     "data": {
      "text/plain": [
       "-0.145936721"
      ]
     },
     "execution_count": 8,
     "metadata": {},
     "output_type": "execute_result"
    }
   ],
   "source": [
    "# AFQMC energy: -3.1722 +/- 0.0002\n",
    "# tot_afqmc_cr -0.14592 +/- 0.000138\n",
    "# converged SCF energy = -3.02626327924134\n",
    "-3.1722- -3.026263279"
   ]
  }
 ],
 "metadata": {
  "kernelspec": {
   "display_name": "lno_pyscf_afqmc",
   "language": "python",
   "name": "python3"
  },
  "language_info": {
   "codemirror_mode": {
    "name": "ipython",
    "version": 3
   },
   "file_extension": ".py",
   "mimetype": "text/x-python",
   "name": "python",
   "nbconvert_exporter": "python",
   "pygments_lexer": "ipython3",
   "version": "3.10.16"
  }
 },
 "nbformat": 4,
 "nbformat_minor": 5
}
