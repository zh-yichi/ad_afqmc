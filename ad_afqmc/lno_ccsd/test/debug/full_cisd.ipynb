{
 "cells": [
  {
   "cell_type": "code",
   "execution_count": 25,
   "id": "47a47fec",
   "metadata": {},
   "outputs": [
    {
     "name": "stdout",
     "output_type": "stream",
     "text": [
      "System: uname_result(system='Linux', node='yichi-thinkpad', release='4.4.0-26100-Microsoft', version='#1882-Microsoft Fri Jan 01 08:00:00 PST 2016', machine='x86_64')  Threads 12\n",
      "Python 3.10.16 | packaged by conda-forge | (main, Dec  5 2024, 14:16:10) [GCC 13.3.0]\n",
      "numpy 1.24.3  scipy 1.14.1  h5py 3.12.1\n",
      "Date: Mon Aug 25 18:50:24 2025\n",
      "PySCF version 2.8.0\n",
      "PySCF path  /home/yichi/research/software/lno_pyscf\n",
      "GIT HEAD (branch master) ef75f4190e4de208685670651dc6c467f72b6794\n",
      "\n",
      "[ENV] PYSCF_EXT_PATH /home/yichi/research/software/pyscf\n",
      "[CONFIG] conf_file None\n",
      "[INPUT] verbose = 4\n",
      "[INPUT] num. atoms = 4\n",
      "[INPUT] num. electrons = 4\n",
      "[INPUT] charge = 0\n",
      "[INPUT] spin (= nelec alpha-beta = 2S) = 0\n",
      "[INPUT] symmetry False subgroup None\n",
      "[INPUT] Mole.unit = angstrom\n",
      "[INPUT] Symbol           X                Y                Z      unit          X                Y                Z       unit  Magmom\n",
      "[INPUT]  1 H      0.000000000000   0.000000000000  -0.370000000000 AA    0.000000000000   0.000000000000  -0.699198666089 Bohr   0.0\n",
      "[INPUT]  2 H      0.000000000000   0.000000000000   0.370000000000 AA    0.000000000000   0.000000000000   0.699198666089 Bohr   0.0\n",
      "[INPUT]  3 H      2.000000000000   0.000000000000   0.000000000000 AA    3.779452249130   0.000000000000   0.000000000000 Bohr   0.0\n",
      "[INPUT]  4 H      2.740000000000   0.000000000000   0.000000000000 AA    5.177849581308   0.000000000000   0.000000000000 Bohr   0.0\n",
      "\n",
      "nuclear repulsion = 2.33334282817069\n",
      "number of shells = 12\n",
      "number of NR pGTOs = 28\n",
      "number of NR cGTOs = 20\n",
      "basis = ccpvdz\n",
      "ecp = {}\n",
      "CPU time:        60.94\n",
      "\n",
      "\n",
      "******** <class 'pyscf.df.df_jk.DFRHF'> ********\n",
      "method = DFRHF\n",
      "initial guess = minao\n",
      "damping factor = 0\n",
      "level_shift factor = 0\n",
      "DIIS = <class 'pyscf.scf.diis.CDIIS'>\n",
      "diis_start_cycle = 1\n",
      "diis_space = 8\n",
      "diis_damp = 0\n",
      "SCF conv_tol = 1e-09\n",
      "SCF conv_tol_grad = None\n",
      "SCF max_cycles = 50\n",
      "direct_scf = False\n",
      "chkfile to save SCF result = /tmp/tmpcwd7w2ea\n",
      "max_memory 4000 MB (current use 379 MB)\n",
      "Set gradient conv threshold to 3.16228e-05\n",
      "Initial guess from minao.\n"
     ]
    },
    {
     "name": "stdout",
     "output_type": "stream",
     "text": [
      "******** <class 'pyscf.df.df.DF'> ********\n",
      "auxbasis = None\n",
      "max_memory = 4000\n",
      "Default auxbasis cc-pvdz-jkfit is used for H ccpvdz\n",
      "init E= -1.64338182871186\n",
      "  HOMO = -0.499546199307415  LUMO = 0.151279444472866\n",
      "cycle= 1 E= -2.25072827302064  delta_E= -0.607  |g|= 0.0704  |ddm|=    1\n",
      "  HOMO = -0.568559035775527  LUMO = 0.186543530604378\n",
      "cycle= 2 E= -2.25308251303881  delta_E= -0.00235  |g|= 0.0123  |ddm|= 0.0678\n",
      "  HOMO = -0.561939889043839  LUMO = 0.191781821737803\n",
      "cycle= 3 E= -2.25316769129707  delta_E= -8.52e-05  |g|= 0.000867  |ddm|= 0.0176\n",
      "  HOMO = -0.561979249804308  LUMO = 0.191813203066073\n",
      "cycle= 4 E= -2.25316809947644  delta_E= -4.08e-07  |g|= 4.59e-05  |ddm|= 0.00208\n",
      "  HOMO = -0.56199275814008  LUMO = 0.19182317909231\n",
      "cycle= 5 E= -2.25316810080334  delta_E= -1.33e-09  |g|= 3.89e-06  |ddm|= 0.000151\n",
      "  HOMO = -0.561992915441165  LUMO = 0.191821892643455\n",
      "cycle= 6 E= -2.25316810081162  delta_E= -8.28e-12  |g|= 3.19e-07  |ddm|= 1.22e-05\n",
      "  HOMO = -0.56199300539708  LUMO = 0.191822046352894\n",
      "Extra cycle  E= -2.25316810081169  delta_E= -6.75e-14  |g|= 9.09e-08  |ddm|= 1.08e-06\n",
      "converged SCF energy = -2.25316810081169\n",
      "\n",
      "******** <class 'pyscf.cc.dfccsd.RCCSD'> ********\n",
      "CC2 = 0\n",
      "CCSD nocc = 2, nmo = 20\n",
      "frozen orbitals 0\n",
      "max_cycle = 50\n",
      "direct = 0\n",
      "conv_tol = 1e-07\n",
      "conv_tol_normt = 1e-05\n",
      "diis_space = 6\n",
      "diis_start_cycle = 0\n",
      "diis_start_energy_diff = 1e+09\n",
      "max_memory 4000 MB (current use 380 MB)\n",
      "Init t2, MP2 energy = -2.30677537448555  E_corr(MP2) -0.0536072736738644\n",
      "Init E_corr(RCCSD) = -0.0536072736738686\n",
      "cycle = 1  E_corr(RCCSD) = -0.0655199092812953  dE = -0.0119126356  norm(t1,t2) = 0.0289119\n",
      "cycle = 2  E_corr(RCCSD) = -0.0687056353299708  dE = -0.00318572605  norm(t1,t2) = 0.00959328\n",
      "cycle = 3  E_corr(RCCSD) = -0.0702506084980335  dE = -0.00154497317  norm(t1,t2) = 0.00362798\n",
      "cycle = 4  E_corr(RCCSD) = -0.0702377531962841  dE = 1.28553017e-05  norm(t1,t2) = 0.000391476\n",
      "cycle = 5  E_corr(RCCSD) = -0.0702349303900622  dE = 2.82280622e-06  norm(t1,t2) = 2.94612e-05\n",
      "cycle = 6  E_corr(RCCSD) = -0.0702354823536173  dE = -5.51963555e-07  norm(t1,t2) = 7.62872e-06\n",
      "cycle = 7  E_corr(RCCSD) = -0.0702354403555899  dE = 4.19980274e-08  norm(t1,t2) = 1.60857e-06\n",
      "RCCSD converged\n",
      "E(RCCSD) = -2.323403541167278  E_corr = -0.07023544035558986\n"
     ]
    }
   ],
   "source": [
    "from functools import partial\n",
    "from pyscf import gto, scf, cc, ao2mo, df\n",
    "import numpy as np\n",
    "\n",
    "from jax import config\n",
    "config.update(\"jax_enable_x64\", True)\n",
    "\n",
    "print = partial(print, flush=True)\n",
    "\n",
    "a = 1.05835 # 2aB\n",
    "d = 2\n",
    "atoms = f'''\n",
    "H     0.000     0.000    -0.370\n",
    "H     0.000     0.000     0.370\n",
    "H     {d}       0.000     0.000\n",
    "H     {0.74+d}  0.000     0.000\n",
    "'''\n",
    "frozen=0\n",
    "\n",
    "mol = gto.M(atom=atoms, basis=\"ccpvdz\", verbose=4)\n",
    "mol.set_range_coulomb(0)\n",
    "mol.build()\n",
    "\n",
    "mf = scf.RHF(mol).density_fit()\n",
    "e = mf.kernel()\n",
    "\n",
    "mycc = cc.CCSD(mf,frozen=frozen)\n",
    "eccsd = mycc.kernel()[0]\n"
   ]
  },
  {
   "cell_type": "code",
   "execution_count": 3,
   "id": "a7668f0e",
   "metadata": {},
   "outputs": [],
   "source": [
    "from ad_afqmc.lno.base import lno\n",
    "from pyscf.lib import logger\n",
    "import numpy as np\n",
    "from functools import reduce\n",
    "\n",
    "_fdot = np.dot\n",
    "fdot = lambda *args: reduce(_fdot, args)"
   ]
  },
  {
   "cell_type": "code",
   "execution_count": 26,
   "id": "4f3e52be",
   "metadata": {},
   "outputs": [
    {
     "name": "stdout",
     "output_type": "stream",
     "text": [
      "Using single-LO fragment\n",
      "nfrag = 2  nlo = 2\n",
      "frag_atmlist = None\n",
      "frag_lolist = [[0], [1]]\n",
      "frag_nonvlist = None\n",
      "Lov is saved to /tmp/pwifwwhe\n",
      "lno thresh [0.0001, 1e-05]\n"
     ]
    },
    {
     "name": "stdout",
     "output_type": "stream",
     "text": [
      "########### running fragment 1 ##########\n",
      "# active orbitals: 18 [ 0  1  2  3  4  5  6  7  8  9 10 11 12 13 14 15 16 17]\n",
      "# active occupied orbitals: 2 [0 1]\n",
      "# active virtual orbitals: 16 [ 2  3  4  5  6  7  8  9 10 11 12 13 14 15 16 17]\n",
      "# frozen orbitals: 2 [18 19]\n"
     ]
    }
   ],
   "source": [
    "from ad_afqmc.lno.cc import LNOCCSD\n",
    "from pyscf.lib import logger\n",
    "import sys\n",
    "from ad_afqmc.lno.base import lno\n",
    "from ad_afqmc.lno_ccsd import lno_ccsd\n",
    "import numpy as np\n",
    "from functools import reduce\n",
    "log = logger.Logger(sys.stdout, 6)\n",
    "\n",
    "options = {\n",
    "    \"n_eql\": 4,\n",
    "    \"n_ene_blocks\": 1,\n",
    "    \"n_sr_blocks\": 20,\n",
    "    \"n_blocks\": 20,\n",
    "    \"n_walkers\": 5,\n",
    "    \"seed\": 98,\n",
    "    \"trial\": \"cisd\",\n",
    "    \"walker_type\": \"rhf\",\n",
    "    \"dt\":0.005,\n",
    "    \"ene0\": 0,\n",
    "}\n",
    "\n",
    "localize = False\n",
    "mf_cc = mycc\n",
    "thresh = 1e-5\n",
    "# chol_cut = 1e-6\n",
    "run_frg_list = None\n",
    "lo_type = 'boys'\n",
    "no_type = 'ie' # cim\n",
    "frag_lolist = '1o'\n",
    "\n",
    "from pyscf.cc.ccsd import CCSD\n",
    "from pyscf.cc.uccsd import UCCSD\n",
    "if isinstance(mf_cc, (CCSD, UCCSD)):\n",
    "    full_cisd = True\n",
    "else:\n",
    "    full_cisd = False\n",
    "\n",
    "mf = mf_cc._scf\n",
    "\n",
    "if isinstance(thresh, list):\n",
    "    thresh_occ, thresh_vir = thresh\n",
    "else:\n",
    "    thresh_occ = thresh*10\n",
    "    thresh_vir = thresh\n",
    "\n",
    "lno_cc = LNOCCSD(mf, thresh=thresh, frozen=frozen)\n",
    "lno_cc.thresh_occ = thresh_occ\n",
    "lno_cc.thresh_vir = thresh_vir\n",
    "lno_cc.lo_type = lo_type\n",
    "lno_cc.no_type = no_type\n",
    "lno_cc.frag_lolist = frag_lolist\n",
    "# lno_cc.ccsd_t = True\n",
    "lno_cc.force_outcore_ao2mo = True\n",
    "\n",
    "frag_atmlist = lno_cc.frag_atmlist\n",
    "s1e = lno_cc._scf.get_ovlp()\n",
    "\n",
    "\n",
    "# log.info('no_type = %s', no_type)\n",
    "\n",
    "# LO construction\n",
    "# orbloc = lno_cc.get_lo(lo_type=lo_type) # localized active occ orbitals\n",
    "orbactocc = lno_cc.split_mo()[1] # non-localized active occ\n",
    "if localize:\n",
    "    orbloc = lno_cc.get_lo(lo_type=lo_type) # localized active occ orbitals\n",
    "    m = fdot(orbloc.T, s1e, orbactocc)\n",
    "    lospanerr = abs(fdot(m.T, m) - np.eye(m.shape[1])).max()\n",
    "    if lospanerr > 1e-10:\n",
    "        log.error('LOs do not fully span the occupied space! '\n",
    "                    'Max|<occ|LO><LO|occ>| = %e', lospanerr)\n",
    "        raise RuntimeError\n",
    "    # check Span(LO) == Span(occ)\n",
    "    occspanerr = abs(fdot(m, m.T) - np.eye(m.shape[0])).max()\n",
    "    if occspanerr < 1e-10:\n",
    "        log.info('LOs span exactly the occupied space.')\n",
    "        if no_type not in ['ir','ie']:\n",
    "            log.error('\"no_type\" must be \"ir\" or \"ie\".')\n",
    "            raise ValueError\n",
    "    else:\n",
    "        log.info('LOs span occupied space plus some virtual space.')\n",
    "else:\n",
    "    orbloc = orbactocc\n",
    "# LO assignment to fragments\n",
    "\n",
    "if frag_lolist == '1o':\n",
    "    log.info('Using single-LO fragment') # this is what we use, every active local occ labels a fragment\n",
    "    frag_lolist = [[i] for i in range(orbloc.shape[1])]\n",
    "else: print('Only support single LO fragment!')\n",
    "nfrag = len(frag_lolist)\n",
    "frag_nonvlist = lno_cc.frag_nonvlist\n",
    "\n",
    "# dump info\n",
    "log.info('nfrag = %d  nlo = %d', nfrag, orbloc.shape[1])\n",
    "log.info('frag_atmlist = %s', frag_atmlist)\n",
    "log.info('frag_lolist = %s', frag_lolist)\n",
    "log.info('frag_nonvlist = %s', frag_nonvlist)\n",
    "\n",
    "if not (no_type[0] in 'rei' and no_type[1] in 'rei'):\n",
    "    log.warn('Input no_type \"%s\" is invalid.', no_type)\n",
    "    raise ValueError\n",
    "\n",
    "if frag_nonvlist is None: frag_nonvlist = [[None,None]] * nfrag\n",
    "\n",
    "eris = lno_cc.ao2mo()\n",
    "frozen_mask = lno_cc.get_frozen_mask()\n",
    "thresh_pno = [thresh_occ,thresh_vir]\n",
    "print(f'lno thresh {thresh_pno}')\n",
    "\n",
    "if run_frg_list is None:\n",
    "    run_frg_list = range(nfrag)\n",
    "\n",
    "from jax import random\n",
    "seeds = random.randint(random.PRNGKey(options[\"seed\"]),\n",
    "                    shape=(len(run_frg_list),), minval=0, maxval=100000*nfrag)\n",
    "\n",
    "# for ifrag in run_frg_list:\n",
    "for ifrag in [0]:\n",
    "    print(f'########### running fragment {ifrag+1} ##########')\n",
    "    fraglo = frag_lolist[ifrag]\n",
    "    orbfragloc = orbloc[:,fraglo] # the specific local active occ\n",
    "    frag_target_nocc, frag_target_nvir = frag_nonvlist[ifrag]\n",
    "    THRESH_INTERNAL = 1e-10\n",
    "    frzfrag, orbfrag, can_orbfrag = lno.make_fpno1(lno_cc, eris, orbfragloc, no_type,\n",
    "                                                THRESH_INTERNAL, thresh_pno,\n",
    "                                                frozen_mask=frozen_mask,\n",
    "                                                frag_target_nocc=frag_target_nocc,\n",
    "                                                frag_target_nvir=frag_target_nvir,\n",
    "                                                canonicalize=False)\n",
    "    \n",
    "    mol = mf.mol\n",
    "    nocc = mol.nelectron // 2 \n",
    "    nao = mol.nao\n",
    "    actfrag = np.array([i for i in range(nao) if i not in frzfrag])\n",
    "    frzocc = np.array([i for i in range(nocc) if i in frzfrag])\n",
    "    actocc = np.array([i for i in range(nocc) if i in actfrag])\n",
    "    actvir = np.array([i for i in range(nocc,nao) if i in actfrag])\n",
    "    print(f'# active orbitals: {len(actfrag)} {actfrag}')\n",
    "    print(f'# active occupied orbitals: {len(actocc)} {actocc}')\n",
    "    print(f'# active virtual orbitals: {len(actvir)} {actvir}')\n",
    "    print(f'# frozen orbitals: {len(frzfrag)} {frzfrag}')\n",
    "    s1e = mf.get_ovlp() if eris is None else eris.s1e\n",
    "    prjlo = orbfragloc.T@s1e@orbfrag[:,actocc]\n",
    "        \n",
    "    # if full_cisd:\n",
    "    #     prj_mo2no = lno_ccsd.no2mo(mf.mo_coeff,s1e,orbfrag).T\n",
    "    #     # prj_oo = prj_mo2no[:nocc,:nocc]\n",
    "    #     # prj_vv = prj_mo2no[nocc:,nocc:]\n",
    "    #     prj_oo_act = prj_mo2no[actocc,:nocc]\n",
    "    #     prj_vv_act = prj_mo2no[actvir,nocc:]\n",
    "    #     full_t1 = mycc.t1\n",
    "    #     full_t2 = mycc.t2\n",
    "    #     # t2 in ijab orber\n",
    "    #     # ci2 in iajb order\n",
    "    #     t1 = np.einsum(\"ji,jb,ab->ia\",prj_oo_act.T,full_t1,prj_vv_act)\n",
    "    #     t2 = np.einsum(\"ki,lj,klcd,ac,bd->ijab\",\n",
    "    #                       prj_oo_act.T,prj_oo_act.T,full_t2,prj_vv_act,prj_vv_act)\n",
    "\n",
    "    # else:\n",
    "    #     ecorr_ccsd,t1,t2 \\\n",
    "    #         = lno_ccsd.cc_impurity_solve(\n",
    "    #             mf,orbfrag,orbfragloc,frozen=frzfrag,eris=eris,log=log)\n",
    "    #     print(f'# lno-ccsd correlation energy: {ecorr_ccsd}')\n",
    "    \n",
    "    # nelec_act = len(actocc)*2\n",
    "    # norb_act = len(actfrag)\n",
    "    # print(f'# number of active electrons: {nelec_act}')\n",
    "    # print(f'# number of active orbitals: {norb_act}')\n",
    "    # print(f'# number of frozen orbitals: {len(frzfrag)}')\n",
    "\n",
    "    # ci1 = np.array(t1)        \n",
    "    # ci2 = t2 + np.einsum(\"ia,jb->ijab\", ci1, ci1)\n",
    "    # ci2 = ci2.transpose(0, 2, 1, 3)\n",
    "\n",
    "    # options[\"seed\"] = seeds[ifrag]\n",
    "    # lno_ccsd.prep_lno_amp_chol_file(\n",
    "    #     mf,orbfrag,options,norb_act,nelec_act,prjlo=prjlo,\n",
    "    #     norb_frozen=frzfrag,ci1=ci1,ci2=ci2,use_df_vecs=False)  \n",
    "    "
   ]
  },
  {
   "cell_type": "code",
   "execution_count": 28,
   "id": "8dc2ee19",
   "metadata": {},
   "outputs": [
    {
     "name": "stdout",
     "output_type": "stream",
     "text": [
      "[]\n"
     ]
    }
   ],
   "source": [
    "frz_mo = np.where(np.array(frozen_mask) == False)[0]\n",
    "print(frz_mo)"
   ]
  },
  {
   "cell_type": "code",
   "execution_count": 29,
   "id": "8024fbe8",
   "metadata": {},
   "outputs": [
    {
     "name": "stdout",
     "output_type": "stream",
     "text": [
      "(2, 18)\n",
      "(2, 2, 18, 18)\n"
     ]
    }
   ],
   "source": [
    "full_t1 = mycc.t1\n",
    "full_t2 = mycc.t2\n",
    "print(full_t1.shape)\n",
    "print(full_t2.shape)"
   ]
  },
  {
   "cell_type": "code",
   "execution_count": 30,
   "id": "95a29088",
   "metadata": {},
   "outputs": [
    {
     "name": "stdout",
     "output_type": "stream",
     "text": [
      "[0, 1]\n",
      "[2, 3, 4, 5, 6, 7, 8, 9, 10, 11, 12, 13, 14, 15, 16, 17, 18, 19]\n"
     ]
    }
   ],
   "source": [
    "act_mo_occ = [i for i in range(nocc) if i not in frz_mo]\n",
    "act_mo_vir = [i for i in range(nocc,nao) if i not in frz_mo]\n",
    "print(act_mo_occ)\n",
    "print(act_mo_vir)"
   ]
  },
  {
   "cell_type": "code",
   "execution_count": 43,
   "id": "12f73862",
   "metadata": {},
   "outputs": [
    {
     "name": "stdout",
     "output_type": "stream",
     "text": [
      "[]\n",
      "(2, 2)\n",
      "(18, 16)\n"
     ]
    }
   ],
   "source": [
    "print(frz_mo)\n",
    "act_mo_occ = np.array([i for i in range(nocc) if i not in frz_mo])\n",
    "act_mo_vir = np.array([i for i in range(nocc,nao) if i not in frz_mo])\n",
    "prj_no2mo = lno_ccsd.no2mo(mf.mo_coeff,s1e,orbfrag)\n",
    "prj_oo_act = prj_no2mo[np.ix_(act_mo_occ,actocc)]\n",
    "prj_vv_act = prj_no2mo[np.ix_(act_mo_vir,actvir)]\n",
    "print(prj_oo_act.shape)\n",
    "print(prj_vv_act.shape)\n"
   ]
  },
  {
   "cell_type": "code",
   "execution_count": null,
   "id": "1c5a8120",
   "metadata": {},
   "outputs": [],
   "source": [
    "prj_oo_act = prj_no2mo[act_mo_occ,actocc]"
   ]
  },
  {
   "cell_type": "code",
   "execution_count": 36,
   "id": "b7feb423",
   "metadata": {},
   "outputs": [
    {
     "name": "stdout",
     "output_type": "stream",
     "text": [
      "[-1.00000000e+00 -1.32706346e-16  8.32667256e-17 -2.32591668e-16\n",
      " -7.09120179e-19  3.93849547e-16 -8.99127326e-18 -2.77555760e-17\n",
      " -5.93491359e-16 -1.73472345e-17 -2.01856265e-17 -3.04392705e-17\n",
      "  2.77555756e-17 -1.10583490e-17 -1.87350135e-16 -2.08166817e-16\n",
      "  5.48172618e-16  4.61274795e-17  2.77555756e-16 -1.83607205e-16]\n"
     ]
    }
   ],
   "source": [
    "print(prj_no2mo[1,])"
   ]
  },
  {
   "cell_type": "code",
   "execution_count": 32,
   "id": "da2f7e43",
   "metadata": {},
   "outputs": [
    {
     "name": "stdout",
     "output_type": "stream",
     "text": [
      "(20, 20)\n"
     ]
    },
    {
     "ename": "ValueError",
     "evalue": "Incompatible shapes for broadcasting: shapes=[(18,), (16,)]",
     "output_type": "error",
     "traceback": [
      "\u001b[0;31m---------------------------------------------------------------------------\u001b[0m",
      "\u001b[0;31mValueError\u001b[0m                                Traceback (most recent call last)",
      "    \u001b[0;31m[... skipping hidden 1 frame]\u001b[0m\n",
      "File \u001b[0;32m~/research/software/miniconda3/envs/lno_pyscf_afqmc/lib/python3.10/site-packages/jax/_src/util.py:302\u001b[0m, in \u001b[0;36mcache.<locals>.wrap.<locals>.wrapper\u001b[0;34m(*args, **kwargs)\u001b[0m\n\u001b[1;32m    301\u001b[0m   \u001b[38;5;28;01mreturn\u001b[39;00m f(\u001b[38;5;241m*\u001b[39margs, \u001b[38;5;241m*\u001b[39m\u001b[38;5;241m*\u001b[39mkwargs)\n\u001b[0;32m--> 302\u001b[0m \u001b[38;5;28;01mreturn\u001b[39;00m \u001b[43mcached\u001b[49m\u001b[43m(\u001b[49m\u001b[43mconfig\u001b[49m\u001b[38;5;241;43m.\u001b[39;49m\u001b[43mtrace_context\u001b[49m\u001b[43m(\u001b[49m\u001b[43m)\u001b[49m\u001b[43m \u001b[49m\u001b[38;5;28;43;01mif\u001b[39;49;00m\u001b[43m \u001b[49m\u001b[43mtrace_context_in_key\u001b[49m\u001b[43m \u001b[49m\u001b[38;5;28;43;01melse\u001b[39;49;00m\u001b[43m \u001b[49m\u001b[43m_ignore\u001b[49m\u001b[43m(\u001b[49m\u001b[43m)\u001b[49m\u001b[43m,\u001b[49m\n\u001b[1;32m    303\u001b[0m \u001b[43m              \u001b[49m\u001b[38;5;241;43m*\u001b[39;49m\u001b[43margs\u001b[49m\u001b[43m,\u001b[49m\u001b[43m \u001b[49m\u001b[38;5;241;43m*\u001b[39;49m\u001b[38;5;241;43m*\u001b[39;49m\u001b[43mkwargs\u001b[49m\u001b[43m)\u001b[49m\n",
      "File \u001b[0;32m~/research/software/miniconda3/envs/lno_pyscf_afqmc/lib/python3.10/site-packages/jax/_src/util.py:296\u001b[0m, in \u001b[0;36mcache.<locals>.wrap.<locals>.cached\u001b[0;34m(_, *args, **kwargs)\u001b[0m\n\u001b[1;32m    294\u001b[0m \u001b[38;5;129m@functools\u001b[39m\u001b[38;5;241m.\u001b[39mlru_cache(max_size)\n\u001b[1;32m    295\u001b[0m \u001b[38;5;28;01mdef\u001b[39;00m\u001b[38;5;250m \u001b[39m\u001b[38;5;21mcached\u001b[39m(_, \u001b[38;5;241m*\u001b[39margs, \u001b[38;5;241m*\u001b[39m\u001b[38;5;241m*\u001b[39mkwargs):\n\u001b[0;32m--> 296\u001b[0m   \u001b[38;5;28;01mreturn\u001b[39;00m \u001b[43mf\u001b[49m\u001b[43m(\u001b[49m\u001b[38;5;241;43m*\u001b[39;49m\u001b[43margs\u001b[49m\u001b[43m,\u001b[49m\u001b[43m \u001b[49m\u001b[38;5;241;43m*\u001b[39;49m\u001b[38;5;241;43m*\u001b[39;49m\u001b[43mkwargs\u001b[49m\u001b[43m)\u001b[49m\n",
      "File \u001b[0;32m~/research/software/miniconda3/envs/lno_pyscf_afqmc/lib/python3.10/site-packages/jax/_src/lax/lax.py:155\u001b[0m, in \u001b[0;36m_broadcast_shapes_cached\u001b[0;34m(*shapes)\u001b[0m\n\u001b[1;32m    153\u001b[0m \u001b[38;5;129m@cache\u001b[39m()\n\u001b[1;32m    154\u001b[0m \u001b[38;5;28;01mdef\u001b[39;00m\u001b[38;5;250m \u001b[39m\u001b[38;5;21m_broadcast_shapes_cached\u001b[39m(\u001b[38;5;241m*\u001b[39mshapes: \u001b[38;5;28mtuple\u001b[39m[\u001b[38;5;28mint\u001b[39m, \u001b[38;5;241m.\u001b[39m\u001b[38;5;241m.\u001b[39m\u001b[38;5;241m.\u001b[39m]) \u001b[38;5;241m-\u001b[39m\u001b[38;5;241m>\u001b[39m \u001b[38;5;28mtuple\u001b[39m[\u001b[38;5;28mint\u001b[39m, \u001b[38;5;241m.\u001b[39m\u001b[38;5;241m.\u001b[39m\u001b[38;5;241m.\u001b[39m]:\n\u001b[0;32m--> 155\u001b[0m   \u001b[38;5;28;01mreturn\u001b[39;00m \u001b[43m_broadcast_shapes_uncached\u001b[49m\u001b[43m(\u001b[49m\u001b[38;5;241;43m*\u001b[39;49m\u001b[43mshapes\u001b[49m\u001b[43m)\u001b[49m\n",
      "File \u001b[0;32m~/research/software/miniconda3/envs/lno_pyscf_afqmc/lib/python3.10/site-packages/jax/_src/lax/lax.py:171\u001b[0m, in \u001b[0;36m_broadcast_shapes_uncached\u001b[0;34m(*shapes)\u001b[0m\n\u001b[1;32m    170\u001b[0m \u001b[38;5;28;01mif\u001b[39;00m result_shape \u001b[38;5;129;01mis\u001b[39;00m \u001b[38;5;28;01mNone\u001b[39;00m:\n\u001b[0;32m--> 171\u001b[0m   \u001b[38;5;28;01mraise\u001b[39;00m \u001b[38;5;167;01mValueError\u001b[39;00m(\u001b[38;5;124mf\u001b[39m\u001b[38;5;124m\"\u001b[39m\u001b[38;5;124mIncompatible shapes for broadcasting: shapes=\u001b[39m\u001b[38;5;132;01m{\u001b[39;00m\u001b[38;5;28mlist\u001b[39m(shapes)\u001b[38;5;132;01m}\u001b[39;00m\u001b[38;5;124m\"\u001b[39m)\n\u001b[1;32m    172\u001b[0m \u001b[38;5;28;01mreturn\u001b[39;00m result_shape\n",
      "\u001b[0;31mValueError\u001b[0m: Incompatible shapes for broadcasting: shapes=[(18,), (16,)]",
      "\nDuring handling of the above exception, another exception occurred:\n",
      "\u001b[0;31mValueError\u001b[0m                                Traceback (most recent call last)",
      "Cell \u001b[0;32mIn[32], line 6\u001b[0m\n\u001b[1;32m      4\u001b[0m \u001b[38;5;28mprint\u001b[39m(prj_no2mo\u001b[38;5;241m.\u001b[39mshape)\n\u001b[1;32m      5\u001b[0m prj_oo_act \u001b[38;5;241m=\u001b[39m prj_no2mo[act_mo_occ,actocc]\n\u001b[0;32m----> 6\u001b[0m prj_vv_act \u001b[38;5;241m=\u001b[39m \u001b[43mprj_no2mo\u001b[49m\u001b[43m[\u001b[49m\u001b[43mact_mo_vir\u001b[49m\u001b[43m,\u001b[49m\u001b[43mactvir\u001b[49m\u001b[43m]\u001b[49m\n\u001b[1;32m      7\u001b[0m \u001b[38;5;28mprint\u001b[39m(prj_oo_act\u001b[38;5;241m.\u001b[39mshape)\n\u001b[1;32m      8\u001b[0m \u001b[38;5;28mprint\u001b[39m(prj_vv_act\u001b[38;5;241m.\u001b[39mshape)\n",
      "File \u001b[0;32m~/research/software/miniconda3/envs/lno_pyscf_afqmc/lib/python3.10/site-packages/jax/_src/array.py:370\u001b[0m, in \u001b[0;36mArrayImpl.__getitem__\u001b[0;34m(self, idx)\u001b[0m\n\u001b[1;32m    365\u001b[0m       out \u001b[38;5;241m=\u001b[39m lax\u001b[38;5;241m.\u001b[39msqueeze(out, dimensions\u001b[38;5;241m=\u001b[39mdims)\n\u001b[1;32m    367\u001b[0m     \u001b[38;5;28;01mreturn\u001b[39;00m ArrayImpl(\n\u001b[1;32m    368\u001b[0m         out\u001b[38;5;241m.\u001b[39maval, sharding, [out], committed\u001b[38;5;241m=\u001b[39m\u001b[38;5;28;01mFalse\u001b[39;00m, _skip_checks\u001b[38;5;241m=\u001b[39m\u001b[38;5;28;01mTrue\u001b[39;00m)\n\u001b[0;32m--> 370\u001b[0m \u001b[38;5;28;01mreturn\u001b[39;00m \u001b[43mlax_numpy\u001b[49m\u001b[38;5;241;43m.\u001b[39;49m\u001b[43m_rewriting_take\u001b[49m\u001b[43m(\u001b[49m\u001b[38;5;28;43mself\u001b[39;49m\u001b[43m,\u001b[49m\u001b[43m \u001b[49m\u001b[43midx\u001b[49m\u001b[43m)\u001b[49m\n",
      "File \u001b[0;32m~/research/software/miniconda3/envs/lno_pyscf_afqmc/lib/python3.10/site-packages/jax/_src/numpy/lax_numpy.py:11411\u001b[0m, in \u001b[0;36m_rewriting_take\u001b[0;34m(arr, idx, indices_are_sorted, unique_indices, mode, fill_value)\u001b[0m\n\u001b[1;32m  11408\u001b[0m       \u001b[38;5;28;01mreturn\u001b[39;00m lax\u001b[38;5;241m.\u001b[39mdynamic_index_in_dim(arr, idx, keepdims\u001b[38;5;241m=\u001b[39m\u001b[38;5;28;01mFalse\u001b[39;00m)\n\u001b[1;32m  11410\u001b[0m treedef, static_idx, dynamic_idx \u001b[38;5;241m=\u001b[39m _split_index_for_jit(idx, arr\u001b[38;5;241m.\u001b[39mshape)\n\u001b[0;32m> 11411\u001b[0m \u001b[38;5;28;01mreturn\u001b[39;00m \u001b[43m_gather\u001b[49m\u001b[43m(\u001b[49m\u001b[43marr\u001b[49m\u001b[43m,\u001b[49m\u001b[43m \u001b[49m\u001b[43mtreedef\u001b[49m\u001b[43m,\u001b[49m\u001b[43m \u001b[49m\u001b[43mstatic_idx\u001b[49m\u001b[43m,\u001b[49m\u001b[43m \u001b[49m\u001b[43mdynamic_idx\u001b[49m\u001b[43m,\u001b[49m\u001b[43m \u001b[49m\u001b[43mindices_are_sorted\u001b[49m\u001b[43m,\u001b[49m\n\u001b[1;32m  11412\u001b[0m \u001b[43m               \u001b[49m\u001b[43munique_indices\u001b[49m\u001b[43m,\u001b[49m\u001b[43m \u001b[49m\u001b[43mmode\u001b[49m\u001b[43m,\u001b[49m\u001b[43m \u001b[49m\u001b[43mfill_value\u001b[49m\u001b[43m)\u001b[49m\n",
      "File \u001b[0;32m~/research/software/miniconda3/envs/lno_pyscf_afqmc/lib/python3.10/site-packages/jax/_src/numpy/lax_numpy.py:11420\u001b[0m, in \u001b[0;36m_gather\u001b[0;34m(arr, treedef, static_idx, dynamic_idx, indices_are_sorted, unique_indices, mode, fill_value)\u001b[0m\n\u001b[1;32m  11417\u001b[0m \u001b[38;5;28;01mdef\u001b[39;00m\u001b[38;5;250m \u001b[39m\u001b[38;5;21m_gather\u001b[39m(arr, treedef, static_idx, dynamic_idx, indices_are_sorted,\n\u001b[1;32m  11418\u001b[0m             unique_indices, mode, fill_value):\n\u001b[1;32m  11419\u001b[0m   idx \u001b[38;5;241m=\u001b[39m _merge_static_and_dynamic_indices(treedef, static_idx, dynamic_idx)\n\u001b[0;32m> 11420\u001b[0m   indexer \u001b[38;5;241m=\u001b[39m \u001b[43m_index_to_gather\u001b[49m\u001b[43m(\u001b[49m\u001b[43mshape\u001b[49m\u001b[43m(\u001b[49m\u001b[43marr\u001b[49m\u001b[43m)\u001b[49m\u001b[43m,\u001b[49m\u001b[43m \u001b[49m\u001b[43midx\u001b[49m\u001b[43m)\u001b[49m  \u001b[38;5;66;03m# shared with _scatter_update\u001b[39;00m\n\u001b[1;32m  11421\u001b[0m   y \u001b[38;5;241m=\u001b[39m arr\n\u001b[1;32m  11423\u001b[0m   \u001b[38;5;28;01mif\u001b[39;00m fill_value \u001b[38;5;129;01mis\u001b[39;00m \u001b[38;5;129;01mnot\u001b[39;00m \u001b[38;5;28;01mNone\u001b[39;00m:\n",
      "File \u001b[0;32m~/research/software/miniconda3/envs/lno_pyscf_afqmc/lib/python3.10/site-packages/jax/_src/numpy/lax_numpy.py:11609\u001b[0m, in \u001b[0;36m_index_to_gather\u001b[0;34m(x_shape, idx, normalize_indices)\u001b[0m\n\u001b[1;32m  11602\u001b[0m \u001b[38;5;28;01mfor\u001b[39;00m idx_pos, i \u001b[38;5;129;01min\u001b[39;00m \u001b[38;5;28menumerate\u001b[39m(idx):\n\u001b[1;32m  11603\u001b[0m   \u001b[38;5;66;03m# Handle the advanced indices here if:\u001b[39;00m\n\u001b[1;32m  11604\u001b[0m   \u001b[38;5;66;03m# * the advanced indices were not contiguous and we are the start.\u001b[39;00m\n\u001b[1;32m  11605\u001b[0m   \u001b[38;5;66;03m# * we are at the position of the first advanced index.\u001b[39;00m\n\u001b[1;32m  11606\u001b[0m   \u001b[38;5;28;01mif\u001b[39;00m (advanced_indexes \u001b[38;5;129;01mis\u001b[39;00m \u001b[38;5;129;01mnot\u001b[39;00m \u001b[38;5;28;01mNone\u001b[39;00m \u001b[38;5;129;01mand\u001b[39;00m\n\u001b[1;32m  11607\u001b[0m       (advanced_axes_are_contiguous \u001b[38;5;129;01mand\u001b[39;00m idx_pos \u001b[38;5;241m==\u001b[39m idx_advanced_axes[\u001b[38;5;241m0\u001b[39m] \u001b[38;5;129;01mor\u001b[39;00m\n\u001b[1;32m  11608\u001b[0m        \u001b[38;5;129;01mnot\u001b[39;00m advanced_axes_are_contiguous \u001b[38;5;129;01mand\u001b[39;00m idx_pos \u001b[38;5;241m==\u001b[39m \u001b[38;5;241m0\u001b[39m)):\n\u001b[0;32m> 11609\u001b[0m     advanced_indexes \u001b[38;5;241m=\u001b[39m \u001b[43mbroadcast_arrays\u001b[49m\u001b[43m(\u001b[49m\u001b[38;5;241;43m*\u001b[39;49m\u001b[43madvanced_indexes\u001b[49m\u001b[43m)\u001b[49m\n\u001b[1;32m  11610\u001b[0m     shape \u001b[38;5;241m=\u001b[39m advanced_indexes[\u001b[38;5;241m0\u001b[39m]\u001b[38;5;241m.\u001b[39mshape\n\u001b[1;32m  11611\u001b[0m     ndim \u001b[38;5;241m=\u001b[39m \u001b[38;5;28mlen\u001b[39m(shape)\n",
      "File \u001b[0;32m~/research/software/miniconda3/envs/lno_pyscf_afqmc/lib/python3.10/site-packages/jax/_src/numpy/lax_numpy.py:3170\u001b[0m, in \u001b[0;36mbroadcast_arrays\u001b[0;34m(*args)\u001b[0m\n\u001b[1;32m   3134\u001b[0m \u001b[38;5;28;01mdef\u001b[39;00m\u001b[38;5;250m \u001b[39m\u001b[38;5;21mbroadcast_arrays\u001b[39m(\u001b[38;5;241m*\u001b[39margs: ArrayLike) \u001b[38;5;241m-\u001b[39m\u001b[38;5;241m>\u001b[39m \u001b[38;5;28mlist\u001b[39m[Array]:\n\u001b[1;32m   3135\u001b[0m \u001b[38;5;250m  \u001b[39m\u001b[38;5;124;03m\"\"\"Broadcast arrays to a common shape.\u001b[39;00m\n\u001b[1;32m   3136\u001b[0m \n\u001b[1;32m   3137\u001b[0m \u001b[38;5;124;03m  JAX implementation of :func:`numpy.broadcast_arrays`. JAX uses NumPy-style\u001b[39;00m\n\u001b[0;32m   (...)\u001b[0m\n\u001b[1;32m   3168\u001b[0m \u001b[38;5;124;03m  .. _NumPy broadcasting: https://numpy.org/doc/stable/user/basics.broadcasting.html\u001b[39;00m\n\u001b[1;32m   3169\u001b[0m \u001b[38;5;124;03m  \"\"\"\u001b[39;00m\n\u001b[0;32m-> 3170\u001b[0m   \u001b[38;5;28;01mreturn\u001b[39;00m \u001b[43mutil\u001b[49m\u001b[38;5;241;43m.\u001b[39;49m\u001b[43m_broadcast_arrays\u001b[49m\u001b[43m(\u001b[49m\u001b[38;5;241;43m*\u001b[39;49m\u001b[43margs\u001b[49m\u001b[43m)\u001b[49m\n",
      "    \u001b[0;31m[... skipping hidden 11 frame]\u001b[0m\n",
      "File \u001b[0;32m~/research/software/miniconda3/envs/lno_pyscf_afqmc/lib/python3.10/site-packages/jax/_src/numpy/util.py:388\u001b[0m, in \u001b[0;36m_broadcast_arrays\u001b[0;34m(*args)\u001b[0m\n\u001b[1;32m    386\u001b[0m \u001b[38;5;28;01mif\u001b[39;00m \u001b[38;5;129;01mnot\u001b[39;00m shapes \u001b[38;5;129;01mor\u001b[39;00m \u001b[38;5;28mall\u001b[39m(core\u001b[38;5;241m.\u001b[39mdefinitely_equal_shape(shapes[\u001b[38;5;241m0\u001b[39m], s) \u001b[38;5;28;01mfor\u001b[39;00m s \u001b[38;5;129;01min\u001b[39;00m shapes):\n\u001b[1;32m    387\u001b[0m   \u001b[38;5;28;01mreturn\u001b[39;00m [lax\u001b[38;5;241m.\u001b[39masarray(arg) \u001b[38;5;28;01mfor\u001b[39;00m arg \u001b[38;5;129;01min\u001b[39;00m args]\n\u001b[0;32m--> 388\u001b[0m result_shape \u001b[38;5;241m=\u001b[39m \u001b[43mlax\u001b[49m\u001b[38;5;241;43m.\u001b[39;49m\u001b[43mbroadcast_shapes\u001b[49m\u001b[43m(\u001b[49m\u001b[38;5;241;43m*\u001b[39;49m\u001b[43mshapes\u001b[49m\u001b[43m)\u001b[49m\n\u001b[1;32m    389\u001b[0m \u001b[38;5;28;01mreturn\u001b[39;00m [_broadcast_to(arg, result_shape) \u001b[38;5;28;01mfor\u001b[39;00m arg \u001b[38;5;129;01min\u001b[39;00m args]\n",
      "    \u001b[0;31m[... skipping hidden 1 frame]\u001b[0m\n",
      "File \u001b[0;32m~/research/software/miniconda3/envs/lno_pyscf_afqmc/lib/python3.10/site-packages/jax/_src/lax/lax.py:171\u001b[0m, in \u001b[0;36m_broadcast_shapes_uncached\u001b[0;34m(*shapes)\u001b[0m\n\u001b[1;32m    169\u001b[0m result_shape \u001b[38;5;241m=\u001b[39m _try_broadcast_shapes(shape_list)\n\u001b[1;32m    170\u001b[0m \u001b[38;5;28;01mif\u001b[39;00m result_shape \u001b[38;5;129;01mis\u001b[39;00m \u001b[38;5;28;01mNone\u001b[39;00m:\n\u001b[0;32m--> 171\u001b[0m   \u001b[38;5;28;01mraise\u001b[39;00m \u001b[38;5;167;01mValueError\u001b[39;00m(\u001b[38;5;124mf\u001b[39m\u001b[38;5;124m\"\u001b[39m\u001b[38;5;124mIncompatible shapes for broadcasting: shapes=\u001b[39m\u001b[38;5;132;01m{\u001b[39;00m\u001b[38;5;28mlist\u001b[39m(shapes)\u001b[38;5;132;01m}\u001b[39;00m\u001b[38;5;124m\"\u001b[39m)\n\u001b[1;32m    172\u001b[0m \u001b[38;5;28;01mreturn\u001b[39;00m result_shape\n",
      "\u001b[0;31mValueError\u001b[0m: Incompatible shapes for broadcasting: shapes=[(18,), (16,)]"
     ]
    }
   ],
   "source": [
    "act_mo_occ = np.array([i for i in range(nocc) if i not in frz_mo])\n",
    "act_mo_vir = np.array([i for i in range(nocc,nao) if i not in frz_mo])\n",
    "prj_no2mo = lno_ccsd.no2mo(mf.mo_coeff,s1e,orbfrag)\n",
    "print(prj_no2mo.shape)\n",
    "prj_oo_act = prj_no2mo[act_mo_occ,actocc]\n",
    "prj_vv_act = prj_no2mo[act_mo_vir,actvir]\n",
    "print(prj_oo_act.shape)\n",
    "print(prj_vv_act.shape)"
   ]
  },
  {
   "cell_type": "code",
   "execution_count": null,
   "id": "32612b2c",
   "metadata": {},
   "outputs": [],
   "source": [
    "prj_no2mo = lno_ccsd.no2mo(mf.mo_coeff,s1e,orbfrag)\n",
    "prj_oo_act = prj_no2mo[frozen:nocc,actocc]\n",
    "prj_vv_act = prj_no2mo[nocc:,actvir]\n",
    "full_t1 = mycc.t1\n",
    "full_t2 = mycc.t2\n",
    "# t2 in ijab orber\n",
    "# ci2 in iajb order\n",
    "t1 = np.einsum(\"ij,ia,ba->jb\",prj_oo_act,full_t1,prj_vv_act.T)\n",
    "t2 = np.einsum(\"ik,jl,ijab,db,ca->klcd\",\n",
    "                    prj_oo_act,prj_oo_act,full_t2,prj_vv_act.T,prj_vv_act.T)"
   ]
  },
  {
   "cell_type": "code",
   "execution_count": 45,
   "id": "a9e33a90",
   "metadata": {},
   "outputs": [
    {
     "name": "stdout",
     "output_type": "stream",
     "text": [
      "\n",
      "******** <class 'pyscf.cc.dfccsd.RCCSD'> ********\n",
      "CC2 = 0\n",
      "CCSD nocc = 5, nmo = 50\n",
      "max_cycle = 50\n",
      "direct = 0\n",
      "conv_tol = 1e-07\n",
      "conv_tol_normt = 1e-05\n",
      "diis_space = 6\n",
      "diis_start_cycle = 0\n",
      "diis_start_energy_diff = 1e+09\n",
      "max_memory 4000 MB (current use 376 MB)\n",
      "Init E_corr(RCCSD) = -0.232309707392391\n",
      "cycle = 1  E_corr(RCCSD) = -0.232309697434484  dE = 9.95790714e-09  norm(t1,t2) = 2.03184e-07\n",
      "RCCSD converged\n",
      "E(RCCSD) = -5.587691364956932  E_corr = -0.2323096974344841\n"
     ]
    },
    {
     "data": {
      "text/plain": [
       "-0.23230969743448412"
      ]
     },
     "execution_count": 45,
     "metadata": {},
     "output_type": "execute_result"
    }
   ],
   "source": [
    "mc_no = cc.CCSD(mf,mo_coeff=orbfrag)\n",
    "mc_no.kernel(t1=t1, t2=t2)[0]"
   ]
  },
  {
   "cell_type": "code",
   "execution_count": 38,
   "id": "f6618d93",
   "metadata": {},
   "outputs": [
    {
     "name": "stdout",
     "output_type": "stream",
     "text": [
      "(4, 18)\n",
      "(4, 4, 18, 18)\n"
     ]
    }
   ],
   "source": [
    "print(t1.shape)\n",
    "print(t2.shape)"
   ]
  },
  {
   "cell_type": "code",
   "execution_count": 73,
   "id": "a0441d7b",
   "metadata": {},
   "outputs": [
    {
     "name": "stdout",
     "output_type": "stream",
     "text": [
      "\n",
      "******** <class 'pyscf.cc.dfccsd.RCCSD'> ********\n",
      "CC2 = 0\n",
      "CCSD nocc = 4, nmo = 40\n",
      "max_cycle = 50\n",
      "direct = 0\n",
      "conv_tol = 1e-07\n",
      "conv_tol_normt = 1e-05\n",
      "diis_space = 6\n",
      "diis_start_cycle = 0\n",
      "diis_start_energy_diff = 1e+09\n",
      "max_memory 4000 MB (current use 819 MB)\n",
      "Init E_corr(RCCSD) = -0.173902165045132\n",
      "cycle = 1  E_corr(RCCSD) = -0.173902188225659  dE = -2.31805262e-08  norm(t1,t2) = 4.5547e-07\n",
      "RCCSD converged\n",
      "E(RCCSD) = -4.505126391785148  E_corr = -0.1739021882256587\n"
     ]
    },
    {
     "data": {
      "text/plain": [
       "-0.17390218822565867"
      ]
     },
     "execution_count": 73,
     "metadata": {},
     "output_type": "execute_result"
    }
   ],
   "source": [
    "full_t1 = mycc.t1\n",
    "full_t2 = mycc.t2\n",
    "full_t1_no = np.einsum(\"ji,jb,ab->ia\",prj_oo.T,full_t1,prj_vv)\n",
    "full_t2_no = np.einsum(\"ki,lj,klcd,ac,bd->ijab\",prj_oo.T,prj_oo.T,full_t2,prj_vv,prj_vv)\n",
    "full_ci1 = np.array(full_t1_no)\n",
    "full_ci2 = full_t2_no + np.einsum(\"ia,jb->ijab\", full_ci1, full_ci1)\n",
    "full_ci2 = full_ci2.transpose(0, 2, 1, 3)\n",
    "mc_no = cc.CCSD(mf,mo_coeff=orbfrag)\n",
    "mc_no.kernel(t1=full_t1_no, t2=full_t2_no)[0]"
   ]
  },
  {
   "cell_type": "code",
   "execution_count": 74,
   "id": "24b415ba",
   "metadata": {},
   "outputs": [
    {
     "name": "stdout",
     "output_type": "stream",
     "text": [
      "# Hostname: yichi-thinkpad\n",
      "# System Type: Linux\n",
      "# Machine Type: x86_64\n",
      "# Processor: x86_64\n",
      "# Hostname: yichi-thinkpad\n",
      "# System Type: Linux\n",
      "# Machine Type: x86_64\n",
      "# Processor: x86_64\n",
      "# Number of MPI ranks: 1\n",
      "#\n",
      "# norb: 12\n",
      "# nelec: (2, 2)\n",
      "# nchol: 184\n",
      "#\n",
      "# n_eql: 4\n",
      "# n_ene_blocks: 1\n",
      "# n_sr_blocks: 20\n",
      "# n_blocks: 20\n",
      "# n_walkers: 5\n",
      "# seed: 296021\n",
      "# trial: cisd\n",
      "# walker_type: rhf\n",
      "# dt: 0.005\n",
      "# ene0: 0\n",
      "# n_exp_terms: 6\n",
      "# n_prop_steps: 50\n",
      "# orbital_rotation: True\n",
      "# do_sr: True\n",
      "# symmetry: False\n",
      "# save_walkers: False\n",
      "# free_projection: False\n",
      "# n_batch: 1\n",
      "# use_gpu: False\n",
      "#\n"
     ]
    }
   ],
   "source": [
    "from ad_afqmc import config, wavefunctions\n",
    "from jax import numpy as jnp\n",
    "from jax import random, jit, vmap, jvp, lax\n",
    "from ad_afqmc.lno_ccsd import lno_ccsd\n",
    "import jax\n",
    "\n",
    "config.setup_jax()\n",
    "MPI = config.setup_comm()\n",
    "\n",
    "ham_data, ham, prop, trial, wave_data, sampler, observable, options, _ = (\n",
    "    lno_ccsd.prep_lnoccsd_afqmc())\n",
    "\n",
    "comm = MPI.COMM_WORLD\n",
    "rank = comm.Get_rank()  # Process rank\n",
    "size = comm.Get_size() \n",
    "\n",
    "seed = options[\"seed\"]\n",
    "propagator = prop\n",
    "init_walkers = None\n",
    "ham_data = wavefunctions.rhf(trial.norb, trial.nelec,n_batch=trial.n_batch\n",
    "                                )._build_measurement_intermediates(ham_data, wave_data)\n",
    "ham_data = ham.build_measurement_intermediates(ham_data, trial, wave_data)\n",
    "ham_data = ham.build_propagation_intermediates(ham_data, propagator, trial, wave_data)\n",
    "\n",
    "prop_data = propagator.init_prop_data(trial, wave_data, ham_data, init_walkers)\n",
    "if jnp.abs(jnp.sum(prop_data[\"overlaps\"])) < 1.0e-6:\n",
    "    raise ValueError(\n",
    "        \"Initial overlaps are zero. Pass walkers with non-zero overlap.\"\n",
    "    )\n",
    "prop_data[\"key\"] = random.PRNGKey(seed + rank)\n",
    "\n",
    "prop_data[\"overlaps\"] = trial.calc_overlap(prop_data[\"walkers\"], wave_data)\n",
    "prop_data[\"n_killed_walkers\"] = 0\n",
    "prop_data[\"pop_control_ene_shift\"] = prop_data[\"e_estimate\"]\n",
    "\n",
    "init_walker = prop_data[\"walkers\"][0]"
   ]
  },
  {
   "cell_type": "code",
   "execution_count": 75,
   "id": "5f0ed352",
   "metadata": {},
   "outputs": [
    {
     "name": "stdout",
     "output_type": "stream",
     "text": [
      "40\n",
      "[ 0  1 14 15 16 17 18 19 20 21 22 23 24 25 26 27 28 29 30 31 32 33 34 35\n",
      " 36 37 38 39]\n",
      "[ 2  3  4  5  6  7  8  9 10 11 12 13]\n",
      "[0 1]\n",
      "[2 3]\n"
     ]
    }
   ],
   "source": [
    "nocc = mol.nelectron // 2 \n",
    "nao = mol.nao\n",
    "print(nao)\n",
    "actfrag = np.array(\n",
    "    [i for i in range(nao) if i not in frzfrag])\n",
    "print(frzfrag)\n",
    "print(actfrag)\n",
    "frzocc = np.array(\n",
    "    [i for i in range(nocc) if i in frzfrag])\n",
    "actocc = np.array(\n",
    "    [i for i in range(nocc) if i in actfrag])\n",
    "print(frzocc)\n",
    "print(actocc)"
   ]
  },
  {
   "cell_type": "code",
   "execution_count": 43,
   "id": "6048796d",
   "metadata": {},
   "outputs": [],
   "source": [
    "def no2mo(mo_coeff,s1e,no_coeff):\n",
    "    prj = mo_coeff.T@s1e@no_coeff\n",
    "    return prj\n",
    "\n",
    "def prj_walker(projector,walker,frzocc,actfrag):\n",
    "    p_act = projector[:,actfrag]\n",
    "    walker_act = p_act@walker\n",
    "    if len(frzocc) != 0:\n",
    "        p_frzocc = projector[:,frzocc]\n",
    "        walker_new = jnp.hstack((p_frzocc,walker_act))\n",
    "    else:\n",
    "        walker_new = walker_act\n",
    "\n",
    "    return walker_new\n"
   ]
  },
  {
   "cell_type": "code",
   "execution_count": 18,
   "id": "d154e6b6",
   "metadata": {},
   "outputs": [],
   "source": [
    "def cisd_walker_overlap(walker,ci1,ci2):\n",
    "    nocc = walker.shape[1]\n",
    "    GF = (walker.dot(jnp.linalg.inv(walker[: nocc, :]))).T\n",
    "    o0 = jnp.linalg.det(walker[: nocc, :]) ** 2\n",
    "    o1 = jnp.einsum(\"ia,ia\", ci1, GF[:, nocc:])\n",
    "    o2 = 2 * jnp.einsum(\n",
    "        \"iajb, ia, jb\", ci2, GF[:, nocc:], GF[:, nocc:]\n",
    "    ) - jnp.einsum(\"iajb, ib, ja\", ci2, GF[:, nocc:], GF[:, nocc:])\n",
    "    return (1.0 + 2 * o1 + o2) * o0\n",
    "\n",
    "def cisd_walker_overlap_ratio(walker,ci1,ci2):\n",
    "    nocc = walker.shape[1]\n",
    "    GF = (walker.dot(jnp.linalg.inv(walker[: nocc, :]))).T\n",
    "    # o0 = jnp.linalg.det(walker[: nocc, :]) ** 2\n",
    "    o1 = jnp.einsum(\"ia,ia\", ci1, GF[:, nocc:])\n",
    "    o2 = 2 * jnp.einsum(\n",
    "        \"iajb, ia, jb\", ci2, GF[:, nocc:], GF[:, nocc:]\n",
    "    ) - jnp.einsum(\"iajb, ib, ja\", ci2, GF[:, nocc:], GF[:, nocc:])\n",
    "    return 1/(1.0 + 2 * o1 + o2)\n",
    "\n",
    "def full_cisd_walker_overlap(walker,ci1,ci2):\n",
    "    \n",
    "    nocc = walker.shape[1]\n",
    "    GF = (walker.dot(jnp.linalg.inv(walker[: nocc, :]))).T\n",
    "    o0 = jnp.linalg.det(walker[: nocc, :]) ** 2\n",
    "    o1 = jnp.einsum(\"ia,ia\", ci1, GF[:, nocc:])\n",
    "    o2 = 2 * jnp.einsum(\n",
    "        \"iajb, ia, jb\", ci2, GF[:, nocc:], GF[:, nocc:]\n",
    "    ) - jnp.einsum(\"iajb, ib, ja\", ci2, GF[:, nocc:], GF[:, nocc:])\n",
    "    return (1.0 + 2 * o1 + o2) * o0"
   ]
  },
  {
   "cell_type": "code",
   "execution_count": null,
   "id": "f3458a00",
   "metadata": {},
   "outputs": [],
   "source": [
    "def _frg_mod_ccsd_olp2(walker: jax.Array, wave_data: dict) -> complex:\n",
    "    '''\n",
    "    <psi_ccsd|walker>=<psi_0|walker>+C_ia^*G_ia+C_iajb^*(G_iaG_jb-G_ibG_ja)\n",
    "    modified CCSD overlap returns the second and the third term\n",
    "    that is, the overlap of the walker with the CCSD wavefunction\n",
    "    without the hartree-fock part\n",
    "    and skip one sum over the occ\n",
    "    '''\n",
    "    # prjlo = wave_data[\"prjlo\"].reshape(walker.shape[1])\n",
    "    m = jnp.dot(wave_data[\"prjlo\"].T,wave_data[\"prjlo\"])\n",
    "    nocc, ci1, ci2 = walker.shape[1], wave_data[\"full_ci1\"], wave_data[\"full_ci2\"]\n",
    "    gf = (walker.dot(jnp.linalg.inv(walker[: walker.shape[1], :]))).T\n",
    "    o0 = jnp.linalg.det(walker[: nocc, :]) ** 2\n",
    "    \n",
    "    o1 = jnp.einsum(\"ia,ka,ik->\", ci1, gf[:, nocc:],m)\n",
    "    o2 = 2 * jnp.einsum(\"iajb,ka,jb,ik->\", ci2, gf[:, nocc:], gf[:, nocc:],m) \\\n",
    "        - jnp.einsum(\"iajb,kb,ja,ik->\", ci2, gf[:, nocc:], gf[:, nocc:],m)\n",
    "    olp = (2*o1+o2)*o0\n",
    "    # olp_i = jnp.einsum(\"i,i->\", olp, pick_i)\n",
    "    return olp"
   ]
  },
  {
   "cell_type": "code",
   "execution_count": 76,
   "id": "f147f283",
   "metadata": {},
   "outputs": [
    {
     "name": "stdout",
     "output_type": "stream",
     "text": [
      "-4.39617965082072 5.006703695239711\n"
     ]
    }
   ],
   "source": [
    "prop_data, (blk_e, blk_wt)\\\n",
    "    = sampler._block_scan(prop_data,None,ham_data,prop,trial,wave_data)\n",
    "print(blk_e,blk_wt)"
   ]
  },
  {
   "cell_type": "code",
   "execution_count": 77,
   "id": "0279895e",
   "metadata": {},
   "outputs": [
    {
     "name": "stdout",
     "output_type": "stream",
     "text": [
      "[[-2.73884231e-02+0.00372321j  9.91077098e-01-0.0977019j ]\n",
      " [-9.58816243e-01-0.10180332j -1.67284583e-02-0.00692188j]\n",
      " [ 5.20185869e-03-0.04353126j -4.70182700e-03-0.05134089j]\n",
      " [ 2.84551884e-03+0.05418152j -4.04917627e-04-0.02912197j]\n",
      " [ 1.97660352e-02+0.04373476j -1.77426500e-03-0.02989733j]\n",
      " [ 1.72833437e-02-0.10546156j -1.47756918e-03-0.01604573j]\n",
      " [ 2.12459380e-02-0.13308867j -2.03663740e-04-0.02754648j]\n",
      " [-1.22835740e-02+0.10767316j  6.81215573e-03+0.02228497j]\n",
      " [ 1.52360158e-02-0.02056734j -4.09440182e-03-0.03186463j]\n",
      " [-3.91432851e-02+0.07184061j -7.09684967e-03+0.02024532j]\n",
      " [ 1.28483929e-02-0.11148736j -2.28841335e-03-0.01469083j]\n",
      " [ 2.19263097e-02+0.02492758j -1.28011057e-02+0.00712175j]]\n",
      "(12, 2)\n"
     ]
    }
   ],
   "source": [
    "walker = prop_data[\"walkers\"][0]\n",
    "print(walker)\n",
    "print(walker.shape)"
   ]
  },
  {
   "cell_type": "code",
   "execution_count": 78,
   "id": "78c4d360",
   "metadata": {},
   "outputs": [
    {
     "name": "stdout",
     "output_type": "stream",
     "text": [
      "[[ 1.00000000e+00+0.j          0.00000000e+00+0.j\n",
      "   0.00000000e+00+0.j          0.00000000e+00+0.j        ]\n",
      " [ 0.00000000e+00+0.j          1.00000000e+00+0.j\n",
      "   0.00000000e+00+0.j          0.00000000e+00+0.j        ]\n",
      " [ 0.00000000e+00+0.j          0.00000000e+00+0.j\n",
      "  -2.73884231e-02+0.00372321j  9.91077098e-01-0.0977019j ]\n",
      " [ 0.00000000e+00+0.j          0.00000000e+00+0.j\n",
      "  -9.58816243e-01-0.10180332j -1.67284583e-02-0.00692188j]\n",
      " [ 0.00000000e+00+0.j          0.00000000e+00+0.j\n",
      "   5.20185869e-03-0.04353126j -4.70182700e-03-0.05134089j]\n",
      " [ 0.00000000e+00+0.j          0.00000000e+00+0.j\n",
      "   2.84551884e-03+0.05418152j -4.04917627e-04-0.02912197j]\n",
      " [ 0.00000000e+00+0.j          0.00000000e+00+0.j\n",
      "   1.97660352e-02+0.04373476j -1.77426500e-03-0.02989733j]\n",
      " [ 0.00000000e+00+0.j          0.00000000e+00+0.j\n",
      "   1.72833437e-02-0.10546156j -1.47756918e-03-0.01604573j]\n",
      " [ 0.00000000e+00+0.j          0.00000000e+00+0.j\n",
      "   2.12459380e-02-0.13308867j -2.03663740e-04-0.02754648j]\n",
      " [ 0.00000000e+00+0.j          0.00000000e+00+0.j\n",
      "  -1.22835740e-02+0.10767316j  6.81215573e-03+0.02228497j]\n",
      " [ 0.00000000e+00+0.j          0.00000000e+00+0.j\n",
      "   1.52360158e-02-0.02056734j -4.09440182e-03-0.03186463j]\n",
      " [ 0.00000000e+00+0.j          0.00000000e+00+0.j\n",
      "  -3.91432851e-02+0.07184061j -7.09684967e-03+0.02024532j]\n",
      " [ 0.00000000e+00+0.j          0.00000000e+00+0.j\n",
      "   1.28483929e-02-0.11148736j -2.28841335e-03-0.01469083j]\n",
      " [ 0.00000000e+00+0.j          0.00000000e+00+0.j\n",
      "   2.19263097e-02+0.02492758j -1.28011057e-02+0.00712175j]\n",
      " [ 0.00000000e+00+0.j          0.00000000e+00+0.j\n",
      "   0.00000000e+00+0.j          0.00000000e+00+0.j        ]\n",
      " [ 0.00000000e+00+0.j          0.00000000e+00+0.j\n",
      "   0.00000000e+00+0.j          0.00000000e+00+0.j        ]\n",
      " [ 0.00000000e+00+0.j          0.00000000e+00+0.j\n",
      "   0.00000000e+00+0.j          0.00000000e+00+0.j        ]\n",
      " [ 0.00000000e+00+0.j          0.00000000e+00+0.j\n",
      "   0.00000000e+00+0.j          0.00000000e+00+0.j        ]\n",
      " [ 0.00000000e+00+0.j          0.00000000e+00+0.j\n",
      "   0.00000000e+00+0.j          0.00000000e+00+0.j        ]\n",
      " [ 0.00000000e+00+0.j          0.00000000e+00+0.j\n",
      "   0.00000000e+00+0.j          0.00000000e+00+0.j        ]\n",
      " [ 0.00000000e+00+0.j          0.00000000e+00+0.j\n",
      "   0.00000000e+00+0.j          0.00000000e+00+0.j        ]\n",
      " [ 0.00000000e+00+0.j          0.00000000e+00+0.j\n",
      "   0.00000000e+00+0.j          0.00000000e+00+0.j        ]\n",
      " [ 0.00000000e+00+0.j          0.00000000e+00+0.j\n",
      "   0.00000000e+00+0.j          0.00000000e+00+0.j        ]\n",
      " [ 0.00000000e+00+0.j          0.00000000e+00+0.j\n",
      "   0.00000000e+00+0.j          0.00000000e+00+0.j        ]\n",
      " [ 0.00000000e+00+0.j          0.00000000e+00+0.j\n",
      "   0.00000000e+00+0.j          0.00000000e+00+0.j        ]\n",
      " [ 0.00000000e+00+0.j          0.00000000e+00+0.j\n",
      "   0.00000000e+00+0.j          0.00000000e+00+0.j        ]\n",
      " [ 0.00000000e+00+0.j          0.00000000e+00+0.j\n",
      "   0.00000000e+00+0.j          0.00000000e+00+0.j        ]\n",
      " [ 0.00000000e+00+0.j          0.00000000e+00+0.j\n",
      "   0.00000000e+00+0.j          0.00000000e+00+0.j        ]\n",
      " [ 0.00000000e+00+0.j          0.00000000e+00+0.j\n",
      "   0.00000000e+00+0.j          0.00000000e+00+0.j        ]\n",
      " [ 0.00000000e+00+0.j          0.00000000e+00+0.j\n",
      "   0.00000000e+00+0.j          0.00000000e+00+0.j        ]\n",
      " [ 0.00000000e+00+0.j          0.00000000e+00+0.j\n",
      "   0.00000000e+00+0.j          0.00000000e+00+0.j        ]\n",
      " [ 0.00000000e+00+0.j          0.00000000e+00+0.j\n",
      "   0.00000000e+00+0.j          0.00000000e+00+0.j        ]\n",
      " [ 0.00000000e+00+0.j          0.00000000e+00+0.j\n",
      "   0.00000000e+00+0.j          0.00000000e+00+0.j        ]\n",
      " [ 0.00000000e+00+0.j          0.00000000e+00+0.j\n",
      "   0.00000000e+00+0.j          0.00000000e+00+0.j        ]\n",
      " [ 0.00000000e+00+0.j          0.00000000e+00+0.j\n",
      "   0.00000000e+00+0.j          0.00000000e+00+0.j        ]\n",
      " [ 0.00000000e+00+0.j          0.00000000e+00+0.j\n",
      "   0.00000000e+00+0.j          0.00000000e+00+0.j        ]\n",
      " [ 0.00000000e+00+0.j          0.00000000e+00+0.j\n",
      "   0.00000000e+00+0.j          0.00000000e+00+0.j        ]\n",
      " [ 0.00000000e+00+0.j          0.00000000e+00+0.j\n",
      "   0.00000000e+00+0.j          0.00000000e+00+0.j        ]\n",
      " [ 0.00000000e+00+0.j          0.00000000e+00+0.j\n",
      "   0.00000000e+00+0.j          0.00000000e+00+0.j        ]\n",
      " [ 0.00000000e+00+0.j          0.00000000e+00+0.j\n",
      "   0.00000000e+00+0.j          0.00000000e+00+0.j        ]]\n",
      "(40, 4)\n"
     ]
    }
   ],
   "source": [
    "prj_w = np.eye(nao)\n",
    "walker_t = prj_walker(prj_w, walker, frzocc, actfrag)\n",
    "print(walker_t)\n",
    "print(walker_t.shape)"
   ]
  },
  {
   "cell_type": "code",
   "execution_count": 79,
   "id": "4aa3a856",
   "metadata": {},
   "outputs": [
    {
     "name": "stdout",
     "output_type": "stream",
     "text": [
      "(0.9250873359675061+0.009700266067914782j)\n",
      "(0.9250873359675064+0.009700266067914817j)\n"
     ]
    }
   ],
   "source": [
    "full_olp = cisd_walker_overlap(walker_t, full_ci1, full_ci2)\n",
    "olp = trial._calc_overlap_restricted(walker, wave_data)\n",
    "print(full_olp)\n",
    "print(olp)"
   ]
  },
  {
   "cell_type": "code",
   "execution_count": null,
   "id": "b50f06d7",
   "metadata": {},
   "outputs": [],
   "source": [
    "## make ccsd lno ###"
   ]
  },
  {
   "cell_type": "code",
   "execution_count": 80,
   "id": "c5005de4",
   "metadata": {},
   "outputs": [],
   "source": [
    "lno_cc = LNOCCSD(mf, thresh=thresh, frozen=frozen)\n",
    "lno_cc.thresh_occ = thresh_occ\n",
    "lno_cc.thresh_vir = thresh_vir\n",
    "lno_cc.lo_type = lo_type\n",
    "lno_cc.no_type = no_type\n",
    "lno_cc.frag_lolist = frag_lolist\n",
    "lno_cc.ccsd_t = True\n",
    "lno_cc.force_outcore_ao2mo = True\n",
    "orbocc0, orbocc1, orbvir1, orbvir0 = lno_cc.split_mo()"
   ]
  },
  {
   "cell_type": "code",
   "execution_count": 83,
   "id": "904be960",
   "metadata": {},
   "outputs": [
    {
     "name": "stdout",
     "output_type": "stream",
     "text": [
      "(40, 4)\n"
     ]
    }
   ],
   "source": [
    "print(orbocc1.shape)"
   ]
  },
  {
   "cell_type": "code",
   "execution_count": 86,
   "id": "df31b88a",
   "metadata": {},
   "outputs": [
    {
     "data": {
      "text/plain": [
       "'e'"
      ]
     },
     "execution_count": 86,
     "metadata": {},
     "output_type": "execute_result"
    }
   ],
   "source": [
    "no_type[1]"
   ]
  },
  {
   "cell_type": "code",
   "execution_count": null,
   "id": "1a26f0c5",
   "metadata": {},
   "outputs": [],
   "source": [
    "def make_fpno1(mfcc, eris, orbfragloc, no_type, thresh_internal, thresh_external,\n",
    "               frag_target_nocc=None, frag_target_nvir=None,canonicalize=True):\n",
    "    log = logger.Logger(mfcc.stdout, mfcc.verbose)\n",
    "    mf = mfcc._scf\n",
    "    nocc = np.count_nonzero(mf.mo_occ>1e-10)\n",
    "    nmo = mf.mo_occ.size\n",
    "    orbocc0, orbocc1, orbvir1, orbvir0 = mfcc.split_mo() # frz_occ, act_occ, act_vir, frz_vir\n",
    "    moeocc0, moeocc1, moevir1, moevir0 = mfcc.split_moe() # split energy\n",
    "\n",
    "    s1e = eris.s1e # if eris.s1e is None else mf.get_ovlp()\n",
    "    fock = eris.fock # if eris.fock is None else mf.get_fock()\n",
    "    Lov = eris.Lov\n",
    "    # chosen loc_orb overlap with act_vir\n",
    "    lovir = abs(fdot(orbfragloc.T, s1e, orbvir1)).max() > 1e-10\n",
    "\n",
    "    if isinstance(thresh_external, float):\n",
    "        thresh_ext_occ = thresh_ext_vir = thresh_external\n",
    "    else:\n",
    "        thresh_ext_occ, thresh_ext_vir  = thresh_external\n",
    "\n",
    "    # sanity check for no_type:\n",
    "    if not lovir and no_type[0] != 'i':\n",
    "        log.warn('Input LOs span only occ but input no_type[0] is not \"i\".')\n",
    "        raise ValueError\n",
    "    if not lovir and no_type[1] == 'i':\n",
    "        log.warn('Input LOs span only occ but input no_type[1] is \"i\".')\n",
    "        raise ValueError\n",
    "\n",
    "    # split active occ/vir into internal(1) and external(2)\n",
    "    m = fdot(orbfragloc.T, s1e, orbocc1) # overlap with all loc act_occs\n",
    "    uocc1, uocc2 = lno.projection_construction(m, thresh_internal)\n",
    "    moefragocc1, orbfragocc1 = lno.subspace_eigh(fock, fdot(orbocc1, uocc1))\n",
    "    if lovir:\n",
    "        m = fdot(orbfragloc.T, s1e, orbvir1)\n",
    "        uvir1, uvir2 = lno.projection_construction(m, thresh_internal)\n",
    "        moefragvir1, orbfragvir1 = lno.subspace_eigh(fock, fdot(orbvir1, uvir1))\n",
    "\n",
    "    def moe_Ov(moefragocc):\n",
    "        return (moefragocc[:,None] - moevir1).reshape(-1)\n",
    "    def moe_oV(moefragvir):\n",
    "        return (moeocc1[:,None] - moefragvir).reshape(-1)\n",
    "    eov = moe_Ov(moeocc1)\n",
    "    # Construct PT2 dm_vv\n",
    "    if no_type[1] == 'r':   # OvOv: IaJc,IbJc->ab\n",
    "        u = fdot(orbocc1.T, s1e, orbfragocc1)\n",
    "        ovov = eris.get_OvOv(u)\n",
    "        eia = ejb = moe_Ov(moefragocc1)\n",
    "        e1_or_e2 = 'e1'\n",
    "        swapidx = 'ab'\n",
    "    elif no_type[1] == 'e': # Ovov: Iajc,Ibjc->ab\n",
    "        u = fdot(orbocc1.T, s1e, orbfragocc1)\n",
    "        ovov = eris.get_Ovov(u)\n",
    "        eia = moe_Ov(moefragocc1)\n",
    "        Ljb = Lov\n",
    "        ejb = eov\n",
    "        e1_or_e2 = 'e1'\n",
    "        swapidx = 'ab'\n",
    "    else:                   # oVov: iCja,iCjb->ab\n",
    "        u = fdot(orbvir1.T, s1e, orbfragvir1)\n",
    "        ovov = eris.get_oVov(u)\n",
    "        eia = moe_oV(moefragvir1)\n",
    "        Ljb = Lov\n",
    "        ejb = eov\n",
    "        e1_or_e2 = 'e2'\n",
    "        swapidx = 'ij'\n",
    "\n",
    "    eiajb = (eia[:,None]+ejb).reshape(*ovov.shape)\n",
    "    t2 = ovov / eiajb\n",
    "\n",
    "    dmvv = lno.make_rdm1_mp2(t2, 'vv', e1_or_e2, swapidx)\n",
    "   \n",
    "    if lovir:\n",
    "        dmvv = fdot(uvir2.T, dmvv, uvir2)\n",
    "\n",
    "    Lia = Ljb = ovov = eiajb = None\n",
    "    # Construct PT2 dm_oo\n",
    "    if no_type in ['ie','ei']: # ie/ei share same t2\n",
    "        if no_type[0] == 'e':   # oVov: iAkb,jAkb->ij\n",
    "            e1_or_e2 = 'e1'\n",
    "            swapidx = 'ij'\n",
    "        else:                   # Ovov: Kaib,Kajb->ij\n",
    "            e1_or_e2 = 'e2'\n",
    "            swapidx = 'ab'\n",
    "    else:\n",
    "        t2 = None\n",
    "\n",
    "        if no_type[0] == 'r':   # oVoV: iAkB,jAkB->ij\n",
    "            u = fdot(orbvir1.T, s1e, orbfragvir1)\n",
    "            ovov = eris.get_oVoV(u)\n",
    "            eia = ejb = moe_oV(moefragvir1)\n",
    "            e1_or_e2 = 'e1'\n",
    "            swapidx = 'ab'\n",
    "        elif no_type[0] == 'e': # oVov: iAkb,jAkb->ij\n",
    "            u = fdot(orbvir1.T, s1e, orbfragvir1)\n",
    "            ovov = eris.get_oVov(u)\n",
    "            eia = moe_oV(moefragvir1)\n",
    "            Ljb = Lov\n",
    "            ejb = eov\n",
    "            e1_or_e2 = 'e1'\n",
    "            swapidx = 'ij'\n",
    "        else:                   # Ovov: Kaib,Kajb->ij\n",
    "            u = fdot(orbocc1.T, s1e, orbfragocc1)\n",
    "            ovov = eris.get_Ovov(u)\n",
    "            eia = moe_Ov(moefragocc1)\n",
    "            Ljb = Lov\n",
    "            ejb = eov\n",
    "            e1_or_e2 = 'e2'\n",
    "            swapidx = 'ab'\n",
    "\n",
    "        eiajb = (eia[:,None]+ejb).reshape(*ovov.shape)\n",
    "        t2 = ovov / eiajb\n",
    "\n",
    "        Lia = Ljb = ovov = eiajb = None\n",
    "\n",
    "    dmoo = make_rdm1_mp2(t2, 'oo', e1_or_e2, swapidx)\n",
    "    dmoo = fdot(uocc2.T, dmoo, uocc2)\n",
    "\n",
    "    t2 = None\n",
    "    # Compress external space by PNO\n",
    "    \n",
    "    if frag_target_nocc is not None: frag_target_nocc -= orbfragocc1.shape[1]\n",
    "    orbfragocc2, orbfragocc0 = natorb_compression(dmoo, orbocc1, thresh_ext_occ,\n",
    "                                                  uocc2, frag_target_nocc)\n",
    "#    if (canonicalize): orbfragocc12 = subspace_eigh(fock, np.hstack([orbfragocc2, orbfragocc1]))[1]\n",
    "#    else: orbfragocc12 = np.hstack([orbfragocc2, orbfragocc1])\n",
    "    can_orbfragocc12 = subspace_eigh(fock, np.hstack([orbfragocc2, orbfragocc1]))[1]\n",
    "    orbfragocc12 = np.hstack([orbfragocc2, orbfragocc1])\n",
    "    if lovir:\n",
    "        \n",
    "        if frag_target_nvir is not None: frag_target_nvir -= orbfragvir1.shape[1]\n",
    "        orbfragvir2, orbfragvir0 = natorb_compression(dmvv, orbvir1, thresh_ext_vir,\n",
    "                                                      uvir2, frag_target_nvir)\n",
    "        #if (canonicalize): orbfragvir12 = subspace_eigh(fock, np.hstack([orbfragvir2, orbfragvir1]))[1]\n",
    "        #else: orbfragvir12 = np.hstack([orbfragvir2, orbfragvir1])\n",
    "        can_orbfragvir12 = subspace_eigh(fock, np.hstack([orbfragvir2, orbfragvir1]))[1]\n",
    "        orbfragvir12 = np.hstack([orbfragvir2, orbfragvir1])\n",
    "    else: \n",
    "        orbfragvir2, orbfragvir0 = natorb_compression(dmvv, orbvir1, thresh_ext_vir,\n",
    "                                                      None, frag_target_nvir)\n",
    "        #if (canonicalize): orbfragvir12 = subspace_eigh(fock, orbfragvir2)[1]\n",
    "        #else: orbfragvir12 = orbfragvir2\n",
    "        can_orbfragvir12 = subspace_eigh(fock, orbfragvir2)[1]\n",
    "        orbfragvir12 = orbfragvir2\n",
    "\n",
    "    orbfrag = np.hstack([orbocc0, orbfragocc0, orbfragocc12,\n",
    "                         orbfragvir12, orbfragvir0, orbvir0])\n",
    "    can_orbfrag = np.hstack([orbocc0, orbfragocc0, can_orbfragocc12,\n",
    "                        can_orbfragvir12, orbfragvir0, orbvir0])\n",
    "    \n",
    "    frzfrag = np.hstack([np.arange(orbocc0.shape[1]+orbfragocc0.shape[1]),\n",
    "                         np.arange(nocc+orbfragvir12.shape[1],nmo)])\n",
    "\n",
    "    #return frzfrag, orbfrag\n",
    "    #import pdb;pdb.set_trace()\n",
    "    if(canonicalize==True): return frzfrag, can_orbfrag, can_orbfrag \n",
    "    else: return frzfrag, orbfrag , can_orbfrag"
   ]
  }
 ],
 "metadata": {
  "kernelspec": {
   "display_name": "lno_pyscf_afqmc",
   "language": "python",
   "name": "python3"
  },
  "language_info": {
   "codemirror_mode": {
    "name": "ipython",
    "version": 3
   },
   "file_extension": ".py",
   "mimetype": "text/x-python",
   "name": "python",
   "nbconvert_exporter": "python",
   "pygments_lexer": "ipython3",
   "version": "3.10.16"
  }
 },
 "nbformat": 4,
 "nbformat_minor": 5
}
