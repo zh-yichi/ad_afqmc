{
 "cells": [
  {
   "cell_type": "code",
   "execution_count": 1,
   "id": "47a47fec",
   "metadata": {},
   "outputs": [
    {
     "name": "stdout",
     "output_type": "stream",
     "text": [
      "System: uname_result(system='Linux', node='yichi-thinkpad', release='4.4.0-26100-Microsoft', version='#1882-Microsoft Fri Jan 01 08:00:00 PST 2016', machine='x86_64')  Threads 12\n",
      "Python 3.10.16 | packaged by conda-forge | (main, Dec  5 2024, 14:16:10) [GCC 13.3.0]\n",
      "numpy 1.24.3  scipy 1.14.1  h5py 3.12.1\n",
      "Date: Mon Aug  4 22:51:01 2025\n",
      "PySCF version 2.8.0\n",
      "PySCF path  /home/yichi/research/software/lno_pyscf\n",
      "GIT HEAD (branch master) ef75f4190e4de208685670651dc6c467f72b6794\n",
      "\n",
      "[ENV] PYSCF_EXT_PATH /home/yichi/research/software/pyscf\n",
      "[CONFIG] conf_file None\n",
      "[INPUT] verbose = 4\n",
      "[INPUT] num. atoms = 10\n",
      "[INPUT] num. electrons = 10\n",
      "[INPUT] charge = 0\n",
      "[INPUT] spin (= nelec alpha-beta = 2S) = 0\n",
      "[INPUT] symmetry False subgroup None\n",
      "[INPUT] Mole.unit = angstrom\n",
      "[INPUT] Symbol           X                Y                Z      unit          X                Y                Z       unit  Magmom\n",
      "[INPUT]  1 H      0.000000000000   0.000000000000   0.000000000000 AA    0.000000000000   0.000000000000   0.000000000000 Bohr   0.0\n",
      "[INPUT]  2 H      1.000000000000   0.000000000000   0.000000000000 AA    1.889726124565   0.000000000000   0.000000000000 Bohr   0.0\n",
      "[INPUT]  3 H      2.000000000000   0.000000000000   0.000000000000 AA    3.779452249130   0.000000000000   0.000000000000 Bohr   0.0\n",
      "[INPUT]  4 H      3.000000000000   0.000000000000   0.000000000000 AA    5.669178373695   0.000000000000   0.000000000000 Bohr   0.0\n",
      "[INPUT]  5 H      4.000000000000   0.000000000000   0.000000000000 AA    7.558904498260   0.000000000000   0.000000000000 Bohr   0.0\n",
      "[INPUT]  6 H      5.000000000000   0.000000000000   0.000000000000 AA    9.448630622825   0.000000000000   0.000000000000 Bohr   0.0\n",
      "[INPUT]  7 H      6.000000000000   0.000000000000   0.000000000000 AA   11.338356747390   0.000000000000   0.000000000000 Bohr   0.0\n",
      "[INPUT]  8 H      7.000000000000   0.000000000000   0.000000000000 AA   13.228082871955   0.000000000000   0.000000000000 Bohr   0.0\n",
      "[INPUT]  9 H      8.000000000000   0.000000000000   0.000000000000 AA   15.117808996520   0.000000000000   0.000000000000 Bohr   0.0\n",
      "[INPUT] 10 H      9.000000000000   0.000000000000   0.000000000000 AA   17.007535121086   0.000000000000   0.000000000000 Bohr   0.0\n",
      "\n",
      "nuclear repulsion = 10.2076604058814\n",
      "number of shells = 10\n",
      "number of NR pGTOs = 60\n",
      "number of NR cGTOs = 10\n",
      "basis = sto6g\n",
      "ecp = {}\n",
      "CPU time:         5.94\n",
      "\n",
      "\n",
      "******** <class 'pyscf.df.df_jk.DFRHF'> ********\n",
      "method = DFRHF\n",
      "initial guess = minao\n",
      "damping factor = 0\n",
      "level_shift factor = 0\n",
      "DIIS = <class 'pyscf.scf.diis.CDIIS'>\n",
      "diis_start_cycle = 1\n",
      "diis_space = 8\n",
      "diis_damp = 0\n",
      "SCF conv_tol = 1e-09\n",
      "SCF conv_tol_grad = None\n",
      "SCF max_cycles = 50\n",
      "direct_scf = False\n",
      "chkfile to save SCF result = /tmp/tmpdbbzcoe7\n",
      "max_memory 4000 MB (current use 162 MB)\n",
      "Set gradient conv threshold to 3.16228e-05\n",
      "Initial guess from minao.\n",
      "******** <class 'pyscf.df.df.DF'> ********\n",
      "auxbasis = None\n",
      "max_memory = 4000\n",
      "ETB for H: l = 0, exps = 0.200224856 * 2^n , n = 0..8\n",
      "\n",
      "WARN: Even tempered Gaussians are generated as DF auxbasis for  H\n",
      "\n",
      "init E= -4.16247989776679\n",
      "  HOMO = -0.143333294554415  LUMO = 0.0777539909476831\n",
      "cycle= 1 E= -5.23268311405475  delta_E= -1.07  |g|= 0.127  |ddm|= 2.26\n",
      "  HOMO = -0.255531209164802  LUMO = 0.134258263865683\n",
      "cycle= 2 E= -5.24699673894579  delta_E= -0.0143  |g|= 0.057  |ddm|= 0.341\n",
      "  HOMO = -0.266117832608071  LUMO = 0.161373699495237\n",
      "cycle= 3 E= -5.25060030905286  delta_E= -0.0036  |g|= 0.0127  |ddm|=  0.2\n",
      "  HOMO = -0.273485255806747  LUMO = 0.162701103978054\n",
      "cycle= 4 E= -5.25076762137456  delta_E= -0.000167  |g|= 0.00111  |ddm|= 0.0538\n",
      "  HOMO = -0.273117898273721  LUMO = 0.162779495824593\n",
      "cycle= 5 E= -5.2507684100517  delta_E= -7.89e-07  |g|= 0.000248  |ddm|= 0.00213\n",
      "  HOMO = -0.273160126772235  LUMO = 0.162799392316606\n",
      "cycle= 6 E= -5.25076844901437  delta_E= -3.9e-08  |g|= 2.86e-05  |ddm|= 0.000621\n",
      "  HOMO = -0.273179034601933  LUMO = 0.162814583903582\n",
      "cycle= 7 E= -5.2507684499474  delta_E= -9.33e-10  |g|= 2.82e-06  |ddm|= 0.000134\n",
      "  HOMO = -0.273177091278774  LUMO = 0.162813313908576\n",
      "Extra cycle  E= -5.25076844995412  delta_E= -6.72e-12  |g|= 1.25e-06  |ddm|= 6.38e-06\n",
      "converged SCF energy = -5.25076844995412\n",
      "\n",
      "******** <class 'pyscf.cc.dfccsd.RCCSD'> ********\n",
      "CC2 = 0\n",
      "CCSD nocc = 5, nmo = 10\n",
      "max_cycle = 50\n",
      "direct = 0\n",
      "conv_tol = 1e-07\n",
      "conv_tol_normt = 1e-05\n",
      "diis_space = 6\n",
      "diis_start_cycle = 0\n",
      "diis_start_energy_diff = 1e+09\n",
      "max_memory 4000 MB (current use 169 MB)\n",
      "Init t2, MP2 energy = -5.35742752036224  E_corr(MP2) -0.106659070408116\n",
      "Init E_corr(RCCSD) = -0.106659070409084\n",
      "cycle = 1  E_corr(RCCSD) = -0.139784830490771  dE = -0.0331257601  norm(t1,t2) = 0.0753894\n",
      "cycle = 2  E_corr(RCCSD) = -0.153784095252499  dE = -0.0139992648  norm(t1,t2) = 0.0431758\n",
      "cycle = 3  E_corr(RCCSD) = -0.166483596431664  dE = -0.0126995012  norm(t1,t2) = 0.0241606\n",
      "cycle = 4  E_corr(RCCSD) = -0.167734183628035  dE = -0.0012505872  norm(t1,t2) = 0.00702085\n",
      "cycle = 5  E_corr(RCCSD) = -0.167182742096144  dE = 0.000551441532  norm(t1,t2) = 0.00382928\n",
      "cycle = 6  E_corr(RCCSD) = -0.167341228572855  dE = -0.000158486477  norm(t1,t2) = 0.00106012\n",
      "cycle = 7  E_corr(RCCSD) = -0.167370637408029  dE = -2.94088352e-05  norm(t1,t2) = 0.000401473\n",
      "cycle = 8  E_corr(RCCSD) = -0.167343669688372  dE = 2.69677197e-05  norm(t1,t2) = 0.000164012\n",
      "cycle = 9  E_corr(RCCSD) = -0.167334553333437  dE = 9.11635493e-06  norm(t1,t2) = 5.22824e-05\n",
      "cycle = 10  E_corr(RCCSD) = -0.16733684839232  dE = -2.29505888e-06  norm(t1,t2) = 1.69414e-05\n",
      "cycle = 11  E_corr(RCCSD) = -0.167337771948611  dE = -9.23556291e-07  norm(t1,t2) = 6.93569e-06\n",
      "cycle = 12  E_corr(RCCSD) = -0.167338320915217  dE = -5.48966606e-07  norm(t1,t2) = 1.62585e-06\n",
      "cycle = 13  E_corr(RCCSD) = -0.167338439843223  dE = -1.18928006e-07  norm(t1,t2) = 5.60549e-07\n",
      "cycle = 14  E_corr(RCCSD) = -0.167338395071272  dE = 4.47719506e-08  norm(t1,t2) = 2.74574e-07\n",
      "RCCSD converged\n",
      "E(RCCSD) = -5.418106845025393  E_corr = -0.167338395071272\n"
     ]
    },
    {
     "data": {
      "text/plain": [
       "-0.167338395071272"
      ]
     },
     "execution_count": 1,
     "metadata": {},
     "output_type": "execute_result"
    }
   ],
   "source": [
    "from functools import partial\n",
    "from pyscf import gto, scf, cc\n",
    "\n",
    "from jax import config\n",
    "config.update(\"jax_enable_x64\", True)\n",
    "\n",
    "print = partial(print, flush=True)\n",
    "\n",
    "# H chain\n",
    "a = 1\n",
    "nH = 10\n",
    "atoms = \"\"\n",
    "for i in range(nH):\n",
    "    atoms += f\"H {i*a} 0 0 \\n\"\n",
    "\n",
    "# # water dimer s22\n",
    "# atoms = '''\n",
    "#     O  -1.551007  -0.114520   0.000000\n",
    "#     H  -1.934259   0.762503   0.000000\n",
    "#     H  -0.599677   0.040712   0.000000\n",
    "#     O   1.350625   0.111469   0.000000\n",
    "#     H   1.680398  -0.373741  -0.758561\n",
    "#     H   1.680398  -0.373741   0.758561\n",
    "#     '''\n",
    "\n",
    "mol = gto.M(atom=atoms, basis=\"sto6g\", verbose=4)\n",
    "mf = scf.RHF(mol).density_fit()\n",
    "mf.kernel()\n",
    "\n",
    "# mf2 = scf.RHF(mol)#.density_fit()\n",
    "# mf2.kernel()\n",
    "\n",
    "#cc\n",
    "mycc = cc.CCSD(mf)\n",
    "mycc.kernel()[0]\n",
    "# et = mycc.ccsd_t()\n",
    "\n",
    "# mycc = cc.CCSD(mf2)\n",
    "# # mycc.kernel()\n",
    "\n",
    "# print(f\"ccsd energy is {mycc.e_tot}\")\n",
    "# print(f\"ccsd_t energy is {mycc.e_tot+et}\")"
   ]
  },
  {
   "cell_type": "code",
   "execution_count": 2,
   "id": "a7668f0e",
   "metadata": {},
   "outputs": [],
   "source": [
    "from ad_afqmc.lno.base import lno\n",
    "from pyscf.lib import logger\n",
    "import numpy as np\n",
    "from functools import reduce\n",
    "\n",
    "_fdot = np.dot\n",
    "fdot = lambda *args: reduce(_fdot, args)"
   ]
  },
  {
   "cell_type": "code",
   "execution_count": null,
   "id": "4f3e52be",
   "metadata": {},
   "outputs": [
    {
     "name": "stdout",
     "output_type": "stream",
     "text": [
      "lo_type = pm\n",
      "LOs span exactly the occupied space.\n",
      "Using single-LO fragment\n",
      "nfrag = 5  nlo = 5\n",
      "frag_atmlist = None\n",
      "frag_lolist = [[0], [1], [2], [3], [4]]\n",
      "frag_nonvlist = None\n",
      "Lov is saved to /tmp/qxhl7ork\n",
      "lno thresh [0.001, 0.0001]\n",
      "########### running fragment 1 ##########\n",
      "\n",
      "******** <class 'pyscf.cc.dfccsd.RCCSD'> ********\n",
      "CC2 = 0\n",
      "CCSD nocc = 5, nmo = 10\n",
      "max_cycle = 50\n",
      "direct = 0\n",
      "conv_tol = 1e-07\n",
      "conv_tol_normt = 1e-05\n",
      "diis_space = 6\n",
      "diis_start_cycle = 0\n",
      "diis_start_energy_diff = 1e+09\n",
      "max_memory 4000 MB (current use 250 MB)\n",
      "Init t2, MP2 energy = -5.35742752036224  E_corr(MP2) -0.106659070408116\n",
      "Init E_corr(RCCSD) = -0.106659070409084\n",
      "cycle = 1  E_corr(RCCSD) = -0.139784830490771  dE = -0.0331257601  norm(t1,t2) = 0.0753894\n",
      "cycle = 2  E_corr(RCCSD) = -0.153784095252499  dE = -0.0139992648  norm(t1,t2) = 0.0431758\n",
      "cycle = 3  E_corr(RCCSD) = -0.166483596431664  dE = -0.0126995012  norm(t1,t2) = 0.0241606\n",
      "cycle = 4  E_corr(RCCSD) = -0.167734183628035  dE = -0.0012505872  norm(t1,t2) = 0.00702085\n",
      "cycle = 5  E_corr(RCCSD) = -0.167182742096144  dE = 0.000551441532  norm(t1,t2) = 0.00382928\n",
      "cycle = 6  E_corr(RCCSD) = -0.167341228572855  dE = -0.000158486477  norm(t1,t2) = 0.00106012\n",
      "cycle = 7  E_corr(RCCSD) = -0.16737063740803  dE = -2.94088352e-05  norm(t1,t2) = 0.000401473\n",
      "cycle = 8  E_corr(RCCSD) = -0.167343669688372  dE = 2.69677197e-05  norm(t1,t2) = 0.000164012\n",
      "cycle = 9  E_corr(RCCSD) = -0.167334553333437  dE = 9.11635493e-06  norm(t1,t2) = 5.22824e-05\n",
      "cycle = 10  E_corr(RCCSD) = -0.16733684839232  dE = -2.29505888e-06  norm(t1,t2) = 1.69414e-05\n",
      "cycle = 11  E_corr(RCCSD) = -0.167337771948611  dE = -9.23556291e-07  norm(t1,t2) = 6.93569e-06\n",
      "cycle = 12  E_corr(RCCSD) = -0.167338320915217  dE = -5.48966606e-07  norm(t1,t2) = 1.62585e-06\n",
      "cycle = 13  E_corr(RCCSD) = -0.167338439843223  dE = -1.18928006e-07  norm(t1,t2) = 5.60549e-07\n",
      "cycle = 14  E_corr(RCCSD) = -0.167338395071272  dE = 4.47719504e-08  norm(t1,t2) = 2.74574e-07\n",
      "RCCSD converged\n",
      "E(RCCSD) = -5.418106845025394  E_corr = -0.1673383950712722\n",
      "\n",
      "WARN: CCSD detected DF being used in the HF object. MO integrals are computed based on the DF 3-index tensors.\n",
      "It's recommended to use dfccsd.CCSD for the DF-CCSD calculations\n",
      "\n",
      "Init t2, MP2 energy = -5.28169982686062  E_corr(MP2) -0.0309313769064946\n",
      "\n",
      "******** <class 'pyscf.cc.dfccsd.RCCSD'> ********\n",
      "CC2 = 0\n",
      "CCSD nocc = 2, nmo = 6\n",
      "frozen orbitals [0 1 2 9]\n",
      "max_cycle = 50\n",
      "direct = 0\n",
      "conv_tol = 1e-07\n",
      "conv_tol_normt = 1e-05\n",
      "diis_space = 6\n",
      "diis_start_cycle = 0\n",
      "diis_start_energy_diff = 1e+09\n",
      "max_memory 4000 MB (current use 251 MB)\n",
      "Init E_corr(RCCSD) = -0.0309313769070303\n",
      "cycle = 1  E_corr(RCCSD) = -0.036412529200219  dE = -0.00548115229  norm(t1,t2) = 0.0305596\n",
      "cycle = 2  E_corr(RCCSD) = -0.0389132317128832  dE = -0.00250070251  norm(t1,t2) = 0.013155\n",
      "cycle = 3  E_corr(RCCSD) = -0.0403942171472292  dE = -0.00148098543  norm(t1,t2) = 0.0058052\n"
     ]
    },
    {
     "name": "stderr",
     "output_type": "stream",
     "text": [
      "Overwritten attributes  ao2mo  of <class 'pyscf.cc.dfccsd.RCCSD'>\n"
     ]
    },
    {
     "name": "stdout",
     "output_type": "stream",
     "text": [
      "cycle = 4  E_corr(RCCSD) = -0.0405474225018876  dE = -0.000153205355  norm(t1,t2) = 0.00119608\n",
      "cycle = 5  E_corr(RCCSD) = -0.0405259999152252  dE = 2.14225867e-05  norm(t1,t2) = 0.000407753\n",
      "cycle = 6  E_corr(RCCSD) = -0.0405247429196599  dE = 1.25699557e-06  norm(t1,t2) = 0.000107132\n",
      "cycle = 7  E_corr(RCCSD) = -0.0405262683172326  dE = -1.52539757e-06  norm(t1,t2) = 3.03295e-05\n",
      "cycle = 8  E_corr(RCCSD) = -0.040526260354887  dE = 7.9623456e-09  norm(t1,t2) = 5.55462e-06\n",
      "RCCSD converged\n",
      "E(RCCSD) = -5.291294710309015  E_corr = -0.04052626035488704\n",
      "# lno-ccsd correlation energy: -0.026643200584851947\n",
      "# number of active electrons: 4\n",
      "# number of active orbitals: 6\n",
      "# number of frozen orbitals: 4\n",
      "# Generating Cholesky Integrals\n",
      "# frozen orbitals: [0 1 2 9]\n",
      "# local active orbitals: [3 4 5 6 7 8]\n",
      "# local active space size: 6\n",
      "# using density fitting\n",
      "# Decomposing ERI with DF\n",
      "# chol shape: (90, 36)\n",
      "# Finished calculating Cholesky integrals\n",
      "\n",
      "# Size of the correlation space\n",
      "# Number of electrons: (2, 2)\n",
      "# Number of basis functions: 6\n",
      "# Number of DF vectors: 90\n",
      "\n"
     ]
    }
   ],
   "source": [
    "from ad_afqmc.lno.cc import LNOCCSD\n",
    "from pyscf.lib import logger\n",
    "import sys\n",
    "from ad_afqmc.lno.base import lno\n",
    "from ad_afqmc.lno_ccsd import lno_ccsd\n",
    "import numpy as np\n",
    "from functools import reduce\n",
    "log = logger.Logger(sys.stdout, 6)\n",
    "\n",
    "options = {\n",
    "    \"n_eql\": 4,\n",
    "    \"n_ene_blocks\": 1,\n",
    "    \"n_sr_blocks\": 20,\n",
    "    \"n_blocks\": 20,\n",
    "    \"n_walkers\": 5,\n",
    "    \"seed\": 98,\n",
    "    \"trial\": \"cisd\",\n",
    "    \"walker_type\": \"rhf\",\n",
    "    \"dt\":0.005,\n",
    "    \"ene0\": 0,\n",
    "}\n",
    "\n",
    "thresh = 1e-4\n",
    "# chol_cut = 1e-6\n",
    "frozen = 0\n",
    "run_frg_list = None\n",
    "lo_type = 'pm'\n",
    "no_type = 'ie' # cim\n",
    "frag_lolist = '1o'\n",
    "\n",
    "if isinstance(thresh, list):\n",
    "    thresh_occ, thresh_vir = thresh\n",
    "else:\n",
    "    thresh_occ = thresh*10\n",
    "    thresh_vir = thresh\n",
    "\n",
    "lno_cc = LNOCCSD(mf, thresh=thresh, frozen=frozen)\n",
    "lno_cc.thresh_occ = thresh_occ\n",
    "lno_cc.thresh_vir = thresh_vir\n",
    "lno_cc.lo_type = lo_type\n",
    "lno_cc.no_type = no_type\n",
    "lno_cc.frag_lolist = frag_lolist\n",
    "# lno_cc.ccsd_t = True\n",
    "lno_cc.force_outcore_ao2mo = True\n",
    "\n",
    "frag_atmlist = lno_cc.frag_atmlist\n",
    "s1e = lno_cc._scf.get_ovlp()\n",
    "\n",
    "\n",
    "# log.info('no_type = %s', no_type)\n",
    "\n",
    "# LO construction\n",
    "orbloc = lno_cc.get_lo(lo_type=lo_type) # localized active occ orbitals\n",
    "orbactocc = lno_cc.split_mo()[1] # non-localized active occ\n",
    "m = fdot(orbloc.T, s1e, orbactocc)\n",
    "lospanerr = abs(fdot(m.T, m) - np.eye(m.shape[1])).max()\n",
    "if lospanerr > 1e-10:\n",
    "    log.error('LOs do not fully span the occupied space! '\n",
    "                'Max|<occ|LO><LO|occ>| = %e', lospanerr)\n",
    "    raise RuntimeError\n",
    "\n",
    "# check Span(LO) == Span(occ)\n",
    "occspanerr = abs(fdot(m, m.T) - np.eye(m.shape[0])).max()\n",
    "if occspanerr < 1e-10:\n",
    "    log.info('LOs span exactly the occupied space.')\n",
    "    if no_type not in ['ir','ie']:\n",
    "        log.error('\"no_type\" must be \"ir\" or \"ie\".')\n",
    "        raise ValueError\n",
    "else:\n",
    "    log.info('LOs span occupied space plus some virtual space.')\n",
    "\n",
    "# LO assignment to fragments\n",
    "\n",
    "if frag_lolist == '1o':\n",
    "    log.info('Using single-LO fragment') # this is what we use, every active local occ labels a fragment\n",
    "    frag_lolist = [[i] for i in range(orbloc.shape[1])]\n",
    "else: print('Only support single LO fragment!')\n",
    "nfrag = len(frag_lolist)\n",
    "frag_nonvlist = lno_cc.frag_nonvlist\n",
    "\n",
    "# dump info\n",
    "log.info('nfrag = %d  nlo = %d', nfrag, orbloc.shape[1])\n",
    "log.info('frag_atmlist = %s', frag_atmlist)\n",
    "log.info('frag_lolist = %s', frag_lolist)\n",
    "log.info('frag_nonvlist = %s', frag_nonvlist)\n",
    "\n",
    "if not (no_type[0] in 'rei' and no_type[1] in 'rei'):\n",
    "    log.warn('Input no_type \"%s\" is invalid.', no_type)\n",
    "    raise ValueError\n",
    "\n",
    "if frag_nonvlist is None: frag_nonvlist = [[None,None]] * nfrag\n",
    "\n",
    "eris = lno_cc.ao2mo()\n",
    "frozen_mask = lno_cc.get_frozen_mask()\n",
    "thresh_pno = [thresh_occ,thresh_vir]\n",
    "print(f'lno thresh {thresh_pno}')\n",
    "\n",
    "if run_frg_list is None:\n",
    "    run_frg_list = range(nfrag)\n",
    "\n",
    "from jax import random\n",
    "seeds = random.randint(random.PRNGKey(options[\"seed\"]),\n",
    "                    shape=(len(run_frg_list),), minval=0, maxval=100000*nfrag)\n",
    "\n",
    "# for ifrag in run_frg_list:\n",
    "for ifrag in [0]:\n",
    "    print(f'########### running fragment {ifrag+1} ##########')\n",
    "    fraglo = frag_lolist[ifrag]\n",
    "    orbfragloc = orbloc[:,fraglo] # the specific local active occ\n",
    "    frag_target_nocc, frag_target_nvir = frag_nonvlist[ifrag]\n",
    "    THRESH_INTERNAL = 1e-10\n",
    "    frzfrag, orbfrag, can_orbfrag = lno.make_fpno1(lno_cc, eris, orbfragloc, no_type,\n",
    "                                                THRESH_INTERNAL, thresh_pno,\n",
    "                                                frozen_mask=frozen_mask,\n",
    "                                                frag_target_nocc=frag_target_nocc,\n",
    "                                                frag_target_nvir=frag_target_nvir,\n",
    "                                                canonicalize=False)\n",
    "    \n",
    "    full_cisd = True\n",
    "    if full_cisd:\n",
    "        mycc = cc.CCSD(mf)\n",
    "        mycc.kernel()[0]\n",
    "        t1 = mycc.t1\n",
    "        t2 = mycc.t2\n",
    "        full_ci1 = np.array(t1)\n",
    "        full_ci2 = t2 + np.einsum(\"ia,jb->ijab\", full_ci1, full_ci1)\n",
    "        full_ci2 = full_ci2.transpose(0, 2, 1, 3)\n",
    "        np.savez(\"amplitudes.npz\", full_ci1=full_ci1, full_ci2=full_ci2)\n",
    "\n",
    "    ecorr_ccsd,t1,t2,prjlo,nactocc,nactvir,maskact,maskocc \\\n",
    "        = lno_ccsd.cc_impurity_solve(\n",
    "            mf,orbfrag,orbfragloc,frozen=frzfrag,eris=eris,log=log)\n",
    "    \n",
    "    nelec_act = nactocc*2\n",
    "    norb_act = nactocc+nactvir\n",
    "    print(f'# lno-ccsd correlation energy: {ecorr_ccsd}')\n",
    "    print(f'# number of active electrons: {nelec_act}')\n",
    "    print(f'# number of active orbitals: {norb_act}')\n",
    "    print(f'# number of frozen orbitals: {len(frzfrag)}')\n",
    "\n",
    "\n",
    "    options[\"seed\"] = seeds[ifrag]\n",
    "    lno_ccsd.prep_lno_amp_chol_file(\n",
    "        mf,orbfrag,options,\n",
    "        norb_act=(nactocc+nactvir),nelec_act=nactocc*2,\n",
    "        prjlo=prjlo,norb_frozen=frzfrag,t1=t1,t2=t2)  \n",
    "    "
   ]
  },
  {
   "cell_type": "code",
   "execution_count": 10,
   "id": "b8eb3e5e",
   "metadata": {},
   "outputs": [],
   "source": [
    "amp_file=\"amplitudes.npz\"\n",
    "t1 = mycc.t1\n",
    "t2 = mycc.t2\n",
    "full_ci1 = np.array(t1)\n",
    "full_ci2 = t2 + np.einsum(\"ia,jb->ijab\", full_ci1, full_ci1)\n",
    "full_ci2 = full_ci2.transpose(0, 2, 1, 3)\n",
    "np.savez(amp_file, full_ci1=full_ci1, full_ci2=full_ci2)"
   ]
  },
  {
   "cell_type": "code",
   "execution_count": 11,
   "id": "e873437e",
   "metadata": {},
   "outputs": [],
   "source": [
    "content = dict(np.load(amp_file))"
   ]
  },
  {
   "cell_type": "code",
   "execution_count": 12,
   "id": "20509de4",
   "metadata": {},
   "outputs": [],
   "source": [
    "content['ci1'] = np.array([0,1,2,3,4])  # Example data for ci1\n",
    "content['ci2'] = np.array([5,6,7,8,9])\n",
    "# Save all back\n",
    "np.savez(amp_file, **content)"
   ]
  },
  {
   "cell_type": "code",
   "execution_count": 16,
   "id": "4084af28",
   "metadata": {},
   "outputs": [],
   "source": [
    "amps = dict(np.load(amp_file))"
   ]
  },
  {
   "cell_type": "code",
   "execution_count": 18,
   "id": "26c5a561",
   "metadata": {},
   "outputs": [
    {
     "data": {
      "text/plain": [
       "array([[-3.25615739e-16, -9.54814414e-04, -1.15174908e-16,\n",
       "        -1.26395786e-03, -3.95800724e-16],\n",
       "       [ 2.11741644e-03, -3.93116598e-16, -3.33664910e-03,\n",
       "        -5.01318685e-16,  1.08374490e-03],\n",
       "       [-2.17032715e-17, -7.67819827e-03, -1.09426057e-15,\n",
       "         2.63104942e-03,  2.20643964e-16],\n",
       "       [-1.49600298e-02,  2.55515984e-16, -5.45280440e-03,\n",
       "         4.35395271e-16, -7.00568325e-04],\n",
       "       [-1.69675201e-15, -9.35433441e-03, -1.04594218e-15,\n",
       "        -1.23540286e-03,  1.32002702e-15]])"
      ]
     },
     "execution_count": 18,
     "metadata": {},
     "output_type": "execute_result"
    }
   ],
   "source": [
    "amps[\"full_ci1\"]"
   ]
  },
  {
   "cell_type": "code",
   "execution_count": 7,
   "id": "02949a48",
   "metadata": {},
   "outputs": [
    {
     "name": "stdout",
     "output_type": "stream",
     "text": [
      "[[8.32667268e-17 1.00000000e+00]]\n"
     ]
    }
   ],
   "source": [
    "maskocc = mf.mo_occ>1e-10\n",
    "nmo = mf.mo_occ.size\n",
    "lo_coeff = orbfragloc\n",
    "frozen=frzfrag\n",
    "# Convert frozen to 0 bc PySCF solvers do not support frozen=None or empty list\n",
    "if frozen is None:\n",
    "    frozen = 0\n",
    "elif isinstance(frozen, (list,tuple,np.ndarray)) and len(frozen) == 0:\n",
    "    frozen = 0\n",
    "\n",
    "if isinstance(frozen, (int,np.integer)):\n",
    "    maskact = np.hstack([np.zeros(frozen,dtype=bool),\n",
    "                            np.ones(nmo-frozen,dtype=bool)])\n",
    "elif isinstance(frozen, (list,tuple,np.ndarray)):\n",
    "    maskact = np.array([i not in frozen for i in range(nmo)])\n",
    "else:\n",
    "    raise RuntimeError\n",
    "\n",
    "orbfrzocc = orbfrag[:,~maskact& maskocc]\n",
    "orbactocc = orbfrag[:, maskact& maskocc]\n",
    "orbactvir = orbfrag[:, maskact&~maskocc]\n",
    "orbfrzvir = orbfrag[:,~maskact&~maskocc]\n",
    "nactocc = orbactocc.shape[1]\n",
    "nactvir = orbactvir.shape[1]\n",
    "\n",
    "# _, nactocc, nactvir, _ = [orb.shape[1]\n",
    "#                                         for orb in [orbfrzocc,orbactocc,\n",
    "#                                                     orbactvir,orbfrzvir]]\n",
    "\n",
    "s1e = mf.get_ovlp() if eris is None else eris.s1e\n",
    "prjlo = fdot(lo_coeff.T, s1e, orbactocc)\n",
    "print(prjlo)"
   ]
  },
  {
   "cell_type": "code",
   "execution_count": 67,
   "id": "24b415ba",
   "metadata": {},
   "outputs": [
    {
     "name": "stdout",
     "output_type": "stream",
     "text": [
      "# Hostname: yichi-thinkpad\n",
      "# System Type: Linux\n",
      "# Machine Type: x86_64\n",
      "# Processor: x86_64\n",
      "# Hostname: yichi-thinkpad\n",
      "# System Type: Linux\n",
      "# Machine Type: x86_64\n",
      "# Processor: x86_64\n",
      "# Number of MPI ranks: 1\n",
      "#\n",
      "# norb: 6\n",
      "# nelec: (2, 2)\n",
      "# nchol: 90\n",
      "#\n",
      "# n_eql: 4\n",
      "# n_ene_blocks: 1\n",
      "# n_sr_blocks: 20\n",
      "# n_blocks: 20\n",
      "# n_walkers: 5\n",
      "# seed: 365694\n",
      "# trial: cisd\n"
     ]
    },
    {
     "name": "stdout",
     "output_type": "stream",
     "text": [
      "# walker_type: rhf\n",
      "# dt: 0.005\n",
      "# ene0: 0\n",
      "# n_exp_terms: 6\n",
      "# n_prop_steps: 50\n",
      "# orbital_rotation: True\n",
      "# do_sr: True\n",
      "# symmetry: False\n",
      "# save_walkers: False\n",
      "# free_projection: False\n",
      "# n_batch: 1\n",
      "# use_gpu: False\n",
      "#\n"
     ]
    }
   ],
   "source": [
    "from ad_afqmc import config, wavefunctions\n",
    "from jax import numpy as jnp\n",
    "from jax import random, jit, vmap, jvp, lax\n",
    "from ad_afqmc.lno_ccsd import lno_ccsd\n",
    "import jax\n",
    "\n",
    "config.setup_jax()\n",
    "MPI = config.setup_comm()\n",
    "\n",
    "ham_data, ham, prop, trial, wave_data, sampler, observable, options, _ = (\n",
    "    lno_ccsd.prep_lnoccsd_afqmc())\n",
    "\n",
    "comm = MPI.COMM_WORLD\n",
    "rank = comm.Get_rank()  # Process rank\n",
    "size = comm.Get_size() \n",
    "\n",
    "seed = options[\"seed\"]\n",
    "propagator = prop\n",
    "init_walkers = None\n",
    "ham_data = wavefunctions.rhf(trial.norb, trial.nelec,n_batch=trial.n_batch\n",
    "                                )._build_measurement_intermediates(ham_data, wave_data)\n",
    "ham_data = ham.build_measurement_intermediates(ham_data, trial, wave_data)\n",
    "ham_data = ham.build_propagation_intermediates(ham_data, propagator, trial, wave_data)\n",
    "\n",
    "prop_data = propagator.init_prop_data(trial, wave_data, ham_data, init_walkers)\n",
    "if jnp.abs(jnp.sum(prop_data[\"overlaps\"])) < 1.0e-6:\n",
    "    raise ValueError(\n",
    "        \"Initial overlaps are zero. Pass walkers with non-zero overlap.\"\n",
    "    )\n",
    "prop_data[\"key\"] = random.PRNGKey(seed + rank)\n",
    "\n",
    "prop_data[\"overlaps\"] = trial.calc_overlap(prop_data[\"walkers\"], wave_data)\n",
    "prop_data[\"n_killed_walkers\"] = 0\n",
    "prop_data[\"pop_control_ene_shift\"] = prop_data[\"e_estimate\"]\n",
    "\n",
    "init_walker = prop_data[\"walkers\"][0]"
   ]
  },
  {
   "cell_type": "code",
   "execution_count": 13,
   "id": "5f0ed352",
   "metadata": {},
   "outputs": [
    {
     "name": "stdout",
     "output_type": "stream",
     "text": [
      "10\n",
      "[0 1 2 9]\n",
      "[3 4 5 6 7 8]\n",
      "[0 1 2]\n",
      "[3 4]\n"
     ]
    }
   ],
   "source": [
    "no_coeff = orbfrag\n",
    "mo_coeff = mf.mo_coeff\n",
    "nocc = mol.nelectron // 2 \n",
    "nao = mol.nao\n",
    "print(nao)\n",
    "actfrag = np.array(\n",
    "    [i for i in range(nao) if i not in frzfrag])\n",
    "print(frzfrag)\n",
    "print(actfrag)\n",
    "frzocc = np.array(\n",
    "    [i for i in range(nocc) if i in frzfrag])\n",
    "actocc = np.array(\n",
    "    [i for i in range(nocc) if i in actfrag])\n",
    "print(frzocc)\n",
    "print(actocc)"
   ]
  },
  {
   "cell_type": "code",
   "execution_count": 23,
   "id": "b6200fd6",
   "metadata": {},
   "outputs": [
    {
     "name": "stdout",
     "output_type": "stream",
     "text": [
      "[[ 3.51133733e-05 -5.95482343e-01  5.20188284e-01]\n",
      " [-9.03461486e-01 -5.27799098e-05  1.11429654e-06]\n",
      " [ 4.51715920e-05 -7.79664163e-01 -1.90451689e-01]\n",
      " [ 4.28669266e-01  2.47545116e-05  1.54452614e-06]\n",
      " [-1.11920902e-05  1.93712593e-01  8.32545676e-01]\n",
      " [-3.68144236e-16 -1.66533454e-16 -1.11022302e-16]\n",
      " [-1.94289029e-16 -8.05951849e-17  1.99509399e-16]\n",
      " [-1.08637058e-16  1.11022302e-16 -4.02455846e-16]\n",
      " [-1.11022302e-16 -5.16419047e-17 -1.62898809e-16]\n",
      " [ 1.57615891e-17  1.24900090e-16 -2.77555756e-16]]\n",
      "[[-5.05048718e-07  6.12213138e-01  3.12525358e-17 -7.04889644e-17\n",
      "   3.42468757e-16  3.90406953e-17]\n",
      " [ 4.28669267e-01 -1.12818678e-07  1.32899461e-16 -3.97558684e-16\n",
      "   1.60908874e-16 -2.14810867e-16]\n",
      " [-4.54641866e-07 -5.96533272e-01 -1.07350339e-16 -2.36045603e-16\n",
      "  -1.52175214e-16 -1.18410953e-16]\n",
      " [ 9.03461488e-01 -1.07528190e-06  3.83207963e-16  5.49564569e-17\n",
      "  -6.70501768e-17  1.78677753e-17]\n",
      " [-2.03826829e-06 -5.18982782e-01 -1.85137037e-16  8.51262453e-17\n",
      "   9.03317439e-17 -2.22468960e-17]\n",
      " [ 5.33749672e-17 -1.49301251e-16 -1.72490022e-06 -5.87802971e-01\n",
      "  -2.98730468e-07 -7.76377407e-01]\n",
      " [-1.67732202e-16  2.13663748e-16 -3.89533548e-01 -2.42169458e-07\n",
      "   9.21012277e-01 -1.91640225e-07]\n",
      " [-1.14597742e-16  7.22799636e-17 -5.80179733e-06 -4.04518370e-01\n",
      "   7.15029953e-09  5.25519966e-01]\n",
      " [-1.79749514e-16 -2.52566724e-16 -9.21012277e-01  7.74248693e-08\n",
      "  -3.89533548e-01  4.92997446e-08]\n",
      " [-1.49593138e-16  1.75955773e-17 -4.82988425e-06  7.00608704e-01\n",
      "   1.14897801e-07 -3.47946672e-01]]\n"
     ]
    }
   ],
   "source": [
    "s1e = mf.get_ovlp()\n",
    "p_frzocc = mo_coeff.T@s1e@no_coeff[:,frzocc]\n",
    "p_act = mo_coeff.T@s1e@no_coeff[:,actfrag]\n",
    "print(p_frzocc)\n",
    "print(p_act)"
   ]
  },
  {
   "cell_type": "code",
   "execution_count": 29,
   "id": "e6109251",
   "metadata": {},
   "outputs": [
    {
     "name": "stdout",
     "output_type": "stream",
     "text": [
      "(10, 5)\n"
     ]
    }
   ],
   "source": [
    "walker_act = p_act@init_walker\n",
    "walker_new = jnp.hstack((p_frzocc,walker_act))\n",
    "print(walker_new.shape)"
   ]
  },
  {
   "cell_type": "code",
   "execution_count": 88,
   "id": "6048796d",
   "metadata": {},
   "outputs": [],
   "source": [
    "def no2mo(mo_coeff,s1e,no_coeff):\n",
    "    prj = mo_coeff.T@s1e@no_coeff\n",
    "    return prj\n",
    "\n",
    "def prj_walker(projector,walker,frzocc,actfrag):\n",
    "\n",
    "    p_frzocc = projector[:,frzocc]\n",
    "    p_act = projector[:,actfrag]\n",
    "    walker_act = p_act@walker\n",
    "    walker_new = jnp.hstack((p_frzocc,walker_act))\n",
    "\n",
    "    return walker_new\n"
   ]
  },
  {
   "cell_type": "code",
   "execution_count": 89,
   "id": "d154e6b6",
   "metadata": {},
   "outputs": [],
   "source": [
    "def cisd_walker_overlap(walker,ci1,ci2):\n",
    "    nocc = walker.shape[1]\n",
    "    GF = (walker.dot(jnp.linalg.inv(walker[: nocc, :]))).T\n",
    "    o0 = jnp.linalg.det(walker[: nocc, :]) ** 2\n",
    "    o1 = jnp.einsum(\"ia,ia\", ci1, GF[:, nocc:])\n",
    "    o2 = 2 * jnp.einsum(\n",
    "        \"iajb, ia, jb\", ci2, GF[:, nocc:], GF[:, nocc:]\n",
    "    ) - jnp.einsum(\"iajb, ib, ja\", ci2, GF[:, nocc:], GF[:, nocc:])\n",
    "    return (1.0 + 2 * o1 + o2) * o0\n",
    "\n",
    "def cisd_walker_overlap_ratio(walker,ci1,ci2):\n",
    "    nocc = walker.shape[1]\n",
    "    GF = (walker.dot(jnp.linalg.inv(walker[: nocc, :]))).T\n",
    "    # o0 = jnp.linalg.det(walker[: nocc, :]) ** 2\n",
    "    o1 = jnp.einsum(\"ia,ia\", ci1, GF[:, nocc:])\n",
    "    o2 = 2 * jnp.einsum(\n",
    "        \"iajb, ia, jb\", ci2, GF[:, nocc:], GF[:, nocc:]\n",
    "    ) - jnp.einsum(\"iajb, ib, ja\", ci2, GF[:, nocc:], GF[:, nocc:])\n",
    "    return 1/(1.0 + 2 * o1 + o2)\n",
    "\n",
    "def full_cisd_walker_overlap(walker,ci1,ci2):\n",
    "    \n",
    "    nocc = walker.shape[1]\n",
    "    GF = (walker.dot(jnp.linalg.inv(walker[: nocc, :]))).T\n",
    "    o0 = jnp.linalg.det(walker[: nocc, :]) ** 2\n",
    "    o1 = jnp.einsum(\"ia,ia\", ci1, GF[:, nocc:])\n",
    "    o2 = 2 * jnp.einsum(\n",
    "        \"iajb, ia, jb\", ci2, GF[:, nocc:], GF[:, nocc:]\n",
    "    ) - jnp.einsum(\"iajb, ib, ja\", ci2, GF[:, nocc:], GF[:, nocc:])\n",
    "    return (1.0 + 2 * o1 + o2) * o0"
   ]
  },
  {
   "cell_type": "code",
   "execution_count": 90,
   "id": "db435747",
   "metadata": {},
   "outputs": [],
   "source": [
    "t1 = mycc.t1\n",
    "t2 = mycc.t2\n",
    "ci2 = t2 + jnp.einsum(\"ia,jb->ijab\", jnp.array(t1), jnp.array(t1))\n",
    "ci2 = ci2.transpose(0, 2, 1, 3)\n",
    "ci1 = jnp.array(t1)\n",
    "np.savez(\"amplitudes.npz\", full_ci1=ci1, full_ci2=ci2)"
   ]
  },
  {
   "cell_type": "code",
   "execution_count": 91,
   "id": "f7723567",
   "metadata": {},
   "outputs": [],
   "source": [
    "amplitudes = np.load(\"amplitudes.npz\")\n",
    "full_ci1 = jnp.array(amplitudes[\"full_ci1\"])\n",
    "full_ci2 = jnp.array(amplitudes[\"full_ci2\"])\n",
    "wave_data.update({\"full_ci1\": ci1, \"full_ci2\": ci2})"
   ]
  },
  {
   "cell_type": "code",
   "execution_count": 94,
   "id": "997c3dda",
   "metadata": {},
   "outputs": [
    {
     "name": "stdout",
     "output_type": "stream",
     "text": [
      "(0.5017825283861721-0.7473863577351859j)\n"
     ]
    }
   ],
   "source": [
    "walker = prop_data[\"walkers\"][0]\n",
    "no2mo_prj = no2mo(mo_coeff, s1e, no_coeff)\n",
    "walker_p = prj_walker(no2mo_prj,walker,frzocc,actfrag)\n",
    "olp = cisd_walker_overlap(walker_p, ci1, ci2)\n",
    "print(olp)"
   ]
  },
  {
   "cell_type": "code",
   "execution_count": 95,
   "id": "f147f283",
   "metadata": {},
   "outputs": [
    {
     "name": "stdout",
     "output_type": "stream",
     "text": [
      "-5.291230184312794 5.00300458169368\n"
     ]
    }
   ],
   "source": [
    "prop_data, (blk_e, blk_wt)\\\n",
    "    = sampler._block_scan(prop_data,None,ham_data,prop,trial,wave_data)\n",
    "print(blk_e,blk_wt)"
   ]
  },
  {
   "cell_type": "code",
   "execution_count": null,
   "id": "4aa3a856",
   "metadata": {},
   "outputs": [
    {
     "name": "stdout",
     "output_type": "stream",
     "text": [
      "(0.5017825283861721-0.7473863577351859j)\n",
      "(0.9868800998319901-0.0031054239545766035j)\n"
     ]
    }
   ],
   "source": [
    "walker = prop_data[\"walkers\"][0]\n",
    "walker_p = prj_walker(no2mo_prj,walker,frzocc,actfrag)\n",
    "olp = cisd_walker_overlap(walker_p, ci1, ci2)\n",
    "olp_r = cisd_walker_overlap_ratio(walker_p, ci1, ci2)\n",
    "print(olp)\n",
    "print(olp_r)"
   ]
  },
  {
   "cell_type": "code",
   "execution_count": 77,
   "id": "7cac2b1b",
   "metadata": {},
   "outputs": [
    {
     "name": "stdout",
     "output_type": "stream",
     "text": [
      "(0.9894610408169681+0.0013870486435967869j)\n"
     ]
    }
   ],
   "source": [
    "lno_olp_r = lno_ccsd._calc_olp_ratio_restricted(walker,wave_data)\n",
    "print(lno_olp_r)"
   ]
  },
  {
   "cell_type": "code",
   "execution_count": 61,
   "id": "b39321fa",
   "metadata": {},
   "outputs": [
    {
     "data": {
      "text/plain": [
       "Array(0.84799905-0.28465324j, dtype=complex128)"
      ]
     },
     "execution_count": 61,
     "metadata": {},
     "output_type": "execute_result"
    }
   ],
   "source": [
    "jnp.linalg.det(walker[: walker.shape[1], :]) ** 2"
   ]
  },
  {
   "cell_type": "code",
   "execution_count": 58,
   "id": "caff29b1",
   "metadata": {},
   "outputs": [
    {
     "data": {
      "text/plain": [
       "Array(0.85262757-0.29056292j, dtype=complex128)"
      ]
     },
     "execution_count": 58,
     "metadata": {},
     "output_type": "execute_result"
    }
   ],
   "source": [
    "trial._calc_overlap_restricted(walker,wave_data)"
   ]
  },
  {
   "cell_type": "code",
   "execution_count": 6,
   "id": "259e621b",
   "metadata": {},
   "outputs": [
    {
     "name": "stdout",
     "output_type": "stream",
     "text": [
      "lno-afqmc/ccsd init frg correlation energy: -0.05381149472499322\n",
      "lno-ccsd init correlation energy: -0.05381149431194333\n"
     ]
    }
   ],
   "source": [
    "from ad_afqmc.lno_ccsd import lno_ccsd\n",
    "walker = prop_data['walkers'][0]\n",
    "# e_init = jnp.real(trial._calc_energy_restricted(walker,ham_data,wave_data))\n",
    "ccsd_cr0,ccsd_cr1,ccsd_cr2,ccsd_cr = lno_ccsd._frg_ccsd_cr(walker,ham_data,wave_data,trial,1e-6)\n",
    "# print('afqmc/ccsd init energy:',e_init)\n",
    "# print('mean-field energy:',mf.e_tot)\n",
    "# e_corr_init = e_init - mf.e_tot\n",
    "print('lno-afqmc/ccsd init frg correlation energy:',ccsd_cr)\n",
    "print('lno-ccsd init correlation energy:',ecorr_ccsd)\n",
    "# -0.06902628862909294\n",
    "# -0.06849834335942975"
   ]
  },
  {
   "cell_type": "code",
   "execution_count": 8,
   "id": "4ad52b76",
   "metadata": {},
   "outputs": [],
   "source": [
    "prop_data,(energy,wt,\n",
    "           hf_orb_cr,olp_ratio,\n",
    "           ccsd_orb_cr0,ccsd_orb_cr1,ccsd_orb_cr2,\n",
    "           ccsd_orb_cr,orb_cr)\\\n",
    "    = lno_ccsd.propagate_phaseless_orb(ham_data,prop,prop_data,trial,wave_data,sampler)"
   ]
  },
  {
   "cell_type": "code",
   "execution_count": 9,
   "id": "32cae650",
   "metadata": {},
   "outputs": [
    {
     "name": "stdout",
     "output_type": "stream",
     "text": [
      "-152.39566046710257 99.99068471987039\n",
      "-0.04435036268421961 (0.9220578928295465-0.0011193421072858052j)\n",
      "0.5468795913624183 -1.071288001043854 0.5143074233087206 -0.010100986372715313\n",
      "-0.05445134905693493\n"
     ]
    }
   ],
   "source": [
    "print(energy,wt)\n",
    "print(hf_orb_cr,olp_ratio)\n",
    "print(ccsd_orb_cr0,ccsd_orb_cr1,ccsd_orb_cr2,ccsd_orb_cr)\n",
    "print(orb_cr)"
   ]
  },
  {
   "cell_type": "code",
   "execution_count": 10,
   "id": "b7cb406f",
   "metadata": {},
   "outputs": [
    {
     "name": "stdout",
     "output_type": "stream",
     "text": [
      "-0.01010098637271506\n",
      "-0.05445134905693472\n"
     ]
    }
   ],
   "source": [
    "print(ccsd_orb_cr0+ccsd_orb_cr1+ccsd_orb_cr2)\n",
    "print(hf_orb_cr+ccsd_orb_cr0+ccsd_orb_cr1+ccsd_orb_cr2)"
   ]
  },
  {
   "cell_type": "code",
   "execution_count": null,
   "id": "6e4ee6ea",
   "metadata": {},
   "outputs": [],
   "source": [
    "## build <full_ccsd|walker> ###"
   ]
  }
 ],
 "metadata": {
  "kernelspec": {
   "display_name": "lno_pyscf_afqmc",
   "language": "python",
   "name": "python3"
  },
  "language_info": {
   "codemirror_mode": {
    "name": "ipython",
    "version": 3
   },
   "file_extension": ".py",
   "mimetype": "text/x-python",
   "name": "python",
   "nbconvert_exporter": "python",
   "pygments_lexer": "ipython3",
   "version": "3.10.16"
  }
 },
 "nbformat": 4,
 "nbformat_minor": 5
}
