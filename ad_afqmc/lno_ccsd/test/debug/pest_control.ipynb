{
 "cells": [
  {
   "cell_type": "code",
   "execution_count": 1,
   "id": "47a47fec",
   "metadata": {},
   "outputs": [
    {
     "name": "stdout",
     "output_type": "stream",
     "text": [
      "System: uname_result(system='Linux', node='yichi-thinkpad', release='4.4.0-26100-Microsoft', version='#1882-Microsoft Fri Jan 01 08:00:00 PST 2016', machine='x86_64')  Threads 12\n",
      "Python 3.10.16 | packaged by conda-forge | (main, Dec  5 2024, 14:16:10) [GCC 13.3.0]\n",
      "numpy 1.24.3  scipy 1.14.1  h5py 3.12.1\n",
      "Date: Tue Aug  5 12:29:49 2025\n",
      "PySCF version 2.8.0\n",
      "PySCF path  /home/yichi/research/software/lno_pyscf\n",
      "GIT HEAD (branch master) ef75f4190e4de208685670651dc6c467f72b6794\n",
      "\n",
      "[ENV] PYSCF_EXT_PATH /home/yichi/research/software/pyscf\n",
      "[CONFIG] conf_file None\n",
      "[INPUT] verbose = 4\n",
      "[INPUT] num. atoms = 10\n",
      "[INPUT] num. electrons = 10\n",
      "[INPUT] charge = 0\n",
      "[INPUT] spin (= nelec alpha-beta = 2S) = 0\n",
      "[INPUT] symmetry False subgroup None\n",
      "[INPUT] Mole.unit = angstrom\n",
      "[INPUT] Symbol           X                Y                Z      unit          X                Y                Z       unit  Magmom\n",
      "[INPUT]  1 H      0.000000000000   0.000000000000   0.000000000000 AA    0.000000000000   0.000000000000   0.000000000000 Bohr   0.0\n",
      "[INPUT]  2 H      1.000000000000   0.000000000000   0.000000000000 AA    1.889726124565   0.000000000000   0.000000000000 Bohr   0.0\n",
      "[INPUT]  3 H      2.000000000000   0.000000000000   0.000000000000 AA    3.779452249130   0.000000000000   0.000000000000 Bohr   0.0\n",
      "[INPUT]  4 H      3.000000000000   0.000000000000   0.000000000000 AA    5.669178373695   0.000000000000   0.000000000000 Bohr   0.0\n",
      "[INPUT]  5 H      4.000000000000   0.000000000000   0.000000000000 AA    7.558904498260   0.000000000000   0.000000000000 Bohr   0.0\n",
      "[INPUT]  6 H      5.000000000000   0.000000000000   0.000000000000 AA    9.448630622825   0.000000000000   0.000000000000 Bohr   0.0\n",
      "[INPUT]  7 H      6.000000000000   0.000000000000   0.000000000000 AA   11.338356747390   0.000000000000   0.000000000000 Bohr   0.0\n",
      "[INPUT]  8 H      7.000000000000   0.000000000000   0.000000000000 AA   13.228082871955   0.000000000000   0.000000000000 Bohr   0.0\n",
      "[INPUT]  9 H      8.000000000000   0.000000000000   0.000000000000 AA   15.117808996520   0.000000000000   0.000000000000 Bohr   0.0\n",
      "[INPUT] 10 H      9.000000000000   0.000000000000   0.000000000000 AA   17.007535121086   0.000000000000   0.000000000000 Bohr   0.0\n",
      "\n",
      "nuclear repulsion = 10.2076604058814\n",
      "number of shells = 10\n",
      "number of NR pGTOs = 60\n",
      "number of NR cGTOs = 10\n",
      "basis = sto6g\n",
      "ecp = {}\n",
      "CPU time:         2.25\n",
      "\n",
      "\n",
      "******** <class 'pyscf.df.df_jk.DFRHF'> ********\n",
      "method = DFRHF\n",
      "initial guess = minao\n",
      "damping factor = 0\n",
      "level_shift factor = 0\n",
      "DIIS = <class 'pyscf.scf.diis.CDIIS'>\n",
      "diis_start_cycle = 1\n",
      "diis_space = 8\n",
      "diis_damp = 0\n",
      "SCF conv_tol = 1e-09\n",
      "SCF conv_tol_grad = None\n",
      "SCF max_cycles = 50\n",
      "direct_scf = False\n",
      "chkfile to save SCF result = /tmp/tmpw20bw0co\n",
      "max_memory 4000 MB (current use 162 MB)\n",
      "Set gradient conv threshold to 3.16228e-05\n",
      "Initial guess from minao.\n",
      "******** <class 'pyscf.df.df.DF'> ********\n",
      "auxbasis = None\n",
      "max_memory = 4000\n",
      "ETB for H: l = 0, exps = 0.200224856 * 2^n , n = 0..8\n",
      "\n",
      "WARN: Even tempered Gaussians are generated as DF auxbasis for  H\n",
      "\n",
      "init E= -4.16247989776679\n",
      "  HOMO = -0.143333294554415  LUMO = 0.0777539909476833\n",
      "cycle= 1 E= -5.23268311405476  delta_E= -1.07  |g|= 0.127  |ddm|= 2.26\n",
      "  HOMO = -0.255531209164803  LUMO = 0.134258263865682\n",
      "cycle= 2 E= -5.24699673894579  delta_E= -0.0143  |g|= 0.057  |ddm|= 0.341\n",
      "  HOMO = -0.266117832608071  LUMO = 0.161373699495238\n",
      "cycle= 3 E= -5.25060030905285  delta_E= -0.0036  |g|= 0.0127  |ddm|=  0.2\n",
      "  HOMO = -0.273485255806747  LUMO = 0.162701103978054\n",
      "cycle= 4 E= -5.25076762137456  delta_E= -0.000167  |g|= 0.00111  |ddm|= 0.0538\n",
      "  HOMO = -0.273117898273723  LUMO = 0.162779495824589\n",
      "cycle= 5 E= -5.2507684100517  delta_E= -7.89e-07  |g|= 0.000248  |ddm|= 0.00213\n",
      "  HOMO = -0.273160126772236  LUMO = 0.162799392316605\n",
      "cycle= 6 E= -5.25076844901436  delta_E= -3.9e-08  |g|= 2.86e-05  |ddm|= 0.000621\n",
      "  HOMO = -0.27317903460193  LUMO = 0.162814583903577\n",
      "cycle= 7 E= -5.25076844994741  delta_E= -9.33e-10  |g|= 2.82e-06  |ddm|= 0.000134\n",
      "  HOMO = -0.273177091278771  LUMO = 0.162813313908577\n",
      "Extra cycle  E= -5.25076844995412  delta_E= -6.71e-12  |g|= 1.25e-06  |ddm|= 6.38e-06\n",
      "converged SCF energy = -5.25076844995412\n",
      "\n",
      "******** <class 'pyscf.cc.dfccsd.RCCSD'> ********\n",
      "CC2 = 0\n",
      "CCSD nocc = 5, nmo = 10\n",
      "max_cycle = 50\n",
      "direct = 0\n",
      "conv_tol = 1e-07\n",
      "conv_tol_normt = 1e-05\n",
      "diis_space = 6\n",
      "diis_start_cycle = 0\n",
      "diis_start_energy_diff = 1e+09\n",
      "max_memory 4000 MB (current use 169 MB)\n",
      "Init t2, MP2 energy = -5.35742752036224  E_corr(MP2) -0.106659070408116\n",
      "Init E_corr(RCCSD) = -0.106659070409084\n",
      "cycle = 1  E_corr(RCCSD) = -0.139784830490772  dE = -0.0331257601  norm(t1,t2) = 0.0753894\n",
      "cycle = 2  E_corr(RCCSD) = -0.153784095252499  dE = -0.0139992648  norm(t1,t2) = 0.0431758\n",
      "cycle = 3  E_corr(RCCSD) = -0.166483596431664  dE = -0.0126995012  norm(t1,t2) = 0.0241606\n",
      "cycle = 4  E_corr(RCCSD) = -0.167734183628035  dE = -0.0012505872  norm(t1,t2) = 0.00702085\n",
      "cycle = 5  E_corr(RCCSD) = -0.167182742096143  dE = 0.000551441532  norm(t1,t2) = 0.00382928\n",
      "cycle = 6  E_corr(RCCSD) = -0.167341228572855  dE = -0.000158486477  norm(t1,t2) = 0.00106012\n",
      "cycle = 7  E_corr(RCCSD) = -0.167370637408029  dE = -2.94088352e-05  norm(t1,t2) = 0.000401473\n",
      "cycle = 8  E_corr(RCCSD) = -0.167343669688372  dE = 2.69677197e-05  norm(t1,t2) = 0.000164012\n",
      "cycle = 9  E_corr(RCCSD) = -0.167334553333437  dE = 9.11635494e-06  norm(t1,t2) = 5.22824e-05\n",
      "cycle = 10  E_corr(RCCSD) = -0.16733684839232  dE = -2.29505888e-06  norm(t1,t2) = 1.69414e-05\n",
      "cycle = 11  E_corr(RCCSD) = -0.167337771948611  dE = -9.23556291e-07  norm(t1,t2) = 6.93569e-06\n",
      "cycle = 12  E_corr(RCCSD) = -0.167338320915217  dE = -5.48966606e-07  norm(t1,t2) = 1.62585e-06\n",
      "cycle = 13  E_corr(RCCSD) = -0.167338439843222  dE = -1.18928006e-07  norm(t1,t2) = 5.60549e-07\n",
      "cycle = 14  E_corr(RCCSD) = -0.167338395071272  dE = 4.47719503e-08  norm(t1,t2) = 2.74574e-07\n",
      "RCCSD converged\n",
      "E(RCCSD) = -5.418106845025393  E_corr = -0.1673383950712719\n"
     ]
    },
    {
     "data": {
      "text/plain": [
       "-0.1673383950712719"
      ]
     },
     "execution_count": 1,
     "metadata": {},
     "output_type": "execute_result"
    }
   ],
   "source": [
    "from functools import partial\n",
    "from pyscf import gto, scf, cc\n",
    "\n",
    "from jax import config\n",
    "config.update(\"jax_enable_x64\", True)\n",
    "\n",
    "print = partial(print, flush=True)\n",
    "\n",
    "# H chain\n",
    "a = 1\n",
    "nH = 10\n",
    "atoms = \"\"\n",
    "for i in range(nH):\n",
    "    atoms += f\"H {i*a} 0 0 \\n\"\n",
    "\n",
    "# # water dimer s22\n",
    "# atoms = '''\n",
    "#     O  -1.551007  -0.114520   0.000000\n",
    "#     H  -1.934259   0.762503   0.000000\n",
    "#     H  -0.599677   0.040712   0.000000\n",
    "#     O   1.350625   0.111469   0.000000\n",
    "#     H   1.680398  -0.373741  -0.758561\n",
    "#     H   1.680398  -0.373741   0.758561\n",
    "#     '''\n",
    "\n",
    "mol = gto.M(atom=atoms, basis=\"sto6g\", verbose=4)\n",
    "mf = scf.RHF(mol).density_fit()\n",
    "mf.kernel()\n",
    "\n",
    "# mf2 = scf.RHF(mol)#.density_fit()\n",
    "# mf2.kernel()\n",
    "\n",
    "#cc\n",
    "mycc = cc.CCSD(mf)\n",
    "mycc.kernel()[0]\n",
    "# et = mycc.ccsd_t()\n",
    "\n",
    "# mycc = cc.CCSD(mf2)\n",
    "# # mycc.kernel()\n",
    "\n",
    "# print(f\"ccsd energy is {mycc.e_tot}\")\n",
    "# print(f\"ccsd_t energy is {mycc.e_tot+et}\")"
   ]
  },
  {
   "cell_type": "code",
   "execution_count": 3,
   "id": "a7668f0e",
   "metadata": {},
   "outputs": [],
   "source": [
    "from ad_afqmc.lno.base import lno\n",
    "from pyscf.lib import logger\n",
    "import numpy as np\n",
    "from functools import reduce\n",
    "\n",
    "_fdot = np.dot\n",
    "fdot = lambda *args: reduce(_fdot, args)"
   ]
  },
  {
   "cell_type": "code",
   "execution_count": null,
   "id": "4f3e52be",
   "metadata": {},
   "outputs": [
    {
     "name": "stdout",
     "output_type": "stream",
     "text": [
      "lo_type = pm\n",
      "LOs span exactly the occupied space.\n",
      "Using single-LO fragment\n",
      "nfrag = 5  nlo = 5\n",
      "frag_atmlist = None\n",
      "frag_lolist = [[0], [1], [2], [3], [4]]\n",
      "frag_nonvlist = None\n",
      "Lov is saved to /tmp/de3pwd9t\n",
      "lno thresh [0.001, 0.0001]\n",
      "########### running fragment 1 ##########\n",
      "\n",
      "WARN: CCSD detected DF being used in the HF object. MO integrals are computed based on the DF 3-index tensors.\n",
      "It's recommended to use dfccsd.CCSD for the DF-CCSD calculations\n",
      "\n",
      "Init t2, MP2 energy = -5.28169984672868  E_corr(MP2) -0.0309313967729368\n",
      "\n",
      "******** <class 'pyscf.cc.dfccsd.RCCSD'> ********\n",
      "CC2 = 0\n",
      "CCSD nocc = 2, nmo = 6\n",
      "frozen orbitals [0 1 2 9]\n",
      "max_cycle = 50\n",
      "direct = 0\n",
      "conv_tol = 1e-07\n",
      "conv_tol_normt = 1e-05\n",
      "diis_space = 6\n",
      "diis_start_cycle = 0\n",
      "diis_start_energy_diff = 1e+09\n",
      "max_memory 4000 MB (current use 258 MB)\n",
      "Init E_corr(RCCSD) = -0.030931396772961\n",
      "cycle = 1  E_corr(RCCSD) = -0.0364125454806054  dE = -0.00548114871  norm(t1,t2) = 0.0305595\n",
      "cycle = 2  E_corr(RCCSD) = -0.038913244970123  dE = -0.00250069949  norm(t1,t2) = 0.013155\n",
      "cycle = 3  E_corr(RCCSD) = -0.0403942265485628  dE = -0.00148098158  norm(t1,t2) = 0.0058052\n",
      "cycle = 4  E_corr(RCCSD) = -0.0405474323393658  dE = -0.000153205791  norm(t1,t2) = 0.00119609\n"
     ]
    },
    {
     "name": "stderr",
     "output_type": "stream",
     "text": [
      "Overwritten attributes  ao2mo  of <class 'pyscf.cc.dfccsd.RCCSD'>\n"
     ]
    },
    {
     "name": "stdout",
     "output_type": "stream",
     "text": [
      "cycle = 5  E_corr(RCCSD) = -0.0405260096778854  dE = 2.14226615e-05  norm(t1,t2) = 0.000407755\n",
      "cycle = 6  E_corr(RCCSD) = -0.0405247526343399  dE = 1.25704355e-06  norm(t1,t2) = 0.000107132\n",
      "cycle = 7  E_corr(RCCSD) = -0.0405262780422874  dE = -1.52540795e-06  norm(t1,t2) = 3.03296e-05\n",
      "cycle = 8  E_corr(RCCSD) = -0.0405262700810433  dE = 7.96124409e-09  norm(t1,t2) = 5.55459e-06\n",
      "RCCSD converged\n",
      "E(RCCSD) = -5.291294720036783  E_corr = -0.04052627008104327\n",
      "# lno-ccsd correlation energy: -0.026643193849104952\n",
      "# number of active electrons: 4\n",
      "# number of active orbitals: 6\n",
      "# number of frozen orbitals: 4\n",
      "# Generating Cholesky Integrals\n",
      "# frozen orbitals: [0 1 2 9]\n",
      "# local active orbitals: [3 4 5 6 7 8]\n",
      "# local active space size: 6\n",
      "# using density fitting\n",
      "# Decomposing ERI with DF\n",
      "# chol shape: (90, 36)\n",
      "# Finished calculating Cholesky integrals\n",
      "\n",
      "# Size of the correlation space\n",
      "# Number of electrons: (2, 2)\n",
      "# Number of basis functions: 6\n",
      "# Number of DF vectors: 90\n",
      "\n"
     ]
    }
   ],
   "source": [
    "from ad_afqmc.lno.cc import LNOCCSD\n",
    "from pyscf.lib import logger\n",
    "import sys\n",
    "from ad_afqmc.lno.base import lno\n",
    "from ad_afqmc.lno_ccsd import lno_ccsd\n",
    "import numpy as np\n",
    "from functools import reduce\n",
    "log = logger.Logger(sys.stdout, 6)\n",
    "\n",
    "options = {\n",
    "    \"n_eql\": 4,\n",
    "    \"n_ene_blocks\": 1,\n",
    "    \"n_sr_blocks\": 20,\n",
    "    \"n_blocks\": 20,\n",
    "    \"n_walkers\": 5,\n",
    "    \"seed\": 98,\n",
    "    \"trial\": \"cisd\",\n",
    "    \"walker_type\": \"rhf\",\n",
    "    \"dt\":0.005,\n",
    "    \"ene0\": 0,\n",
    "}\n",
    "\n",
    "thresh = 1e-4\n",
    "# chol_cut = 1e-6\n",
    "frozen = 0\n",
    "run_frg_list = None\n",
    "lo_type = 'pm'\n",
    "no_type = 'ie' # cim\n",
    "frag_lolist = '1o'\n",
    "\n",
    "t1 = mycc.t1\n",
    "t2 = mycc.t2\n",
    "full_ci1 = np.array(t1)\n",
    "full_ci2 = t2 + np.einsum(\"ia,jb->ijab\", full_ci1, full_ci1)\n",
    "full_ci2 = full_ci2.transpose(0, 2, 1, 3)\n",
    "np.savez(\"amplitudes.npz\", full_ci1=full_ci1, full_ci2=full_ci2)\n",
    "\n",
    "if isinstance(thresh, list):\n",
    "    thresh_occ, thresh_vir = thresh\n",
    "else:\n",
    "    thresh_occ = thresh*10\n",
    "    thresh_vir = thresh\n",
    "\n",
    "lno_cc = LNOCCSD(mf, thresh=thresh, frozen=frozen)\n",
    "lno_cc.thresh_occ = thresh_occ\n",
    "lno_cc.thresh_vir = thresh_vir\n",
    "lno_cc.lo_type = lo_type\n",
    "lno_cc.no_type = no_type\n",
    "lno_cc.frag_lolist = frag_lolist\n",
    "# lno_cc.ccsd_t = True\n",
    "lno_cc.force_outcore_ao2mo = True\n",
    "\n",
    "frag_atmlist = lno_cc.frag_atmlist\n",
    "s1e = lno_cc._scf.get_ovlp()\n",
    "\n",
    "\n",
    "# log.info('no_type = %s', no_type)\n",
    "\n",
    "# LO construction\n",
    "orbloc = lno_cc.get_lo(lo_type=lo_type) # localized active occ orbitals\n",
    "orbactocc = lno_cc.split_mo()[1] # non-localized active occ\n",
    "m = fdot(orbloc.T, s1e, orbactocc)\n",
    "lospanerr = abs(fdot(m.T, m) - np.eye(m.shape[1])).max()\n",
    "if lospanerr > 1e-10:\n",
    "    log.error('LOs do not fully span the occupied space! '\n",
    "                'Max|<occ|LO><LO|occ>| = %e', lospanerr)\n",
    "    raise RuntimeError\n",
    "\n",
    "# check Span(LO) == Span(occ)\n",
    "occspanerr = abs(fdot(m, m.T) - np.eye(m.shape[0])).max()\n",
    "if occspanerr < 1e-10:\n",
    "    log.info('LOs span exactly the occupied space.')\n",
    "    if no_type not in ['ir','ie']:\n",
    "        log.error('\"no_type\" must be \"ir\" or \"ie\".')\n",
    "        raise ValueError\n",
    "else:\n",
    "    log.info('LOs span occupied space plus some virtual space.')\n",
    "\n",
    "# LO assignment to fragments\n",
    "\n",
    "if frag_lolist == '1o':\n",
    "    log.info('Using single-LO fragment') # this is what we use, every active local occ labels a fragment\n",
    "    frag_lolist = [[i] for i in range(orbloc.shape[1])]\n",
    "else: print('Only support single LO fragment!')\n",
    "nfrag = len(frag_lolist)\n",
    "frag_nonvlist = lno_cc.frag_nonvlist\n",
    "\n",
    "# dump info\n",
    "log.info('nfrag = %d  nlo = %d', nfrag, orbloc.shape[1])\n",
    "log.info('frag_atmlist = %s', frag_atmlist)\n",
    "log.info('frag_lolist = %s', frag_lolist)\n",
    "log.info('frag_nonvlist = %s', frag_nonvlist)\n",
    "\n",
    "if not (no_type[0] in 'rei' and no_type[1] in 'rei'):\n",
    "    log.warn('Input no_type \"%s\" is invalid.', no_type)\n",
    "    raise ValueError\n",
    "\n",
    "if frag_nonvlist is None: frag_nonvlist = [[None,None]] * nfrag\n",
    "\n",
    "eris = lno_cc.ao2mo()\n",
    "frozen_mask = lno_cc.get_frozen_mask()\n",
    "thresh_pno = [thresh_occ,thresh_vir]\n",
    "print(f'lno thresh {thresh_pno}')\n",
    "\n",
    "if run_frg_list is None:\n",
    "    run_frg_list = range(nfrag)\n",
    "\n",
    "from jax import random\n",
    "seeds = random.randint(random.PRNGKey(options[\"seed\"]),\n",
    "                    shape=(len(run_frg_list),), minval=0, maxval=100000*nfrag)\n",
    "\n",
    "# for ifrag in run_frg_list:\n",
    "for ifrag in [0]:\n",
    "    print(f'########### running fragment {ifrag+1} ##########')\n",
    "    fraglo = frag_lolist[ifrag]\n",
    "    orbfragloc = orbloc[:,fraglo] # the specific local active occ\n",
    "    frag_target_nocc, frag_target_nvir = frag_nonvlist[ifrag]\n",
    "    THRESH_INTERNAL = 1e-10\n",
    "    frzfrag, orbfrag, can_orbfrag = lno.make_fpno1(lno_cc, eris, orbfragloc, no_type,\n",
    "                                                THRESH_INTERNAL, thresh_pno,\n",
    "                                                frozen_mask=frozen_mask,\n",
    "                                                frag_target_nocc=frag_target_nocc,\n",
    "                                                frag_target_nvir=frag_target_nvir,\n",
    "                                                canonicalize=False)\n",
    "    \n",
    "    full_cisd = True\n",
    "    if full_cisd:\n",
    "        content = dict(np.load(\"amplitudes.npz\"))\n",
    "        mol = mf.mol\n",
    "        nocc = mol.nelectron // 2 \n",
    "        nao = mol.nao\n",
    "        actfrag = np.array([i for i in range(nao) if i not in frzfrag])\n",
    "        frzocc = np.array([i for i in range(nocc) if i in frzfrag])\n",
    "        #actocc = np.array([i for i in range(nocc) if i in actfrag])\n",
    "        no2mo_prj = lno_ccsd.no2mo(mf.mo_coeff,s1e,orbfrag).T\n",
    "        content[\"no2mo_frzocc\"] = no2mo_prj[:, frzocc]\n",
    "        content[\"no2mo_act\"] = no2mo_prj[:, actfrag]\n",
    "        np.savez(\"amplitudes.npz\", **content)\n",
    "\n",
    "    ecorr_ccsd,t1,t2,prjlo,nactocc,nactvir,maskact,maskocc \\\n",
    "        = lno_ccsd.cc_impurity_solve(\n",
    "            mf,orbfrag,orbfragloc,frozen=frzfrag,eris=eris,log=log)\n",
    "    \n",
    "    nelec_act = nactocc*2\n",
    "    norb_act = nactocc+nactvir\n",
    "    print(f'# lno-ccsd correlation energy: {ecorr_ccsd}')\n",
    "    print(f'# number of active electrons: {nelec_act}')\n",
    "    print(f'# number of active orbitals: {norb_act}')\n",
    "    print(f'# number of frozen orbitals: {len(frzfrag)}')\n",
    "\n",
    "\n",
    "    options[\"seed\"] = seeds[ifrag]\n",
    "    lno_ccsd.prep_lno_amp_chol_file(\n",
    "        mf,orbfrag,options,\n",
    "        norb_act=(nactocc+nactvir),nelec_act=nactocc*2,\n",
    "        prjlo=prjlo,norb_frozen=frzfrag,t1=t1,t2=t2,full_cisd=full_cisd)  \n",
    "    "
   ]
  },
  {
   "cell_type": "code",
   "execution_count": 15,
   "id": "2020a8e9",
   "metadata": {},
   "outputs": [],
   "source": [
    "mo = mf.mo_coeff\n",
    "no = orbfrag\n",
    "lo_occ = orbloc\n",
    "dm1 = mf.make_rdm1(mo)\n",
    "dm2 = mf.make_rdm2(no)"
   ]
  },
  {
   "cell_type": "code",
   "execution_count": 21,
   "id": "a37ece4e",
   "metadata": {},
   "outputs": [
    {
     "name": "stdout",
     "output_type": "stream",
     "text": [
      "3.5860203695392556e-14\n"
     ]
    }
   ],
   "source": [
    "nocc = mol.nelectron // 2\n",
    "mo_occ = mo[:,:nocc]\n",
    "mo_vir = mo[:,nocc:]\n",
    "no_occ = no[:,:nocc]\n",
    "no_vir = no[:,nocc:]\n",
    "m = fdot(no_vir.T, s1e, mo_vir)\n",
    "lospanerr = abs(fdot(m.T, m) - np.eye(m.shape[1])).max()\n",
    "print(lospanerr)\n",
    "if lospanerr > 1e-10:\n",
    "    log.error('LOs do not fully span the occupied space! '\n",
    "                'Max|<occ|LO><LO|occ>| = %e', lospanerr)\n",
    "    raise RuntimeError"
   ]
  },
  {
   "cell_type": "code",
   "execution_count": 7,
   "id": "30608d04",
   "metadata": {},
   "outputs": [
    {
     "name": "stdout",
     "output_type": "stream",
     "text": [
      "\n",
      "\n",
      "******** <class 'pyscf.df.df_jk.DFRHF'> ********\n",
      "method = DFRHF\n",
      "initial guess = minao\n",
      "damping factor = 0\n",
      "level_shift factor = 0\n",
      "DIIS = <class 'pyscf.scf.diis.CDIIS'>\n",
      "diis_start_cycle = 1\n",
      "diis_space = 8\n",
      "diis_damp = 0\n",
      "SCF conv_tol = 1e-09\n",
      "SCF conv_tol_grad = None\n",
      "SCF max_cycles = 50\n",
      "direct_scf = False\n",
      "chkfile to save SCF result = /tmp/tmpw20bw0co\n",
      "max_memory 4000 MB (current use 261 MB)\n",
      "Set gradient conv threshold to 3.16228e-05\n",
      "init E= -5.25076844995581\n",
      "  HOMO = -0.27317661221491  LUMO = 0.162812857650495\n",
      "cycle= 1 E= -5.25076844995581  delta_E=    0  |g|= 2.38e-08  |ddm|= 1.22e-07\n",
      "  HOMO = -0.273176607440234  LUMO = 0.162812852424909\n",
      "Extra cycle  E= -5.25076844995581  delta_E= -5.33e-15  |g|= 1.08e-08  |ddm|= 5.54e-08\n",
      "converged SCF energy = -5.25076844995581\n"
     ]
    },
    {
     "data": {
      "text/plain": [
       "-5.250768449955812"
      ]
     },
     "execution_count": 7,
     "metadata": {},
     "output_type": "execute_result"
    }
   ],
   "source": [
    "mf.kernel(dm=dm2)"
   ]
  },
  {
   "cell_type": "code",
   "execution_count": 26,
   "id": "18889a45",
   "metadata": {},
   "outputs": [],
   "source": [
    "s1e = mf.get_ovlp()\n",
    "prj_mo2no = lno_ccsd.no2mo(mo,s1e,no).T"
   ]
  },
  {
   "cell_type": "code",
   "execution_count": 23,
   "id": "78377dd5",
   "metadata": {},
   "outputs": [
    {
     "name": "stdout",
     "output_type": "stream",
     "text": [
      "(5, 5) (5, 5, 5, 5)\n"
     ]
    }
   ],
   "source": [
    "print(full_ci1.shape, full_ci2.shape)"
   ]
  },
  {
   "cell_type": "code",
   "execution_count": null,
   "id": "5e6f2e5f",
   "metadata": {},
   "outputs": [
    {
     "name": "stdout",
     "output_type": "stream",
     "text": [
      "10\n",
      "[0 1 2 9]\n",
      "[3 4 5 6 7 8]\n",
      "[0 1 2]\n",
      "[3 4]\n",
      "[5 6 7 8]\n"
     ]
    }
   ],
   "source": [
    "nocc = mol.nelectron // 2 \n",
    "nao = mol.nao\n",
    "print(nao)\n",
    "actfrag = np.array([i for i in range(nao) if i not in frzfrag])\n",
    "frzocc = np.array([i for i in range(nocc) if i in frzfrag])\n",
    "actocc = np.array(\n",
    "    [i for i in range(nocc) if i in actfrag])\n",
    "actvir = np.array(\n",
    "    [i for i in range(nocc,nao) if i in actfrag])\n",
    "print(frzocc)\n",
    "print(actocc)\n",
    "print(actvir)"
   ]
  },
  {
   "cell_type": "code",
   "execution_count": 38,
   "id": "ec192316",
   "metadata": {},
   "outputs": [
    {
     "name": "stdout",
     "output_type": "stream",
     "text": [
      "(5, 5) (5, 5)\n",
      "(2, 5) (4, 5)\n"
     ]
    }
   ],
   "source": [
    "prj_oo = prj_mo2no[:nocc,:nocc]\n",
    "prj_vv = prj_mo2no[nocc:,nocc:]\n",
    "print(prj_oo.shape, prj_vv.shape)\n",
    "prj_oo_act = prj_oo[actocc]\n",
    "prj_vv_act = prj_vv[actvir]\n",
    "print(prj_oo_act.shape, prj_vv_act.shape)"
   ]
  },
  {
   "cell_type": "code",
   "execution_count": null,
   "id": "0359a923",
   "metadata": {},
   "outputs": [],
   "source": [
    "t1 = mycc.t1\n",
    "t2 = mycc.t2\n",
    "t1 = np.einsum(\"ji,jb,ab->ia\",prj_oo_act.T,full_ci1,prj_vv_act)\n",
    "ci2 = np.einsum(\"ki,lj,kcld,ac,bd->iajb\",prj_oo_act.T,prj_oo_act.T,full_ci2,prj_vv_act,prj_vv_act)\n",
    "# t1 = ci1\n",
    "# t2 = ci2.transpose(0, 2, 1, 3)\n",
    "# t2 -= np.einsum('ia,jb->ijab',t1,t1)"
   ]
  },
  {
   "cell_type": "code",
   "execution_count": 40,
   "id": "db9d1f07",
   "metadata": {},
   "outputs": [
    {
     "name": "stdout",
     "output_type": "stream",
     "text": [
      "(2, 4) (2, 4, 2, 4)\n"
     ]
    }
   ],
   "source": [
    "print(ci1.shape, ci2.shape)"
   ]
  },
  {
   "cell_type": "code",
   "execution_count": 34,
   "id": "2e5efa42",
   "metadata": {},
   "outputs": [
    {
     "name": "stdout",
     "output_type": "stream",
     "text": [
      "\n",
      "******** <class 'pyscf.cc.dfccsd.RCCSD'> ********\n",
      "CC2 = 0\n",
      "CCSD nocc = 5, nmo = 10\n",
      "max_cycle = 50\n",
      "direct = 0\n",
      "conv_tol = 1e-07\n",
      "conv_tol_normt = 1e-05\n",
      "diis_space = 6\n",
      "diis_start_cycle = 0\n",
      "diis_start_energy_diff = 1e+09\n",
      "max_memory 4000 MB (current use 275 MB)\n",
      "Init E_corr(RCCSD) = -0.167338402005305\n",
      "cycle = 1  E_corr(RCCSD) = -0.167338385254197  dE = 1.67511078e-08  norm(t1,t2) = 6.62485e-07\n",
      "RCCSD converged\n",
      "E(RCCSD) = -5.418106835209934  E_corr = -0.1673383852541969\n"
     ]
    },
    {
     "data": {
      "text/plain": [
       "(-0.16733838525419692,\n",
       " array([[ 1.39819405e-08, -6.06413416e-03, -2.89459364e-07,\n",
       "         -5.66297684e-03, -1.60331255e-03],\n",
       "        [-4.31046070e-04, -3.51704052e-07,  4.96727169e-03,\n",
       "         -3.26094427e-07, -9.01739444e-08],\n",
       "        [-4.67171529e-03,  5.66653549e-09,  5.43123467e-03,\n",
       "          2.12349032e-08,  3.14604479e-08],\n",
       "        [ 5.00514652e-09, -4.95759938e-03,  1.65353294e-08,\n",
       "         -1.30702726e-02,  1.99504430e-03],\n",
       "        [-1.87984015e-03,  4.93313271e-09,  8.81412535e-03,\n",
       "          1.35642826e-08,  1.29457628e-08]]),\n",
       " array([[[[-3.86377641e-02,  1.88085543e-06,  1.95575389e-02,\n",
       "            5.12149096e-07,  4.65328008e-06],\n",
       "          [ 1.88085543e-06, -2.00035876e-02, -2.41744010e-06,\n",
       "           -1.20063347e-02, -1.84896857e-02],\n",
       "          [ 1.95575389e-02, -2.41744010e-06, -2.11011667e-02,\n",
       "           -1.33848373e-06, -2.86591994e-06],\n",
       "          [ 5.12149096e-07, -1.20063347e-02, -1.33848373e-06,\n",
       "           -8.47579136e-03, -5.34276749e-03],\n",
       "          [ 4.65328008e-06, -1.84896857e-02, -2.86591994e-06,\n",
       "           -5.34276749e-03, -4.02356807e-02]],\n",
       " \n",
       "         [[-6.74705483e-07, -1.69277452e-02,  4.83531170e-08,\n",
       "           -4.36953289e-03, -3.97653911e-02],\n",
       "          [-1.82813911e-02,  4.03315044e-08,  2.09558067e-02,\n",
       "            5.27379911e-09,  3.58531146e-07],\n",
       "          [ 4.46839664e-08,  2.07228039e-02,  3.42220153e-08,\n",
       "            1.12546815e-02,  2.37176584e-02],\n",
       "          [-5.36891479e-03,  9.50162205e-09,  1.18477797e-02,\n",
       "           -2.19267560e-08,  1.88372033e-07],\n",
       "          [-4.08518846e-02,  3.41450854e-07,  2.32496305e-02,\n",
       "            1.76448112e-07,  9.11401384e-07]],\n",
       " \n",
       "         [[-4.56272868e-07,  1.76592016e-02,  7.34779332e-07,\n",
       "            1.41130325e-02,  1.36586835e-02],\n",
       "          [ 3.53827836e-02, -4.25766401e-07, -5.13186876e-03,\n",
       "           -3.63703871e-08, -2.32393357e-06],\n",
       "          [ 1.38840623e-06,  1.30889367e-05, -3.03206274e-07,\n",
       "            3.54022050e-03, -2.77831594e-02],\n",
       "          [ 2.97734667e-02, -4.58752828e-07, -6.92664863e-03,\n",
       "            7.90793884e-09, -1.95667348e-06],\n",
       "          [ 1.64722867e-02, -1.24497491e-06, -1.61099710e-02,\n",
       "           -9.25363440e-07, -1.39743900e-06]],\n",
       " \n",
       "         [[-1.31261316e-02,  7.37790355e-07,  1.59709089e-02,\n",
       "            5.03056631e-07,  8.95981961e-07],\n",
       "          [ 1.30181294e-06, -1.96033428e-03, -3.98898856e-07,\n",
       "            2.88569570e-03, -2.50685085e-02],\n",
       "          [ 2.87837328e-02, -2.80423335e-07, -3.28932886e-03,\n",
       "            1.41619155e-08, -1.99028141e-06],\n",
       "          [ 9.03746613e-07, -5.07326222e-03, -4.75853110e-07,\n",
       "            2.14735436e-03, -1.74849499e-02],\n",
       "          [ 9.74980642e-07, -1.41449106e-02, -1.16790199e-06,\n",
       "           -8.84256147e-03, -1.79750582e-02]],\n",
       " \n",
       "         [[ 6.64164491e-08,  3.02835827e-03,  4.60960135e-08,\n",
       "            6.44060078e-03, -3.00478234e-04],\n",
       "          [ 7.64472681e-03, -8.91019811e-08, -1.82607918e-03,\n",
       "           -1.76576806e-08, -4.93646785e-07],\n",
       "          [ 1.90698452e-07,  3.80366481e-04, -5.43101515e-08,\n",
       "            3.36271659e-04, -4.09199384e-03],\n",
       "          [ 1.59607685e-02, -6.36302051e-08, -8.76054472e-05,\n",
       "           -7.71928549e-08, -1.03822243e-06],\n",
       "          [ 6.60039960e-04, -1.89672484e-07, -1.73886283e-03,\n",
       "           -4.21556261e-07, -5.64100019e-08]]],\n",
       " \n",
       " \n",
       "        [[[-6.74705483e-07, -1.82813911e-02,  4.46839664e-08,\n",
       "           -5.36891479e-03, -4.08518846e-02],\n",
       "          [-1.69277452e-02,  4.03315044e-08,  2.07228039e-02,\n",
       "            9.50162205e-09,  3.41450854e-07],\n",
       "          [ 4.83531170e-08,  2.09558067e-02,  3.42220153e-08,\n",
       "            1.18477797e-02,  2.32496305e-02],\n",
       "          [-4.36953289e-03,  5.27379911e-09,  1.12546815e-02,\n",
       "           -2.19267560e-08,  1.76448112e-07],\n",
       "          [-3.97653911e-02,  3.58531146e-07,  2.37176584e-02,\n",
       "            1.88372033e-07,  9.11401384e-07]],\n",
       " \n",
       "         [[-3.76359053e-02, -2.20864550e-06,  2.17603200e-02,\n",
       "           -6.23921501e-07, -4.72511201e-06],\n",
       "          [-2.20864550e-06, -2.09228481e-02,  2.41212869e-06,\n",
       "           -1.22826706e-02, -2.23666888e-02],\n",
       "          [ 2.17603200e-02,  2.41212869e-06, -2.14430386e-02,\n",
       "            1.33786784e-06,  2.53819920e-06],\n",
       "          [-6.23921501e-07, -1.22826706e-02,  1.33786784e-06,\n",
       "           -8.18449881e-03, -7.95321318e-03],\n",
       "          [-4.72511201e-06, -2.23666888e-02,  2.53819920e-06,\n",
       "           -7.95321318e-03, -4.53529744e-02]],\n",
       " \n",
       "         [[ 1.20727278e-02,  1.19818275e-06, -1.50414301e-02,\n",
       "            9.48589160e-07,  8.67057102e-07],\n",
       "          [ 2.37611104e-06,  7.75307543e-03, -2.85460040e-07,\n",
       "            6.27358093e-04,  3.63049891e-02],\n",
       "          [-2.81832426e-02,  1.47319197e-08,  5.50650495e-03,\n",
       "            2.15549121e-07, -1.42459097e-06],\n",
       "          [ 1.99516681e-06,  8.36720299e-03, -3.97598389e-07,\n",
       "           -1.73560057e-04,  3.04786622e-02],\n",
       "          [ 1.03359679e-06,  1.96064935e-02, -8.33542469e-07,\n",
       "            1.44202104e-02,  2.05505651e-02]],\n",
       " \n",
       "         [[-9.96664830e-07, -1.41070985e-02,  1.02995917e-06,\n",
       "           -9.35028388e-03, -1.58829263e-02],\n",
       "          [-2.46910721e-02, -9.43270596e-08,  7.15225408e-03,\n",
       "            1.70390677e-07, -1.20085288e-06],\n",
       "          [ 1.83332864e-06,  5.32030981e-03, -1.61932904e-07,\n",
       "           -3.50656038e-06,  2.95369033e-02],\n",
       "          [-1.67538618e-02, -2.77159051e-07,  8.18929669e-03,\n",
       "            1.29276869e-07, -8.20106392e-07],\n",
       "          [-1.71501073e-02, -6.81409170e-07,  1.75288957e-02,\n",
       "           -4.12974206e-07, -7.57870678e-07]],\n",
       " \n",
       "         [[-6.30092085e-04,  2.22110775e-07, -1.38737662e-03,\n",
       "            4.35650143e-07,  2.86088919e-08],\n",
       "          [ 5.36577592e-07,  1.74842721e-03, -1.18825582e-07,\n",
       "            4.74706477e-04,  8.11699147e-03],\n",
       "          [-4.40642496e-03,  9.44207634e-09,  1.03370728e-03,\n",
       "            1.67234088e-08, -2.35454393e-07],\n",
       "          [ 1.06839059e-06,  1.57225396e-03, -3.65772408e-09,\n",
       "            8.69697738e-04,  1.61692028e-02],\n",
       "          [ 8.54352830e-08,  3.25460104e-03, -1.14084803e-07,\n",
       "            6.60833160e-03,  1.50748534e-03]]],\n",
       " \n",
       " \n",
       "        [[[-4.56272868e-07,  3.53827836e-02,  1.38840623e-06,\n",
       "            2.97734667e-02,  1.64722867e-02],\n",
       "          [ 1.76592016e-02, -4.25766401e-07,  1.30889367e-05,\n",
       "           -4.58752828e-07, -1.24497491e-06],\n",
       "          [ 7.34779332e-07, -5.13186876e-03, -3.03206274e-07,\n",
       "           -6.92664863e-03, -1.61099710e-02],\n",
       "          [ 1.41130325e-02, -3.63703871e-08,  3.54022050e-03,\n",
       "            7.90793884e-09, -9.25363440e-07],\n",
       "          [ 1.36586835e-02, -2.32393357e-06, -2.77831594e-02,\n",
       "           -1.95667348e-06, -1.39743900e-06]],\n",
       " \n",
       "         [[ 1.20727278e-02,  2.37611104e-06, -2.81832426e-02,\n",
       "            1.99516681e-06,  1.03359679e-06],\n",
       "          [ 1.19818275e-06,  7.75307543e-03,  1.47319197e-08,\n",
       "            8.36720299e-03,  1.96064935e-02],\n",
       "          [-1.50414301e-02, -2.85460040e-07,  5.50650495e-03,\n",
       "           -3.97598389e-07, -8.33542469e-07],\n",
       "          [ 9.48589160e-07,  6.27358093e-04,  2.15549121e-07,\n",
       "           -1.73560057e-04,  1.44202104e-02],\n",
       "          [ 8.67057102e-07,  3.63049891e-02, -1.42459097e-06,\n",
       "            3.04786622e-02,  2.05505651e-02]],\n",
       " \n",
       "         [[-1.68295735e-02, -9.15352071e-08,  1.85372404e-03,\n",
       "           -5.02424189e-08, -6.13256615e-08],\n",
       "          [-9.15352071e-08, -8.84575752e-02,  2.19563591e-07,\n",
       "           -7.71994502e-02, -1.42412286e-02],\n",
       "          [ 1.85372404e-03,  2.19563591e-07, -6.00073364e-02,\n",
       "            1.45262282e-07,  3.88504306e-09],\n",
       "          [-5.02424189e-08, -7.71994502e-02,  1.45262282e-07,\n",
       "           -7.77040597e-02, -9.72387299e-03],\n",
       "          [-6.13256615e-08, -1.42412286e-02,  3.88504306e-09,\n",
       "           -9.72387299e-03, -1.91175344e-02]],\n",
       " \n",
       "         [[ 2.12423217e-07,  4.08390224e-03, -8.86654102e-08,\n",
       "            5.06121031e-04,  1.50151845e-02],\n",
       "          [-1.72477013e-03, -5.61709694e-08, -5.93320411e-02,\n",
       "           -8.80092622e-08, -9.69444448e-09],\n",
       "          [-5.83071926e-08, -7.11649503e-02, -3.34637521e-08,\n",
       "           -5.92767637e-02, -9.35284729e-03],\n",
       "          [-3.61001287e-03, -1.26293600e-07, -3.15309933e-02,\n",
       "           -1.31482428e-07,  5.76614841e-09],\n",
       "          [ 1.43659580e-02, -4.08947978e-08, -1.15332196e-02,\n",
       "           -1.43401500e-08, -2.40618104e-07]],\n",
       " \n",
       "         [[-3.02693841e-03, -2.45166911e-08, -2.01508388e-03,\n",
       "           -3.87225134e-08, -2.97634869e-08],\n",
       "          [-5.98648792e-08, -1.66623847e-02,  6.37567284e-08,\n",
       "           -2.38650225e-02, -6.42009663e-03],\n",
       "          [ 4.95520549e-03,  6.08362727e-08, -4.71462416e-03,\n",
       "            5.60522749e-08, -1.72968690e-08],\n",
       "          [-5.80410821e-08, -5.21722640e-02,  1.04839343e-07,\n",
       "           -6.74634547e-02, -8.09042221e-03],\n",
       "          [-2.91427517e-08, -1.82543546e-03,  3.81891913e-08,\n",
       "           -4.18938608e-03, -3.68675829e-03]]],\n",
       " \n",
       " \n",
       "        [[[-1.31261316e-02,  1.30181294e-06,  2.87837328e-02,\n",
       "            9.03746613e-07,  9.74980642e-07],\n",
       "          [ 7.37790355e-07, -1.96033428e-03, -2.80423335e-07,\n",
       "           -5.07326222e-03, -1.41449106e-02],\n",
       "          [ 1.59709089e-02, -3.98898856e-07, -3.28932886e-03,\n",
       "           -4.75853110e-07, -1.16790199e-06],\n",
       "          [ 5.03056631e-07,  2.88569570e-03,  1.41619155e-08,\n",
       "            2.14735436e-03, -8.84256147e-03],\n",
       "          [ 8.95981961e-07, -2.50685085e-02, -1.99028141e-06,\n",
       "           -1.74849499e-02, -1.79750582e-02]],\n",
       " \n",
       "         [[-9.96664830e-07, -2.46910721e-02,  1.83332864e-06,\n",
       "           -1.67538618e-02, -1.71501073e-02],\n",
       "          [-1.41070985e-02, -9.43270596e-08,  5.32030981e-03,\n",
       "           -2.77159051e-07, -6.81409170e-07],\n",
       "          [ 1.02995917e-06,  7.15225408e-03, -1.61932904e-07,\n",
       "            8.18929669e-03,  1.75288957e-02],\n",
       "          [-9.35028388e-03,  1.70390677e-07, -3.50656038e-06,\n",
       "            1.29276869e-07, -4.12974206e-07],\n",
       "          [-1.58829263e-02, -1.20085288e-06,  2.95369033e-02,\n",
       "           -8.20106392e-07, -7.57870678e-07]],\n",
       " \n",
       "         [[ 2.12423217e-07, -1.72477013e-03, -5.83071926e-08,\n",
       "           -3.61001287e-03,  1.43659580e-02],\n",
       "          [ 4.08390224e-03, -5.61709694e-08, -7.11649503e-02,\n",
       "           -1.26293600e-07, -4.08947978e-08],\n",
       "          [-8.86654102e-08, -5.93320411e-02, -3.34637521e-08,\n",
       "           -3.15309933e-02, -1.15332196e-02],\n",
       "          [ 5.06121031e-04, -8.80092622e-08, -5.92767637e-02,\n",
       "           -1.31482428e-07, -1.43401500e-08],\n",
       "          [ 1.50151845e-02, -9.69444448e-09, -9.35284729e-03,\n",
       "            5.76614841e-09, -2.40618104e-07]],\n",
       " \n",
       "         [[-1.26920608e-02, -4.82944221e-08,  1.90124175e-03,\n",
       "           -2.95675396e-08,  4.76155539e-08],\n",
       "          [-4.82944221e-08, -4.88519086e-02, -2.46115034e-07,\n",
       "           -2.70575900e-02, -6.15486933e-03],\n",
       "          [ 1.90124175e-03, -2.46115034e-07, -7.20201584e-02,\n",
       "           -2.27664292e-07, -5.09469166e-08],\n",
       "          [-2.95675396e-08, -2.70575900e-02, -2.27664292e-07,\n",
       "           -3.42309208e-02, -2.56438440e-03],\n",
       "          [ 4.76155539e-08, -6.15486933e-03, -5.09469166e-08,\n",
       "           -2.56438440e-03, -1.31981171e-02]],\n",
       " \n",
       "         [[ 4.66035303e-08, -1.53099789e-03, -2.85650810e-08,\n",
       "            3.10920441e-04,  2.01192963e-03],\n",
       "          [ 4.59345232e-03,  1.21731813e-08, -6.25412208e-03,\n",
       "           -1.33243756e-08, -3.21180577e-08],\n",
       "          [-4.01916386e-08,  2.42758900e-04,  3.39878999e-08,\n",
       "           -6.07254159e-03, -5.32408856e-03],\n",
       "          [ 1.28039506e-03, -5.80923921e-08, -5.34175185e-02,\n",
       "           -2.26732946e-07, -1.92535568e-08],\n",
       "          [ 2.65136499e-03,  2.50647264e-08, -1.57687104e-03,\n",
       "           -4.43830268e-09, -2.30587913e-08]]],\n",
       " \n",
       " \n",
       "        [[[ 6.64164491e-08,  7.64472681e-03,  1.90698452e-07,\n",
       "            1.59607685e-02,  6.60039960e-04],\n",
       "          [ 3.02835827e-03, -8.91019811e-08,  3.80366481e-04,\n",
       "           -6.36302051e-08, -1.89672484e-07],\n",
       "          [ 4.60960135e-08, -1.82607918e-03, -5.43101515e-08,\n",
       "           -8.76054472e-05, -1.73886283e-03],\n",
       "          [ 6.44060078e-03, -1.76576806e-08,  3.36271659e-04,\n",
       "           -7.71928549e-08, -4.21556261e-07],\n",
       "          [-3.00478234e-04, -4.93646785e-07, -4.09199384e-03,\n",
       "           -1.03822243e-06, -5.64100019e-08]],\n",
       " \n",
       "         [[-6.30092085e-04,  5.36577592e-07, -4.40642496e-03,\n",
       "            1.06839059e-06,  8.54352830e-08],\n",
       "          [ 2.22110775e-07,  1.74842721e-03,  9.44207634e-09,\n",
       "            1.57225396e-03,  3.25460104e-03],\n",
       "          [-1.38737662e-03, -1.18825582e-07,  1.03370728e-03,\n",
       "           -3.65772408e-09, -1.14084803e-07],\n",
       "          [ 4.35650143e-07,  4.74706477e-04,  1.67234088e-08,\n",
       "            8.69697738e-04,  6.60833160e-03],\n",
       "          [ 2.86088919e-08,  8.11699147e-03, -2.35454393e-07,\n",
       "            1.61692028e-02,  1.50748534e-03]],\n",
       " \n",
       "         [[-3.02693841e-03, -5.98648792e-08,  4.95520549e-03,\n",
       "           -5.80410821e-08, -2.91427517e-08],\n",
       "          [-2.45166911e-08, -1.66623847e-02,  6.08362727e-08,\n",
       "           -5.21722640e-02, -1.82543546e-03],\n",
       "          [-2.01508388e-03,  6.37567284e-08, -4.71462416e-03,\n",
       "            1.04839343e-07,  3.81891913e-08],\n",
       "          [-3.87225134e-08, -2.38650225e-02,  5.60522749e-08,\n",
       "           -6.74634547e-02, -4.18938608e-03],\n",
       "          [-2.97634869e-08, -6.42009663e-03, -1.72968690e-08,\n",
       "           -8.09042221e-03, -3.68675829e-03]],\n",
       " \n",
       "         [[ 4.66035303e-08,  4.59345232e-03, -4.01916386e-08,\n",
       "            1.28039506e-03,  2.65136499e-03],\n",
       "          [-1.53099789e-03,  1.21731813e-08,  2.42758900e-04,\n",
       "           -5.80923921e-08,  2.50647264e-08],\n",
       "          [-2.85650810e-08, -6.25412208e-03,  3.39878999e-08,\n",
       "           -5.34175185e-02, -1.57687104e-03],\n",
       "          [ 3.10920441e-04, -1.33243756e-08, -6.07254159e-03,\n",
       "           -2.26732946e-07, -4.43830268e-09],\n",
       "          [ 2.01192963e-03, -3.21180577e-08, -5.32408856e-03,\n",
       "           -1.92535568e-08, -2.30587913e-08]],\n",
       " \n",
       "         [[-7.74146315e-04, -4.81303174e-09, -1.51841439e-03,\n",
       "           -4.37348162e-08, -4.67242471e-09],\n",
       "          [-4.81303174e-09, -9.09006998e-03,  8.78758857e-09,\n",
       "           -1.19157774e-03,  2.02232786e-04],\n",
       "          [-1.51841439e-03,  8.78758857e-09, -1.84614352e-02,\n",
       "            3.54546805e-08,  1.97357354e-08],\n",
       "          [-4.37348162e-08, -1.19157774e-03,  3.54546805e-08,\n",
       "           -1.43990572e-01, -5.07306655e-03],\n",
       "          [-4.67242471e-09,  2.02232786e-04,  1.97357354e-08,\n",
       "           -5.07306655e-03, -7.65557357e-04]]]]))"
      ]
     },
     "execution_count": 34,
     "metadata": {},
     "output_type": "execute_result"
    }
   ],
   "source": [
    "from pyscf.cc import CCSD\n",
    "mcc = CCSD(mf,mo_coeff=no)\n",
    "mcc.kernel(t1=t1, t2=t2)"
   ]
  },
  {
   "cell_type": "code",
   "execution_count": 19,
   "id": "24b415ba",
   "metadata": {},
   "outputs": [
    {
     "name": "stdout",
     "output_type": "stream",
     "text": [
      "# Hostname: yichi-thinkpad\n",
      "# System Type: Linux\n",
      "# Machine Type: x86_64\n",
      "# Processor: x86_64\n",
      "# Hostname: yichi-thinkpad\n",
      "# System Type: Linux\n",
      "# Machine Type: x86_64\n",
      "# Processor: x86_64\n",
      "# Number of MPI ranks: 1\n",
      "#\n",
      "# norb: 6\n",
      "# nelec: (2, 2)\n",
      "# nchol: 90\n",
      "#\n",
      "# n_eql: 4\n",
      "# n_ene_blocks: 1\n",
      "# n_sr_blocks: 20\n",
      "# n_blocks: 20\n",
      "# n_walkers: 5\n",
      "# seed: 365694\n",
      "# trial: cisd\n",
      "# walker_type: rhf\n",
      "# dt: 0.005\n",
      "# ene0: 0\n",
      "# n_exp_terms: 6\n",
      "# n_prop_steps: 50\n",
      "# orbital_rotation: True\n",
      "# do_sr: True\n",
      "# symmetry: False\n",
      "# save_walkers: False\n",
      "# free_projection: False\n",
      "# n_batch: 1\n",
      "# use_gpu: False\n",
      "#\n"
     ]
    }
   ],
   "source": [
    "from ad_afqmc import config, wavefunctions\n",
    "from jax import numpy as jnp\n",
    "from jax import random, jit, vmap, jvp, lax\n",
    "from ad_afqmc.lno_ccsd import lno_ccsd\n",
    "import jax\n",
    "\n",
    "config.setup_jax()\n",
    "MPI = config.setup_comm()\n",
    "\n",
    "ham_data, ham, prop, trial, wave_data, sampler, observable, options, _ = (\n",
    "    lno_ccsd.prep_lnoccsd_afqmc(full_cisd=True))\n",
    "\n",
    "comm = MPI.COMM_WORLD\n",
    "rank = comm.Get_rank()  # Process rank\n",
    "size = comm.Get_size() \n",
    "\n",
    "seed = options[\"seed\"]\n",
    "propagator = prop\n",
    "init_walkers = None\n",
    "ham_data = wavefunctions.rhf(trial.norb, trial.nelec,n_batch=trial.n_batch\n",
    "                                )._build_measurement_intermediates(ham_data, wave_data)\n",
    "ham_data = ham.build_measurement_intermediates(ham_data, trial, wave_data)\n",
    "ham_data = ham.build_propagation_intermediates(ham_data, propagator, trial, wave_data)\n",
    "\n",
    "prop_data = propagator.init_prop_data(trial, wave_data, ham_data, init_walkers)\n",
    "if jnp.abs(jnp.sum(prop_data[\"overlaps\"])) < 1.0e-6:\n",
    "    raise ValueError(\n",
    "        \"Initial overlaps are zero. Pass walkers with non-zero overlap.\"\n",
    "    )\n",
    "prop_data[\"key\"] = random.PRNGKey(seed + rank)\n",
    "\n",
    "prop_data[\"overlaps\"] = trial.calc_overlap(prop_data[\"walkers\"], wave_data)\n",
    "prop_data[\"n_killed_walkers\"] = 0\n",
    "prop_data[\"pop_control_ene_shift\"] = prop_data[\"e_estimate\"]\n",
    "\n",
    "init_walker = prop_data[\"walkers\"][0]"
   ]
  },
  {
   "cell_type": "code",
   "execution_count": 13,
   "id": "5f0ed352",
   "metadata": {},
   "outputs": [
    {
     "name": "stdout",
     "output_type": "stream",
     "text": [
      "10\n",
      "[0 1 2 9]\n",
      "[3 4 5 6 7 8]\n",
      "[0 1 2]\n",
      "[3 4]\n"
     ]
    }
   ],
   "source": [
    "no_coeff = orbfrag\n",
    "mo_coeff = mf.mo_coeff\n",
    "nocc = mol.nelectron // 2 \n",
    "nao = mol.nao\n",
    "print(nao)\n",
    "actfrag = np.array(\n",
    "    [i for i in range(nao) if i not in frzfrag])\n",
    "print(frzfrag)\n",
    "print(actfrag)\n",
    "frzocc = np.array(\n",
    "    [i for i in range(nocc) if i in frzfrag])\n",
    "actocc = np.array(\n",
    "    [i for i in range(nocc) if i in actfrag])\n",
    "print(frzocc)\n",
    "print(actocc)"
   ]
  },
  {
   "cell_type": "code",
   "execution_count": 23,
   "id": "b6200fd6",
   "metadata": {},
   "outputs": [
    {
     "name": "stdout",
     "output_type": "stream",
     "text": [
      "[[ 3.51133733e-05 -5.95482343e-01  5.20188284e-01]\n",
      " [-9.03461486e-01 -5.27799098e-05  1.11429654e-06]\n",
      " [ 4.51715920e-05 -7.79664163e-01 -1.90451689e-01]\n",
      " [ 4.28669266e-01  2.47545116e-05  1.54452614e-06]\n",
      " [-1.11920902e-05  1.93712593e-01  8.32545676e-01]\n",
      " [-3.68144236e-16 -1.66533454e-16 -1.11022302e-16]\n",
      " [-1.94289029e-16 -8.05951849e-17  1.99509399e-16]\n",
      " [-1.08637058e-16  1.11022302e-16 -4.02455846e-16]\n",
      " [-1.11022302e-16 -5.16419047e-17 -1.62898809e-16]\n",
      " [ 1.57615891e-17  1.24900090e-16 -2.77555756e-16]]\n",
      "[[-5.05048718e-07  6.12213138e-01  3.12525358e-17 -7.04889644e-17\n",
      "   3.42468757e-16  3.90406953e-17]\n",
      " [ 4.28669267e-01 -1.12818678e-07  1.32899461e-16 -3.97558684e-16\n",
      "   1.60908874e-16 -2.14810867e-16]\n",
      " [-4.54641866e-07 -5.96533272e-01 -1.07350339e-16 -2.36045603e-16\n",
      "  -1.52175214e-16 -1.18410953e-16]\n",
      " [ 9.03461488e-01 -1.07528190e-06  3.83207963e-16  5.49564569e-17\n",
      "  -6.70501768e-17  1.78677753e-17]\n",
      " [-2.03826829e-06 -5.18982782e-01 -1.85137037e-16  8.51262453e-17\n",
      "   9.03317439e-17 -2.22468960e-17]\n",
      " [ 5.33749672e-17 -1.49301251e-16 -1.72490022e-06 -5.87802971e-01\n",
      "  -2.98730468e-07 -7.76377407e-01]\n",
      " [-1.67732202e-16  2.13663748e-16 -3.89533548e-01 -2.42169458e-07\n",
      "   9.21012277e-01 -1.91640225e-07]\n",
      " [-1.14597742e-16  7.22799636e-17 -5.80179733e-06 -4.04518370e-01\n",
      "   7.15029953e-09  5.25519966e-01]\n",
      " [-1.79749514e-16 -2.52566724e-16 -9.21012277e-01  7.74248693e-08\n",
      "  -3.89533548e-01  4.92997446e-08]\n",
      " [-1.49593138e-16  1.75955773e-17 -4.82988425e-06  7.00608704e-01\n",
      "   1.14897801e-07 -3.47946672e-01]]\n"
     ]
    }
   ],
   "source": [
    "s1e = mf.get_ovlp()\n",
    "p_frzocc = mo_coeff.T@s1e@no_coeff[:,frzocc]\n",
    "p_act = mo_coeff.T@s1e@no_coeff[:,actfrag]\n",
    "print(p_frzocc)\n",
    "print(p_act)"
   ]
  },
  {
   "cell_type": "code",
   "execution_count": 29,
   "id": "e6109251",
   "metadata": {},
   "outputs": [
    {
     "name": "stdout",
     "output_type": "stream",
     "text": [
      "(10, 5)\n"
     ]
    }
   ],
   "source": [
    "walker_act = p_act@init_walker\n",
    "walker_new = jnp.hstack((p_frzocc,walker_act))\n",
    "print(walker_new.shape)"
   ]
  },
  {
   "cell_type": "code",
   "execution_count": 88,
   "id": "6048796d",
   "metadata": {},
   "outputs": [],
   "source": [
    "def no2mo(mo_coeff,s1e,no_coeff):\n",
    "    prj = mo_coeff.T@s1e@no_coeff\n",
    "    return prj\n",
    "\n",
    "def prj_walker(projector,walker,frzocc,actfrag):\n",
    "\n",
    "    p_frzocc = projector[:,frzocc]\n",
    "    p_act = projector[:,actfrag]\n",
    "    walker_act = p_act@walker\n",
    "    walker_new = jnp.hstack((p_frzocc,walker_act))\n",
    "\n",
    "    return walker_new\n"
   ]
  },
  {
   "cell_type": "code",
   "execution_count": 89,
   "id": "d154e6b6",
   "metadata": {},
   "outputs": [],
   "source": [
    "def cisd_walker_overlap(walker,ci1,ci2):\n",
    "    nocc = walker.shape[1]\n",
    "    GF = (walker.dot(jnp.linalg.inv(walker[: nocc, :]))).T\n",
    "    o0 = jnp.linalg.det(walker[: nocc, :]) ** 2\n",
    "    o1 = jnp.einsum(\"ia,ia\", ci1, GF[:, nocc:])\n",
    "    o2 = 2 * jnp.einsum(\n",
    "        \"iajb, ia, jb\", ci2, GF[:, nocc:], GF[:, nocc:]\n",
    "    ) - jnp.einsum(\"iajb, ib, ja\", ci2, GF[:, nocc:], GF[:, nocc:])\n",
    "    return (1.0 + 2 * o1 + o2) * o0\n",
    "\n",
    "def cisd_walker_overlap_ratio(walker,ci1,ci2):\n",
    "    nocc = walker.shape[1]\n",
    "    GF = (walker.dot(jnp.linalg.inv(walker[: nocc, :]))).T\n",
    "    # o0 = jnp.linalg.det(walker[: nocc, :]) ** 2\n",
    "    o1 = jnp.einsum(\"ia,ia\", ci1, GF[:, nocc:])\n",
    "    o2 = 2 * jnp.einsum(\n",
    "        \"iajb, ia, jb\", ci2, GF[:, nocc:], GF[:, nocc:]\n",
    "    ) - jnp.einsum(\"iajb, ib, ja\", ci2, GF[:, nocc:], GF[:, nocc:])\n",
    "    return 1/(1.0 + 2 * o1 + o2)\n",
    "\n",
    "def full_cisd_walker_overlap(walker,ci1,ci2):\n",
    "    \n",
    "    nocc = walker.shape[1]\n",
    "    GF = (walker.dot(jnp.linalg.inv(walker[: nocc, :]))).T\n",
    "    o0 = jnp.linalg.det(walker[: nocc, :]) ** 2\n",
    "    o1 = jnp.einsum(\"ia,ia\", ci1, GF[:, nocc:])\n",
    "    o2 = 2 * jnp.einsum(\n",
    "        \"iajb, ia, jb\", ci2, GF[:, nocc:], GF[:, nocc:]\n",
    "    ) - jnp.einsum(\"iajb, ib, ja\", ci2, GF[:, nocc:], GF[:, nocc:])\n",
    "    return (1.0 + 2 * o1 + o2) * o0"
   ]
  },
  {
   "cell_type": "code",
   "execution_count": 21,
   "id": "a2b114fb",
   "metadata": {},
   "outputs": [],
   "source": [
    "walker = prop_data[\"walkers\"][0]\n",
    "p_frzocc,p_act = wave_data[\"no2mo_frzocc\"], wave_data[\"no2mo_act\"]\n",
    "walker_t = lno_ccsd.prj_walker(p_frzocc,p_act,walker)\n"
   ]
  },
  {
   "cell_type": "code",
   "execution_count": null,
   "id": "f3458a00",
   "metadata": {},
   "outputs": [],
   "source": [
    "def _frg_mod_ccsd_olp2(walker: jax.Array, wave_data: dict) -> complex:\n",
    "    '''\n",
    "    <psi_ccsd|walker>=<psi_0|walker>+C_ia^*G_ia+C_iajb^*(G_iaG_jb-G_ibG_ja)\n",
    "    modified CCSD overlap returns the second and the third term\n",
    "    that is, the overlap of the walker with the CCSD wavefunction\n",
    "    without the hartree-fock part\n",
    "    and skip one sum over the occ\n",
    "    '''\n",
    "    # prjlo = wave_data[\"prjlo\"].reshape(walker.shape[1])\n",
    "    m = jnp.dot(wave_data[\"prjlo\"].T,wave_data[\"prjlo\"])\n",
    "    nocc, ci1, ci2 = walker.shape[1], wave_data[\"full_ci1\"], wave_data[\"full_ci2\"]\n",
    "    gf = (walker.dot(jnp.linalg.inv(walker[: walker.shape[1], :]))).T\n",
    "    o0 = jnp.linalg.det(walker[: nocc, :]) ** 2\n",
    "    \n",
    "    o1 = jnp.einsum(\"ia,ka,ik->\", ci1, gf[:, nocc:],m)\n",
    "    o2 = 2 * jnp.einsum(\"iajb,ka,jb,ik->\", ci2, gf[:, nocc:], gf[:, nocc:],m) \\\n",
    "        - jnp.einsum(\"iajb,kb,ja,ik->\", ci2, gf[:, nocc:], gf[:, nocc:],m)\n",
    "    olp = (2*o1+o2)*o0\n",
    "    # olp_i = jnp.einsum(\"i,i->\", olp, pick_i)\n",
    "    return olp"
   ]
  },
  {
   "cell_type": "code",
   "execution_count": 90,
   "id": "db435747",
   "metadata": {},
   "outputs": [],
   "source": [
    "t1 = mycc.t1\n",
    "t2 = mycc.t2\n",
    "ci2 = t2 + jnp.einsum(\"ia,jb->ijab\", jnp.array(t1), jnp.array(t1))\n",
    "ci2 = ci2.transpose(0, 2, 1, 3)\n",
    "ci1 = jnp.array(t1)\n",
    "np.savez(\"amplitudes.npz\", full_ci1=ci1, full_ci2=ci2)"
   ]
  },
  {
   "cell_type": "code",
   "execution_count": 91,
   "id": "f7723567",
   "metadata": {},
   "outputs": [],
   "source": [
    "amplitudes = np.load(\"amplitudes.npz\")\n",
    "full_ci1 = jnp.array(amplitudes[\"full_ci1\"])\n",
    "full_ci2 = jnp.array(amplitudes[\"full_ci2\"])\n",
    "wave_data.update({\"full_ci1\": ci1, \"full_ci2\": ci2})"
   ]
  },
  {
   "cell_type": "code",
   "execution_count": 94,
   "id": "997c3dda",
   "metadata": {},
   "outputs": [
    {
     "name": "stdout",
     "output_type": "stream",
     "text": [
      "(0.5017825283861721-0.7473863577351859j)\n"
     ]
    }
   ],
   "source": [
    "walker = prop_data[\"walkers\"][0]\n",
    "no2mo_prj = no2mo(mo_coeff, s1e, no_coeff)\n",
    "walker_p = prj_walker(no2mo_prj,walker,frzocc,actfrag)\n",
    "olp = cisd_walker_overlap(walker_p, ci1, ci2)\n",
    "print(olp)"
   ]
  },
  {
   "cell_type": "code",
   "execution_count": 95,
   "id": "f147f283",
   "metadata": {},
   "outputs": [
    {
     "name": "stdout",
     "output_type": "stream",
     "text": [
      "-5.291230184312794 5.00300458169368\n"
     ]
    }
   ],
   "source": [
    "prop_data, (blk_e, blk_wt)\\\n",
    "    = sampler._block_scan(prop_data,None,ham_data,prop,trial,wave_data)\n",
    "print(blk_e,blk_wt)"
   ]
  },
  {
   "cell_type": "code",
   "execution_count": null,
   "id": "4aa3a856",
   "metadata": {},
   "outputs": [
    {
     "name": "stdout",
     "output_type": "stream",
     "text": [
      "(0.5017825283861721-0.7473863577351859j)\n",
      "(0.9868800998319901-0.0031054239545766035j)\n"
     ]
    }
   ],
   "source": [
    "walker = prop_data[\"walkers\"][0]\n",
    "walker_p = prj_walker(no2mo_prj,walker,frzocc,actfrag)\n",
    "olp = cisd_walker_overlap(walker_p, ci1, ci2)\n",
    "olp_r = cisd_walker_overlap_ratio(walker_p, ci1, ci2)\n",
    "print(olp)\n",
    "print(olp_r)"
   ]
  },
  {
   "cell_type": "code",
   "execution_count": 77,
   "id": "7cac2b1b",
   "metadata": {},
   "outputs": [
    {
     "name": "stdout",
     "output_type": "stream",
     "text": [
      "(0.9894610408169681+0.0013870486435967869j)\n"
     ]
    }
   ],
   "source": [
    "lno_olp_r = lno_ccsd._calc_olp_ratio_restricted(walker,wave_data)\n",
    "print(lno_olp_r)"
   ]
  },
  {
   "cell_type": "code",
   "execution_count": 61,
   "id": "b39321fa",
   "metadata": {},
   "outputs": [
    {
     "data": {
      "text/plain": [
       "Array(0.84799905-0.28465324j, dtype=complex128)"
      ]
     },
     "execution_count": 61,
     "metadata": {},
     "output_type": "execute_result"
    }
   ],
   "source": [
    "jnp.linalg.det(walker[: walker.shape[1], :]) ** 2"
   ]
  },
  {
   "cell_type": "code",
   "execution_count": 58,
   "id": "caff29b1",
   "metadata": {},
   "outputs": [
    {
     "data": {
      "text/plain": [
       "Array(0.85262757-0.29056292j, dtype=complex128)"
      ]
     },
     "execution_count": 58,
     "metadata": {},
     "output_type": "execute_result"
    }
   ],
   "source": [
    "trial._calc_overlap_restricted(walker,wave_data)"
   ]
  },
  {
   "cell_type": "code",
   "execution_count": 6,
   "id": "259e621b",
   "metadata": {},
   "outputs": [
    {
     "name": "stdout",
     "output_type": "stream",
     "text": [
      "lno-afqmc/ccsd init frg correlation energy: -0.05381149472499322\n",
      "lno-ccsd init correlation energy: -0.05381149431194333\n"
     ]
    }
   ],
   "source": [
    "from ad_afqmc.lno_ccsd import lno_ccsd\n",
    "walker = prop_data['walkers'][0]\n",
    "# e_init = jnp.real(trial._calc_energy_restricted(walker,ham_data,wave_data))\n",
    "ccsd_cr0,ccsd_cr1,ccsd_cr2,ccsd_cr = lno_ccsd._frg_ccsd_cr(walker,ham_data,wave_data,trial,1e-6)\n",
    "# print('afqmc/ccsd init energy:',e_init)\n",
    "# print('mean-field energy:',mf.e_tot)\n",
    "# e_corr_init = e_init - mf.e_tot\n",
    "print('lno-afqmc/ccsd init frg correlation energy:',ccsd_cr)\n",
    "print('lno-ccsd init correlation energy:',ecorr_ccsd)\n",
    "# -0.06902628862909294\n",
    "# -0.06849834335942975"
   ]
  },
  {
   "cell_type": "code",
   "execution_count": 8,
   "id": "4ad52b76",
   "metadata": {},
   "outputs": [],
   "source": [
    "prop_data,(energy,wt,\n",
    "           hf_orb_cr,olp_ratio,\n",
    "           ccsd_orb_cr0,ccsd_orb_cr1,ccsd_orb_cr2,\n",
    "           ccsd_orb_cr,orb_cr)\\\n",
    "    = lno_ccsd.propagate_phaseless_orb(ham_data,prop,prop_data,trial,wave_data,sampler)"
   ]
  },
  {
   "cell_type": "code",
   "execution_count": 9,
   "id": "32cae650",
   "metadata": {},
   "outputs": [
    {
     "name": "stdout",
     "output_type": "stream",
     "text": [
      "-152.39566046710257 99.99068471987039\n",
      "-0.04435036268421961 (0.9220578928295465-0.0011193421072858052j)\n",
      "0.5468795913624183 -1.071288001043854 0.5143074233087206 -0.010100986372715313\n",
      "-0.05445134905693493\n"
     ]
    }
   ],
   "source": [
    "print(energy,wt)\n",
    "print(hf_orb_cr,olp_ratio)\n",
    "print(ccsd_orb_cr0,ccsd_orb_cr1,ccsd_orb_cr2,ccsd_orb_cr)\n",
    "print(orb_cr)"
   ]
  },
  {
   "cell_type": "code",
   "execution_count": 10,
   "id": "b7cb406f",
   "metadata": {},
   "outputs": [
    {
     "name": "stdout",
     "output_type": "stream",
     "text": [
      "-0.01010098637271506\n",
      "-0.05445134905693472\n"
     ]
    }
   ],
   "source": [
    "print(ccsd_orb_cr0+ccsd_orb_cr1+ccsd_orb_cr2)\n",
    "print(hf_orb_cr+ccsd_orb_cr0+ccsd_orb_cr1+ccsd_orb_cr2)"
   ]
  },
  {
   "cell_type": "code",
   "execution_count": null,
   "id": "6e4ee6ea",
   "metadata": {},
   "outputs": [],
   "source": [
    "## build <full_ccsd|walker> ###"
   ]
  }
 ],
 "metadata": {
  "kernelspec": {
   "display_name": "lno_pyscf_afqmc",
   "language": "python",
   "name": "python3"
  },
  "language_info": {
   "codemirror_mode": {
    "name": "ipython",
    "version": 3
   },
   "file_extension": ".py",
   "mimetype": "text/x-python",
   "name": "python",
   "nbconvert_exporter": "python",
   "pygments_lexer": "ipython3",
   "version": "3.10.16"
  }
 },
 "nbformat": 4,
 "nbformat_minor": 5
}
