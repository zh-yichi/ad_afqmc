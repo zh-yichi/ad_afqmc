{
 "cells": [
  {
   "cell_type": "code",
   "execution_count": 1,
   "id": "47a47fec",
   "metadata": {},
   "outputs": [
    {
     "name": "stdout",
     "output_type": "stream",
     "text": [
      "System: uname_result(system='Linux', node='yichi-thinkpad', release='4.4.0-26100-Microsoft', version='#5074-Microsoft Fri Jan 01 08:00:00 PST 2016', machine='x86_64')  Threads 12\n",
      "Python 3.10.16 | packaged by conda-forge | (main, Dec  5 2024, 14:16:10) [GCC 13.3.0]\n",
      "numpy 1.24.3  scipy 1.14.1  h5py 3.12.1\n",
      "Date: Tue Sep 23 19:16:13 2025\n",
      "PySCF version 2.8.0\n",
      "PySCF path  /home/yichi/research/software/lno_pyscf\n",
      "GIT HEAD (branch master) ef75f4190e4de208685670651dc6c467f72b6794\n",
      "\n",
      "[ENV] PYSCF_EXT_PATH /home/yichi/research/software/pyscf\n",
      "[CONFIG] conf_file None\n",
      "[INPUT] verbose = 4\n",
      "[INPUT] num. atoms = 10\n",
      "[INPUT] num. electrons = 10\n",
      "[INPUT] charge = 0\n",
      "[INPUT] spin (= nelec alpha-beta = 2S) = 0\n",
      "[INPUT] symmetry False subgroup None\n",
      "[INPUT] Mole.unit = angstrom\n",
      "[INPUT] Symbol           X                Y                Z      unit          X                Y                Z       unit  Magmom\n",
      "[INPUT]  1 H      0.000000000000   0.000000000000   0.000000000000 AA    0.000000000000   0.000000000000   0.000000000000 Bohr   0.0\n",
      "[INPUT]  2 H      1.000000000000   0.000000000000   0.000000000000 AA    1.889726124565   0.000000000000   0.000000000000 Bohr   0.0\n",
      "[INPUT]  3 H      2.000000000000   0.000000000000   0.000000000000 AA    3.779452249130   0.000000000000   0.000000000000 Bohr   0.0\n",
      "[INPUT]  4 H      3.000000000000   0.000000000000   0.000000000000 AA    5.669178373695   0.000000000000   0.000000000000 Bohr   0.0\n",
      "[INPUT]  5 H      4.000000000000   0.000000000000   0.000000000000 AA    7.558904498260   0.000000000000   0.000000000000 Bohr   0.0\n",
      "[INPUT]  6 H      5.000000000000   0.000000000000   0.000000000000 AA    9.448630622825   0.000000000000   0.000000000000 Bohr   0.0\n",
      "[INPUT]  7 H      6.000000000000   0.000000000000   0.000000000000 AA   11.338356747390   0.000000000000   0.000000000000 Bohr   0.0\n",
      "[INPUT]  8 H      7.000000000000   0.000000000000   0.000000000000 AA   13.228082871955   0.000000000000   0.000000000000 Bohr   0.0\n",
      "[INPUT]  9 H      8.000000000000   0.000000000000   0.000000000000 AA   15.117808996520   0.000000000000   0.000000000000 Bohr   0.0\n",
      "[INPUT] 10 H      9.000000000000   0.000000000000   0.000000000000 AA   17.007535121086   0.000000000000   0.000000000000 Bohr   0.0\n",
      "\n",
      "nuclear repulsion = 10.2076604058814\n",
      "number of shells = 40\n",
      "number of NR pGTOs = 40\n",
      "number of NR cGTOs = 40\n",
      "basis = crenbl\n",
      "ecp = {}\n",
      "CPU time:         5.14\n",
      "\n",
      "\n",
      "******** <class 'pyscf.scf.hf.RHF'> ********\n",
      "method = RHF\n",
      "initial guess = minao\n",
      "damping factor = 0\n",
      "level_shift factor = 0\n",
      "DIIS = <class 'pyscf.scf.diis.CDIIS'>\n",
      "diis_start_cycle = 1\n",
      "diis_space = 8\n",
      "diis_damp = 0\n",
      "SCF conv_tol = 1e-09\n",
      "SCF conv_tol_grad = None\n",
      "SCF max_cycles = 50\n",
      "direct_scf = True\n",
      "direct_scf_tol = 1e-13\n",
      "chkfile to save SCF result = /tmp/tmp8lq1g4q5\n",
      "max_memory 4000 MB (current use 163 MB)\n",
      "Set gradient conv threshold to 3.16228e-05\n",
      "Initial guess from minao.\n",
      "init E= -4.30273077471253\n",
      "  HOMO = -0.207416201571452  LUMO = -0.0319535819733101\n",
      "cycle= 1 E= -5.35228758629697  delta_E= -1.05  |g|= 0.135  |ddm|= 1.57\n",
      "  HOMO = -0.332065331787918  LUMO = -0.00799665375152947\n",
      "cycle= 2 E= -5.36728586749374  delta_E= -0.015  |g|= 0.0485  |ddm|= 0.501\n",
      "  HOMO = -0.327846206104125  LUMO = 0.0182771854453187\n",
      "cycle= 3 E= -5.37002694547779  delta_E= -0.00274  |g|= 0.0176  |ddm|= 0.265\n",
      "  HOMO = -0.334971171816048  LUMO = 0.0221833212758793\n",
      "cycle= 4 E= -5.37042726384668  delta_E= -0.0004  |g|= 0.00363  |ddm|= 0.114\n",
      "  HOMO = -0.33581229001402  LUMO = 0.0230505359035266\n",
      "cycle= 5 E= -5.37044129445075  delta_E= -1.4e-05  |g|= 0.000391  |ddm|= 0.0184\n",
      "  HOMO = -0.335912232269895  LUMO = 0.0230967139303683\n",
      "cycle= 6 E= -5.37044140743271  delta_E= -1.13e-07  |g|= 5.33e-05  |ddm|= 0.00125\n",
      "  HOMO = -0.335922870793913  LUMO = 0.0231082752627452\n",
      "cycle= 7 E= -5.37044140978862  delta_E= -2.36e-09  |g|= 7.67e-06  |ddm|= 0.000233\n",
      "  HOMO = -0.335921791089062  LUMO = 0.0231065355556753\n",
      "cycle= 8 E= -5.37044140983188  delta_E= -4.33e-11  |g|= 5.6e-07  |ddm|= 6.36e-05\n",
      "  HOMO = -0.335922119646039  LUMO = 0.0231066145675174\n",
      "Extra cycle  E= -5.37044140983212  delta_E= -2.36e-13  |g|= 1.95e-07  |ddm|= 3.48e-06\n",
      "converged SCF energy = -5.37044140983212\n",
      "\n",
      "******** <class 'pyscf.cc.ccsd.CCSD'> ********\n",
      "CC2 = 0\n",
      "CCSD nocc = 5, nmo = 40\n",
      "max_cycle = 50\n",
      "direct = 0\n",
      "conv_tol = 1e-07\n",
      "conv_tol_normt = 1e-05\n",
      "diis_space = 6\n",
      "diis_start_cycle = 0\n",
      "diis_start_energy_diff = 1e+09\n",
      "max_memory 4000 MB (current use 172 MB)\n",
      "Init t2, MP2 energy = -5.49313471676739  E_corr(MP2) -0.122693306935277\n",
      "Init E_corr(CCSD) = -0.122693306935303\n",
      "cycle = 1  E_corr(CCSD) = -0.150665969705305  dE = -0.0279726628  norm(t1,t2) = 0.0667511\n",
      "cycle = 2  E_corr(CCSD) = -0.161567716293725  dE = -0.0109017466  norm(t1,t2) = 0.0371537\n",
      "cycle = 3  E_corr(CCSD) = -0.170085536935013  dE = -0.00851782064  norm(t1,t2) = 0.0209659\n",
      "cycle = 4  E_corr(CCSD) = -0.171550973442495  dE = -0.00146543651  norm(t1,t2) = 0.0077394\n",
      "cycle = 5  E_corr(CCSD) = -0.17099343249345  dE = 0.000557540949  norm(t1,t2) = 0.0034647\n",
      "cycle = 6  E_corr(CCSD) = -0.170995224608123  dE = -1.79211467e-06  norm(t1,t2) = 0.00121862\n",
      "cycle = 7  E_corr(CCSD) = -0.171028862866957  dE = -3.36382588e-05  norm(t1,t2) = 0.000527344\n",
      "cycle = 8  E_corr(CCSD) = -0.171017410170509  dE = 1.14526964e-05  norm(t1,t2) = 0.000144173\n",
      "cycle = 9  E_corr(CCSD) = -0.171013926424152  dE = 3.48374636e-06  norm(t1,t2) = 6.12154e-05\n",
      "cycle = 10  E_corr(CCSD) = -0.171012921714828  dE = 1.00470932e-06  norm(t1,t2) = 2.3402e-05\n",
      "cycle = 11  E_corr(CCSD) = -0.171013848657053  dE = -9.26942224e-07  norm(t1,t2) = 8.28911e-06\n",
      "cycle = 12  E_corr(CCSD) = -0.171014266228283  dE = -4.1757123e-07  norm(t1,t2) = 2.54842e-06\n",
      "cycle = 13  E_corr(CCSD) = -0.171014359836219  dE = -9.36079356e-08  norm(t1,t2) = 8.72182e-07\n",
      "CCSD converged\n",
      "E(CCSD) = -5.541455769668334  E_corr = -0.1710143598362185\n"
     ]
    }
   ],
   "source": [
    "from functools import partial\n",
    "from pyscf import gto, scf, cc\n",
    "import numpy as np\n",
    "\n",
    "from jax import config\n",
    "config.update(\"jax_enable_x64\", True)\n",
    "\n",
    "print = partial(print, flush=True)\n",
    "\n",
    "a = 1 # 2aB\n",
    "nH = 10\n",
    "atoms = \"\"\n",
    "for i in range(nH):\n",
    "    atoms += f\"H {i*a:.5f} 0.00000 0.00000 \\n\"\n",
    "\n",
    "mol = gto.M(atom=atoms, basis=\"crenbl\", verbose=4)\n",
    "mol.build()\n",
    "\n",
    "mf = scf.RHF(mol)\n",
    "e = mf.kernel()\n",
    "\n",
    "mycc = cc.CCSD(mf)\n",
    "e = mycc.kernel()"
   ]
  },
  {
   "cell_type": "code",
   "execution_count": null,
   "id": "9214a254",
   "metadata": {},
   "outputs": [],
   "source": [
    "# def thouless_trans(t1):\n",
    "#     # U, s, V = np.linalg.svd(t1.T)\n",
    "#     # S = np.zeros_like(t1.T, dtype=float)\n",
    "#     # np.fill_diagonal(S, s)\n",
    "#     # u_ai = U@S\n",
    "#     # u_ji = V.T\n",
    "#     Q, R = np.linalg.qr(t1)\n",
    "#     u_ai = R.T\n",
    "#     u_ji = Q\n",
    "#     u = np.vstack((u_ji,u_ai))\n",
    "#     return u"
   ]
  },
  {
   "cell_type": "code",
   "execution_count": null,
   "id": "00461833",
   "metadata": {},
   "outputs": [],
   "source": [
    "# Q, R = np.linalg.qr(t1)"
   ]
  },
  {
   "cell_type": "code",
   "execution_count": null,
   "id": "88bd7ea2",
   "metadata": {},
   "outputs": [
    {
     "name": "stdout",
     "output_type": "stream",
     "text": [
      "[[-1.23012711e-13 -1.00000000e+00 -2.13201397e-13]\n",
      " [ 2.97775155e-01 -2.40134010e-13  9.54636034e-01]\n",
      " [-9.54636034e-01  5.39276097e-14  2.97775155e-01]]\n",
      "[[-1.50352915e-01  5.12045188e-13 -9.88632389e-01]\n",
      " [ 2.86704375e-13  1.00000000e+00  4.74176254e-13]\n",
      " [ 9.88632389e-01 -2.12142207e-13 -1.50352915e-01]]\n"
     ]
    }
   ],
   "source": [
    "# print(Q.T)\n",
    "# print(V)"
   ]
  },
  {
   "cell_type": "code",
   "execution_count": null,
   "id": "10fb5bc7",
   "metadata": {},
   "outputs": [
    {
     "name": "stdout",
     "output_type": "stream",
     "text": [
      "3.570398377063447e-18\n"
     ]
    }
   ],
   "source": [
    "# S = np.zeros_like(t1.T, dtype=float)\n",
    "# np.fill_diagonal(S, s)\n",
    "# print(np.max(U@S@V-t1.T))"
   ]
  },
  {
   "cell_type": "code",
   "execution_count": null,
   "id": "f63f99e5",
   "metadata": {},
   "outputs": [
    {
     "name": "stdout",
     "output_type": "stream",
     "text": [
      "(24, 3)\n"
     ]
    }
   ],
   "source": [
    "# S = np.zeros_like(t1.T, dtype=float)\n",
    "# np.fill_diagonal(S, s)\n",
    "# u_ai = U@S\n",
    "# u_ji = V.T\n",
    "# # u_ai = R.T\n",
    "# # u_ji = Q\n",
    "# u = np.vstack((u_ji,u_ai))\n",
    "# print(u.shape)"
   ]
  },
  {
   "cell_type": "code",
   "execution_count": null,
   "id": "b5599d7e",
   "metadata": {},
   "outputs": [
    {
     "name": "stdout",
     "output_type": "stream",
     "text": [
      "1.001013736034442\n"
     ]
    }
   ],
   "source": [
    "# s1e = mf.get_ovlp()\n",
    "# c_psi = mf.mo_coeff\n",
    "# c_phi = c_psi @ u\n",
    "# print(np.linalg.det(c_phi.T@s1e@c_phi))"
   ]
  },
  {
   "cell_type": "code",
   "execution_count": null,
   "id": "7c778ac6",
   "metadata": {},
   "outputs": [],
   "source": [
    "# def mk_rdm1(mo_occ,s1e):\n",
    "#     olp = np.linalg.det(mo_occ.T@s1e@mo_occ)\n",
    "#     dm = 2*mo_occ.dot(mo_occ.conj().T)/olp\n",
    "#     return dm"
   ]
  },
  {
   "cell_type": "code",
   "execution_count": null,
   "id": "9a5ff155",
   "metadata": {},
   "outputs": [
    {
     "name": "stdout",
     "output_type": "stream",
     "text": [
      "-3.227208398613664\n"
     ]
    }
   ],
   "source": [
    "# dm = mk_rdm1(c_phi,s1e)\n",
    "# h1e = mf.get_hcore(mol)\n",
    "# vhf = mf.get_veff(mol, dm)\n",
    "# e_tot = mf.energy_tot(dm, h1e, vhf)\n",
    "# print(e_tot)"
   ]
  },
  {
   "cell_type": "code",
   "execution_count": null,
   "id": "0bd9361f",
   "metadata": {},
   "outputs": [
    {
     "name": "stdout",
     "output_type": "stream",
     "text": [
      "-3.2313225574082045\n"
     ]
    }
   ],
   "source": [
    "# t2_0 = np.zeros(t2.shape)\n",
    "# eris = mycc.ao2mo(mycc.mo_coeff)\n",
    "# eccsd = mycc.energy(t1, t2_0, eris)\n",
    "# print(eccsd+mf.e_tot)"
   ]
  },
  {
   "cell_type": "code",
   "execution_count": 4,
   "id": "7fb0f90d",
   "metadata": {},
   "outputs": [],
   "source": [
    "options = {'n_eql': 4,\n",
    "           'n_prop_steps': 10,\n",
    "            'n_ene_blocks': 1,\n",
    "            'n_sr_blocks': 10,\n",
    "            'n_blocks': 10,\n",
    "            'n_walkers': 1,\n",
    "            'seed': 2,\n",
    "            'walker_type': 'rhf',\n",
    "            'trial': 'rhf',\n",
    "            'dt':0.005,\n",
    "            'free_projection':False,\n",
    "            'ad_mode':None,\n",
    "            'use_gpu': False,\n",
    "            }"
   ]
  },
  {
   "cell_type": "code",
   "execution_count": 3,
   "id": "c5f79954",
   "metadata": {},
   "outputs": [],
   "source": [
    "from ad_afqmc.lno_ccsd import lno_maker"
   ]
  },
  {
   "cell_type": "code",
   "execution_count": 56,
   "id": "cc2a77e0",
   "metadata": {},
   "outputs": [
    {
     "name": "stdout",
     "output_type": "stream",
     "text": [
      "# Hostname: yichi-thinkpad\n",
      "# System Type: Linux\n",
      "# Machine Type: x86_64\n",
      "# Processor: x86_64\n",
      "#\n",
      "# Preparing AFQMC calculation\n",
      "# Calculating Cholesky integrals\n",
      "# Finished calculating Cholesky integrals\n",
      "#\n",
      "# Size of the correlation space:\n",
      "# Number of electrons: (5, 5)\n",
      "# Number of basis functions: 40\n",
      "# Number of Cholesky vectors: 159\n",
      "#\n",
      "# Number of MPI ranks: 1\n",
      "#\n",
      "# norb: 40\n",
      "# nelec: (5, 5)\n",
      "#\n",
      "# n_eql: 4\n",
      "# n_prop_steps: 10\n",
      "# n_ene_blocks: 1\n",
      "# n_sr_blocks: 10\n",
      "# n_blocks: 10\n",
      "# n_walkers: 1\n",
      "# seed: 2\n",
      "# walker_type: rhf\n",
      "# trial: rhf\n",
      "# dt: 0.005\n",
      "# free_projection: False\n",
      "# use_gpu: False\n",
      "# n_exp_terms: 6\n",
      "# orbital_rotation: True\n",
      "# do_sr: True\n",
      "# symmetry: False\n",
      "# save_walkers: False\n",
      "# ene0: 0.0\n",
      "# n_batch: 1\n",
      "# LNO: False\n",
      "# orbE: 0\n",
      "# maxError: 0.001\n",
      "#\n"
     ]
    }
   ],
   "source": [
    "u = lno_maker.thouless_trans(mycc.t1)\n",
    "# mo_t = mf.mo_coeff @ u\n",
    "# mf.mo_coeff = mo_t\n",
    "\n",
    "from ad_afqmc import pyscf_interface, config, mpi_jax, driver\n",
    "import numpy as np\n",
    "\n",
    "config.setup_jax()\n",
    "MPI = config.setup_comm()\n",
    "\n",
    "pyscf_interface.prep_afqmc(mf,chol_cut=1e-7)\n",
    "ham_data, ham, prop, trial, wave_data, sampler, observable, options, _ \\\n",
    "    = (mpi_jax._prep_afqmc(options))\n",
    "\n",
    "# init_walkers = np.stack([wave_data[\"mo_coeff\"]] * nwalkers, axis=0)\n",
    "# wave_data[\"mo_coeff\"] = wave_data[\"mo_coeff\"] @ u\n",
    "# driver.afqmc(ham_data, ham, prop, trial, wave_data, sampler, observable, options, MPI,init_walkers)"
   ]
  },
  {
   "cell_type": "code",
   "execution_count": 57,
   "id": "589f7795",
   "metadata": {},
   "outputs": [
    {
     "name": "stdout",
     "output_type": "stream",
     "text": [
      "2.1880630640680465e-09\n"
     ]
    }
   ],
   "source": [
    "comm = MPI.COMM_WORLD\n",
    "size = comm.Get_size()\n",
    "rank = comm.Get_rank()\n",
    "seed = options[\"seed\"]\n",
    "neql = options[\"n_eql\"]\n",
    "\n",
    "\n",
    "trial_rdm1 = trial.get_rdm1(wave_data)\n",
    "if \"rdm1\" not in wave_data:\n",
    "    wave_data[\"rdm1\"] = trial_rdm1\n",
    "ham_data = ham.build_measurement_intermediates(ham_data, trial, wave_data)\n",
    "ham_data = ham.build_propagation_intermediates(\n",
    "    ham_data, prop, trial, wave_data\n",
    ")\n",
    "prop_data = prop.init_prop_data(trial, wave_data, ham_data, None)\n",
    "print(prop_data['e_estimate']-mf.e_tot)"
   ]
  },
  {
   "cell_type": "code",
   "execution_count": 58,
   "id": "f03d59fa",
   "metadata": {},
   "outputs": [],
   "source": [
    "# def thouless_trans(t1):\n",
    "#     # U, s, V = np.linalg.svd(t1.T)\n",
    "#     # S = np.zeros_like(t1.T, dtype=float)\n",
    "#     # np.fill_diagonal(S, s)\n",
    "#     # u_ai = U@S\n",
    "#     # u_ji = V.T\n",
    "Q, R = np.linalg.qr(mycc.t1)\n",
    "u_ai = R.T\n",
    "u_ji = Q\n",
    "u_occ = np.vstack((u_ji,u_ai))"
   ]
  },
  {
   "cell_type": "code",
   "execution_count": 59,
   "id": "75f0a45b",
   "metadata": {},
   "outputs": [],
   "source": [
    "nocc = np.count_nonzero(mf.mo_occ)\n",
    "wave_data['mo_coeff'] = u_occ"
   ]
  },
  {
   "cell_type": "code",
   "execution_count": 14,
   "id": "62f6edbd",
   "metadata": {},
   "outputs": [],
   "source": [
    "from ad_afqmc import wavefunctions"
   ]
  },
  {
   "cell_type": "code",
   "execution_count": 61,
   "id": "46bdcea8",
   "metadata": {},
   "outputs": [
    {
     "data": {
      "text/plain": [
       "Array([[-2.16177889e-31+0.j,  9.13269966e-32+0.j,  1.00000000e+00+0.j,\n",
       "        -2.95660884e-32+0.j, -4.24607911e-32+0.j],\n",
       "       [-4.65616612e-01+0.j, -4.03751807e-01+0.j,  3.66889460e-30+0.j,\n",
       "         7.85581180e-01+0.j, -5.52074169e-02+0.j],\n",
       "       [ 2.25335003e-01+0.j,  6.53248046e-03+0.j,  1.11942105e-30+0.j,\n",
       "         2.03865419e-01+0.j,  9.52691111e-01+0.j],\n",
       "       [ 6.04675332e-01+0.j,  4.71744784e-01+0.j, -1.04135934e-30+0.j,\n",
       "         5.81819965e-01+0.j, -2.70758433e-01+0.j],\n",
       "       [ 6.05634419e-01+0.j, -7.83835865e-01+0.j, -1.28189897e-30+0.j,\n",
       "        -5.27885267e-02+0.j, -1.26576688e-01+0.j],\n",
       "       [-7.79691020e-17+0.j, -2.39355314e-16+0.j,  2.57233390e-16+0.j,\n",
       "        -7.74418315e-17+0.j, -3.17270160e-17+0.j],\n",
       "       [ 2.43512652e-17+0.j,  3.20454175e-16+0.j, -1.27326387e-17+0.j,\n",
       "         1.88948642e-16+0.j, -8.33532187e-17+0.j],\n",
       "       [-3.95959626e-16+0.j, -2.58298722e-16+0.j,  1.04855725e-16+0.j,\n",
       "         3.58840974e-16+0.j, -9.70706779e-17+0.j],\n",
       "       [-2.05544501e-16+0.j,  2.58752595e-16+0.j, -3.76209211e-16+0.j,\n",
       "        -7.82238603e-17+0.j, -4.26383901e-16+0.j],\n",
       "       [ 2.79528764e-16+0.j,  5.73513308e-16+0.j, -5.96971106e-17+0.j,\n",
       "         5.71567224e-17+0.j, -3.25705987e-16+0.j],\n",
       "       [ 1.27586274e-16+0.j,  1.09253418e-16+0.j, -1.47507339e-16+0.j,\n",
       "        -1.06776381e-16+0.j, -1.32739840e-17+0.j],\n",
       "       [-1.07396191e-16+0.j, -6.38151416e-16+0.j, -8.66294580e-17+0.j,\n",
       "        -4.34537133e-17+0.j,  4.70002369e-16+0.j],\n",
       "       [-1.25874193e-15+0.j, -3.24951257e-16+0.j, -5.12357423e-17+0.j,\n",
       "         1.01569326e-15+0.j,  2.56985282e-16+0.j],\n",
       "       [-1.06129443e-15+0.j, -3.72993981e-16+0.j,  5.87077291e-16+0.j,\n",
       "         2.04874816e-15+0.j,  4.44962675e-16+0.j],\n",
       "       [ 2.91230057e-16+0.j,  6.51723773e-16+0.j, -1.45321674e-16+0.j,\n",
       "        -3.97214215e-16+0.j, -4.47050596e-16+0.j],\n",
       "       [-1.94129380e-16+0.j,  1.46843067e-16+0.j,  8.40886174e-17+0.j,\n",
       "         1.52786531e-16+0.j,  3.77619357e-16+0.j],\n",
       "       [ 2.05285795e-15+0.j, -2.06372311e-16+0.j, -6.70193520e-16+0.j,\n",
       "        -6.82497229e-16+0.j, -7.53810541e-16+0.j],\n",
       "       [-1.96608200e-16+0.j,  2.82845072e-16+0.j,  6.76471518e-17+0.j,\n",
       "        -1.03093145e-15+0.j,  1.16824163e-16+0.j],\n",
       "       [-5.62317651e-16+0.j, -6.10324194e-17+0.j, -1.21599444e-15+0.j,\n",
       "        -3.75961743e-16+0.j,  7.89981425e-16+0.j],\n",
       "       [ 3.33757464e-15+0.j,  4.26090833e-16+0.j,  8.72040317e-16+0.j,\n",
       "        -3.60862501e-15+0.j, -4.81107640e-16+0.j],\n",
       "       [-9.27365542e-17+0.j,  3.59774976e-16+0.j,  1.27447575e-16+0.j,\n",
       "         1.27676030e-16+0.j,  1.41136779e-17+0.j],\n",
       "       [-4.14061944e-16+0.j,  5.99141762e-16+0.j, -6.01894673e-17+0.j,\n",
       "         5.39104116e-16+0.j,  1.39188953e-16+0.j],\n",
       "       [-2.23399442e-16+0.j,  5.46268805e-17+0.j, -1.68913542e-16+0.j,\n",
       "        -5.46521671e-16+0.j,  5.31701025e-16+0.j],\n",
       "       [ 1.50145932e-16+0.j,  7.40663257e-17+0.j, -2.42811306e-16+0.j,\n",
       "         3.44399924e-17+0.j,  2.88036230e-16+0.j],\n",
       "       [-4.60267546e-16+0.j,  9.42636397e-17+0.j, -1.72893185e-16+0.j,\n",
       "        -1.96226591e-16+0.j,  1.77677885e-16+0.j],\n",
       "       [ 3.62962196e-17+0.j, -8.03645314e-17+0.j, -2.04941333e-16+0.j,\n",
       "         8.11552834e-17+0.j,  1.02955226e-16+0.j],\n",
       "       [ 1.34994476e-16+0.j,  3.41849011e-16+0.j,  6.80385900e-17+0.j,\n",
       "        -1.67290897e-16+0.j, -4.68758210e-16+0.j],\n",
       "       [ 1.25638933e-16+0.j,  5.14598347e-17+0.j,  5.73382661e-17+0.j,\n",
       "        -2.24996552e-17+0.j,  4.82715934e-17+0.j],\n",
       "       [ 3.34528252e-16+0.j,  6.45803399e-17+0.j, -9.52770754e-17+0.j,\n",
       "        -3.62311866e-17+0.j, -3.82067238e-16+0.j],\n",
       "       [ 1.22925423e-15+0.j,  6.62119716e-16+0.j,  8.02435573e-16+0.j,\n",
       "        -1.38907432e-15+0.j, -9.83425707e-16+0.j],\n",
       "       [-2.59215307e-16+0.j, -2.38209899e-16+0.j, -1.18805083e-16+0.j,\n",
       "        -5.11901888e-17+0.j, -1.45876082e-16+0.j],\n",
       "       [ 1.02121151e-16+0.j,  1.15816065e-16+0.j, -1.02648980e-17+0.j,\n",
       "        -1.23355788e-16+0.j, -3.27968246e-17+0.j],\n",
       "       [-2.01673847e-16+0.j,  5.94433889e-17+0.j, -5.31448917e-17+0.j,\n",
       "         8.39396364e-17+0.j,  1.81005242e-17+0.j],\n",
       "       [ 8.10587802e-18+0.j,  5.68955199e-17+0.j, -2.02598324e-17+0.j,\n",
       "         1.68545639e-16+0.j, -4.34967574e-17+0.j],\n",
       "       [ 1.17895512e-16+0.j,  2.24386899e-16+0.j, -8.24340587e-17+0.j,\n",
       "        -5.43707509e-17+0.j,  1.28946952e-16+0.j],\n",
       "       [-9.18188465e-17+0.j, -4.84715075e-18+0.j,  6.33006365e-17+0.j,\n",
       "        -1.40280560e-18+0.j,  2.56970201e-16+0.j],\n",
       "       [-2.91870140e-16+0.j, -1.27124116e-16+0.j, -1.33607410e-16+0.j,\n",
       "        -1.61914269e-16+0.j,  1.80570404e-17+0.j],\n",
       "       [ 4.74426676e-17+0.j,  5.66879248e-17+0.j,  1.51957376e-17+0.j,\n",
       "        -1.97324442e-16+0.j,  2.78722152e-16+0.j],\n",
       "       [ 3.23244928e-16+0.j,  1.92894247e-16+0.j,  2.27489011e-16+0.j,\n",
       "         6.55648355e-17+0.j, -3.55652362e-17+0.j],\n",
       "       [ 2.23350900e-16+0.j, -1.55610291e-16+0.j, -8.75545955e-17+0.j,\n",
       "        -5.22170756e-16+0.j, -4.41437362e-16+0.j]], dtype=complex128)"
      ]
     },
     "execution_count": 61,
     "metadata": {},
     "output_type": "execute_result"
    }
   ],
   "source": [
    "prop_data['walkers'][0]"
   ]
  },
  {
   "cell_type": "code",
   "execution_count": 72,
   "id": "f8a660f3",
   "metadata": {},
   "outputs": [
    {
     "name": "stdout",
     "output_type": "stream",
     "text": [
      "2.1880630640680465e-09\n"
     ]
    }
   ],
   "source": [
    "e_rhf \\\n",
    "= wavefunctions.rhf(trial.norb, trial.nelec,n_batch=trial.n_batch\n",
    "                    )._calc_energy_restricted(wave_data['mo_coeff'], ham_data, wave_data)\n",
    "print(e_rhf-mf.e_tot)"
   ]
  },
  {
   "cell_type": "code",
   "execution_count": 42,
   "id": "a53089c8",
   "metadata": {},
   "outputs": [
    {
     "name": "stdout",
     "output_type": "stream",
     "text": [
      "-1.4911063734857066e-05\n"
     ]
    }
   ],
   "source": [
    "e_rhf \\\n",
    "= wavefunctions.rhf(trial.norb, trial.nelec,n_batch=trial.n_batch\n",
    "                    )._calc_energy_restricted(u_occ, ham_data, wave_data)\n",
    "print(e_rhf-mf.e_tot)"
   ]
  },
  {
   "cell_type": "code",
   "execution_count": 62,
   "id": "6c46eff9",
   "metadata": {},
   "outputs": [],
   "source": [
    "u = lno_maker.thouless_trans(mycc.t1)\n",
    "s1e = mf.get_ovlp()\n",
    "# c_phi = mf.mo_coeff @ u\n",
    "# q, _ = np.linalg.qr(c_phi.T @ s1e @ c_phi)\n",
    "q, _ = np.linalg.qr(mf.mo_coeff.T @ s1e @ mf.mo_coeff)"
   ]
  },
  {
   "cell_type": "code",
   "execution_count": 69,
   "id": "b2343ff4",
   "metadata": {},
   "outputs": [
    {
     "name": "stdout",
     "output_type": "stream",
     "text": [
      "-1.4911063734857066e-05\n"
     ]
    }
   ],
   "source": [
    "wave_data['mo_coeff'] = q[:,:nocc]\n",
    "e_rhf \\\n",
    "= wavefunctions.rhf(trial.norb, trial.nelec,n_batch=trial.n_batch\n",
    "                    )._calc_energy_restricted(u_occ, ham_data, wave_data)\n",
    "print(e_rhf-mf.e_tot)"
   ]
  },
  {
   "cell_type": "code",
   "execution_count": 77,
   "id": "6969ceb3",
   "metadata": {},
   "outputs": [
    {
     "name": "stdout",
     "output_type": "stream",
     "text": [
      "2.1880630640680465e-09\n"
     ]
    }
   ],
   "source": [
    "walker = wave_data['mo_coeff']\n",
    "wave_data['mo_coeff'] = q[:,:nocc]\n",
    "# walker = u[:,:nocc]\n",
    "e_rhf \\\n",
    "= wavefunctions.rhf(trial.norb, trial.nelec,n_batch=trial.n_batch\n",
    "                    )._calc_energy_restricted(walker, ham_data, wave_data)\n",
    "print(e_rhf-mf.e_tot)"
   ]
  },
  {
   "cell_type": "code",
   "execution_count": 82,
   "id": "9c429be9",
   "metadata": {},
   "outputs": [
    {
     "name": "stdout",
     "output_type": "stream",
     "text": [
      "10.20766040588143 -25.54903593591203 9.970934122386547\n",
      "2.1880630640680465e-09\n"
     ]
    }
   ],
   "source": [
    "from jax import vmap\n",
    "from jax import numpy as jnp\n",
    "# def calc_e_rhf(trial, walker, ham_data, wave_data):\n",
    "walker = wave_data['mo_coeff']\n",
    "wave_data['mo_coeff'] = q[:,:nocc]\n",
    "h0, rot_h1, rot_chol = ham_data[\"h0\"], ham_data[\"rot_h1\"], ham_data[\"rot_chol\"]\n",
    "ene0 = h0\n",
    "green_walker = trial._calc_green(walker, wave_data)\n",
    "ene1 = 2.0 * jnp.sum(green_walker * rot_h1)\n",
    "f = jnp.einsum(\"gij,jk->gik\", rot_chol, green_walker.T, optimize=\"optimal\")\n",
    "c = vmap(jnp.trace)(f)\n",
    "exc = jnp.sum(vmap(lambda x: x * x.T)(f))\n",
    "ene2 = 2.0 * jnp.sum(c * c) - exc\n",
    "# return ene2 + ene1 + ene0\n",
    "print(ene0,ene1,ene2)\n",
    "print(ene2 + ene1 + ene0 - mf.e_tot)"
   ]
  },
  {
   "cell_type": "code",
   "execution_count": null,
   "id": "70f14166",
   "metadata": {},
   "outputs": [],
   "source": [
    "# from ad_afqmc.lno.cc import LNOCCSD\n",
    "# import sys\n",
    "# from ad_afqmc.lno_ccsd import lno_ccsd\n",
    "# from pyscf.lib import logger\n",
    "# from pyscf import lib\n",
    "# log = logger.Logger(sys.stdout, 6)"
   ]
  },
  {
   "cell_type": "code",
   "execution_count": null,
   "id": "4f3e52be",
   "metadata": {},
   "outputs": [
    {
     "name": "stdout",
     "output_type": "stream",
     "text": [
      "lo_type = boys\n",
      "\n",
      "\n",
      "******** <class 'pyscf.lo.boys.Boys'> ********\n",
      "conv_tol = 1e-06\n",
      "conv_tol_grad = None\n",
      "max_cycle = 100\n",
      "max_stepsize = 0.01\n",
      "max_iters = 20\n",
      "kf_interval = 5\n",
      "kf_trust_region = 5\n",
      "ah_start_tol = 1000000000.0\n",
      "ah_start_cycle = 1\n",
      "ah_level_shift = 0\n",
      "ah_conv_tol = 1e-12\n",
      "ah_lindep = 1e-14\n",
      "ah_max_cycle = 40\n",
      "ah_trust_region = 3\n",
      "init_guess = atomic\n",
      "Set conv_tol_grad to 0.000316228\n"
     ]
    },
    {
     "name": "stdout",
     "output_type": "stream",
     "text": [
      "macro= 1  f(x)= 24.514112851113  delta_f= 24.5141  |g|= 10.0677  2 KF 10 Hx\n",
      "macro= 2  f(x)= 22.685522230903  delta_f= -1.82859  |g|= 4.39755  2 KF 10 Hx\n",
      "macro= 3  f(x)= 22.434500027171  delta_f= -0.251022  |g|= 0.174092  2 KF 7 Hx\n",
      "macro= 4  f(x)= 22.434499596429  delta_f= -4.30742e-07  |g|= 0.00393928  1 KF 2 Hx\n",
      "macro= 5  f(x)= 22.434499596429  delta_f= 5.68434e-14  |g|= 1.09843e-07  1 KF 1 Hx\n",
      "macro X = 5  f(x)= 22.434499596429  |g|= 1.09843e-07  10 intor 8 KF 30 Hx\n",
      "LOs span exactly the occupied space.\n",
      "Using single-LO fragment\n",
      "# lno thresh [0, 0]\n",
      "\n",
      "########### running fragment 1 ##########\n",
      "Using true 4-index integrals\n",
      "Using true 4-index integrals\n",
      "# active orbitals: [ 0  1  2  3  4  5  6  7  8  9 10 11 12 13 14 15 16 17 18 19 20 21 22 23\n",
      " 24 25 26 27 28 29 30 31 32 33 34 35 36 37 38 39]\n",
      "# active occupied orbitals: [0 1 2 3 4]\n",
      "# active virtual orbitals: [ 5  6  7  8  9 10 11 12 13 14 15 16 17 18 19 20 21 22 23 24 25 26 27 28\n",
      " 29 30 31 32 33 34 35 36 37 38 39]\n",
      "# frozen orbitals: []\n",
      "# Use full CCSD wavefunction\n",
      "# Project CC amplitudes from MO to NO\n",
      "# Finished MO to NO projection\n",
      "# number of active electrons: 10\n",
      "# number of active orbitals: 40\n",
      "# number of frozen orbitals: 0\n",
      "# Generating Cholesky Integrals\n",
      "# frozen orbitals: []\n",
      "# local active orbitals: [ 0  1  2  3  4  5  6  7  8  9 10 11 12 13 14 15 16 17 18 19 20 21 22 23\n",
      " 24 25 26 27 28 29 30 31 32 33 34 35 36 37 38 39]\n",
      "# local active space size: 40\n",
      "# Finished calculating Cholesky integrals\n",
      "\n",
      "# Size of the correlation space\n",
      "# Number of electrons: (5, 5)\n",
      "# Number of basis functions: 40\n",
      "# Number of Cholesky vectors: 207\n",
      "\n"
     ]
    }
   ],
   "source": [
    "# mfcc = mycc\n",
    "# thresh = 0\n",
    "# frozen = None\n",
    "# run_frg_list = [0]\n",
    "# use_df_vecs = False\n",
    "# chol_cut = 1e-8\n",
    "# lo_type = 'boys'\n",
    "# no_type = 'ie'\n",
    "# frag_lolist = '1o'\n",
    "\n",
    "# from pyscf.cc.ccsd import CCSD\n",
    "# from pyscf.ci.cisd import CISD\n",
    "# if isinstance(mfcc, (CCSD, CISD)):\n",
    "#     full_cisd = True\n",
    "#     mf = mfcc._scf\n",
    "# else:\n",
    "#     full_cisd = False\n",
    "#     mf = mfcc\n",
    "\n",
    "# if isinstance(thresh, list):\n",
    "#     thresh_occ, thresh_vir = thresh\n",
    "# else:\n",
    "#     thresh_occ = thresh*10\n",
    "#     thresh_vir = thresh\n",
    "\n",
    "# lno_cc = LNOCCSD(mf, thresh=thresh, frozen=frozen)\n",
    "# lno_cc.thresh_occ = thresh_occ\n",
    "# lno_cc.thresh_vir = thresh_vir\n",
    "# lno_cc.lo_type = lo_type\n",
    "# lno_cc.no_type = no_type\n",
    "# lno_cc.frag_lolist = frag_lolist\n",
    "# lno_cc.force_outcore_ao2mo = True\n",
    "\n",
    "# s1e = lno_cc._scf.get_ovlp()\n",
    "# orbactocc = lno_cc.split_mo()[1] # non-localized active occ\n",
    "# orbloc = lno_cc.get_lo(lo_type=lo_type) # localized active occ orbitals\n",
    "# m = orbloc.T @ s1e @ orbactocc\n",
    "# lospanerr = abs((m.T @ m) - np.eye(m.shape[1])).max()\n",
    "# if lospanerr > 1e-10:\n",
    "#     log.error('LOs do not fully span the occupied space! '\n",
    "#                 'Max|<occ|LO><LO|occ>| = %e', lospanerr)\n",
    "#     raise RuntimeError\n",
    "# # check 2: Span(LO) == Span(occ)\n",
    "# occspanerr = abs(m @ m.T - np.eye(m.shape[0])).max()\n",
    "# if occspanerr < 1e-10:\n",
    "#     log.info('LOs span exactly the occupied space.')\n",
    "#     if no_type not in ['ir','ie']:\n",
    "#         log.error('\"no_type\" must be \"ir\" or \"ie\".')\n",
    "#         raise ValueError\n",
    "# else:\n",
    "#     log.info('LOs span occupied space plus some virtual space.')\n",
    "\n",
    "# if frag_lolist == '1o':\n",
    "#     log.info('Using single-LO fragment') # this is what we use, every active local occ labels a fragment\n",
    "#     frag_lolist = [[i] for i in range(orbloc.shape[1])]\n",
    "# else: print('Only support single LO fragment!')\n",
    "# nfrag = len(frag_lolist)\n",
    "\n",
    "# if not (no_type[0] in 'rei' and no_type[1] in 'rei'):\n",
    "#     log.warn('Input no_type \"%s\" is invalid.', no_type)\n",
    "#     raise ValueError\n",
    "\n",
    "# frozen_mask = lno_cc.get_frozen_mask()\n",
    "# thresh_pno = [thresh_occ,thresh_vir]\n",
    "# print(f'# lno thresh {thresh_pno}')\n",
    "\n",
    "# if run_frg_list is None:\n",
    "#     run_frg_list = range(nfrag)\n",
    "\n",
    "# from jax import random\n",
    "# seeds = random.randint(random.PRNGKey(options[\"seed\"]),\n",
    "#                     shape=(len(run_frg_list),), minval=0, maxval=100*nfrag)\n",
    "\n",
    "# for ifrag in run_frg_list:\n",
    "#     print(f'\\n########### running fragment {ifrag+1} ##########')\n",
    "\n",
    "#     fraglo = frag_lolist[ifrag]\n",
    "#     orbfragloc = orbloc[:,fraglo] # the specific local active occ\n",
    "#     # frag_target_nocc, frag_target_nvir = frag_nonvlist[ifrag]\n",
    "#     THRESH_INTERNAL = 1e-10\n",
    "#     frzfrag, orbfrag, can_orbfrag \\\n",
    "#         = lno_ccsd.make_lno(lno_cc, orbfragloc, THRESH_INTERNAL, thresh_pno)\n",
    "    \n",
    "#     mol = mf.mol\n",
    "#     nocc = mol.nelectron // 2 \n",
    "#     nao = mol.nao\n",
    "#     actfrag = np.array([i for i in range(nao) if i not in frzfrag])\n",
    "#     # frzocc = np.array([i for i in range(nocc) if i in frzfrag])\n",
    "#     actocc = np.array([i for i in range(nocc) if i in actfrag])\n",
    "#     actvir = np.array([i for i in range(nocc,nao) if i in actfrag])\n",
    "#     nactocc = len(actocc)\n",
    "#     nactocc = len(actocc)\n",
    "#     nactvir = len(actvir)\n",
    "#     prjlo = orbfragloc.T @ s1e @ orbfrag[:,actocc]\n",
    "\n",
    "#     print(f'# active orbitals: {actfrag}')\n",
    "#     print(f'# active occupied orbitals: {actocc}')\n",
    "#     print(f'# active virtual orbitals: {actvir}')\n",
    "#     print(f'# frozen orbitals: {frzfrag}')\n",
    "\n",
    "#     if full_cisd:\n",
    "#         # print('# This method is not size-extensive')\n",
    "#         frz_mo_idx = np.where(np.array(frozen_mask) == False)[0]\n",
    "#         act_mo_occ = np.array([i for i in range(nocc) if i not in frz_mo_idx])\n",
    "#         act_mo_vir = np.array([i for i in range(nocc,nao) if i not in frz_mo_idx])\n",
    "#         prj_no2mo = lno_ccsd.no2mo(mf.mo_coeff,s1e,orbfrag)\n",
    "#         prj_oo_act = prj_no2mo[np.ix_(act_mo_occ,actocc)]\n",
    "#         prj_vv_act = prj_no2mo[np.ix_(act_mo_vir,actvir)]\n",
    "#         if isinstance(mfcc, CCSD):\n",
    "#             print('# Use full CCSD wavefunction')\n",
    "#             print('# Project CC amplitudes from MO to NO')\n",
    "#             t1 = mfcc.t1\n",
    "#             t2 = mfcc.t2\n",
    "#             # project to active no\n",
    "#             t1 = lib.einsum(\"ij,ia,ba->jb\",prj_oo_act,t1,prj_vv_act.T)\n",
    "#             t2 = lib.einsum(\"ik,jl,ijab,db,ca->klcd\",\n",
    "#                     prj_oo_act,prj_oo_act,t2,prj_vv_act.T,prj_vv_act.T)\n",
    "#             ci1 = np.array(t1)\n",
    "#             ci2 = t2 + lib.einsum(\"ia,jb->ijab\",ci1,ci1)\n",
    "#             ci2 = ci2.transpose(0, 2, 1, 3)\n",
    "#         if isinstance(mfcc, CISD):\n",
    "#             print('# Use full CISD wavefunction')\n",
    "#             print('# Project CI coefficients from MO to NO')\n",
    "#             v_ci = mfcc.ci\n",
    "#             ci0,ci1,ci2 = mfcc.cisdvec_to_amplitudes(v_ci)\n",
    "#             ci1 = ci1/ci0\n",
    "#             ci2 = ci2/ci0\n",
    "#             ci1 = lib.einsum(\"ij,ia,ba->jb\",prj_oo_act,ci1,prj_vv_act.T)\n",
    "#             ci2 = lib.einsum(\"ik,jl,ijab,db,ca->klcd\",\n",
    "#                     prj_oo_act,prj_oo_act,ci2,prj_vv_act.T,prj_vv_act.T)\n",
    "#             ci2 = ci2.transpose(0, 2, 1, 3)\n",
    "#         print('# Finished MO to NO projection')\n",
    "#         ecorr_ccsd = '  None  '\n",
    "#     else:\n",
    "#         print('# Solving LNO-CCSD')\n",
    "#         ecorr_ccsd,t1,t2 = lno_ccsd.cc_impurity_solve(\n",
    "#                 mf,orbfrag,orbfragloc,frozen=frzfrag,eris=None\n",
    "#                 )\n",
    "#         ci1 = np.array(t1)\n",
    "#         ci2 = t2 + lib.einsum(\"ia,jb->ijab\",ci1,ci1)\n",
    "#         ci2 = ci2.transpose(0, 2, 1, 3)\n",
    "#         ecorr_ccsd = f'{ecorr_ccsd:.8f}'\n",
    "#         print(f'# lno-ccsd fragment correlation energy: {ecorr_ccsd}')\n",
    "\n",
    "#     nelec_act = nactocc*2\n",
    "#     norb_act = nactocc+nactvir\n",
    "    \n",
    "#     print(f'# number of active electrons: {nelec_act}')\n",
    "#     print(f'# number of active orbitals: {norb_act}')\n",
    "#     print(f'# number of frozen orbitals: {len(frzfrag)}')\n",
    "\n",
    "#     options[\"seed\"] = seeds[ifrag]\n",
    "#     lno_ccsd.prep_lno_amp_chol_file(\n",
    "#         mf,orbfrag,options,\n",
    "#         norb_act=norb_act,nelec_act=nelec_act,\n",
    "#         prjlo=prjlo,norb_frozen=frzfrag,\n",
    "#         ci1=ci1,ci2=ci2,use_df_vecs=use_df_vecs,\n",
    "#         chol_cut=chol_cut,\n",
    "#         )\n"
   ]
  },
  {
   "cell_type": "code",
   "execution_count": null,
   "id": "e73afeb3",
   "metadata": {},
   "outputs": [
    {
     "name": "stdout",
     "output_type": "stream",
     "text": [
      "# Hostname: yichi-thinkpad\n",
      "# System Type: Linux\n",
      "# Machine Type: x86_64\n",
      "# Processor: x86_64\n",
      "# Number of MPI ranks: 1\n",
      "#\n",
      "# norb: 40\n",
      "# nelec: (5, 5)\n",
      "# nchol: 207\n",
      "#\n",
      "# n_eql: 4\n",
      "# n_prop_steps: 10\n",
      "# n_ene_blocks: 1\n",
      "# n_sr_blocks: 10\n",
      "# n_blocks: 10\n",
      "# n_walkers: 10\n",
      "# seed: 450\n",
      "# walker_type: rhf\n",
      "# trial: rhf\n",
      "# dt: 0.005\n",
      "# free_projection: False\n",
      "# use_gpu: False\n",
      "# n_exp_terms: 6\n",
      "# orbital_rotation: True\n",
      "# do_sr: True\n",
      "# symmetry: False\n",
      "# save_walkers: False\n",
      "# n_batch: 1\n",
      "# ene0: 0\n",
      "#\n",
      "# Hostname: yichi-thinkpad\n",
      "# System Type: Linux\n",
      "# Machine Type: x86_64\n",
      "# Processor: x86_64\n"
     ]
    }
   ],
   "source": [
    "# from functools import partial\n",
    "# from jax import random\n",
    "# #from mpi4py import MPI\n",
    "# import numpy as np\n",
    "# from jax import numpy as jnp\n",
    "# from ad_afqmc import config, wavefunctions, stat_utils\n",
    "# from ad_afqmc.lno_ccsd import lno_ccsd\n",
    "# import time\n",
    "\n",
    "# print = partial(print, flush=True)\n",
    "\n",
    "# ham_data, ham, prop, trial, wave_data, sampler, observable, options, _ = (\n",
    "#     lno_ccsd.prep_lnoccsd_afqmc())\n",
    "\n",
    "# if options[\"use_gpu\"]:\n",
    "#     config.afqmc_config[\"use_gpu\"] = True\n",
    "\n",
    "# config.setup_jax()\n",
    "# MPI = config.setup_comm()\n",
    "\n",
    "# comm = MPI.COMM_WORLD\n",
    "# rank = comm.Get_rank()  # Process rank\n",
    "# size = comm.Get_size()  # Total number of processes"
   ]
  },
  {
   "cell_type": "code",
   "execution_count": null,
   "id": "fda55c5f",
   "metadata": {},
   "outputs": [],
   "source": [
    "# ### initialize propagation\n",
    "# seed = options[\"seed\"]\n",
    "# propagator = prop\n",
    "# init_walkers = None\n",
    "# ham_data = wavefunctions.rhf(trial.norb, trial.nelec,n_batch=trial.n_batch\n",
    "#                                 )._build_measurement_intermediates(ham_data, wave_data)\n",
    "# ham_data = ham.build_measurement_intermediates(ham_data, trial, wave_data)\n",
    "# ham_data = ham.build_propagation_intermediates(ham_data, propagator, trial, wave_data)\n",
    "\n",
    "# prop_data = propagator.init_prop_data(trial, wave_data, ham_data, init_walkers)\n"
   ]
  },
  {
   "cell_type": "code",
   "execution_count": null,
   "id": "b6769b4e",
   "metadata": {},
   "outputs": [
    {
     "name": "stdout",
     "output_type": "stream",
     "text": [
      "-5.541455769668331\n",
      "-5.541455769668331\n"
     ]
    }
   ],
   "source": [
    "# t2_0 = np.zeros(t2.shape)\n",
    "# eris = mycc.ao2mo(orbfrag)\n",
    "# ccsd_corr = mycc.energy(t1,t2,eris)\n",
    "# print(mf.e_tot+ccsd_corr)\n",
    "# print(mycc.e_tot)"
   ]
  },
  {
   "cell_type": "code",
   "execution_count": null,
   "id": "4348a543",
   "metadata": {},
   "outputs": [
    {
     "name": "stdout",
     "output_type": "stream",
     "text": [
      "-5.370456322958685\n",
      "-5.3704563229586855\n"
     ]
    }
   ],
   "source": [
    "# t2_0 = np.zeros(t2.shape)\n",
    "# eris = mycc.ao2mo(orbfrag)\n",
    "# ccsd_corr = mycc.energy(t1,t2_0,eris)\n",
    "# print(mf.e_tot+ccsd_corr)\n",
    "# t2_0 = np.zeros(t2.shape)\n",
    "# eris = mycc.ao2mo(mycc.mo_coeff)\n",
    "# ccsd_corr = mycc.energy(mycc.t1,t2_0,eris)\n",
    "# print(mf.e_tot+ccsd_corr)"
   ]
  },
  {
   "cell_type": "code",
   "execution_count": null,
   "id": "b1ec9c3c",
   "metadata": {},
   "outputs": [
    {
     "name": "stdout",
     "output_type": "stream",
     "text": [
      "-5.370441409832113\n"
     ]
    }
   ],
   "source": [
    "# print(mf.e_tot)"
   ]
  },
  {
   "cell_type": "code",
   "execution_count": null,
   "id": "b87d4ad9",
   "metadata": {},
   "outputs": [],
   "source": [
    "# u_occ = thouless_trans(t1)"
   ]
  },
  {
   "cell_type": "code",
   "execution_count": null,
   "id": "1ffb194f",
   "metadata": {},
   "outputs": [
    {
     "name": "stdout",
     "output_type": "stream",
     "text": [
      "-5.370456297319951\n",
      "2.56387346908582e-08\n"
     ]
    }
   ],
   "source": [
    "# e_phi \\\n",
    "# = wavefunctions.rhf(trial.norb, trial.nelec,n_batch=trial.n_batch\n",
    "#                     )._calc_energy_restricted(u_occ, ham_data, wave_data)\n",
    "# print(e_phi)\n",
    "# print(e_phi-(mf.e_tot+ccsd_corr))"
   ]
  },
  {
   "cell_type": "code",
   "execution_count": null,
   "id": "47786947",
   "metadata": {},
   "outputs": [],
   "source": [
    "# use phi = exp(T1)psi_0 as the trial\n",
    "# the scattering elements of <0|1> is not zero!!!"
   ]
  },
  {
   "cell_type": "code",
   "execution_count": null,
   "id": "05266243",
   "metadata": {},
   "outputs": [],
   "source": [
    "# get the transformation of u_vir\n",
    "# def thouless_trans(t1):\n",
    "#     q, r = np.linalg.qr(t1)\n",
    "#     u_ai = r.T\n",
    "#     u_ji = q\n",
    "#     u_occ = np.vstack((u_ji,u_ai))\n",
    "#     u, _, _ = np.linalg.svd(u_occ)\n",
    "#     return u"
   ]
  },
  {
   "cell_type": "code",
   "execution_count": null,
   "id": "8b8c8363",
   "metadata": {},
   "outputs": [],
   "source": [
    "# u = thouless_trans(t1)"
   ]
  },
  {
   "cell_type": "code",
   "execution_count": null,
   "id": "85dcef76",
   "metadata": {},
   "outputs": [
    {
     "name": "stdout",
     "output_type": "stream",
     "text": [
      "-5.370456297319951\n",
      "2.56387346908582e-08\n"
     ]
    }
   ],
   "source": [
    "# nocc = np.count_nonzero(mf.mo_occ)\n",
    "# # print(u[:,:nocc]-u_occ)\n",
    "# e_phi \\\n",
    "#     = wavefunctions.rhf(trial.norb, trial.nelec,n_batch=trial.n_batch\n",
    "#                     )._calc_energy_restricted(u[:,:nocc], ham_data, wave_data)\n",
    "# print(e_phi)\n",
    "# print(e_phi-(mf.e_tot+ccsd_corr))"
   ]
  },
  {
   "cell_type": "code",
   "execution_count": null,
   "id": "fb433ace",
   "metadata": {},
   "outputs": [],
   "source": [
    "# mfcc = mycc\n",
    "# thresh = 0\n",
    "# frozen = None\n",
    "# run_frg_list = [0]\n",
    "# use_df_vecs = False\n",
    "# chol_cut = 1e-8\n",
    "# lo_type = 'boys'\n",
    "# no_type = 'ie'\n",
    "# frag_lolist = '1o'\n",
    "\n",
    "# from pyscf.cc.ccsd import CCSD\n",
    "# from pyscf.ci.cisd import CISD\n",
    "# if isinstance(mfcc, (CCSD, CISD)):\n",
    "#     full_cisd = True\n",
    "#     mf = mfcc._scf\n",
    "# else:\n",
    "#     full_cisd = False\n",
    "#     mf = mfcc\n",
    "\n",
    "# if isinstance(thresh, list):\n",
    "#     thresh_occ, thresh_vir = thresh\n",
    "# else:\n",
    "#     thresh_occ = thresh*10\n",
    "#     thresh_vir = thresh\n",
    "\n",
    "# lno_cc = LNOCCSD(mf, thresh=thresh, frozen=frozen)\n",
    "# lno_cc.thresh_occ = thresh_occ\n",
    "# lno_cc.thresh_vir = thresh_vir\n",
    "# lno_cc.lo_type = lo_type\n",
    "# lno_cc.no_type = no_type\n",
    "# lno_cc.frag_lolist = frag_lolist\n",
    "# lno_cc.force_outcore_ao2mo = True\n",
    "\n",
    "# s1e = lno_cc._scf.get_ovlp()\n",
    "# orbactocc = lno_cc.split_mo()[1] # non-localized active occ\n",
    "# orbloc = lno_cc.get_lo(lo_type=lo_type) # localized active occ orbitals\n",
    "# m = orbloc.T @ s1e @ orbactocc\n",
    "# lospanerr = abs((m.T @ m) - np.eye(m.shape[1])).max()\n",
    "# if lospanerr > 1e-10:\n",
    "#     log.error('LOs do not fully span the occupied space! '\n",
    "#                 'Max|<occ|LO><LO|occ>| = %e', lospanerr)\n",
    "#     raise RuntimeError\n",
    "# # check 2: Span(LO) == Span(occ)\n",
    "# occspanerr = abs(m @ m.T - np.eye(m.shape[0])).max()\n",
    "# if occspanerr < 1e-10:\n",
    "#     log.info('LOs span exactly the occupied space.')\n",
    "#     if no_type not in ['ir','ie']:\n",
    "#         log.error('\"no_type\" must be \"ir\" or \"ie\".')\n",
    "#         raise ValueError\n",
    "# else:\n",
    "#     log.info('LOs span occupied space plus some virtual space.')\n",
    "\n",
    "# if frag_lolist == '1o':\n",
    "#     log.info('Using single-LO fragment') # this is what we use, every active local occ labels a fragment\n",
    "#     frag_lolist = [[i] for i in range(orbloc.shape[1])]\n",
    "# else: print('Only support single LO fragment!')\n",
    "# nfrag = len(frag_lolist)\n",
    "\n",
    "# if not (no_type[0] in 'rei' and no_type[1] in 'rei'):\n",
    "#     log.warn('Input no_type \"%s\" is invalid.', no_type)\n",
    "#     raise ValueError\n",
    "\n",
    "# frozen_mask = lno_cc.get_frozen_mask()\n",
    "# thresh_pno = [thresh_occ,thresh_vir]\n",
    "# print(f'# lno thresh {thresh_pno}')\n",
    "\n",
    "# if run_frg_list is None:\n",
    "#     run_frg_list = range(nfrag)\n",
    "\n",
    "# from jax import random\n",
    "# seeds = random.randint(random.PRNGKey(options[\"seed\"]),\n",
    "#                     shape=(len(run_frg_list),), minval=0, maxval=100*nfrag)\n",
    "\n",
    "# for ifrag in run_frg_list:\n",
    "#     print(f'\\n########### running fragment {ifrag+1} ##########')\n",
    "\n",
    "#     fraglo = frag_lolist[ifrag]\n",
    "#     orbfragloc = orbloc[:,fraglo] # the specific local active occ\n",
    "#     # frag_target_nocc, frag_target_nvir = frag_nonvlist[ifrag]\n",
    "#     THRESH_INTERNAL = 1e-10\n",
    "#     frzfrag, orbfrag, can_orbfrag \\\n",
    "#         = lno_ccsd.make_lno(lno_cc, orbfragloc, THRESH_INTERNAL, thresh_pno)\n",
    "    \n",
    "#     mol = mf.mol\n",
    "#     nocc = mol.nelectron // 2 \n",
    "#     nao = mol.nao\n",
    "#     actfrag = np.array([i for i in range(nao) if i not in frzfrag])\n",
    "#     # frzocc = np.array([i for i in range(nocc) if i in frzfrag])\n",
    "#     actocc = np.array([i for i in range(nocc) if i in actfrag])\n",
    "#     actvir = np.array([i for i in range(nocc,nao) if i in actfrag])\n",
    "#     nactocc = len(actocc)\n",
    "#     nactocc = len(actocc)\n",
    "#     nactvir = len(actvir)\n",
    "#     prjlo = orbfragloc.T @ s1e @ orbfrag[:,actocc]\n",
    "\n",
    "#     print(f'# active orbitals: {actfrag}')\n",
    "#     print(f'# active occupied orbitals: {actocc}')\n",
    "#     print(f'# active virtual orbitals: {actvir}')\n",
    "#     print(f'# frozen orbitals: {frzfrag}')\n",
    "\n",
    "#     if full_cisd:\n",
    "#         # print('# This method is not size-extensive')\n",
    "#         frz_mo_idx = np.where(np.array(frozen_mask) == False)[0]\n",
    "#         act_mo_occ = np.array([i for i in range(nocc) if i not in frz_mo_idx])\n",
    "#         act_mo_vir = np.array([i for i in range(nocc,nao) if i not in frz_mo_idx])\n",
    "#         prj_no2mo = lno_ccsd.no2mo(mf.mo_coeff,s1e,orbfrag)\n",
    "#         prj_oo_act = prj_no2mo[np.ix_(act_mo_occ,actocc)]\n",
    "#         prj_vv_act = prj_no2mo[np.ix_(act_mo_vir,actvir)]\n",
    "#         if isinstance(mfcc, CCSD):\n",
    "#             print('# Use full CCSD wavefunction')\n",
    "#             print('# Project CC amplitudes from MO to NO')\n",
    "#             t1 = mfcc.t1\n",
    "#             t2 = mfcc.t2\n",
    "#             # project to active no\n",
    "#             t1 = lib.einsum(\"ij,ia,ba->jb\",prj_oo_act,t1,prj_vv_act.T)\n",
    "#             t2 = lib.einsum(\"ik,jl,ijab,db,ca->klcd\",\n",
    "#                     prj_oo_act,prj_oo_act,t2,prj_vv_act.T,prj_vv_act.T)\n",
    "#             ci1 = np.array(t1)\n",
    "#             ci2 = t2 + lib.einsum(\"ia,jb->ijab\",ci1,ci1)\n",
    "#             ci2 = ci2.transpose(0, 2, 1, 3)\n",
    "#         if isinstance(mfcc, CISD):\n",
    "#             print('# Use full CISD wavefunction')\n",
    "#             print('# Project CI coefficients from MO to NO')\n",
    "#             v_ci = mfcc.ci\n",
    "#             ci0,ci1,ci2 = mfcc.cisdvec_to_amplitudes(v_ci)\n",
    "#             ci1 = ci1/ci0\n",
    "#             ci2 = ci2/ci0\n",
    "#             ci1 = lib.einsum(\"ij,ia,ba->jb\",prj_oo_act,ci1,prj_vv_act.T)\n",
    "#             ci2 = lib.einsum(\"ik,jl,ijab,db,ca->klcd\",\n",
    "#                     prj_oo_act,prj_oo_act,ci2,prj_vv_act.T,prj_vv_act.T)\n",
    "#             ci2 = ci2.transpose(0, 2, 1, 3)\n",
    "#         print('# Finished MO to NO projection')\n",
    "#         ecorr_ccsd = '  None  '\n",
    "#     else:\n",
    "#         print('# Solving LNO-CCSD')\n",
    "#         ecorr_ccsd,t1,t2 = lno_ccsd.cc_impurity_solve(\n",
    "#                 mf,orbfrag,orbfragloc,frozen=frzfrag,eris=None\n",
    "#                 )\n",
    "#         ci1 = np.array(t1)\n",
    "#         ci2 = t2 + lib.einsum(\"ia,jb->ijab\",ci1,ci1)\n",
    "#         ci2 = ci2.transpose(0, 2, 1, 3)\n",
    "#         ecorr_ccsd = f'{ecorr_ccsd:.8f}'\n",
    "#         print(f'# lno-ccsd fragment correlation energy: {ecorr_ccsd}')\n",
    "\n",
    "#     nelec_act = nactocc*2\n",
    "#     norb_act = nactocc+nactvir\n",
    "    \n",
    "#     print(f'# number of active electrons: {nelec_act}')\n",
    "#     print(f'# number of active orbitals: {norb_act}')\n",
    "#     print(f'# number of frozen orbitals: {len(frzfrag)}')\n",
    "\n",
    "#     options[\"seed\"] = seeds[ifrag]\n",
    "#     lno_ccsd.prep_lno_amp_chol_file(\n",
    "#         mf,orbfrag,options,\n",
    "#         norb_act=norb_act,nelec_act=nelec_act,\n",
    "#         prjlo=prjlo,norb_frozen=frzfrag,\n",
    "#         ci1=ci1,ci2=ci2,use_df_vecs=use_df_vecs,\n",
    "#         chol_cut=chol_cut,\n",
    "#         )"
   ]
  }
 ],
 "metadata": {
  "kernelspec": {
   "display_name": "lno_pyscf_afqmc",
   "language": "python",
   "name": "python3"
  },
  "language_info": {
   "codemirror_mode": {
    "name": "ipython",
    "version": 3
   },
   "file_extension": ".py",
   "mimetype": "text/x-python",
   "name": "python",
   "nbconvert_exporter": "python",
   "pygments_lexer": "ipython3",
   "version": "3.10.16"
  }
 },
 "nbformat": 4,
 "nbformat_minor": 5
}
