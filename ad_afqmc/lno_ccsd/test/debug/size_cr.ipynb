{
 "cells": [
  {
   "cell_type": "code",
   "execution_count": 1,
   "id": "47a47fec",
   "metadata": {},
   "outputs": [
    {
     "name": "stdout",
     "output_type": "stream",
     "text": [
      "System: uname_result(system='Linux', node='yichi-thinkpad', release='4.4.0-26100-Microsoft', version='#5074-Microsoft Fri Jan 01 08:00:00 PST 2016', machine='x86_64')  Threads 12\n",
      "Python 3.10.16 | packaged by conda-forge | (main, Dec  5 2024, 14:16:10) [GCC 13.3.0]\n",
      "numpy 1.24.3  scipy 1.14.1  h5py 3.12.1\n",
      "Date: Sun Sep 21 13:07:50 2025\n",
      "PySCF version 2.8.0\n",
      "PySCF path  /home/yichi/research/software/lno_pyscf\n",
      "GIT HEAD (branch master) ef75f4190e4de208685670651dc6c467f72b6794\n",
      "\n",
      "[ENV] PYSCF_EXT_PATH /home/yichi/research/software/pyscf\n",
      "[CONFIG] conf_file None\n",
      "[INPUT] verbose = 4\n",
      "[INPUT] num. atoms = 10\n",
      "[INPUT] num. electrons = 10\n",
      "[INPUT] charge = 0\n",
      "[INPUT] spin (= nelec alpha-beta = 2S) = 0\n",
      "[INPUT] symmetry False subgroup None\n",
      "[INPUT] Mole.unit = bohr\n",
      "[INPUT] Symbol           X                Y                Z      unit          X                Y                Z       unit  Magmom\n",
      "[INPUT]  1 H      0.000000000000   0.000000000000   0.000000000000 AA    0.000000000000   0.000000000000   0.000000000000 Bohr   0.0\n",
      "[INPUT]  2 H      0.968923473195   0.000000000000   0.000000000000 AA    1.831000000000   0.000000000000   0.000000000000 Bohr   0.0\n",
      "[INPUT]  3 H      1.937846946389   0.000000000000   0.000000000000 AA    3.662000000000   0.000000000000   0.000000000000 Bohr   0.0\n",
      "[INPUT]  4 H      2.906770419584   0.000000000000   0.000000000000 AA    5.493000000000   0.000000000000   0.000000000000 Bohr   0.0\n",
      "[INPUT]  5 H      3.875693892778   0.000000000000   0.000000000000 AA    7.324000000000   0.000000000000   0.000000000000 Bohr   0.0\n",
      "[INPUT]  6 H      4.844617365973   0.000000000000   0.000000000000 AA    9.155000000000   0.000000000000   0.000000000000 Bohr   0.0\n",
      "[INPUT]  7 H      5.813540839167   0.000000000000   0.000000000000 AA   10.986000000000   0.000000000000   0.000000000000 Bohr   0.0\n",
      "[INPUT]  8 H      6.782464312362   0.000000000000   0.000000000000 AA   12.817000000000   0.000000000000   0.000000000000 Bohr   0.0\n",
      "[INPUT]  9 H      7.751387785556   0.000000000000   0.000000000000 AA   14.648000000000   0.000000000000   0.000000000000 Bohr   0.0\n",
      "[INPUT] 10 H      8.720311258751   0.000000000000   0.000000000000 AA   16.479000000000   0.000000000000   0.000000000000 Bohr   0.0\n",
      "\n",
      "nuclear repulsion = 10.535053271263\n",
      "number of shells = 10\n",
      "number of NR pGTOs = 60\n",
      "number of NR cGTOs = 10\n",
      "basis = sto6g\n",
      "ecp = {}\n",
      "CPU time:         6.02\n",
      "\n",
      "\n",
      "******** <class 'pyscf.df.df_jk.DFRHF'> ********\n",
      "method = DFRHF\n",
      "initial guess = minao\n",
      "damping factor = 0\n",
      "level_shift factor = 0\n",
      "DIIS = <class 'pyscf.scf.diis.CDIIS'>\n",
      "diis_start_cycle = 1\n",
      "diis_space = 8\n",
      "diis_damp = 0\n",
      "SCF conv_tol = 1e-09\n",
      "SCF conv_tol_grad = None\n",
      "SCF max_cycles = 50\n",
      "direct_scf = False\n",
      "chkfile to save SCF result = /tmp/tmprpa0djaz\n",
      "max_memory 4000 MB (current use 163 MB)\n",
      "Set gradient conv threshold to 3.16228e-05\n",
      "Initial guess from minao.\n",
      "******** <class 'pyscf.df.df.DF'> ********\n",
      "auxbasis = None\n",
      "max_memory = 4000\n",
      "ETB for H: l = 0, exps = 0.200224856 * 2^n , n = 0..8\n",
      "\n",
      "WARN: Even tempered Gaussians are generated as DF auxbasis for  H\n",
      "\n",
      "init E= -4.25851566042326\n",
      "  HOMO = -0.139845686126717  LUMO = 0.0926084202966971\n",
      "cycle= 1 E= -5.249256995577  delta_E= -0.991  |g|= 0.131  |ddm|= 2.28\n",
      "  HOMO = -0.256121149428983  LUMO = 0.147647279269287\n",
      "cycle= 2 E= -5.26353334121312  delta_E= -0.0143  |g|= 0.057  |ddm|= 0.348\n",
      "  HOMO = -0.265830400949371  LUMO = 0.174767009481143\n",
      "cycle= 3 E= -5.2669403342487  delta_E= -0.00341  |g|= 0.013  |ddm|= 0.193\n",
      "  HOMO = -0.273249069371938  LUMO = 0.176195499040383\n",
      "cycle= 4 E= -5.26710836153014  delta_E= -0.000168  |g|= 0.00105  |ddm|= 0.0541\n",
      "  HOMO = -0.272942709241938  LUMO = 0.176277952295703\n",
      "cycle= 5 E= -5.26710904176106  delta_E= -6.8e-07  |g|= 0.000234  |ddm|= 0.00193\n",
      "  HOMO = -0.2729748219353  LUMO = 0.176290886065419\n",
      "cycle= 6 E= -5.26710907448913  delta_E= -3.27e-08  |g|= 2.51e-05  |ddm|= 0.000564\n",
      "  HOMO = -0.272990510874044  LUMO = 0.176303747665618\n",
      "cycle= 7 E= -5.26710907516021  delta_E= -6.71e-10  |g|= 2.25e-06  |ddm|= 0.000112\n",
      "  HOMO = -0.272988939227863  LUMO = 0.176302762299086\n",
      "Extra cycle  E= -5.2671090751642  delta_E= -3.99e-12  |g|= 9.7e-07  |ddm|= 4.96e-06\n",
      "converged SCF energy = -5.2671090751642\n",
      "\n",
      "******** <class 'pyscf.cc.dfccsd.RCCSD'> ********\n",
      "CC2 = 0\n",
      "CCSD nocc = 5, nmo = 10\n",
      "max_cycle = 50\n",
      "direct = 0\n",
      "conv_tol = 1e-07\n",
      "conv_tol_normt = 1e-05\n",
      "diis_space = 6\n",
      "diis_start_cycle = 0\n",
      "diis_start_energy_diff = 1e+09\n",
      "max_memory 4000 MB (current use 169 MB)\n",
      "Init t2, MP2 energy = -5.36958330259785  E_corr(MP2) -0.102474227433649\n",
      "Init E_corr(RCCSD) = -0.102474227434209\n",
      "cycle = 1  E_corr(RCCSD) = -0.133433473115725  dE = -0.0309592457  norm(t1,t2) = 0.071352\n",
      "cycle = 2  E_corr(RCCSD) = -0.146272895984359  dE = -0.0128394229  norm(t1,t2) = 0.0405199\n",
      "cycle = 3  E_corr(RCCSD) = -0.157755831050219  dE = -0.0114829351  norm(t1,t2) = 0.0226068\n",
      "cycle = 4  E_corr(RCCSD) = -0.158778439576103  dE = -0.00102260853  norm(t1,t2) = 0.00630874\n",
      "cycle = 5  E_corr(RCCSD) = -0.158252236434281  dE = 0.000526203142  norm(t1,t2) = 0.00332771\n",
      "cycle = 6  E_corr(RCCSD) = -0.158381737745495  dE = -0.000129501311  norm(t1,t2) = 0.000883137\n",
      "cycle = 7  E_corr(RCCSD) = -0.158403416713222  dE = -2.16789677e-05  norm(t1,t2) = 0.000317393\n",
      "cycle = 8  E_corr(RCCSD) = -0.158385201551324  dE = 1.82151619e-05  norm(t1,t2) = 0.000127951\n",
      "cycle = 9  E_corr(RCCSD) = -0.158378314196374  dE = 6.88735495e-06  norm(t1,t2) = 4.04525e-05\n",
      "cycle = 10  E_corr(RCCSD) = -0.158379842922776  dE = -1.5287264e-06  norm(t1,t2) = 1.16969e-05\n",
      "cycle = 11  E_corr(RCCSD) = -0.15838042252835  dE = -5.79605574e-07  norm(t1,t2) = 4.55927e-06\n",
      "cycle = 12  E_corr(RCCSD) = -0.158380788173773  dE = -3.65645423e-07  norm(t1,t2) = 1.07799e-06\n",
      "cycle = 13  E_corr(RCCSD) = -0.158380853869826  dE = -6.56960529e-08  norm(t1,t2) = 3.53046e-07\n",
      "RCCSD converged\n",
      "E(RCCSD) = -5.425489929034029  E_corr = -0.158380853869826\n",
      "RCCSD(T) correction = -0.00180789849048779\n"
     ]
    }
   ],
   "source": [
    "from functools import partial\n",
    "from pyscf import gto, scf, cc\n",
    "import numpy as np\n",
    "\n",
    "from jax import config\n",
    "config.update(\"jax_enable_x64\", True)\n",
    "\n",
    "print = partial(print, flush=True)\n",
    "\n",
    "a = 1.831  #1.05835 # 2aB\n",
    "d = a\n",
    "nH = 10\n",
    "atoms = \"\"\n",
    "for i in range(nH):\n",
    "    if i % 2 == 0:\n",
    "        atoms += f\"H {i/2*(a+d):.5f} 0.00000 0.00000 \\n\"\n",
    "    else:\n",
    "        atoms += f\"H {(i-1)/2*(a+d)+a:.5f} 0.00000 0.00000 \\n\"\n",
    "\n",
    "mol = gto.M(atom=atoms, basis=\"sto6g\", unit= \"bohr\", verbose=4)\n",
    "mol.build()\n",
    "\n",
    "mf = scf.RHF(mol).density_fit()\n",
    "e = mf.kernel()\n",
    "\n",
    "mycc = cc.CCSD(mf)\n",
    "mycc.kernel()\n",
    "et = mycc.ccsd_t()\n"
   ]
  },
  {
   "cell_type": "code",
   "execution_count": 2,
   "id": "c538c902",
   "metadata": {},
   "outputs": [
    {
     "name": "stdout",
     "output_type": "stream",
     "text": [
      "\n",
      "WARN: DF-RCISD for DFHF method <pyscf.df.df_jk.DFRHF object at 0x7f530dcdbf10> is not available. Normal RCISD method is called.\n",
      "\n",
      "\n",
      "WARN: CISD detected DF being used in the HF object. MO integrals are computed based on the DF 3-index tensors.\n",
      "It's recommended to use dfccsd.CCSD for the DF-CISD calculations\n",
      "\n",
      "\n",
      "******** <class 'pyscf.ci.cisd.RCISD'> ********\n",
      "CISD nocc = 5, nmo = 10\n",
      "max_cycle = 50\n",
      "direct = 0\n",
      "conv_tol = 1e-09\n",
      "max_cycle = 50\n",
      "max_space = 12\n",
      "lindep = 0\n",
      "nroots = 1\n",
      "max_memory 4000 MB (current use 172 MB)\n",
      "Init t2, MP2 energy = -0.102474227433649\n",
      "RCISD converged\n",
      "E(RCISD) = -5.412603932738157  E_corr = -0.1454948575739534\n"
     ]
    },
    {
     "data": {
      "text/plain": [
       "(-0.14549485757395342,\n",
       " array([ 9.39531209e-01, -4.24476931e-16, -6.23532341e-04,  3.71833928e-16,\n",
       "        -8.56553399e-04, -5.15238768e-16, -1.35554589e-03,  4.13815022e-16,\n",
       "        -2.27902398e-03, -2.75066711e-16,  7.11380597e-04,  1.93953112e-15,\n",
       "        -5.31576088e-03, -6.32257959e-16,  1.73047645e-03,  1.34334040e-16,\n",
       "         1.05820857e-02,  5.23724141e-16, -3.60754784e-03,  3.62482638e-16,\n",
       "        -4.63777009e-04,  6.85525652e-16, -6.29219928e-03,  7.07485963e-16,\n",
       "        -7.78939018e-04,  6.44047119e-16, -2.37756840e-02,  1.12690547e-16,\n",
       "         1.01666800e-02, -3.39204296e-18, -3.15300071e-04,  1.13748093e-16,\n",
       "        -1.66723565e-02,  1.27292666e-16,  7.86174883e-03,  1.11043806e-16,\n",
       "         1.01666800e-02,  1.28888362e-16, -1.43282251e-02, -5.35973558e-17,\n",
       "         6.48434922e-03, -5.92696507e-18,  7.86174883e-03, -5.21527781e-17,\n",
       "        -1.16754398e-02,  2.00894617e-16, -3.15300071e-04,  1.10517350e-16,\n",
       "         6.48434922e-03,  2.00977030e-16, -1.59361461e-02,  1.84893845e-17,\n",
       "        -1.58989538e-02,  1.48511542e-16,  1.02634389e-02,  2.87595886e-17,\n",
       "        -1.06331710e-02, -9.29839167e-17, -9.51380936e-03,  6.83248487e-17,\n",
       "         8.01501862e-03,  1.74744876e-16, -5.53649491e-03,  1.84155921e-16,\n",
       "        -7.97455005e-03,  2.73656048e-16,  8.79648178e-03,  7.97252019e-17,\n",
       "        -4.96019124e-03,  1.21889314e-16, -1.26635040e-02,  2.29609792e-19,\n",
       "         6.97299033e-03,  2.39788718e-16, -1.03711843e-02, -4.32261092e-16,\n",
       "         2.65874331e-03, -2.16090223e-16, -1.67735797e-02,  1.93727848e-16,\n",
       "         1.06710087e-02,  3.60206052e-18, -3.24832279e-03,  1.08546711e-16,\n",
       "        -9.95120636e-03,  1.74115516e-16, -9.73776855e-03,  6.71320701e-17,\n",
       "         8.30128829e-04,  3.94972064e-16, -1.54369580e-02,  5.34349433e-17,\n",
       "        -5.15361660e-03,  3.23613162e-16, -5.69430643e-03, -4.77188465e-16,\n",
       "         8.06653277e-03,  2.45196785e-16, -1.11086767e-02, -4.11736115e-16,\n",
       "         5.06755927e-03,  2.64889484e-17, -3.13142163e-03, -2.12395925e-16,\n",
       "         1.87482731e-02, -5.23510534e-16, -2.44765333e-03, -1.35951167e-16,\n",
       "         3.11812272e-03, -1.23928705e-16,  1.98394933e-02, -3.64524111e-18,\n",
       "         2.77015291e-03, -3.26592793e-16,  5.90117509e-03,  4.00551852e-16,\n",
       "         9.86935419e-03, -1.42100585e-16,  5.58181503e-03,  3.10818348e-16,\n",
       "        -6.42241761e-03, -3.59976951e-16,  1.23713376e-02,  2.97053131e-16,\n",
       "        -5.41314201e-03, -2.18219288e-16, -1.25010657e-03, -4.57543735e-16,\n",
       "        -4.95106958e-03, -4.81447987e-16,  3.62602604e-02, -2.28843589e-16,\n",
       "        -2.68102956e-03, -5.35005241e-17,  1.22356079e-02,  4.01459417e-16,\n",
       "        -3.06223602e-03, -1.80859406e-16,  1.00891167e-02,  4.23069112e-16,\n",
       "        -9.22212451e-03, -2.41146683e-16,  9.99670005e-03,  3.12975107e-16,\n",
       "        -6.91829865e-03, -3.87630169e-16,  2.04646646e-02,  3.84582550e-16,\n",
       "        -6.49617206e-03, -2.46330958e-16,  1.80953265e-04,  1.83117305e-17,\n",
       "        -1.06331710e-02,  1.73929470e-16,  8.79648178e-03,  2.10196915e-18,\n",
       "        -1.58989538e-02, -9.34839241e-17, -5.53649491e-03,  8.06316685e-17,\n",
       "         6.97299033e-03,  1.48399639e-16, -9.51380936e-03,  1.84283271e-16,\n",
       "        -4.96019124e-03,  2.38252388e-16,  1.02634389e-02,  6.71656077e-17,\n",
       "        -7.97455005e-03,  1.22286812e-16, -1.03711843e-02,  2.71165101e-17,\n",
       "         8.01501862e-03,  2.74801577e-16, -1.26635040e-02, -4.32371773e-16,\n",
       "        -2.60852111e-02,  7.35696931e-17, -1.00678698e-03,  1.48727475e-16,\n",
       "         8.78725374e-03,  7.46815724e-17, -2.27268146e-02,  8.92146676e-17,\n",
       "         1.83956282e-03,  3.98919811e-16, -1.00678698e-03,  8.84651947e-17,\n",
       "        -1.57154608e-02,  2.88954683e-16, -6.11179681e-03,  1.47784343e-16,\n",
       "         1.83956282e-03,  2.89834029e-16, -1.97591963e-02, -3.18141271e-16,\n",
       "         8.78725374e-03,  3.97733046e-16, -6.11179681e-03, -3.18118760e-16,\n",
       "        -9.65919108e-03,  3.00685446e-16, -2.04751851e-02,  2.80293307e-16,\n",
       "        -9.31308992e-04,  3.67063902e-16, -1.02328774e-02, -2.18036518e-16,\n",
       "        -1.59800772e-02,  2.89376746e-16, -6.67182798e-03,  9.43716291e-17,\n",
       "        -7.87925894e-03,  6.23986386e-16, -1.80198330e-02, -2.71566106e-16,\n",
       "        -1.02364188e-03,  2.62669303e-16, -1.20934165e-02, -3.38994428e-16,\n",
       "        -6.56927030e-03,  4.32282611e-16, -6.15850139e-03, -1.79162888e-16,\n",
       "        -3.79347456e-03, -1.61576127e-16, -5.12253896e-03, -8.07935250e-17,\n",
       "         2.28698447e-02, -4.11200938e-16,  1.32998157e-02, -1.32327139e-17,\n",
       "         2.64015708e-03, -5.01158763e-16,  2.68710502e-02,  5.86494642e-16,\n",
       "         1.00130727e-02, -3.22880484e-16,  9.93172332e-03,  1.38124612e-16,\n",
       "         8.09393338e-03, -3.03230950e-16,  1.66024077e-02,  1.36024683e-16,\n",
       "        -1.89442827e-03,  1.30804278e-16,  1.07361671e-02,  3.73050264e-16,\n",
       "         3.62680934e-03,  1.14916418e-16, -5.27710324e-03, -1.98263298e-16,\n",
       "        -7.70492881e-03, -7.45521929e-16,  4.02022535e-02,  8.30925757e-16,\n",
       "        -5.55674371e-03, -4.69591208e-16,  1.31695344e-02,  5.61188193e-16,\n",
       "         1.56530571e-02, -5.23388518e-16,  1.22784932e-02,  2.40795719e-16,\n",
       "        -2.21132538e-04, -1.56683655e-16,  2.17930310e-02,  4.33863688e-16,\n",
       "         1.22055114e-04, -6.57416723e-17, -7.20920095e-03,  5.71223280e-16,\n",
       "         7.41137403e-03,  6.36693679e-17, -5.84249466e-03, -9.06769210e-17,\n",
       "         2.65874331e-03,  3.05973256e-18, -9.73776855e-03,  5.39703517e-17,\n",
       "         8.06653277e-03, -2.16853403e-16, -3.24832279e-03,  6.67492504e-17,\n",
       "        -5.15361660e-03,  2.45286576e-16, -1.67735797e-02,  1.09499674e-16,\n",
       "         8.30128829e-04,  3.23531233e-16, -1.11086767e-02,  1.94447130e-16,\n",
       "        -9.95120636e-03,  3.95380324e-16, -5.69430643e-03, -4.13687701e-16,\n",
       "         1.06710087e-02,  1.74692193e-16, -1.54369580e-02, -4.76326803e-16,\n",
       "         5.06755927e-03,  3.00685446e-16, -1.02328774e-02,  9.54185162e-17,\n",
       "        -1.02364188e-03,  4.33268755e-16, -2.04751851e-02, -2.17010603e-16,\n",
       "        -7.87925894e-03,  2.62531933e-16, -6.15850139e-03,  2.79930078e-16,\n",
       "        -1.59800772e-02,  6.24659168e-16, -1.20934165e-02, -1.80662964e-16,\n",
       "        -9.31308992e-04,  2.90984795e-16, -1.80198330e-02, -3.39658916e-16,\n",
       "        -3.79347456e-03,  3.67012042e-16, -6.67182798e-03, -2.70675044e-16,\n",
       "        -6.56927030e-03, -1.61783762e-16, -3.51879367e-02,  1.85650939e-16,\n",
       "        -9.74568677e-04,  4.84094419e-16, -1.07017177e-02,  1.88314793e-16,\n",
       "        -2.83851820e-02,  4.55323853e-16, -1.05700045e-02, -3.12047090e-16,\n",
       "        -9.74568677e-04,  4.58679275e-16, -3.13419810e-02, -2.61782296e-16,\n",
       "         4.63837037e-04,  4.83114287e-16, -1.05700045e-02, -2.61782296e-16,\n",
       "        -1.22517617e-02,  1.08489894e-17, -1.07017177e-02, -3.14286433e-16,\n",
       "         4.63837037e-04,  1.15028581e-17, -9.36282065e-03, -2.41107627e-16,\n",
       "         3.11812236e-02, -1.12957568e-15,  1.37860992e-02,  5.97308686e-16,\n",
       "         1.20460905e-02, -1.53990972e-16,  3.47410315e-02,  5.35804049e-16,\n",
       "         2.95009016e-03, -6.77514433e-16,  2.03070326e-02, -4.33381734e-17,\n",
       "         1.28883444e-02,  5.24005869e-17,  1.25447926e-02,  4.11275984e-16,\n",
       "         5.36607991e-03,  9.94369251e-17,  6.51258122e-03,  5.22707631e-16,\n",
       "         2.37423081e-03, -7.52750743e-17,  3.09778005e-03,  6.12620523e-17,\n",
       "        -1.20962242e-02, -8.12736135e-16,  5.33508618e-02,  1.13610786e-15,\n",
       "        -3.54707873e-03, -3.93938491e-16,  1.88108747e-02,  1.89710084e-16,\n",
       "         1.89358851e-02,  2.78512634e-16,  2.79291464e-02,  2.92498072e-16,\n",
       "        -5.52354990e-04, -1.47761465e-16,  1.19172253e-02,  6.51497441e-16,\n",
       "         6.88008238e-03, -6.25606207e-17,  1.65352192e-04,  3.14822009e-16,\n",
       "        -2.37370433e-03,  1.85864880e-16,  5.74655412e-03, -2.59922541e-17,\n",
       "        -5.82556993e-03,  2.70550297e-17, -2.44765333e-03, -4.29502081e-18,\n",
       "         9.86935419e-03, -3.57697066e-16, -3.13142163e-03, -1.35219708e-16,\n",
       "         2.77015291e-03, -1.41395777e-16,  1.23713376e-02, -2.11962313e-16,\n",
       "         3.11812272e-03, -3.26636448e-16,  5.58181503e-03,  2.95231161e-16,\n",
       "         1.87482731e-02, -1.24501864e-16,  5.90117509e-03,  3.10384356e-16,\n",
       "        -5.41314201e-03, -5.23544629e-16,  1.98394933e-02,  4.01459245e-16,\n",
       "        -6.42241761e-03, -2.18215591e-16, -5.12253896e-03, -1.21539949e-17,\n",
       "         1.00130727e-02, -3.03804126e-16,  1.07361671e-02, -8.14440390e-17,\n",
       "         2.64015708e-03, -3.22084392e-16,  1.66024077e-02,  3.73406720e-16,\n",
       "         2.28698447e-02, -5.01880814e-16,  9.93172332e-03,  1.35654571e-16,\n",
       "         3.62680934e-03, -4.10059762e-16,  2.68710502e-02,  1.37051082e-16,\n",
       "        -1.89442827e-03,  1.14326017e-16,  1.32998157e-02,  5.86190116e-16,\n",
       "         8.09393338e-03,  1.30679894e-16, -5.27710324e-03, -2.40972937e-16,\n",
       "         1.20460905e-02, -6.77073888e-16,  1.25447926e-02,  5.23424221e-16,\n",
       "         3.11812236e-02, -1.53329516e-16,  2.03070326e-02,  4.12945178e-16,\n",
       "         2.37423081e-03, -1.13034084e-15,  3.47410315e-02, -4.32493826e-17,\n",
       "         5.36607991e-03, -7.63316348e-17,  1.37860992e-02,  5.34704632e-16,\n",
       "         1.28883444e-02,  1.00065062e-16,  3.09778005e-03,  5.95233241e-16,\n",
       "         2.95009016e-03,  5.33267137e-17,  6.51258122e-03,  6.12466301e-17,\n",
       "        -5.79054928e-02,  8.16000485e-16, -1.88098645e-02, -4.05710845e-16,\n",
       "         2.22463369e-03,  8.14113042e-16, -5.84199884e-02, -3.29711048e-16,\n",
       "        -1.94808732e-03, -5.44274424e-17, -1.88098645e-02, -3.26284935e-16,\n",
       "        -2.19091176e-02, -1.19626152e-16, -2.18418371e-03, -4.03157123e-16,\n",
       "        -1.94808732e-03, -1.18891626e-16, -1.47011496e-02, -6.12393328e-17,\n",
       "         2.22463369e-03, -4.96861592e-17, -2.18418371e-03, -6.10446938e-17,\n",
       "        -9.32202886e-03,  2.33039865e-15, -8.12644148e-02, -6.32366986e-16,\n",
       "         6.34795542e-03,  5.15718656e-16, -4.33079127e-02, -1.20017827e-15,\n",
       "        -2.55960506e-02, -4.21090634e-16,  2.21429183e-03, -6.73774623e-16,\n",
       "        -7.44731017e-03,  2.40359258e-16, -1.45446078e-02, -5.82343154e-16,\n",
       "         4.88318127e-03, -9.88992536e-17, -5.50897315e-03, -1.01348454e-16,\n",
       "        -9.78719176e-03,  1.83420543e-16,  1.88396133e-03, -5.68722870e-17,\n",
       "        -5.39203399e-03, -2.50208605e-16, -1.25010657e-03, -2.28369682e-16,\n",
       "        -3.06223602e-03, -2.40246049e-16,  2.04646646e-02, -4.58338021e-16,\n",
       "        -2.68102956e-03, -1.81079572e-16,  9.99670005e-03,  3.85395578e-16,\n",
       "        -4.95106958e-03, -5.32807433e-17,  1.00891167e-02,  3.10627011e-16,\n",
       "        -6.49617206e-03, -4.80655383e-16,  1.22356079e-02,  4.24782222e-16,\n",
       "        -6.91829865e-03, -2.49071102e-16,  3.62602604e-02,  4.02268767e-16,\n",
       "        -9.22212451e-03, -3.87598909e-16,  1.80953265e-04, -1.98401374e-16,\n",
       "        -5.55674371e-03, -5.23860467e-16,  2.17930310e-02,  5.73141886e-16,\n",
       "        -7.70492881e-03, -4.69075965e-16,  1.22784932e-02,  4.34396098e-16,\n",
       "         7.41137403e-03, -7.43269895e-16,  1.31695344e-02,  2.40020995e-16,\n",
       "         1.22055114e-04,  6.20068303e-17,  4.02022535e-02,  5.60126937e-16,\n",
       "        -2.21132538e-04, -6.72272201e-17, -5.84249466e-03,  8.29219651e-16,\n",
       "         1.56530571e-02, -1.56351125e-16, -7.20920095e-03, -9.13114033e-17,\n",
       "        -1.20962242e-02, -3.94208705e-16,  2.79291464e-02,  6.52664315e-16,\n",
       "        -2.37370433e-03, -8.11388912e-16,  1.88108747e-02,  2.91565294e-16,\n",
       "         6.88008238e-03,  1.86213450e-16,  5.33508618e-02,  1.90146632e-16,\n",
       "        -5.52354990e-04, -6.34810650e-17,  5.74655412e-03,  1.13596185e-15,\n",
       "         1.89358851e-02, -1.47168451e-16,  1.65352192e-04, -2.67679187e-17,\n",
       "        -3.54707873e-03,  2.79071474e-16,  1.19172253e-02,  3.15888977e-16,\n",
       "        -5.82556993e-03,  2.33059373e-15, -4.33079127e-02, -6.76252838e-16,\n",
       "         4.88318127e-03,  1.82823019e-16, -8.12644148e-02, -1.20081690e-15,\n",
       "        -7.44731017e-03, -1.00422862e-16,  1.88396133e-03, -6.29534462e-16,\n",
       "        -2.55960506e-02,  2.40010017e-16, -5.50897315e-03, -5.86568049e-17,\n",
       "         6.34795542e-03, -4.20107369e-16, -1.45446078e-02, -1.00797318e-16,\n",
       "        -5.39203399e-03,  5.17187177e-16,  2.21429183e-03, -5.81448970e-16,\n",
       "        -9.78719176e-03, -2.50401545e-16, -1.66528075e-01, -1.65578613e-15,\n",
       "         1.15750520e-02,  7.94652387e-16,  1.07985430e-03, -1.65512966e-15,\n",
       "        -4.71456797e-02, -5.42702990e-16,  4.16152177e-03, -1.34743591e-16,\n",
       "         1.15750520e-02, -5.40947904e-16, -2.45437957e-02, -2.22222008e-16,\n",
       "         1.82481949e-03,  7.95166088e-16,  4.16152177e-03, -2.22222008e-16,\n",
       "        -1.53469713e-02, -4.32474126e-16,  1.07985430e-03, -1.33454370e-16,\n",
       "         1.82481949e-03, -4.31061222e-16, -1.23308110e-02]))"
      ]
     },
     "execution_count": 2,
     "metadata": {},
     "output_type": "execute_result"
    }
   ],
   "source": [
    "from pyscf import ci\n",
    "myci = ci.CISD(mf)\n",
    "myci.kernel()"
   ]
  },
  {
   "cell_type": "code",
   "execution_count": null,
   "id": "c8b075f7",
   "metadata": {},
   "outputs": [],
   "source": [
    "v_ci = myci.ci\n",
    "c0,c1,c2 = myci.cisdvec_to_amplitudes(v_ci)\n",
    "c1 = c1/c0\n",
    "c2 = c2/c0"
   ]
  },
  {
   "cell_type": "code",
   "execution_count": 55,
   "id": "bf46f0d0",
   "metadata": {},
   "outputs": [],
   "source": [
    "from pyscf import lib\n",
    "einsum = lib.einsum"
   ]
  },
  {
   "cell_type": "code",
   "execution_count": null,
   "id": "51fa33cf",
   "metadata": {},
   "outputs": [],
   "source": [
    "# t1 = mycc.t1\n",
    "# t2 = mycc.t2\n",
    "# c2_t1 = lib.einsum('ia,jb->ijab',t1,t1)\n",
    "# c2_t1t2 = t2 + c2_t1"
   ]
  },
  {
   "cell_type": "code",
   "execution_count": null,
   "id": "c26dc011",
   "metadata": {},
   "outputs": [
    {
     "name": "stdout",
     "output_type": "stream",
     "text": [
      "-0.03165936094408821\n",
      "-0.03165936094408821\n"
     ]
    }
   ],
   "source": [
    "# print(t2[i,j,a,b])\n",
    "# print(t2[j,i,b,a])"
   ]
  },
  {
   "cell_type": "code",
   "execution_count": null,
   "id": "c3e05db7",
   "metadata": {},
   "outputs": [
    {
     "name": "stdout",
     "output_type": "stream",
     "text": [
      "1.4546614046367362e-31\n",
      "1.4546614046367362e-31\n",
      "-0.03165936094408821\n",
      "-0.03165936094408821\n"
     ]
    }
   ],
   "source": [
    "# print(c2_t1[i,j,a,b])\n",
    "# print(c2_t1[j,i,b,a])\n",
    "# print(c2_t1t2[i,j,a,b])\n",
    "# print(c2_t1t2[j,i,b,a])"
   ]
  },
  {
   "cell_type": "code",
   "execution_count": null,
   "id": "987d0a29",
   "metadata": {},
   "outputs": [],
   "source": [
    "# c3_t1 = lib.einsum('ia,jb,kc->ijkabc',t1,t1,t1)"
   ]
  },
  {
   "cell_type": "code",
   "execution_count": null,
   "id": "db6fca8e",
   "metadata": {},
   "outputs": [
    {
     "name": "stdout",
     "output_type": "stream",
     "text": [
      "-3.0442466890749704e-46\n",
      "-3.04424668907497e-46\n",
      "-3.0442466890749704e-46\n"
     ]
    }
   ],
   "source": [
    "# i = a = 0\n",
    "# j = b = 1\n",
    "# k = c = 2\n",
    "# print(c3_t1[i,j,k,a,b,c])\n",
    "# print(c3_t1[j,i,k,b,a,c])\n",
    "# print(c3_t1[i,k,j,a,c,b])"
   ]
  },
  {
   "cell_type": "code",
   "execution_count": null,
   "id": "755e68f0",
   "metadata": {},
   "outputs": [],
   "source": [
    "# c3_t1t2 = 1/3*(lib.einsum('ia,jkbc->ijkabc',t1,t2)\n",
    "#                +lib.einsum('jb,ikac->ijkabc',t1,t2)\n",
    "#                +lib.einsum('kc,jiba->ijkabc',t1,t2))"
   ]
  },
  {
   "cell_type": "code",
   "execution_count": null,
   "id": "8e717fd6",
   "metadata": {},
   "outputs": [
    {
     "name": "stdout",
     "output_type": "stream",
     "text": [
      "4.7584814047242256e-17\n",
      "4.7584814047242256e-17\n",
      "4.7584814047242256e-17\n"
     ]
    }
   ],
   "source": [
    "# print(c3_t1t2[i,j,k,a,b,c])\n",
    "# print(c3_t1t2[j,i,k,b,a,c])\n",
    "# print(c3_t1t2[k,i,j,c,a,b])"
   ]
  },
  {
   "cell_type": "code",
   "execution_count": null,
   "id": "4c537c9b",
   "metadata": {},
   "outputs": [],
   "source": [
    "# c3_t1_t1t2 = lib.einsum('ia,jb,kc->ijkabc',t1,t1,t1) \\\n",
    "#             + (lib.einsum('ia,jkbc->ijkabc',t1,t2)\n",
    "#                +lib.einsum('jb,ikac->ijkabc',t1,t2)\n",
    "#                +lib.einsum('kc,jiba->ijkabc',t1,t2))"
   ]
  },
  {
   "cell_type": "code",
   "execution_count": null,
   "id": "e765482a",
   "metadata": {},
   "outputs": [
    {
     "name": "stdout",
     "output_type": "stream",
     "text": [
      "1.4275444214172678e-16\n",
      "1.4275444214172678e-16\n",
      "1.4275444214172678e-16\n"
     ]
    }
   ],
   "source": [
    "# print(c3_t1_t1t2[i,j,k,a,b,c])\n",
    "# print(c3_t1_t1t2[j,i,k,b,a,c])\n",
    "# print(c3_t1_t1t2[k,i,j,c,a,b])"
   ]
  },
  {
   "cell_type": "code",
   "execution_count": 73,
   "id": "32de16a2",
   "metadata": {},
   "outputs": [],
   "source": [
    "def t1t2_2_c1c2c3(t1,t2):\n",
    "    # in closed shell convention\n",
    "    # t1t2 has to be symmetrized\n",
    "    c1 = t1\n",
    "    c2 = t2 + lib.einsum('ia,jb->ijab',t1,t1)\n",
    "    c3 = lib.einsum('ia,jb,kc->ijkabc',t1,t1,t1) \\\n",
    "            + (lib.einsum('ia,jkbc->ijkabc',t1,t2)\n",
    "               +lib.einsum('jb,ikac->ijkabc',t1,t2)\n",
    "               +lib.einsum('kc,jiba->ijkabc',t1,t2))\n",
    "    return c1,c2,c3"
   ]
  },
  {
   "cell_type": "code",
   "execution_count": null,
   "id": "226e5d1b",
   "metadata": {},
   "outputs": [],
   "source": [
    "def afqmc_cr(e_afqmc,c1,c2,c3):\n",
    "    o1 = 2*einsum('ia,ia->',c1,c1)\n",
    "    o2 = 2*einsum('ijab,ijab->',c2,c2) - einsum('ijab,ijba->',c2,c2)\n",
    "    o3 = (8*einsum('ijkabc,ijkabc->',c3,c3)-4*(einsum('ijkabc,ijkacb->',c3,c3)\n",
    "        + einsum('ijkabc,ijkcba->',c3,c3) + einsum('ijkabc,ijkbac->',c3,c3))\n",
    "        + 2*(einsum('ijkabc,ijkbca->',c3,c3) + einsum('ijkabc,ijkcab->',c3,c3)))/6\n",
    "    cr_factor = o3/(1+o1+o2+o3)\n",
    "    e_cr = (cr_factor-cr_factor**2)*e_afqmc\n",
    "    return e_cr"
   ]
  },
  {
   "cell_type": "code",
   "execution_count": 82,
   "id": "4e6cc3f0",
   "metadata": {},
   "outputs": [],
   "source": [
    "t1,t2 = mycc.t1, mycc.t2\n",
    "c1,c2,c3 = t1t2_2_c1c2c3(t1,t2)\n",
    "o1 = 2*einsum('ia,ia->',c1,c1)\n",
    "o2 = 2*einsum('ijab,ijab->',c2,c2) - einsum('ijab,ijba->',c2,c2)\n",
    "o3 = (8*einsum('ijkabc,ijkabc->',c3,c3)-4*(einsum('ijkabc,ijkacb->',c3,c3)\n",
    "    + einsum('ijkabc,ijkcba->',c3,c3) + einsum('ijkabc,ijkbac->',c3,c3))\n",
    "    + 2*(einsum('ijkabc,ijkbca->',c3,c3) + einsum('ijkabc,ijkcab->',c3,c3)))/6"
   ]
  },
  {
   "cell_type": "code",
   "execution_count": 84,
   "id": "65e99462",
   "metadata": {},
   "outputs": [
    {
     "name": "stdout",
     "output_type": "stream",
     "text": [
      "0.0009455421109037303 0.1640110434201618 6.647880076290393e-05\n"
     ]
    }
   ],
   "source": [
    "print(o1,o2,o3)"
   ]
  },
  {
   "cell_type": "code",
   "execution_count": 83,
   "id": "1034a92c",
   "metadata": {},
   "outputs": [
    {
     "name": "stdout",
     "output_type": "stream",
     "text": [
      "0.1640110434201618\n",
      "0.16401104342016182\n"
     ]
    }
   ],
   "source": [
    "print(2*einsum('ijab,ijab->',c2,c2) - einsum('ijab,ijba->',c2,c2))\n",
    "print(2*einsum('ijab,ijab->',c2,c2) - einsum('ijab,jiab->',c2,c2))"
   ]
  },
  {
   "cell_type": "code",
   "execution_count": 71,
   "id": "f52692d7",
   "metadata": {},
   "outputs": [
    {
     "name": "stdout",
     "output_type": "stream",
     "text": [
      "-0.004481373160699468 -10.835201373160698\n",
      "-0.0026434314227170574\n"
     ]
    }
   ],
   "source": [
    "# a=d=1.831 eql\n",
    "# converged SCF energy = -10.5113174115856\n",
    "# RCCSD converged\n",
    "# E(RCCSD) = -10.82386829894422  E_corr = -0.3125508873585868\n",
    "# DMRG energy =  -10.832557941737981\n",
    "# AFQMC energy: -10.83072 +/- 0.00009\n",
    "e_afqmc = -10.83072\n",
    "e_dmrg = -10.832557941737981\n",
    "t1 = mycc.t1\n",
    "t2 = mycc.t2\n",
    "c1,c2,c3 = t1t2_2_c1c2c3(t1,t2)\n",
    "e_cr = afqmc_cr(e_afqmc,c1,c2,c3)\n",
    "print(e_cr,e_afqmc+e_cr)\n",
    "print(e_afqmc+e_cr-e_dmrg)"
   ]
  },
  {
   "cell_type": "code",
   "execution_count": 75,
   "id": "589a2f9d",
   "metadata": {},
   "outputs": [
    {
     "name": "stdout",
     "output_type": "stream",
     "text": [
      "-0.0009076929412274924 -11.116717692941227\n",
      "6.32656581753821e-05\n"
     ]
    }
   ],
   "source": [
    "# a=1.831 d=3\n",
    "# converged SCF energy = -10.7902563668634\n",
    "# E_corr(MP2) -0.196801273811774\n",
    "# E(RCCSD) = -11.11588133074048  E_corr = -0.3256249638770554\n",
    "# DMRG energy (extrapolated) =  -11.116780958599403 +/- 0.0000000000\n",
    "# AFQMC energy: -11.11581 +/- 0.00009\n",
    "e_afqmc = -11.11581\n",
    "e_dmrg = -11.116780958599403\n",
    "t1 = mycc.t1\n",
    "t2 = mycc.t2\n",
    "c1,c2,c3 = t1t2_2_c1c2c3(t1,t2)\n",
    "e_cr = afqmc_cr(e_afqmc,c1,c2,c3)\n",
    "print(e_cr,e_afqmc+e_cr)\n",
    "print(e_afqmc+e_cr-e_dmrg)"
   ]
  },
  {
   "cell_type": "code",
   "execution_count": 77,
   "id": "85f3a9b0",
   "metadata": {},
   "outputs": [
    {
     "name": "stdout",
     "output_type": "stream",
     "text": [
      "-0.04139135783301887 -21.67959135783302\n",
      "-0.03285577790342842\n"
     ]
    }
   ],
   "source": [
    "# H40 a=d=1.831\n",
    "# converged SCF energy = -21.0019645737223\n",
    "# E(RCCSD) = -21.62210834629252  E_corr = -0.6201437725701879\n",
    "# RCCSD(T) correction = -0.0176994487844547\n",
    "# ccsd(t) energy: -21.639807795076976\n",
    "# AFQMC energy: -21.6382 +/- 0.0004\n",
    "# DMRG energy (extrapolated) =  -21.646735579929590 +/-    0.0000000000\n",
    "e_afqmc = -21.6382\n",
    "e_dmrg = -21.646735579929590\n",
    "t1 = mycc.t1\n",
    "t2 = mycc.t2\n",
    "c1,c2,c3 = t1t2_2_c1c2c3(t1,t2)\n",
    "e_cr = afqmc_cr(e_afqmc,c1,c2,c3)\n",
    "print(e_cr,e_afqmc+e_cr)\n",
    "print(e_afqmc+e_cr-e_dmrg)"
   ]
  },
  {
   "cell_type": "code",
   "execution_count": null,
   "id": "d425cf5a",
   "metadata": {},
   "outputs": [
    {
     "name": "stdout",
     "output_type": "stream",
     "text": [
      "-0.007088406992146511 -22.231588406992145\n",
      "-0.00028632338904088783\n"
     ]
    }
   ],
   "source": [
    "# H40 a=1.831 d=3\n",
    "# converged SCF energy = -21.5756025423033\n",
    "# E(RCCSD) = -22.22585047306383  E_corr = -0.6502479307605629\n",
    "# RCCSD(T) correction = -0.0010780749331425\n",
    "# ccsd(t) energy: -22.226928547996973\n",
    "# AFQMC energy: -22.2245 +/- 0.0004\n",
    "# DMRG energy (extrapolated) =  -22.227757880107031 +/-    0.0000000000\n",
    "e_afqmc = -22.2245\n",
    "e_dmrg = -22.227757880107031\n",
    "t1 = mycc.t1\n",
    "t2 = mycc.t2\n",
    "c1,c2,c3 = t1t2_2_c1c2c3(t1,t2)\n",
    "e_cr = afqmc_cr(e_afqmc,c1,c2,c3)\n",
    "print(e_cr,e_afqmc+e_cr)\n",
    "print(e_afqmc+e_cr-e_dmrg)"
   ]
  },
  {
   "cell_type": "code",
   "execution_count": 4,
   "id": "e461401c",
   "metadata": {},
   "outputs": [
    {
     "name": "stdout",
     "output_type": "stream",
     "text": [
      "err to DMRG before = 0.003257880107032207, after = 0.002019729674799464\n"
     ]
    }
   ],
   "source": [
    "e_afqmc = -22.2245\n",
    "e_dmrg = -22.227757880107031\n",
    "c1,c2,c3 = t1t2_2_c1c2c3(mycc)\n",
    "c = cr_factor(c1,c2,c3)\n",
    "e_afqmc_cr,_ = afqmc_cisd_cr(e_afqmc,c)\n",
    "print(f'err to DMRG before = {e_afqmc-e_dmrg}, after = {e_afqmc_cr-e_dmrg}')"
   ]
  },
  {
   "cell_type": "code",
   "execution_count": null,
   "id": "958319b9",
   "metadata": {},
   "outputs": [],
   "source": [
    "# H80 a = 0.96892 # 1.831aB\n",
    "# AFQMC energy: -43.2513 +/- 0.0008\n",
    "# converged SCF energy = -41.9835706086777\n",
    "# E(RCCSD) = -43.2187515626576\n",
    "# ccsd(t) energy: -43.25881794557464\n",
    "# DMRG energy =  -43.277423271142652"
   ]
  },
  {
   "cell_type": "code",
   "execution_count": 116,
   "id": "edc819d6",
   "metadata": {},
   "outputs": [
    {
     "ename": "",
     "evalue": "",
     "output_type": "error",
     "traceback": [
      "\u001b[1;31mThe Kernel crashed while executing code in the current cell or a previous cell. \n",
      "\u001b[1;31mPlease review the code in the cell(s) to identify a possible cause of the failure. \n",
      "\u001b[1;31mClick <a href='https://aka.ms/vscodeJupyterKernelCrash'>here</a> for more info. \n",
      "\u001b[1;31mView Jupyter <a href='command:jupyter.viewOutput'>log</a> for further details."
     ]
    }
   ],
   "source": [
    "e_afqmc = -43.2513\n",
    "e_dmrg = -43.277423271142652\n",
    "c1,c2,c3 = t1t2_2_c1c2c3(mycc)\n",
    "c = cr_factor(c1,c2,c3)\n",
    "e_afqmc_cr,_ = afqmc_cisd_cr(e_afqmc,c)\n",
    "print(f'err to DMRG before = {e_afqmc-e_dmrg}, after = {e_afqmc_cr-e_dmrg}')"
   ]
  },
  {
   "cell_type": "code",
   "execution_count": 6,
   "id": "c431b4e5",
   "metadata": {},
   "outputs": [],
   "source": [
    "def davidson_cr(ci_corr,c0,nelec,order=1):\n",
    "    c2_int_sq = (1-c0**2)/c0**2\n",
    "    d_cr = c2_int_sq*ci_corr*(1-2/nelec)\n",
    "    if order == 2:\n",
    "        d_cr2 = 2*ci_corr*(4/nelec**2-1)*c2_int_sq**2\n",
    "        d_cr += d_cr2\n",
    "    return d_cr"
   ]
  },
  {
   "cell_type": "code",
   "execution_count": 104,
   "id": "e2eba224",
   "metadata": {},
   "outputs": [],
   "source": [
    "nelec = mol.nelectron\n",
    "c2_int_sq = (1-c0**2)/c0**2\n",
    "d_cr2 = 2*ci_corr*(4/nelec**2-1)*c2_int_sq**2"
   ]
  },
  {
   "cell_type": "code",
   "execution_count": 18,
   "id": "70481bba",
   "metadata": {},
   "outputs": [
    {
     "name": "stdout",
     "output_type": "stream",
     "text": [
      "-0.04645142872131443\n",
      "-0.027028322614441352\n"
     ]
    }
   ],
   "source": [
    "nelec = mol.nelectron\n",
    "d_cr1 = davidson_cr(ci_corr,c0,nelec,1)\n",
    "d_cr2 = davidson_cr(ci_corr,c0,nelec,2)\n",
    "print(d_cr1)\n",
    "print(d_cr2)"
   ]
  },
  {
   "cell_type": "code",
   "execution_count": 20,
   "id": "22100070",
   "metadata": {},
   "outputs": [
    {
     "name": "stdout",
     "output_type": "stream",
     "text": [
      "-0.2715561490087084\n",
      "-0.3180075777300228\n",
      "-0.2985844716231497\n",
      "-0.3261313621110479\n"
     ]
    }
   ],
   "source": [
    "print(ci_corr)\n",
    "print(ci_corr+d_cr1)\n",
    "print(ci_corr+d_cr2)\n",
    "print(mycc.e_corr+et)"
   ]
  }
 ],
 "metadata": {
  "kernelspec": {
   "display_name": "lno_pyscf_afqmc",
   "language": "python",
   "name": "python3"
  },
  "language_info": {
   "codemirror_mode": {
    "name": "ipython",
    "version": 3
   },
   "file_extension": ".py",
   "mimetype": "text/x-python",
   "name": "python",
   "nbconvert_exporter": "python",
   "pygments_lexer": "ipython3",
   "version": "3.10.16"
  }
 },
 "nbformat": 4,
 "nbformat_minor": 5
}
