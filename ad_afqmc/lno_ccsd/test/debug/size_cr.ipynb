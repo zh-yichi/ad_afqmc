{
 "cells": [
  {
   "cell_type": "code",
   "execution_count": 21,
   "id": "47a47fec",
   "metadata": {},
   "outputs": [
    {
     "name": "stdout",
     "output_type": "stream",
     "text": [
      "System: uname_result(system='Linux', node='yichi-thinkpad', release='4.4.0-26100-Microsoft', version='#5074-Microsoft Fri Jan 01 08:00:00 PST 2016', machine='x86_64')  Threads 12\n",
      "Python 3.10.16 | packaged by conda-forge | (main, Dec  5 2024, 14:16:10) [GCC 13.3.0]\n",
      "numpy 1.24.3  scipy 1.14.1  h5py 3.12.1\n",
      "Date: Thu Sep 18 14:48:18 2025\n",
      "PySCF version 2.8.0\n",
      "PySCF path  /home/yichi/research/software/lno_pyscf\n",
      "GIT HEAD (branch master) ef75f4190e4de208685670651dc6c467f72b6794\n",
      "\n",
      "[ENV] PYSCF_EXT_PATH /home/yichi/research/software/pyscf\n",
      "[CONFIG] conf_file None\n",
      "[INPUT] verbose = 4\n",
      "[INPUT] num. atoms = 20\n",
      "[INPUT] num. electrons = 20\n",
      "[INPUT] charge = 0\n",
      "[INPUT] spin (= nelec alpha-beta = 2S) = 0\n",
      "[INPUT] symmetry False subgroup None\n",
      "[INPUT] Mole.unit = bohr\n",
      "[INPUT] Symbol           X                Y                Z      unit          X                Y                Z       unit  Magmom\n",
      "[INPUT]  1 H      0.000000000000   0.000000000000   0.000000000000 AA    0.000000000000   0.000000000000   0.000000000000 Bohr   0.0\n",
      "[INPUT]  2 H      0.968923473195   0.000000000000   0.000000000000 AA    1.831000000000   0.000000000000   0.000000000000 Bohr   0.0\n",
      "[INPUT]  3 H      2.556455105955   0.000000000000   0.000000000000 AA    4.831000000000   0.000000000000   0.000000000000 Bohr   0.0\n",
      "[INPUT]  4 H      3.525378579149   0.000000000000   0.000000000000 AA    6.662000000000   0.000000000000   0.000000000000 Bohr   0.0\n",
      "[INPUT]  5 H      5.112910211909   0.000000000000   0.000000000000 AA    9.662000000000   0.000000000000   0.000000000000 Bohr   0.0\n",
      "[INPUT]  6 H      6.081833685104   0.000000000000   0.000000000000 AA   11.493000000000   0.000000000000   0.000000000000 Bohr   0.0\n",
      "[INPUT]  7 H      7.669365317864   0.000000000000   0.000000000000 AA   14.493000000000   0.000000000000   0.000000000000 Bohr   0.0\n",
      "[INPUT]  8 H      8.638288791058   0.000000000000   0.000000000000 AA   16.324000000000   0.000000000000   0.000000000000 Bohr   0.0\n",
      "[INPUT]  9 H     10.225820423818   0.000000000000   0.000000000000 AA   19.324000000000   0.000000000000   0.000000000000 Bohr   0.0\n",
      "[INPUT] 10 H     11.194743897013   0.000000000000   0.000000000000 AA   21.155000000000   0.000000000000   0.000000000000 Bohr   0.0\n",
      "[INPUT] 11 H     12.782275529773   0.000000000000   0.000000000000 AA   24.155000000000   0.000000000000   0.000000000000 Bohr   0.0\n",
      "[INPUT] 12 H     13.751199002967   0.000000000000   0.000000000000 AA   25.986000000000   0.000000000000   0.000000000000 Bohr   0.0\n",
      "[INPUT] 13 H     15.338730635727   0.000000000000   0.000000000000 AA   28.986000000000   0.000000000000   0.000000000000 Bohr   0.0\n",
      "[INPUT] 14 H     16.307654108922   0.000000000000   0.000000000000 AA   30.817000000000   0.000000000000   0.000000000000 Bohr   0.0\n",
      "[INPUT] 15 H     17.895185741682   0.000000000000   0.000000000000 AA   33.817000000000   0.000000000000   0.000000000000 Bohr   0.0\n",
      "[INPUT] 16 H     18.864109214876   0.000000000000   0.000000000000 AA   35.648000000000   0.000000000000   0.000000000000 Bohr   0.0\n",
      "[INPUT] 17 H     20.451640847636   0.000000000000   0.000000000000 AA   38.648000000000   0.000000000000   0.000000000000 Bohr   0.0\n",
      "[INPUT] 18 H     21.420564320831   0.000000000000   0.000000000000 AA   40.479000000000   0.000000000000   0.000000000000 Bohr   0.0\n",
      "[INPUT] 19 H     23.008095953591   0.000000000000   0.000000000000 AA   43.479000000000   0.000000000000   0.000000000000 Bohr   0.0\n",
      "[INPUT] 20 H     23.977019426785   0.000000000000   0.000000000000 AA   45.310000000000   0.000000000000   0.000000000000 Bohr   0.0\n",
      "\n",
      "nuclear repulsion = 22.1454043902691\n",
      "number of shells = 20\n",
      "number of NR pGTOs = 120\n",
      "number of NR cGTOs = 20\n",
      "basis = sto6g\n",
      "ecp = {}\n",
      "CPU time:        16.30\n",
      "\n",
      "\n",
      "******** <class 'pyscf.df.df_jk.DFRHF'> ********\n",
      "method = DFRHF\n",
      "initial guess = minao\n",
      "damping factor = 0\n",
      "level_shift factor = 0\n",
      "DIIS = <class 'pyscf.scf.diis.CDIIS'>\n",
      "diis_start_cycle = 1\n",
      "diis_space = 8\n",
      "diis_damp = 0\n",
      "SCF conv_tol = 1e-09\n",
      "SCF conv_tol_grad = None\n",
      "SCF max_cycles = 50\n",
      "direct_scf = False\n",
      "chkfile to save SCF result = /tmp/tmpjqje9jn0\n",
      "max_memory 4000 MB (current use 179 MB)\n",
      "Set gradient conv threshold to 3.16228e-05\n",
      "Initial guess from minao.\n"
     ]
    },
    {
     "name": "stdout",
     "output_type": "stream",
     "text": [
      "******** <class 'pyscf.df.df.DF'> ********\n",
      "auxbasis = None\n",
      "max_memory = 4000\n",
      "ETB for H: l = 0, exps = 0.200224856 * 2^n , n = 0..8\n",
      "\n",
      "WARN: Even tempered Gaussians are generated as DF auxbasis for  H\n",
      "\n",
      "init E= -7.47210711424523\n",
      "  HOMO = -0.293736394514305  LUMO = 0.164178472445108\n",
      "cycle= 1 E= -10.7703829260945  delta_E= -3.3  |g|= 0.164  |ddm|= 2.88\n",
      "  HOMO = -0.407928719025073  LUMO = 0.275670185554826\n",
      "cycle= 2 E= -10.7887727345425  delta_E= -0.0184  |g|= 0.0453  |ddm|=  0.3\n",
      "  HOMO = -0.416756410242356  LUMO = 0.287693387525341\n",
      "cycle= 3 E= -10.7902577898365  delta_E= -0.00149  |g|= 0.000477  |ddm|= 0.112\n",
      "  HOMO = -0.416513602540557  LUMO = 0.287437543625928\n",
      "cycle= 4 E= -10.790257946381  delta_E= -1.57e-07  |g|= 7.2e-05  |ddm|= 0.00106\n",
      "  HOMO = -0.416533572291383  LUMO = 0.287445500630595\n",
      "cycle= 5 E= -10.7902579498078  delta_E= -3.43e-09  |g|= 7.2e-06  |ddm|= 0.00015\n",
      "  HOMO = -0.416536205561482  LUMO = 0.287447377512706\n",
      "cycle= 6 E= -10.790257949845  delta_E= -3.71e-11  |g|= 4.8e-07  |ddm|= 1.7e-05\n",
      "  HOMO = -0.41653596981574  LUMO = 0.287447236947329\n",
      "Extra cycle  E= -10.7902579498451  delta_E= -1.71e-13  |g|= 1.1e-07  |ddm|= 7.97e-07\n",
      "converged SCF energy = -10.7902579498451\n",
      "\n",
      "******** <class 'pyscf.cc.dfccsd.RCCSD'> ********\n",
      "CC2 = 0\n",
      "CCSD nocc = 10, nmo = 20\n",
      "max_cycle = 50\n",
      "direct = 0\n",
      "conv_tol = 1e-07\n",
      "conv_tol_normt = 1e-05\n",
      "diis_space = 6\n",
      "diis_start_cycle = 0\n",
      "diis_start_energy_diff = 1e+09\n",
      "max_memory 4000 MB (current use 181 MB)\n",
      "Init t2, MP2 energy = -10.9870590602123  E_corr(MP2) -0.196801110367171\n",
      "Init E_corr(RCCSD) = -0.196801110367177\n",
      "cycle = 1  E_corr(RCCSD) = -0.273993433448563  dE = -0.0771923231  norm(t1,t2) = 0.0941892\n",
      "cycle = 2  E_corr(RCCSD) = -0.304692033613964  dE = -0.0306986002  norm(t1,t2) = 0.0395284\n",
      "cycle = 3  E_corr(RCCSD) = -0.32568169120573  dE = -0.0209896576  norm(t1,t2) = 0.0165158\n",
      "cycle = 4  E_corr(RCCSD) = -0.3256312609893  dE = 5.04302164e-05  norm(t1,t2) = 0.00134039\n",
      "cycle = 5  E_corr(RCCSD) = -0.325579847226747  dE = 5.14137626e-05  norm(t1,t2) = 0.000498766\n",
      "cycle = 6  E_corr(RCCSD) = -0.325631639956099  dE = -5.17927294e-05  norm(t1,t2) = 0.000175357\n",
      "cycle = 7  E_corr(RCCSD) = -0.325626805896656  dE = 4.83405944e-06  norm(t1,t2) = 3.75578e-05\n",
      "cycle = 8  E_corr(RCCSD) = -0.325624711924896  dE = 2.09397176e-06  norm(t1,t2) = 9.77007e-06\n",
      "cycle = 9  E_corr(RCCSD) = -0.32562401778068  dE = 6.94144216e-07  norm(t1,t2) = 4.3736e-06\n",
      "cycle = 10  E_corr(RCCSD) = -0.325624417949951  dE = -4.00169271e-07  norm(t1,t2) = 1.89131e-06\n",
      "cycle = 11  E_corr(RCCSD) = -0.325624671456951  dE = -2.53506999e-07  norm(t1,t2) = 8.49018e-07\n",
      "cycle = 12  E_corr(RCCSD) = -0.325624707798091  dE = -3.63411403e-08  norm(t1,t2) = 1.32776e-07\n",
      "RCCSD converged\n",
      "E(RCCSD) = -11.11588265764323  E_corr = -0.3256247077980908\n",
      "RCCSD(T) correction = -0.000506654312956794\n"
     ]
    }
   ],
   "source": [
    "from functools import partial\n",
    "from pyscf import gto, scf, cc\n",
    "import numpy as np\n",
    "\n",
    "from jax import config\n",
    "config.update(\"jax_enable_x64\", True)\n",
    "\n",
    "print = partial(print, flush=True)\n",
    "\n",
    "a = 1.831  #1.05835 # 2aB\n",
    "d = 3\n",
    "nH = 20\n",
    "atoms = \"\"\n",
    "for i in range(nH):\n",
    "    if i % 2 == 0:\n",
    "        atoms += f\"H {i/2*(a+d):.5f} 0.00000 0.00000 \\n\"\n",
    "    else:\n",
    "        atoms += f\"H {(i-1)/2*(a+d)+a:.5f} 0.00000 0.00000 \\n\"\n",
    "\n",
    "mol = gto.M(atom=atoms, basis=\"sto6g\", unit= \"bohr\", verbose=4)\n",
    "mol.build()\n",
    "\n",
    "mf = scf.RHF(mol).density_fit()\n",
    "e = mf.kernel()\n",
    "\n",
    "mycc = cc.CCSD(mf)\n",
    "mycc.kernel()\n",
    "et = mycc.ccsd_t()\n"
   ]
  },
  {
   "cell_type": "code",
   "execution_count": 27,
   "id": "8ff34f41",
   "metadata": {},
   "outputs": [
    {
     "name": "stderr",
     "output_type": "stream",
     "text": [
      "\n",
      "\u001b[1m\u001b[4mRDFCCSD\u001b[m\n",
      "\u001b[1mOptions\u001b[m:\n",
      " > e_tol:  \u001b[33m1e-08\u001b[m\n",
      " > t_tol:  \u001b[33m1e-08\u001b[m\n",
      " > max_iter:  \u001b[33m200\u001b[m\n",
      " > diis_space:  \u001b[33m9\u001b[m\n",
      " > diis_min_space:  \u001b[33m1\u001b[m\n",
      " > damping:  \u001b[33m0.0\u001b[m\n",
      "\u001b[1mAnsatz\u001b[m: \u001b[35mDFCCSD\u001b[m\n",
      "\u001b[1mSpace\u001b[m: \u001b[35m(10o, 10v)\u001b[m\n",
      "Solving for excitation amplitudes.\n",
      "\u001b[1mIter   Energy (corr.)      Energy (tot.)     Δ(Energy)      Δ(Ampl.)\u001b[m\n",
      "   0    -0.1968011104     -10.9870590602\n",
      "   1    -0.2739934334     -11.0642513833 \u001b[31m    7.719e-02\u001b[m \u001b[31m    8.885e-03\u001b[m\n",
      "   2    -0.3046920336     -11.0949499835 \u001b[31m    3.070e-02\u001b[m \u001b[31m    5.284e-03\u001b[m\n",
      "   3    -0.3257138535     -11.1159718034 \u001b[31m    2.102e-02\u001b[m \u001b[31m    4.495e-03\u001b[m\n",
      "   4    -0.3255806330     -11.1158385829 \u001b[31m    1.332e-04\u001b[m \u001b[31m    6.115e-04\u001b[m\n",
      "   5    -0.3255969565     -11.1158549064 \u001b[31m    1.632e-05\u001b[m \u001b[31m    1.603e-04\u001b[m\n",
      "   6    -0.3256299460     -11.1158878959 \u001b[31m    3.299e-05\u001b[m \u001b[31m    7.763e-05\u001b[m\n",
      "   7    -0.3256269467     -11.1158848965 \u001b[31m    2.999e-06\u001b[m \u001b[31m    7.959e-06\u001b[m\n",
      "   8    -0.3256233362     -11.1158812860 \u001b[31m    3.610e-06\u001b[m \u001b[31m    2.316e-06\u001b[m\n",
      "   9    -0.3256247059     -11.1158826558 \u001b[31m    1.370e-06\u001b[m \u001b[31m    1.074e-06\u001b[m\n",
      "  10    -0.3256246919     -11.1158826417 \u001b[31m    1.403e-08\u001b[m \u001b[31m    5.112e-07\u001b[m\n",
      "  11    -0.3256248365     -11.1158827864 \u001b[31m    1.446e-07\u001b[m \u001b[31m    3.271e-07\u001b[m\n",
      "  12    -0.3256247166     -11.1158826664 \u001b[31m    1.199e-07\u001b[m \u001b[31m    7.003e-08\u001b[m\n",
      "  13    -0.3256246941     -11.1158826440 \u001b[31m    2.244e-08\u001b[m \u001b[32m    7.050e-09\u001b[m\n",
      "  14    -0.3256246869     -11.1158826368 \u001b[32m    7.185e-09\u001b[m \u001b[32m    2.831e-09\u001b[m\n",
      "\u001b[32mConverged\u001b[m.\n",
      "E(corr) = -0.3256246869\n",
      "E(tot)  = -11.1158826368\n"
     ]
    }
   ],
   "source": [
    "from ebcc import EBCC\n",
    "myebcc = EBCC(mf)\n",
    "myebcc = myebcc.kernel()"
   ]
  },
  {
   "cell_type": "code",
   "execution_count": null,
   "id": "f1cd0719",
   "metadata": {},
   "outputs": [],
   "source": [
    "t1 = mycc.t1\n",
    "t2 = mycc.t2\n",
    "myc2 = t2+np.einsum('ia,jb->ijab',t1,t1)-np.einsum('ia,jb->ijba',t1,t1)"
   ]
  },
  {
   "cell_type": "code",
   "execution_count": null,
   "id": "19952b3f",
   "metadata": {},
   "outputs": [],
   "source": [
    "t1 = mycc.t1\n",
    "t2 = mycc.t2\n",
    "from ebcc.codegen import GecCC\n",
    "nocc = np.count_nonzero(mf.mo_occ)\n",
    "nvir = mol.nao-nocc\n",
    "t3 = np.empty((nocc,nocc,nocc,nvir,nvir,nvir))\n",
    "# t4 = np.empty((nocc,nocc,nocc,nocc,nvir,nvir,nvir,nvir))\n",
    "c1 = GecCC.convert_t1_to_c1(t1)['c1']\n",
    "c2 = GecCC.convert_t2_to_c2(t1,t2)['c2']\n",
    "c3 = GecCC.convert_t3_to_c3(t1,t2,t3)['c3']\n",
    "# c4 = GecCC.convert_t4_to_c4(t1,t2,t3,t4)['c4']"
   ]
  },
  {
   "cell_type": "code",
   "execution_count": 34,
   "id": "61e8abf7",
   "metadata": {},
   "outputs": [],
   "source": [
    "from pyscf import lib\n",
    "einsum = lib.einsum"
   ]
  },
  {
   "cell_type": "code",
   "execution_count": 37,
   "id": "af8bf87e",
   "metadata": {},
   "outputs": [],
   "source": [
    "nocc = np.count_nonzero(mf.mo_occ)\n",
    "nvir = mol.nao-nocc\n",
    "t1 = mycc.t1\n",
    "t2 = mycc.t2\n",
    "t3 = np.empty((nocc,nocc,nocc,nvir,nvir,nvir))\n",
    "c1 = t1\n",
    "c2 = t2 + einsum('ia,jb->ijab',t1,t1)\n",
    "c3 = 6*einsum('ia,jkbc->ijkabc',t1,t2) + einsum('ia,jb,kc->ijkabc',t1,t1,t1)"
   ]
  },
  {
   "cell_type": "code",
   "execution_count": null,
   "id": "e64eb546",
   "metadata": {},
   "outputs": [],
   "source": [
    "c3 = np.copy(t3)\n",
    "c3 += einsum(t2, (0, 1, 2, 3), t1, (4, 5), (0, 4, 1, 5, 2, 3)) * -1\n",
    "c3 += einsum(t2, (0, 1, 2, 3), t1, (4, 5), (0, 4, 1, 2, 5, 3))\n",
    "c3 += einsum(t1, (0, 1), t2, (2, 3, 4, 5), (2, 0, 3, 4, 5, 1)) * -1\n",
    "c3 += einsum(t2, (0, 1, 2, 3), t1, (4, 5), (0, 1, 4, 5, 2, 3))\n",
    "c3 += einsum(t2, (0, 1, 2, 3), t1, (4, 5), (0, 1, 4, 2, 5, 3)) * -1\n",
    "c3 += einsum(t2, (0, 1, 2, 3), t1, (4, 5), (0, 1, 4, 2, 3, 5))\n",
    "tmp0 = np.copy(t2)\n",
    "tmp0 += einsum(t1, (0, 1), t1, (2, 3), (0, 2, 3, 1)) * -1\n",
    "tmp0 += einsum(t1, (0, 1), t1, (2, 3), (0, 2, 1, 3))\n",
    "c3 += einsum(t1, (0, 1), tmp0, (2, 3, 4, 5), (0, 3, 2, 1, 5, 4))\n",
    "c3 += einsum(t1, (0, 1), tmp0, (2, 3, 4, 5), (0, 3, 2, 5, 4, 1))\n",
    "c3 += einsum(t1, (0, 1), tmp0, (2, 3, 4, 5), (0, 3, 2, 5, 1, 4)) * -1"
   ]
  },
  {
   "cell_type": "code",
   "execution_count": 41,
   "id": "8d823193",
   "metadata": {},
   "outputs": [],
   "source": [
    "o1 = 2*einsum('ia,ia->',c1,c1)\n",
    "o2 = 2*einsum('ijab,ijab->',c2,c2)-einsum('ijab,ijba->',c2,c2)\n",
    "o3 = (8*einsum('ijkabc,ijkabc->',c3,c3)-4*(einsum('ijkabc,ijkacb->',c3,c3)\n",
    "    + einsum('ijkabc,ijkcba->',c3,c3) + einsum('ijkabc,ijkbac->',c3,c3))\n",
    "    + 2*(einsum('ijkabc,ijkbca->',c3,c3) + einsum('ijkabc,ijkcab->',c3,c3)))/36"
   ]
  },
  {
   "cell_type": "code",
   "execution_count": 42,
   "id": "03d5875a",
   "metadata": {},
   "outputs": [
    {
     "name": "stdout",
     "output_type": "stream",
     "text": [
      "0.0004801852641798654 0.27561810935291675 0.00023557396918219602\n"
     ]
    }
   ],
   "source": [
    "print(o1,o2,o3)"
   ]
  },
  {
   "cell_type": "code",
   "execution_count": 43,
   "id": "8d846cc6",
   "metadata": {},
   "outputs": [
    {
     "name": "stdout",
     "output_type": "stream",
     "text": [
      "1.2763338685862788 0.00018457080469323257\n"
     ]
    }
   ],
   "source": [
    "norm = 1 + o1 + o2 + o3\n",
    "c = o3/norm\n",
    "print(norm,c)"
   ]
  },
  {
   "cell_type": "code",
   "execution_count": null,
   "id": "8e97688b",
   "metadata": {},
   "outputs": [
    {
     "data": {
      "text/plain": [
       "-10.832719034705807"
      ]
     },
     "execution_count": 46,
     "metadata": {},
     "output_type": "execute_result"
    }
   ],
   "source": [
    "-10.83072*c - 10.83072"
   ]
  },
  {
   "cell_type": "code",
   "execution_count": 81,
   "id": "ef588b5d",
   "metadata": {},
   "outputs": [
    {
     "name": "stdout",
     "output_type": "stream",
     "text": [
      "0.0010751417652817646 0.29826462479828164 0.0020933178266828866 1.2182909995542957\n",
      "1.0756994456822597\n"
     ]
    }
   ],
   "source": [
    "n_c1 = np.sum(c1**2)\n",
    "n_c2 = np.sum(c2**2)\n",
    "n_c3 = np.sum(c3**2)\n",
    "n_c4 = np.sum(c4**2)\n",
    "print(n_c1,n_c2,n_c3,n_c4)\n",
    "norm = 1+n_c1+n_c2/4+n_c3/36#+n_c4/(4*3*2)**2\n",
    "print(norm)"
   ]
  },
  {
   "cell_type": "code",
   "execution_count": 23,
   "id": "775f9778",
   "metadata": {},
   "outputs": [],
   "source": [
    "def t1t2_2_c1c2c3(mycc):\n",
    "    from ebcc.codegen import GecCC\n",
    "    mf = mycc._scf\n",
    "    t1 = mycc.t1\n",
    "    t2 = mycc.t2\n",
    "    nocc = np.count_nonzero(mf.mo_occ)\n",
    "    nvir = mf.mol.nao-nocc\n",
    "    t3 = np.empty((nocc,nocc,nocc,nvir,nvir,nvir))\n",
    "    c1 = GecCC.convert_t1_to_c1(t1)['c1']\n",
    "    c2 = GecCC.convert_t2_to_c2(t1,t2)['c2']\n",
    "    c3 = GecCC.convert_t3_to_c3(t1,t2,t3)['c3']\n",
    "    return c1,c2,c3"
   ]
  },
  {
   "cell_type": "code",
   "execution_count": 22,
   "id": "55d3b796",
   "metadata": {},
   "outputs": [],
   "source": [
    "def cr_factor(c1,c2,c3,c4=None):\n",
    "    einsum = lib.einsum\n",
    "    o1 = 2*einsum('ia,ia->',c1,c1)\n",
    "    o2 = 2*(4*einsum('ijab,ijab->',c2,c2)-2*einsum('ijab,ijba->',c2,c2))\n",
    "    o3 = 6*(8*einsum('ijkabc,ijkabc->',c3,c3)-4*(einsum('ijkabc,ijkacb->',c3,c3)\n",
    "        + einsum('ijkabc,ijkcba->',c3,c3) + einsum('ijkabc,ijkbac->',c3,c3))\n",
    "        + 2*(einsum('ijkabc,ijkbca->',c3,c3) + einsum('ijkabc,ijkcab->',c3,c3)))\n",
    "    norm = 1 + o1 + o2/4 + o3/36\n",
    "    c = o3/36/norm\n",
    "    # n_c1 = np.sum(c1**2)\n",
    "    # n_c2 = np.sum(c2**2)\n",
    "    # n_c3 = np.sum(c3**2)\n",
    "    # if c4 is None:\n",
    "    #     factor = (n_c3/36)/(1+n_c1+n_c2/4+n_c3/36)\n",
    "    # else:\n",
    "    #     n_c4 = np.sum(c4**2)\n",
    "    #     factor = (n_c3/36+n_c4/(4*3*2))/(1+n_c1+n_c2/4+n_c3/36+n_c4/(4*3*2))\n",
    "    return c\n",
    "\n",
    "def afqmc_cisd_cr(e_afqmc,c):\n",
    "    cr = e_afqmc*c\n",
    "    return e_afqmc+cr,cr"
   ]
  },
  {
   "cell_type": "code",
   "execution_count": null,
   "id": "dfd45913",
   "metadata": {},
   "outputs": [],
   "source": [
    "# a=d=1.831 eql\n",
    "# converged SCF energy = -10.5113174115856\n",
    "# RCCSD converged\n",
    "# E(RCCSD) = -10.82386829894422  E_corr = -0.3125508873585868\n",
    "# DMRG energy =  -10.832557941737981\n",
    "# AFQMC energy: -10.83072 +/- 0.00009"
   ]
  },
  {
   "cell_type": "code",
   "execution_count": 20,
   "id": "24496845",
   "metadata": {},
   "outputs": [
    {
     "name": "stdout",
     "output_type": "stream",
     "text": [
      "err to DMRG before = 0.0018379417379819074, after = 0.0014755837202642397\n"
     ]
    }
   ],
   "source": [
    "e_afqmc = -10.83072\n",
    "e_dmrg = -10.832557941737981\n",
    "c = cr_factor(c1,c2,c3)\n",
    "e_afqmc_cr,_ = afqmc_cisd_cr(e_afqmc,c)\n",
    "print(f'err to DMRG before = {e_afqmc-e_dmrg}, after = {e_afqmc_cr-e_dmrg}')"
   ]
  },
  {
   "cell_type": "code",
   "execution_count": null,
   "id": "f1b76f85",
   "metadata": {},
   "outputs": [],
   "source": [
    "# a=1.831 d=3\n",
    "# converged SCF energy = -10.7902563668634\n",
    "# E_corr(MP2) -0.196801273811774\n",
    "# E(RCCSD) = -11.11588133074048  E_corr = -0.3256249638770554\n",
    "# DMRG energy (extrapolated) =  -11.116780958599403 +/- 0.0000000000\n",
    "# AFQMC energy: -11.11581 +/- 0.00009"
   ]
  },
  {
   "cell_type": "code",
   "execution_count": 25,
   "id": "0781e489",
   "metadata": {},
   "outputs": [
    {
     "name": "stdout",
     "output_type": "stream",
     "text": [
      "3.3456503142645046e-05\n",
      "err before =  0.0009709585994031045 0.0005990624672058686\n"
     ]
    }
   ],
   "source": [
    "e_afqmc = -11.11581\n",
    "e_dmrg = -11.116780958599403\n",
    "c = cr_factor(c1,c2,c3)\n",
    "e_afqmc_cr,_ = afqmc_cisd_cr(-11.11581,c)\n",
    "print(c)\n",
    "print('err before = ', e_afqmc-e_dmrg, e_afqmc_cr-e_dmrg)"
   ]
  },
  {
   "cell_type": "code",
   "execution_count": null,
   "id": "85f3a9b0",
   "metadata": {},
   "outputs": [],
   "source": [
    "# H40 a=d=1.831\n",
    "# converged SCF energy = -21.0019645737223\n",
    "# E(RCCSD) = -21.62210834629252  E_corr = -0.6201437725701879\n",
    "# RCCSD(T) correction = -0.0176994487844547\n",
    "# ccsd(t) energy: -21.639807795076976\n",
    "# AFQMC energy: -21.6382 +/- 0.0004\n",
    "# DMRG energy (extrapolated) =  -21.646735579929590 +/-    0.0000000000"
   ]
  },
  {
   "cell_type": "code",
   "execution_count": null,
   "id": "2662e550",
   "metadata": {},
   "outputs": [
    {
     "name": "stdout",
     "output_type": "stream",
     "text": [
      "err before =  0.008535579929588977 0.0016923375460038415\n"
     ]
    }
   ],
   "source": [
    "e_afqmc = -21.6382\n",
    "e_dmrg = -21.646735579929590\n",
    "c1,c2,c3 = t1t2_2_c1c2c3(mycc)\n",
    "c = cr_factor(c1,c2,c3)\n",
    "e_afqmc_cr,_ = afqmc_cisd_cr(e_afqmc,c)\n",
    "print(f'err to DMRG before = {e_afqmc-e_dmrg}, after = {e_afqmc_cr-e_dmrg}')"
   ]
  },
  {
   "cell_type": "code",
   "execution_count": 114,
   "id": "04bf28ed",
   "metadata": {},
   "outputs": [
    {
     "name": "stdout",
     "output_type": "stream",
     "text": [
      "err to DMRG before = 0.008535579929588977, after = 0.0016923375460038415\n"
     ]
    }
   ],
   "source": [
    "print(f'err to DMRG before = {e_afqmc-e_dmrg}, after = {e_afqmc_cr-e_dmrg}')"
   ]
  },
  {
   "cell_type": "code",
   "execution_count": null,
   "id": "d425cf5a",
   "metadata": {},
   "outputs": [],
   "source": [
    "# H40 a=1.831 d=3\n",
    "# converged SCF energy = -21.5756025423033\n",
    "# E(RCCSD) = -22.22585047306383  E_corr = -0.6502479307605629\n",
    "# RCCSD(T) correction = -0.0010780749331425\n",
    "# ccsd(t) energy: -22.226928547996973\n",
    "# AFQMC energy: -22.2245 +/- 0.0004\n",
    "# DMRG energy (extrapolated) =  -22.227757880107031 +/-    0.0000000000"
   ]
  },
  {
   "cell_type": "code",
   "execution_count": 4,
   "id": "e461401c",
   "metadata": {},
   "outputs": [
    {
     "name": "stdout",
     "output_type": "stream",
     "text": [
      "err to DMRG before = 0.003257880107032207, after = 0.002019729674799464\n"
     ]
    }
   ],
   "source": [
    "e_afqmc = -22.2245\n",
    "e_dmrg = -22.227757880107031\n",
    "c1,c2,c3 = t1t2_2_c1c2c3(mycc)\n",
    "c = cr_factor(c1,c2,c3)\n",
    "e_afqmc_cr,_ = afqmc_cisd_cr(e_afqmc,c)\n",
    "print(f'err to DMRG before = {e_afqmc-e_dmrg}, after = {e_afqmc_cr-e_dmrg}')"
   ]
  },
  {
   "cell_type": "code",
   "execution_count": null,
   "id": "958319b9",
   "metadata": {},
   "outputs": [],
   "source": [
    "# H80 a = 0.96892 # 1.831aB\n",
    "# AFQMC energy: -43.2513 +/- 0.0008\n",
    "# converged SCF energy = -41.9835706086777\n",
    "# E(RCCSD) = -43.2187515626576\n",
    "# ccsd(t) energy: -43.25881794557464\n",
    "# DMRG energy =  -43.277423271142652"
   ]
  },
  {
   "cell_type": "code",
   "execution_count": 116,
   "id": "edc819d6",
   "metadata": {},
   "outputs": [
    {
     "ename": "",
     "evalue": "",
     "output_type": "error",
     "traceback": [
      "\u001b[1;31mThe Kernel crashed while executing code in the current cell or a previous cell. \n",
      "\u001b[1;31mPlease review the code in the cell(s) to identify a possible cause of the failure. \n",
      "\u001b[1;31mClick <a href='https://aka.ms/vscodeJupyterKernelCrash'>here</a> for more info. \n",
      "\u001b[1;31mView Jupyter <a href='command:jupyter.viewOutput'>log</a> for further details."
     ]
    }
   ],
   "source": [
    "e_afqmc = -43.2513\n",
    "e_dmrg = -43.277423271142652\n",
    "c1,c2,c3 = t1t2_2_c1c2c3(mycc)\n",
    "c = cr_factor(c1,c2,c3)\n",
    "e_afqmc_cr,_ = afqmc_cisd_cr(e_afqmc,c)\n",
    "print(f'err to DMRG before = {e_afqmc-e_dmrg}, after = {e_afqmc_cr-e_dmrg}')"
   ]
  },
  {
   "cell_type": "code",
   "execution_count": 6,
   "id": "c431b4e5",
   "metadata": {},
   "outputs": [],
   "source": [
    "def davidson_cr(ci_corr,c0,nelec,order=1):\n",
    "    c2_int_sq = (1-c0**2)/c0**2\n",
    "    d_cr = c2_int_sq*ci_corr*(1-2/nelec)\n",
    "    if order == 2:\n",
    "        d_cr2 = 2*ci_corr*(4/nelec**2-1)*c2_int_sq**2\n",
    "        d_cr += d_cr2\n",
    "    return d_cr"
   ]
  },
  {
   "cell_type": "code",
   "execution_count": 104,
   "id": "e2eba224",
   "metadata": {},
   "outputs": [],
   "source": [
    "nelec = mol.nelectron\n",
    "c2_int_sq = (1-c0**2)/c0**2\n",
    "d_cr2 = 2*ci_corr*(4/nelec**2-1)*c2_int_sq**2"
   ]
  },
  {
   "cell_type": "code",
   "execution_count": 18,
   "id": "70481bba",
   "metadata": {},
   "outputs": [
    {
     "name": "stdout",
     "output_type": "stream",
     "text": [
      "-0.04645142872131443\n",
      "-0.027028322614441352\n"
     ]
    }
   ],
   "source": [
    "nelec = mol.nelectron\n",
    "d_cr1 = davidson_cr(ci_corr,c0,nelec,1)\n",
    "d_cr2 = davidson_cr(ci_corr,c0,nelec,2)\n",
    "print(d_cr1)\n",
    "print(d_cr2)"
   ]
  },
  {
   "cell_type": "code",
   "execution_count": 20,
   "id": "22100070",
   "metadata": {},
   "outputs": [
    {
     "name": "stdout",
     "output_type": "stream",
     "text": [
      "-0.2715561490087084\n",
      "-0.3180075777300228\n",
      "-0.2985844716231497\n",
      "-0.3261313621110479\n"
     ]
    }
   ],
   "source": [
    "print(ci_corr)\n",
    "print(ci_corr+d_cr1)\n",
    "print(ci_corr+d_cr2)\n",
    "print(mycc.e_corr+et)"
   ]
  }
 ],
 "metadata": {
  "kernelspec": {
   "display_name": "lno_pyscf_afqmc",
   "language": "python",
   "name": "python3"
  },
  "language_info": {
   "codemirror_mode": {
    "name": "ipython",
    "version": 3
   },
   "file_extension": ".py",
   "mimetype": "text/x-python",
   "name": "python",
   "nbconvert_exporter": "python",
   "pygments_lexer": "ipython3",
   "version": "3.10.16"
  }
 },
 "nbformat": 4,
 "nbformat_minor": 5
}
