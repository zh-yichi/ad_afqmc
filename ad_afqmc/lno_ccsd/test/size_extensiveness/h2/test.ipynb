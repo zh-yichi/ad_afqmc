{
 "cells": [
  {
   "cell_type": "code",
   "execution_count": 1,
   "id": "90eeaa1c",
   "metadata": {},
   "outputs": [],
   "source": [
    "import numpy as np\n",
    "from matplotlib import pyplot as plt\n",
    "from pyscf import gto, scf, cc"
   ]
  },
  {
   "cell_type": "code",
   "execution_count": null,
   "id": "1fa3a673",
   "metadata": {},
   "outputs": [
    {
     "name": "stdout",
     "output_type": "stream",
     "text": [
      "System: uname_result(system='Linux', node='yichi-thinkpad', release='4.4.0-26100-Microsoft', version='#1882-Microsoft Fri Jan 01 08:00:00 PST 2016', machine='x86_64')  Threads 12\n",
      "Python 3.10.16 | packaged by conda-forge | (main, Dec  5 2024, 14:16:10) [GCC 13.3.0]\n",
      "numpy 1.24.3  scipy 1.14.1  h5py 3.12.1\n",
      "Date: Sun Jul  6 18:46:53 2025\n",
      "PySCF version 2.8.0\n",
      "PySCF path  /home/yichi/research/software/lno_pyscf\n",
      "GIT HEAD (branch master) ef75f4190e4de208685670651dc6c467f72b6794\n",
      "\n",
      "[ENV] PYSCF_EXT_PATH /home/yichi/research/software/pyscf\n",
      "[CONFIG] conf_file None\n",
      "[INPUT] verbose = 4\n",
      "[INPUT] num. atoms = 2\n",
      "[INPUT] num. electrons = 2\n",
      "[INPUT] charge = 0\n",
      "[INPUT] spin (= nelec alpha-beta = 2S) = 0\n",
      "[INPUT] symmetry False subgroup None\n",
      "[INPUT] Mole.unit = angstrom\n",
      "[INPUT] Symbol           X                Y                Z      unit          X                Y                Z       unit  Magmom\n",
      "[INPUT]  1 H      0.000000000000   0.000000000000   0.000000000000 AA    0.000000000000   0.000000000000   0.000000000000 Bohr   0.0\n",
      "[INPUT]  2 H      1.058354498000   0.000000000000   0.000000000000 AA    2.000000143922   0.000000000000   0.000000000000 Bohr   0.0\n",
      "\n",
      "nuclear repulsion = 0.499999964019617\n",
      "number of shells = 2\n",
      "number of NR pGTOs = 12\n",
      "number of NR cGTOs = 2\n",
      "basis = sto6g\n",
      "ecp = {}\n",
      "CPU time:         1.27\n",
      "\n",
      "\n",
      "******** <class 'pyscf.scf.hf.RHF'> ********\n",
      "method = RHF\n",
      "initial guess = minao\n",
      "damping factor = 0\n",
      "level_shift factor = 0\n",
      "DIIS = <class 'pyscf.scf.diis.CDIIS'>\n",
      "diis_start_cycle = 1\n",
      "diis_space = 8\n",
      "diis_damp = 0\n",
      "SCF conv_tol = 1e-09\n",
      "SCF conv_tol_grad = None\n",
      "SCF max_cycles = 50\n",
      "direct_scf = True\n",
      "direct_scf_tol = 1e-13\n",
      "chkfile to save SCF result = /tmp/tmp5p0qd7l8\n",
      "max_memory 4000 MB (current use 122 MB)\n",
      "Set gradient conv threshold to 3.16228e-05\n",
      "Initial guess from minao.\n",
      "init E= -0.684162316300033\n",
      "  HOMO = -0.383125288126414  LUMO = 0.315906595211585\n",
      "cycle= 1 E= -1.05642985919892  delta_E= -0.372  |g|= 1.11e-16  |ddm|= 0.914\n",
      "  HOMO = -0.470060775737891  LUMO = 0.414892026579749\n",
      "cycle= 2 E= -1.05642985919892  delta_E= 2.22e-16  |g|= 2.22e-16  |ddm|= 5.09e-16\n",
      "  HOMO = -0.470060775737891  LUMO = 0.414892026579749\n",
      "Extra cycle  E= -1.05642985919892  delta_E=    0  |g|= 2.22e-16  |ddm|= 3.14e-16\n",
      "converged SCF energy = -1.05642985919892\n",
      "\n",
      "******** <class 'pyscf.cc.ccsd.CCSD'> ********\n",
      "CC2 = 0\n",
      "CCSD nocc = 1, nmo = 2\n",
      "max_cycle = 50\n",
      "direct = 0\n",
      "conv_tol = 1e-07\n",
      "conv_tol_normt = 1e-05\n",
      "diis_space = 6\n",
      "diis_start_cycle = 0\n",
      "diis_start_energy_diff = 1e+09\n",
      "max_memory 4000 MB (current use 122 MB)\n",
      "Init t2, MP2 energy = -1.07922298425246  E_corr(MP2) -0.0227931250535357\n",
      "Init E_corr(CCSD) = -0.0227931250535357\n",
      "cycle = 1  E_corr(CCSD) = -0.0326975712571164  dE = -0.0099044462  norm(t1,t2) = 0.0493121\n",
      "cycle = 2  E_corr(CCSD) = -0.0368184386468691  dE = -0.00412086739  norm(t1,t2) = 0.0205169\n",
      "cycle = 3  E_corr(CCSD) = -0.0396601194495152  dE = -0.0028416808  norm(t1,t2) = 0.00837373\n",
      "cycle = 4  E_corr(CCSD) = -0.0396456193980071  dE = 1.45000515e-05  norm(t1,t2) = 5.56566e-05\n",
      "cycle = 5  E_corr(CCSD) = -0.0396437806908684  dE = 1.83870714e-06  norm(t1,t2) = 1.25292e-05\n",
      "cycle = 6  E_corr(CCSD) = -0.0396430583834817  dE = 7.22307387e-07  norm(t1,t2) = 7.06045e-06\n",
      "cycle = 7  E_corr(CCSD) = -0.0396426726234478  dE = 3.85760034e-07  norm(t1,t2) = 4.91214e-06\n",
      "cycle = 8  E_corr(CCSD) = -0.0396413916271646  dE = 1.28099628e-06  norm(t1,t2) = 3.7648e-06\n",
      "cycle = 9  E_corr(CCSD) = -0.0396414068462939  dE = -1.52191293e-08  norm(t1,t2) = 4.51792e-08\n",
      "CCSD converged\n",
      "E(CCSD) = -1.096071266045213  E_corr = -0.03964140684629391\n"
     ]
    }
   ],
   "source": [
    "nh2 = 1\n",
    "s = 20\n",
    "e_hf = np.zeros(nh2)\n",
    "e_ccsd = np.zeros(nh2)\n",
    "\n",
    "def h2(d):\n",
    "    h2 = f'''\n",
    "    H 0 {d} 0\n",
    "    H 1.058354498 {d} 0\n",
    "    '''\n",
    "    return h2\n",
    "\n",
    "atoms = ''\n",
    "for i in range(nh2):\n",
    "    atoms += h2(i*s)\n",
    "\n",
    "    mol = gto.M(atom=atoms, basis=\"sto6g\", verbose=4)\n",
    "    mf = scf.RHF(mol)\n",
    "    mf.kernel()\n",
    "    e_hf[i] = mf.e_tot\n",
    "\n",
    "    mycc = cc.CCSD(mf)\n",
    "    mycc.kernel()\n",
    "    e_ccsd[i] = mycc.e_tot\n"
   ]
  },
  {
   "cell_type": "code",
   "execution_count": 3,
   "id": "32d87d53",
   "metadata": {},
   "outputs": [
    {
     "name": "stdout",
     "output_type": "stream",
     "text": [
      "#\n",
      "# Preparing AFQMC calculation\n",
      "# If you import pyscf cc modules and use MPI for AFQMC in the same script, finalize MPI before calling the AFQMC driver.\n",
      "# Calculating Cholesky integrals\n",
      "# Finished calculating Cholesky integrals\n",
      "#\n",
      "# Size of the correlation space:\n",
      "# Number of electrons: (1, 1)\n",
      "# Number of basis functions: 2\n",
      "# Number of Cholesky vectors: 3\n",
      "#\n",
      "# Hostname: yichi-thinkpad\n",
      "# System Type: Linux\n",
      "# Machine Type: x86_64\n",
      "# Processor: x86_64\n",
      "# Number of MPI ranks: 8\n",
      "#\n",
      "# norb: 2\n",
      "# nelec: (1, 1)\n",
      "#\n",
      "# n_eql: 3\n",
      "# n_ene_blocks: 1\n",
      "# n_sr_blocks: 50\n",
      "# n_blocks: 10\n",
      "# n_walkers: 50\n",
      "# seed: 98\n",
      "# trial: cisd\n",
      "# walker_type: rhf\n",
      "# dt: 0.01\n",
      "# n_exp_terms: 6\n",
      "# n_prop_steps: 50\n",
      "# orbital_rotation: True\n",
      "# do_sr: True\n",
      "# symmetry: False\n",
      "# save_walkers: False\n",
      "# ene0: 0.0\n",
      "# free_projection: False\n",
      "# n_batch: 1\n",
      "# LNO: False\n",
      "# orbE: 0\n",
      "# maxError: 0.001\n",
      "#\n",
      "# Equilibration sweeps:\n",
      "#   Iter        Block energy      Walltime\n",
      "#     0      -1.096071266e+00     8.18e+00 \n",
      "#     1      -1.096071362e+00     2.52e+01 \n",
      "#     2      -1.096071362e+00     3.51e+01 \n",
      "#     3      -1.096071243e+00     3.59e+01 \n",
      "#\n",
      "# Sampling sweeps:\n",
      "#  Iter        Mean energy          Stochastic error       Walltime\n",
      "     0      -1.096071243e+00                -              4.40e+01 \n",
      "     1      -1.096071243e+00                -              4.46e+01 \n",
      "     2      -1.096071243e+00                -              4.51e+01 \n",
      "     3      -1.096071243e+00                -              4.57e+01 \n",
      "     4      -1.096071243e+00                -              4.63e+01 \n",
      "     5      -1.096071243e+00                -              4.69e+01 \n",
      "     6      -1.096071243e+00                -              4.74e+01 \n",
      "     7      -1.096071243e+00                -              4.80e+01 \n",
      "     8      -1.096071243e+00                -              4.87e+01 \n",
      "     9      -1.096071243e+00                -              4.94e+01 \n",
      "#\n",
      "# Number of large deviations: 0\n",
      "# Number of outliers in post: 0 \n",
      "#\n",
      "# Mean: -1.09607124e+00\n",
      "# Block size    # of blocks         Mean                Error\n",
      "      1               80       -1.09607124e+00       0.000000e+00\n",
      "      2               40       -1.09607124e+00       0.000000e+00\n",
      "      5               16       -1.09607124e+00       0.000000e+00\n",
      "     10                8       -1.09607124e+00       0.000000e+00\n",
      "     20                4       -1.09607124e+00       0.000000e+00\n",
      "AFQMC energy: -1.0960712432861328\n",
      "\n",
      "ph_afqmc walltime: 49.463478803634644\n"
     ]
    },
    {
     "data": {
      "text/plain": [
       "(-1.0960712432861328, 0.0)"
      ]
     },
     "execution_count": 3,
     "metadata": {},
     "output_type": "execute_result"
    }
   ],
   "source": [
    "from ad_afqmc import run_afqmc, pyscf_interface\n",
    "from mpi4py import MPI\n",
    "\n",
    "MPI.Finalize()\n",
    "pyscf_interface.prep_afqmc(mycc)\n",
    "\n",
    "options = {\n",
    "    \"n_eql\": 3,\n",
    "    \"n_ene_blocks\": 1,\n",
    "    \"n_sr_blocks\": 50,\n",
    "    \"n_blocks\": 10,\n",
    "    \"n_walkers\": 50,\n",
    "    \"seed\": 98,\n",
    "    \"trial\": \"cisd\",\n",
    "    \"walker_type\": \"rhf\",\n",
    "    \"dt\": 0.005,\n",
    "}\n",
    "\n",
    "\n",
    "run_afqmc.run_afqmc(options=options, nproc=8)"
   ]
  },
  {
   "cell_type": "code",
   "execution_count": 23,
   "id": "2619c2b0",
   "metadata": {},
   "outputs": [
    {
     "data": {
      "image/png": "[encoded data removed]",
      "text/plain": [
       "<Figure size 640x480 with 1 Axes>"
      ]
     },
     "metadata": {},
     "output_type": "display_data"
    }
   ],
   "source": [
    "from matplotlib import pyplot as plt\n",
    "plt.plot(np.arange(1,nh2+1),e_hf,'.', label='HF')\n",
    "plt.plot(np.arange(1,nh2+1),e_ccsd,'.', label='CCSD')\n",
    "plt.xlabel('Number of H2 molecules')\n",
    "plt.ylabel('Energy (hf)')\n",
    "plt.legend()\n",
    "plt.show()"
   ]
  },
  {
   "cell_type": "code",
   "execution_count": 24,
   "id": "0e70991d",
   "metadata": {},
   "outputs": [
    {
     "name": "stdout",
     "output_type": "stream",
     "text": [
      "HF energy per molecule [-1.03917824 -1.03917834 -1.03917839 -1.03917842 -1.03917845 -1.03917846\n",
      " -1.03917848 -1.03917849 -1.0391785  -1.03917851]\n",
      "CCSD energy per molecule [-1.08433744 -1.08433751 -1.08433754 -1.08433756 -1.08433757 -1.08433759\n",
      " -1.0843376  -1.0843376  -1.08433761 -1.08433762]\n"
     ]
    }
   ],
   "source": [
    "print('HF energy per molecule',e_hf/np.arange(1,nh2+1))\n",
    "print('CCSD energy per molecule',e_ccsd/np.arange(1,nh2+1))"
   ]
  },
  {
   "cell_type": "code",
   "execution_count": 12,
   "id": "e3f030f9",
   "metadata": {},
   "outputs": [
    {
     "name": "stdout",
     "output_type": "stream",
     "text": [
      "[-0.039591 -0.039591 -0.039591 -0.039591 -0.039591 -0.039591 -0.039591\n",
      " -0.039591 -0.039591 -0.039591 -0.039591]\n",
      "[0.000005 0.000005 0.000005 0.000005 0.000005 0.000005 0.000005 0.000005\n",
      " 0.000005 0.000005 0.000005]\n"
     ]
    }
   ],
   "source": [
    "n_h2 = np.array([1,10,20,30,40,50,60,70,80,90,100])\n",
    "e_lno_afqmc = np.array([-0.039591,-0.395912,-0.791824,-1.187736,-1.583648,-1.979559,-2.375471,-2.771384,-3.167296,-3.563208,-3.959121])\n",
    "err =np.array([0.000005,0.000016,0.000022,0.000027,0.000032,0.000035,0.000039,0.000042,0.000045,0.000047,0.000050])\n",
    "e_per_mol = e_lno_afqmc/n_h2\n",
    "err_per_mol = err/np.sqrt(n_h2)\n",
    "np.set_printoptions(precision=6, suppress=True)\n",
    "print(e_per_mol)\n",
    "print(err_per_mol)"
   ]
  },
  {
   "cell_type": "code",
   "execution_count": 11,
   "id": "ea14fdeb",
   "metadata": {},
   "outputs": [
    {
     "data": {
      "image/png": "[encoded data removed]",
      "text/plain": [
       "<Figure size 640x480 with 1 Axes>"
      ]
     },
     "metadata": {},
     "output_type": "display_data"
    }
   ],
   "source": [
    "plt.errorbar(n_h2,e_per_mol,yerr=err_per_mol,fmt='o',capsize=5,label='lno_afqmc/ccsd')\n",
    "plt.xlabel('number of H2 molecules')\n",
    "plt.ylabel('correlation energy per molecule (hartree)')\n",
    "plt.legend()\n",
    "plt.show()"
   ]
  },
  {
   "cell_type": "code",
   "execution_count": null,
   "id": "d4c8715f",
   "metadata": {},
   "outputs": [
    {
     "data": {
      "text/plain": [
       "-0.0013949742999999903"
      ]
     },
     "execution_count": 13,
     "metadata": {},
     "output_type": "execute_result"
    }
   ],
   "source": [
    "-0.2162949743+0.2149000000"
   ]
  },
  {
   "cell_type": "code",
   "execution_count": 14,
   "id": "115897dd",
   "metadata": {},
   "outputs": [
    {
     "data": {
      "text/plain": [
       "0.0013950000000000073"
      ]
     },
     "execution_count": 14,
     "metadata": {},
     "output_type": "execute_result"
    }
   ],
   "source": [
    "-0.213397+0.214792"
   ]
  },
  {
   "cell_type": "code",
   "execution_count": 20,
   "id": "99ac3fbf",
   "metadata": {},
   "outputs": [
    {
     "name": "stdout",
     "output_type": "stream",
     "text": [
      "144792\n"
     ]
    }
   ],
   "source": [
    "from jax import random\n",
    "nfrag = 5\n",
    "seeds = random.randint(random.PRNGKey(2),\n",
    "                        shape=(nfrag,), minval=0, maxval=100000*nfrag)\n",
    "print(seeds[0])"
   ]
  },
  {
   "cell_type": "code",
   "execution_count": null,
   "id": "7a1df483",
   "metadata": {},
   "outputs": [],
   "source": []
  }
 ],
 "metadata": {
  "kernelspec": {
   "display_name": "lno_pyscf_afqmc",
   "language": "python",
   "name": "python3"
  },
  "language_info": {
   "codemirror_mode": {
    "name": "ipython",
    "version": 3
   },
   "file_extension": ".py",
   "mimetype": "text/x-python",
   "name": "python",
   "nbconvert_exporter": "python",
   "pygments_lexer": "ipython3",
   "version": "3.10.16"
  }
 },
 "nbformat": 4,
 "nbformat_minor": 5
}
