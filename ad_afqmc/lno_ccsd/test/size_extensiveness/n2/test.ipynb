{
 "cells": [
  {
   "cell_type": "code",
   "execution_count": 6,
   "id": "45dd985e",
   "metadata": {},
   "outputs": [],
   "source": [
    "import numpy as np\n",
    "from matplotlib import pyplot as plt\n",
    "from pyscf import gto, scf, cc, lib"
   ]
  },
  {
   "cell_type": "code",
   "execution_count": 7,
   "id": "1fa3a673",
   "metadata": {},
   "outputs": [
    {
     "name": "stdout",
     "output_type": "stream",
     "text": [
      "System: uname_result(system='Linux', node='yichi-thinkpad', release='4.4.0-26100-Microsoft', version='#1882-Microsoft Fri Jan 01 08:00:00 PST 2016', machine='x86_64')  Threads 12\n",
      "Python 3.10.16 | packaged by conda-forge | (main, Dec  5 2024, 14:16:10) [GCC 13.3.0]\n",
      "numpy 1.24.3  scipy 1.14.1  h5py 3.12.1\n",
      "Date: Wed Jul  9 16:56:29 2025\n",
      "PySCF version 2.8.0\n",
      "PySCF path  /home/yichi/research/software/lno_pyscf\n",
      "GIT HEAD (branch master) ef75f4190e4de208685670651dc6c467f72b6794\n",
      "\n",
      "[ENV] PYSCF_EXT_PATH /home/yichi/research/software/pyscf\n",
      "[CONFIG] conf_file None\n",
      "[INPUT] verbose = 4\n",
      "[INPUT] num. atoms = 2\n",
      "[INPUT] num. electrons = 14\n",
      "[INPUT] charge = 0\n",
      "[INPUT] spin (= nelec alpha-beta = 2S) = 0\n",
      "[INPUT] symmetry False subgroup None\n",
      "[INPUT] Mole.unit = angstrom\n",
      "[INPUT] Symbol           X                Y                Z      unit          X                Y                Z       unit  Magmom\n",
      "[INPUT]  1 N      0.000000000000   0.000000000000   0.000000000000 AA    0.000000000000   0.000000000000   0.000000000000 Bohr   0.0\n",
      "[INPUT]  2 N      1.120268000000   0.000000000000   0.000000000000 AA    2.116999706114   0.000000000000   0.000000000000 Bohr   0.0\n",
      "\n",
      "nuclear repulsion = 23.1459644791068\n",
      "number of shells = 6\n"
     ]
    },
    {
     "name": "stdout",
     "output_type": "stream",
     "text": [
      "number of NR pGTOs = 60\n",
      "number of NR cGTOs = 10\n",
      "basis = sto6g\n",
      "ecp = {}\n",
      "CPU time:         3.62\n",
      "\n",
      "\n",
      "******** <class 'pyscf.df.df_jk.DFRHF'> ********\n",
      "method = DFRHF\n",
      "initial guess = minao\n",
      "damping factor = 0\n",
      "level_shift factor = 0\n",
      "DIIS = <class 'pyscf.scf.diis.CDIIS'>\n",
      "diis_start_cycle = 1\n",
      "diis_space = 8\n",
      "diis_damp = 0\n",
      "SCF conv_tol = 1e-09\n",
      "SCF conv_tol_grad = None\n",
      "SCF max_cycles = 50\n",
      "direct_scf = False\n",
      "chkfile to save SCF result = /tmp/tmpzthulmby\n",
      "max_memory 4000 MB (current use 142 MB)\n",
      "Set gradient conv threshold to 3.16228e-05\n",
      "Initial guess from minao.\n",
      "******** <class 'pyscf.df.df.DF'> ********\n",
      "auxbasis = None\n",
      "max_memory = 4000\n",
      "ETB for N: l = 0, exps = 0.3693673104 * 2^n , n = 0..12\n",
      "ETB for N: l = 1, exps = 0.3693673104 * 2^n , n = 0..10\n",
      "ETB for N: l = 2, exps = 0.3693673104 * 2^n , n = 0..7\n",
      "\n",
      "WARN: Even tempered Gaussians are generated as DF auxbasis for  N\n",
      "\n",
      "init E= -108.662034014583\n",
      "  HOMO = -0.323306308860145  LUMO = 0.147027640985459\n",
      "cycle= 1 E= -108.544270913048  delta_E= 0.118  |g|= 0.0424  |ddm|= 2.35\n",
      "  HOMO = -0.537713680256279  LUMO = 0.261337946046056\n",
      "cycle= 2 E= -108.544358037394  delta_E= -8.71e-05  |g|= 0.0033  |ddm|= 0.025\n",
      "  HOMO = -0.538205757150239  LUMO = 0.261152462149809\n",
      "cycle= 3 E= -108.544360282294  delta_E= -2.24e-06  |g|= 0.00045  |ddm|= 0.00598\n",
      "  HOMO = -0.538310262763837  LUMO = 0.26111673517662\n",
      "cycle= 4 E= -108.54436035575  delta_E= -7.35e-08  |g|= 1.06e-08  |ddm|= 0.00133\n",
      "  HOMO = -0.538310254263535  LUMO = 0.261116745082414\n",
      "cycle= 5 E= -108.54436035575  delta_E=    0  |g|= 5.38e-13  |ddm|= 2.35e-08\n",
      "  HOMO = -0.538310254263024  LUMO = 0.261116745082949\n",
      "Extra cycle  E= -108.54436035575  delta_E=    0  |g|= 1.18e-13  |ddm|= 1.17e-12\n",
      "converged SCF energy = -108.54436035575\n",
      "\n",
      "******** <class 'pyscf.cc.dfccsd.RCCSD'> ********\n",
      "CC2 = 0\n",
      "CCSD nocc = 5, nmo = 8\n",
      "frozen orbitals 2\n",
      "max_cycle = 50\n",
      "direct = 0\n",
      "conv_tol = 1e-07\n",
      "conv_tol_normt = 1e-05\n",
      "diis_space = 6\n",
      "diis_start_cycle = 0\n",
      "diis_start_energy_diff = 1e+09\n",
      "max_memory 4000 MB (current use 149 MB)\n",
      "Init t2, MP2 energy = -108.708318797351  E_corr(MP2) -0.163958441601129\n",
      "Init E_corr(RCCSD) = -0.163958441601129\n",
      "cycle = 1  E_corr(RCCSD) = -0.154653717460639  dE = 0.00930472414  norm(t1,t2) = 0.0263378\n",
      "cycle = 2  E_corr(RCCSD) = -0.158776636455722  dE = -0.004122919  norm(t1,t2) = 0.0162859\n",
      "cycle = 3  E_corr(RCCSD) = -0.160699278305485  dE = -0.00192264185  norm(t1,t2) = 0.00837622\n",
      "cycle = 4  E_corr(RCCSD) = -0.161506631199707  dE = -0.000807352894  norm(t1,t2) = 0.00215419\n",
      "cycle = 5  E_corr(RCCSD) = -0.161362584610826  dE = 0.000144046589  norm(t1,t2) = 0.000406376\n",
      "cycle = 6  E_corr(RCCSD) = -0.161374406595167  dE = -1.18219843e-05  norm(t1,t2) = 9.56868e-05\n",
      "cycle = 7  E_corr(RCCSD) = -0.161378534010194  dE = -4.12741503e-06  norm(t1,t2) = 1.23227e-05\n",
      "cycle = 8  E_corr(RCCSD) = -0.161377857152516  dE = 6.76857678e-07  norm(t1,t2) = 3.29342e-06\n",
      "cycle = 9  E_corr(RCCSD) = -0.161378061319016  dE = -2.041665e-07  norm(t1,t2) = 9.92679e-07\n",
      "cycle = 10  E_corr(RCCSD) = -0.161377973636223  dE = 8.76827931e-08  norm(t1,t2) = 3.12019e-07\n",
      "RCCSD converged\n",
      "E(RCCSD) = -108.7057383293859  E_corr = -0.161377973636223\n",
      "RCCSD(T) correction = -0.00183650154711681\n"
     ]
    }
   ],
   "source": [
    "nn2 = 1\n",
    "s = 20\n",
    "e_hf = np.zeros(nn2)\n",
    "e_ccsd_t = np.zeros(nn2)\n",
    "\n",
    "def n2(d):\n",
    "    n2 = f'''\n",
    "    N 0 {d} 0\n",
    "    N 1.120268 {d} 0\n",
    "    '''\n",
    "    return n2\n",
    "\n",
    "atoms = ''\n",
    "for i in range(nn2):\n",
    "    atoms += n2(i*s)\n",
    "\n",
    "    mol = gto.M(atom=atoms, basis=\"sto6g\", verbose=4)\n",
    "    mf = scf.RHF(mol).density_fit()\n",
    "    mf.kernel()\n",
    "    e_hf[i] = mf.e_tot\n",
    "\n",
    "    nfrozen = 2*(i+1)\n",
    "    mycc = cc.CCSD(mf, frozen=nfrozen)\n",
    "    t1,t2 = mycc.kernel()[1:]\n",
    "    t2 += lib.einsum('ia,jb->ijab',t1,t1)\n",
    "    et = mycc.ccsd_t()\n",
    "    e_ccsd_t[i] = mycc.e_tot+et"
   ]
  },
  {
   "cell_type": "code",
   "execution_count": 19,
   "id": "070d46c8",
   "metadata": {},
   "outputs": [
    {
     "data": {
      "text/plain": [
       "(5, 5, 3, 3)"
      ]
     },
     "execution_count": 19,
     "metadata": {},
     "output_type": "execute_result"
    }
   ],
   "source": [
    "mycc.t2.shape"
   ]
  },
  {
   "cell_type": "code",
   "execution_count": 20,
   "id": "6feb6c15",
   "metadata": {},
   "outputs": [
    {
     "data": {
      "text/plain": [
       "(5, 5, 3, 3)"
      ]
     },
     "execution_count": 20,
     "metadata": {},
     "output_type": "execute_result"
    }
   ],
   "source": [
    "t2.shape"
   ]
  },
  {
   "cell_type": "code",
   "execution_count": 13,
   "id": "e24cdcd0",
   "metadata": {},
   "outputs": [],
   "source": [
    "from ad_afqmc.lno_ccsd import lno_ccsd"
   ]
  },
  {
   "cell_type": "code",
   "execution_count": 14,
   "id": "3774adc8",
   "metadata": {},
   "outputs": [
    {
     "name": "stdout",
     "output_type": "stream",
     "text": [
      "# Generating Cholesky Integrals\n"
     ]
    },
    {
     "name": "stdout",
     "output_type": "stream",
     "text": [
      "# frozen orbitals: [0 1]\n",
      "# local active orbitals: [2 3 4 5 6 7 8 9]\n",
      "# local active space size: 8\n",
      "# loc_eris shape: (64, 64)\n",
      "# chol shape: (35, 64)\n",
      "# Finished calculating Cholesky integrals\n",
      "\n",
      "# Size of the correlation space:\n",
      "# Number of electrons: (5, 5)\n",
      "# Number of basis functions: 8\n",
      "# Number of Cholesky vectors: 35\n",
      "\n"
     ]
    }
   ],
   "source": [
    "options = {'n_eql': 5,\n",
    "           'n_prop_steps': 50,\n",
    "            'n_ene_blocks': 1,\n",
    "            'n_sr_blocks': 20,\n",
    "            'n_blocks': 20,\n",
    "            'n_walkers': 30,\n",
    "            'seed': 2,\n",
    "            'walker_type': 'rhf',\n",
    "            'trial': 'cisd',\n",
    "            'dt':0.005,\n",
    "            'ad_mode':None,\n",
    "            }\n",
    "\n",
    "nfrozen = 2\n",
    "norb_act = mol.nao-nfrozen\n",
    "nelec_act = mol.nelectron - 2*nfrozen \n",
    "mo_coeff = mf.mo_coeff\n",
    "chol_cut = 1e-5\n",
    "\n",
    "# print('# Generating Cholesky Integrals')\n",
    "# from pyscf import ao2mo, mcscf\n",
    "# mc = mcscf.CASSCF(mf, norb_act, nelec_act) \n",
    "# mc.frozen = norb_frozen\n",
    "# nelec = mc.nelecas\n",
    "# mc.mo_coeff = mo_coeff\n",
    "# h1e, enuc = mc.get_h1eff()\n",
    "\n",
    "# nbasis = h1e.shape[-1]\n",
    "# if isinstance(norb_frozen, (int, float)) and norb_frozen == 0:\n",
    "#     norb_frozen = []\n",
    "# elif isinstance(norb_frozen, int):\n",
    "#     norb_frozen = np.arange(norb_frozen)\n",
    "# print(f'# frozen orbitals {norb_frozen}')\n",
    "# act = np.array([i for i in range(mol.nao) if i not in norb_frozen])\n",
    "# print(f'# local active orbitals {act}') #yichi\n",
    "# print(f'# local active space size {len(act)}') #yichi\n",
    "# e = ao2mo.kernel(mf.mol,mo_coeff[:,act],compact=False) # in mo representation\n",
    "# print(f'# loc_eris shape: {e.shape}') #yichi\n",
    "# # add e = pyscf_interface.df(mol_mf,e) for selected loc_mos\n",
    "# chol = pyscf_interface.modified_cholesky(e,max_error = chol_cut) # in mo representation\n",
    "# print(f'# chol shape: {chol.shape}') #yichi\n",
    "\n",
    "# print(\"# Finished calculating Cholesky integrals\\n\")\n",
    "# print('# Size of the correlation space:')\n",
    "# print(f'# Number of electrons: {nelec}')\n",
    "# print(f'# Number of basis functions: {nbasis}')\n",
    "# print(f'# Number of Cholesky vectors: {chol.shape[0]}\\n')\n",
    "# chol = chol.reshape((-1, nbasis, nbasis))\n",
    "# v0 = 0.5 * np.einsum('nik,njk->ij', chol, chol, optimize='optimal')\n",
    "# h1e_mod = h1e - v0\n",
    "# chol = chol.reshape((chol.shape[0], -1))\n",
    "\n",
    "lno_ccsd.prep_lno_amp_chol_file(mf,mf.mo_coeff,options,norb_act,nelec_act,\n",
    "                                norb_frozen=nfrozen,t1=t1,t2=t2,\n",
    "                                chol_cut=1e-5,\n",
    "                                option_file='options.bin',\n",
    "                                mo_file=\"mo_coeff.npz\",\n",
    "                                amp_file=\"amplitudes.npz\",\n",
    "                                chol_file=\"FCIDUMP_chol\"\n",
    "                                )"
   ]
  },
  {
   "cell_type": "code",
   "execution_count": 3,
   "id": "68b34331",
   "metadata": {},
   "outputs": [
    {
     "name": "stdout",
     "output_type": "stream",
     "text": [
      "HF energy per molecule [-108.54436058 -108.54436054 -108.54436052 -108.54436051 -108.54436051]\n",
      "CCSD energy per molecule [-108.70757623 -108.70757616 -108.70757614 -108.70757614 -108.70757613]\n"
     ]
    }
   ],
   "source": [
    "print('HF energy per molecule',e_hf/np.arange(1,nn2+1))\n",
    "print('CCSD energy per molecule',e_ccsd_t/np.arange(1,nn2+1))"
   ]
  },
  {
   "cell_type": "code",
   "execution_count": 5,
   "id": "cbe188a6",
   "metadata": {},
   "outputs": [
    {
     "name": "stdout",
     "output_type": "stream",
     "text": [
      "HF energy per molecule [-108.54436058 -108.54436054 -108.54436052 -108.54436051 -108.54436051]\n",
      "CCSD energy per molecule [-108.70787262 -108.70787255 -108.70787253 -108.70787253 -108.70787252]\n"
     ]
    }
   ],
   "source": [
    "print('HF energy per molecule',e_hf/np.arange(1,nn2+1))\n",
    "print('CCSD energy per molecule',e_ccsd_t/np.arange(1,nn2+1))"
   ]
  },
  {
   "cell_type": "code",
   "execution_count": 22,
   "id": "78792c7d",
   "metadata": {},
   "outputs": [
    {
     "name": "stdout",
     "output_type": "stream",
     "text": [
      "[-0.165777   -0.16563    -0.1655121  -0.16558387 -0.1656069  -0.16558316]\n",
      "[0.000228   0.00023702 0.00024223 0.00023858 0.00023926 0.00024   ]\n"
     ]
    }
   ],
   "source": [
    "n_n2 = np.array([1,5,10,15,20,25])\n",
    "e_lno_afqmc = np.array([-0.165777,-0.828150,-1.655121,-2.483758,-3.312138,-4.139579])\n",
    "err =np.array([0.000114,0.000265,0.000383,0.000462,0.000535,0.000600])*2\n",
    "e_per_mol = e_lno_afqmc/n_n2\n",
    "err_per_mol = err/np.sqrt(n_n2)\n",
    "print(e_per_mol)\n",
    "print(err_per_mol)"
   ]
  },
  {
   "cell_type": "code",
   "execution_count": 23,
   "id": "3d9d9b01",
   "metadata": {},
   "outputs": [
    {
     "name": "stdout",
     "output_type": "stream",
     "text": [
      "[-0.167139 -0.166239 -0.166539 -0.165706 -0.165889 -0.166199]\n",
      "[0.0004   0.001789 0.001897 0.002582 0.002236 0.0028  ]\n"
     ]
    }
   ],
   "source": [
    "# afqmc/ccsd\n",
    "e_hf = -108.544360583384*n_n2\n",
    "e_afqmc = np.array([-108.7115,-543.553,-1087.109,-1630.651,-2174.205,-2717.764])\n",
    "afqmc_err =np.array([0.0002,0.002,0.003,0.005,0.005,0.007])*2\n",
    "afqmc_corr_per_mol = (e_afqmc-e_hf)/n_n2\n",
    "afqmc_err_per_mol = afqmc_err/np.sqrt(n_n2)\n",
    "np.set_printoptions(precision=6, suppress=True)\n",
    "print(afqmc_corr_per_mol)\n",
    "print(afqmc_err_per_mol)"
   ]
  },
  {
   "cell_type": "code",
   "execution_count": 24,
   "id": "e6347dce",
   "metadata": {},
   "outputs": [
    {
     "name": "stdout",
     "output_type": "stream",
     "text": [
      "-0.166539644249994\n"
     ]
    }
   ],
   "source": [
    "# afqmc/ccsd frozen -108.7109 +/- 0.0001\n",
    "afqmc_corr = -108.7109+108.54436035575\n",
    "print(afqmc_corr)"
   ]
  },
  {
   "cell_type": "code",
   "execution_count": 25,
   "id": "53608fc6",
   "metadata": {},
   "outputs": [
    {
     "data": {
      "image/png": "[encoded data removed]",
      "text/plain": [
       "<Figure size 640x480 with 1 Axes>"
      ]
     },
     "metadata": {},
     "output_type": "display_data"
    }
   ],
   "source": [
    "plt.errorbar(n_n2,e_per_mol,yerr=err_per_mol,fmt='o',capsize=5,label='lno_afqmc/ccsd')\n",
    "plt.errorbar(n_n2,afqmc_corr_per_mol,yerr=afqmc_err_per_mol,fmt='o',capsize=5,label='afqmc/ccsd Mahajan2024')\n",
    "x = np.linspace(max(n_n2),min(n_n2),100)\n",
    "plt.plot(x,np.array([afqmc_corr]*100),color='black', linestyle='--')\n",
    "plt.fill_between(x, np.array([afqmc_corr]*100) + 0.00006*2, np.array([afqmc_corr]*100) - 0.00006*2, color='blue', alpha=0.4,label='afqmc/ccsd one N2')\n",
    "plt.xlabel('number of N2 molecules')\n",
    "plt.ylabel('correlation energy per molecule (hartree)')\n",
    "plt.title('correlation energy per N2 molecule')\n",
    "plt.legend()\n",
    "plt.show()"
   ]
  },
  {
   "cell_type": "code",
   "execution_count": null,
   "id": "3b771a50",
   "metadata": {},
   "outputs": [],
   "source": [
    "# no frozen -0.165677 +/- 0.000113\n",
    "# mp2 -0.165815"
   ]
  },
  {
   "cell_type": "code",
   "execution_count": 21,
   "id": "26baaac9",
   "metadata": {},
   "outputs": [
    {
     "name": "stdout",
     "output_type": "stream",
     "text": [
      "-0.166539644249994\n"
     ]
    }
   ],
   "source": [
    "# afqmc/ccsd frozen -108.7109 +/- 0.0001\n",
    "afqmc_corr = -108.7109+108.54436035575\n",
    "print(afqmc_corr)"
   ]
  },
  {
   "cell_type": "code",
   "execution_count": null,
   "id": "f98ee269",
   "metadata": {},
   "outputs": [],
   "source": [
    "# lno 1e-6 afqmc/ccsd -0.165560 +/- 0.000112"
   ]
  },
  {
   "cell_type": "code",
   "execution_count": null,
   "id": "dcfb4224",
   "metadata": {},
   "outputs": [],
   "source": []
  }
 ],
 "metadata": {
  "kernelspec": {
   "display_name": "lno_pyscf_afqmc",
   "language": "python",
   "name": "python3"
  },
  "language_info": {
   "codemirror_mode": {
    "name": "ipython",
    "version": 3
   },
   "file_extension": ".py",
   "mimetype": "text/x-python",
   "name": "python",
   "nbconvert_exporter": "python",
   "pygments_lexer": "ipython3",
   "version": "3.10.16"
  }
 },
 "nbformat": 4,
 "nbformat_minor": 5
}
