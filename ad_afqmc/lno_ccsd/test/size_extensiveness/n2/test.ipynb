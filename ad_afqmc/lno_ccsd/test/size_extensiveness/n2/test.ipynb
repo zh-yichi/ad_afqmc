{
 "cells": [
  {
   "cell_type": "code",
   "execution_count": 7,
   "id": "1fa3a673",
   "metadata": {},
   "outputs": [
    {
     "name": "stdout",
     "output_type": "stream",
     "text": [
      "System: uname_result(system='Linux', node='yichi-thinkpad', release='4.4.0-26100-Microsoft', version='#1882-Microsoft Fri Jan 01 08:00:00 PST 2016', machine='x86_64')  Threads 12\n",
      "Python 3.10.16 | packaged by conda-forge | (main, Dec  5 2024, 14:16:10) [GCC 13.3.0]\n",
      "numpy 1.24.3  scipy 1.14.1  h5py 3.12.1\n",
      "Date: Sun Jul  6 18:45:21 2025\n",
      "PySCF version 2.8.0\n",
      "PySCF path  /home/yichi/research/software/lno_pyscf\n",
      "GIT HEAD (branch master) ef75f4190e4de208685670651dc6c467f72b6794\n",
      "\n",
      "[ENV] PYSCF_EXT_PATH /home/yichi/research/software/pyscf\n",
      "[CONFIG] conf_file None\n",
      "[INPUT] verbose = 4\n",
      "[INPUT] num. atoms = 2\n",
      "[INPUT] num. electrons = 14\n",
      "[INPUT] charge = 0\n",
      "[INPUT] spin (= nelec alpha-beta = 2S) = 0\n",
      "[INPUT] symmetry False subgroup None\n",
      "[INPUT] Mole.unit = angstrom\n",
      "[INPUT] Symbol           X                Y                Z      unit          X                Y                Z       unit  Magmom\n",
      "[INPUT]  1 N      0.000000000000   0.000000000000   0.000000000000 AA    0.000000000000   0.000000000000   0.000000000000 Bohr   0.0\n",
      "[INPUT]  2 N      1.120270000000   0.000000000000   0.000000000000 AA    2.117003485567   0.000000000000   0.000000000000 Bohr   0.0\n",
      "\n",
      "nuclear repulsion = 23.1459231569889\n",
      "number of shells = 6\n",
      "number of NR pGTOs = 60\n",
      "number of NR cGTOs = 10\n",
      "basis = sto6g\n",
      "ecp = {}\n"
     ]
    },
    {
     "name": "stdout",
     "output_type": "stream",
     "text": [
      "CPU time:        78.25\n",
      "\n",
      "\n",
      "******** <class 'pyscf.df.df_jk.DFRHF'> ********\n",
      "method = DFRHF\n",
      "initial guess = minao\n",
      "damping factor = 0\n",
      "level_shift factor = 0\n",
      "DIIS = <class 'pyscf.scf.diis.CDIIS'>\n",
      "diis_start_cycle = 1\n",
      "diis_space = 8\n",
      "diis_damp = 0\n",
      "SCF conv_tol = 1e-09\n",
      "SCF conv_tol_grad = None\n",
      "SCF max_cycles = 50\n",
      "direct_scf = False\n",
      "chkfile to save SCF result = /tmp/tmpsq3k5ptj\n",
      "max_memory 4000 MB (current use 265 MB)\n",
      "Set gradient conv threshold to 3.16228e-05\n",
      "Initial guess from minao.\n",
      "******** <class 'pyscf.df.df.DF'> ********\n",
      "auxbasis = None\n",
      "max_memory = 4000\n",
      "ETB for N: l = 0, exps = 0.3693673104 * 2^n , n = 0..12\n",
      "ETB for N: l = 1, exps = 0.3693673104 * 2^n , n = 0..10\n",
      "ETB for N: l = 2, exps = 0.3693673104 * 2^n , n = 0..7\n",
      "\n",
      "WARN: Even tempered Gaussians are generated as DF auxbasis for  N\n",
      "\n",
      "init E= -108.662027017932\n",
      "  HOMO = -0.323306062182832  LUMO = 0.147026723235615\n",
      "cycle= 1 E= -108.544271140947  delta_E= 0.118  |g|= 0.0424  |ddm|= 2.35\n",
      "  HOMO = -0.537713174465995  LUMO = 0.261337103361037\n",
      "cycle= 2 E= -108.544358265039  delta_E= -8.71e-05  |g|= 0.0033  |ddm|= 0.025\n",
      "  HOMO = -0.538205251281703  LUMO = 0.261151619055021\n",
      "cycle= 3 E= -108.544360509929  delta_E= -2.24e-06  |g|= 0.00045  |ddm|= 0.00598\n",
      "  HOMO = -0.538309757220881  LUMO = 0.261115891841833\n",
      "cycle= 4 E= -108.544360583384  delta_E= -7.35e-08  |g|= 1.06e-08  |ddm|= 0.00133\n",
      "  HOMO = -0.538309748720458  LUMO = 0.261115901747737\n",
      "cycle= 5 E= -108.544360583384  delta_E= -1.99e-13  |g|= 5.32e-13  |ddm|= 2.35e-08\n",
      "  HOMO = -0.538309748719949  LUMO = 0.26111590174827\n",
      "Extra cycle  E= -108.544360583384  delta_E= 1.14e-13  |g|= 1.29e-13  |ddm|= 1.16e-12\n",
      "converged SCF energy = -108.544360583384\n",
      "\n",
      "******** <class 'pyscf.cc.dfccsd.RCCSD'> ********\n",
      "CC2 = 0\n",
      "CCSD nocc = 7, nmo = 10\n",
      "max_cycle = 50\n",
      "direct = 0\n",
      "conv_tol = 1e-07\n",
      "conv_tol_normt = 1e-05\n",
      "diis_space = 6\n",
      "diis_start_cycle = 0\n",
      "diis_start_energy_diff = 1e+09\n",
      "max_memory 4000 MB (current use 265 MB)\n",
      "Init t2, MP2 energy = -108.708737361405  E_corr(MP2) -0.164376778021344\n",
      "Init E_corr(RCCSD) = -0.164376778021344\n",
      "cycle = 1  E_corr(RCCSD) = -0.154931659592828  dE = 0.00944511843  norm(t1,t2) = 0.0262865\n",
      "cycle = 2  E_corr(RCCSD) = -0.159077781089296  dE = -0.0041461215  norm(t1,t2) = 0.0163145\n",
      "cycle = 3  E_corr(RCCSD) = -0.160983672184716  dE = -0.0019058911  norm(t1,t2) = 0.00837892\n",
      "cycle = 4  E_corr(RCCSD) = -0.161799679089064  dE = -0.000816006904  norm(t1,t2) = 0.00216945\n",
      "cycle = 5  E_corr(RCCSD) = -0.161656917551746  dE = 0.000142761537  norm(t1,t2) = 0.000407219\n",
      "cycle = 6  E_corr(RCCSD) = -0.161668423738006  dE = -1.15061863e-05  norm(t1,t2) = 9.54007e-05\n",
      "cycle = 7  E_corr(RCCSD) = -0.161672588345376  dE = -4.16460737e-06  norm(t1,t2) = 1.23375e-05\n",
      "cycle = 8  E_corr(RCCSD) = -0.16167190157347  dE = 6.86771906e-07  norm(t1,t2) = 3.30499e-06\n",
      "cycle = 9  E_corr(RCCSD) = -0.161672108976122  dE = -2.07402653e-07  norm(t1,t2) = 9.95643e-07\n",
      "cycle = 10  E_corr(RCCSD) = -0.161672022389563  dE = 8.65865596e-08  norm(t1,t2) = 3.11954e-07\n",
      "RCCSD converged\n",
      "E(RCCSD) = -108.7060326057736  E_corr = -0.1616720223895629\n",
      "RCCSD(T) correction = -0.00184001900009992\n"
     ]
    }
   ],
   "source": [
    "import numpy as np\n",
    "from pyscf import gto, scf, cc\n",
    "\n",
    "nn2 = 1\n",
    "s = 20\n",
    "e_hf = np.zeros(nn2)\n",
    "e_ccsd_t = np.zeros(nn2)\n",
    "\n",
    "def n2(d):\n",
    "    n2 = f'''\n",
    "    N 0 {d} 0\n",
    "    N 1.12027 {d} 0\n",
    "    '''\n",
    "    return n2\n",
    "\n",
    "atoms = ''\n",
    "for i in range(nn2):\n",
    "    atoms += n2(i*s)\n",
    "\n",
    "    mol = gto.M(atom=atoms, basis=\"sto6g\", verbose=4)\n",
    "    mf = scf.RHF(mol).density_fit()\n",
    "    mf.kernel()\n",
    "    e_hf[i] = mf.e_tot\n",
    "\n",
    "    nfrozen = 2*(i+1)\n",
    "    mycc = cc.CCSD(mf)\n",
    "    mycc.kernel()\n",
    "    et = mycc.ccsd_t()\n",
    "    e_ccsd_t[i] = mycc.e_tot+et"
   ]
  },
  {
   "cell_type": "code",
   "execution_count": 2,
   "id": "2619c2b0",
   "metadata": {},
   "outputs": [
    {
     "data": {
      "image/png": "[encoded data removed]",
      "text/plain": [
       "<Figure size 640x480 with 1 Axes>"
      ]
     },
     "metadata": {},
     "output_type": "display_data"
    }
   ],
   "source": [
    "from matplotlib import pyplot as plt\n",
    "plt.plot(np.arange(1,nn2+1),e_hf,'.', label='HF')\n",
    "plt.plot(np.arange(1,nn2+1),e_ccsd_t,'.', label='CCSD')\n",
    "plt.xlabel('Number of N2 molecules')\n",
    "plt.ylabel('Energy (hartree)')\n",
    "plt.legend()\n",
    "plt.show()"
   ]
  },
  {
   "cell_type": "code",
   "execution_count": 3,
   "id": "68b34331",
   "metadata": {},
   "outputs": [
    {
     "name": "stdout",
     "output_type": "stream",
     "text": [
      "HF energy per molecule [-108.54436058 -108.54436054 -108.54436052 -108.54436051 -108.54436051]\n",
      "CCSD energy per molecule [-108.70757623 -108.70757616 -108.70757614 -108.70757614 -108.70757613]\n"
     ]
    }
   ],
   "source": [
    "print('HF energy per molecule',e_hf/np.arange(1,nn2+1))\n",
    "print('CCSD energy per molecule',e_ccsd_t/np.arange(1,nn2+1))"
   ]
  },
  {
   "cell_type": "code",
   "execution_count": 5,
   "id": "cbe188a6",
   "metadata": {},
   "outputs": [
    {
     "name": "stdout",
     "output_type": "stream",
     "text": [
      "HF energy per molecule [-108.54436058 -108.54436054 -108.54436052 -108.54436051 -108.54436051]\n",
      "CCSD energy per molecule [-108.70787262 -108.70787255 -108.70787253 -108.70787253 -108.70787252]\n"
     ]
    }
   ],
   "source": [
    "print('HF energy per molecule',e_hf/np.arange(1,nn2+1))\n",
    "print('CCSD energy per molecule',e_ccsd_t/np.arange(1,nn2+1))"
   ]
  }
 ],
 "metadata": {
  "kernelspec": {
   "display_name": "lno_pyscf_afqmc",
   "language": "python",
   "name": "python3"
  },
  "language_info": {
   "codemirror_mode": {
    "name": "ipython",
    "version": 3
   },
   "file_extension": ".py",
   "mimetype": "text/x-python",
   "name": "python",
   "nbconvert_exporter": "python",
   "pygments_lexer": "ipython3",
   "version": "3.10.16"
  }
 },
 "nbformat": 4,
 "nbformat_minor": 5
}
