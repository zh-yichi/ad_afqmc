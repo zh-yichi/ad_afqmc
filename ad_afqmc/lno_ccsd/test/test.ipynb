{
 "cells": [
  {
   "cell_type": "code",
   "execution_count": 1,
   "metadata": {},
   "outputs": [
    {
     "name": "stdout",
     "output_type": "stream",
     "text": [
      "System: uname_result(system='Linux', node='yichi-thinkpad', release='4.4.0-26100-Microsoft', version='#1882-Microsoft Fri Jan 01 08:00:00 PST 2016', machine='x86_64')  Threads 12\n",
      "Python 3.10.16 | packaged by conda-forge | (main, Dec  5 2024, 14:16:10) [GCC 13.3.0]\n",
      "numpy 1.24.3  scipy 1.14.1  h5py 3.12.1\n",
      "Date: Tue Apr 22 15:04:27 2025\n",
      "PySCF version 2.8.0\n",
      "PySCF path  /home/yichi/research/software/lno_pyscf\n",
      "GIT HEAD (branch master) ef75f4190e4de208685670651dc6c467f72b6794\n",
      "\n",
      "[ENV] PYSCF_EXT_PATH /home/yichi/research/software/pyscf\n",
      "[CONFIG] conf_file None\n",
      "[INPUT] verbose = 4\n",
      "[INPUT] num. atoms = 6\n",
      "[INPUT] num. electrons = 6\n",
      "[INPUT] charge = 0\n",
      "[INPUT] spin (= nelec alpha-beta = 2S) = 0\n",
      "[INPUT] symmetry False subgroup None\n",
      "[INPUT] Mole.unit = angstrom\n",
      "[INPUT] Symbol           X                Y                Z      unit          X                Y                Z       unit  Magmom\n",
      "[INPUT]  1 H      0.000000000000   0.000000000000   0.000000000000 AA    0.000000000000   0.000000000000   0.000000000000 Bohr   0.0\n",
      "[INPUT]  2 H      0.900000000000   0.000000000000   0.000000000000 AA    1.700753512109   0.000000000000   0.000000000000 Bohr   0.0\n",
      "[INPUT]  3 H      1.800000000000   0.000000000000   0.000000000000 AA    3.401507024217   0.000000000000   0.000000000000 Bohr   0.0\n",
      "[INPUT]  4 H      2.700000000000   0.000000000000   0.000000000000 AA    5.102260536326   0.000000000000   0.000000000000 Bohr   0.0\n",
      "[INPUT]  5 H      3.600000000000   0.000000000000   0.000000000000 AA    6.803014048434   0.000000000000   0.000000000000 Bohr   0.0\n",
      "[INPUT]  6 H      4.500000000000   0.000000000000   0.000000000000 AA    8.503767560543   0.000000000000   0.000000000000 Bohr   0.0\n",
      "\n",
      "nuclear repulsion = 5.11537970556\n",
      "number of shells = 6\n",
      "number of NR pGTOs = 36\n",
      "number of NR cGTOs = 6\n",
      "basis = sto6g\n",
      "ecp = {}\n",
      "CPU time:         4.67\n",
      "\n",
      "\n",
      "******** <class 'pyscf.df.df_jk.DFRHF'> ********\n",
      "method = DFRHF\n",
      "initial guess = minao\n",
      "damping factor = 0\n",
      "level_shift factor = 0\n",
      "DIIS = <class 'pyscf.scf.diis.CDIIS'>\n",
      "diis_start_cycle = 1\n",
      "diis_space = 8\n",
      "diis_damp = 0\n",
      "SCF conv_tol = 1e-09\n",
      "SCF conv_tol_grad = None\n",
      "SCF max_cycles = 50\n",
      "direct_scf = False\n",
      "chkfile to save SCF result = /tmp/tmpnwz0inc0\n",
      "max_memory 4000 MB (current use 115 MB)\n",
      "Set gradient conv threshold to 3.16228e-05\n",
      "Initial guess from minao.\n",
      "******** <class 'pyscf.df.df.DF'> ********\n",
      "auxbasis = None\n",
      "max_memory = 4000\n",
      "ETB for H: l = 0, exps = 0.200224856 * 2^n , n = 0..8\n",
      "\n",
      "WARN: Even tempered Gaussians are generated as DF auxbasis for  H\n",
      "\n",
      "init E= -2.6080433920601\n",
      "  HOMO = -0.203266163019552  LUMO = 0.197986854456945\n",
      "cycle= 1 E= -3.17741653866771  delta_E= -0.569  |g|= 0.12  |ddm|= 1.75\n",
      "  HOMO = -0.334611169507381  LUMO = 0.268575558096125\n",
      "cycle= 2 E= -3.18536201482966  delta_E= -0.00795  |g|= 0.0374  |ddm|= 0.261\n",
      "  HOMO = -0.338925743128931  LUMO = 0.286583099383068\n",
      "cycle= 3 E= -3.18633339307158  delta_E= -0.000971  |g|= 0.00682  |ddm|= 0.0898\n",
      "  HOMO = -0.342370238178733  LUMO = 0.287014730459661\n",
      "cycle= 4 E= -3.1863646184888  delta_E= -3.12e-05  |g|= 0.000166  |ddm|= 0.0205\n",
      "  HOMO = -0.342324595969978  LUMO = 0.28696857737949\n",
      "cycle= 5 E= -3.18636462903399  delta_E= -1.05e-08  |g|= 7.78e-06  |ddm|= 0.000247\n",
      "  HOMO = -0.342335415872927  LUMO = 0.286973827379823\n",
      "cycle= 6 E= -3.1863646290737  delta_E= -3.97e-11  |g|= 3.72e-07  |ddm|= 2.37e-05\n",
      "  HOMO = -0.342334997889056  LUMO = 0.28697365407498\n",
      "Extra cycle  E= -3.18636462907379  delta_E= -8.88e-14  |g|= 1.32e-07  |ddm|= 7.57e-07\n",
      "converged SCF energy = -3.18636462907379\n",
      "\n",
      "******** <class 'pyscf.mp.dfmp2.DFMP2'> ********\n",
      "nocc = 3, nmo = 6\n",
      "frozen orbitals 0\n",
      "max_memory 4000 MB (current use 120 MB)\n",
      "E(DFMP2) = -3.24059114328327  E_corr = -0.0542265142094803\n",
      "E(SCS-DFMP2) = -3.24686228780058  E_corr = -0.0604976587267943\n",
      "E_corr(same-spin) = -0.00527787498990239\n",
      "E_corr(oppo-spin) = -0.0489486392195779\n",
      "\n",
      "******** <class 'pyscf.cc.dfccsd.RCCSD'> ********\n",
      "CC2 = 0\n",
      "CCSD nocc = 3, nmo = 6\n",
      "max_cycle = 50\n",
      "direct = 0\n",
      "conv_tol = 1e-07\n",
      "conv_tol_normt = 1e-05\n",
      "diis_space = 6\n",
      "diis_start_cycle = 0\n",
      "diis_start_energy_diff = 1e+09\n",
      "max_memory 4000 MB (current use 121 MB)\n",
      "Init t2, MP2 energy = -3.24059114480275  E_corr(MP2) -0.0542265157289587\n",
      "Init E_corr(RCCSD) = -0.054226515728967\n",
      "cycle = 1  E_corr(RCCSD) = -0.0718601662327362  dE = -0.0176336505  norm(t1,t2) = 0.0535935\n",
      "cycle = 2  E_corr(RCCSD) = -0.0788965234553299  dE = -0.00703635722  norm(t1,t2) = 0.0271493\n",
      "cycle = 3  E_corr(RCCSD) = -0.0847832541514737  dE = -0.0058867307  norm(t1,t2) = 0.0141917\n",
      "cycle = 4  E_corr(RCCSD) = -0.0847666177797843  dE = 1.66363717e-05  norm(t1,t2) = 0.00280996\n",
      "cycle = 5  E_corr(RCCSD) = -0.084700014843205  dE = 6.66029366e-05  norm(t1,t2) = 0.0007565\n",
      "cycle = 6  E_corr(RCCSD) = -0.0847377819218121  dE = -3.77670786e-05  norm(t1,t2) = 0.00016509\n",
      "cycle = 7  E_corr(RCCSD) = -0.0847297522094465  dE = 8.02971237e-06  norm(t1,t2) = 4.42598e-05\n",
      "cycle = 8  E_corr(RCCSD) = -0.0847319503736043  dE = -2.19816416e-06  norm(t1,t2) = 9.87281e-06\n",
      "cycle = 9  E_corr(RCCSD) = -0.0847320669393611  dE = -1.16565757e-07  norm(t1,t2) = 1.01176e-06\n",
      "cycle = 10  E_corr(RCCSD) = -0.0847320427985194  dE = 2.41408416e-08  norm(t1,t2) = 2.81114e-07\n",
      "RCCSD converged\n",
      "E(RCCSD) = -3.271096671872306  E_corr = -0.08473204279851942\n",
      "RCCSD(T) correction = -0.000344894316205056\n",
      "rhf energy is -3.186364629073787\n",
      "ccsd energy is -3.2710966718723062\n",
      "ccsd_t energy is -3.2714415661885115\n",
      "fci_ene: -3.2678125593549305\n"
     ]
    }
   ],
   "source": [
    "import sys\n",
    "import numpy as np\n",
    "from functools import reduce\n",
    "\n",
    "from pyscf.lib import logger\n",
    "from pyscf import lib\n",
    "\n",
    "from ad_afqmc.lno.cc import LNOCCSD\n",
    "\n",
    "from pyscf import gto, scf, mp, cc, fci\n",
    "\n",
    "log = logger.Logger(sys.stdout, 6)\n",
    "\n",
    "a = 0.9\n",
    "nH = 6\n",
    "atoms = \"\"\n",
    "for i in range(nH):\n",
    "    atoms += f\"H {i*a} 0 0 \\n\"\n",
    "\n",
    "mol = gto.M(atom=atoms, basis=\"sto6g\", verbose=4)\n",
    "mf = scf.RHF(mol).density_fit()\n",
    "mf.kernel()\n",
    "\n",
    "frozen = 0\n",
    "mmp = mp.MP2(mf,frozen=frozen)\n",
    "mmp.kernel()[0]\n",
    "\n",
    "# cc\n",
    "mycc = cc.CCSD(mf)\n",
    "mycc.kernel()\n",
    "et = mycc.ccsd_t()\n",
    "\n",
    "# fci\n",
    "cisolver = fci.FCI(mf)\n",
    "fci_ene, fci_vec = cisolver.kernel()\n",
    "\n",
    "print(f'rhf energy is {mf.e_tot}')\n",
    "print(f\"ccsd energy is {mycc.e_tot}\")\n",
    "print(f\"ccsd_t energy is {mycc.e_tot+et}\")\n",
    "print(f\"fci_ene: {fci_ene}\", flush=True)"
   ]
  },
  {
   "cell_type": "code",
   "execution_count": 4,
   "metadata": {},
   "outputs": [
    {
     "name": "stdout",
     "output_type": "stream",
     "text": [
      "#\n",
      "# Preparing AFQMC calculation\n",
      "# Calculating Cholesky integrals\n",
      "# Decomposing ERI with DF\n",
      "# Decomposing ERI with DF\n",
      "# Finished calculating Cholesky integrals\n",
      "#\n",
      "# Size of the correlation space:\n",
      "# Number of electrons: (3, 3)\n",
      "# Number of basis functions: 6\n",
      "# Number of Cholesky vectors: 54\n",
      "#\n"
     ]
    }
   ],
   "source": [
    "from ad_afqmc import pyscf_interface\n",
    "\n",
    "mo_file=\"mo.npz\"\n",
    "chol_file=\"chol\"\n",
    "amp_file=\"amp.npz\"\n",
    "pyscf_interface.prep_afqmc(mf,mo_file=mo_file,amp_file=amp_file,chol_file=chol_file)"
   ]
  },
  {
   "cell_type": "code",
   "execution_count": 6,
   "metadata": {},
   "outputs": [
    {
     "name": "stdout",
     "output_type": "stream",
     "text": [
      "# Hostname: yichi-thinkpad\n",
      "# System Type: Linux\n",
      "# Machine Type: x86_64\n",
      "# Processor: x86_64\n",
      "# Number of MPI ranks: 1\n",
      "#\n",
      "# norb: 6\n",
      "# nelec: (3, 3)\n",
      "#\n",
      "# dt: 0.01\n",
      "# n_exp_terms: 6\n",
      "# n_walkers: 50\n",
      "# n_runs: 10\n",
      "# rlx_steps: 0\n",
      "# prop_steps: 10\n",
      "# seed: 2\n",
      "# walker_type: rhf\n",
      "# trial: rhf\n",
      "# use_gpu: False\n",
      "# free_proj: False\n",
      "# n_prop_steps: 50\n",
      "# n_ene_blocks: 50\n",
      "# n_sr_blocks: 1\n",
      "# n_blocks: 50\n",
      "# n_eql: 1\n",
      "# orbital_rotation: True\n",
      "# do_sr: True\n",
      "# symmetry: False\n",
      "# save_walkers: False\n",
      "# ene0: 0.0\n",
      "# free_projection: False\n",
      "# n_batch: 1\n",
      "# LNO: False\n",
      "# orbE: 0\n",
      "# maxError: 0.001\n",
      "#\n",
      "# initial energy: -3.186365\n",
      "# relaxation from mean-field object using 50 walkers\n",
      "# rlx_step \t energy \n",
      "    0  \t \t -3.186365\n"
     ]
    }
   ],
   "source": [
    "from ad_afqmc.corr_sample_test import corr_sample\n",
    "from ad_afqmc import mpi_jax, config\n",
    "import time\n",
    "\n",
    "options = {\n",
    "    \"dt\": 0.01,\n",
    "    \"n_exp_terms\": 6,\n",
    "    \"n_walkers\": 50,\n",
    "    \"n_runs\": 10,\n",
    "    \"rlx_steps\": 0,\n",
    "    \"prop_steps\": 10,\n",
    "    \"seed\": 2,\n",
    "    \"walker_type\": \"rhf\",\n",
    "    \"trial\": \"rhf\",\n",
    "    \"use_gpu\": False,\n",
    "    \"free_proj\": False,\n",
    "}\n",
    "\n",
    "nwalkers = options[\"n_walkers\"]\n",
    "dt = options[\"dt\"]\n",
    "seed = options[\"seed\"]\n",
    "rlx_steps = options[\"rlx_steps\"]\n",
    "prop_steps = options[\"prop_steps\"]\n",
    "n_runs = options[\"n_runs\"]\n",
    "\n",
    "mo_file=\"mo.npz\"\n",
    "chol_file=\"chol\"\n",
    "amp_file=\"amp.npz\"\n",
    "\n",
    "config.setup_jax()\n",
    "MPI = config.setup_comm()\n",
    "\n",
    "init_time = time.time()\n",
    "comm = MPI.COMM_WORLD\n",
    "rank = comm.Get_rank()  # Process rank\n",
    "size = comm.Get_size()  # Total number of processes\n",
    "\n",
    "ham_data, ham, prop, trial, wave_data, sampler, observable, options, _ \\\n",
    "    = mpi_jax._prep_afqmc(options,mo_file=mo_file,amp_file=amp_file,chol_file=chol_file)\n",
    "\n",
    "prop_data_init, ham_data_init = \\\n",
    "    corr_sample.init_prop(ham_data, ham, prop, trial, wave_data, seed, MPI)\n",
    "\n",
    "\n",
    "if options[\"trial\"] == \"rhf\":\n",
    "    print(f'# relaxation from mean-field object using {nwalkers*size} walkers')\n",
    "if options[\"trial\"] == \"cisd\":\n",
    "    print(f'# relaxation from ccsd object using {nwalkers*size} walkers')\n",
    "print('# rlx_step \\t energy ')\n",
    "print(f'    {0}  \\t \\t {prop_data_init[\"e_estimate\"]:.6f}')"
   ]
  },
  {
   "cell_type": "code",
   "execution_count": 21,
   "metadata": {},
   "outputs": [],
   "source": [
    "walker_test = trial.get_init_walkers(wave_data, 2, restricted=True)"
   ]
  },
  {
   "cell_type": "code",
   "execution_count": 28,
   "metadata": {},
   "outputs": [
    {
     "name": "stdout",
     "output_type": "stream",
     "text": [
      "[[-1.00000000e+00  2.12266284e-16 -4.64163810e-16]\n",
      " [-2.12266284e-16 -1.00000000e+00 -7.62997678e-17]\n",
      " [ 4.64163810e-16  7.62997678e-17 -1.00000000e+00]\n",
      " [ 3.96173559e-16  2.97978703e-16  1.36538564e-16]\n",
      " [ 6.32865877e-18 -7.89682975e-17 -1.80215842e-17]\n",
      " [-1.68789461e-16 -4.39110441e-17  2.10108405e-16]]\n"
     ]
    }
   ],
   "source": [
    "print(wave_data[\"mo_coeff\"])"
   ]
  },
  {
   "cell_type": "code",
   "execution_count": 23,
   "metadata": {},
   "outputs": [
    {
     "name": "stdout",
     "output_type": "stream",
     "text": [
      "[1.+0.j 1.+0.j]\n"
     ]
    }
   ],
   "source": [
    "from jax import numpy as jnp\n",
    "olp = jnp.linalg.det(wave_data[\"mo_coeff\"].T.conj() @ walker_test) ** 2\n",
    "print(olp)"
   ]
  },
  {
   "cell_type": "code",
   "execution_count": 29,
   "metadata": {},
   "outputs": [
    {
     "data": {
      "text/plain": [
       "Array([[ 1.07199371e-31+0.j,  1.00000000e+00+0.j,  1.99814555e-47+0.j],\n",
       "       [-2.28959093e-16+0.j, -9.56296963e-32+0.j, -1.00000000e+00+0.j],\n",
       "       [ 1.00000000e+00+0.j, -9.86076132e-32+0.j, -2.28959093e-16+0.j],\n",
       "       [-4.81751629e-17+0.j, -3.96173559e-16+0.j,  1.28811689e-16+0.j],\n",
       "       [ 1.94331418e-17+0.j, -6.32865877e-18+0.j, -5.94803572e-16+0.j],\n",
       "       [-2.47755569e-16+0.j,  1.68789461e-16+0.j,  8.70227898e-17+0.j]],      dtype=complex128)"
      ]
     },
     "execution_count": 29,
     "metadata": {},
     "output_type": "execute_result"
    }
   ],
   "source": [
    "walker_test[0]"
   ]
  },
  {
   "cell_type": "code",
   "execution_count": 20,
   "metadata": {},
   "outputs": [
    {
     "ename": "KeyError",
     "evalue": "'rot_h1'",
     "output_type": "error",
     "traceback": [
      "\u001b[0;31m---------------------------------------------------------------------------\u001b[0m",
      "\u001b[0;31mKeyError\u001b[0m                                  Traceback (most recent call last)",
      "Cell \u001b[0;32mIn[20], line 4\u001b[0m\n\u001b[1;32m      2\u001b[0m \u001b[38;5;28;01mif\u001b[39;00m \u001b[38;5;124m\"\u001b[39m\u001b[38;5;124mrdm1\u001b[39m\u001b[38;5;124m\"\u001b[39m \u001b[38;5;129;01mnot\u001b[39;00m \u001b[38;5;129;01min\u001b[39;00m wave_data:\n\u001b[1;32m      3\u001b[0m     wave_data[\u001b[38;5;124m\"\u001b[39m\u001b[38;5;124mrdm1\u001b[39m\u001b[38;5;124m\"\u001b[39m] \u001b[38;5;241m=\u001b[39m trial_rdm1\n\u001b[0;32m----> 4\u001b[0m prop_data \u001b[38;5;241m=\u001b[39m \u001b[43mprop\u001b[49m\u001b[38;5;241;43m.\u001b[39;49m\u001b[43minit_prop_data\u001b[49m\u001b[43m(\u001b[49m\u001b[43mtrial\u001b[49m\u001b[43m,\u001b[49m\u001b[43m \u001b[49m\u001b[43mwave_data\u001b[49m\u001b[43m,\u001b[49m\u001b[43m \u001b[49m\u001b[43mham_data\u001b[49m\u001b[43m,\u001b[49m\u001b[43m \u001b[49m\u001b[38;5;28;43;01mNone\u001b[39;49;00m\u001b[43m)\u001b[49m\n",
      "File \u001b[0;32m~/research/software/cs_afqmc/ad_afqmc/propagation.py:226\u001b[0m, in \u001b[0;36mpropagator_restricted.init_prop_data\u001b[0;34m(self, trial, wave_data, ham_data, init_walkers)\u001b[0m\n\u001b[1;32m    221\u001b[0m \u001b[38;5;28;01melse\u001b[39;00m:\n\u001b[1;32m    222\u001b[0m     prop_data[\u001b[38;5;124m\"\u001b[39m\u001b[38;5;124mwalkers\u001b[39m\u001b[38;5;124m\"\u001b[39m] \u001b[38;5;241m=\u001b[39m trial\u001b[38;5;241m.\u001b[39mget_init_walkers(\n\u001b[1;32m    223\u001b[0m         wave_data, \u001b[38;5;28mself\u001b[39m\u001b[38;5;241m.\u001b[39mn_walkers, restricted\u001b[38;5;241m=\u001b[39m\u001b[38;5;28;01mTrue\u001b[39;00m\n\u001b[1;32m    224\u001b[0m     )\n\u001b[1;32m    225\u001b[0m energy_samples \u001b[38;5;241m=\u001b[39m jnp\u001b[38;5;241m.\u001b[39mreal(\n\u001b[0;32m--> 226\u001b[0m     \u001b[43mtrial\u001b[49m\u001b[38;5;241;43m.\u001b[39;49m\u001b[43mcalc_energy\u001b[49m\u001b[43m(\u001b[49m\u001b[43mprop_data\u001b[49m\u001b[43m[\u001b[49m\u001b[38;5;124;43m\"\u001b[39;49m\u001b[38;5;124;43mwalkers\u001b[39;49m\u001b[38;5;124;43m\"\u001b[39;49m\u001b[43m]\u001b[49m\u001b[43m,\u001b[49m\u001b[43m \u001b[49m\u001b[43mham_data\u001b[49m\u001b[43m,\u001b[49m\u001b[43m \u001b[49m\u001b[43mwave_data\u001b[49m\u001b[43m)\u001b[49m\n\u001b[1;32m    227\u001b[0m )\n\u001b[1;32m    228\u001b[0m e_estimate \u001b[38;5;241m=\u001b[39m jnp\u001b[38;5;241m.\u001b[39marray(jnp\u001b[38;5;241m.\u001b[39msum(energy_samples) \u001b[38;5;241m/\u001b[39m \u001b[38;5;28mself\u001b[39m\u001b[38;5;241m.\u001b[39mn_walkers)\n\u001b[1;32m    229\u001b[0m prop_data[\u001b[38;5;124m\"\u001b[39m\u001b[38;5;124me_estimate\u001b[39m\u001b[38;5;124m\"\u001b[39m] \u001b[38;5;241m=\u001b[39m e_estimate\n",
      "File \u001b[0;32m~/research/software/miniconda3/envs/lno_pyscf_afqmc/lib/python3.10/functools.py:926\u001b[0m, in \u001b[0;36msingledispatchmethod.__get__.<locals>._method\u001b[0;34m(*args, **kwargs)\u001b[0m\n\u001b[1;32m    924\u001b[0m \u001b[38;5;28;01mdef\u001b[39;00m\u001b[38;5;250m \u001b[39m\u001b[38;5;21m_method\u001b[39m(\u001b[38;5;241m*\u001b[39margs, \u001b[38;5;241m*\u001b[39m\u001b[38;5;241m*\u001b[39mkwargs):\n\u001b[1;32m    925\u001b[0m     method \u001b[38;5;241m=\u001b[39m \u001b[38;5;28mself\u001b[39m\u001b[38;5;241m.\u001b[39mdispatcher\u001b[38;5;241m.\u001b[39mdispatch(args[\u001b[38;5;241m0\u001b[39m]\u001b[38;5;241m.\u001b[39m\u001b[38;5;18m__class__\u001b[39m)\n\u001b[0;32m--> 926\u001b[0m     \u001b[38;5;28;01mreturn\u001b[39;00m \u001b[43mmethod\u001b[49m\u001b[38;5;241;43m.\u001b[39;49m\u001b[38;5;21;43m__get__\u001b[39;49m\u001b[43m(\u001b[49m\u001b[43mobj\u001b[49m\u001b[43m,\u001b[49m\u001b[43m \u001b[49m\u001b[38;5;28;43mcls\u001b[39;49m\u001b[43m)\u001b[49m\u001b[43m(\u001b[49m\u001b[38;5;241;43m*\u001b[39;49m\u001b[43margs\u001b[49m\u001b[43m,\u001b[49m\u001b[43m \u001b[49m\u001b[38;5;241;43m*\u001b[39;49m\u001b[38;5;241;43m*\u001b[39;49m\u001b[43mkwargs\u001b[49m\u001b[43m)\u001b[49m\n",
      "File \u001b[0;32m~/research/software/cs_afqmc/ad_afqmc/wavefunctions.py:236\u001b[0m, in \u001b[0;36mwave_function._\u001b[0;34m(self, walkers, ham_data, wave_data)\u001b[0m\n\u001b[1;32m    231\u001b[0m     energy_batch \u001b[38;5;241m=\u001b[39m vmap(\u001b[38;5;28mself\u001b[39m\u001b[38;5;241m.\u001b[39m_calc_energy_restricted, in_axes\u001b[38;5;241m=\u001b[39m(\u001b[38;5;241m0\u001b[39m, \u001b[38;5;28;01mNone\u001b[39;00m, \u001b[38;5;28;01mNone\u001b[39;00m))(\n\u001b[1;32m    232\u001b[0m         walker_batch, ham_data, wave_data\n\u001b[1;32m    233\u001b[0m     )\n\u001b[1;32m    234\u001b[0m     \u001b[38;5;28;01mreturn\u001b[39;00m carry, energy_batch\n\u001b[0;32m--> 236\u001b[0m _, energies \u001b[38;5;241m=\u001b[39m \u001b[43mlax\u001b[49m\u001b[38;5;241;43m.\u001b[39;49m\u001b[43mscan\u001b[49m\u001b[43m(\u001b[49m\n\u001b[1;32m    237\u001b[0m \u001b[43m    \u001b[49m\u001b[43mscanned_fun\u001b[49m\u001b[43m,\u001b[49m\n\u001b[1;32m    238\u001b[0m \u001b[43m    \u001b[49m\u001b[38;5;28;43;01mNone\u001b[39;49;00m\u001b[43m,\u001b[49m\n\u001b[1;32m    239\u001b[0m \u001b[43m    \u001b[49m\u001b[43mwalkers\u001b[49m\u001b[38;5;241;43m.\u001b[39;49m\u001b[43mreshape\u001b[49m\u001b[43m(\u001b[49m\u001b[38;5;28;43mself\u001b[39;49m\u001b[38;5;241;43m.\u001b[39;49m\u001b[43mn_batch\u001b[49m\u001b[43m,\u001b[49m\u001b[43m \u001b[49m\u001b[43mbatch_size\u001b[49m\u001b[43m,\u001b[49m\u001b[43m \u001b[49m\u001b[38;5;28;43mself\u001b[39;49m\u001b[38;5;241;43m.\u001b[39;49m\u001b[43mnorb\u001b[49m\u001b[43m,\u001b[49m\u001b[43m \u001b[49m\u001b[38;5;241;43m-\u001b[39;49m\u001b[38;5;241;43m1\u001b[39;49m\u001b[43m)\u001b[49m\u001b[43m,\u001b[49m\n\u001b[1;32m    240\u001b[0m \u001b[43m\u001b[49m\u001b[43m)\u001b[49m\n\u001b[1;32m    241\u001b[0m \u001b[38;5;28;01mreturn\u001b[39;00m energies\u001b[38;5;241m.\u001b[39mreshape(n_walkers)\n",
      "    \u001b[0;31m[... skipping hidden 9 frame]\u001b[0m\n",
      "File \u001b[0;32m~/research/software/cs_afqmc/ad_afqmc/wavefunctions.py:231\u001b[0m, in \u001b[0;36mwave_function._.<locals>.scanned_fun\u001b[0;34m(carry, walker_batch)\u001b[0m\n\u001b[1;32m    230\u001b[0m \u001b[38;5;28;01mdef\u001b[39;00m\u001b[38;5;250m \u001b[39m\u001b[38;5;21mscanned_fun\u001b[39m(carry, walker_batch):\n\u001b[0;32m--> 231\u001b[0m     energy_batch \u001b[38;5;241m=\u001b[39m \u001b[43mvmap\u001b[49m\u001b[43m(\u001b[49m\u001b[38;5;28;43mself\u001b[39;49m\u001b[38;5;241;43m.\u001b[39;49m\u001b[43m_calc_energy_restricted\u001b[49m\u001b[43m,\u001b[49m\u001b[43m \u001b[49m\u001b[43min_axes\u001b[49m\u001b[38;5;241;43m=\u001b[39;49m\u001b[43m(\u001b[49m\u001b[38;5;241;43m0\u001b[39;49m\u001b[43m,\u001b[49m\u001b[43m \u001b[49m\u001b[38;5;28;43;01mNone\u001b[39;49;00m\u001b[43m,\u001b[49m\u001b[43m \u001b[49m\u001b[38;5;28;43;01mNone\u001b[39;49;00m\u001b[43m)\u001b[49m\u001b[43m)\u001b[49m\u001b[43m(\u001b[49m\n\u001b[1;32m    232\u001b[0m \u001b[43m        \u001b[49m\u001b[43mwalker_batch\u001b[49m\u001b[43m,\u001b[49m\u001b[43m \u001b[49m\u001b[43mham_data\u001b[49m\u001b[43m,\u001b[49m\u001b[43m \u001b[49m\u001b[43mwave_data\u001b[49m\n\u001b[1;32m    233\u001b[0m \u001b[43m    \u001b[49m\u001b[43m)\u001b[49m\n\u001b[1;32m    234\u001b[0m     \u001b[38;5;28;01mreturn\u001b[39;00m carry, energy_batch\n",
      "    \u001b[0;31m[... skipping hidden 14 frame]\u001b[0m\n",
      "File \u001b[0;32m~/research/software/cs_afqmc/ad_afqmc/wavefunctions.py:532\u001b[0m, in \u001b[0;36mrhf._calc_energy_restricted\u001b[0;34m(self, walker, ham_data, wave_data)\u001b[0m\n\u001b[1;32m    528\u001b[0m \u001b[38;5;129m@partial\u001b[39m(jit, static_argnums\u001b[38;5;241m=\u001b[39m\u001b[38;5;241m0\u001b[39m)\n\u001b[1;32m    529\u001b[0m \u001b[38;5;28;01mdef\u001b[39;00m\u001b[38;5;250m \u001b[39m\u001b[38;5;21m_calc_energy_restricted\u001b[39m(\n\u001b[1;32m    530\u001b[0m     \u001b[38;5;28mself\u001b[39m, walker: jax\u001b[38;5;241m.\u001b[39mArray, ham_data: \u001b[38;5;28mdict\u001b[39m, wave_data: \u001b[38;5;28mdict\u001b[39m\n\u001b[1;32m    531\u001b[0m ) \u001b[38;5;241m-\u001b[39m\u001b[38;5;241m>\u001b[39m jax\u001b[38;5;241m.\u001b[39mArray:\n\u001b[0;32m--> 532\u001b[0m     h0, rot_h1, rot_chol \u001b[38;5;241m=\u001b[39m ham_data[\u001b[38;5;124m\"\u001b[39m\u001b[38;5;124mh0\u001b[39m\u001b[38;5;124m\"\u001b[39m], \u001b[43mham_data\u001b[49m\u001b[43m[\u001b[49m\u001b[38;5;124;43m\"\u001b[39;49m\u001b[38;5;124;43mrot_h1\u001b[39;49m\u001b[38;5;124;43m\"\u001b[39;49m\u001b[43m]\u001b[49m, ham_data[\u001b[38;5;124m\"\u001b[39m\u001b[38;5;124mrot_chol\u001b[39m\u001b[38;5;124m\"\u001b[39m]\n\u001b[1;32m    533\u001b[0m     ene0 \u001b[38;5;241m=\u001b[39m h0\n\u001b[1;32m    534\u001b[0m     green_walker \u001b[38;5;241m=\u001b[39m \u001b[38;5;28mself\u001b[39m\u001b[38;5;241m.\u001b[39m_calc_green(walker, wave_data)\n",
      "\u001b[0;31mKeyError\u001b[0m: 'rot_h1'"
     ]
    }
   ],
   "source": [
    "trial_rdm1 = trial.get_rdm1(wave_data)\n",
    "if \"rdm1\" not in wave_data:\n",
    "    wave_data[\"rdm1\"] = trial_rdm1\n",
    "prop_data = prop.init_prop_data(trial, wave_data, ham_data, None)"
   ]
  },
  {
   "cell_type": "code",
   "execution_count": 10,
   "metadata": {},
   "outputs": [
    {
     "data": {
      "text/plain": [
       "Array([1.+0.j, 1.+0.j, 1.+0.j, 1.+0.j, 1.+0.j, 1.+0.j, 1.+0.j, 1.+0.j,\n",
       "       1.+0.j, 1.+0.j, 1.+0.j, 1.+0.j, 1.+0.j, 1.+0.j, 1.+0.j, 1.+0.j,\n",
       "       1.+0.j, 1.+0.j, 1.+0.j, 1.+0.j, 1.+0.j, 1.+0.j, 1.+0.j, 1.+0.j,\n",
       "       1.+0.j, 1.+0.j, 1.+0.j, 1.+0.j, 1.+0.j, 1.+0.j, 1.+0.j, 1.+0.j,\n",
       "       1.+0.j, 1.+0.j, 1.+0.j, 1.+0.j, 1.+0.j, 1.+0.j, 1.+0.j, 1.+0.j,\n",
       "       1.+0.j, 1.+0.j, 1.+0.j, 1.+0.j, 1.+0.j, 1.+0.j, 1.+0.j, 1.+0.j,\n",
       "       1.+0.j, 1.+0.j], dtype=complex128)"
      ]
     },
     "execution_count": 10,
     "metadata": {},
     "output_type": "execute_result"
    }
   ],
   "source": [
    "trial.calc_overlap(prop_data_init[\"walkers\"], wave_data)"
   ]
  },
  {
   "cell_type": "code",
   "execution_count": 18,
   "metadata": {},
   "outputs": [
    {
     "name": "stdout",
     "output_type": "stream",
     "text": [
      "[[ 0.1511032  -0.33821699  0.47420513 -0.65207559 -0.71465345 -0.47791398]\n",
      " [ 0.26308475 -0.41474068  0.27818239  0.3566349   0.95178797  0.9508896 ]\n",
      " [ 0.36008369 -0.13884193 -0.44609829  0.56939293 -0.41244245 -1.23234583]\n",
      " [ 0.36008369  0.13884193 -0.44609829 -0.56939293 -0.41244245  1.23234583]\n",
      " [ 0.26308475  0.41474068  0.27818239 -0.3566349   0.95178797 -0.9508896 ]\n",
      " [ 0.1511032   0.33821699  0.47420513  0.65207559 -0.71465345  0.47791398]]\n"
     ]
    }
   ],
   "source": [
    "print(mf.mo_coeff)"
   ]
  },
  {
   "cell_type": "code",
   "execution_count": 15,
   "metadata": {},
   "outputs": [
    {
     "name": "stdout",
     "output_type": "stream",
     "text": [
      "[[ 1.07199371e-31+0.j  1.00000000e+00+0.j  1.99814555e-47+0.j]\n",
      " [-2.28959093e-16+0.j -9.56296963e-32+0.j -1.00000000e+00+0.j]\n",
      " [ 1.00000000e+00+0.j -9.86076132e-32+0.j -2.28959093e-16+0.j]\n",
      " [-4.81751629e-17+0.j -3.96173559e-16+0.j  1.28811689e-16+0.j]\n",
      " [ 1.94331418e-17+0.j -6.32865877e-18+0.j -5.94803572e-16+0.j]\n",
      " [-2.47755569e-16+0.j  1.68789461e-16+0.j  8.70227898e-17+0.j]]\n"
     ]
    }
   ],
   "source": [
    "print(prop_data_init[\"walkers\"][0])"
   ]
  },
  {
   "cell_type": "code",
   "execution_count": null,
   "metadata": {},
   "outputs": [],
   "source": []
  }
 ],
 "metadata": {
  "kernelspec": {
   "display_name": "lno_pyscf_afqmc",
   "language": "python",
   "name": "python3"
  },
  "language_info": {
   "codemirror_mode": {
    "name": "ipython",
    "version": 3
   },
   "file_extension": ".py",
   "mimetype": "text/x-python",
   "name": "python",
   "nbconvert_exporter": "python",
   "pygments_lexer": "ipython3",
   "version": "3.10.16"
  }
 },
 "nbformat": 4,
 "nbformat_minor": 2
}
