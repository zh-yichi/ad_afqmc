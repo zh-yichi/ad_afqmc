{
 "cells": [
  {
   "cell_type": "code",
   "execution_count": 167,
   "id": "47a47fec",
   "metadata": {},
   "outputs": [
    {
     "name": "stdout",
     "output_type": "stream",
     "text": [
      "System: uname_result(system='Linux', node='yichi-thinkpad', release='4.4.0-26100-Microsoft', version='#1882-Microsoft Fri Jan 01 08:00:00 PST 2016', machine='x86_64')  Threads 12\n",
      "Python 3.10.16 | packaged by conda-forge | (main, Dec  5 2024, 14:16:10) [GCC 13.3.0]\n",
      "numpy 1.24.3  scipy 1.14.1  h5py 3.12.1\n",
      "Date: Wed Jul 16 15:38:38 2025\n",
      "PySCF version 2.8.0\n",
      "PySCF path  /home/yichi/research/software/lno_pyscf\n",
      "GIT HEAD (branch master) ef75f4190e4de208685670651dc6c467f72b6794\n",
      "\n",
      "[ENV] PYSCF_EXT_PATH /home/yichi/research/software/pyscf\n",
      "[CONFIG] conf_file None\n",
      "[INPUT] verbose = 4\n",
      "[INPUT] num. atoms = 4\n",
      "[INPUT] num. electrons = 4\n",
      "[INPUT] charge = 0\n",
      "[INPUT] spin (= nelec alpha-beta = 2S) = 0\n",
      "[INPUT] symmetry False subgroup None\n",
      "[INPUT] Mole.unit = angstrom\n",
      "[INPUT] Symbol           X                Y                Z      unit          X                Y                Z       unit  Magmom\n",
      "[INPUT]  1 H      0.000000000000   0.000000000000   0.000000000000 AA    0.000000000000   0.000000000000   0.000000000000 Bohr   0.0\n",
      "[INPUT]  2 H      1.000000000000   0.000000000000   0.000000000000 AA    1.889726124565   0.000000000000   0.000000000000 Bohr   0.0\n",
      "[INPUT]  3 H      2.000000000000   0.000000000000   0.000000000000 AA    3.779452249130   0.000000000000   0.000000000000 Bohr   0.0\n",
      "[INPUT]  4 H      3.000000000000   0.000000000000   0.000000000000 AA    5.669178373695   0.000000000000   0.000000000000 Bohr   0.0\n",
      "\n",
      "nuclear repulsion = 2.29310124732\n",
      "number of shells = 12\n",
      "number of NR pGTOs = 28\n",
      "number of NR cGTOs = 20\n",
      "basis = ccpvdz\n"
     ]
    },
    {
     "name": "stdout",
     "output_type": "stream",
     "text": [
      "ecp = {}\n",
      "CPU time:       172.86\n",
      "\n",
      "\n",
      "******** <class 'pyscf.df.df_jk.DFRHF'> ********\n",
      "method = DFRHF\n",
      "initial guess = minao\n",
      "damping factor = 0\n",
      "level_shift factor = 0\n",
      "DIIS = <class 'pyscf.scf.diis.CDIIS'>\n",
      "diis_start_cycle = 1\n",
      "diis_space = 8\n",
      "diis_damp = 0\n",
      "SCF conv_tol = 1e-09\n",
      "SCF conv_tol_grad = None\n",
      "SCF max_cycles = 50\n",
      "direct_scf = False\n",
      "chkfile to save SCF result = /tmp/tmpc4x76jie\n",
      "max_memory 4000 MB (current use 985 MB)\n",
      "Set gradient conv threshold to 3.16228e-05\n",
      "Initial guess from minao.\n",
      "******** <class 'pyscf.df.df.DF'> ********\n",
      "auxbasis = None\n",
      "max_memory = 4000\n",
      "Default auxbasis cc-pvdz-jkfit is used for H ccpvdz\n",
      "init E= -1.65017133581905\n",
      "  HOMO = -0.321825878209554  LUMO = 0.0325650635953273\n",
      "cycle= 1 E= -2.16142847244588  delta_E= -0.511  |g|= 0.0907  |ddm|= 1.02\n",
      "  HOMO = -0.440368877568953  LUMO = 0.0824150240082916\n",
      "cycle= 2 E= -2.16609297252703  delta_E= -0.00466  |g|= 0.0226  |ddm|= 0.28\n",
      "  HOMO = -0.434670863329405  LUMO = 0.095499477889071\n",
      "cycle= 3 E= -2.1664755825947  delta_E= -0.000383  |g|= 0.00464  |ddm|= 0.0974\n",
      "  HOMO = -0.43608159795047  LUMO = 0.0961677583858401\n",
      "cycle= 4 E= -2.1664930942659  delta_E= -1.75e-05  |g|= 0.00056  |ddm|= 0.0245\n",
      "  HOMO = -0.436211048635999  LUMO = 0.0962216685670322\n",
      "cycle= 5 E= -2.16649330807847  delta_E= -2.14e-07  |g|= 3.1e-05  |ddm|= 0.00199\n",
      "  HOMO = -0.436217547219032  LUMO = 0.096224807686946\n",
      "cycle= 6 E= -2.16649330856767  delta_E= -4.89e-10  |g|= 1.87e-06  |ddm|= 5.11e-05\n",
      "  HOMO = -0.436216429979902  LUMO = 0.0962249072248105\n",
      "Extra cycle  E= -2.16649330856972  delta_E= -2.05e-12  |g|= 4.75e-07  |ddm|= 5.05e-06\n",
      "converged SCF energy = -2.16649330856972\n",
      "\n",
      "\n",
      "******** <class 'pyscf.scf.hf.RHF'> ********\n",
      "method = RHF\n",
      "initial guess = minao\n",
      "damping factor = 0\n",
      "level_shift factor = 0\n",
      "DIIS = <class 'pyscf.scf.diis.CDIIS'>\n",
      "diis_start_cycle = 1\n",
      "diis_space = 8\n",
      "diis_damp = 0\n",
      "SCF conv_tol = 1e-09\n",
      "SCF conv_tol_grad = None\n",
      "SCF max_cycles = 50\n",
      "direct_scf = True\n",
      "direct_scf_tol = 1e-13\n",
      "chkfile to save SCF result = /tmp/tmpot0_4wg8\n",
      "max_memory 4000 MB (current use 988 MB)\n",
      "Set gradient conv threshold to 3.16228e-05\n",
      "Initial guess from minao.\n",
      "init E= -1.65016878193605\n",
      "  HOMO = -0.321825357345337  LUMO = 0.0325662981846438\n",
      "cycle= 1 E= -2.16142775229274  delta_E= -0.511  |g|= 0.0907  |ddm|= 1.02\n",
      "  HOMO = -0.440367308322411  LUMO = 0.082407647803491\n",
      "cycle= 2 E= -2.16609132033987  delta_E= -0.00466  |g|= 0.0226  |ddm|= 0.28\n",
      "  HOMO = -0.434669405319243  LUMO = 0.0954830887147071\n",
      "cycle= 3 E= -2.16647375540301  delta_E= -0.000382  |g|= 0.00464  |ddm|= 0.0973\n",
      "  HOMO = -0.43608001875007  LUMO = 0.0961492322191267\n",
      "cycle= 4 E= -2.16649125163346  delta_E= -1.75e-05  |g|= 0.000559  |ddm|= 0.0245\n",
      "  HOMO = -0.43620954686216  LUMO = 0.0962028535387556\n",
      "cycle= 5 E= -2.1664914652604  delta_E= -2.14e-07  |g|= 3.09e-05  |ddm|= 0.00198\n",
      "  HOMO = -0.436216045558632  LUMO = 0.0962059852666199\n",
      "cycle= 6 E= -2.16649146574796  delta_E= -4.88e-10  |g|= 1.87e-06  |ddm|= 5.09e-05\n",
      "  HOMO = -0.436214929558022  LUMO = 0.0962060857363645\n",
      "Extra cycle  E= -2.16649146575  delta_E= -2.05e-12  |g|= 4.75e-07  |ddm|= 5.06e-06\n",
      "converged SCF energy = -2.16649146575\n",
      "\n",
      "******** <class 'pyscf.cc.dfccsd.RCCSD'> ********\n",
      "CC2 = 0\n",
      "CCSD nocc = 2, nmo = 20\n",
      "max_cycle = 50\n",
      "direct = 0\n",
      "conv_tol = 1e-07\n",
      "conv_tol_normt = 1e-05\n",
      "diis_space = 6\n",
      "diis_start_cycle = 0\n",
      "diis_start_energy_diff = 1e+09\n",
      "max_memory 4000 MB (current use 989 MB)\n",
      "Init t2, MP2 energy = -2.23121294537161  E_corr(MP2) -0.0647196368018947\n",
      "Init E_corr(RCCSD) = -0.0647196368020014\n",
      "cycle = 1  E_corr(RCCSD) = -0.0786097964281208  dE = -0.0138901596  norm(t1,t2) = 0.043284\n",
      "cycle = 2  E_corr(RCCSD) = -0.0831034367536534  dE = -0.00449364033  norm(t1,t2) = 0.0207038\n",
      "cycle = 3  E_corr(RCCSD) = -0.086527889308923  dE = -0.00342445256  norm(t1,t2) = 0.0108568\n",
      "cycle = 4  E_corr(RCCSD) = -0.0865293639054811  dE = -1.47459656e-06  norm(t1,t2) = 0.00220756\n",
      "cycle = 5  E_corr(RCCSD) = -0.0864557527059678  dE = 7.36111995e-05  norm(t1,t2) = 0.000723691\n",
      "cycle = 6  E_corr(RCCSD) = -0.0864788371576251  dE = -2.30844517e-05  norm(t1,t2) = 0.000220903\n",
      "cycle = 7  E_corr(RCCSD) = -0.0864754149238682  dE = 3.42223376e-06  norm(t1,t2) = 2.47167e-05\n",
      "cycle = 8  E_corr(RCCSD) = -0.0864760939068311  dE = -6.78982963e-07  norm(t1,t2) = 4.76917e-06\n",
      "cycle = 9  E_corr(RCCSD) = -0.0864760918683264  dE = 2.03850473e-09  norm(t1,t2) = 7.99942e-07\n",
      "RCCSD converged\n",
      "E(RCCSD) = -2.252969400438045  E_corr = -0.08647609186832636\n",
      "RCCSD(T) correction = -0.000853739115657779\n",
      "ccsd energy is -2.2529694004380447\n",
      "ccsd_t energy is -2.2538231395537025\n"
     ]
    }
   ],
   "source": [
    "from functools import partial\n",
    "from pyscf import gto, scf, cc\n",
    "\n",
    "from jax import config\n",
    "config.update(\"jax_enable_x64\", True)\n",
    "\n",
    "print = partial(print, flush=True)\n",
    "\n",
    "a = 1\n",
    "nH = 4\n",
    "atoms = \"\"\n",
    "for i in range(nH):\n",
    "    atoms += f\"H {i*a} 0 0 \\n\"\n",
    "\n",
    "mol = gto.M(atom=atoms, basis=\"ccpvdz\", verbose=4)\n",
    "mf = scf.RHF(mol).density_fit()\n",
    "mf.kernel()\n",
    "\n",
    "mf2 = scf.RHF(mol)#.density_fit()\n",
    "mf2.kernel()\n",
    "\n",
    "# cc\n",
    "mycc = cc.CCSD(mf)\n",
    "mycc.kernel()\n",
    "et = mycc.ccsd_t()\n",
    "\n",
    "print(f\"ccsd energy is {mycc.e_tot}\")\n",
    "print(f\"ccsd_t energy is {mycc.e_tot+et}\")"
   ]
  },
  {
   "cell_type": "code",
   "execution_count": 168,
   "id": "e63cd9c5",
   "metadata": {},
   "outputs": [],
   "source": [
    "import numpy as np\n",
    "from functools import reduce\n",
    "_fdot = np.dot\n",
    "fdot = lambda *args: reduce(_fdot, args)"
   ]
  },
  {
   "cell_type": "code",
   "execution_count": 138,
   "id": "929b0cf5",
   "metadata": {},
   "outputs": [
    {
     "name": "stdout",
     "output_type": "stream",
     "text": [
      "h0: 2.29310124732\n",
      "df-scf: 2.29310124732 -2.1150449906805138\n",
      "scf: 2.29310124732 -2.1124606989145667\n"
     ]
    }
   ],
   "source": [
    "from pyscf import mcscf\n",
    "mo_coeff = mf.mo_coeff\n",
    "nfrozen = 0\n",
    "norb_act = mol.nao - nfrozen\n",
    "nelec_act = mol.nelectron - 2 * nfrozen\n",
    "mc = mcscf.CASSCF(mf,norb_act,nelec_act) \n",
    "h1e, enuc = mc.get_h1eff()\n",
    "print('h0:',enuc)\n",
    "print('df-scf:',mf.energy_nuc(),mf.e_tot)\n",
    "print('scf:',mf2.energy_nuc(),mf2.e_tot)"
   ]
  },
  {
   "cell_type": "code",
   "execution_count": 169,
   "id": "767575eb",
   "metadata": {},
   "outputs": [],
   "source": [
    "from pyscf import ao2mo\n",
    "eri_pyscf = ao2mo.kernel(mol,mf2.mo_coeff)"
   ]
  },
  {
   "cell_type": "code",
   "execution_count": 170,
   "id": "4f3e52be",
   "metadata": {},
   "outputs": [
    {
     "name": "stdout",
     "output_type": "stream",
     "text": [
      "no_type = ie\n",
      "lo_type = pm\n",
      "LOs span exactly the occupied space.\n",
      "Using single-LO fragment\n",
      "nfrag = 2  nlo = 2\n",
      "frag_atmlist = None\n",
      "frag_lolist = [[0], [1]]\n",
      "frag_nonvlist = None\n",
      "Lov is saved to /tmp/azhckt0z\n",
      "lno thresh [9.999999999999999e-06, 1e-06]\n",
      "\n",
      "\n",
      "******** <class 'pyscf.scf.hf.RHF'> ********\n",
      "method = RHF\n",
      "initial guess = minao\n",
      "damping factor = 0\n",
      "level_shift factor = 0\n",
      "DIIS = <class 'pyscf.scf.diis.CDIIS'>\n",
      "diis_start_cycle = 1\n",
      "diis_space = 8\n",
      "diis_damp = 0\n",
      "SCF conv_tol = 1e-09\n",
      "SCF conv_tol_grad = None\n",
      "SCF max_cycles = 50\n",
      "direct_scf = True\n",
      "direct_scf_tol = 1e-13\n",
      "chkfile to save SCF result = /tmp/tmp6_rok7dk\n",
      "max_memory 4000 MB (current use 991 MB)\n",
      "Set gradient conv threshold to 3.16228e-05\n",
      "Initial guess from minao.\n",
      "init E= -1.65016878193605\n",
      "  HOMO = -0.321825357345338  LUMO = 0.0325662981846424\n",
      "cycle= 1 E= -2.16142775229274  delta_E= -0.511  |g|= 0.0907  |ddm|= 1.02\n",
      "  HOMO = -0.44036730832241  LUMO = 0.0824076478034913\n",
      "cycle= 2 E= -2.16609132033986  delta_E= -0.00466  |g|= 0.0226  |ddm|= 0.28\n",
      "  HOMO = -0.434669405319242  LUMO = 0.095483088714708\n",
      "cycle= 3 E= -2.16647375540301  delta_E= -0.000382  |g|= 0.00464  |ddm|= 0.0973\n",
      "  HOMO = -0.436080018750071  LUMO = 0.0961492322191239\n",
      "cycle= 4 E= -2.16649125163346  delta_E= -1.75e-05  |g|= 0.000559  |ddm|= 0.0245\n",
      "  HOMO = -0.43620954686216  LUMO = 0.0962028535387557\n",
      "cycle= 5 E= -2.1664914652604  delta_E= -2.14e-07  |g|= 3.09e-05  |ddm|= 0.00198\n",
      "  HOMO = -0.436216045558632  LUMO = 0.0962059852666191\n",
      "cycle= 6 E= -2.16649146574796  delta_E= -4.88e-10  |g|= 1.87e-06  |ddm|= 5.09e-05\n",
      "  HOMO = -0.436214929558022  LUMO = 0.0962060857363643\n",
      "Extra cycle  E= -2.16649146575  delta_E= -2.04e-12  |g|= 4.75e-07  |ddm|= 5.06e-06\n",
      "converged SCF energy = -2.16649146575\n",
      "########### running fragment 1 ##########\n",
      "\n",
      "WARN: CCSD detected DF being used in the HF object. MO integrals are computed based on the DF 3-index tensors.\n",
      "It's recommended to use dfccsd.CCSD for the DF-CCSD calculations\n",
      "\n",
      "Init t2, MP2 energy = -2.23165674180871  E_corr(MP2) -0.0651634332389968\n",
      "\n",
      "******** <class 'pyscf.cc.dfccsd.RCCSD'> ********\n",
      "CC2 = 0\n",
      "CCSD nocc = 2, nmo = 20\n",
      "frozen orbitals 0\n",
      "max_cycle = 50\n",
      "direct = 0\n",
      "conv_tol = 1e-07\n",
      "conv_tol_normt = 1e-05\n",
      "diis_space = 6\n",
      "diis_start_cycle = 0\n",
      "diis_start_energy_diff = 1e+09\n",
      "max_memory 4000 MB (current use 991 MB)\n",
      "Init E_corr(RCCSD) = -0.0651634332390565\n",
      "cycle = 1  E_corr(RCCSD) = -0.0754853469601654  dE = -0.0103219137  norm(t1,t2) = 0.0412916\n",
      "cycle = 2  E_corr(RCCSD) = -0.0810994953056764  dE = -0.00561414835  norm(t1,t2) = 0.0221233\n",
      "cycle = 3  E_corr(RCCSD) = -0.0839440166524982  dE = -0.00284452135  norm(t1,t2) = 0.0126031\n",
      "cycle = 4  E_corr(RCCSD) = -0.0860196353170214  dE = -0.00207561866  norm(t1,t2) = 0.00760119\n",
      "cycle = 5  E_corr(RCCSD) = -0.0864166300173117  dE = -0.0003969947  norm(t1,t2) = 0.00318752\n",
      "cycle = 6  E_corr(RCCSD) = -0.0864315254480772  dE = -1.48954308e-05  norm(t1,t2) = 0.00142724\n",
      "cycle = 7  E_corr(RCCSD) = -0.0864755207282567  dE = -4.39952802e-05  norm(t1,t2) = 0.000714618\n",
      "cycle = 8  E_corr(RCCSD) = -0.0864836336863965  dE = -8.11295814e-06  norm(t1,t2) = 0.00027542\n",
      "cycle = 9  E_corr(RCCSD) = -0.0864730470628401  dE = 1.05866236e-05  norm(t1,t2) = 0.000133348\n",
      "cycle = 10  E_corr(RCCSD) = -0.0864767605422162  dE = -3.71347938e-06  norm(t1,t2) = 6.48906e-05\n",
      "cycle = 11  E_corr(RCCSD) = -0.0864747818259618  dE = 1.97871625e-06  norm(t1,t2) = 2.60386e-05\n",
      "cycle = 12  E_corr(RCCSD) = -0.0864757174579211  dE = -9.35631959e-07  norm(t1,t2) = 1.25902e-05\n",
      "cycle = 13  E_corr(RCCSD) = -0.086475824979162  dE = -1.07521241e-07  norm(t1,t2) = 6.76292e-06\n",
      "cycle = 14  E_corr(RCCSD) = -0.086475813055866  dE = 1.1923296e-08  norm(t1,t2) = 3.21192e-06\n",
      "RCCSD converged\n",
      "E(RCCSD) = -2.252969121625583  E_corr = -0.08647581305586599\n",
      "# lno-ccsd correlation energy is: -0.03884313161928661\n",
      "# lo projection on its active NO occ fragment subspace [[-5.55111512e-17 -1.00000000e+00]]\n",
      "# Generating Cholesky Integrals\n",
      "# frozen orbitals: []\n",
      "# local active orbitals: [ 0  1  2  3  4  5  6  7  8  9 10 11 12 13 14 15 16 17 18 19]\n",
      "# local active space size: 20\n",
      "# loc_eris shape: (400, 400)\n",
      "# chol shape: (127, 400)\n",
      "# Finished calculating Cholesky integrals\n",
      "\n",
      "# Size of the correlation space\n",
      "# Number of electrons: (2, 2)\n",
      "# Number of basis functions: 20\n",
      "# Number of Cholesky vectors: 127\n",
      "\n"
     ]
    }
   ],
   "source": [
    "from ad_afqmc.lno.cc import LNOCCSD\n",
    "from pyscf.lib import logger\n",
    "import sys\n",
    "from ad_afqmc.lno.base import lno\n",
    "from ad_afqmc.lno_ccsd import lno_ccsd\n",
    "import numpy as np\n",
    "from functools import reduce\n",
    "log = logger.Logger(sys.stdout, 6)\n",
    "\n",
    "options = {\n",
    "    \"n_eql\": 4,\n",
    "    \"n_ene_blocks\": 1,\n",
    "    \"n_sr_blocks\": 20,\n",
    "    \"n_blocks\": 20,\n",
    "    \"n_walkers\": 5,\n",
    "    \"seed\": 98,\n",
    "    \"trial\": \"cisd\",\n",
    "    \"walker_type\": \"rhf\",\n",
    "    \"dt\":0.005,\n",
    "    \"ene0\": 0,\n",
    "}\n",
    "\n",
    "thresh = 1e-6\n",
    "chol_cut = 1e-6\n",
    "frozen = 0\n",
    "run_frg_list = None\n",
    "lo_type = 'pm'\n",
    "no_type = 'ie' # cim\n",
    "frag_lolist = '1o'\n",
    "\n",
    "_fdot = np.dot\n",
    "fdot = lambda *args: reduce(_fdot, args)\n",
    "\n",
    "if isinstance(thresh, float):\n",
    "    thresh_occ = thresh*10\n",
    "    thresh_vir = thresh\n",
    "else:\n",
    "    thresh_occ, thresh_vir = thresh\n",
    "\n",
    "lno_cc = LNOCCSD(mf, thresh=thresh, frozen=frozen)\n",
    "lno_cc.thresh_occ = thresh_occ\n",
    "lno_cc.thresh_vir = thresh_vir\n",
    "lno_cc.lo_type = lo_type\n",
    "lno_cc.no_type = no_type\n",
    "lno_cc.frag_lolist = frag_lolist\n",
    "lno_cc.ccsd_t = True\n",
    "lno_cc.force_outcore_ao2mo = True\n",
    "\n",
    "frag_atmlist = lno_cc.frag_atmlist\n",
    "s1e = lno_cc._scf.get_ovlp()\n",
    "\n",
    "\n",
    "log.info('no_type = %s', no_type)\n",
    "\n",
    "# LO construction\n",
    "orbloc = lno_cc.get_lo(lo_type=lo_type) # localized active occ orbitals\n",
    "orbactocc = lno_cc.split_mo()[1] # non-localized active occ\n",
    "m = fdot(orbloc.T, s1e, orbactocc)\n",
    "lospanerr = abs(fdot(m.T, m) - np.eye(m.shape[1])).max()\n",
    "if lospanerr > 1e-10:\n",
    "    log.error('LOs do not fully span the occupied space! '\n",
    "                'Max|<occ|LO><LO|occ>| = %e', lospanerr)\n",
    "    raise RuntimeError\n",
    "\n",
    "# check 2: Span(LO) == Span(occ)\n",
    "occspanerr = abs(fdot(m, m.T) - np.eye(m.shape[0])).max()\n",
    "if occspanerr < 1e-10:\n",
    "    log.info('LOs span exactly the occupied space.')\n",
    "    if no_type not in ['ir','ie']:\n",
    "        log.error('\"no_type\" must be \"ir\" or \"ie\".')\n",
    "        raise ValueError\n",
    "else:\n",
    "    log.info('LOs span occupied space plus some virtual space.')\n",
    "\n",
    "# LO assignment to fragments\n",
    "\n",
    "if frag_lolist == '1o':\n",
    "    log.info('Using single-LO fragment') # this is what we use, every active local occ labels a fragment\n",
    "    frag_lolist = [[i] for i in range(orbloc.shape[1])]\n",
    "else: print('Only support single LO fragment!')\n",
    "nfrag = len(frag_lolist)\n",
    "frag_nonvlist = lno_cc.frag_nonvlist\n",
    "\n",
    "# dump info\n",
    "log.info('nfrag = %d  nlo = %d', nfrag, orbloc.shape[1])\n",
    "log.info('frag_atmlist = %s', frag_atmlist)\n",
    "log.info('frag_lolist = %s', frag_lolist)\n",
    "log.info('frag_nonvlist = %s', frag_nonvlist)\n",
    "\n",
    "if not (no_type[0] in 'rei' and no_type[1] in 'rei'):\n",
    "    log.warn('Input no_type \"%s\" is invalid.', no_type)\n",
    "    raise ValueError\n",
    "\n",
    "if frag_nonvlist is None: frag_nonvlist = [[None,None]] * nfrag\n",
    "\n",
    "eris = lno_cc.ao2mo()\n",
    "frozen_mask = lno_cc.get_frozen_mask()\n",
    "thresh_pno = [thresh_occ,thresh_vir]\n",
    "print(f'lno thresh {thresh_pno}')\n",
    "\n",
    "if run_frg_list is None:\n",
    "    run_frg_list = range(nfrag)\n",
    "\n",
    "from jax import random\n",
    "seeds = random.randint(random.PRNGKey(options[\"seed\"]),\n",
    "                    shape=(nfrag,), minval=0, maxval=100000*nfrag)\n",
    "\n",
    "# non df mean-field object\n",
    "mf2 = scf.RHF(mf.mol)\n",
    "mf2.kernel()\n",
    "#e0 = mf2.e_tot\n",
    "\n",
    "# for ifrag in run_frg_list:\n",
    "for ifrag in [0]:\n",
    "    print(f'########### running fragment {ifrag+1} ##########')\n",
    "    #if(len(lno_cc.runfrags)>0):\n",
    "    #    if(ifrag not in lno_cc.runfrags):frag_res[ifrag] = (0,0,0)\n",
    "    fraglo = frag_lolist[ifrag]\n",
    "    orbfragloc = orbloc[:,fraglo] # the specific local active occ\n",
    "    frag_target_nocc, frag_target_nvir = frag_nonvlist[ifrag]\n",
    "    THRESH_INTERNAL = 1e-10\n",
    "    frzfrag, orbfrag, can_orbfrag = lno.make_fpno1(lno_cc, eris, orbfragloc, no_type,\n",
    "                                                THRESH_INTERNAL, thresh_pno,\n",
    "                                                frozen_mask=frozen_mask,\n",
    "                                                frag_target_nocc=frag_target_nocc,\n",
    "                                                frag_target_nvir=frag_target_nvir,\n",
    "                                                canonicalize=False)\n",
    "\n",
    "    ecorr_ccsd,_,t1,t2 = lno_ccsd.cc_impurity_solve(\n",
    "        mf,orbfrag,orbfragloc,frozen=frzfrag,eris=eris,log=log)\n",
    "    print(f'# lno-ccsd correlation energy is: {ecorr_ccsd}')\n",
    "\n",
    "    maskocc = mf.mo_occ>1e-10\n",
    "    nmo = mf.mo_occ.size\n",
    "\n",
    "    if frzfrag is None:\n",
    "        frzfrag = 0\n",
    "    elif isinstance(frzfrag, (list,tuple,np.ndarray)) and len(frzfrag) == 0:\n",
    "        frzfrag = 0\n",
    "\n",
    "    if isinstance(frzfrag, (int,np.integer)):\n",
    "        maskact = np.hstack([np.zeros(frzfrag,dtype=bool),\n",
    "                                np.ones(nmo-frzfrag,dtype=bool)])\n",
    "    elif isinstance(frzfrag, (list,tuple,np.ndarray)):\n",
    "        maskact = np.array([i not in frzfrag for i in range(nmo)])\n",
    "    else:\n",
    "        raise RuntimeError\n",
    "\n",
    "    orbfrzocc = orbfrag[:,~maskact& maskocc]\n",
    "    orbactocc = orbfrag[:, maskact& maskocc]\n",
    "    orbactvir = orbfrag[:, maskact&~maskocc]\n",
    "    orbfrzvir = orbfrag[:,~maskact&~maskocc]\n",
    "    _, nactocc, nactvir, _ = [orb.shape[1]\n",
    "                                            for orb in [orbfrzocc,orbactocc,\n",
    "                                                        orbactvir,orbfrzvir]]\n",
    "    s1e = mf.get_ovlp() if eris is None else eris.s1e\n",
    "    # overlap between the lo and each active NO occ in its fragment\n",
    "    prjlo = fdot(orbfragloc.T, s1e, orbactocc)\n",
    "    print('# lo projection on its active NO occ fragment subspace', prjlo)\n",
    "\n",
    "    options[\"seed\"] = seeds[ifrag]\n",
    "    lno_ccsd.prep_lno_amp_chol_file(\n",
    "        mf2,orbfrag,options,\n",
    "        norb_act=(nactocc+nactvir),nelec_act=nactocc*2,\n",
    "        prjlo=prjlo,norb_frozen=frzfrag,\n",
    "        t1=t1,t2=t2,chol_cut=chol_cut\n",
    "                )\n",
    "    \n",
    "    "
   ]
  },
  {
   "cell_type": "code",
   "execution_count": 171,
   "id": "24b415ba",
   "metadata": {},
   "outputs": [
    {
     "name": "stdout",
     "output_type": "stream",
     "text": [
      "# Hostname: yichi-thinkpad\n",
      "# System Type: Linux\n",
      "# Machine Type: x86_64\n",
      "# Processor: x86_64\n",
      "# Hostname: yichi-thinkpad\n",
      "# System Type: Linux\n",
      "# Machine Type: x86_64\n",
      "# Processor: x86_64\n",
      "# Number of MPI ranks: 1\n",
      "#\n",
      "# norb: 20\n",
      "# nelec: (2, 2)\n",
      "# nchol: 127\n",
      "#\n",
      "# n_eql: 4\n",
      "# n_ene_blocks: 1\n",
      "# n_sr_blocks: 20\n",
      "# n_blocks: 20\n",
      "# n_walkers: 5\n",
      "# seed: 178631\n",
      "# trial: cisd\n",
      "# walker_type: rhf\n",
      "# dt: 0.005\n",
      "# ene0: 0\n",
      "# n_exp_terms: 6\n",
      "# n_prop_steps: 50\n",
      "# orbital_rotation: True\n",
      "# do_sr: True\n",
      "# symmetry: False\n",
      "# save_walkers: False\n",
      "# free_projection: False\n",
      "# n_batch: 1\n",
      "# use_gpu: False\n",
      "#\n"
     ]
    }
   ],
   "source": [
    "from ad_afqmc import config, wavefunctions\n",
    "from jax import numpy as jnp\n",
    "from jax import random\n",
    "config.setup_jax()\n",
    "MPI = config.setup_comm()\n",
    "\n",
    "ham_data, ham, prop, trial, wave_data, sampler, observable, options, _ = (\n",
    "    lno_ccsd.prep_lnoccsd_afqmc())\n",
    "\n",
    "comm = MPI.COMM_WORLD\n",
    "rank = comm.Get_rank()  # Process rank\n",
    "size = comm.Get_size() \n",
    "\n",
    "seed = options[\"seed\"]\n",
    "propagator = prop\n",
    "init_walkers = None\n",
    "ham_data = wavefunctions.rhf(trial.norb, trial.nelec,n_batch=trial.n_batch\n",
    "                                )._build_measurement_intermediates(ham_data, wave_data)\n",
    "ham_data = ham.build_measurement_intermediates(ham_data, trial, wave_data)\n",
    "ham_data = ham.build_propagation_intermediates(ham_data, propagator, trial, wave_data)\n",
    "\n",
    "prop_data = propagator.init_prop_data(trial, wave_data, ham_data, init_walkers)\n",
    "if jnp.abs(jnp.sum(prop_data[\"overlaps\"])) < 1.0e-6:\n",
    "    raise ValueError(\n",
    "        \"Initial overlaps are zero. Pass walkers with non-zero overlap.\"\n",
    "    )\n",
    "prop_data[\"key\"] = random.PRNGKey(seed + rank)\n",
    "\n",
    "prop_data[\"overlaps\"] = trial.calc_overlap(prop_data[\"walkers\"], wave_data)\n",
    "prop_data[\"n_killed_walkers\"] = 0\n",
    "prop_data[\"pop_control_ene_shift\"] = prop_data[\"e_estimate\"]"
   ]
  },
  {
   "cell_type": "code",
   "execution_count": 172,
   "id": "259e621b",
   "metadata": {},
   "outputs": [
    {
     "name": "stdout",
     "output_type": "stream",
     "text": [
      "afqmc/ccsd init energy: -2.2529811155354986\n",
      "mean-field energy: -2.166491465750002\n",
      "afqmc/ccsd init correlation energy: -0.08648964978549678\n",
      "df-ccsd init correlation energy: -0.0864760918683265\n"
     ]
    }
   ],
   "source": [
    "walker = prop_data['walkers'][0]\n",
    "e_init = jnp.real(trial._calc_energy_restricted(walker,ham_data,wave_data))\n",
    "print('afqmc/ccsd init energy:',e_init)\n",
    "print('mean-field energy:',mf2.e_tot)\n",
    "e_corr_init = e_init - mf2.e_tot\n",
    "print('afqmc/ccsd init correlation energy:',e_corr_init)\n",
    "print('df-ccsd init correlation energy:',mycc.e_tot-mf.e_tot)"
   ]
  },
  {
   "cell_type": "code",
   "execution_count": 79,
   "id": "be3023d9",
   "metadata": {},
   "outputs": [
    {
     "data": {
      "text/plain": [
       "(11, 16)"
      ]
     },
     "execution_count": 79,
     "metadata": {},
     "output_type": "execute_result"
    }
   ],
   "source": [
    "ham_data['chol'].shape"
   ]
  },
  {
   "cell_type": "code",
   "execution_count": 173,
   "id": "ed2036ef",
   "metadata": {},
   "outputs": [
    {
     "data": {
      "text/plain": [
       "Array(-0.08648967, dtype=float64)"
      ]
     },
     "execution_count": 173,
     "metadata": {},
     "output_type": "execute_result"
    }
   ],
   "source": [
    "lno_ccsd._tot_ccsd_cr(walker,ham_data,wave_data,trial,1e-5)"
   ]
  },
  {
   "cell_type": "code",
   "execution_count": 3,
   "id": "9d6cc647",
   "metadata": {},
   "outputs": [
    {
     "name": "stdout",
     "output_type": "stream",
     "text": [
      "# Generating Cholesky Integrals\n",
      "# frozen orbitals: []\n",
      "# local active orbitals: [0 1 2 3]\n",
      "# local active space size: 4\n",
      "# loc_eris shape: (16, 16)\n",
      "# chol shape: (10, 16)\n",
      "# Finished calculating Cholesky integrals\n",
      "\n",
      "# Size of the correlation space\n",
      "# Number of electrons: (2, 2)\n",
      "# Number of basis functions: 4\n",
      "# Number of Cholesky vectors: 10\n",
      "\n"
     ]
    }
   ],
   "source": [
    "from ad_afqmc import wavefunctions, config\n",
    "from jax import numpy as jnp\n",
    "from jax import random\n",
    "from jax import config\n",
    "config.update(\"jax_enable_x64\", True)\n",
    "mo_coeff = mf.mo_coeff\n",
    "nfrozen = 0\n",
    "norb_act = mol.nao - nfrozen\n",
    "nelec_act = mol.nelectron - 2 * nfrozen\n",
    "t1 = mycc.t1\n",
    "t2 = mycc.t2\n",
    "\n",
    "options = {\n",
    "    \"n_eql\": 4,\n",
    "    \"n_ene_blocks\": 1,\n",
    "    \"n_sr_blocks\": 20,\n",
    "    \"n_blocks\": 20,\n",
    "    \"n_walkers\": 5,\n",
    "    \"seed\": 98,\n",
    "    \"trial\": \"cisd\",\n",
    "    \"walker_type\": \"rhf\",\n",
    "    \"dt\":0.005,\n",
    "    \"ene0\": 0,\n",
    "}\n",
    "\n",
    "from ad_afqmc.lno_ccsd import lno_ccsd\n",
    "lno_ccsd.prep_lno_amp_chol_file(mf,mo_coeff,options,norb_act=norb_act,nelec_act=nelec_act,\n",
    "                                prjlo=[],norb_frozen=nfrozen,t1=t1,t2=t2,\n",
    "                                chol_cut=1e-7,\n",
    "                                option_file='options.bin',\n",
    "                                mo_file=\"mo_coeff.npz\",\n",
    "                                amp_file=\"amplitudes.npz\",\n",
    "                                chol_file=\"FCIDUMP_chol\"\n",
    "                                )"
   ]
  },
  {
   "cell_type": "code",
   "execution_count": 5,
   "id": "d6ae9f12",
   "metadata": {},
   "outputs": [
    {
     "name": "stdout",
     "output_type": "stream",
     "text": [
      "# Hostname: yichi-thinkpad\n",
      "# System Type: Linux\n",
      "# Machine Type: x86_64\n",
      "# Processor: x86_64\n",
      "# Number of MPI ranks: 1\n",
      "#\n",
      "# norb: 4\n",
      "# nelec: (2, 2)\n",
      "# nchol: 10\n",
      "#\n",
      "# n_eql: 4\n",
      "# n_ene_blocks: 1\n",
      "# n_sr_blocks: 20\n",
      "# n_blocks: 20\n",
      "# n_walkers: 5\n",
      "# seed: 98\n",
      "# trial: cisd\n",
      "# walker_type: rhf\n",
      "# dt: 0.005\n",
      "# ene0: 0\n",
      "# n_exp_terms: 6\n",
      "# n_prop_steps: 50\n",
      "# orbital_rotation: True\n",
      "# do_sr: True\n",
      "# symmetry: False\n",
      "# save_walkers: False\n",
      "# free_projection: False\n",
      "# n_batch: 1\n",
      "# use_gpu: False\n",
      "#\n"
     ]
    }
   ],
   "source": [
    "ham_data, ham, prop, trial, wave_data, sampler, observable, options, _ = (\n",
    "    lno_ccsd.prep_lnoccsd_afqmc())"
   ]
  },
  {
   "cell_type": "code",
   "execution_count": 143,
   "id": "97b9890b",
   "metadata": {},
   "outputs": [
    {
     "name": "stdout",
     "output_type": "stream",
     "text": [
      "# Hostname: yichi-thinkpad\n",
      "# System Type: Linux\n",
      "# Machine Type: x86_64\n",
      "# Processor: x86_64\n"
     ]
    }
   ],
   "source": [
    "from ad_afqmc import config\n",
    "config.setup_jax()\n",
    "MPI = config.setup_comm()\n",
    "\n",
    "comm = MPI.COMM_WORLD\n",
    "rank = comm.Get_rank()  # Process rank\n",
    "size = comm.Get_size() \n",
    "\n",
    "seed = options[\"seed\"]\n",
    "propagator = prop\n",
    "init_walkers = None\n",
    "ham_data = wavefunctions.rhf(trial.norb, trial.nelec,n_batch=trial.n_batch\n",
    "                                )._build_measurement_intermediates(ham_data, wave_data)\n",
    "ham_data = ham.build_measurement_intermediates(ham_data, trial, wave_data)\n",
    "ham_data = ham.build_propagation_intermediates(ham_data, propagator, trial, wave_data)\n",
    "\n",
    "prop_data = propagator.init_prop_data(trial, wave_data, ham_data, init_walkers)\n",
    "if jnp.abs(jnp.sum(prop_data[\"overlaps\"])) < 1.0e-6:\n",
    "    raise ValueError(\n",
    "        \"Initial overlaps are zero. Pass walkers with non-zero overlap.\"\n",
    "    )\n",
    "prop_data[\"key\"] = random.PRNGKey(seed + rank)\n",
    "\n",
    "prop_data[\"overlaps\"] = trial.calc_overlap(prop_data[\"walkers\"], wave_data)\n",
    "prop_data[\"n_killed_walkers\"] = 0\n",
    "prop_data[\"pop_control_ene_shift\"] = prop_data[\"e_estimate\"]"
   ]
  },
  {
   "cell_type": "code",
   "execution_count": 147,
   "id": "101adaec",
   "metadata": {},
   "outputs": [
    {
     "name": "stdout",
     "output_type": "stream",
     "text": [
      "-2.1812025822009646\n",
      "-0.06874188328639974\n",
      "-0.06902628862909266\n"
     ]
    }
   ],
   "source": [
    "walker = prop_data['walkers'][0]\n",
    "e_init = jnp.real(trial._calc_energy_restricted(walker,ham_data,wave_data))\n",
    "print(e_init)\n",
    "e_corr_init = e_init - mf2.e_tot\n",
    "print(e_corr_init)\n",
    "print(mycc.e_tot-mf.e_tot)"
   ]
  },
  {
   "cell_type": "code",
   "execution_count": 152,
   "id": "51519fb9",
   "metadata": {},
   "outputs": [
    {
     "name": "stdout",
     "output_type": "stream",
     "text": [
      "afqmc/ccsd e_corr: -0.068741883\n",
      "tot_lno_afqmc/ccsd e_corr: -0.068816867\n"
     ]
    }
   ],
   "source": [
    "print(f'afqmc/ccsd e_corr: {jnp.real(trial._calc_energy_restricted(walker,ham_data,wave_data))-mf2.e_tot:.9f}')\n",
    "print(f'tot_lno_afqmc/ccsd e_corr: {lno_ccsd._tot_ccsd_cr(walker,ham_data,wave_data,trial,1e-5):.9f}')"
   ]
  },
  {
   "cell_type": "code",
   "execution_count": 165,
   "id": "aab0029b",
   "metadata": {},
   "outputs": [],
   "source": [
    "import jax\n",
    "from jax import lax, vmap, jvp, random, jit\n",
    "def _tot_ccsd_cr(\n",
    "    walker: jax.Array,\n",
    "    ham_data: dict,\n",
    "    wave_data: dict,\n",
    "    trial: wavefunctions,\n",
    "    eps :float = 1e-5\n",
    "):\n",
    "    \"\"\"Calculates local energy using AD and finite difference for the two body term\"\"\"\n",
    "\n",
    "    norb = trial.norb\n",
    "    chol = ham_data[\"chol\"].reshape(-1, norb, norb)\n",
    "    h1 = (ham_data[\"h1\"][0] + ham_data[\"h1\"][1]) / 2.0\n",
    "    # v1 the one-body energy from the reordering of the \n",
    "    # two-body operators into non-normal ordered form\n",
    "    v0 = 0.5 * jnp.einsum(\"gik,gjk->ij\",chol,chol,optimize=\"optimal\")\n",
    "    h1_mod = h1 - v0\n",
    "    ccsd_olp = trial._calc_overlap_restricted(walker, wave_data)\n",
    "\n",
    "    # zero body\n",
    "    h0_E0 = ham_data[\"h0\"]-ham_data[\"E0\"]\n",
    "    print(h0_E0)\n",
    "    mod_olp = lno_ccsd._modified_ccsd_olp_restricted(walker,wave_data)\n",
    "\n",
    "    # one body\n",
    "    x = 0.0\n",
    "    f1 = lambda a: lno_ccsd._olp_exp1(a,h1_mod,walker,wave_data)\n",
    "    _, d_overlap = jvp(f1, [x], [1.0])\n",
    "\n",
    "    # two body\n",
    "    # carry: [eps, walker, wave_data]\n",
    "    def scanned_fun(carry, x):\n",
    "        eps, walker, wave_data = carry\n",
    "        return carry, lno_ccsd._olp_exp2(eps,x,walker,wave_data)\n",
    "\n",
    "    _, overlap_p = lax.scan(scanned_fun, (eps, walker, wave_data), chol)\n",
    "    _, overlap_0 = lax.scan(scanned_fun, (0.0, walker, wave_data), chol)\n",
    "    _, overlap_m = lax.scan(scanned_fun, (-1.0 * eps, walker, wave_data), chol)\n",
    "    d_2_overlap = (overlap_p - 2.0 * overlap_0 + overlap_m) / eps / eps\n",
    "\n",
    "    ccsd_cr0 = jnp.real(h0_E0*mod_olp/ccsd_olp)\n",
    "    ccsd_cr1 = jnp.real(d_overlap/ccsd_olp)\n",
    "    ccsd_cr2 = jnp.real(0.5*jnp.sum(d_2_overlap)/ccsd_olp)\n",
    "\n",
    "    ccsd_cr = jnp.real((h0_E0*mod_olp+d_overlap+jnp.sum(d_2_overlap)/2.0)/ccsd_olp)\n",
    "\n",
    "    return ccsd_cr0,ccsd_cr1,ccsd_cr2,ccsd_cr"
   ]
  },
  {
   "cell_type": "code",
   "execution_count": 155,
   "id": "adc871c6",
   "metadata": {},
   "outputs": [],
   "source": [
    "def _afqmc_ccsd_energy(\n",
    "        walker: jax.Array, ham_data: dict, wave_data: dict, trial\n",
    ") -> complex:\n",
    "    ci1, ci2 = wave_data[\"ci1\"], wave_data[\"ci2\"]\n",
    "    norb = trial.norb\n",
    "    nocc = trial.nelec[0]\n",
    "    green = (walker.dot(jnp.linalg.inv(walker[:nocc, :]))).T\n",
    "    green_occ = green[:, nocc:].copy()\n",
    "    greenp = jnp.vstack((green_occ, -jnp.eye(norb - nocc)))\n",
    "\n",
    "    chol = ham_data[\"chol\"].reshape(-1, norb, norb)\n",
    "    rot_chol = ham_data[\"rot_chol\"]\n",
    "    #rot_chol = chol[:, : nocc, :]\n",
    "    h1 = (ham_data[\"h1\"][0] + ham_data[\"h1\"][1]) / 2.0\n",
    "    hg = jnp.einsum(\"pj,pj->\", h1[:nocc, :], green)\n",
    "\n",
    "    # 0 body energy\n",
    "    e0 = jnp.real(ham_data[\"h0\"])\n",
    "\n",
    "    # 1 body energy\n",
    "    # ref\n",
    "    e1_0 = 2 * hg\n",
    "\n",
    "    # single excitations\n",
    "    ci1g = jnp.einsum(\"pt,pt->\", ci1, green_occ, optimize=\"optimal\")\n",
    "    e1_1_1 = 4 * ci1g * hg\n",
    "    gpci1 = greenp @ ci1.T\n",
    "    ci1_green = gpci1 @ green\n",
    "    e1_1_2 = -2 * jnp.einsum(\"ij,ij->\", h1, ci1_green, optimize=\"optimal\")\n",
    "    e1_1 = e1_1_1 + e1_1_2\n",
    "\n",
    "    # double excitations\n",
    "    ci2g_c = jnp.einsum(\"ptqu,pt->qu\", ci2, green_occ)\n",
    "    ci2g_e = jnp.einsum(\"ptqu,pu->qt\", ci2, green_occ)\n",
    "    ci2_green_c = (greenp @ ci2g_c.T) @ green\n",
    "    ci2_green_e = (greenp @ ci2g_e.T) @ green\n",
    "    ci2_green = 2 * ci2_green_c - ci2_green_e\n",
    "    ci2g = 2 * ci2g_c - ci2g_e\n",
    "    gci2g = jnp.einsum(\"qu,qu->\", ci2g, green_occ, optimize=\"optimal\")\n",
    "    e1_2_1 = 2 * hg * gci2g\n",
    "    e1_2_2 = -2 * jnp.einsum(\"ij,ij->\", h1, ci2_green, optimize=\"optimal\")\n",
    "    e1_2 = e1_2_1 + e1_2_2\n",
    "    # e1 = e1_0 + e1_1 + e1_2\n",
    "    ecorr1 = e1_1 + e1_2\n",
    "\n",
    "    # two body energy\n",
    "    # ref\n",
    "    lg = jnp.einsum(\"gpj,pj->g\", rot_chol, green, optimize=\"optimal\")\n",
    "    # lg1 = jnp.einsum(\"gpj,pk->gjk\", rot_chol, green, optimize=\"optimal\")\n",
    "    lg1 = jnp.einsum(\"gpj,qj->gpq\", rot_chol, green, optimize=\"optimal\")\n",
    "    e2_0_1 = 2 * lg @ lg\n",
    "    e2_0_2 = -jnp.sum(vmap(lambda x: x * x.T)(lg1))\n",
    "    e2_0 = e2_0_1 + e2_0_2\n",
    "\n",
    "    # single excitations\n",
    "    e2_1_1 = 2 * e2_0 * ci1g\n",
    "    lci1g = jnp.einsum(\"gij,ij->g\", chol, ci1_green, optimize=\"optimal\")\n",
    "    e2_1_2 = -2 * (lci1g @ lg)\n",
    "    # lci1g1 = jnp.einsum(\"gij,jk->gik\", chol, ci1_green, optimize=\"optimal\")\n",
    "    # glgpci1 = jnp.einsum((\"gpi,iq->gpq\"), gl, gpci1, optimize=\"optimal\")\n",
    "    ci1g1 = ci1 @ green_occ.T\n",
    "    # e2_1_3 = jnp.einsum(\"gpq,gpq->\", glgpci1, lg1, optimize=\"optimal\")\n",
    "    e2_1_3_1 = jnp.einsum(\"gpq,gqr,rp->\", lg1, lg1, ci1g1, optimize=\"optimal\")\n",
    "    lci1g = jnp.einsum(\"gip,qi->gpq\", ham_data[\"lci1\"], green, optimize=\"optimal\")\n",
    "    e2_1_3_2 = -jnp.einsum(\"gpq,gqp->\", lci1g, lg1, optimize=\"optimal\")\n",
    "    e2_1_3 = e2_1_3_1 + e2_1_3_2\n",
    "    e2_1 = e2_1_1 + 2 * (e2_1_2 + e2_1_3)\n",
    "\n",
    "    # double excitations\n",
    "    e2_2_1 = e2_0 * gci2g\n",
    "    lci2g = jnp.einsum(\"gij,ij->g\", chol, ci2_green, optimize=\"optimal\")\n",
    "    e2_2_2_1 = -lci2g @ lg\n",
    "\n",
    "    # lci2g1 = jnp.einsum(\"gij,jk->gik\", chol, ci2_green, optimize=\"optimal\")\n",
    "    # lci2_green = jnp.einsum(\"gpi,ji->gpj\", rot_chol, ci2_green, optimize=\"optimal\")\n",
    "    # e2_2_2_2 = 0.5 * jnp.einsum(\"gpi,gpi->\", gl, lci2_green, optimize=\"optimal\")\n",
    "    def scanned_fun(carry, x):\n",
    "        chol_i, rot_chol_i = x\n",
    "        gl_i = jnp.einsum(\"pj,ji->pi\", green, chol_i, optimize=\"optimal\")\n",
    "        lci2_green_i = jnp.einsum(\n",
    "            \"pi,ji->pj\", rot_chol_i, ci2_green, optimize=\"optimal\"\n",
    "        )\n",
    "        carry[0] += 0.5 * jnp.einsum(\n",
    "            \"pi,pi->\", gl_i, lci2_green_i, optimize=\"optimal\"\n",
    "        )\n",
    "        glgp_i = jnp.einsum(\"pi,it->pt\", gl_i, greenp, optimize=\"optimal\").astype(\n",
    "            jnp.complex64\n",
    "        )\n",
    "        l2ci2_1 = jnp.einsum(\n",
    "            \"pt,qu,ptqu->\",\n",
    "            glgp_i,\n",
    "            glgp_i,\n",
    "            ci2.astype(jnp.float32),\n",
    "            optimize=\"optimal\",\n",
    "        )\n",
    "        l2ci2_2 = jnp.einsum(\n",
    "            \"pu,qt,ptqu->\",\n",
    "            glgp_i,\n",
    "            glgp_i,\n",
    "            ci2.astype(jnp.float32),\n",
    "            optimize=\"optimal\",\n",
    "        )\n",
    "        carry[1] += 2 * l2ci2_1 - l2ci2_2\n",
    "        return carry, 0.0\n",
    "\n",
    "    [e2_2_2_2, e2_2_3], _ = lax.scan(scanned_fun, [0.0, 0.0], (chol, rot_chol))\n",
    "    e2_2_2 = 4 * (e2_2_2_1 + e2_2_2_2)\n",
    "\n",
    "    e2_2 = e2_2_1 + e2_2_2 + e2_2_3\n",
    "\n",
    "    # e2 = e2_0 + e2_1 + e2_2\n",
    "    e1_0 = jnp.real(e1_0)\n",
    "    e2_0 = jnp.real(e2_0)\n",
    "    e_mf = jnp.real(e0+e1_0+e2_0)\n",
    "    ecorr2 = e2_1 + e2_2\n",
    "\n",
    "    # overlap\n",
    "    overlap_1 = 2 * ci1g  # jnp.einsum(\"ia,ia\", ci1, green_occ)\n",
    "    overlap_2 = gci2g\n",
    "    overlap = 1.0 + overlap_1 + overlap_2\n",
    "\n",
    "    ecorr1 = jnp.real(ecorr1/overlap)\n",
    "    ecorr2 = jnp.real(ecorr2/overlap)\n",
    "    ecorr = jnp.real(ecorr1 + ecorr2)\n",
    "\n",
    "    return e0, e1_0, e2_0, e_mf, ecorr1, ecorr2, ecorr #(e1 + e2) / overlap + e0"
   ]
  },
  {
   "cell_type": "code",
   "execution_count": 174,
   "id": "60f2cae1",
   "metadata": {},
   "outputs": [
    {
     "name": "stdout",
     "output_type": "stream",
     "text": [
      "afqmc/ccsd mean-field energy -2.1664914655592726\n",
      "scf mean-field energy: -2.166491465750002\n",
      "afqmc/ccsd sum single-double excitation terms: -0.086489649976226\n",
      "tot afqmc/ccsd energy: -2.2529811155354986\n",
      "tot_lno_afqmc/ccsd correlation energy: -0.08648967204852878\n"
     ]
    }
   ],
   "source": [
    "e0, e1_0, e2_0, e_mf, ecorr1, ecorr2, ecorr \\\n",
    "    = _afqmc_ccsd_energy(walker,ham_data,wave_data,trial)\n",
    "print('afqmc/ccsd mean-field energy', e_mf)\n",
    "print('scf mean-field energy:', mf2.e_tot)\n",
    "print('afqmc/ccsd sum single-double excitation terms:',ecorr)\n",
    "print('tot afqmc/ccsd energy:',ecorr+e_mf)\n",
    "print('tot_lno_afqmc/ccsd correlation energy:',lno_ccsd._tot_ccsd_cr(walker,ham_data,wave_data,trial,1e-5))"
   ]
  },
  {
   "cell_type": "code",
   "execution_count": 119,
   "id": "a0f8dcc4",
   "metadata": {},
   "outputs": [
    {
     "data": {
      "text/plain": [
       "Array(-2.18120258, dtype=float64)"
      ]
     },
     "execution_count": 119,
     "metadata": {},
     "output_type": "execute_result"
    }
   ],
   "source": [
    "jnp.real(trial._calc_energy_restricted(walker,ham_data,wave_data))"
   ]
  },
  {
   "cell_type": "code",
   "execution_count": 127,
   "id": "09fcb2c6",
   "metadata": {},
   "outputs": [
    {
     "name": "stdout",
     "output_type": "stream",
     "text": [
      "2.29310124732 -4.405561946234566 -2.112460698914566\n"
     ]
    }
   ],
   "source": [
    "print(mf2.energy_nuc(),mf2.energy_elec()[0],mf2.e_tot)"
   ]
  },
  {
   "cell_type": "code",
   "execution_count": 106,
   "id": "47ce59f9",
   "metadata": {},
   "outputs": [
    {
     "name": "stdout",
     "output_type": "stream",
     "text": [
      "-2.1812025822009664\n"
     ]
    }
   ],
   "source": [
    "e_init = jnp.real(trial._calc_energy_restricted(walker,ham_data,wave_data))\n",
    "print(e_init)"
   ]
  },
  {
   "cell_type": "code",
   "execution_count": 133,
   "id": "f08140fc",
   "metadata": {},
   "outputs": [
    {
     "name": "stdout",
     "output_type": "stream",
     "text": [
      "4.405561946234566\n",
      "-0.009747164169830328\n",
      "0.030705359520143017 -0.051134426375230684 -0.038552745120460793 -0.05898181197554846\n",
      "-0.06872897614537879\n"
     ]
    }
   ],
   "source": [
    "hf_cr = lno_ccsd._tot_hf_cr(ham_data['rot_h1'],ham_data['rot_chol'],walker,trial,wave_data)\n",
    "ccsd_cr0,ccsd_cr1,ccsd_cr2,ccsd_cr = _tot_ccsd_cr(walker,ham_data,wave_data,trial,1e-5)\n",
    "print(hf_cr)\n",
    "print(ccsd0,ccsd1,ccsd2,ccsd)\n",
    "print(hf_cr+ccsd_cr)"
   ]
  },
  {
   "cell_type": "code",
   "execution_count": 128,
   "id": "4e14d18a",
   "metadata": {},
   "outputs": [
    {
     "data": {
      "text/plain": [
       "Array(-0.02517512, dtype=float64)"
      ]
     },
     "execution_count": 128,
     "metadata": {},
     "output_type": "execute_result"
    }
   ],
   "source": [
    "lno_ccsd._frg_ccsd_orb_cr(prop_data['walkers'][0],ham_data,wave_data,trial)"
   ]
  },
  {
   "cell_type": "code",
   "execution_count": 129,
   "id": "4ad52b76",
   "metadata": {},
   "outputs": [],
   "source": [
    "prop_data,(blk_energy,blk_hf_orb_cr,blk_ccsd_orb_cr,blk_orb_cr,blk_wt)\\\n",
    "    = lno_ccsd.block_orb(prop_data,ham_data,prop,trial,wave_data,sampler)"
   ]
  },
  {
   "cell_type": "code",
   "execution_count": 134,
   "id": "d370eaee",
   "metadata": {},
   "outputs": [
    {
     "name": "stdout",
     "output_type": "stream",
     "text": [
      "4.405561946234566\n",
      "-0.009747164169830328\n",
      "0.030705359520143017 -0.051134426375230684 -0.038552745120460793 -0.05898181197554846\n",
      "-0.06872897614537879\n"
     ]
    }
   ],
   "source": [
    "walker = prop_data['walkers'][0]\n",
    "hf_cr = lno_ccsd._tot_hf_cr(ham_data['rot_h1'],ham_data['rot_chol'],walker,trial,wave_data)\n",
    "ccsd_cr0,ccsd_cr1,ccsd_cr2,ccsd_cr = _tot_ccsd_cr(walker,ham_data,wave_data,trial,1e-5)\n",
    "print(hf_cr)\n",
    "print(ccsd_cr0,ccsd_cr1,ccsd_cr2,ccsd_cr)\n",
    "print(hf_cr+ccsd_cr)"
   ]
  },
  {
   "cell_type": "code",
   "execution_count": 131,
   "id": "b583bc0e",
   "metadata": {},
   "outputs": [
    {
     "name": "stdout",
     "output_type": "stream",
     "text": [
      "2.29310124732 -6.788713518225568 2.373358607505927 -2.1222536633996407\n",
      "-0.03980199284071267 -0.05042937664142065 -0.09023136948213331\n",
      "-2.2124850328817742\n"
     ]
    }
   ],
   "source": [
    "e0, e1_0, e2_0, e_mf, ecorr1, ecorr2, ecorr \\\n",
    "    = _afqmc_ccsd_corr(walker,ham_data,wave_data,trial)\n",
    "print(e0, e1_0, e2_0, e_mf)\n",
    "print(ecorr1, ecorr2, ecorr)\n",
    "print(ecorr+e_mf)"
   ]
  },
  {
   "cell_type": "code",
   "execution_count": 135,
   "id": "29afce6e",
   "metadata": {},
   "outputs": [
    {
     "name": "stdout",
     "output_type": "stream",
     "text": [
      "-2.112460698914566\n"
     ]
    }
   ],
   "source": [
    "print(mf2.e_tot)"
   ]
  },
  {
   "cell_type": "code",
   "execution_count": 26,
   "id": "09ea032c",
   "metadata": {},
   "outputs": [
    {
     "data": {
      "text/plain": [
       "-0.06851930108543502"
      ]
     },
     "execution_count": 26,
     "metadata": {},
     "output_type": "execute_result"
    }
   ],
   "source": [
    "# AFQMC energy: -2.18098 +/- 0.00002\n",
    "# lno tot_afqmc_cr -0.068465 +/- 0.000043\n",
    "# non-df mean-field energy is -2.112460698914565\n",
    "-2.18098- -2.112460698914565"
   ]
  },
  {
   "cell_type": "code",
   "execution_count": null,
   "id": "6e4ee6ea",
   "metadata": {},
   "outputs": [],
   "source": []
  }
 ],
 "metadata": {
  "kernelspec": {
   "display_name": "lno_pyscf_afqmc",
   "language": "python",
   "name": "python3"
  },
  "language_info": {
   "codemirror_mode": {
    "name": "ipython",
    "version": 3
   },
   "file_extension": ".py",
   "mimetype": "text/x-python",
   "name": "python",
   "nbconvert_exporter": "python",
   "pygments_lexer": "ipython3",
   "version": "3.10.16"
  }
 },
 "nbformat": 4,
 "nbformat_minor": 5
}
